# -*- coding: utf-8 -*-

import folium

# 地図生成
folium_map = folium.Map(location=[35.690921, 139.700258], zoom_start=15)

# 地図表示
folium_map


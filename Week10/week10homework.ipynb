{
 "cells": [
  {
   "cell_type": "markdown",
   "metadata": {},
   "source": [
    "## Final Project Map  \n",
    "Final Project では被爆県広島の復興マップを作ろうと思う。  \n",
    "そこで、原爆が落ちた範囲とpick upした場所をポイントマーカーにして、サークルマップを作る。"
   ]
  },
  {
   "cell_type": "code",
   "execution_count": 2,
   "metadata": {},
   "outputs": [],
   "source": [
    "import pandas as pd\n",
    "import folium\n",
    "import matplotlib.pyplot as plt"
   ]
  },
  {
   "cell_type": "code",
   "execution_count": 6,
   "metadata": {},
   "outputs": [],
   "source": [
    "df = pd.read_csv('Hiroshimadata4.csv')"
   ]
  },
  {
   "cell_type": "code",
   "execution_count": 7,
   "metadata": {},
   "outputs": [
    {
     "data": {
      "text/html": [
       "<div>\n",
       "<style scoped>\n",
       "    .dataframe tbody tr th:only-of-type {\n",
       "        vertical-align: middle;\n",
       "    }\n",
       "\n",
       "    .dataframe tbody tr th {\n",
       "        vertical-align: top;\n",
       "    }\n",
       "\n",
       "    .dataframe thead th {\n",
       "        text-align: right;\n",
       "    }\n",
       "</style>\n",
       "<table border=\"1\" class=\"dataframe\">\n",
       "  <thead>\n",
       "    <tr style=\"text-align: right;\">\n",
       "      <th></th>\n",
       "      <th>name</th>\n",
       "      <th>latitude</th>\n",
       "      <th>longitude</th>\n",
       "      <th>color</th>\n",
       "    </tr>\n",
       "  </thead>\n",
       "  <tbody>\n",
       "    <tr>\n",
       "      <th>0</th>\n",
       "      <td>爆心地</td>\n",
       "      <td>34.395446</td>\n",
       "      <td>132.455053</td>\n",
       "      <td>red</td>\n",
       "    </tr>\n",
       "    <tr>\n",
       "      <th>1</th>\n",
       "      <td>基町（原爆スラム/応急住宅）</td>\n",
       "      <td>34.398822</td>\n",
       "      <td>132.455094</td>\n",
       "      <td>green</td>\n",
       "    </tr>\n",
       "    <tr>\n",
       "      <th>2</th>\n",
       "      <td>原爆スラム（応急住宅）</td>\n",
       "      <td>34.403618</td>\n",
       "      <td>132.455518</td>\n",
       "      <td>lightgreen</td>\n",
       "    </tr>\n",
       "    <tr>\n",
       "      <th>3</th>\n",
       "      <td>旧広島市民球場</td>\n",
       "      <td>34.397163</td>\n",
       "      <td>132.455283</td>\n",
       "      <td>lightgreen</td>\n",
       "    </tr>\n",
       "    <tr>\n",
       "      <th>4</th>\n",
       "      <td>広島城 天守閣</td>\n",
       "      <td>34.402852</td>\n",
       "      <td>132.459184</td>\n",
       "      <td>blue</td>\n",
       "    </tr>\n",
       "    <tr>\n",
       "      <th>5</th>\n",
       "      <td>平和記念公園</td>\n",
       "      <td>34.392926</td>\n",
       "      <td>132.452394</td>\n",
       "      <td>lightblue</td>\n",
       "    </tr>\n",
       "    <tr>\n",
       "      <th>6</th>\n",
       "      <td>平和記念資料館</td>\n",
       "      <td>34.391725</td>\n",
       "      <td>132.453627</td>\n",
       "      <td>lightblue</td>\n",
       "    </tr>\n",
       "    <tr>\n",
       "      <th>7</th>\n",
       "      <td>広島女学院</td>\n",
       "      <td>34.399150</td>\n",
       "      <td>132.467081</td>\n",
       "      <td>lightgreen</td>\n",
       "    </tr>\n",
       "    <tr>\n",
       "      <th>8</th>\n",
       "      <td>原爆ドーム</td>\n",
       "      <td>34.395696</td>\n",
       "      <td>132.453552</td>\n",
       "      <td>orange</td>\n",
       "    </tr>\n",
       "    <tr>\n",
       "      <th>9</th>\n",
       "      <td>広島県庁</td>\n",
       "      <td>34.396776</td>\n",
       "      <td>132.460368</td>\n",
       "      <td>green</td>\n",
       "    </tr>\n",
       "  </tbody>\n",
       "</table>\n",
       "</div>"
      ],
      "text/plain": [
       "             name   latitude   longitude       color\n",
       "0             爆心地  34.395446  132.455053         red\n",
       "1  基町（原爆スラム/応急住宅）  34.398822  132.455094       green\n",
       "2     原爆スラム（応急住宅）  34.403618  132.455518  lightgreen\n",
       "3         旧広島市民球場  34.397163  132.455283  lightgreen\n",
       "4         広島城 天守閣  34.402852  132.459184        blue\n",
       "5          平和記念公園  34.392926  132.452394   lightblue\n",
       "6         平和記念資料館  34.391725  132.453627   lightblue\n",
       "7           広島女学院  34.399150  132.467081  lightgreen\n",
       "8           原爆ドーム  34.395696  132.453552      orange\n",
       "9            広島県庁  34.396776  132.460368       green"
      ]
     },
     "execution_count": 7,
     "metadata": {},
     "output_type": "execute_result"
    }
   ],
   "source": [
    "df "
   ]
  },
  {
   "cell_type": "code",
   "execution_count": 8,
   "metadata": {},
   "outputs": [
    {
     "data": {
      "text/plain": [
       "(10, 4)"
      ]
     },
     "execution_count": 8,
     "metadata": {},
     "output_type": "execute_result"
    }
   ],
   "source": [
    "df.shape"
   ]
  },
  {
   "cell_type": "code",
   "execution_count": 9,
   "metadata": {},
   "outputs": [
    {
     "name": "stdout",
     "output_type": "stream",
     "text": [
      "<class 'pandas.core.frame.DataFrame'>\n",
      "RangeIndex: 10 entries, 0 to 9\n",
      "Data columns (total 4 columns):\n",
      " #   Column     Non-Null Count  Dtype  \n",
      "---  ------     --------------  -----  \n",
      " 0   name       10 non-null     object \n",
      " 1   latitude   10 non-null     float64\n",
      " 2   longitude  10 non-null     float64\n",
      " 3   color      10 non-null     object \n",
      "dtypes: float64(2), object(2)\n",
      "memory usage: 452.0+ bytes\n"
     ]
    }
   ],
   "source": [
    "# information about the data\n",
    "df.info()"
   ]
  },
  {
   "cell_type": "code",
   "execution_count": 10,
   "metadata": {},
   "outputs": [
    {
     "data": {
      "text/plain": [
       "['name', 'latitude', 'longitude', 'color']"
      ]
     },
     "execution_count": 10,
     "metadata": {},
     "output_type": "execute_result"
    }
   ],
   "source": [
    "df.columns.to_list()"
   ]
  },
  {
   "cell_type": "code",
   "execution_count": 11,
   "metadata": {},
   "outputs": [
    {
     "data": {
      "text/html": [
       "<div>\n",
       "<style scoped>\n",
       "    .dataframe tbody tr th:only-of-type {\n",
       "        vertical-align: middle;\n",
       "    }\n",
       "\n",
       "    .dataframe tbody tr th {\n",
       "        vertical-align: top;\n",
       "    }\n",
       "\n",
       "    .dataframe thead th {\n",
       "        text-align: right;\n",
       "    }\n",
       "</style>\n",
       "<table border=\"1\" class=\"dataframe\">\n",
       "  <thead>\n",
       "    <tr style=\"text-align: right;\">\n",
       "      <th></th>\n",
       "      <th>name</th>\n",
       "      <th>latitude</th>\n",
       "      <th>longitude</th>\n",
       "    </tr>\n",
       "  </thead>\n",
       "  <tbody>\n",
       "    <tr>\n",
       "      <th>0</th>\n",
       "      <td>爆心地</td>\n",
       "      <td>34.395446</td>\n",
       "      <td>132.455053</td>\n",
       "    </tr>\n",
       "    <tr>\n",
       "      <th>1</th>\n",
       "      <td>基町（原爆スラム/応急住宅）</td>\n",
       "      <td>34.398822</td>\n",
       "      <td>132.455094</td>\n",
       "    </tr>\n",
       "    <tr>\n",
       "      <th>2</th>\n",
       "      <td>原爆スラム（応急住宅）</td>\n",
       "      <td>34.403618</td>\n",
       "      <td>132.455518</td>\n",
       "    </tr>\n",
       "    <tr>\n",
       "      <th>3</th>\n",
       "      <td>旧広島市民球場</td>\n",
       "      <td>34.397163</td>\n",
       "      <td>132.455283</td>\n",
       "    </tr>\n",
       "    <tr>\n",
       "      <th>4</th>\n",
       "      <td>広島城 天守閣</td>\n",
       "      <td>34.402852</td>\n",
       "      <td>132.459184</td>\n",
       "    </tr>\n",
       "    <tr>\n",
       "      <th>5</th>\n",
       "      <td>平和記念公園</td>\n",
       "      <td>34.392926</td>\n",
       "      <td>132.452394</td>\n",
       "    </tr>\n",
       "    <tr>\n",
       "      <th>6</th>\n",
       "      <td>平和記念資料館</td>\n",
       "      <td>34.391725</td>\n",
       "      <td>132.453627</td>\n",
       "    </tr>\n",
       "    <tr>\n",
       "      <th>7</th>\n",
       "      <td>広島女学院</td>\n",
       "      <td>34.399150</td>\n",
       "      <td>132.467081</td>\n",
       "    </tr>\n",
       "    <tr>\n",
       "      <th>8</th>\n",
       "      <td>原爆ドーム</td>\n",
       "      <td>34.395696</td>\n",
       "      <td>132.453552</td>\n",
       "    </tr>\n",
       "    <tr>\n",
       "      <th>9</th>\n",
       "      <td>広島県庁</td>\n",
       "      <td>34.396776</td>\n",
       "      <td>132.460368</td>\n",
       "    </tr>\n",
       "  </tbody>\n",
       "</table>\n",
       "</div>"
      ],
      "text/plain": [
       "             name   latitude   longitude\n",
       "0             爆心地  34.395446  132.455053\n",
       "1  基町（原爆スラム/応急住宅）  34.398822  132.455094\n",
       "2     原爆スラム（応急住宅）  34.403618  132.455518\n",
       "3         旧広島市民球場  34.397163  132.455283\n",
       "4         広島城 天守閣  34.402852  132.459184\n",
       "5          平和記念公園  34.392926  132.452394\n",
       "6         平和記念資料館  34.391725  132.453627\n",
       "7           広島女学院  34.399150  132.467081\n",
       "8           原爆ドーム  34.395696  132.453552\n",
       "9            広島県庁  34.396776  132.460368"
      ]
     },
     "execution_count": 11,
     "metadata": {},
     "output_type": "execute_result"
    }
   ],
   "source": [
    "df[['name','latitude','longitude']]"
   ]
  },
  {
   "cell_type": "code",
   "execution_count": 12,
   "metadata": {},
   "outputs": [
    {
     "data": {
      "text/plain": [
       "0    132.455053\n",
       "1    132.455094\n",
       "2    132.455518\n",
       "3    132.455283\n",
       "4    132.459184\n",
       "5    132.452394\n",
       "6    132.453627\n",
       "7    132.467081\n",
       "8    132.453552\n",
       "9    132.460368\n",
       "Name: longitude, dtype: float64"
      ]
     },
     "execution_count": 12,
     "metadata": {},
     "output_type": "execute_result"
    }
   ],
   "source": [
    "df['longitude']"
   ]
  },
  {
   "cell_type": "code",
   "execution_count": 13,
   "metadata": {},
   "outputs": [
    {
     "data": {
      "text/plain": [
       "[34.39544552,\n",
       " 34.39882171,\n",
       " 34.40361827,\n",
       " 34.39716287,\n",
       " 34.40285186,\n",
       " 34.39292571,\n",
       " 34.39172533,\n",
       " 34.39914952,\n",
       " 34.395696,\n",
       " 34.39677554]"
      ]
     },
     "execution_count": 13,
     "metadata": {},
     "output_type": "execute_result"
    }
   ],
   "source": [
    "df['latitude'].to_list()"
   ]
  },
  {
   "cell_type": "code",
   "execution_count": 14,
   "metadata": {},
   "outputs": [
    {
     "data": {
      "text/plain": [
       "<Axes: >"
      ]
     },
     "execution_count": 14,
     "metadata": {},
     "output_type": "execute_result"
    },
    {
     "data": {
      "image/png": "[encoded data removed]",
      "text/plain": [
       "<Figure size 640x480 with 1 Axes>"
      ]
     },
     "metadata": {},
     "output_type": "display_data"
    }
   ],
   "source": [
    "# line chart\n",
    "df['latitude'].plot()"
   ]
  },
  {
   "cell_type": "code",
   "execution_count": 15,
   "metadata": {},
   "outputs": [
    {
     "data": {
      "text/plain": [
       "<Axes: >"
      ]
     },
     "execution_count": 15,
     "metadata": {},
     "output_type": "execute_result"
    },
    {
     "data": {
      "image/png": "[encoded data removed]",
      "text/plain": [
       "<Figure size 640x480 with 1 Axes>"
      ]
     },
     "metadata": {},
     "output_type": "display_data"
    }
   ],
   "source": [
    "# boxplot 箱ヒゲ図\n",
    "df['latitude'].plot.box(color='red')"
   ]
  },
  {
   "cell_type": "code",
   "execution_count": 16,
   "metadata": {},
   "outputs": [
    {
     "data": {
      "text/plain": [
       "<Axes: >"
      ]
     },
     "execution_count": 16,
     "metadata": {},
     "output_type": "execute_result"
    },
    {
     "data": {
      "image/png": "[encoded data removed]",
      "text/plain": [
       "<Figure size 640x480 with 1 Axes>"
      ]
     },
     "metadata": {},
     "output_type": "display_data"
    }
   ],
   "source": [
    "# bar graph\n",
    "df['latitude'].plot.bar(color='green')"
   ]
  },
  {
   "cell_type": "code",
   "execution_count": 17,
   "metadata": {},
   "outputs": [
    {
     "data": {
      "text/plain": [
       "<Axes: xlabel='longitude', ylabel='latitude'>"
      ]
     },
     "execution_count": 17,
     "metadata": {},
     "output_type": "execute_result"
    },
    {
     "data": {
      "image/png": "[encoded data removed]",
      "text/plain": [
       "<Figure size 640x480 with 1 Axes>"
      ]
     },
     "metadata": {},
     "output_type": "display_data"
    }
   ],
   "source": [
    "df.plot.scatter(x='longitude',y='latitude',c='color',s=60)"
   ]
  },
  {
   "cell_type": "code",
   "execution_count": 18,
   "metadata": {},
   "outputs": [
    {
     "data": {
      "text/plain": [
       "count    10.000000\n",
       "mean     34.397417\n",
       "std       0.003842\n",
       "min      34.391725\n",
       "25%      34.395508\n",
       "50%      34.396969\n",
       "75%      34.399068\n",
       "max      34.403618\n",
       "Name: latitude, dtype: float64"
      ]
     },
     "execution_count": 18,
     "metadata": {},
     "output_type": "execute_result"
    }
   ],
   "source": [
    "df['latitude'].describe()"
   ]
  },
  {
   "cell_type": "code",
   "execution_count": 19,
   "metadata": {},
   "outputs": [
    {
     "data": {
      "text/plain": [
       "count     10.000000\n",
       "mean     132.456716\n",
       "std        0.004397\n",
       "min      132.452394\n",
       "25%      132.453983\n",
       "50%      132.455189\n",
       "75%      132.458268\n",
       "max      132.467081\n",
       "Name: longitude, dtype: float64"
      ]
     },
     "execution_count": 19,
     "metadata": {},
     "output_type": "execute_result"
    }
   ],
   "source": [
    "df['longitude'].describe()"
   ]
  },
  {
   "cell_type": "code",
   "execution_count": 20,
   "metadata": {},
   "outputs": [
    {
     "data": {
      "text/plain": [
       "34.397417233000006"
      ]
     },
     "execution_count": 20,
     "metadata": {},
     "output_type": "execute_result"
    }
   ],
   "source": [
    "# mean 平均値\n",
    "df['latitude'].mean()"
   ]
  },
  {
   "cell_type": "code",
   "execution_count": 21,
   "metadata": {},
   "outputs": [
    {
     "data": {
      "text/plain": [
       "34.396969205000005"
      ]
     },
     "execution_count": 21,
     "metadata": {},
     "output_type": "execute_result"
    }
   ],
   "source": [
    "# median 中央値\n",
    "df['latitude'].median()"
   ]
  },
  {
   "cell_type": "code",
   "execution_count": 22,
   "metadata": {},
   "outputs": [
    {
     "name": "stdout",
     "output_type": "stream",
     "text": [
      "34.397417233000006 132.45671552\n"
     ]
    }
   ],
   "source": [
    "center_lat = df['latitude'].mean()\n",
    "center_lon = df['longitude'].mean()\n",
    "\n",
    "print(center_lat,center_lon)"
   ]
  },
  {
   "cell_type": "code",
   "execution_count": 23,
   "metadata": {},
   "outputs": [
    {
     "name": "stdout",
     "output_type": "stream",
     "text": [
      "爆心地 34.39544552\n",
      "基町（原爆スラム/応急住宅） 34.39882171\n",
      "原爆スラム（応急住宅） 34.40361827\n",
      "旧広島市民球場 34.39716287\n",
      "広島城 天守閣 34.40285186\n",
      "平和記念公園 34.39292571\n",
      "平和記念資料館 34.39172533\n",
      "広島女学院 34.39914952\n",
      "原爆ドーム 34.395696\n",
      "広島県庁 34.39677554\n"
     ]
    }
   ],
   "source": [
    "for index, row in df.iterrows():\n",
    "    print(row['name'],row['latitude'])"
   ]
  },
  {
   "cell_type": "code",
   "execution_count": 24,
   "metadata": {},
   "outputs": [
    {
     "name": "stdout",
     "output_type": "stream",
     "text": [
      "爆心地 34.39544552 132.4550527\n",
      "基町（原爆スラム/応急住宅） 34.39882171 132.4550942\n",
      "原爆スラム（応急住宅） 34.40361827 132.4555176\n",
      "旧広島市民球場 34.39716287 132.4552834\n",
      "広島城 天守閣 34.40285186 132.4591845\n",
      "平和記念公園 34.39292571 132.4523943\n",
      "平和記念資料館 34.39172533 132.453627\n",
      "広島女学院 34.39914952 132.4670808\n",
      "原爆ドーム 34.395696 132.4535523\n",
      "広島県庁 34.39677554 132.4603684\n"
     ]
    }
   ],
   "source": [
    "for index, row in df.iterrows():\n",
    "    print(row['name'],row['latitude'],row['longitude'])"
   ]
  },
  {
   "cell_type": "markdown",
   "metadata": {},
   "source": [
    "## Make Map!"
   ]
  },
  {
   "cell_type": "code",
   "execution_count": 25,
   "metadata": {},
   "outputs": [
    {
     "data": {
      "text/html": [
       "<div style=\"width:100%;\"><div style=\"position:relative;width:100%;height:0;padding-bottom:60%;\"><span style=\"color:#565656\">Make this Notebook Trusted to load map: File -> Trust Notebook</span><iframe srcdoc=\"&lt;!DOCTYPE html&gt;\n",
       "&lt;html&gt;\n",
       "&lt;head&gt;\n",
       "    \n",
       "    &lt;meta http-equiv=&quot;content-type&quot; content=&quot;text/html; charset=UTF-8&quot; /&gt;\n",
       "    \n",
       "        &lt;script&gt;\n",
       "            L_NO_TOUCH = false;\n",
       "            L_DISABLE_3D = false;\n",
       "        &lt;/script&gt;\n",
       "    \n",
       "    &lt;style&gt;html, body {width: 100%;height: 100%;margin: 0;padding: 0;}&lt;/style&gt;\n",
       "    &lt;style&gt;#map {position:absolute;top:0;bottom:0;right:0;left:0;}&lt;/style&gt;\n",
       "    &lt;script src=&quot;https://cdn.jsdelivr.net/npm/leaflet@1.9.3/dist/leaflet.js&quot;&gt;&lt;/script&gt;\n",
       "    &lt;script src=&quot;https://code.jquery.com/jquery-3.7.1.min.js&quot;&gt;&lt;/script&gt;\n",
       "    &lt;script src=&quot;https://cdn.jsdelivr.net/npm/bootstrap@5.2.2/dist/js/bootstrap.bundle.min.js&quot;&gt;&lt;/script&gt;\n",
       "    &lt;script src=&quot;https://cdnjs.cloudflare.com/ajax/libs/Leaflet.awesome-markers/2.0.2/leaflet.awesome-markers.js&quot;&gt;&lt;/script&gt;\n",
       "    &lt;link rel=&quot;stylesheet&quot; href=&quot;https://cdn.jsdelivr.net/npm/leaflet@1.9.3/dist/leaflet.css&quot;/&gt;\n",
       "    &lt;link rel=&quot;stylesheet&quot; href=&quot;https://cdn.jsdelivr.net/npm/bootstrap@5.2.2/dist/css/bootstrap.min.css&quot;/&gt;\n",
       "    &lt;link rel=&quot;stylesheet&quot; href=&quot;https://netdna.bootstrapcdn.com/bootstrap/3.0.0/css/bootstrap.min.css&quot;/&gt;\n",
       "    &lt;link rel=&quot;stylesheet&quot; href=&quot;https://cdn.jsdelivr.net/npm/@fortawesome/fontawesome-free@6.2.0/css/all.min.css&quot;/&gt;\n",
       "    &lt;link rel=&quot;stylesheet&quot; href=&quot;https://cdnjs.cloudflare.com/ajax/libs/Leaflet.awesome-markers/2.0.2/leaflet.awesome-markers.css&quot;/&gt;\n",
       "    &lt;link rel=&quot;stylesheet&quot; href=&quot;https://cdn.jsdelivr.net/gh/python-visualization/folium/folium/templates/leaflet.awesome.rotate.min.css&quot;/&gt;\n",
       "    \n",
       "            &lt;meta name=&quot;viewport&quot; content=&quot;width=device-width,\n",
       "                initial-scale=1.0, maximum-scale=1.0, user-scalable=no&quot; /&gt;\n",
       "            &lt;style&gt;\n",
       "                #map_5eaac935bb2ab62e5ef7a92dd66188d1 {\n",
       "                    position: relative;\n",
       "                    width: 100.0%;\n",
       "                    height: 100.0%;\n",
       "                    left: 0.0%;\n",
       "                    top: 0.0%;\n",
       "                }\n",
       "                .leaflet-container { font-size: 1rem; }\n",
       "            &lt;/style&gt;\n",
       "        \n",
       "&lt;/head&gt;\n",
       "&lt;body&gt;\n",
       "    \n",
       "    \n",
       "            &lt;div class=&quot;folium-map&quot; id=&quot;map_5eaac935bb2ab62e5ef7a92dd66188d1&quot; &gt;&lt;/div&gt;\n",
       "        \n",
       "&lt;/body&gt;\n",
       "&lt;script&gt;\n",
       "    \n",
       "    \n",
       "            var map_5eaac935bb2ab62e5ef7a92dd66188d1 = L.map(\n",
       "                &quot;map_5eaac935bb2ab62e5ef7a92dd66188d1&quot;,\n",
       "                {\n",
       "                    center: [34.397417233000006, 132.45671552],\n",
       "                    crs: L.CRS.EPSG3857,\n",
       "                    zoom: 15,\n",
       "                    zoomControl: true,\n",
       "                    preferCanvas: false,\n",
       "                }\n",
       "            );\n",
       "\n",
       "            \n",
       "\n",
       "        \n",
       "    \n",
       "            var tile_layer_940c33b9080d2d051364dd5f1aa15aae = L.tileLayer(\n",
       "                &quot;https://tile.openstreetmap.org/{z}/{x}/{y}.png&quot;,\n",
       "                {&quot;attribution&quot;: &quot;\\u56fd\\u571f\\u5730\\u7406\\u9662&quot;, &quot;detectRetina&quot;: false, &quot;maxNativeZoom&quot;: 19, &quot;maxZoom&quot;: 19, &quot;minZoom&quot;: 0, &quot;noWrap&quot;: false, &quot;opacity&quot;: 1, &quot;subdomains&quot;: &quot;abc&quot;, &quot;tms&quot;: false}\n",
       "            );\n",
       "        \n",
       "    \n",
       "            tile_layer_940c33b9080d2d051364dd5f1aa15aae.addTo(map_5eaac935bb2ab62e5ef7a92dd66188d1);\n",
       "        \n",
       "    \n",
       "            var marker_5dd0b78cee5d2bd97c0ab705bd73e928 = L.marker(\n",
       "                [34.39544552, 132.4550527],\n",
       "                {}\n",
       "            ).addTo(map_5eaac935bb2ab62e5ef7a92dd66188d1);\n",
       "        \n",
       "    \n",
       "            var icon_aeb004cd8895072b565e079e9eafc643 = L.AwesomeMarkers.icon(\n",
       "                {&quot;extraClasses&quot;: &quot;fa-rotate-0&quot;, &quot;icon&quot;: &quot;info-sign&quot;, &quot;iconColor&quot;: &quot;white&quot;, &quot;markerColor&quot;: &quot;red&quot;, &quot;prefix&quot;: &quot;glyphicon&quot;}\n",
       "            );\n",
       "            marker_5dd0b78cee5d2bd97c0ab705bd73e928.setIcon(icon_aeb004cd8895072b565e079e9eafc643);\n",
       "        \n",
       "    \n",
       "        var popup_633c62c16362e16b58066bd8707dc8c2 = L.popup({&quot;maxWidth&quot;: &quot;100%&quot;});\n",
       "\n",
       "        \n",
       "            \n",
       "                var html_9febc821da1e322cd911a54c226f71c3 = $(`&lt;div id=&quot;html_9febc821da1e322cd911a54c226f71c3&quot; style=&quot;width: 100.0%; height: 100.0%;&quot;&gt;&lt;div style=&quot;width:950px&quot;&gt;爆心地&lt;/div&gt;&lt;/div&gt;`)[0];\n",
       "                popup_633c62c16362e16b58066bd8707dc8c2.setContent(html_9febc821da1e322cd911a54c226f71c3);\n",
       "            \n",
       "        \n",
       "\n",
       "        marker_5dd0b78cee5d2bd97c0ab705bd73e928.bindPopup(popup_633c62c16362e16b58066bd8707dc8c2)\n",
       "        ;\n",
       "\n",
       "        \n",
       "    \n",
       "    \n",
       "            marker_5dd0b78cee5d2bd97c0ab705bd73e928.bindTooltip(\n",
       "                `&lt;div&gt;\n",
       "                     爆心地\n",
       "                 &lt;/div&gt;`,\n",
       "                {&quot;sticky&quot;: true}\n",
       "            );\n",
       "        \n",
       "    \n",
       "            var marker_3af0f327064531d03bb9dbd762289fd4 = L.marker(\n",
       "                [34.39882171, 132.4550942],\n",
       "                {}\n",
       "            ).addTo(map_5eaac935bb2ab62e5ef7a92dd66188d1);\n",
       "        \n",
       "    \n",
       "            var icon_41eacc265e579fa33b7652483cf09661 = L.AwesomeMarkers.icon(\n",
       "                {&quot;extraClasses&quot;: &quot;fa-rotate-0&quot;, &quot;icon&quot;: &quot;info-sign&quot;, &quot;iconColor&quot;: &quot;white&quot;, &quot;markerColor&quot;: &quot;green&quot;, &quot;prefix&quot;: &quot;glyphicon&quot;}\n",
       "            );\n",
       "            marker_3af0f327064531d03bb9dbd762289fd4.setIcon(icon_41eacc265e579fa33b7652483cf09661);\n",
       "        \n",
       "    \n",
       "        var popup_4e570f3ed587586c53e841ff365ae5ac = L.popup({&quot;maxWidth&quot;: &quot;100%&quot;});\n",
       "\n",
       "        \n",
       "            \n",
       "                var html_fa163f7b9db9e3f9d2744309edb3e468 = $(`&lt;div id=&quot;html_fa163f7b9db9e3f9d2744309edb3e468&quot; style=&quot;width: 100.0%; height: 100.0%;&quot;&gt;&lt;div style=&quot;width:950px&quot;&gt;基町（原爆スラム/応急住宅）&lt;/div&gt;&lt;/div&gt;`)[0];\n",
       "                popup_4e570f3ed587586c53e841ff365ae5ac.setContent(html_fa163f7b9db9e3f9d2744309edb3e468);\n",
       "            \n",
       "        \n",
       "\n",
       "        marker_3af0f327064531d03bb9dbd762289fd4.bindPopup(popup_4e570f3ed587586c53e841ff365ae5ac)\n",
       "        ;\n",
       "\n",
       "        \n",
       "    \n",
       "    \n",
       "            marker_3af0f327064531d03bb9dbd762289fd4.bindTooltip(\n",
       "                `&lt;div&gt;\n",
       "                     基町（原爆スラム/応急住宅）\n",
       "                 &lt;/div&gt;`,\n",
       "                {&quot;sticky&quot;: true}\n",
       "            );\n",
       "        \n",
       "    \n",
       "            var marker_9b0a5d7ddbb7940fea1a4cd328b72bba = L.marker(\n",
       "                [34.40361827, 132.4555176],\n",
       "                {}\n",
       "            ).addTo(map_5eaac935bb2ab62e5ef7a92dd66188d1);\n",
       "        \n",
       "    \n",
       "            var icon_a389830736188c233c7918d687b3aa36 = L.AwesomeMarkers.icon(\n",
       "                {&quot;extraClasses&quot;: &quot;fa-rotate-0&quot;, &quot;icon&quot;: &quot;info-sign&quot;, &quot;iconColor&quot;: &quot;white&quot;, &quot;markerColor&quot;: &quot;lightgreen&quot;, &quot;prefix&quot;: &quot;glyphicon&quot;}\n",
       "            );\n",
       "            marker_9b0a5d7ddbb7940fea1a4cd328b72bba.setIcon(icon_a389830736188c233c7918d687b3aa36);\n",
       "        \n",
       "    \n",
       "        var popup_3e9a195da528de593d90fdbfe4a896bc = L.popup({&quot;maxWidth&quot;: &quot;100%&quot;});\n",
       "\n",
       "        \n",
       "            \n",
       "                var html_4c78a19a1fa6e887386f2546572a7037 = $(`&lt;div id=&quot;html_4c78a19a1fa6e887386f2546572a7037&quot; style=&quot;width: 100.0%; height: 100.0%;&quot;&gt;&lt;div style=&quot;width:950px&quot;&gt;原爆スラム（応急住宅）&lt;/div&gt;&lt;/div&gt;`)[0];\n",
       "                popup_3e9a195da528de593d90fdbfe4a896bc.setContent(html_4c78a19a1fa6e887386f2546572a7037);\n",
       "            \n",
       "        \n",
       "\n",
       "        marker_9b0a5d7ddbb7940fea1a4cd328b72bba.bindPopup(popup_3e9a195da528de593d90fdbfe4a896bc)\n",
       "        ;\n",
       "\n",
       "        \n",
       "    \n",
       "    \n",
       "            marker_9b0a5d7ddbb7940fea1a4cd328b72bba.bindTooltip(\n",
       "                `&lt;div&gt;\n",
       "                     原爆スラム（応急住宅）\n",
       "                 &lt;/div&gt;`,\n",
       "                {&quot;sticky&quot;: true}\n",
       "            );\n",
       "        \n",
       "    \n",
       "            var marker_2758a43eea8c5e9c686c98b4be91164c = L.marker(\n",
       "                [34.39716287, 132.4552834],\n",
       "                {}\n",
       "            ).addTo(map_5eaac935bb2ab62e5ef7a92dd66188d1);\n",
       "        \n",
       "    \n",
       "            var icon_9de6d8a2bc1c343ae68436f8b9c01acc = L.AwesomeMarkers.icon(\n",
       "                {&quot;extraClasses&quot;: &quot;fa-rotate-0&quot;, &quot;icon&quot;: &quot;info-sign&quot;, &quot;iconColor&quot;: &quot;white&quot;, &quot;markerColor&quot;: &quot;lightgreen&quot;, &quot;prefix&quot;: &quot;glyphicon&quot;}\n",
       "            );\n",
       "            marker_2758a43eea8c5e9c686c98b4be91164c.setIcon(icon_9de6d8a2bc1c343ae68436f8b9c01acc);\n",
       "        \n",
       "    \n",
       "        var popup_96d99b67e94719b58e5da6baded3daf5 = L.popup({&quot;maxWidth&quot;: &quot;100%&quot;});\n",
       "\n",
       "        \n",
       "            \n",
       "                var html_d528bc124b4aa6a20b2c1cf729a17739 = $(`&lt;div id=&quot;html_d528bc124b4aa6a20b2c1cf729a17739&quot; style=&quot;width: 100.0%; height: 100.0%;&quot;&gt;&lt;div style=&quot;width:950px&quot;&gt;旧広島市民球場&lt;/div&gt;&lt;/div&gt;`)[0];\n",
       "                popup_96d99b67e94719b58e5da6baded3daf5.setContent(html_d528bc124b4aa6a20b2c1cf729a17739);\n",
       "            \n",
       "        \n",
       "\n",
       "        marker_2758a43eea8c5e9c686c98b4be91164c.bindPopup(popup_96d99b67e94719b58e5da6baded3daf5)\n",
       "        ;\n",
       "\n",
       "        \n",
       "    \n",
       "    \n",
       "            marker_2758a43eea8c5e9c686c98b4be91164c.bindTooltip(\n",
       "                `&lt;div&gt;\n",
       "                     旧広島市民球場\n",
       "                 &lt;/div&gt;`,\n",
       "                {&quot;sticky&quot;: true}\n",
       "            );\n",
       "        \n",
       "    \n",
       "            var marker_bd47aceb1842163c338f9de08fdce04c = L.marker(\n",
       "                [34.40285186, 132.4591845],\n",
       "                {}\n",
       "            ).addTo(map_5eaac935bb2ab62e5ef7a92dd66188d1);\n",
       "        \n",
       "    \n",
       "            var icon_cf1c18d38d4f6599f0628a916d4c95b0 = L.AwesomeMarkers.icon(\n",
       "                {&quot;extraClasses&quot;: &quot;fa-rotate-0&quot;, &quot;icon&quot;: &quot;info-sign&quot;, &quot;iconColor&quot;: &quot;white&quot;, &quot;markerColor&quot;: &quot;blue&quot;, &quot;prefix&quot;: &quot;glyphicon&quot;}\n",
       "            );\n",
       "            marker_bd47aceb1842163c338f9de08fdce04c.setIcon(icon_cf1c18d38d4f6599f0628a916d4c95b0);\n",
       "        \n",
       "    \n",
       "        var popup_d24051fdf6ff342bec4f464837c267d3 = L.popup({&quot;maxWidth&quot;: &quot;100%&quot;});\n",
       "\n",
       "        \n",
       "            \n",
       "                var html_7ee2a2945fe9091d579590f709bf1388 = $(`&lt;div id=&quot;html_7ee2a2945fe9091d579590f709bf1388&quot; style=&quot;width: 100.0%; height: 100.0%;&quot;&gt;&lt;div style=&quot;width:950px&quot;&gt;広島城 天守閣&lt;/div&gt;&lt;/div&gt;`)[0];\n",
       "                popup_d24051fdf6ff342bec4f464837c267d3.setContent(html_7ee2a2945fe9091d579590f709bf1388);\n",
       "            \n",
       "        \n",
       "\n",
       "        marker_bd47aceb1842163c338f9de08fdce04c.bindPopup(popup_d24051fdf6ff342bec4f464837c267d3)\n",
       "        ;\n",
       "\n",
       "        \n",
       "    \n",
       "    \n",
       "            marker_bd47aceb1842163c338f9de08fdce04c.bindTooltip(\n",
       "                `&lt;div&gt;\n",
       "                     広島城 天守閣\n",
       "                 &lt;/div&gt;`,\n",
       "                {&quot;sticky&quot;: true}\n",
       "            );\n",
       "        \n",
       "    \n",
       "            var marker_dd6403f9e67fa9e6b7d74a416cd60ab1 = L.marker(\n",
       "                [34.39292571, 132.4523943],\n",
       "                {}\n",
       "            ).addTo(map_5eaac935bb2ab62e5ef7a92dd66188d1);\n",
       "        \n",
       "    \n",
       "            var icon_3547e3583117a721b851d6dbbad94c9f = L.AwesomeMarkers.icon(\n",
       "                {&quot;extraClasses&quot;: &quot;fa-rotate-0&quot;, &quot;icon&quot;: &quot;info-sign&quot;, &quot;iconColor&quot;: &quot;white&quot;, &quot;markerColor&quot;: &quot;lightblue&quot;, &quot;prefix&quot;: &quot;glyphicon&quot;}\n",
       "            );\n",
       "            marker_dd6403f9e67fa9e6b7d74a416cd60ab1.setIcon(icon_3547e3583117a721b851d6dbbad94c9f);\n",
       "        \n",
       "    \n",
       "        var popup_b1b6c358c999261c924b049c2bc3407f = L.popup({&quot;maxWidth&quot;: &quot;100%&quot;});\n",
       "\n",
       "        \n",
       "            \n",
       "                var html_ad2cd794781f089230385a803775f269 = $(`&lt;div id=&quot;html_ad2cd794781f089230385a803775f269&quot; style=&quot;width: 100.0%; height: 100.0%;&quot;&gt;&lt;div style=&quot;width:950px&quot;&gt;平和記念公園&lt;/div&gt;&lt;/div&gt;`)[0];\n",
       "                popup_b1b6c358c999261c924b049c2bc3407f.setContent(html_ad2cd794781f089230385a803775f269);\n",
       "            \n",
       "        \n",
       "\n",
       "        marker_dd6403f9e67fa9e6b7d74a416cd60ab1.bindPopup(popup_b1b6c358c999261c924b049c2bc3407f)\n",
       "        ;\n",
       "\n",
       "        \n",
       "    \n",
       "    \n",
       "            marker_dd6403f9e67fa9e6b7d74a416cd60ab1.bindTooltip(\n",
       "                `&lt;div&gt;\n",
       "                     平和記念公園\n",
       "                 &lt;/div&gt;`,\n",
       "                {&quot;sticky&quot;: true}\n",
       "            );\n",
       "        \n",
       "    \n",
       "            var marker_2ec5fa6e4d71bebca8c8bba937cf6249 = L.marker(\n",
       "                [34.39172533, 132.453627],\n",
       "                {}\n",
       "            ).addTo(map_5eaac935bb2ab62e5ef7a92dd66188d1);\n",
       "        \n",
       "    \n",
       "            var icon_4fd1273dc73ef9ba1d7abe6669d4e2dd = L.AwesomeMarkers.icon(\n",
       "                {&quot;extraClasses&quot;: &quot;fa-rotate-0&quot;, &quot;icon&quot;: &quot;info-sign&quot;, &quot;iconColor&quot;: &quot;white&quot;, &quot;markerColor&quot;: &quot;lightblue&quot;, &quot;prefix&quot;: &quot;glyphicon&quot;}\n",
       "            );\n",
       "            marker_2ec5fa6e4d71bebca8c8bba937cf6249.setIcon(icon_4fd1273dc73ef9ba1d7abe6669d4e2dd);\n",
       "        \n",
       "    \n",
       "        var popup_bf76d400c04ea4a0688c82ce20b58a82 = L.popup({&quot;maxWidth&quot;: &quot;100%&quot;});\n",
       "\n",
       "        \n",
       "            \n",
       "                var html_51c883eca611694d80f5b33111d3eb51 = $(`&lt;div id=&quot;html_51c883eca611694d80f5b33111d3eb51&quot; style=&quot;width: 100.0%; height: 100.0%;&quot;&gt;&lt;div style=&quot;width:950px&quot;&gt;平和記念資料館&lt;/div&gt;&lt;/div&gt;`)[0];\n",
       "                popup_bf76d400c04ea4a0688c82ce20b58a82.setContent(html_51c883eca611694d80f5b33111d3eb51);\n",
       "            \n",
       "        \n",
       "\n",
       "        marker_2ec5fa6e4d71bebca8c8bba937cf6249.bindPopup(popup_bf76d400c04ea4a0688c82ce20b58a82)\n",
       "        ;\n",
       "\n",
       "        \n",
       "    \n",
       "    \n",
       "            marker_2ec5fa6e4d71bebca8c8bba937cf6249.bindTooltip(\n",
       "                `&lt;div&gt;\n",
       "                     平和記念資料館\n",
       "                 &lt;/div&gt;`,\n",
       "                {&quot;sticky&quot;: true}\n",
       "            );\n",
       "        \n",
       "    \n",
       "            var marker_99888e1ebafdc4ad66a8cee25fb0edde = L.marker(\n",
       "                [34.39914952, 132.4670808],\n",
       "                {}\n",
       "            ).addTo(map_5eaac935bb2ab62e5ef7a92dd66188d1);\n",
       "        \n",
       "    \n",
       "            var icon_ae83a06048ef079c9c0144bc620e3559 = L.AwesomeMarkers.icon(\n",
       "                {&quot;extraClasses&quot;: &quot;fa-rotate-0&quot;, &quot;icon&quot;: &quot;info-sign&quot;, &quot;iconColor&quot;: &quot;white&quot;, &quot;markerColor&quot;: &quot;lightgreen&quot;, &quot;prefix&quot;: &quot;glyphicon&quot;}\n",
       "            );\n",
       "            marker_99888e1ebafdc4ad66a8cee25fb0edde.setIcon(icon_ae83a06048ef079c9c0144bc620e3559);\n",
       "        \n",
       "    \n",
       "        var popup_2d156162264f109ffe466e306564c9cc = L.popup({&quot;maxWidth&quot;: &quot;100%&quot;});\n",
       "\n",
       "        \n",
       "            \n",
       "                var html_2c63a4f6b87e23cb9b62c2258b7bb652 = $(`&lt;div id=&quot;html_2c63a4f6b87e23cb9b62c2258b7bb652&quot; style=&quot;width: 100.0%; height: 100.0%;&quot;&gt;&lt;div style=&quot;width:950px&quot;&gt;広島女学院&lt;/div&gt;&lt;/div&gt;`)[0];\n",
       "                popup_2d156162264f109ffe466e306564c9cc.setContent(html_2c63a4f6b87e23cb9b62c2258b7bb652);\n",
       "            \n",
       "        \n",
       "\n",
       "        marker_99888e1ebafdc4ad66a8cee25fb0edde.bindPopup(popup_2d156162264f109ffe466e306564c9cc)\n",
       "        ;\n",
       "\n",
       "        \n",
       "    \n",
       "    \n",
       "            marker_99888e1ebafdc4ad66a8cee25fb0edde.bindTooltip(\n",
       "                `&lt;div&gt;\n",
       "                     広島女学院\n",
       "                 &lt;/div&gt;`,\n",
       "                {&quot;sticky&quot;: true}\n",
       "            );\n",
       "        \n",
       "    \n",
       "            var marker_80afae3ca7a001ce43220185a4c0693e = L.marker(\n",
       "                [34.395696, 132.4535523],\n",
       "                {}\n",
       "            ).addTo(map_5eaac935bb2ab62e5ef7a92dd66188d1);\n",
       "        \n",
       "    \n",
       "            var icon_3641a1abd0f6d317831c6ea4bfc3fcad = L.AwesomeMarkers.icon(\n",
       "                {&quot;extraClasses&quot;: &quot;fa-rotate-0&quot;, &quot;icon&quot;: &quot;info-sign&quot;, &quot;iconColor&quot;: &quot;white&quot;, &quot;markerColor&quot;: &quot;orange&quot;, &quot;prefix&quot;: &quot;glyphicon&quot;}\n",
       "            );\n",
       "            marker_80afae3ca7a001ce43220185a4c0693e.setIcon(icon_3641a1abd0f6d317831c6ea4bfc3fcad);\n",
       "        \n",
       "    \n",
       "        var popup_89a5ded884abe34e3ba5340373089042 = L.popup({&quot;maxWidth&quot;: &quot;100%&quot;});\n",
       "\n",
       "        \n",
       "            \n",
       "                var html_0e9b858b827c98894ed914960cfbc346 = $(`&lt;div id=&quot;html_0e9b858b827c98894ed914960cfbc346&quot; style=&quot;width: 100.0%; height: 100.0%;&quot;&gt;&lt;div style=&quot;width:950px&quot;&gt;原爆ドーム&lt;/div&gt;&lt;/div&gt;`)[0];\n",
       "                popup_89a5ded884abe34e3ba5340373089042.setContent(html_0e9b858b827c98894ed914960cfbc346);\n",
       "            \n",
       "        \n",
       "\n",
       "        marker_80afae3ca7a001ce43220185a4c0693e.bindPopup(popup_89a5ded884abe34e3ba5340373089042)\n",
       "        ;\n",
       "\n",
       "        \n",
       "    \n",
       "    \n",
       "            marker_80afae3ca7a001ce43220185a4c0693e.bindTooltip(\n",
       "                `&lt;div&gt;\n",
       "                     原爆ドーム\n",
       "                 &lt;/div&gt;`,\n",
       "                {&quot;sticky&quot;: true}\n",
       "            );\n",
       "        \n",
       "    \n",
       "            var marker_fa619eb99a960ec880fb0ce089fe85fe = L.marker(\n",
       "                [34.39677554, 132.4603684],\n",
       "                {}\n",
       "            ).addTo(map_5eaac935bb2ab62e5ef7a92dd66188d1);\n",
       "        \n",
       "    \n",
       "            var icon_6b9d41e102bb2e810f334b69648fb805 = L.AwesomeMarkers.icon(\n",
       "                {&quot;extraClasses&quot;: &quot;fa-rotate-0&quot;, &quot;icon&quot;: &quot;info-sign&quot;, &quot;iconColor&quot;: &quot;white&quot;, &quot;markerColor&quot;: &quot;green&quot;, &quot;prefix&quot;: &quot;glyphicon&quot;}\n",
       "            );\n",
       "            marker_fa619eb99a960ec880fb0ce089fe85fe.setIcon(icon_6b9d41e102bb2e810f334b69648fb805);\n",
       "        \n",
       "    \n",
       "        var popup_6a762a454e47b93ab03a7a399d8c5ad6 = L.popup({&quot;maxWidth&quot;: &quot;100%&quot;});\n",
       "\n",
       "        \n",
       "            \n",
       "                var html_018ff33a7037d5c1decd6f04dc32edbc = $(`&lt;div id=&quot;html_018ff33a7037d5c1decd6f04dc32edbc&quot; style=&quot;width: 100.0%; height: 100.0%;&quot;&gt;&lt;div style=&quot;width:950px&quot;&gt;広島県庁&lt;/div&gt;&lt;/div&gt;`)[0];\n",
       "                popup_6a762a454e47b93ab03a7a399d8c5ad6.setContent(html_018ff33a7037d5c1decd6f04dc32edbc);\n",
       "            \n",
       "        \n",
       "\n",
       "        marker_fa619eb99a960ec880fb0ce089fe85fe.bindPopup(popup_6a762a454e47b93ab03a7a399d8c5ad6)\n",
       "        ;\n",
       "\n",
       "        \n",
       "    \n",
       "    \n",
       "            marker_fa619eb99a960ec880fb0ce089fe85fe.bindTooltip(\n",
       "                `&lt;div&gt;\n",
       "                     広島県庁\n",
       "                 &lt;/div&gt;`,\n",
       "                {&quot;sticky&quot;: true}\n",
       "            );\n",
       "        \n",
       "    \n",
       "            var circle_f4e215eb8aa0f768f8118304fb38f573 = L.circle(\n",
       "                [34.39544552, 132.4550527],\n",
       "                {&quot;bubblingMouseEvents&quot;: true, &quot;color&quot;: &quot;#ff0000&quot;, &quot;dashArray&quot;: null, &quot;dashOffset&quot;: null, &quot;fill&quot;: true, &quot;fillColor&quot;: &quot;#0000ff&quot;, &quot;fillOpacity&quot;: 0.2, &quot;fillRule&quot;: &quot;evenodd&quot;, &quot;lineCap&quot;: &quot;round&quot;, &quot;lineJoin&quot;: &quot;round&quot;, &quot;opacity&quot;: 1.0, &quot;radius&quot;: 2000, &quot;stroke&quot;: true, &quot;weight&quot;: 3}\n",
       "            ).addTo(map_5eaac935bb2ab62e5ef7a92dd66188d1);\n",
       "        \n",
       "&lt;/script&gt;\n",
       "&lt;/html&gt;\" style=\"position:absolute;width:100%;height:100%;left:0;top:0;border:none !important;\" allowfullscreen webkitallowfullscreen mozallowfullscreen></iframe></div></div>"
      ],
      "text/plain": [
       "<folium.folium.Map at 0x1522df950>"
      ]
     },
     "execution_count": 25,
     "metadata": {},
     "output_type": "execute_result"
    }
   ],
   "source": [
    "# make the map\n",
    "m = folium.Map(location=[center_lat,center_lon],\n",
    "               zoom_start=15,\n",
    "               attr = '国土地理院')\n",
    "\n",
    "# df をループしてマーカーを作る\n",
    "for index, row in df.iterrows():\n",
    "    latlon = [row['latitude'],row['longitude']]\n",
    "    folium.Marker(latlon,\n",
    "                  popup='<div style=\"width:950px\">'+row['name']+'</div>',\n",
    "                  tooltip=row['name'],\n",
    "                  icon=folium.Icon(color=row['color']\n",
    "                )).add_to(m)\n",
    "    \n",
    "# サークルマーカープロット(外径色は赤，内径色は青)\n",
    "folium.Circle(\n",
    "    location=[34.39544552,132.4550527],\n",
    "    radius=2000,\n",
    "    color='#ff0000',\n",
    "    fill_color='#0000ff'\n",
    ").add_to(m)\n",
    "\n",
    "# show the map\n",
    "m"
   ]
  },
  {
   "cell_type": "markdown",
   "metadata": {},
   "source": [
    "## Memo  \n",
    "ここにleaf.mapというライブラリを入れて、国土地理院の写真を1945年のものを上乗せして、白黒にすることで、リアルな生きたマップを作ることができると思う。昔の白黒写真と現代の技術を使うことで新しいものが生まれるのは非常に興味深い発見だと思う。"
   ]
  }
 ],
 "metadata": {
  "kernelspec": {
   "display_name": "gis",
   "language": "python",
   "name": "python3"
  },
  "language_info": {
   "codemirror_mode": {
    "name": "ipython",
    "version": 3
   },
   "file_extension": ".py",
   "mimetype": "text/x-python",
   "name": "python",
   "nbconvert_exporter": "python",
   "pygments_lexer": "ipython3",
   "version": "3.11.5"
  }
 },
 "nbformat": 4,
 "nbformat_minor": 2
}

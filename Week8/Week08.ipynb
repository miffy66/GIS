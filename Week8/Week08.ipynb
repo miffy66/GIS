{
 "cells": [
  {
   "cell_type": "markdown",
   "metadata": {
    "slideshow": {
     "slide_type": "slide"
    }
   },
   "source": [
    "# 自転車犯罪マップ\n",
    "\n",
    "<img src=\"https://raw.githubusercontent.com/yohman/23-1-Reitaku-GIS/main/Weeks/Week08/images/crime map.png\" width=600>\n",
    "\n",
    "このラボの目的:\n",
    "\n",
    "- オープンデータソースからデータを取得し、Python ノートブックにインポート\n",
    "- 複数の列から単一の住所フィールドを作成\n",
    "- 緯度と経度の座標を割り当てて各行をジオコーディング\n",
    "- 美しいチャートや地図を作成"
   ]
  },
  {
   "cell_type": "markdown",
   "metadata": {
    "slideshow": {
     "slide_type": "slide"
    }
   },
   "source": [
    "## ライブラリをインポートする\n",
    "\n",
    "このラボで使うライブラリーを一気にインポートしよう。"
   ]
  },
  {
   "cell_type": "code",
   "execution_count": 42,
   "metadata": {
    "slideshow": {
     "slide_type": "fragment"
    }
   },
   "outputs": [],
   "source": [
    "## for spatial analysis\n",
    "import geopandas as gpdk\n",
    "\n",
    "## for data analysis\n",
    "import pandas as pd\n",
    "\n",
    "## for pretty charts\n",
    "import plotly.express as px\n",
    "\n",
    "# for plotly themes\n",
    "import plotly.io as pio\n",
    "\n",
    "## for URL requests\n",
    "import urllib.request\n",
    "import requests\n",
    "\n",
    "## for maps\n",
    "import folium\n",
    "from folium import plugins"
   ]
  },
  {
   "cell_type": "markdown",
   "metadata": {},
   "source": [
    "# オープンデータとは？\n",
    "\n",
    "どんなプロジェクトでも、どんなマップでもデータが必要です。でも「いい」データって意外となかったりするので、イメージしていたマップが作れないことがよくある。そこで、最近政府機関がオープンデータを提供する方向性があり、あらゆる行政がCSVやEXCELフォーマットでデータをダウンロードできるように提供している。\n",
    "\n",
    "Let's find some open data!\n",
    "\n",
    "Here is an example:\n",
    "\n",
    "https://www.pref.chiba.lg.jp/shoufuku/opendata/techoutoukei.html"
   ]
  },
  {
   "cell_type": "markdown",
   "metadata": {
    "slideshow": {
     "slide_type": "slide"
    }
   },
   "source": [
    "## 自転車盗難データをダウンロード\n",
    "\n",
    "<img src=\"https://raw.githubusercontent.com/yohman/23-1-Reitaku-GIS/main/Weeks/Week08/images/Chiba%20police.png\" width=400>\n",
    "\n",
    "まずは千葉県警察のサイトにアクセス。そこから次に手順でデータをダウンロード：\n",
    "\n",
    "➡️ https://www.police.pref.chiba.jp/\n",
    "\n",
    "➡️ 安全な暮らし\n",
    "\n",
    "➡️ 地域の防犯\n",
    "\n",
    "➡️ あなたの町の犯罪情勢\n",
    "\n",
    "➡️ オープンデータ\n",
    "\n",
    "➡️ 自転車盗（CSV）"
   ]
  },
  {
   "cell_type": "markdown",
   "metadata": {
    "slideshow": {
     "slide_type": "slide"
    }
   },
   "source": [
    "ダウンロードしたファイルを `chibike.csv` と名付けて、このフォルダー（Week08) にセーブ。"
   ]
  },
  {
   "cell_type": "code",
   "execution_count": 43,
   "metadata": {},
   "outputs": [],
   "source": [
    "# ダウンロードしたデータを読み込もう\n",
    "df = pd.read_csv('chibike.csv', encoding='cp932')"
   ]
  },
  {
   "cell_type": "code",
   "execution_count": 44,
   "metadata": {
    "slideshow": {
     "slide_type": "slide"
    }
   },
   "outputs": [
    {
     "name": "stdout",
     "output_type": "stream",
     "text": [
      "<class 'pandas.core.frame.DataFrame'>\n",
      "RangeIndex: 7346 entries, 0 to 7345\n",
      "Data columns (total 15 columns):\n",
      " #   Column         Non-Null Count  Dtype \n",
      "---  ------         --------------  ----- \n",
      " 0   罪名             7346 non-null   object\n",
      " 1   手口             7346 non-null   object\n",
      " 2   管轄警察署（発生地）     7346 non-null   object\n",
      " 3   管轄交番・駐在所（発生地）  7343 non-null   object\n",
      " 4   市区町村コード（発生地）   7346 non-null   int64 \n",
      " 5   都道府県（発生地）      7346 non-null   object\n",
      " 6   市区町村（発生地）      7346 non-null   object\n",
      " 7   町丁目（発生地）       7330 non-null   object\n",
      " 8   発生年月日（始期）      7346 non-null   object\n",
      " 9   発生時（始期）        7346 non-null   object\n",
      " 10  発生場所           7346 non-null   object\n",
      " 11  発生場所の詳細        7346 non-null   object\n",
      " 12  被害者の年齢         7346 non-null   object\n",
      " 13  被害者の職業         7346 non-null   object\n",
      " 14  施錠関係           7346 non-null   object\n",
      "dtypes: int64(1), object(14)\n",
      "memory usage: 861.0+ KB\n"
     ]
    }
   ],
   "source": [
    "# データの情報\n",
    "df.info()"
   ]
  },
  {
   "cell_type": "markdown",
   "metadata": {
    "slideshow": {
     "slide_type": "slide"
    }
   },
   "source": [
    "Wow! ７千件もある！ちょっと多いので場所で絞りましょう。<h1>「柏」</h1>だけのデータフレームを作ろう。"
   ]
  },
  {
   "cell_type": "code",
   "execution_count": 45,
   "metadata": {},
   "outputs": [],
   "source": [
    "kashiwa = df[df['管轄警察署（発生地）'] == '柏'].copy()"
   ]
  },
  {
   "cell_type": "code",
   "execution_count": 46,
   "metadata": {
    "slideshow": {
     "slide_type": "slide"
    }
   },
   "outputs": [
    {
     "data": {
      "text/html": [
       "<div>\n",
       "<style scoped>\n",
       "    .dataframe tbody tr th:only-of-type {\n",
       "        vertical-align: middle;\n",
       "    }\n",
       "\n",
       "    .dataframe tbody tr th {\n",
       "        vertical-align: top;\n",
       "    }\n",
       "\n",
       "    .dataframe thead th {\n",
       "        text-align: right;\n",
       "    }\n",
       "</style>\n",
       "<table border=\"1\" class=\"dataframe\">\n",
       "  <thead>\n",
       "    <tr style=\"text-align: right;\">\n",
       "      <th></th>\n",
       "      <th>罪名</th>\n",
       "      <th>手口</th>\n",
       "      <th>管轄警察署（発生地）</th>\n",
       "      <th>管轄交番・駐在所（発生地）</th>\n",
       "      <th>市区町村コード（発生地）</th>\n",
       "      <th>都道府県（発生地）</th>\n",
       "      <th>市区町村（発生地）</th>\n",
       "      <th>町丁目（発生地）</th>\n",
       "      <th>発生年月日（始期）</th>\n",
       "      <th>発生時（始期）</th>\n",
       "      <th>発生場所</th>\n",
       "      <th>発生場所の詳細</th>\n",
       "      <th>被害者の年齢</th>\n",
       "      <th>被害者の職業</th>\n",
       "      <th>施錠関係</th>\n",
       "    </tr>\n",
       "  </thead>\n",
       "  <tbody>\n",
       "    <tr>\n",
       "      <th>3187</th>\n",
       "      <td>窃盗</td>\n",
       "      <td>自転車盗</td>\n",
       "      <td>柏</td>\n",
       "      <td>緑ヶ丘交番</td>\n",
       "      <td>122173</td>\n",
       "      <td>千葉県</td>\n",
       "      <td>柏市</td>\n",
       "      <td>若葉町</td>\n",
       "      <td>2022-08-07</td>\n",
       "      <td>15</td>\n",
       "      <td>その他の住宅（３階建て以下共同住宅等）</td>\n",
       "      <td>駐車（輪）場</td>\n",
       "      <td>40歳代</td>\n",
       "      <td>その他</td>\n",
       "      <td>施錠した</td>\n",
       "    </tr>\n",
       "    <tr>\n",
       "      <th>2884</th>\n",
       "      <td>窃盗</td>\n",
       "      <td>自転車盗</td>\n",
       "      <td>柏</td>\n",
       "      <td>南柏駅前交番</td>\n",
       "      <td>122173</td>\n",
       "      <td>千葉県</td>\n",
       "      <td>柏市</td>\n",
       "      <td>豊四季</td>\n",
       "      <td>2022-12-11</td>\n",
       "      <td>13</td>\n",
       "      <td>その他</td>\n",
       "      <td>その他</td>\n",
       "      <td>10歳代</td>\n",
       "      <td>中学生</td>\n",
       "      <td>施錠せず</td>\n",
       "    </tr>\n",
       "    <tr>\n",
       "      <th>3210</th>\n",
       "      <td>窃盗</td>\n",
       "      <td>自転車盗</td>\n",
       "      <td>柏</td>\n",
       "      <td>花野井交番</td>\n",
       "      <td>122173</td>\n",
       "      <td>千葉県</td>\n",
       "      <td>柏市</td>\n",
       "      <td>花野井</td>\n",
       "      <td>2022-08-02</td>\n",
       "      <td>20</td>\n",
       "      <td>その他の住宅（３階建て以下共同住宅等）</td>\n",
       "      <td>駐車（輪）場</td>\n",
       "      <td>20歳代</td>\n",
       "      <td>その他</td>\n",
       "      <td>施錠せず</td>\n",
       "    </tr>\n",
       "    <tr>\n",
       "      <th>2797</th>\n",
       "      <td>窃盗</td>\n",
       "      <td>自転車盗</td>\n",
       "      <td>柏</td>\n",
       "      <td>北柏駅前交番</td>\n",
       "      <td>122173</td>\n",
       "      <td>千葉県</td>\n",
       "      <td>柏市</td>\n",
       "      <td>柏</td>\n",
       "      <td>不明</td>\n",
       "      <td>不明</td>\n",
       "      <td>４階建て以上共同住宅</td>\n",
       "      <td>駐車（輪）場</td>\n",
       "      <td>40歳代</td>\n",
       "      <td>その他</td>\n",
       "      <td>施錠した</td>\n",
       "    </tr>\n",
       "    <tr>\n",
       "      <th>2782</th>\n",
       "      <td>窃盗</td>\n",
       "      <td>自転車盗</td>\n",
       "      <td>柏</td>\n",
       "      <td>光ヶ丘交番</td>\n",
       "      <td>122173</td>\n",
       "      <td>千葉県</td>\n",
       "      <td>柏市</td>\n",
       "      <td>酒井根３丁目</td>\n",
       "      <td>2022-11-13</td>\n",
       "      <td>21</td>\n",
       "      <td>一戸建住宅</td>\n",
       "      <td>駐車（輪）場</td>\n",
       "      <td>10歳代</td>\n",
       "      <td>高校生</td>\n",
       "      <td>施錠せず</td>\n",
       "    </tr>\n",
       "  </tbody>\n",
       "</table>\n",
       "</div>"
      ],
      "text/plain": [
       "      罪名    手口 管轄警察署（発生地） 管轄交番・駐在所（発生地）  市区町村コード（発生地） 都道府県（発生地） 市区町村（発生地）  \\\n",
       "3187  窃盗  自転車盗          柏         緑ヶ丘交番        122173       千葉県        柏市   \n",
       "2884  窃盗  自転車盗          柏        南柏駅前交番        122173       千葉県        柏市   \n",
       "3210  窃盗  自転車盗          柏         花野井交番        122173       千葉県        柏市   \n",
       "2797  窃盗  自転車盗          柏        北柏駅前交番        122173       千葉県        柏市   \n",
       "2782  窃盗  自転車盗          柏         光ヶ丘交番        122173       千葉県        柏市   \n",
       "\n",
       "     町丁目（発生地）   発生年月日（始期） 発生時（始期）                 発生場所 発生場所の詳細 被害者の年齢 被害者の職業  \\\n",
       "3187      若葉町  2022-08-07      15  その他の住宅（３階建て以下共同住宅等）  駐車（輪）場   40歳代    その他   \n",
       "2884      豊四季  2022-12-11      13                  その他     その他   10歳代    中学生   \n",
       "3210      花野井  2022-08-02      20  その他の住宅（３階建て以下共同住宅等）  駐車（輪）場   20歳代    その他   \n",
       "2797        柏          不明      不明           ４階建て以上共同住宅  駐車（輪）場   40歳代    その他   \n",
       "2782   酒井根３丁目  2022-11-13      21                一戸建住宅  駐車（輪）場   10歳代    高校生   \n",
       "\n",
       "      施錠関係  \n",
       "3187  施錠した  \n",
       "2884  施錠せず  \n",
       "3210  施錠せず  \n",
       "2797  施錠した  \n",
       "2782  施錠せず  "
      ]
     },
     "execution_count": 46,
     "metadata": {},
     "output_type": "execute_result"
    }
   ],
   "source": [
    "# データをチェック\n",
    "kashiwa.sample(5)"
   ]
  },
  {
   "cell_type": "markdown",
   "metadata": {
    "slideshow": {
     "slide_type": "slide"
    }
   },
   "source": [
    "### `value_counts`でチャート\n",
    "\n",
    "このデータを見て、咄嗟に知りたいものってなんでしょう？\n",
    "\n",
    "例えば、<h1>「1日の何時に自転車の盗難が一番発生するの？」</h1>の質問に答えるためにはどのようなデータ分析が必要でしょうか？\n",
    "\n",
    "では、そのチャートを作ってみましょう。"
   ]
  },
  {
   "cell_type": "markdown",
   "metadata": {
    "slideshow": {
     "slide_type": "slide"
    }
   },
   "source": [
    "データには **【発生時（始期）】** のカラムがあるので、各時間帯のカウントを`value_counts()`で調べる。最後に足される`reset_index()`で結果をデータフレームに変換します。"
   ]
  },
  {
   "cell_type": "code",
   "execution_count": 47,
   "metadata": {},
   "outputs": [
    {
     "data": {
      "text/html": [
       "<div>\n",
       "<style scoped>\n",
       "    .dataframe tbody tr th:only-of-type {\n",
       "        vertical-align: middle;\n",
       "    }\n",
       "\n",
       "    .dataframe tbody tr th {\n",
       "        vertical-align: top;\n",
       "    }\n",
       "\n",
       "    .dataframe thead th {\n",
       "        text-align: right;\n",
       "    }\n",
       "</style>\n",
       "<table border=\"1\" class=\"dataframe\">\n",
       "  <thead>\n",
       "    <tr style=\"text-align: right;\">\n",
       "      <th></th>\n",
       "      <th>発生時（始期）</th>\n",
       "      <th>count</th>\n",
       "    </tr>\n",
       "  </thead>\n",
       "  <tbody>\n",
       "    <tr>\n",
       "      <th>0</th>\n",
       "      <td>18</td>\n",
       "      <td>44</td>\n",
       "    </tr>\n",
       "    <tr>\n",
       "      <th>1</th>\n",
       "      <td>19</td>\n",
       "      <td>39</td>\n",
       "    </tr>\n",
       "    <tr>\n",
       "      <th>2</th>\n",
       "      <td>08</td>\n",
       "      <td>37</td>\n",
       "    </tr>\n",
       "    <tr>\n",
       "      <th>3</th>\n",
       "      <td>16</td>\n",
       "      <td>36</td>\n",
       "    </tr>\n",
       "    <tr>\n",
       "      <th>4</th>\n",
       "      <td>20</td>\n",
       "      <td>33</td>\n",
       "    </tr>\n",
       "    <tr>\n",
       "      <th>5</th>\n",
       "      <td>17</td>\n",
       "      <td>32</td>\n",
       "    </tr>\n",
       "    <tr>\n",
       "      <th>6</th>\n",
       "      <td>12</td>\n",
       "      <td>28</td>\n",
       "    </tr>\n",
       "    <tr>\n",
       "      <th>7</th>\n",
       "      <td>13</td>\n",
       "      <td>25</td>\n",
       "    </tr>\n",
       "    <tr>\n",
       "      <th>8</th>\n",
       "      <td>15</td>\n",
       "      <td>24</td>\n",
       "    </tr>\n",
       "    <tr>\n",
       "      <th>9</th>\n",
       "      <td>07</td>\n",
       "      <td>23</td>\n",
       "    </tr>\n",
       "    <tr>\n",
       "      <th>10</th>\n",
       "      <td>14</td>\n",
       "      <td>20</td>\n",
       "    </tr>\n",
       "    <tr>\n",
       "      <th>11</th>\n",
       "      <td>10</td>\n",
       "      <td>20</td>\n",
       "    </tr>\n",
       "    <tr>\n",
       "      <th>12</th>\n",
       "      <td>21</td>\n",
       "      <td>19</td>\n",
       "    </tr>\n",
       "    <tr>\n",
       "      <th>13</th>\n",
       "      <td>11</td>\n",
       "      <td>19</td>\n",
       "    </tr>\n",
       "    <tr>\n",
       "      <th>14</th>\n",
       "      <td>09</td>\n",
       "      <td>18</td>\n",
       "    </tr>\n",
       "    <tr>\n",
       "      <th>15</th>\n",
       "      <td>06</td>\n",
       "      <td>12</td>\n",
       "    </tr>\n",
       "    <tr>\n",
       "      <th>16</th>\n",
       "      <td>22</td>\n",
       "      <td>11</td>\n",
       "    </tr>\n",
       "    <tr>\n",
       "      <th>17</th>\n",
       "      <td>00</td>\n",
       "      <td>9</td>\n",
       "    </tr>\n",
       "    <tr>\n",
       "      <th>18</th>\n",
       "      <td>23</td>\n",
       "      <td>9</td>\n",
       "    </tr>\n",
       "    <tr>\n",
       "      <th>19</th>\n",
       "      <td>不明</td>\n",
       "      <td>6</td>\n",
       "    </tr>\n",
       "    <tr>\n",
       "      <th>20</th>\n",
       "      <td>05</td>\n",
       "      <td>3</td>\n",
       "    </tr>\n",
       "    <tr>\n",
       "      <th>21</th>\n",
       "      <td>04</td>\n",
       "      <td>2</td>\n",
       "    </tr>\n",
       "    <tr>\n",
       "      <th>22</th>\n",
       "      <td>02</td>\n",
       "      <td>1</td>\n",
       "    </tr>\n",
       "    <tr>\n",
       "      <th>23</th>\n",
       "      <td>01</td>\n",
       "      <td>1</td>\n",
       "    </tr>\n",
       "  </tbody>\n",
       "</table>\n",
       "</div>"
      ],
      "text/plain": [
       "   発生時（始期）  count\n",
       "0       18     44\n",
       "1       19     39\n",
       "2       08     37\n",
       "3       16     36\n",
       "4       20     33\n",
       "5       17     32\n",
       "6       12     28\n",
       "7       13     25\n",
       "8       15     24\n",
       "9       07     23\n",
       "10      14     20\n",
       "11      10     20\n",
       "12      21     19\n",
       "13      11     19\n",
       "14      09     18\n",
       "15      06     12\n",
       "16      22     11\n",
       "17      00      9\n",
       "18      23      9\n",
       "19      不明      6\n",
       "20      05      3\n",
       "21      04      2\n",
       "22      02      1\n",
       "23      01      1"
      ]
     },
     "execution_count": 47,
     "metadata": {},
     "output_type": "execute_result"
    }
   ],
   "source": [
    "# create a new variable with hourly counts\n",
    "time = kashiwa['発生時（始期）'].value_counts().reset_index()\n",
    "\n",
    "time"
   ]
  },
  {
   "cell_type": "markdown",
   "metadata": {
    "slideshow": {
     "slide_type": "slide"
    }
   },
   "source": [
    "この結果は良いが、カラム名（ヘッダー）を直す必要がある。"
   ]
  },
  {
   "cell_type": "code",
   "execution_count": 48,
   "metadata": {},
   "outputs": [
    {
     "data": {
      "text/html": [
       "<div>\n",
       "<style scoped>\n",
       "    .dataframe tbody tr th:only-of-type {\n",
       "        vertical-align: middle;\n",
       "    }\n",
       "\n",
       "    .dataframe tbody tr th {\n",
       "        vertical-align: top;\n",
       "    }\n",
       "\n",
       "    .dataframe thead th {\n",
       "        text-align: right;\n",
       "    }\n",
       "</style>\n",
       "<table border=\"1\" class=\"dataframe\">\n",
       "  <thead>\n",
       "    <tr style=\"text-align: right;\">\n",
       "      <th></th>\n",
       "      <th>発生時（始期）</th>\n",
       "      <th>件数</th>\n",
       "    </tr>\n",
       "  </thead>\n",
       "  <tbody>\n",
       "    <tr>\n",
       "      <th>0</th>\n",
       "      <td>18</td>\n",
       "      <td>44</td>\n",
       "    </tr>\n",
       "    <tr>\n",
       "      <th>1</th>\n",
       "      <td>19</td>\n",
       "      <td>39</td>\n",
       "    </tr>\n",
       "    <tr>\n",
       "      <th>2</th>\n",
       "      <td>08</td>\n",
       "      <td>37</td>\n",
       "    </tr>\n",
       "    <tr>\n",
       "      <th>3</th>\n",
       "      <td>16</td>\n",
       "      <td>36</td>\n",
       "    </tr>\n",
       "    <tr>\n",
       "      <th>4</th>\n",
       "      <td>20</td>\n",
       "      <td>33</td>\n",
       "    </tr>\n",
       "    <tr>\n",
       "      <th>5</th>\n",
       "      <td>17</td>\n",
       "      <td>32</td>\n",
       "    </tr>\n",
       "    <tr>\n",
       "      <th>6</th>\n",
       "      <td>12</td>\n",
       "      <td>28</td>\n",
       "    </tr>\n",
       "    <tr>\n",
       "      <th>7</th>\n",
       "      <td>13</td>\n",
       "      <td>25</td>\n",
       "    </tr>\n",
       "    <tr>\n",
       "      <th>8</th>\n",
       "      <td>15</td>\n",
       "      <td>24</td>\n",
       "    </tr>\n",
       "    <tr>\n",
       "      <th>9</th>\n",
       "      <td>07</td>\n",
       "      <td>23</td>\n",
       "    </tr>\n",
       "    <tr>\n",
       "      <th>10</th>\n",
       "      <td>14</td>\n",
       "      <td>20</td>\n",
       "    </tr>\n",
       "    <tr>\n",
       "      <th>11</th>\n",
       "      <td>10</td>\n",
       "      <td>20</td>\n",
       "    </tr>\n",
       "    <tr>\n",
       "      <th>12</th>\n",
       "      <td>21</td>\n",
       "      <td>19</td>\n",
       "    </tr>\n",
       "    <tr>\n",
       "      <th>13</th>\n",
       "      <td>11</td>\n",
       "      <td>19</td>\n",
       "    </tr>\n",
       "    <tr>\n",
       "      <th>14</th>\n",
       "      <td>09</td>\n",
       "      <td>18</td>\n",
       "    </tr>\n",
       "    <tr>\n",
       "      <th>15</th>\n",
       "      <td>06</td>\n",
       "      <td>12</td>\n",
       "    </tr>\n",
       "    <tr>\n",
       "      <th>16</th>\n",
       "      <td>22</td>\n",
       "      <td>11</td>\n",
       "    </tr>\n",
       "    <tr>\n",
       "      <th>17</th>\n",
       "      <td>00</td>\n",
       "      <td>9</td>\n",
       "    </tr>\n",
       "    <tr>\n",
       "      <th>18</th>\n",
       "      <td>23</td>\n",
       "      <td>9</td>\n",
       "    </tr>\n",
       "    <tr>\n",
       "      <th>19</th>\n",
       "      <td>不明</td>\n",
       "      <td>6</td>\n",
       "    </tr>\n",
       "    <tr>\n",
       "      <th>20</th>\n",
       "      <td>05</td>\n",
       "      <td>3</td>\n",
       "    </tr>\n",
       "    <tr>\n",
       "      <th>21</th>\n",
       "      <td>04</td>\n",
       "      <td>2</td>\n",
       "    </tr>\n",
       "    <tr>\n",
       "      <th>22</th>\n",
       "      <td>02</td>\n",
       "      <td>1</td>\n",
       "    </tr>\n",
       "    <tr>\n",
       "      <th>23</th>\n",
       "      <td>01</td>\n",
       "      <td>1</td>\n",
       "    </tr>\n",
       "  </tbody>\n",
       "</table>\n",
       "</div>"
      ],
      "text/plain": [
       "   発生時（始期）  件数\n",
       "0       18  44\n",
       "1       19  39\n",
       "2       08  37\n",
       "3       16  36\n",
       "4       20  33\n",
       "5       17  32\n",
       "6       12  28\n",
       "7       13  25\n",
       "8       15  24\n",
       "9       07  23\n",
       "10      14  20\n",
       "11      10  20\n",
       "12      21  19\n",
       "13      11  19\n",
       "14      09  18\n",
       "15      06  12\n",
       "16      22  11\n",
       "17      00   9\n",
       "18      23   9\n",
       "19      不明   6\n",
       "20      05   3\n",
       "21      04   2\n",
       "22      02   1\n",
       "23      01   1"
      ]
     },
     "execution_count": 48,
     "metadata": {},
     "output_type": "execute_result"
    }
   ],
   "source": [
    "# fix headers\n",
    "time.columns = ['発生時（始期）','件数']\n",
    "time"
   ]
  },
  {
   "cell_type": "markdown",
   "metadata": {
    "slideshow": {
     "slide_type": "slide"
    }
   },
   "source": [
    "いよいよ準備万端。この新しいデータフレームでチャートを作ろう。この場合は plotly express の bar charts を参考。\n",
    "\n",
    "https://plotly.com/python/bar-charts/"
   ]
  },
  {
   "cell_type": "code",
   "execution_count": 49,
   "metadata": {},
   "outputs": [
    {
     "data": {
      "application/vnd.plotly.v1+json": {
       "config": {
        "plotlyServerURL": "https://plot.ly"
       },
       "data": [
        {
         "alignmentgroup": "True",
         "hovertemplate": "発生時（始期）=%{x}<br>件数=%{y}<extra></extra>",
         "legendgroup": "",
         "marker": {
          "color": "#636efa",
          "pattern": {
           "shape": ""
          }
         },
         "name": "",
         "offsetgroup": "",
         "orientation": "v",
         "showlegend": false,
         "textposition": "auto",
         "type": "bar",
         "x": [
          "18",
          "19",
          "08",
          "16",
          "20",
          "17",
          "12",
          "13",
          "15",
          "07",
          "14",
          "10",
          "21",
          "11",
          "09",
          "06",
          "22",
          "00",
          "23",
          "不明",
          "05",
          "04",
          "02",
          "01"
         ],
         "xaxis": "x",
         "y": [
          44,
          39,
          37,
          36,
          33,
          32,
          28,
          25,
          24,
          23,
          20,
          20,
          19,
          19,
          18,
          12,
          11,
          9,
          9,
          6,
          3,
          2,
          1,
          1
         ],
         "yaxis": "y"
        }
       ],
       "layout": {
        "barmode": "relative",
        "legend": {
         "tracegroupgap": 0
        },
        "margin": {
         "t": 60
        },
        "template": {
         "data": {
          "bar": [
           {
            "error_x": {
             "color": "#2a3f5f"
            },
            "error_y": {
             "color": "#2a3f5f"
            },
            "marker": {
             "line": {
              "color": "#E5ECF6",
              "width": 0.5
             },
             "pattern": {
              "fillmode": "overlay",
              "size": 10,
              "solidity": 0.2
             }
            },
            "type": "bar"
           }
          ],
          "barpolar": [
           {
            "marker": {
             "line": {
              "color": "#E5ECF6",
              "width": 0.5
             },
             "pattern": {
              "fillmode": "overlay",
              "size": 10,
              "solidity": 0.2
             }
            },
            "type": "barpolar"
           }
          ],
          "carpet": [
           {
            "aaxis": {
             "endlinecolor": "#2a3f5f",
             "gridcolor": "white",
             "linecolor": "white",
             "minorgridcolor": "white",
             "startlinecolor": "#2a3f5f"
            },
            "baxis": {
             "endlinecolor": "#2a3f5f",
             "gridcolor": "white",
             "linecolor": "white",
             "minorgridcolor": "white",
             "startlinecolor": "#2a3f5f"
            },
            "type": "carpet"
           }
          ],
          "choropleth": [
           {
            "colorbar": {
             "outlinewidth": 0,
             "ticks": ""
            },
            "type": "choropleth"
           }
          ],
          "contour": [
           {
            "colorbar": {
             "outlinewidth": 0,
             "ticks": ""
            },
            "colorscale": [
             [
              0,
              "#0d0887"
             ],
             [
              0.1111111111111111,
              "#46039f"
             ],
             [
              0.2222222222222222,
              "#7201a8"
             ],
             [
              0.3333333333333333,
              "#9c179e"
             ],
             [
              0.4444444444444444,
              "#bd3786"
             ],
             [
              0.5555555555555556,
              "#d8576b"
             ],
             [
              0.6666666666666666,
              "#ed7953"
             ],
             [
              0.7777777777777778,
              "#fb9f3a"
             ],
             [
              0.8888888888888888,
              "#fdca26"
             ],
             [
              1,
              "#f0f921"
             ]
            ],
            "type": "contour"
           }
          ],
          "contourcarpet": [
           {
            "colorbar": {
             "outlinewidth": 0,
             "ticks": ""
            },
            "type": "contourcarpet"
           }
          ],
          "heatmap": [
           {
            "colorbar": {
             "outlinewidth": 0,
             "ticks": ""
            },
            "colorscale": [
             [
              0,
              "#0d0887"
             ],
             [
              0.1111111111111111,
              "#46039f"
             ],
             [
              0.2222222222222222,
              "#7201a8"
             ],
             [
              0.3333333333333333,
              "#9c179e"
             ],
             [
              0.4444444444444444,
              "#bd3786"
             ],
             [
              0.5555555555555556,
              "#d8576b"
             ],
             [
              0.6666666666666666,
              "#ed7953"
             ],
             [
              0.7777777777777778,
              "#fb9f3a"
             ],
             [
              0.8888888888888888,
              "#fdca26"
             ],
             [
              1,
              "#f0f921"
             ]
            ],
            "type": "heatmap"
           }
          ],
          "heatmapgl": [
           {
            "colorbar": {
             "outlinewidth": 0,
             "ticks": ""
            },
            "colorscale": [
             [
              0,
              "#0d0887"
             ],
             [
              0.1111111111111111,
              "#46039f"
             ],
             [
              0.2222222222222222,
              "#7201a8"
             ],
             [
              0.3333333333333333,
              "#9c179e"
             ],
             [
              0.4444444444444444,
              "#bd3786"
             ],
             [
              0.5555555555555556,
              "#d8576b"
             ],
             [
              0.6666666666666666,
              "#ed7953"
             ],
             [
              0.7777777777777778,
              "#fb9f3a"
             ],
             [
              0.8888888888888888,
              "#fdca26"
             ],
             [
              1,
              "#f0f921"
             ]
            ],
            "type": "heatmapgl"
           }
          ],
          "histogram": [
           {
            "marker": {
             "pattern": {
              "fillmode": "overlay",
              "size": 10,
              "solidity": 0.2
             }
            },
            "type": "histogram"
           }
          ],
          "histogram2d": [
           {
            "colorbar": {
             "outlinewidth": 0,
             "ticks": ""
            },
            "colorscale": [
             [
              0,
              "#0d0887"
             ],
             [
              0.1111111111111111,
              "#46039f"
             ],
             [
              0.2222222222222222,
              "#7201a8"
             ],
             [
              0.3333333333333333,
              "#9c179e"
             ],
             [
              0.4444444444444444,
              "#bd3786"
             ],
             [
              0.5555555555555556,
              "#d8576b"
             ],
             [
              0.6666666666666666,
              "#ed7953"
             ],
             [
              0.7777777777777778,
              "#fb9f3a"
             ],
             [
              0.8888888888888888,
              "#fdca26"
             ],
             [
              1,
              "#f0f921"
             ]
            ],
            "type": "histogram2d"
           }
          ],
          "histogram2dcontour": [
           {
            "colorbar": {
             "outlinewidth": 0,
             "ticks": ""
            },
            "colorscale": [
             [
              0,
              "#0d0887"
             ],
             [
              0.1111111111111111,
              "#46039f"
             ],
             [
              0.2222222222222222,
              "#7201a8"
             ],
             [
              0.3333333333333333,
              "#9c179e"
             ],
             [
              0.4444444444444444,
              "#bd3786"
             ],
             [
              0.5555555555555556,
              "#d8576b"
             ],
             [
              0.6666666666666666,
              "#ed7953"
             ],
             [
              0.7777777777777778,
              "#fb9f3a"
             ],
             [
              0.8888888888888888,
              "#fdca26"
             ],
             [
              1,
              "#f0f921"
             ]
            ],
            "type": "histogram2dcontour"
           }
          ],
          "mesh3d": [
           {
            "colorbar": {
             "outlinewidth": 0,
             "ticks": ""
            },
            "type": "mesh3d"
           }
          ],
          "parcoords": [
           {
            "line": {
             "colorbar": {
              "outlinewidth": 0,
              "ticks": ""
             }
            },
            "type": "parcoords"
           }
          ],
          "pie": [
           {
            "automargin": true,
            "type": "pie"
           }
          ],
          "scatter": [
           {
            "fillpattern": {
             "fillmode": "overlay",
             "size": 10,
             "solidity": 0.2
            },
            "type": "scatter"
           }
          ],
          "scatter3d": [
           {
            "line": {
             "colorbar": {
              "outlinewidth": 0,
              "ticks": ""
             }
            },
            "marker": {
             "colorbar": {
              "outlinewidth": 0,
              "ticks": ""
             }
            },
            "type": "scatter3d"
           }
          ],
          "scattercarpet": [
           {
            "marker": {
             "colorbar": {
              "outlinewidth": 0,
              "ticks": ""
             }
            },
            "type": "scattercarpet"
           }
          ],
          "scattergeo": [
           {
            "marker": {
             "colorbar": {
              "outlinewidth": 0,
              "ticks": ""
             }
            },
            "type": "scattergeo"
           }
          ],
          "scattergl": [
           {
            "marker": {
             "colorbar": {
              "outlinewidth": 0,
              "ticks": ""
             }
            },
            "type": "scattergl"
           }
          ],
          "scattermapbox": [
           {
            "marker": {
             "colorbar": {
              "outlinewidth": 0,
              "ticks": ""
             }
            },
            "type": "scattermapbox"
           }
          ],
          "scatterpolar": [
           {
            "marker": {
             "colorbar": {
              "outlinewidth": 0,
              "ticks": ""
             }
            },
            "type": "scatterpolar"
           }
          ],
          "scatterpolargl": [
           {
            "marker": {
             "colorbar": {
              "outlinewidth": 0,
              "ticks": ""
             }
            },
            "type": "scatterpolargl"
           }
          ],
          "scatterternary": [
           {
            "marker": {
             "colorbar": {
              "outlinewidth": 0,
              "ticks": ""
             }
            },
            "type": "scatterternary"
           }
          ],
          "surface": [
           {
            "colorbar": {
             "outlinewidth": 0,
             "ticks": ""
            },
            "colorscale": [
             [
              0,
              "#0d0887"
             ],
             [
              0.1111111111111111,
              "#46039f"
             ],
             [
              0.2222222222222222,
              "#7201a8"
             ],
             [
              0.3333333333333333,
              "#9c179e"
             ],
             [
              0.4444444444444444,
              "#bd3786"
             ],
             [
              0.5555555555555556,
              "#d8576b"
             ],
             [
              0.6666666666666666,
              "#ed7953"
             ],
             [
              0.7777777777777778,
              "#fb9f3a"
             ],
             [
              0.8888888888888888,
              "#fdca26"
             ],
             [
              1,
              "#f0f921"
             ]
            ],
            "type": "surface"
           }
          ],
          "table": [
           {
            "cells": {
             "fill": {
              "color": "#EBF0F8"
             },
             "line": {
              "color": "white"
             }
            },
            "header": {
             "fill": {
              "color": "#C8D4E3"
             },
             "line": {
              "color": "white"
             }
            },
            "type": "table"
           }
          ]
         },
         "layout": {
          "annotationdefaults": {
           "arrowcolor": "#2a3f5f",
           "arrowhead": 0,
           "arrowwidth": 1
          },
          "autotypenumbers": "strict",
          "coloraxis": {
           "colorbar": {
            "outlinewidth": 0,
            "ticks": ""
           }
          },
          "colorscale": {
           "diverging": [
            [
             0,
             "#8e0152"
            ],
            [
             0.1,
             "#c51b7d"
            ],
            [
             0.2,
             "#de77ae"
            ],
            [
             0.3,
             "#f1b6da"
            ],
            [
             0.4,
             "#fde0ef"
            ],
            [
             0.5,
             "#f7f7f7"
            ],
            [
             0.6,
             "#e6f5d0"
            ],
            [
             0.7,
             "#b8e186"
            ],
            [
             0.8,
             "#7fbc41"
            ],
            [
             0.9,
             "#4d9221"
            ],
            [
             1,
             "#276419"
            ]
           ],
           "sequential": [
            [
             0,
             "#0d0887"
            ],
            [
             0.1111111111111111,
             "#46039f"
            ],
            [
             0.2222222222222222,
             "#7201a8"
            ],
            [
             0.3333333333333333,
             "#9c179e"
            ],
            [
             0.4444444444444444,
             "#bd3786"
            ],
            [
             0.5555555555555556,
             "#d8576b"
            ],
            [
             0.6666666666666666,
             "#ed7953"
            ],
            [
             0.7777777777777778,
             "#fb9f3a"
            ],
            [
             0.8888888888888888,
             "#fdca26"
            ],
            [
             1,
             "#f0f921"
            ]
           ],
           "sequentialminus": [
            [
             0,
             "#0d0887"
            ],
            [
             0.1111111111111111,
             "#46039f"
            ],
            [
             0.2222222222222222,
             "#7201a8"
            ],
            [
             0.3333333333333333,
             "#9c179e"
            ],
            [
             0.4444444444444444,
             "#bd3786"
            ],
            [
             0.5555555555555556,
             "#d8576b"
            ],
            [
             0.6666666666666666,
             "#ed7953"
            ],
            [
             0.7777777777777778,
             "#fb9f3a"
            ],
            [
             0.8888888888888888,
             "#fdca26"
            ],
            [
             1,
             "#f0f921"
            ]
           ]
          },
          "colorway": [
           "#636efa",
           "#EF553B",
           "#00cc96",
           "#ab63fa",
           "#FFA15A",
           "#19d3f3",
           "#FF6692",
           "#B6E880",
           "#FF97FF",
           "#FECB52"
          ],
          "font": {
           "color": "#2a3f5f"
          },
          "geo": {
           "bgcolor": "white",
           "lakecolor": "white",
           "landcolor": "#E5ECF6",
           "showlakes": true,
           "showland": true,
           "subunitcolor": "white"
          },
          "hoverlabel": {
           "align": "left"
          },
          "hovermode": "closest",
          "mapbox": {
           "style": "light"
          },
          "paper_bgcolor": "white",
          "plot_bgcolor": "#E5ECF6",
          "polar": {
           "angularaxis": {
            "gridcolor": "white",
            "linecolor": "white",
            "ticks": ""
           },
           "bgcolor": "#E5ECF6",
           "radialaxis": {
            "gridcolor": "white",
            "linecolor": "white",
            "ticks": ""
           }
          },
          "scene": {
           "xaxis": {
            "backgroundcolor": "#E5ECF6",
            "gridcolor": "white",
            "gridwidth": 2,
            "linecolor": "white",
            "showbackground": true,
            "ticks": "",
            "zerolinecolor": "white"
           },
           "yaxis": {
            "backgroundcolor": "#E5ECF6",
            "gridcolor": "white",
            "gridwidth": 2,
            "linecolor": "white",
            "showbackground": true,
            "ticks": "",
            "zerolinecolor": "white"
           },
           "zaxis": {
            "backgroundcolor": "#E5ECF6",
            "gridcolor": "white",
            "gridwidth": 2,
            "linecolor": "white",
            "showbackground": true,
            "ticks": "",
            "zerolinecolor": "white"
           }
          },
          "shapedefaults": {
           "line": {
            "color": "#2a3f5f"
           }
          },
          "ternary": {
           "aaxis": {
            "gridcolor": "white",
            "linecolor": "white",
            "ticks": ""
           },
           "baxis": {
            "gridcolor": "white",
            "linecolor": "white",
            "ticks": ""
           },
           "bgcolor": "#E5ECF6",
           "caxis": {
            "gridcolor": "white",
            "linecolor": "white",
            "ticks": ""
           }
          },
          "title": {
           "x": 0.05
          },
          "xaxis": {
           "automargin": true,
           "gridcolor": "white",
           "linecolor": "white",
           "ticks": "",
           "title": {
            "standoff": 15
           },
           "zerolinecolor": "white",
           "zerolinewidth": 2
          },
          "yaxis": {
           "automargin": true,
           "gridcolor": "white",
           "linecolor": "white",
           "ticks": "",
           "title": {
            "standoff": 15
           },
           "zerolinecolor": "white",
           "zerolinewidth": 2
          }
         }
        },
        "xaxis": {
         "anchor": "y",
         "domain": [
          0,
          1
         ],
         "title": {
          "text": "発生時（始期）"
         }
        },
        "yaxis": {
         "anchor": "x",
         "domain": [
          0,
          1
         ],
         "title": {
          "text": "件数"
         }
        }
       }
      }
     },
     "metadata": {},
     "output_type": "display_data"
    }
   ],
   "source": [
    "fig = px.bar(time,x='発生時（始期）',y='件数')\n",
    "fig.show()"
   ]
  },
  {
   "cell_type": "markdown",
   "metadata": {
    "slideshow": {
     "slide_type": "slide"
    }
   },
   "source": [
    "ありゃ？順番が件数の多い順になってる。実はx軸のオプションっていっぱいあるんだ！その中の一つでカテゴリーの順番を設定できる。\n",
    "\n",
    "https://plotly.com/python/categorical-axes/"
   ]
  },
  {
   "cell_type": "code",
   "execution_count": 50,
   "metadata": {},
   "outputs": [
    {
     "data": {
      "application/vnd.plotly.v1+json": {
       "config": {
        "plotlyServerURL": "https://plot.ly"
       },
       "data": [
        {
         "alignmentgroup": "True",
         "hovertemplate": "発生時（始期）=%{x}<br>件数=%{y}<extra></extra>",
         "legendgroup": "",
         "marker": {
          "color": "#636efa",
          "pattern": {
           "shape": ""
          }
         },
         "name": "",
         "offsetgroup": "",
         "orientation": "v",
         "showlegend": false,
         "textposition": "auto",
         "type": "bar",
         "x": [
          "18",
          "19",
          "08",
          "16",
          "20",
          "17",
          "12",
          "13",
          "15",
          "07",
          "14",
          "10",
          "21",
          "11",
          "09",
          "06",
          "22",
          "00",
          "23",
          "不明",
          "05",
          "04",
          "02",
          "01"
         ],
         "xaxis": "x",
         "y": [
          44,
          39,
          37,
          36,
          33,
          32,
          28,
          25,
          24,
          23,
          20,
          20,
          19,
          19,
          18,
          12,
          11,
          9,
          9,
          6,
          3,
          2,
          1,
          1
         ],
         "yaxis": "y"
        }
       ],
       "layout": {
        "barmode": "relative",
        "legend": {
         "tracegroupgap": 0
        },
        "margin": {
         "t": 60
        },
        "template": {
         "data": {
          "bar": [
           {
            "error_x": {
             "color": "#2a3f5f"
            },
            "error_y": {
             "color": "#2a3f5f"
            },
            "marker": {
             "line": {
              "color": "#E5ECF6",
              "width": 0.5
             },
             "pattern": {
              "fillmode": "overlay",
              "size": 10,
              "solidity": 0.2
             }
            },
            "type": "bar"
           }
          ],
          "barpolar": [
           {
            "marker": {
             "line": {
              "color": "#E5ECF6",
              "width": 0.5
             },
             "pattern": {
              "fillmode": "overlay",
              "size": 10,
              "solidity": 0.2
             }
            },
            "type": "barpolar"
           }
          ],
          "carpet": [
           {
            "aaxis": {
             "endlinecolor": "#2a3f5f",
             "gridcolor": "white",
             "linecolor": "white",
             "minorgridcolor": "white",
             "startlinecolor": "#2a3f5f"
            },
            "baxis": {
             "endlinecolor": "#2a3f5f",
             "gridcolor": "white",
             "linecolor": "white",
             "minorgridcolor": "white",
             "startlinecolor": "#2a3f5f"
            },
            "type": "carpet"
           }
          ],
          "choropleth": [
           {
            "colorbar": {
             "outlinewidth": 0,
             "ticks": ""
            },
            "type": "choropleth"
           }
          ],
          "contour": [
           {
            "colorbar": {
             "outlinewidth": 0,
             "ticks": ""
            },
            "colorscale": [
             [
              0,
              "#0d0887"
             ],
             [
              0.1111111111111111,
              "#46039f"
             ],
             [
              0.2222222222222222,
              "#7201a8"
             ],
             [
              0.3333333333333333,
              "#9c179e"
             ],
             [
              0.4444444444444444,
              "#bd3786"
             ],
             [
              0.5555555555555556,
              "#d8576b"
             ],
             [
              0.6666666666666666,
              "#ed7953"
             ],
             [
              0.7777777777777778,
              "#fb9f3a"
             ],
             [
              0.8888888888888888,
              "#fdca26"
             ],
             [
              1,
              "#f0f921"
             ]
            ],
            "type": "contour"
           }
          ],
          "contourcarpet": [
           {
            "colorbar": {
             "outlinewidth": 0,
             "ticks": ""
            },
            "type": "contourcarpet"
           }
          ],
          "heatmap": [
           {
            "colorbar": {
             "outlinewidth": 0,
             "ticks": ""
            },
            "colorscale": [
             [
              0,
              "#0d0887"
             ],
             [
              0.1111111111111111,
              "#46039f"
             ],
             [
              0.2222222222222222,
              "#7201a8"
             ],
             [
              0.3333333333333333,
              "#9c179e"
             ],
             [
              0.4444444444444444,
              "#bd3786"
             ],
             [
              0.5555555555555556,
              "#d8576b"
             ],
             [
              0.6666666666666666,
              "#ed7953"
             ],
             [
              0.7777777777777778,
              "#fb9f3a"
             ],
             [
              0.8888888888888888,
              "#fdca26"
             ],
             [
              1,
              "#f0f921"
             ]
            ],
            "type": "heatmap"
           }
          ],
          "heatmapgl": [
           {
            "colorbar": {
             "outlinewidth": 0,
             "ticks": ""
            },
            "colorscale": [
             [
              0,
              "#0d0887"
             ],
             [
              0.1111111111111111,
              "#46039f"
             ],
             [
              0.2222222222222222,
              "#7201a8"
             ],
             [
              0.3333333333333333,
              "#9c179e"
             ],
             [
              0.4444444444444444,
              "#bd3786"
             ],
             [
              0.5555555555555556,
              "#d8576b"
             ],
             [
              0.6666666666666666,
              "#ed7953"
             ],
             [
              0.7777777777777778,
              "#fb9f3a"
             ],
             [
              0.8888888888888888,
              "#fdca26"
             ],
             [
              1,
              "#f0f921"
             ]
            ],
            "type": "heatmapgl"
           }
          ],
          "histogram": [
           {
            "marker": {
             "pattern": {
              "fillmode": "overlay",
              "size": 10,
              "solidity": 0.2
             }
            },
            "type": "histogram"
           }
          ],
          "histogram2d": [
           {
            "colorbar": {
             "outlinewidth": 0,
             "ticks": ""
            },
            "colorscale": [
             [
              0,
              "#0d0887"
             ],
             [
              0.1111111111111111,
              "#46039f"
             ],
             [
              0.2222222222222222,
              "#7201a8"
             ],
             [
              0.3333333333333333,
              "#9c179e"
             ],
             [
              0.4444444444444444,
              "#bd3786"
             ],
             [
              0.5555555555555556,
              "#d8576b"
             ],
             [
              0.6666666666666666,
              "#ed7953"
             ],
             [
              0.7777777777777778,
              "#fb9f3a"
             ],
             [
              0.8888888888888888,
              "#fdca26"
             ],
             [
              1,
              "#f0f921"
             ]
            ],
            "type": "histogram2d"
           }
          ],
          "histogram2dcontour": [
           {
            "colorbar": {
             "outlinewidth": 0,
             "ticks": ""
            },
            "colorscale": [
             [
              0,
              "#0d0887"
             ],
             [
              0.1111111111111111,
              "#46039f"
             ],
             [
              0.2222222222222222,
              "#7201a8"
             ],
             [
              0.3333333333333333,
              "#9c179e"
             ],
             [
              0.4444444444444444,
              "#bd3786"
             ],
             [
              0.5555555555555556,
              "#d8576b"
             ],
             [
              0.6666666666666666,
              "#ed7953"
             ],
             [
              0.7777777777777778,
              "#fb9f3a"
             ],
             [
              0.8888888888888888,
              "#fdca26"
             ],
             [
              1,
              "#f0f921"
             ]
            ],
            "type": "histogram2dcontour"
           }
          ],
          "mesh3d": [
           {
            "colorbar": {
             "outlinewidth": 0,
             "ticks": ""
            },
            "type": "mesh3d"
           }
          ],
          "parcoords": [
           {
            "line": {
             "colorbar": {
              "outlinewidth": 0,
              "ticks": ""
             }
            },
            "type": "parcoords"
           }
          ],
          "pie": [
           {
            "automargin": true,
            "type": "pie"
           }
          ],
          "scatter": [
           {
            "fillpattern": {
             "fillmode": "overlay",
             "size": 10,
             "solidity": 0.2
            },
            "type": "scatter"
           }
          ],
          "scatter3d": [
           {
            "line": {
             "colorbar": {
              "outlinewidth": 0,
              "ticks": ""
             }
            },
            "marker": {
             "colorbar": {
              "outlinewidth": 0,
              "ticks": ""
             }
            },
            "type": "scatter3d"
           }
          ],
          "scattercarpet": [
           {
            "marker": {
             "colorbar": {
              "outlinewidth": 0,
              "ticks": ""
             }
            },
            "type": "scattercarpet"
           }
          ],
          "scattergeo": [
           {
            "marker": {
             "colorbar": {
              "outlinewidth": 0,
              "ticks": ""
             }
            },
            "type": "scattergeo"
           }
          ],
          "scattergl": [
           {
            "marker": {
             "colorbar": {
              "outlinewidth": 0,
              "ticks": ""
             }
            },
            "type": "scattergl"
           }
          ],
          "scattermapbox": [
           {
            "marker": {
             "colorbar": {
              "outlinewidth": 0,
              "ticks": ""
             }
            },
            "type": "scattermapbox"
           }
          ],
          "scatterpolar": [
           {
            "marker": {
             "colorbar": {
              "outlinewidth": 0,
              "ticks": ""
             }
            },
            "type": "scatterpolar"
           }
          ],
          "scatterpolargl": [
           {
            "marker": {
             "colorbar": {
              "outlinewidth": 0,
              "ticks": ""
             }
            },
            "type": "scatterpolargl"
           }
          ],
          "scatterternary": [
           {
            "marker": {
             "colorbar": {
              "outlinewidth": 0,
              "ticks": ""
             }
            },
            "type": "scatterternary"
           }
          ],
          "surface": [
           {
            "colorbar": {
             "outlinewidth": 0,
             "ticks": ""
            },
            "colorscale": [
             [
              0,
              "#0d0887"
             ],
             [
              0.1111111111111111,
              "#46039f"
             ],
             [
              0.2222222222222222,
              "#7201a8"
             ],
             [
              0.3333333333333333,
              "#9c179e"
             ],
             [
              0.4444444444444444,
              "#bd3786"
             ],
             [
              0.5555555555555556,
              "#d8576b"
             ],
             [
              0.6666666666666666,
              "#ed7953"
             ],
             [
              0.7777777777777778,
              "#fb9f3a"
             ],
             [
              0.8888888888888888,
              "#fdca26"
             ],
             [
              1,
              "#f0f921"
             ]
            ],
            "type": "surface"
           }
          ],
          "table": [
           {
            "cells": {
             "fill": {
              "color": "#EBF0F8"
             },
             "line": {
              "color": "white"
             }
            },
            "header": {
             "fill": {
              "color": "#C8D4E3"
             },
             "line": {
              "color": "white"
             }
            },
            "type": "table"
           }
          ]
         },
         "layout": {
          "annotationdefaults": {
           "arrowcolor": "#2a3f5f",
           "arrowhead": 0,
           "arrowwidth": 1
          },
          "autotypenumbers": "strict",
          "coloraxis": {
           "colorbar": {
            "outlinewidth": 0,
            "ticks": ""
           }
          },
          "colorscale": {
           "diverging": [
            [
             0,
             "#8e0152"
            ],
            [
             0.1,
             "#c51b7d"
            ],
            [
             0.2,
             "#de77ae"
            ],
            [
             0.3,
             "#f1b6da"
            ],
            [
             0.4,
             "#fde0ef"
            ],
            [
             0.5,
             "#f7f7f7"
            ],
            [
             0.6,
             "#e6f5d0"
            ],
            [
             0.7,
             "#b8e186"
            ],
            [
             0.8,
             "#7fbc41"
            ],
            [
             0.9,
             "#4d9221"
            ],
            [
             1,
             "#276419"
            ]
           ],
           "sequential": [
            [
             0,
             "#0d0887"
            ],
            [
             0.1111111111111111,
             "#46039f"
            ],
            [
             0.2222222222222222,
             "#7201a8"
            ],
            [
             0.3333333333333333,
             "#9c179e"
            ],
            [
             0.4444444444444444,
             "#bd3786"
            ],
            [
             0.5555555555555556,
             "#d8576b"
            ],
            [
             0.6666666666666666,
             "#ed7953"
            ],
            [
             0.7777777777777778,
             "#fb9f3a"
            ],
            [
             0.8888888888888888,
             "#fdca26"
            ],
            [
             1,
             "#f0f921"
            ]
           ],
           "sequentialminus": [
            [
             0,
             "#0d0887"
            ],
            [
             0.1111111111111111,
             "#46039f"
            ],
            [
             0.2222222222222222,
             "#7201a8"
            ],
            [
             0.3333333333333333,
             "#9c179e"
            ],
            [
             0.4444444444444444,
             "#bd3786"
            ],
            [
             0.5555555555555556,
             "#d8576b"
            ],
            [
             0.6666666666666666,
             "#ed7953"
            ],
            [
             0.7777777777777778,
             "#fb9f3a"
            ],
            [
             0.8888888888888888,
             "#fdca26"
            ],
            [
             1,
             "#f0f921"
            ]
           ]
          },
          "colorway": [
           "#636efa",
           "#EF553B",
           "#00cc96",
           "#ab63fa",
           "#FFA15A",
           "#19d3f3",
           "#FF6692",
           "#B6E880",
           "#FF97FF",
           "#FECB52"
          ],
          "font": {
           "color": "#2a3f5f"
          },
          "geo": {
           "bgcolor": "white",
           "lakecolor": "white",
           "landcolor": "#E5ECF6",
           "showlakes": true,
           "showland": true,
           "subunitcolor": "white"
          },
          "hoverlabel": {
           "align": "left"
          },
          "hovermode": "closest",
          "mapbox": {
           "style": "light"
          },
          "paper_bgcolor": "white",
          "plot_bgcolor": "#E5ECF6",
          "polar": {
           "angularaxis": {
            "gridcolor": "white",
            "linecolor": "white",
            "ticks": ""
           },
           "bgcolor": "#E5ECF6",
           "radialaxis": {
            "gridcolor": "white",
            "linecolor": "white",
            "ticks": ""
           }
          },
          "scene": {
           "xaxis": {
            "backgroundcolor": "#E5ECF6",
            "gridcolor": "white",
            "gridwidth": 2,
            "linecolor": "white",
            "showbackground": true,
            "ticks": "",
            "zerolinecolor": "white"
           },
           "yaxis": {
            "backgroundcolor": "#E5ECF6",
            "gridcolor": "white",
            "gridwidth": 2,
            "linecolor": "white",
            "showbackground": true,
            "ticks": "",
            "zerolinecolor": "white"
           },
           "zaxis": {
            "backgroundcolor": "#E5ECF6",
            "gridcolor": "white",
            "gridwidth": 2,
            "linecolor": "white",
            "showbackground": true,
            "ticks": "",
            "zerolinecolor": "white"
           }
          },
          "shapedefaults": {
           "line": {
            "color": "#2a3f5f"
           }
          },
          "ternary": {
           "aaxis": {
            "gridcolor": "white",
            "linecolor": "white",
            "ticks": ""
           },
           "baxis": {
            "gridcolor": "white",
            "linecolor": "white",
            "ticks": ""
           },
           "bgcolor": "#E5ECF6",
           "caxis": {
            "gridcolor": "white",
            "linecolor": "white",
            "ticks": ""
           }
          },
          "title": {
           "x": 0.05
          },
          "xaxis": {
           "automargin": true,
           "gridcolor": "white",
           "linecolor": "white",
           "ticks": "",
           "title": {
            "standoff": 15
           },
           "zerolinecolor": "white",
           "zerolinewidth": 2
          },
          "yaxis": {
           "automargin": true,
           "gridcolor": "white",
           "linecolor": "white",
           "ticks": "",
           "title": {
            "standoff": 15
           },
           "zerolinecolor": "white",
           "zerolinewidth": 2
          }
         }
        },
        "xaxis": {
         "anchor": "y",
         "categoryorder": "category ascending",
         "domain": [
          0,
          1
         ],
         "title": {
          "text": "発生時（始期）"
         }
        },
        "yaxis": {
         "anchor": "x",
         "domain": [
          0,
          1
         ],
         "title": {
          "text": "件数"
         }
        }
       }
      }
     },
     "metadata": {},
     "output_type": "display_data"
    }
   ],
   "source": [
    "fig = px.bar(time,\n",
    "            x='発生時（始期）',\n",
    "            y='件数'\n",
    "            )\n",
    "fig.update_xaxes(categoryorder='category ascending')\n",
    "fig.show()"
   ]
  },
  {
   "cell_type": "markdown",
   "metadata": {
    "slideshow": {
     "slide_type": "slide"
    }
   },
   "source": [
    "チャートのテンプレートを変えることでルックスが変わる。\n",
    "\n",
    "`template`のオプションはこちらから：\n",
    "\n",
    "```[\"plotly\", \"plotly_white\", \"plotly_dark\", \"ggplot2\", \"seaborn\", \"simple_white\"]```\n",
    "\n",
    "一つずつ試してみよう。"
   ]
  },
  {
   "cell_type": "code",
   "execution_count": 51,
   "metadata": {
    "slideshow": {
     "slide_type": "slide"
    }
   },
   "outputs": [
    {
     "data": {
      "application/vnd.plotly.v1+json": {
       "config": {
        "plotlyServerURL": "https://plot.ly"
       },
       "data": [
        {
         "alignmentgroup": "True",
         "hovertemplate": "発生時（始期）=%{x}<br>件数=%{y}<extra></extra>",
         "legendgroup": "",
         "marker": {
          "color": "rgb(76,114,176)",
          "pattern": {
           "shape": ""
          }
         },
         "name": "",
         "offsetgroup": "",
         "orientation": "v",
         "showlegend": false,
         "textposition": "auto",
         "type": "bar",
         "x": [
          "18",
          "19",
          "08",
          "16",
          "20",
          "17",
          "12",
          "13",
          "15",
          "07",
          "14",
          "10",
          "21",
          "11",
          "09",
          "06",
          "22",
          "00",
          "23",
          "不明",
          "05",
          "04",
          "02",
          "01"
         ],
         "xaxis": "x",
         "y": [
          44,
          39,
          37,
          36,
          33,
          32,
          28,
          25,
          24,
          23,
          20,
          20,
          19,
          19,
          18,
          12,
          11,
          9,
          9,
          6,
          3,
          2,
          1,
          1
         ],
         "yaxis": "y"
        }
       ],
       "layout": {
        "barmode": "relative",
        "legend": {
         "tracegroupgap": 0
        },
        "margin": {
         "t": 60
        },
        "template": {
         "data": {
          "bar": [
           {
            "error_x": {
             "color": "rgb(36,36,36)"
            },
            "error_y": {
             "color": "rgb(36,36,36)"
            },
            "marker": {
             "line": {
              "color": "rgb(234,234,242)",
              "width": 0.5
             },
             "pattern": {
              "fillmode": "overlay",
              "size": 10,
              "solidity": 0.2
             }
            },
            "type": "bar"
           }
          ],
          "barpolar": [
           {
            "marker": {
             "line": {
              "color": "rgb(234,234,242)",
              "width": 0.5
             },
             "pattern": {
              "fillmode": "overlay",
              "size": 10,
              "solidity": 0.2
             }
            },
            "type": "barpolar"
           }
          ],
          "carpet": [
           {
            "aaxis": {
             "endlinecolor": "rgb(36,36,36)",
             "gridcolor": "white",
             "linecolor": "white",
             "minorgridcolor": "white",
             "startlinecolor": "rgb(36,36,36)"
            },
            "baxis": {
             "endlinecolor": "rgb(36,36,36)",
             "gridcolor": "white",
             "linecolor": "white",
             "minorgridcolor": "white",
             "startlinecolor": "rgb(36,36,36)"
            },
            "type": "carpet"
           }
          ],
          "choropleth": [
           {
            "colorbar": {
             "outlinewidth": 0,
             "tickcolor": "rgb(36,36,36)",
             "ticklen": 8,
             "ticks": "outside",
             "tickwidth": 2
            },
            "type": "choropleth"
           }
          ],
          "contour": [
           {
            "colorbar": {
             "outlinewidth": 0,
             "tickcolor": "rgb(36,36,36)",
             "ticklen": 8,
             "ticks": "outside",
             "tickwidth": 2
            },
            "colorscale": [
             [
              0,
              "rgb(2,4,25)"
             ],
             [
              0.06274509803921569,
              "rgb(24,15,41)"
             ],
             [
              0.12549019607843137,
              "rgb(47,23,57)"
             ],
             [
              0.18823529411764706,
              "rgb(71,28,72)"
             ],
             [
              0.25098039215686274,
              "rgb(97,30,82)"
             ],
             [
              0.3137254901960784,
              "rgb(123,30,89)"
             ],
             [
              0.3764705882352941,
              "rgb(150,27,91)"
             ],
             [
              0.4392156862745098,
              "rgb(177,22,88)"
             ],
             [
              0.5019607843137255,
              "rgb(203,26,79)"
             ],
             [
              0.5647058823529412,
              "rgb(223,47,67)"
             ],
             [
              0.6274509803921569,
              "rgb(236,76,61)"
             ],
             [
              0.6901960784313725,
              "rgb(242,107,73)"
             ],
             [
              0.7529411764705882,
              "rgb(244,135,95)"
             ],
             [
              0.8156862745098039,
              "rgb(245,162,122)"
             ],
             [
              0.8784313725490196,
              "rgb(246,188,153)"
             ],
             [
              0.9411764705882353,
              "rgb(247,212,187)"
             ],
             [
              1,
              "rgb(250,234,220)"
             ]
            ],
            "type": "contour"
           }
          ],
          "contourcarpet": [
           {
            "colorbar": {
             "outlinewidth": 0,
             "tickcolor": "rgb(36,36,36)",
             "ticklen": 8,
             "ticks": "outside",
             "tickwidth": 2
            },
            "type": "contourcarpet"
           }
          ],
          "heatmap": [
           {
            "colorbar": {
             "outlinewidth": 0,
             "tickcolor": "rgb(36,36,36)",
             "ticklen": 8,
             "ticks": "outside",
             "tickwidth": 2
            },
            "colorscale": [
             [
              0,
              "rgb(2,4,25)"
             ],
             [
              0.06274509803921569,
              "rgb(24,15,41)"
             ],
             [
              0.12549019607843137,
              "rgb(47,23,57)"
             ],
             [
              0.18823529411764706,
              "rgb(71,28,72)"
             ],
             [
              0.25098039215686274,
              "rgb(97,30,82)"
             ],
             [
              0.3137254901960784,
              "rgb(123,30,89)"
             ],
             [
              0.3764705882352941,
              "rgb(150,27,91)"
             ],
             [
              0.4392156862745098,
              "rgb(177,22,88)"
             ],
             [
              0.5019607843137255,
              "rgb(203,26,79)"
             ],
             [
              0.5647058823529412,
              "rgb(223,47,67)"
             ],
             [
              0.6274509803921569,
              "rgb(236,76,61)"
             ],
             [
              0.6901960784313725,
              "rgb(242,107,73)"
             ],
             [
              0.7529411764705882,
              "rgb(244,135,95)"
             ],
             [
              0.8156862745098039,
              "rgb(245,162,122)"
             ],
             [
              0.8784313725490196,
              "rgb(246,188,153)"
             ],
             [
              0.9411764705882353,
              "rgb(247,212,187)"
             ],
             [
              1,
              "rgb(250,234,220)"
             ]
            ],
            "type": "heatmap"
           }
          ],
          "heatmapgl": [
           {
            "colorbar": {
             "outlinewidth": 0,
             "tickcolor": "rgb(36,36,36)",
             "ticklen": 8,
             "ticks": "outside",
             "tickwidth": 2
            },
            "colorscale": [
             [
              0,
              "rgb(2,4,25)"
             ],
             [
              0.06274509803921569,
              "rgb(24,15,41)"
             ],
             [
              0.12549019607843137,
              "rgb(47,23,57)"
             ],
             [
              0.18823529411764706,
              "rgb(71,28,72)"
             ],
             [
              0.25098039215686274,
              "rgb(97,30,82)"
             ],
             [
              0.3137254901960784,
              "rgb(123,30,89)"
             ],
             [
              0.3764705882352941,
              "rgb(150,27,91)"
             ],
             [
              0.4392156862745098,
              "rgb(177,22,88)"
             ],
             [
              0.5019607843137255,
              "rgb(203,26,79)"
             ],
             [
              0.5647058823529412,
              "rgb(223,47,67)"
             ],
             [
              0.6274509803921569,
              "rgb(236,76,61)"
             ],
             [
              0.6901960784313725,
              "rgb(242,107,73)"
             ],
             [
              0.7529411764705882,
              "rgb(244,135,95)"
             ],
             [
              0.8156862745098039,
              "rgb(245,162,122)"
             ],
             [
              0.8784313725490196,
              "rgb(246,188,153)"
             ],
             [
              0.9411764705882353,
              "rgb(247,212,187)"
             ],
             [
              1,
              "rgb(250,234,220)"
             ]
            ],
            "type": "heatmapgl"
           }
          ],
          "histogram": [
           {
            "marker": {
             "pattern": {
              "fillmode": "overlay",
              "size": 10,
              "solidity": 0.2
             }
            },
            "type": "histogram"
           }
          ],
          "histogram2d": [
           {
            "colorbar": {
             "outlinewidth": 0,
             "tickcolor": "rgb(36,36,36)",
             "ticklen": 8,
             "ticks": "outside",
             "tickwidth": 2
            },
            "colorscale": [
             [
              0,
              "rgb(2,4,25)"
             ],
             [
              0.06274509803921569,
              "rgb(24,15,41)"
             ],
             [
              0.12549019607843137,
              "rgb(47,23,57)"
             ],
             [
              0.18823529411764706,
              "rgb(71,28,72)"
             ],
             [
              0.25098039215686274,
              "rgb(97,30,82)"
             ],
             [
              0.3137254901960784,
              "rgb(123,30,89)"
             ],
             [
              0.3764705882352941,
              "rgb(150,27,91)"
             ],
             [
              0.4392156862745098,
              "rgb(177,22,88)"
             ],
             [
              0.5019607843137255,
              "rgb(203,26,79)"
             ],
             [
              0.5647058823529412,
              "rgb(223,47,67)"
             ],
             [
              0.6274509803921569,
              "rgb(236,76,61)"
             ],
             [
              0.6901960784313725,
              "rgb(242,107,73)"
             ],
             [
              0.7529411764705882,
              "rgb(244,135,95)"
             ],
             [
              0.8156862745098039,
              "rgb(245,162,122)"
             ],
             [
              0.8784313725490196,
              "rgb(246,188,153)"
             ],
             [
              0.9411764705882353,
              "rgb(247,212,187)"
             ],
             [
              1,
              "rgb(250,234,220)"
             ]
            ],
            "type": "histogram2d"
           }
          ],
          "histogram2dcontour": [
           {
            "colorbar": {
             "outlinewidth": 0,
             "tickcolor": "rgb(36,36,36)",
             "ticklen": 8,
             "ticks": "outside",
             "tickwidth": 2
            },
            "colorscale": [
             [
              0,
              "rgb(2,4,25)"
             ],
             [
              0.06274509803921569,
              "rgb(24,15,41)"
             ],
             [
              0.12549019607843137,
              "rgb(47,23,57)"
             ],
             [
              0.18823529411764706,
              "rgb(71,28,72)"
             ],
             [
              0.25098039215686274,
              "rgb(97,30,82)"
             ],
             [
              0.3137254901960784,
              "rgb(123,30,89)"
             ],
             [
              0.3764705882352941,
              "rgb(150,27,91)"
             ],
             [
              0.4392156862745098,
              "rgb(177,22,88)"
             ],
             [
              0.5019607843137255,
              "rgb(203,26,79)"
             ],
             [
              0.5647058823529412,
              "rgb(223,47,67)"
             ],
             [
              0.6274509803921569,
              "rgb(236,76,61)"
             ],
             [
              0.6901960784313725,
              "rgb(242,107,73)"
             ],
             [
              0.7529411764705882,
              "rgb(244,135,95)"
             ],
             [
              0.8156862745098039,
              "rgb(245,162,122)"
             ],
             [
              0.8784313725490196,
              "rgb(246,188,153)"
             ],
             [
              0.9411764705882353,
              "rgb(247,212,187)"
             ],
             [
              1,
              "rgb(250,234,220)"
             ]
            ],
            "type": "histogram2dcontour"
           }
          ],
          "mesh3d": [
           {
            "colorbar": {
             "outlinewidth": 0,
             "tickcolor": "rgb(36,36,36)",
             "ticklen": 8,
             "ticks": "outside",
             "tickwidth": 2
            },
            "type": "mesh3d"
           }
          ],
          "parcoords": [
           {
            "line": {
             "colorbar": {
              "outlinewidth": 0,
              "tickcolor": "rgb(36,36,36)",
              "ticklen": 8,
              "ticks": "outside",
              "tickwidth": 2
             }
            },
            "type": "parcoords"
           }
          ],
          "pie": [
           {
            "automargin": true,
            "type": "pie"
           }
          ],
          "scatter": [
           {
            "fillpattern": {
             "fillmode": "overlay",
             "size": 10,
             "solidity": 0.2
            },
            "type": "scatter"
           }
          ],
          "scatter3d": [
           {
            "line": {
             "colorbar": {
              "outlinewidth": 0,
              "tickcolor": "rgb(36,36,36)",
              "ticklen": 8,
              "ticks": "outside",
              "tickwidth": 2
             }
            },
            "marker": {
             "colorbar": {
              "outlinewidth": 0,
              "tickcolor": "rgb(36,36,36)",
              "ticklen": 8,
              "ticks": "outside",
              "tickwidth": 2
             }
            },
            "type": "scatter3d"
           }
          ],
          "scattercarpet": [
           {
            "marker": {
             "colorbar": {
              "outlinewidth": 0,
              "tickcolor": "rgb(36,36,36)",
              "ticklen": 8,
              "ticks": "outside",
              "tickwidth": 2
             }
            },
            "type": "scattercarpet"
           }
          ],
          "scattergeo": [
           {
            "marker": {
             "colorbar": {
              "outlinewidth": 0,
              "tickcolor": "rgb(36,36,36)",
              "ticklen": 8,
              "ticks": "outside",
              "tickwidth": 2
             }
            },
            "type": "scattergeo"
           }
          ],
          "scattergl": [
           {
            "marker": {
             "colorbar": {
              "outlinewidth": 0,
              "tickcolor": "rgb(36,36,36)",
              "ticklen": 8,
              "ticks": "outside",
              "tickwidth": 2
             }
            },
            "type": "scattergl"
           }
          ],
          "scattermapbox": [
           {
            "marker": {
             "colorbar": {
              "outlinewidth": 0,
              "tickcolor": "rgb(36,36,36)",
              "ticklen": 8,
              "ticks": "outside",
              "tickwidth": 2
             }
            },
            "type": "scattermapbox"
           }
          ],
          "scatterpolar": [
           {
            "marker": {
             "colorbar": {
              "outlinewidth": 0,
              "tickcolor": "rgb(36,36,36)",
              "ticklen": 8,
              "ticks": "outside",
              "tickwidth": 2
             }
            },
            "type": "scatterpolar"
           }
          ],
          "scatterpolargl": [
           {
            "marker": {
             "colorbar": {
              "outlinewidth": 0,
              "tickcolor": "rgb(36,36,36)",
              "ticklen": 8,
              "ticks": "outside",
              "tickwidth": 2
             }
            },
            "type": "scatterpolargl"
           }
          ],
          "scatterternary": [
           {
            "marker": {
             "colorbar": {
              "outlinewidth": 0,
              "tickcolor": "rgb(36,36,36)",
              "ticklen": 8,
              "ticks": "outside",
              "tickwidth": 2
             }
            },
            "type": "scatterternary"
           }
          ],
          "surface": [
           {
            "colorbar": {
             "outlinewidth": 0,
             "tickcolor": "rgb(36,36,36)",
             "ticklen": 8,
             "ticks": "outside",
             "tickwidth": 2
            },
            "colorscale": [
             [
              0,
              "rgb(2,4,25)"
             ],
             [
              0.06274509803921569,
              "rgb(24,15,41)"
             ],
             [
              0.12549019607843137,
              "rgb(47,23,57)"
             ],
             [
              0.18823529411764706,
              "rgb(71,28,72)"
             ],
             [
              0.25098039215686274,
              "rgb(97,30,82)"
             ],
             [
              0.3137254901960784,
              "rgb(123,30,89)"
             ],
             [
              0.3764705882352941,
              "rgb(150,27,91)"
             ],
             [
              0.4392156862745098,
              "rgb(177,22,88)"
             ],
             [
              0.5019607843137255,
              "rgb(203,26,79)"
             ],
             [
              0.5647058823529412,
              "rgb(223,47,67)"
             ],
             [
              0.6274509803921569,
              "rgb(236,76,61)"
             ],
             [
              0.6901960784313725,
              "rgb(242,107,73)"
             ],
             [
              0.7529411764705882,
              "rgb(244,135,95)"
             ],
             [
              0.8156862745098039,
              "rgb(245,162,122)"
             ],
             [
              0.8784313725490196,
              "rgb(246,188,153)"
             ],
             [
              0.9411764705882353,
              "rgb(247,212,187)"
             ],
             [
              1,
              "rgb(250,234,220)"
             ]
            ],
            "type": "surface"
           }
          ],
          "table": [
           {
            "cells": {
             "fill": {
              "color": "rgb(231,231,240)"
             },
             "line": {
              "color": "white"
             }
            },
            "header": {
             "fill": {
              "color": "rgb(183,183,191)"
             },
             "line": {
              "color": "white"
             }
            },
            "type": "table"
           }
          ]
         },
         "layout": {
          "annotationdefaults": {
           "arrowcolor": "rgb(67,103,167)"
          },
          "autotypenumbers": "strict",
          "coloraxis": {
           "colorbar": {
            "outlinewidth": 0,
            "tickcolor": "rgb(36,36,36)",
            "ticklen": 8,
            "ticks": "outside",
            "tickwidth": 2
           }
          },
          "colorscale": {
           "sequential": [
            [
             0,
             "rgb(2,4,25)"
            ],
            [
             0.06274509803921569,
             "rgb(24,15,41)"
            ],
            [
             0.12549019607843137,
             "rgb(47,23,57)"
            ],
            [
             0.18823529411764706,
             "rgb(71,28,72)"
            ],
            [
             0.25098039215686274,
             "rgb(97,30,82)"
            ],
            [
             0.3137254901960784,
             "rgb(123,30,89)"
            ],
            [
             0.3764705882352941,
             "rgb(150,27,91)"
            ],
            [
             0.4392156862745098,
             "rgb(177,22,88)"
            ],
            [
             0.5019607843137255,
             "rgb(203,26,79)"
            ],
            [
             0.5647058823529412,
             "rgb(223,47,67)"
            ],
            [
             0.6274509803921569,
             "rgb(236,76,61)"
            ],
            [
             0.6901960784313725,
             "rgb(242,107,73)"
            ],
            [
             0.7529411764705882,
             "rgb(244,135,95)"
            ],
            [
             0.8156862745098039,
             "rgb(245,162,122)"
            ],
            [
             0.8784313725490196,
             "rgb(246,188,153)"
            ],
            [
             0.9411764705882353,
             "rgb(247,212,187)"
            ],
            [
             1,
             "rgb(250,234,220)"
            ]
           ],
           "sequentialminus": [
            [
             0,
             "rgb(2,4,25)"
            ],
            [
             0.06274509803921569,
             "rgb(24,15,41)"
            ],
            [
             0.12549019607843137,
             "rgb(47,23,57)"
            ],
            [
             0.18823529411764706,
             "rgb(71,28,72)"
            ],
            [
             0.25098039215686274,
             "rgb(97,30,82)"
            ],
            [
             0.3137254901960784,
             "rgb(123,30,89)"
            ],
            [
             0.3764705882352941,
             "rgb(150,27,91)"
            ],
            [
             0.4392156862745098,
             "rgb(177,22,88)"
            ],
            [
             0.5019607843137255,
             "rgb(203,26,79)"
            ],
            [
             0.5647058823529412,
             "rgb(223,47,67)"
            ],
            [
             0.6274509803921569,
             "rgb(236,76,61)"
            ],
            [
             0.6901960784313725,
             "rgb(242,107,73)"
            ],
            [
             0.7529411764705882,
             "rgb(244,135,95)"
            ],
            [
             0.8156862745098039,
             "rgb(245,162,122)"
            ],
            [
             0.8784313725490196,
             "rgb(246,188,153)"
            ],
            [
             0.9411764705882353,
             "rgb(247,212,187)"
            ],
            [
             1,
             "rgb(250,234,220)"
            ]
           ]
          },
          "colorway": [
           "rgb(76,114,176)",
           "rgb(221,132,82)",
           "rgb(85,168,104)",
           "rgb(196,78,82)",
           "rgb(129,114,179)",
           "rgb(147,120,96)",
           "rgb(218,139,195)",
           "rgb(140,140,140)",
           "rgb(204,185,116)",
           "rgb(100,181,205)"
          ],
          "font": {
           "color": "rgb(36,36,36)"
          },
          "geo": {
           "bgcolor": "white",
           "lakecolor": "white",
           "landcolor": "rgb(234,234,242)",
           "showlakes": true,
           "showland": true,
           "subunitcolor": "white"
          },
          "hoverlabel": {
           "align": "left"
          },
          "hovermode": "closest",
          "paper_bgcolor": "white",
          "plot_bgcolor": "rgb(234,234,242)",
          "polar": {
           "angularaxis": {
            "gridcolor": "white",
            "linecolor": "white",
            "showgrid": true,
            "ticks": ""
           },
           "bgcolor": "rgb(234,234,242)",
           "radialaxis": {
            "gridcolor": "white",
            "linecolor": "white",
            "showgrid": true,
            "ticks": ""
           }
          },
          "scene": {
           "xaxis": {
            "backgroundcolor": "rgb(234,234,242)",
            "gridcolor": "white",
            "gridwidth": 2,
            "linecolor": "white",
            "showbackground": true,
            "showgrid": true,
            "ticks": "",
            "zerolinecolor": "white"
           },
           "yaxis": {
            "backgroundcolor": "rgb(234,234,242)",
            "gridcolor": "white",
            "gridwidth": 2,
            "linecolor": "white",
            "showbackground": true,
            "showgrid": true,
            "ticks": "",
            "zerolinecolor": "white"
           },
           "zaxis": {
            "backgroundcolor": "rgb(234,234,242)",
            "gridcolor": "white",
            "gridwidth": 2,
            "linecolor": "white",
            "showbackground": true,
            "showgrid": true,
            "ticks": "",
            "zerolinecolor": "white"
           }
          },
          "shapedefaults": {
           "fillcolor": "rgb(67,103,167)",
           "line": {
            "width": 0
           },
           "opacity": 0.5
          },
          "ternary": {
           "aaxis": {
            "gridcolor": "white",
            "linecolor": "white",
            "showgrid": true,
            "ticks": ""
           },
           "baxis": {
            "gridcolor": "white",
            "linecolor": "white",
            "showgrid": true,
            "ticks": ""
           },
           "bgcolor": "rgb(234,234,242)",
           "caxis": {
            "gridcolor": "white",
            "linecolor": "white",
            "showgrid": true,
            "ticks": ""
           }
          },
          "xaxis": {
           "automargin": true,
           "gridcolor": "white",
           "linecolor": "white",
           "showgrid": true,
           "ticks": "",
           "title": {
            "standoff": 15
           },
           "zerolinecolor": "white"
          },
          "yaxis": {
           "automargin": true,
           "gridcolor": "white",
           "linecolor": "white",
           "showgrid": true,
           "ticks": "",
           "title": {
            "standoff": 15
           },
           "zerolinecolor": "white"
          }
         }
        },
        "xaxis": {
         "anchor": "y",
         "categoryorder": "category ascending",
         "domain": [
          0,
          1
         ],
         "title": {
          "text": "発生時（始期）"
         }
        },
        "yaxis": {
         "anchor": "x",
         "domain": [
          0,
          1
         ],
         "title": {
          "text": "件数"
         }
        }
       }
      }
     },
     "metadata": {},
     "output_type": "display_data"
    }
   ],
   "source": [
    "fig = px.bar(time,\n",
    "            x='発生時（始期）',\n",
    "            y='件数',\n",
    "            template='seaborn' # change this to see other styles\n",
    "            )\n",
    "fig.update_xaxes(categoryorder='category ascending')\n",
    "fig.show()"
   ]
  },
  {
   "cell_type": "markdown",
   "metadata": {
    "slideshow": {
     "slide_type": "slide"
    }
   },
   "source": [
    "### Make your own charts\n",
    "\n",
    "では、ここで他のチャートを作ってみよう。\n",
    "\n",
    "例：被害者の年齢、被害者の職業"
   ]
  },
  {
   "cell_type": "code",
   "execution_count": 52,
   "metadata": {},
   "outputs": [
    {
     "data": {
      "application/vnd.plotly.v1+json": {
       "config": {
        "plotlyServerURL": "https://plot.ly"
       },
       "data": [
        {
         "alignmentgroup": "True",
         "hovertemplate": "発生時（始期）=%{x}<br>件数=%{y}<extra></extra>",
         "legendgroup": "",
         "marker": {
          "color": "#636efa",
          "pattern": {
           "shape": ""
          }
         },
         "name": "",
         "offsetgroup": "",
         "orientation": "v",
         "showlegend": false,
         "textposition": "auto",
         "type": "bar",
         "x": [
          "18",
          "19",
          "08",
          "16",
          "20",
          "17",
          "12",
          "13",
          "15",
          "07",
          "14",
          "10",
          "21",
          "11",
          "09",
          "06",
          "22",
          "00",
          "23",
          "不明",
          "05",
          "04",
          "02",
          "01"
         ],
         "xaxis": "x",
         "y": [
          44,
          39,
          37,
          36,
          33,
          32,
          28,
          25,
          24,
          23,
          20,
          20,
          19,
          19,
          18,
          12,
          11,
          9,
          9,
          6,
          3,
          2,
          1,
          1
         ],
         "yaxis": "y"
        }
       ],
       "layout": {
        "barmode": "relative",
        "legend": {
         "tracegroupgap": 0
        },
        "margin": {
         "t": 60
        },
        "template": {
         "data": {
          "bar": [
           {
            "error_x": {
             "color": "#2a3f5f"
            },
            "error_y": {
             "color": "#2a3f5f"
            },
            "marker": {
             "line": {
              "color": "#E5ECF6",
              "width": 0.5
             },
             "pattern": {
              "fillmode": "overlay",
              "size": 10,
              "solidity": 0.2
             }
            },
            "type": "bar"
           }
          ],
          "barpolar": [
           {
            "marker": {
             "line": {
              "color": "#E5ECF6",
              "width": 0.5
             },
             "pattern": {
              "fillmode": "overlay",
              "size": 10,
              "solidity": 0.2
             }
            },
            "type": "barpolar"
           }
          ],
          "carpet": [
           {
            "aaxis": {
             "endlinecolor": "#2a3f5f",
             "gridcolor": "white",
             "linecolor": "white",
             "minorgridcolor": "white",
             "startlinecolor": "#2a3f5f"
            },
            "baxis": {
             "endlinecolor": "#2a3f5f",
             "gridcolor": "white",
             "linecolor": "white",
             "minorgridcolor": "white",
             "startlinecolor": "#2a3f5f"
            },
            "type": "carpet"
           }
          ],
          "choropleth": [
           {
            "colorbar": {
             "outlinewidth": 0,
             "ticks": ""
            },
            "type": "choropleth"
           }
          ],
          "contour": [
           {
            "colorbar": {
             "outlinewidth": 0,
             "ticks": ""
            },
            "colorscale": [
             [
              0,
              "#0d0887"
             ],
             [
              0.1111111111111111,
              "#46039f"
             ],
             [
              0.2222222222222222,
              "#7201a8"
             ],
             [
              0.3333333333333333,
              "#9c179e"
             ],
             [
              0.4444444444444444,
              "#bd3786"
             ],
             [
              0.5555555555555556,
              "#d8576b"
             ],
             [
              0.6666666666666666,
              "#ed7953"
             ],
             [
              0.7777777777777778,
              "#fb9f3a"
             ],
             [
              0.8888888888888888,
              "#fdca26"
             ],
             [
              1,
              "#f0f921"
             ]
            ],
            "type": "contour"
           }
          ],
          "contourcarpet": [
           {
            "colorbar": {
             "outlinewidth": 0,
             "ticks": ""
            },
            "type": "contourcarpet"
           }
          ],
          "heatmap": [
           {
            "colorbar": {
             "outlinewidth": 0,
             "ticks": ""
            },
            "colorscale": [
             [
              0,
              "#0d0887"
             ],
             [
              0.1111111111111111,
              "#46039f"
             ],
             [
              0.2222222222222222,
              "#7201a8"
             ],
             [
              0.3333333333333333,
              "#9c179e"
             ],
             [
              0.4444444444444444,
              "#bd3786"
             ],
             [
              0.5555555555555556,
              "#d8576b"
             ],
             [
              0.6666666666666666,
              "#ed7953"
             ],
             [
              0.7777777777777778,
              "#fb9f3a"
             ],
             [
              0.8888888888888888,
              "#fdca26"
             ],
             [
              1,
              "#f0f921"
             ]
            ],
            "type": "heatmap"
           }
          ],
          "heatmapgl": [
           {
            "colorbar": {
             "outlinewidth": 0,
             "ticks": ""
            },
            "colorscale": [
             [
              0,
              "#0d0887"
             ],
             [
              0.1111111111111111,
              "#46039f"
             ],
             [
              0.2222222222222222,
              "#7201a8"
             ],
             [
              0.3333333333333333,
              "#9c179e"
             ],
             [
              0.4444444444444444,
              "#bd3786"
             ],
             [
              0.5555555555555556,
              "#d8576b"
             ],
             [
              0.6666666666666666,
              "#ed7953"
             ],
             [
              0.7777777777777778,
              "#fb9f3a"
             ],
             [
              0.8888888888888888,
              "#fdca26"
             ],
             [
              1,
              "#f0f921"
             ]
            ],
            "type": "heatmapgl"
           }
          ],
          "histogram": [
           {
            "marker": {
             "pattern": {
              "fillmode": "overlay",
              "size": 10,
              "solidity": 0.2
             }
            },
            "type": "histogram"
           }
          ],
          "histogram2d": [
           {
            "colorbar": {
             "outlinewidth": 0,
             "ticks": ""
            },
            "colorscale": [
             [
              0,
              "#0d0887"
             ],
             [
              0.1111111111111111,
              "#46039f"
             ],
             [
              0.2222222222222222,
              "#7201a8"
             ],
             [
              0.3333333333333333,
              "#9c179e"
             ],
             [
              0.4444444444444444,
              "#bd3786"
             ],
             [
              0.5555555555555556,
              "#d8576b"
             ],
             [
              0.6666666666666666,
              "#ed7953"
             ],
             [
              0.7777777777777778,
              "#fb9f3a"
             ],
             [
              0.8888888888888888,
              "#fdca26"
             ],
             [
              1,
              "#f0f921"
             ]
            ],
            "type": "histogram2d"
           }
          ],
          "histogram2dcontour": [
           {
            "colorbar": {
             "outlinewidth": 0,
             "ticks": ""
            },
            "colorscale": [
             [
              0,
              "#0d0887"
             ],
             [
              0.1111111111111111,
              "#46039f"
             ],
             [
              0.2222222222222222,
              "#7201a8"
             ],
             [
              0.3333333333333333,
              "#9c179e"
             ],
             [
              0.4444444444444444,
              "#bd3786"
             ],
             [
              0.5555555555555556,
              "#d8576b"
             ],
             [
              0.6666666666666666,
              "#ed7953"
             ],
             [
              0.7777777777777778,
              "#fb9f3a"
             ],
             [
              0.8888888888888888,
              "#fdca26"
             ],
             [
              1,
              "#f0f921"
             ]
            ],
            "type": "histogram2dcontour"
           }
          ],
          "mesh3d": [
           {
            "colorbar": {
             "outlinewidth": 0,
             "ticks": ""
            },
            "type": "mesh3d"
           }
          ],
          "parcoords": [
           {
            "line": {
             "colorbar": {
              "outlinewidth": 0,
              "ticks": ""
             }
            },
            "type": "parcoords"
           }
          ],
          "pie": [
           {
            "automargin": true,
            "type": "pie"
           }
          ],
          "scatter": [
           {
            "fillpattern": {
             "fillmode": "overlay",
             "size": 10,
             "solidity": 0.2
            },
            "type": "scatter"
           }
          ],
          "scatter3d": [
           {
            "line": {
             "colorbar": {
              "outlinewidth": 0,
              "ticks": ""
             }
            },
            "marker": {
             "colorbar": {
              "outlinewidth": 0,
              "ticks": ""
             }
            },
            "type": "scatter3d"
           }
          ],
          "scattercarpet": [
           {
            "marker": {
             "colorbar": {
              "outlinewidth": 0,
              "ticks": ""
             }
            },
            "type": "scattercarpet"
           }
          ],
          "scattergeo": [
           {
            "marker": {
             "colorbar": {
              "outlinewidth": 0,
              "ticks": ""
             }
            },
            "type": "scattergeo"
           }
          ],
          "scattergl": [
           {
            "marker": {
             "colorbar": {
              "outlinewidth": 0,
              "ticks": ""
             }
            },
            "type": "scattergl"
           }
          ],
          "scattermapbox": [
           {
            "marker": {
             "colorbar": {
              "outlinewidth": 0,
              "ticks": ""
             }
            },
            "type": "scattermapbox"
           }
          ],
          "scatterpolar": [
           {
            "marker": {
             "colorbar": {
              "outlinewidth": 0,
              "ticks": ""
             }
            },
            "type": "scatterpolar"
           }
          ],
          "scatterpolargl": [
           {
            "marker": {
             "colorbar": {
              "outlinewidth": 0,
              "ticks": ""
             }
            },
            "type": "scatterpolargl"
           }
          ],
          "scatterternary": [
           {
            "marker": {
             "colorbar": {
              "outlinewidth": 0,
              "ticks": ""
             }
            },
            "type": "scatterternary"
           }
          ],
          "surface": [
           {
            "colorbar": {
             "outlinewidth": 0,
             "ticks": ""
            },
            "colorscale": [
             [
              0,
              "#0d0887"
             ],
             [
              0.1111111111111111,
              "#46039f"
             ],
             [
              0.2222222222222222,
              "#7201a8"
             ],
             [
              0.3333333333333333,
              "#9c179e"
             ],
             [
              0.4444444444444444,
              "#bd3786"
             ],
             [
              0.5555555555555556,
              "#d8576b"
             ],
             [
              0.6666666666666666,
              "#ed7953"
             ],
             [
              0.7777777777777778,
              "#fb9f3a"
             ],
             [
              0.8888888888888888,
              "#fdca26"
             ],
             [
              1,
              "#f0f921"
             ]
            ],
            "type": "surface"
           }
          ],
          "table": [
           {
            "cells": {
             "fill": {
              "color": "#EBF0F8"
             },
             "line": {
              "color": "white"
             }
            },
            "header": {
             "fill": {
              "color": "#C8D4E3"
             },
             "line": {
              "color": "white"
             }
            },
            "type": "table"
           }
          ]
         },
         "layout": {
          "annotationdefaults": {
           "arrowcolor": "#2a3f5f",
           "arrowhead": 0,
           "arrowwidth": 1
          },
          "autotypenumbers": "strict",
          "coloraxis": {
           "colorbar": {
            "outlinewidth": 0,
            "ticks": ""
           }
          },
          "colorscale": {
           "diverging": [
            [
             0,
             "#8e0152"
            ],
            [
             0.1,
             "#c51b7d"
            ],
            [
             0.2,
             "#de77ae"
            ],
            [
             0.3,
             "#f1b6da"
            ],
            [
             0.4,
             "#fde0ef"
            ],
            [
             0.5,
             "#f7f7f7"
            ],
            [
             0.6,
             "#e6f5d0"
            ],
            [
             0.7,
             "#b8e186"
            ],
            [
             0.8,
             "#7fbc41"
            ],
            [
             0.9,
             "#4d9221"
            ],
            [
             1,
             "#276419"
            ]
           ],
           "sequential": [
            [
             0,
             "#0d0887"
            ],
            [
             0.1111111111111111,
             "#46039f"
            ],
            [
             0.2222222222222222,
             "#7201a8"
            ],
            [
             0.3333333333333333,
             "#9c179e"
            ],
            [
             0.4444444444444444,
             "#bd3786"
            ],
            [
             0.5555555555555556,
             "#d8576b"
            ],
            [
             0.6666666666666666,
             "#ed7953"
            ],
            [
             0.7777777777777778,
             "#fb9f3a"
            ],
            [
             0.8888888888888888,
             "#fdca26"
            ],
            [
             1,
             "#f0f921"
            ]
           ],
           "sequentialminus": [
            [
             0,
             "#0d0887"
            ],
            [
             0.1111111111111111,
             "#46039f"
            ],
            [
             0.2222222222222222,
             "#7201a8"
            ],
            [
             0.3333333333333333,
             "#9c179e"
            ],
            [
             0.4444444444444444,
             "#bd3786"
            ],
            [
             0.5555555555555556,
             "#d8576b"
            ],
            [
             0.6666666666666666,
             "#ed7953"
            ],
            [
             0.7777777777777778,
             "#fb9f3a"
            ],
            [
             0.8888888888888888,
             "#fdca26"
            ],
            [
             1,
             "#f0f921"
            ]
           ]
          },
          "colorway": [
           "#636efa",
           "#EF553B",
           "#00cc96",
           "#ab63fa",
           "#FFA15A",
           "#19d3f3",
           "#FF6692",
           "#B6E880",
           "#FF97FF",
           "#FECB52"
          ],
          "font": {
           "color": "#2a3f5f"
          },
          "geo": {
           "bgcolor": "white",
           "lakecolor": "white",
           "landcolor": "#E5ECF6",
           "showlakes": true,
           "showland": true,
           "subunitcolor": "white"
          },
          "hoverlabel": {
           "align": "left"
          },
          "hovermode": "closest",
          "mapbox": {
           "style": "light"
          },
          "paper_bgcolor": "white",
          "plot_bgcolor": "#E5ECF6",
          "polar": {
           "angularaxis": {
            "gridcolor": "white",
            "linecolor": "white",
            "ticks": ""
           },
           "bgcolor": "#E5ECF6",
           "radialaxis": {
            "gridcolor": "white",
            "linecolor": "white",
            "ticks": ""
           }
          },
          "scene": {
           "xaxis": {
            "backgroundcolor": "#E5ECF6",
            "gridcolor": "white",
            "gridwidth": 2,
            "linecolor": "white",
            "showbackground": true,
            "ticks": "",
            "zerolinecolor": "white"
           },
           "yaxis": {
            "backgroundcolor": "#E5ECF6",
            "gridcolor": "white",
            "gridwidth": 2,
            "linecolor": "white",
            "showbackground": true,
            "ticks": "",
            "zerolinecolor": "white"
           },
           "zaxis": {
            "backgroundcolor": "#E5ECF6",
            "gridcolor": "white",
            "gridwidth": 2,
            "linecolor": "white",
            "showbackground": true,
            "ticks": "",
            "zerolinecolor": "white"
           }
          },
          "shapedefaults": {
           "line": {
            "color": "#2a3f5f"
           }
          },
          "ternary": {
           "aaxis": {
            "gridcolor": "white",
            "linecolor": "white",
            "ticks": ""
           },
           "baxis": {
            "gridcolor": "white",
            "linecolor": "white",
            "ticks": ""
           },
           "bgcolor": "#E5ECF6",
           "caxis": {
            "gridcolor": "white",
            "linecolor": "white",
            "ticks": ""
           }
          },
          "title": {
           "x": 0.05
          },
          "xaxis": {
           "automargin": true,
           "gridcolor": "white",
           "linecolor": "white",
           "ticks": "",
           "title": {
            "standoff": 15
           },
           "zerolinecolor": "white",
           "zerolinewidth": 2
          },
          "yaxis": {
           "automargin": true,
           "gridcolor": "white",
           "linecolor": "white",
           "ticks": "",
           "title": {
            "standoff": 15
           },
           "zerolinecolor": "white",
           "zerolinewidth": 2
          }
         }
        },
        "xaxis": {
         "anchor": "y",
         "categoryorder": "category ascending",
         "domain": [
          0,
          1
         ],
         "title": {
          "text": "発生時（始期）"
         }
        },
        "yaxis": {
         "anchor": "x",
         "domain": [
          0,
          1
         ],
         "title": {
          "text": "件数"
         }
        }
       }
      }
     },
     "metadata": {},
     "output_type": "display_data"
    }
   ],
   "source": [
    "fig = px.bar(time,\n",
    "            x='発生時（始期）',\n",
    "            y='件数',\n",
    "            template='plotly' \n",
    "            )\n",
    "fig.update_xaxes(categoryorder='category ascending')\n",
    "fig.show()"
   ]
  },
  {
   "cell_type": "code",
   "execution_count": 53,
   "metadata": {},
   "outputs": [
    {
     "data": {
      "application/vnd.plotly.v1+json": {
       "config": {
        "plotlyServerURL": "https://plot.ly"
       },
       "data": [
        {
         "alignmentgroup": "True",
         "hovertemplate": "発生時（始期）=%{x}<br>件数=%{y}<extra></extra>",
         "legendgroup": "",
         "marker": {
          "color": "#636efa",
          "pattern": {
           "shape": ""
          }
         },
         "name": "",
         "offsetgroup": "",
         "orientation": "v",
         "showlegend": false,
         "textposition": "auto",
         "type": "bar",
         "x": [
          "18",
          "19",
          "08",
          "16",
          "20",
          "17",
          "12",
          "13",
          "15",
          "07",
          "14",
          "10",
          "21",
          "11",
          "09",
          "06",
          "22",
          "00",
          "23",
          "不明",
          "05",
          "04",
          "02",
          "01"
         ],
         "xaxis": "x",
         "y": [
          44,
          39,
          37,
          36,
          33,
          32,
          28,
          25,
          24,
          23,
          20,
          20,
          19,
          19,
          18,
          12,
          11,
          9,
          9,
          6,
          3,
          2,
          1,
          1
         ],
         "yaxis": "y"
        }
       ],
       "layout": {
        "barmode": "relative",
        "legend": {
         "tracegroupgap": 0
        },
        "margin": {
         "t": 60
        },
        "template": {
         "data": {
          "bar": [
           {
            "error_x": {
             "color": "#2a3f5f"
            },
            "error_y": {
             "color": "#2a3f5f"
            },
            "marker": {
             "line": {
              "color": "white",
              "width": 0.5
             },
             "pattern": {
              "fillmode": "overlay",
              "size": 10,
              "solidity": 0.2
             }
            },
            "type": "bar"
           }
          ],
          "barpolar": [
           {
            "marker": {
             "line": {
              "color": "white",
              "width": 0.5
             },
             "pattern": {
              "fillmode": "overlay",
              "size": 10,
              "solidity": 0.2
             }
            },
            "type": "barpolar"
           }
          ],
          "carpet": [
           {
            "aaxis": {
             "endlinecolor": "#2a3f5f",
             "gridcolor": "#C8D4E3",
             "linecolor": "#C8D4E3",
             "minorgridcolor": "#C8D4E3",
             "startlinecolor": "#2a3f5f"
            },
            "baxis": {
             "endlinecolor": "#2a3f5f",
             "gridcolor": "#C8D4E3",
             "linecolor": "#C8D4E3",
             "minorgridcolor": "#C8D4E3",
             "startlinecolor": "#2a3f5f"
            },
            "type": "carpet"
           }
          ],
          "choropleth": [
           {
            "colorbar": {
             "outlinewidth": 0,
             "ticks": ""
            },
            "type": "choropleth"
           }
          ],
          "contour": [
           {
            "colorbar": {
             "outlinewidth": 0,
             "ticks": ""
            },
            "colorscale": [
             [
              0,
              "#0d0887"
             ],
             [
              0.1111111111111111,
              "#46039f"
             ],
             [
              0.2222222222222222,
              "#7201a8"
             ],
             [
              0.3333333333333333,
              "#9c179e"
             ],
             [
              0.4444444444444444,
              "#bd3786"
             ],
             [
              0.5555555555555556,
              "#d8576b"
             ],
             [
              0.6666666666666666,
              "#ed7953"
             ],
             [
              0.7777777777777778,
              "#fb9f3a"
             ],
             [
              0.8888888888888888,
              "#fdca26"
             ],
             [
              1,
              "#f0f921"
             ]
            ],
            "type": "contour"
           }
          ],
          "contourcarpet": [
           {
            "colorbar": {
             "outlinewidth": 0,
             "ticks": ""
            },
            "type": "contourcarpet"
           }
          ],
          "heatmap": [
           {
            "colorbar": {
             "outlinewidth": 0,
             "ticks": ""
            },
            "colorscale": [
             [
              0,
              "#0d0887"
             ],
             [
              0.1111111111111111,
              "#46039f"
             ],
             [
              0.2222222222222222,
              "#7201a8"
             ],
             [
              0.3333333333333333,
              "#9c179e"
             ],
             [
              0.4444444444444444,
              "#bd3786"
             ],
             [
              0.5555555555555556,
              "#d8576b"
             ],
             [
              0.6666666666666666,
              "#ed7953"
             ],
             [
              0.7777777777777778,
              "#fb9f3a"
             ],
             [
              0.8888888888888888,
              "#fdca26"
             ],
             [
              1,
              "#f0f921"
             ]
            ],
            "type": "heatmap"
           }
          ],
          "heatmapgl": [
           {
            "colorbar": {
             "outlinewidth": 0,
             "ticks": ""
            },
            "colorscale": [
             [
              0,
              "#0d0887"
             ],
             [
              0.1111111111111111,
              "#46039f"
             ],
             [
              0.2222222222222222,
              "#7201a8"
             ],
             [
              0.3333333333333333,
              "#9c179e"
             ],
             [
              0.4444444444444444,
              "#bd3786"
             ],
             [
              0.5555555555555556,
              "#d8576b"
             ],
             [
              0.6666666666666666,
              "#ed7953"
             ],
             [
              0.7777777777777778,
              "#fb9f3a"
             ],
             [
              0.8888888888888888,
              "#fdca26"
             ],
             [
              1,
              "#f0f921"
             ]
            ],
            "type": "heatmapgl"
           }
          ],
          "histogram": [
           {
            "marker": {
             "pattern": {
              "fillmode": "overlay",
              "size": 10,
              "solidity": 0.2
             }
            },
            "type": "histogram"
           }
          ],
          "histogram2d": [
           {
            "colorbar": {
             "outlinewidth": 0,
             "ticks": ""
            },
            "colorscale": [
             [
              0,
              "#0d0887"
             ],
             [
              0.1111111111111111,
              "#46039f"
             ],
             [
              0.2222222222222222,
              "#7201a8"
             ],
             [
              0.3333333333333333,
              "#9c179e"
             ],
             [
              0.4444444444444444,
              "#bd3786"
             ],
             [
              0.5555555555555556,
              "#d8576b"
             ],
             [
              0.6666666666666666,
              "#ed7953"
             ],
             [
              0.7777777777777778,
              "#fb9f3a"
             ],
             [
              0.8888888888888888,
              "#fdca26"
             ],
             [
              1,
              "#f0f921"
             ]
            ],
            "type": "histogram2d"
           }
          ],
          "histogram2dcontour": [
           {
            "colorbar": {
             "outlinewidth": 0,
             "ticks": ""
            },
            "colorscale": [
             [
              0,
              "#0d0887"
             ],
             [
              0.1111111111111111,
              "#46039f"
             ],
             [
              0.2222222222222222,
              "#7201a8"
             ],
             [
              0.3333333333333333,
              "#9c179e"
             ],
             [
              0.4444444444444444,
              "#bd3786"
             ],
             [
              0.5555555555555556,
              "#d8576b"
             ],
             [
              0.6666666666666666,
              "#ed7953"
             ],
             [
              0.7777777777777778,
              "#fb9f3a"
             ],
             [
              0.8888888888888888,
              "#fdca26"
             ],
             [
              1,
              "#f0f921"
             ]
            ],
            "type": "histogram2dcontour"
           }
          ],
          "mesh3d": [
           {
            "colorbar": {
             "outlinewidth": 0,
             "ticks": ""
            },
            "type": "mesh3d"
           }
          ],
          "parcoords": [
           {
            "line": {
             "colorbar": {
              "outlinewidth": 0,
              "ticks": ""
             }
            },
            "type": "parcoords"
           }
          ],
          "pie": [
           {
            "automargin": true,
            "type": "pie"
           }
          ],
          "scatter": [
           {
            "fillpattern": {
             "fillmode": "overlay",
             "size": 10,
             "solidity": 0.2
            },
            "type": "scatter"
           }
          ],
          "scatter3d": [
           {
            "line": {
             "colorbar": {
              "outlinewidth": 0,
              "ticks": ""
             }
            },
            "marker": {
             "colorbar": {
              "outlinewidth": 0,
              "ticks": ""
             }
            },
            "type": "scatter3d"
           }
          ],
          "scattercarpet": [
           {
            "marker": {
             "colorbar": {
              "outlinewidth": 0,
              "ticks": ""
             }
            },
            "type": "scattercarpet"
           }
          ],
          "scattergeo": [
           {
            "marker": {
             "colorbar": {
              "outlinewidth": 0,
              "ticks": ""
             }
            },
            "type": "scattergeo"
           }
          ],
          "scattergl": [
           {
            "marker": {
             "colorbar": {
              "outlinewidth": 0,
              "ticks": ""
             }
            },
            "type": "scattergl"
           }
          ],
          "scattermapbox": [
           {
            "marker": {
             "colorbar": {
              "outlinewidth": 0,
              "ticks": ""
             }
            },
            "type": "scattermapbox"
           }
          ],
          "scatterpolar": [
           {
            "marker": {
             "colorbar": {
              "outlinewidth": 0,
              "ticks": ""
             }
            },
            "type": "scatterpolar"
           }
          ],
          "scatterpolargl": [
           {
            "marker": {
             "colorbar": {
              "outlinewidth": 0,
              "ticks": ""
             }
            },
            "type": "scatterpolargl"
           }
          ],
          "scatterternary": [
           {
            "marker": {
             "colorbar": {
              "outlinewidth": 0,
              "ticks": ""
             }
            },
            "type": "scatterternary"
           }
          ],
          "surface": [
           {
            "colorbar": {
             "outlinewidth": 0,
             "ticks": ""
            },
            "colorscale": [
             [
              0,
              "#0d0887"
             ],
             [
              0.1111111111111111,
              "#46039f"
             ],
             [
              0.2222222222222222,
              "#7201a8"
             ],
             [
              0.3333333333333333,
              "#9c179e"
             ],
             [
              0.4444444444444444,
              "#bd3786"
             ],
             [
              0.5555555555555556,
              "#d8576b"
             ],
             [
              0.6666666666666666,
              "#ed7953"
             ],
             [
              0.7777777777777778,
              "#fb9f3a"
             ],
             [
              0.8888888888888888,
              "#fdca26"
             ],
             [
              1,
              "#f0f921"
             ]
            ],
            "type": "surface"
           }
          ],
          "table": [
           {
            "cells": {
             "fill": {
              "color": "#EBF0F8"
             },
             "line": {
              "color": "white"
             }
            },
            "header": {
             "fill": {
              "color": "#C8D4E3"
             },
             "line": {
              "color": "white"
             }
            },
            "type": "table"
           }
          ]
         },
         "layout": {
          "annotationdefaults": {
           "arrowcolor": "#2a3f5f",
           "arrowhead": 0,
           "arrowwidth": 1
          },
          "autotypenumbers": "strict",
          "coloraxis": {
           "colorbar": {
            "outlinewidth": 0,
            "ticks": ""
           }
          },
          "colorscale": {
           "diverging": [
            [
             0,
             "#8e0152"
            ],
            [
             0.1,
             "#c51b7d"
            ],
            [
             0.2,
             "#de77ae"
            ],
            [
             0.3,
             "#f1b6da"
            ],
            [
             0.4,
             "#fde0ef"
            ],
            [
             0.5,
             "#f7f7f7"
            ],
            [
             0.6,
             "#e6f5d0"
            ],
            [
             0.7,
             "#b8e186"
            ],
            [
             0.8,
             "#7fbc41"
            ],
            [
             0.9,
             "#4d9221"
            ],
            [
             1,
             "#276419"
            ]
           ],
           "sequential": [
            [
             0,
             "#0d0887"
            ],
            [
             0.1111111111111111,
             "#46039f"
            ],
            [
             0.2222222222222222,
             "#7201a8"
            ],
            [
             0.3333333333333333,
             "#9c179e"
            ],
            [
             0.4444444444444444,
             "#bd3786"
            ],
            [
             0.5555555555555556,
             "#d8576b"
            ],
            [
             0.6666666666666666,
             "#ed7953"
            ],
            [
             0.7777777777777778,
             "#fb9f3a"
            ],
            [
             0.8888888888888888,
             "#fdca26"
            ],
            [
             1,
             "#f0f921"
            ]
           ],
           "sequentialminus": [
            [
             0,
             "#0d0887"
            ],
            [
             0.1111111111111111,
             "#46039f"
            ],
            [
             0.2222222222222222,
             "#7201a8"
            ],
            [
             0.3333333333333333,
             "#9c179e"
            ],
            [
             0.4444444444444444,
             "#bd3786"
            ],
            [
             0.5555555555555556,
             "#d8576b"
            ],
            [
             0.6666666666666666,
             "#ed7953"
            ],
            [
             0.7777777777777778,
             "#fb9f3a"
            ],
            [
             0.8888888888888888,
             "#fdca26"
            ],
            [
             1,
             "#f0f921"
            ]
           ]
          },
          "colorway": [
           "#636efa",
           "#EF553B",
           "#00cc96",
           "#ab63fa",
           "#FFA15A",
           "#19d3f3",
           "#FF6692",
           "#B6E880",
           "#FF97FF",
           "#FECB52"
          ],
          "font": {
           "color": "#2a3f5f"
          },
          "geo": {
           "bgcolor": "white",
           "lakecolor": "white",
           "landcolor": "white",
           "showlakes": true,
           "showland": true,
           "subunitcolor": "#C8D4E3"
          },
          "hoverlabel": {
           "align": "left"
          },
          "hovermode": "closest",
          "mapbox": {
           "style": "light"
          },
          "paper_bgcolor": "white",
          "plot_bgcolor": "white",
          "polar": {
           "angularaxis": {
            "gridcolor": "#EBF0F8",
            "linecolor": "#EBF0F8",
            "ticks": ""
           },
           "bgcolor": "white",
           "radialaxis": {
            "gridcolor": "#EBF0F8",
            "linecolor": "#EBF0F8",
            "ticks": ""
           }
          },
          "scene": {
           "xaxis": {
            "backgroundcolor": "white",
            "gridcolor": "#DFE8F3",
            "gridwidth": 2,
            "linecolor": "#EBF0F8",
            "showbackground": true,
            "ticks": "",
            "zerolinecolor": "#EBF0F8"
           },
           "yaxis": {
            "backgroundcolor": "white",
            "gridcolor": "#DFE8F3",
            "gridwidth": 2,
            "linecolor": "#EBF0F8",
            "showbackground": true,
            "ticks": "",
            "zerolinecolor": "#EBF0F8"
           },
           "zaxis": {
            "backgroundcolor": "white",
            "gridcolor": "#DFE8F3",
            "gridwidth": 2,
            "linecolor": "#EBF0F8",
            "showbackground": true,
            "ticks": "",
            "zerolinecolor": "#EBF0F8"
           }
          },
          "shapedefaults": {
           "line": {
            "color": "#2a3f5f"
           }
          },
          "ternary": {
           "aaxis": {
            "gridcolor": "#DFE8F3",
            "linecolor": "#A2B1C6",
            "ticks": ""
           },
           "baxis": {
            "gridcolor": "#DFE8F3",
            "linecolor": "#A2B1C6",
            "ticks": ""
           },
           "bgcolor": "white",
           "caxis": {
            "gridcolor": "#DFE8F3",
            "linecolor": "#A2B1C6",
            "ticks": ""
           }
          },
          "title": {
           "x": 0.05
          },
          "xaxis": {
           "automargin": true,
           "gridcolor": "#EBF0F8",
           "linecolor": "#EBF0F8",
           "ticks": "",
           "title": {
            "standoff": 15
           },
           "zerolinecolor": "#EBF0F8",
           "zerolinewidth": 2
          },
          "yaxis": {
           "automargin": true,
           "gridcolor": "#EBF0F8",
           "linecolor": "#EBF0F8",
           "ticks": "",
           "title": {
            "standoff": 15
           },
           "zerolinecolor": "#EBF0F8",
           "zerolinewidth": 2
          }
         }
        },
        "xaxis": {
         "anchor": "y",
         "categoryorder": "category ascending",
         "domain": [
          0,
          1
         ],
         "title": {
          "text": "発生時（始期）"
         }
        },
        "yaxis": {
         "anchor": "x",
         "domain": [
          0,
          1
         ],
         "title": {
          "text": "件数"
         }
        }
       }
      }
     },
     "metadata": {},
     "output_type": "display_data"
    }
   ],
   "source": [
    "fig = px.bar(time,\n",
    "            x='発生時（始期）',\n",
    "            y='件数',\n",
    "            template='plotly_white' \n",
    "            )\n",
    "fig.update_xaxes(categoryorder='category ascending')\n",
    "fig.show()"
   ]
  },
  {
   "cell_type": "code",
   "execution_count": 54,
   "metadata": {},
   "outputs": [
    {
     "data": {
      "application/vnd.plotly.v1+json": {
       "config": {
        "plotlyServerURL": "https://plot.ly"
       },
       "data": [
        {
         "alignmentgroup": "True",
         "hovertemplate": "発生時（始期）=%{x}<br>件数=%{y}<extra></extra>",
         "legendgroup": "",
         "marker": {
          "color": "#636efa",
          "pattern": {
           "shape": ""
          }
         },
         "name": "",
         "offsetgroup": "",
         "orientation": "v",
         "showlegend": false,
         "textposition": "auto",
         "type": "bar",
         "x": [
          "18",
          "19",
          "08",
          "16",
          "20",
          "17",
          "12",
          "13",
          "15",
          "07",
          "14",
          "10",
          "21",
          "11",
          "09",
          "06",
          "22",
          "00",
          "23",
          "不明",
          "05",
          "04",
          "02",
          "01"
         ],
         "xaxis": "x",
         "y": [
          44,
          39,
          37,
          36,
          33,
          32,
          28,
          25,
          24,
          23,
          20,
          20,
          19,
          19,
          18,
          12,
          11,
          9,
          9,
          6,
          3,
          2,
          1,
          1
         ],
         "yaxis": "y"
        }
       ],
       "layout": {
        "barmode": "relative",
        "legend": {
         "tracegroupgap": 0
        },
        "margin": {
         "t": 60
        },
        "template": {
         "data": {
          "bar": [
           {
            "error_x": {
             "color": "#f2f5fa"
            },
            "error_y": {
             "color": "#f2f5fa"
            },
            "marker": {
             "line": {
              "color": "rgb(17,17,17)",
              "width": 0.5
             },
             "pattern": {
              "fillmode": "overlay",
              "size": 10,
              "solidity": 0.2
             }
            },
            "type": "bar"
           }
          ],
          "barpolar": [
           {
            "marker": {
             "line": {
              "color": "rgb(17,17,17)",
              "width": 0.5
             },
             "pattern": {
              "fillmode": "overlay",
              "size": 10,
              "solidity": 0.2
             }
            },
            "type": "barpolar"
           }
          ],
          "carpet": [
           {
            "aaxis": {
             "endlinecolor": "#A2B1C6",
             "gridcolor": "#506784",
             "linecolor": "#506784",
             "minorgridcolor": "#506784",
             "startlinecolor": "#A2B1C6"
            },
            "baxis": {
             "endlinecolor": "#A2B1C6",
             "gridcolor": "#506784",
             "linecolor": "#506784",
             "minorgridcolor": "#506784",
             "startlinecolor": "#A2B1C6"
            },
            "type": "carpet"
           }
          ],
          "choropleth": [
           {
            "colorbar": {
             "outlinewidth": 0,
             "ticks": ""
            },
            "type": "choropleth"
           }
          ],
          "contour": [
           {
            "colorbar": {
             "outlinewidth": 0,
             "ticks": ""
            },
            "colorscale": [
             [
              0,
              "#0d0887"
             ],
             [
              0.1111111111111111,
              "#46039f"
             ],
             [
              0.2222222222222222,
              "#7201a8"
             ],
             [
              0.3333333333333333,
              "#9c179e"
             ],
             [
              0.4444444444444444,
              "#bd3786"
             ],
             [
              0.5555555555555556,
              "#d8576b"
             ],
             [
              0.6666666666666666,
              "#ed7953"
             ],
             [
              0.7777777777777778,
              "#fb9f3a"
             ],
             [
              0.8888888888888888,
              "#fdca26"
             ],
             [
              1,
              "#f0f921"
             ]
            ],
            "type": "contour"
           }
          ],
          "contourcarpet": [
           {
            "colorbar": {
             "outlinewidth": 0,
             "ticks": ""
            },
            "type": "contourcarpet"
           }
          ],
          "heatmap": [
           {
            "colorbar": {
             "outlinewidth": 0,
             "ticks": ""
            },
            "colorscale": [
             [
              0,
              "#0d0887"
             ],
             [
              0.1111111111111111,
              "#46039f"
             ],
             [
              0.2222222222222222,
              "#7201a8"
             ],
             [
              0.3333333333333333,
              "#9c179e"
             ],
             [
              0.4444444444444444,
              "#bd3786"
             ],
             [
              0.5555555555555556,
              "#d8576b"
             ],
             [
              0.6666666666666666,
              "#ed7953"
             ],
             [
              0.7777777777777778,
              "#fb9f3a"
             ],
             [
              0.8888888888888888,
              "#fdca26"
             ],
             [
              1,
              "#f0f921"
             ]
            ],
            "type": "heatmap"
           }
          ],
          "heatmapgl": [
           {
            "colorbar": {
             "outlinewidth": 0,
             "ticks": ""
            },
            "colorscale": [
             [
              0,
              "#0d0887"
             ],
             [
              0.1111111111111111,
              "#46039f"
             ],
             [
              0.2222222222222222,
              "#7201a8"
             ],
             [
              0.3333333333333333,
              "#9c179e"
             ],
             [
              0.4444444444444444,
              "#bd3786"
             ],
             [
              0.5555555555555556,
              "#d8576b"
             ],
             [
              0.6666666666666666,
              "#ed7953"
             ],
             [
              0.7777777777777778,
              "#fb9f3a"
             ],
             [
              0.8888888888888888,
              "#fdca26"
             ],
             [
              1,
              "#f0f921"
             ]
            ],
            "type": "heatmapgl"
           }
          ],
          "histogram": [
           {
            "marker": {
             "pattern": {
              "fillmode": "overlay",
              "size": 10,
              "solidity": 0.2
             }
            },
            "type": "histogram"
           }
          ],
          "histogram2d": [
           {
            "colorbar": {
             "outlinewidth": 0,
             "ticks": ""
            },
            "colorscale": [
             [
              0,
              "#0d0887"
             ],
             [
              0.1111111111111111,
              "#46039f"
             ],
             [
              0.2222222222222222,
              "#7201a8"
             ],
             [
              0.3333333333333333,
              "#9c179e"
             ],
             [
              0.4444444444444444,
              "#bd3786"
             ],
             [
              0.5555555555555556,
              "#d8576b"
             ],
             [
              0.6666666666666666,
              "#ed7953"
             ],
             [
              0.7777777777777778,
              "#fb9f3a"
             ],
             [
              0.8888888888888888,
              "#fdca26"
             ],
             [
              1,
              "#f0f921"
             ]
            ],
            "type": "histogram2d"
           }
          ],
          "histogram2dcontour": [
           {
            "colorbar": {
             "outlinewidth": 0,
             "ticks": ""
            },
            "colorscale": [
             [
              0,
              "#0d0887"
             ],
             [
              0.1111111111111111,
              "#46039f"
             ],
             [
              0.2222222222222222,
              "#7201a8"
             ],
             [
              0.3333333333333333,
              "#9c179e"
             ],
             [
              0.4444444444444444,
              "#bd3786"
             ],
             [
              0.5555555555555556,
              "#d8576b"
             ],
             [
              0.6666666666666666,
              "#ed7953"
             ],
             [
              0.7777777777777778,
              "#fb9f3a"
             ],
             [
              0.8888888888888888,
              "#fdca26"
             ],
             [
              1,
              "#f0f921"
             ]
            ],
            "type": "histogram2dcontour"
           }
          ],
          "mesh3d": [
           {
            "colorbar": {
             "outlinewidth": 0,
             "ticks": ""
            },
            "type": "mesh3d"
           }
          ],
          "parcoords": [
           {
            "line": {
             "colorbar": {
              "outlinewidth": 0,
              "ticks": ""
             }
            },
            "type": "parcoords"
           }
          ],
          "pie": [
           {
            "automargin": true,
            "type": "pie"
           }
          ],
          "scatter": [
           {
            "marker": {
             "line": {
              "color": "#283442"
             }
            },
            "type": "scatter"
           }
          ],
          "scatter3d": [
           {
            "line": {
             "colorbar": {
              "outlinewidth": 0,
              "ticks": ""
             }
            },
            "marker": {
             "colorbar": {
              "outlinewidth": 0,
              "ticks": ""
             }
            },
            "type": "scatter3d"
           }
          ],
          "scattercarpet": [
           {
            "marker": {
             "colorbar": {
              "outlinewidth": 0,
              "ticks": ""
             }
            },
            "type": "scattercarpet"
           }
          ],
          "scattergeo": [
           {
            "marker": {
             "colorbar": {
              "outlinewidth": 0,
              "ticks": ""
             }
            },
            "type": "scattergeo"
           }
          ],
          "scattergl": [
           {
            "marker": {
             "line": {
              "color": "#283442"
             }
            },
            "type": "scattergl"
           }
          ],
          "scattermapbox": [
           {
            "marker": {
             "colorbar": {
              "outlinewidth": 0,
              "ticks": ""
             }
            },
            "type": "scattermapbox"
           }
          ],
          "scatterpolar": [
           {
            "marker": {
             "colorbar": {
              "outlinewidth": 0,
              "ticks": ""
             }
            },
            "type": "scatterpolar"
           }
          ],
          "scatterpolargl": [
           {
            "marker": {
             "colorbar": {
              "outlinewidth": 0,
              "ticks": ""
             }
            },
            "type": "scatterpolargl"
           }
          ],
          "scatterternary": [
           {
            "marker": {
             "colorbar": {
              "outlinewidth": 0,
              "ticks": ""
             }
            },
            "type": "scatterternary"
           }
          ],
          "surface": [
           {
            "colorbar": {
             "outlinewidth": 0,
             "ticks": ""
            },
            "colorscale": [
             [
              0,
              "#0d0887"
             ],
             [
              0.1111111111111111,
              "#46039f"
             ],
             [
              0.2222222222222222,
              "#7201a8"
             ],
             [
              0.3333333333333333,
              "#9c179e"
             ],
             [
              0.4444444444444444,
              "#bd3786"
             ],
             [
              0.5555555555555556,
              "#d8576b"
             ],
             [
              0.6666666666666666,
              "#ed7953"
             ],
             [
              0.7777777777777778,
              "#fb9f3a"
             ],
             [
              0.8888888888888888,
              "#fdca26"
             ],
             [
              1,
              "#f0f921"
             ]
            ],
            "type": "surface"
           }
          ],
          "table": [
           {
            "cells": {
             "fill": {
              "color": "#506784"
             },
             "line": {
              "color": "rgb(17,17,17)"
             }
            },
            "header": {
             "fill": {
              "color": "#2a3f5f"
             },
             "line": {
              "color": "rgb(17,17,17)"
             }
            },
            "type": "table"
           }
          ]
         },
         "layout": {
          "annotationdefaults": {
           "arrowcolor": "#f2f5fa",
           "arrowhead": 0,
           "arrowwidth": 1
          },
          "autotypenumbers": "strict",
          "coloraxis": {
           "colorbar": {
            "outlinewidth": 0,
            "ticks": ""
           }
          },
          "colorscale": {
           "diverging": [
            [
             0,
             "#8e0152"
            ],
            [
             0.1,
             "#c51b7d"
            ],
            [
             0.2,
             "#de77ae"
            ],
            [
             0.3,
             "#f1b6da"
            ],
            [
             0.4,
             "#fde0ef"
            ],
            [
             0.5,
             "#f7f7f7"
            ],
            [
             0.6,
             "#e6f5d0"
            ],
            [
             0.7,
             "#b8e186"
            ],
            [
             0.8,
             "#7fbc41"
            ],
            [
             0.9,
             "#4d9221"
            ],
            [
             1,
             "#276419"
            ]
           ],
           "sequential": [
            [
             0,
             "#0d0887"
            ],
            [
             0.1111111111111111,
             "#46039f"
            ],
            [
             0.2222222222222222,
             "#7201a8"
            ],
            [
             0.3333333333333333,
             "#9c179e"
            ],
            [
             0.4444444444444444,
             "#bd3786"
            ],
            [
             0.5555555555555556,
             "#d8576b"
            ],
            [
             0.6666666666666666,
             "#ed7953"
            ],
            [
             0.7777777777777778,
             "#fb9f3a"
            ],
            [
             0.8888888888888888,
             "#fdca26"
            ],
            [
             1,
             "#f0f921"
            ]
           ],
           "sequentialminus": [
            [
             0,
             "#0d0887"
            ],
            [
             0.1111111111111111,
             "#46039f"
            ],
            [
             0.2222222222222222,
             "#7201a8"
            ],
            [
             0.3333333333333333,
             "#9c179e"
            ],
            [
             0.4444444444444444,
             "#bd3786"
            ],
            [
             0.5555555555555556,
             "#d8576b"
            ],
            [
             0.6666666666666666,
             "#ed7953"
            ],
            [
             0.7777777777777778,
             "#fb9f3a"
            ],
            [
             0.8888888888888888,
             "#fdca26"
            ],
            [
             1,
             "#f0f921"
            ]
           ]
          },
          "colorway": [
           "#636efa",
           "#EF553B",
           "#00cc96",
           "#ab63fa",
           "#FFA15A",
           "#19d3f3",
           "#FF6692",
           "#B6E880",
           "#FF97FF",
           "#FECB52"
          ],
          "font": {
           "color": "#f2f5fa"
          },
          "geo": {
           "bgcolor": "rgb(17,17,17)",
           "lakecolor": "rgb(17,17,17)",
           "landcolor": "rgb(17,17,17)",
           "showlakes": true,
           "showland": true,
           "subunitcolor": "#506784"
          },
          "hoverlabel": {
           "align": "left"
          },
          "hovermode": "closest",
          "mapbox": {
           "style": "dark"
          },
          "paper_bgcolor": "rgb(17,17,17)",
          "plot_bgcolor": "rgb(17,17,17)",
          "polar": {
           "angularaxis": {
            "gridcolor": "#506784",
            "linecolor": "#506784",
            "ticks": ""
           },
           "bgcolor": "rgb(17,17,17)",
           "radialaxis": {
            "gridcolor": "#506784",
            "linecolor": "#506784",
            "ticks": ""
           }
          },
          "scene": {
           "xaxis": {
            "backgroundcolor": "rgb(17,17,17)",
            "gridcolor": "#506784",
            "gridwidth": 2,
            "linecolor": "#506784",
            "showbackground": true,
            "ticks": "",
            "zerolinecolor": "#C8D4E3"
           },
           "yaxis": {
            "backgroundcolor": "rgb(17,17,17)",
            "gridcolor": "#506784",
            "gridwidth": 2,
            "linecolor": "#506784",
            "showbackground": true,
            "ticks": "",
            "zerolinecolor": "#C8D4E3"
           },
           "zaxis": {
            "backgroundcolor": "rgb(17,17,17)",
            "gridcolor": "#506784",
            "gridwidth": 2,
            "linecolor": "#506784",
            "showbackground": true,
            "ticks": "",
            "zerolinecolor": "#C8D4E3"
           }
          },
          "shapedefaults": {
           "line": {
            "color": "#f2f5fa"
           }
          },
          "sliderdefaults": {
           "bgcolor": "#C8D4E3",
           "bordercolor": "rgb(17,17,17)",
           "borderwidth": 1,
           "tickwidth": 0
          },
          "ternary": {
           "aaxis": {
            "gridcolor": "#506784",
            "linecolor": "#506784",
            "ticks": ""
           },
           "baxis": {
            "gridcolor": "#506784",
            "linecolor": "#506784",
            "ticks": ""
           },
           "bgcolor": "rgb(17,17,17)",
           "caxis": {
            "gridcolor": "#506784",
            "linecolor": "#506784",
            "ticks": ""
           }
          },
          "title": {
           "x": 0.05
          },
          "updatemenudefaults": {
           "bgcolor": "#506784",
           "borderwidth": 0
          },
          "xaxis": {
           "automargin": true,
           "gridcolor": "#283442",
           "linecolor": "#506784",
           "ticks": "",
           "title": {
            "standoff": 15
           },
           "zerolinecolor": "#283442",
           "zerolinewidth": 2
          },
          "yaxis": {
           "automargin": true,
           "gridcolor": "#283442",
           "linecolor": "#506784",
           "ticks": "",
           "title": {
            "standoff": 15
           },
           "zerolinecolor": "#283442",
           "zerolinewidth": 2
          }
         }
        },
        "xaxis": {
         "anchor": "y",
         "categoryorder": "category ascending",
         "domain": [
          0,
          1
         ],
         "title": {
          "text": "発生時（始期）"
         }
        },
        "yaxis": {
         "anchor": "x",
         "domain": [
          0,
          1
         ],
         "title": {
          "text": "件数"
         }
        }
       }
      }
     },
     "metadata": {},
     "output_type": "display_data"
    }
   ],
   "source": [
    "fig = px.bar(time,\n",
    "            x='発生時（始期）',\n",
    "            y='件数',\n",
    "            template='plotly_dark' \n",
    "            )\n",
    "fig.update_xaxes(categoryorder='category ascending')\n",
    "fig.show()"
   ]
  },
  {
   "cell_type": "code",
   "execution_count": 55,
   "metadata": {},
   "outputs": [
    {
     "data": {
      "application/vnd.plotly.v1+json": {
       "config": {
        "plotlyServerURL": "https://plot.ly"
       },
       "data": [
        {
         "alignmentgroup": "True",
         "hovertemplate": "発生時（始期）=%{x}<br>件数=%{y}<extra></extra>",
         "legendgroup": "",
         "marker": {
          "color": "#F8766D",
          "pattern": {
           "shape": ""
          }
         },
         "name": "",
         "offsetgroup": "",
         "orientation": "v",
         "showlegend": false,
         "textposition": "auto",
         "type": "bar",
         "x": [
          "18",
          "19",
          "08",
          "16",
          "20",
          "17",
          "12",
          "13",
          "15",
          "07",
          "14",
          "10",
          "21",
          "11",
          "09",
          "06",
          "22",
          "00",
          "23",
          "不明",
          "05",
          "04",
          "02",
          "01"
         ],
         "xaxis": "x",
         "y": [
          44,
          39,
          37,
          36,
          33,
          32,
          28,
          25,
          24,
          23,
          20,
          20,
          19,
          19,
          18,
          12,
          11,
          9,
          9,
          6,
          3,
          2,
          1,
          1
         ],
         "yaxis": "y"
        }
       ],
       "layout": {
        "barmode": "relative",
        "legend": {
         "tracegroupgap": 0
        },
        "margin": {
         "t": 60
        },
        "template": {
         "data": {
          "bar": [
           {
            "error_x": {
             "color": "rgb(51,51,51)"
            },
            "error_y": {
             "color": "rgb(51,51,51)"
            },
            "marker": {
             "line": {
              "color": "rgb(237,237,237)",
              "width": 0.5
             },
             "pattern": {
              "fillmode": "overlay",
              "size": 10,
              "solidity": 0.2
             }
            },
            "type": "bar"
           }
          ],
          "barpolar": [
           {
            "marker": {
             "line": {
              "color": "rgb(237,237,237)",
              "width": 0.5
             },
             "pattern": {
              "fillmode": "overlay",
              "size": 10,
              "solidity": 0.2
             }
            },
            "type": "barpolar"
           }
          ],
          "carpet": [
           {
            "aaxis": {
             "endlinecolor": "rgb(51,51,51)",
             "gridcolor": "white",
             "linecolor": "white",
             "minorgridcolor": "white",
             "startlinecolor": "rgb(51,51,51)"
            },
            "baxis": {
             "endlinecolor": "rgb(51,51,51)",
             "gridcolor": "white",
             "linecolor": "white",
             "minorgridcolor": "white",
             "startlinecolor": "rgb(51,51,51)"
            },
            "type": "carpet"
           }
          ],
          "choropleth": [
           {
            "colorbar": {
             "outlinewidth": 0,
             "tickcolor": "rgb(237,237,237)",
             "ticklen": 6,
             "ticks": "inside"
            },
            "type": "choropleth"
           }
          ],
          "contour": [
           {
            "colorbar": {
             "outlinewidth": 0,
             "tickcolor": "rgb(237,237,237)",
             "ticklen": 6,
             "ticks": "inside"
            },
            "colorscale": [
             [
              0,
              "rgb(20,44,66)"
             ],
             [
              1,
              "rgb(90,179,244)"
             ]
            ],
            "type": "contour"
           }
          ],
          "contourcarpet": [
           {
            "colorbar": {
             "outlinewidth": 0,
             "tickcolor": "rgb(237,237,237)",
             "ticklen": 6,
             "ticks": "inside"
            },
            "type": "contourcarpet"
           }
          ],
          "heatmap": [
           {
            "colorbar": {
             "outlinewidth": 0,
             "tickcolor": "rgb(237,237,237)",
             "ticklen": 6,
             "ticks": "inside"
            },
            "colorscale": [
             [
              0,
              "rgb(20,44,66)"
             ],
             [
              1,
              "rgb(90,179,244)"
             ]
            ],
            "type": "heatmap"
           }
          ],
          "heatmapgl": [
           {
            "colorbar": {
             "outlinewidth": 0,
             "tickcolor": "rgb(237,237,237)",
             "ticklen": 6,
             "ticks": "inside"
            },
            "colorscale": [
             [
              0,
              "rgb(20,44,66)"
             ],
             [
              1,
              "rgb(90,179,244)"
             ]
            ],
            "type": "heatmapgl"
           }
          ],
          "histogram": [
           {
            "marker": {
             "pattern": {
              "fillmode": "overlay",
              "size": 10,
              "solidity": 0.2
             }
            },
            "type": "histogram"
           }
          ],
          "histogram2d": [
           {
            "colorbar": {
             "outlinewidth": 0,
             "tickcolor": "rgb(237,237,237)",
             "ticklen": 6,
             "ticks": "inside"
            },
            "colorscale": [
             [
              0,
              "rgb(20,44,66)"
             ],
             [
              1,
              "rgb(90,179,244)"
             ]
            ],
            "type": "histogram2d"
           }
          ],
          "histogram2dcontour": [
           {
            "colorbar": {
             "outlinewidth": 0,
             "tickcolor": "rgb(237,237,237)",
             "ticklen": 6,
             "ticks": "inside"
            },
            "colorscale": [
             [
              0,
              "rgb(20,44,66)"
             ],
             [
              1,
              "rgb(90,179,244)"
             ]
            ],
            "type": "histogram2dcontour"
           }
          ],
          "mesh3d": [
           {
            "colorbar": {
             "outlinewidth": 0,
             "tickcolor": "rgb(237,237,237)",
             "ticklen": 6,
             "ticks": "inside"
            },
            "type": "mesh3d"
           }
          ],
          "parcoords": [
           {
            "line": {
             "colorbar": {
              "outlinewidth": 0,
              "tickcolor": "rgb(237,237,237)",
              "ticklen": 6,
              "ticks": "inside"
             }
            },
            "type": "parcoords"
           }
          ],
          "pie": [
           {
            "automargin": true,
            "type": "pie"
           }
          ],
          "scatter": [
           {
            "fillpattern": {
             "fillmode": "overlay",
             "size": 10,
             "solidity": 0.2
            },
            "type": "scatter"
           }
          ],
          "scatter3d": [
           {
            "line": {
             "colorbar": {
              "outlinewidth": 0,
              "tickcolor": "rgb(237,237,237)",
              "ticklen": 6,
              "ticks": "inside"
             }
            },
            "marker": {
             "colorbar": {
              "outlinewidth": 0,
              "tickcolor": "rgb(237,237,237)",
              "ticklen": 6,
              "ticks": "inside"
             }
            },
            "type": "scatter3d"
           }
          ],
          "scattercarpet": [
           {
            "marker": {
             "colorbar": {
              "outlinewidth": 0,
              "tickcolor": "rgb(237,237,237)",
              "ticklen": 6,
              "ticks": "inside"
             }
            },
            "type": "scattercarpet"
           }
          ],
          "scattergeo": [
           {
            "marker": {
             "colorbar": {
              "outlinewidth": 0,
              "tickcolor": "rgb(237,237,237)",
              "ticklen": 6,
              "ticks": "inside"
             }
            },
            "type": "scattergeo"
           }
          ],
          "scattergl": [
           {
            "marker": {
             "colorbar": {
              "outlinewidth": 0,
              "tickcolor": "rgb(237,237,237)",
              "ticklen": 6,
              "ticks": "inside"
             }
            },
            "type": "scattergl"
           }
          ],
          "scattermapbox": [
           {
            "marker": {
             "colorbar": {
              "outlinewidth": 0,
              "tickcolor": "rgb(237,237,237)",
              "ticklen": 6,
              "ticks": "inside"
             }
            },
            "type": "scattermapbox"
           }
          ],
          "scatterpolar": [
           {
            "marker": {
             "colorbar": {
              "outlinewidth": 0,
              "tickcolor": "rgb(237,237,237)",
              "ticklen": 6,
              "ticks": "inside"
             }
            },
            "type": "scatterpolar"
           }
          ],
          "scatterpolargl": [
           {
            "marker": {
             "colorbar": {
              "outlinewidth": 0,
              "tickcolor": "rgb(237,237,237)",
              "ticklen": 6,
              "ticks": "inside"
             }
            },
            "type": "scatterpolargl"
           }
          ],
          "scatterternary": [
           {
            "marker": {
             "colorbar": {
              "outlinewidth": 0,
              "tickcolor": "rgb(237,237,237)",
              "ticklen": 6,
              "ticks": "inside"
             }
            },
            "type": "scatterternary"
           }
          ],
          "surface": [
           {
            "colorbar": {
             "outlinewidth": 0,
             "tickcolor": "rgb(237,237,237)",
             "ticklen": 6,
             "ticks": "inside"
            },
            "colorscale": [
             [
              0,
              "rgb(20,44,66)"
             ],
             [
              1,
              "rgb(90,179,244)"
             ]
            ],
            "type": "surface"
           }
          ],
          "table": [
           {
            "cells": {
             "fill": {
              "color": "rgb(237,237,237)"
             },
             "line": {
              "color": "white"
             }
            },
            "header": {
             "fill": {
              "color": "rgb(217,217,217)"
             },
             "line": {
              "color": "white"
             }
            },
            "type": "table"
           }
          ]
         },
         "layout": {
          "annotationdefaults": {
           "arrowhead": 0,
           "arrowwidth": 1
          },
          "autotypenumbers": "strict",
          "coloraxis": {
           "colorbar": {
            "outlinewidth": 0,
            "tickcolor": "rgb(237,237,237)",
            "ticklen": 6,
            "ticks": "inside"
           }
          },
          "colorscale": {
           "sequential": [
            [
             0,
             "rgb(20,44,66)"
            ],
            [
             1,
             "rgb(90,179,244)"
            ]
           ],
           "sequentialminus": [
            [
             0,
             "rgb(20,44,66)"
            ],
            [
             1,
             "rgb(90,179,244)"
            ]
           ]
          },
          "colorway": [
           "#F8766D",
           "#A3A500",
           "#00BF7D",
           "#00B0F6",
           "#E76BF3"
          ],
          "font": {
           "color": "rgb(51,51,51)"
          },
          "geo": {
           "bgcolor": "white",
           "lakecolor": "white",
           "landcolor": "rgb(237,237,237)",
           "showlakes": true,
           "showland": true,
           "subunitcolor": "white"
          },
          "hoverlabel": {
           "align": "left"
          },
          "hovermode": "closest",
          "paper_bgcolor": "white",
          "plot_bgcolor": "rgb(237,237,237)",
          "polar": {
           "angularaxis": {
            "gridcolor": "white",
            "linecolor": "white",
            "showgrid": true,
            "tickcolor": "rgb(51,51,51)",
            "ticks": "outside"
           },
           "bgcolor": "rgb(237,237,237)",
           "radialaxis": {
            "gridcolor": "white",
            "linecolor": "white",
            "showgrid": true,
            "tickcolor": "rgb(51,51,51)",
            "ticks": "outside"
           }
          },
          "scene": {
           "xaxis": {
            "backgroundcolor": "rgb(237,237,237)",
            "gridcolor": "white",
            "gridwidth": 2,
            "linecolor": "white",
            "showbackground": true,
            "showgrid": true,
            "tickcolor": "rgb(51,51,51)",
            "ticks": "outside",
            "zerolinecolor": "white"
           },
           "yaxis": {
            "backgroundcolor": "rgb(237,237,237)",
            "gridcolor": "white",
            "gridwidth": 2,
            "linecolor": "white",
            "showbackground": true,
            "showgrid": true,
            "tickcolor": "rgb(51,51,51)",
            "ticks": "outside",
            "zerolinecolor": "white"
           },
           "zaxis": {
            "backgroundcolor": "rgb(237,237,237)",
            "gridcolor": "white",
            "gridwidth": 2,
            "linecolor": "white",
            "showbackground": true,
            "showgrid": true,
            "tickcolor": "rgb(51,51,51)",
            "ticks": "outside",
            "zerolinecolor": "white"
           }
          },
          "shapedefaults": {
           "fillcolor": "black",
           "line": {
            "width": 0
           },
           "opacity": 0.3
          },
          "ternary": {
           "aaxis": {
            "gridcolor": "white",
            "linecolor": "white",
            "showgrid": true,
            "tickcolor": "rgb(51,51,51)",
            "ticks": "outside"
           },
           "baxis": {
            "gridcolor": "white",
            "linecolor": "white",
            "showgrid": true,
            "tickcolor": "rgb(51,51,51)",
            "ticks": "outside"
           },
           "bgcolor": "rgb(237,237,237)",
           "caxis": {
            "gridcolor": "white",
            "linecolor": "white",
            "showgrid": true,
            "tickcolor": "rgb(51,51,51)",
            "ticks": "outside"
           }
          },
          "xaxis": {
           "automargin": true,
           "gridcolor": "white",
           "linecolor": "white",
           "showgrid": true,
           "tickcolor": "rgb(51,51,51)",
           "ticks": "outside",
           "title": {
            "standoff": 15
           },
           "zerolinecolor": "white"
          },
          "yaxis": {
           "automargin": true,
           "gridcolor": "white",
           "linecolor": "white",
           "showgrid": true,
           "tickcolor": "rgb(51,51,51)",
           "ticks": "outside",
           "title": {
            "standoff": 15
           },
           "zerolinecolor": "white"
          }
         }
        },
        "xaxis": {
         "anchor": "y",
         "categoryorder": "category ascending",
         "domain": [
          0,
          1
         ],
         "title": {
          "text": "発生時（始期）"
         }
        },
        "yaxis": {
         "anchor": "x",
         "domain": [
          0,
          1
         ],
         "title": {
          "text": "件数"
         }
        }
       }
      }
     },
     "metadata": {},
     "output_type": "display_data"
    }
   ],
   "source": [
    "fig = px.bar(time,\n",
    "            x='発生時（始期）',\n",
    "            y='件数',\n",
    "            template='ggplot2' \n",
    "            )\n",
    "fig.update_xaxes(categoryorder='category ascending')\n",
    "fig.show()"
   ]
  },
  {
   "cell_type": "code",
   "execution_count": 56,
   "metadata": {},
   "outputs": [
    {
     "data": {
      "application/vnd.plotly.v1+json": {
       "config": {
        "plotlyServerURL": "https://plot.ly"
       },
       "data": [
        {
         "alignmentgroup": "True",
         "hovertemplate": "発生時（始期）=%{x}<br>件数=%{y}<extra></extra>",
         "legendgroup": "",
         "marker": {
          "color": "#1F77B4",
          "pattern": {
           "shape": ""
          }
         },
         "name": "",
         "offsetgroup": "",
         "orientation": "v",
         "showlegend": false,
         "textposition": "auto",
         "type": "bar",
         "x": [
          "18",
          "19",
          "08",
          "16",
          "20",
          "17",
          "12",
          "13",
          "15",
          "07",
          "14",
          "10",
          "21",
          "11",
          "09",
          "06",
          "22",
          "00",
          "23",
          "不明",
          "05",
          "04",
          "02",
          "01"
         ],
         "xaxis": "x",
         "y": [
          44,
          39,
          37,
          36,
          33,
          32,
          28,
          25,
          24,
          23,
          20,
          20,
          19,
          19,
          18,
          12,
          11,
          9,
          9,
          6,
          3,
          2,
          1,
          1
         ],
         "yaxis": "y"
        }
       ],
       "layout": {
        "barmode": "relative",
        "legend": {
         "tracegroupgap": 0
        },
        "margin": {
         "t": 60
        },
        "template": {
         "data": {
          "bar": [
           {
            "error_x": {
             "color": "rgb(36,36,36)"
            },
            "error_y": {
             "color": "rgb(36,36,36)"
            },
            "marker": {
             "line": {
              "color": "white",
              "width": 0.5
             },
             "pattern": {
              "fillmode": "overlay",
              "size": 10,
              "solidity": 0.2
             }
            },
            "type": "bar"
           }
          ],
          "barpolar": [
           {
            "marker": {
             "line": {
              "color": "white",
              "width": 0.5
             },
             "pattern": {
              "fillmode": "overlay",
              "size": 10,
              "solidity": 0.2
             }
            },
            "type": "barpolar"
           }
          ],
          "carpet": [
           {
            "aaxis": {
             "endlinecolor": "rgb(36,36,36)",
             "gridcolor": "white",
             "linecolor": "white",
             "minorgridcolor": "white",
             "startlinecolor": "rgb(36,36,36)"
            },
            "baxis": {
             "endlinecolor": "rgb(36,36,36)",
             "gridcolor": "white",
             "linecolor": "white",
             "minorgridcolor": "white",
             "startlinecolor": "rgb(36,36,36)"
            },
            "type": "carpet"
           }
          ],
          "choropleth": [
           {
            "colorbar": {
             "outlinewidth": 1,
             "tickcolor": "rgb(36,36,36)",
             "ticks": "outside"
            },
            "type": "choropleth"
           }
          ],
          "contour": [
           {
            "colorbar": {
             "outlinewidth": 1,
             "tickcolor": "rgb(36,36,36)",
             "ticks": "outside"
            },
            "colorscale": [
             [
              0,
              "#440154"
             ],
             [
              0.1111111111111111,
              "#482878"
             ],
             [
              0.2222222222222222,
              "#3e4989"
             ],
             [
              0.3333333333333333,
              "#31688e"
             ],
             [
              0.4444444444444444,
              "#26828e"
             ],
             [
              0.5555555555555556,
              "#1f9e89"
             ],
             [
              0.6666666666666666,
              "#35b779"
             ],
             [
              0.7777777777777778,
              "#6ece58"
             ],
             [
              0.8888888888888888,
              "#b5de2b"
             ],
             [
              1,
              "#fde725"
             ]
            ],
            "type": "contour"
           }
          ],
          "contourcarpet": [
           {
            "colorbar": {
             "outlinewidth": 1,
             "tickcolor": "rgb(36,36,36)",
             "ticks": "outside"
            },
            "type": "contourcarpet"
           }
          ],
          "heatmap": [
           {
            "colorbar": {
             "outlinewidth": 1,
             "tickcolor": "rgb(36,36,36)",
             "ticks": "outside"
            },
            "colorscale": [
             [
              0,
              "#440154"
             ],
             [
              0.1111111111111111,
              "#482878"
             ],
             [
              0.2222222222222222,
              "#3e4989"
             ],
             [
              0.3333333333333333,
              "#31688e"
             ],
             [
              0.4444444444444444,
              "#26828e"
             ],
             [
              0.5555555555555556,
              "#1f9e89"
             ],
             [
              0.6666666666666666,
              "#35b779"
             ],
             [
              0.7777777777777778,
              "#6ece58"
             ],
             [
              0.8888888888888888,
              "#b5de2b"
             ],
             [
              1,
              "#fde725"
             ]
            ],
            "type": "heatmap"
           }
          ],
          "heatmapgl": [
           {
            "colorbar": {
             "outlinewidth": 1,
             "tickcolor": "rgb(36,36,36)",
             "ticks": "outside"
            },
            "colorscale": [
             [
              0,
              "#440154"
             ],
             [
              0.1111111111111111,
              "#482878"
             ],
             [
              0.2222222222222222,
              "#3e4989"
             ],
             [
              0.3333333333333333,
              "#31688e"
             ],
             [
              0.4444444444444444,
              "#26828e"
             ],
             [
              0.5555555555555556,
              "#1f9e89"
             ],
             [
              0.6666666666666666,
              "#35b779"
             ],
             [
              0.7777777777777778,
              "#6ece58"
             ],
             [
              0.8888888888888888,
              "#b5de2b"
             ],
             [
              1,
              "#fde725"
             ]
            ],
            "type": "heatmapgl"
           }
          ],
          "histogram": [
           {
            "marker": {
             "line": {
              "color": "white",
              "width": 0.6
             }
            },
            "type": "histogram"
           }
          ],
          "histogram2d": [
           {
            "colorbar": {
             "outlinewidth": 1,
             "tickcolor": "rgb(36,36,36)",
             "ticks": "outside"
            },
            "colorscale": [
             [
              0,
              "#440154"
             ],
             [
              0.1111111111111111,
              "#482878"
             ],
             [
              0.2222222222222222,
              "#3e4989"
             ],
             [
              0.3333333333333333,
              "#31688e"
             ],
             [
              0.4444444444444444,
              "#26828e"
             ],
             [
              0.5555555555555556,
              "#1f9e89"
             ],
             [
              0.6666666666666666,
              "#35b779"
             ],
             [
              0.7777777777777778,
              "#6ece58"
             ],
             [
              0.8888888888888888,
              "#b5de2b"
             ],
             [
              1,
              "#fde725"
             ]
            ],
            "type": "histogram2d"
           }
          ],
          "histogram2dcontour": [
           {
            "colorbar": {
             "outlinewidth": 1,
             "tickcolor": "rgb(36,36,36)",
             "ticks": "outside"
            },
            "colorscale": [
             [
              0,
              "#440154"
             ],
             [
              0.1111111111111111,
              "#482878"
             ],
             [
              0.2222222222222222,
              "#3e4989"
             ],
             [
              0.3333333333333333,
              "#31688e"
             ],
             [
              0.4444444444444444,
              "#26828e"
             ],
             [
              0.5555555555555556,
              "#1f9e89"
             ],
             [
              0.6666666666666666,
              "#35b779"
             ],
             [
              0.7777777777777778,
              "#6ece58"
             ],
             [
              0.8888888888888888,
              "#b5de2b"
             ],
             [
              1,
              "#fde725"
             ]
            ],
            "type": "histogram2dcontour"
           }
          ],
          "mesh3d": [
           {
            "colorbar": {
             "outlinewidth": 1,
             "tickcolor": "rgb(36,36,36)",
             "ticks": "outside"
            },
            "type": "mesh3d"
           }
          ],
          "parcoords": [
           {
            "line": {
             "colorbar": {
              "outlinewidth": 1,
              "tickcolor": "rgb(36,36,36)",
              "ticks": "outside"
             }
            },
            "type": "parcoords"
           }
          ],
          "pie": [
           {
            "automargin": true,
            "type": "pie"
           }
          ],
          "scatter": [
           {
            "fillpattern": {
             "fillmode": "overlay",
             "size": 10,
             "solidity": 0.2
            },
            "type": "scatter"
           }
          ],
          "scatter3d": [
           {
            "line": {
             "colorbar": {
              "outlinewidth": 1,
              "tickcolor": "rgb(36,36,36)",
              "ticks": "outside"
             }
            },
            "marker": {
             "colorbar": {
              "outlinewidth": 1,
              "tickcolor": "rgb(36,36,36)",
              "ticks": "outside"
             }
            },
            "type": "scatter3d"
           }
          ],
          "scattercarpet": [
           {
            "marker": {
             "colorbar": {
              "outlinewidth": 1,
              "tickcolor": "rgb(36,36,36)",
              "ticks": "outside"
             }
            },
            "type": "scattercarpet"
           }
          ],
          "scattergeo": [
           {
            "marker": {
             "colorbar": {
              "outlinewidth": 1,
              "tickcolor": "rgb(36,36,36)",
              "ticks": "outside"
             }
            },
            "type": "scattergeo"
           }
          ],
          "scattergl": [
           {
            "marker": {
             "colorbar": {
              "outlinewidth": 1,
              "tickcolor": "rgb(36,36,36)",
              "ticks": "outside"
             }
            },
            "type": "scattergl"
           }
          ],
          "scattermapbox": [
           {
            "marker": {
             "colorbar": {
              "outlinewidth": 1,
              "tickcolor": "rgb(36,36,36)",
              "ticks": "outside"
             }
            },
            "type": "scattermapbox"
           }
          ],
          "scatterpolar": [
           {
            "marker": {
             "colorbar": {
              "outlinewidth": 1,
              "tickcolor": "rgb(36,36,36)",
              "ticks": "outside"
             }
            },
            "type": "scatterpolar"
           }
          ],
          "scatterpolargl": [
           {
            "marker": {
             "colorbar": {
              "outlinewidth": 1,
              "tickcolor": "rgb(36,36,36)",
              "ticks": "outside"
             }
            },
            "type": "scatterpolargl"
           }
          ],
          "scatterternary": [
           {
            "marker": {
             "colorbar": {
              "outlinewidth": 1,
              "tickcolor": "rgb(36,36,36)",
              "ticks": "outside"
             }
            },
            "type": "scatterternary"
           }
          ],
          "surface": [
           {
            "colorbar": {
             "outlinewidth": 1,
             "tickcolor": "rgb(36,36,36)",
             "ticks": "outside"
            },
            "colorscale": [
             [
              0,
              "#440154"
             ],
             [
              0.1111111111111111,
              "#482878"
             ],
             [
              0.2222222222222222,
              "#3e4989"
             ],
             [
              0.3333333333333333,
              "#31688e"
             ],
             [
              0.4444444444444444,
              "#26828e"
             ],
             [
              0.5555555555555556,
              "#1f9e89"
             ],
             [
              0.6666666666666666,
              "#35b779"
             ],
             [
              0.7777777777777778,
              "#6ece58"
             ],
             [
              0.8888888888888888,
              "#b5de2b"
             ],
             [
              1,
              "#fde725"
             ]
            ],
            "type": "surface"
           }
          ],
          "table": [
           {
            "cells": {
             "fill": {
              "color": "rgb(237,237,237)"
             },
             "line": {
              "color": "white"
             }
            },
            "header": {
             "fill": {
              "color": "rgb(217,217,217)"
             },
             "line": {
              "color": "white"
             }
            },
            "type": "table"
           }
          ]
         },
         "layout": {
          "annotationdefaults": {
           "arrowhead": 0,
           "arrowwidth": 1
          },
          "autotypenumbers": "strict",
          "coloraxis": {
           "colorbar": {
            "outlinewidth": 1,
            "tickcolor": "rgb(36,36,36)",
            "ticks": "outside"
           }
          },
          "colorscale": {
           "diverging": [
            [
             0,
             "rgb(103,0,31)"
            ],
            [
             0.1,
             "rgb(178,24,43)"
            ],
            [
             0.2,
             "rgb(214,96,77)"
            ],
            [
             0.3,
             "rgb(244,165,130)"
            ],
            [
             0.4,
             "rgb(253,219,199)"
            ],
            [
             0.5,
             "rgb(247,247,247)"
            ],
            [
             0.6,
             "rgb(209,229,240)"
            ],
            [
             0.7,
             "rgb(146,197,222)"
            ],
            [
             0.8,
             "rgb(67,147,195)"
            ],
            [
             0.9,
             "rgb(33,102,172)"
            ],
            [
             1,
             "rgb(5,48,97)"
            ]
           ],
           "sequential": [
            [
             0,
             "#440154"
            ],
            [
             0.1111111111111111,
             "#482878"
            ],
            [
             0.2222222222222222,
             "#3e4989"
            ],
            [
             0.3333333333333333,
             "#31688e"
            ],
            [
             0.4444444444444444,
             "#26828e"
            ],
            [
             0.5555555555555556,
             "#1f9e89"
            ],
            [
             0.6666666666666666,
             "#35b779"
            ],
            [
             0.7777777777777778,
             "#6ece58"
            ],
            [
             0.8888888888888888,
             "#b5de2b"
            ],
            [
             1,
             "#fde725"
            ]
           ],
           "sequentialminus": [
            [
             0,
             "#440154"
            ],
            [
             0.1111111111111111,
             "#482878"
            ],
            [
             0.2222222222222222,
             "#3e4989"
            ],
            [
             0.3333333333333333,
             "#31688e"
            ],
            [
             0.4444444444444444,
             "#26828e"
            ],
            [
             0.5555555555555556,
             "#1f9e89"
            ],
            [
             0.6666666666666666,
             "#35b779"
            ],
            [
             0.7777777777777778,
             "#6ece58"
            ],
            [
             0.8888888888888888,
             "#b5de2b"
            ],
            [
             1,
             "#fde725"
            ]
           ]
          },
          "colorway": [
           "#1F77B4",
           "#FF7F0E",
           "#2CA02C",
           "#D62728",
           "#9467BD",
           "#8C564B",
           "#E377C2",
           "#7F7F7F",
           "#BCBD22",
           "#17BECF"
          ],
          "font": {
           "color": "rgb(36,36,36)"
          },
          "geo": {
           "bgcolor": "white",
           "lakecolor": "white",
           "landcolor": "white",
           "showlakes": true,
           "showland": true,
           "subunitcolor": "white"
          },
          "hoverlabel": {
           "align": "left"
          },
          "hovermode": "closest",
          "mapbox": {
           "style": "light"
          },
          "paper_bgcolor": "white",
          "plot_bgcolor": "white",
          "polar": {
           "angularaxis": {
            "gridcolor": "rgb(232,232,232)",
            "linecolor": "rgb(36,36,36)",
            "showgrid": false,
            "showline": true,
            "ticks": "outside"
           },
           "bgcolor": "white",
           "radialaxis": {
            "gridcolor": "rgb(232,232,232)",
            "linecolor": "rgb(36,36,36)",
            "showgrid": false,
            "showline": true,
            "ticks": "outside"
           }
          },
          "scene": {
           "xaxis": {
            "backgroundcolor": "white",
            "gridcolor": "rgb(232,232,232)",
            "gridwidth": 2,
            "linecolor": "rgb(36,36,36)",
            "showbackground": true,
            "showgrid": false,
            "showline": true,
            "ticks": "outside",
            "zeroline": false,
            "zerolinecolor": "rgb(36,36,36)"
           },
           "yaxis": {
            "backgroundcolor": "white",
            "gridcolor": "rgb(232,232,232)",
            "gridwidth": 2,
            "linecolor": "rgb(36,36,36)",
            "showbackground": true,
            "showgrid": false,
            "showline": true,
            "ticks": "outside",
            "zeroline": false,
            "zerolinecolor": "rgb(36,36,36)"
           },
           "zaxis": {
            "backgroundcolor": "white",
            "gridcolor": "rgb(232,232,232)",
            "gridwidth": 2,
            "linecolor": "rgb(36,36,36)",
            "showbackground": true,
            "showgrid": false,
            "showline": true,
            "ticks": "outside",
            "zeroline": false,
            "zerolinecolor": "rgb(36,36,36)"
           }
          },
          "shapedefaults": {
           "fillcolor": "black",
           "line": {
            "width": 0
           },
           "opacity": 0.3
          },
          "ternary": {
           "aaxis": {
            "gridcolor": "rgb(232,232,232)",
            "linecolor": "rgb(36,36,36)",
            "showgrid": false,
            "showline": true,
            "ticks": "outside"
           },
           "baxis": {
            "gridcolor": "rgb(232,232,232)",
            "linecolor": "rgb(36,36,36)",
            "showgrid": false,
            "showline": true,
            "ticks": "outside"
           },
           "bgcolor": "white",
           "caxis": {
            "gridcolor": "rgb(232,232,232)",
            "linecolor": "rgb(36,36,36)",
            "showgrid": false,
            "showline": true,
            "ticks": "outside"
           }
          },
          "title": {
           "x": 0.05
          },
          "xaxis": {
           "automargin": true,
           "gridcolor": "rgb(232,232,232)",
           "linecolor": "rgb(36,36,36)",
           "showgrid": false,
           "showline": true,
           "ticks": "outside",
           "title": {
            "standoff": 15
           },
           "zeroline": false,
           "zerolinecolor": "rgb(36,36,36)"
          },
          "yaxis": {
           "automargin": true,
           "gridcolor": "rgb(232,232,232)",
           "linecolor": "rgb(36,36,36)",
           "showgrid": false,
           "showline": true,
           "ticks": "outside",
           "title": {
            "standoff": 15
           },
           "zeroline": false,
           "zerolinecolor": "rgb(36,36,36)"
          }
         }
        },
        "xaxis": {
         "anchor": "y",
         "categoryorder": "category ascending",
         "domain": [
          0,
          1
         ],
         "title": {
          "text": "発生時（始期）"
         }
        },
        "yaxis": {
         "anchor": "x",
         "domain": [
          0,
          1
         ],
         "title": {
          "text": "件数"
         }
        }
       }
      }
     },
     "metadata": {},
     "output_type": "display_data"
    }
   ],
   "source": [
    "fig = px.bar(time,\n",
    "            x='発生時（始期）',\n",
    "            y='件数',\n",
    "            template='simple_white' \n",
    "            )\n",
    "fig.update_xaxes(categoryorder='category ascending')\n",
    "fig.show()"
   ]
  },
  {
   "cell_type": "markdown",
   "metadata": {
    "slideshow": {
     "slide_type": "slide"
    }
   },
   "source": [
    "## その他のチャート（上級編）\n",
    "\n",
    "複数の変数でチャートを作ると、より深い分析ができる。"
   ]
  },
  {
   "cell_type": "code",
   "execution_count": 57,
   "metadata": {
    "slideshow": {
     "slide_type": "slide"
    }
   },
   "outputs": [
    {
     "data": {
      "application/vnd.plotly.v1+json": {
       "config": {
        "plotlyServerURL": "https://plot.ly"
       },
       "data": [
        {
         "alignmentgroup": "True",
         "hovertemplate": "被害者の職業=その他<br>発生時（始期）=%{x}<br>count=%{y}<extra></extra>",
         "legendgroup": "その他",
         "marker": {
          "color": "rgb(76,114,176)",
          "line": {
           "width": 0
          },
          "pattern": {
           "shape": ""
          }
         },
         "name": "その他",
         "offsetgroup": "その他",
         "orientation": "v",
         "showlegend": true,
         "textposition": "auto",
         "type": "bar",
         "x": [
          "00",
          "13",
          "22",
          "08",
          "16",
          "08",
          "17",
          "23",
          "04",
          "不明",
          "不明",
          "09",
          "17",
          "11",
          "19",
          "10",
          "21",
          "21",
          "20",
          "08",
          "16",
          "07",
          "20",
          "13",
          "13",
          "13",
          "06",
          "20",
          "23",
          "17",
          "16",
          "00",
          "不明",
          "22",
          "05",
          "12",
          "22",
          "15",
          "16",
          "12",
          "19",
          "15",
          "17",
          "21",
          "21",
          "12",
          "20",
          "14",
          "20",
          "12",
          "15",
          "00",
          "19",
          "20",
          "04",
          "14",
          "06",
          "18",
          "19",
          "06",
          "07",
          "19",
          "09",
          "11",
          "08",
          "12",
          "18",
          "17",
          "07",
          "19",
          "12",
          "13",
          "21",
          "21",
          "16",
          "18",
          "12",
          "17",
          "15",
          "20",
          "07",
          "12",
          "01",
          "06",
          "19",
          "18",
          "16",
          "19",
          "18",
          "06",
          "08",
          "19",
          "23",
          "23",
          "10",
          "18",
          "14",
          "18",
          "09",
          "23",
          "08",
          "12",
          "18",
          "11",
          "17",
          "12",
          "16",
          "14",
          "11",
          "08",
          "08",
          "18",
          "19",
          "20",
          "12",
          "15",
          "14",
          "11",
          "11",
          "22",
          "11",
          "19",
          "18",
          "16",
          "13",
          "10",
          "12",
          "17",
          "20",
          "15",
          "12",
          "20",
          "08",
          "18",
          "12",
          "09",
          "19",
          "14",
          "20",
          "15",
          "12",
          "18",
          "16",
          "10",
          "11",
          "10",
          "16",
          "23",
          "16",
          "14",
          "16",
          "09",
          "19",
          "22",
          "12",
          "08",
          "09",
          "09",
          "13",
          "05",
          "06",
          "21",
          "00",
          "06",
          "12",
          "10",
          "19",
          "20",
          "07",
          "20",
          "10",
          "10",
          "09",
          "09",
          "09",
          "12",
          "20",
          "19",
          "18",
          "00",
          "14",
          "18",
          "10",
          "07",
          "18",
          "18",
          "09",
          "08",
          "08",
          "20",
          "15",
          "20",
          "19",
          "17",
          "19",
          "15",
          "10",
          "10",
          "17",
          "18",
          "18",
          "05",
          "06",
          "18",
          "17",
          "18",
          "17",
          "00",
          "12",
          "18",
          "06",
          "15",
          "20",
          "12",
          "16",
          "17",
          "22",
          "11",
          "17",
          "18",
          "08",
          "20",
          "13",
          "12",
          "13",
          "19",
          "17",
          "15",
          "16",
          "22",
          "00",
          "17",
          "12",
          "20",
          "07",
          "不明",
          "16",
          "20",
          "13",
          "18",
          "21",
          "08",
          "19",
          "14",
          "18",
          "20",
          "20",
          "19",
          "11",
          "18",
          "08",
          "16",
          "08",
          "19",
          "18",
          "18",
          "08"
         ],
         "xaxis": "x",
         "y": [
          1,
          1,
          1,
          1,
          1,
          1,
          1,
          1,
          1,
          1,
          1,
          1,
          1,
          1,
          1,
          1,
          1,
          1,
          1,
          1,
          1,
          1,
          1,
          1,
          1,
          1,
          1,
          1,
          1,
          1,
          1,
          1,
          1,
          1,
          1,
          1,
          1,
          1,
          1,
          1,
          1,
          1,
          1,
          1,
          1,
          1,
          1,
          1,
          1,
          1,
          1,
          1,
          1,
          1,
          1,
          1,
          1,
          1,
          1,
          1,
          1,
          1,
          1,
          1,
          1,
          1,
          1,
          1,
          1,
          1,
          1,
          1,
          1,
          1,
          1,
          1,
          1,
          1,
          1,
          1,
          1,
          1,
          1,
          1,
          1,
          1,
          1,
          1,
          1,
          1,
          1,
          1,
          1,
          1,
          1,
          1,
          1,
          1,
          1,
          1,
          1,
          1,
          1,
          1,
          1,
          1,
          1,
          1,
          1,
          1,
          1,
          1,
          1,
          1,
          1,
          1,
          1,
          1,
          1,
          1,
          1,
          1,
          1,
          1,
          1,
          1,
          1,
          1,
          1,
          1,
          1,
          1,
          1,
          1,
          1,
          1,
          1,
          1,
          1,
          1,
          1,
          1,
          1,
          1,
          1,
          1,
          1,
          1,
          1,
          1,
          1,
          1,
          1,
          1,
          1,
          1,
          1,
          1,
          1,
          1,
          1,
          1,
          1,
          1,
          1,
          1,
          1,
          1,
          1,
          1,
          1,
          1,
          1,
          1,
          1,
          1,
          1,
          1,
          1,
          1,
          1,
          1,
          1,
          1,
          1,
          1,
          1,
          1,
          1,
          1,
          1,
          1,
          1,
          1,
          1,
          1,
          1,
          1,
          1,
          1,
          1,
          1,
          1,
          1,
          1,
          1,
          1,
          1,
          1,
          1,
          1,
          1,
          1,
          1,
          1,
          1,
          1,
          1,
          1,
          1,
          1,
          1,
          1,
          1,
          1,
          1,
          1,
          1,
          1,
          1,
          1,
          1,
          1,
          1,
          1,
          1,
          1,
          1,
          1,
          1,
          1,
          1,
          1,
          1,
          1,
          1,
          1,
          1,
          1,
          1,
          1,
          1,
          1,
          1,
          1,
          1,
          1
         ],
         "yaxis": "y"
        },
        {
         "alignmentgroup": "True",
         "hovertemplate": "被害者の職業=中学生<br>発生時（始期）=%{x}<br>count=%{y}<extra></extra>",
         "legendgroup": "中学生",
         "marker": {
          "color": "rgb(221,132,82)",
          "line": {
           "width": 0
          },
          "pattern": {
           "shape": ""
          }
         },
         "name": "中学生",
         "offsetgroup": "中学生",
         "orientation": "v",
         "showlegend": true,
         "textposition": "auto",
         "type": "bar",
         "x": [
          "22",
          "18",
          "21",
          "19",
          "15",
          "13",
          "21",
          "15",
          "18",
          "14",
          "19",
          "02",
          "08",
          "13",
          "19",
          "11",
          "16",
          "13",
          "18",
          "10",
          "18",
          "06",
          "09",
          "20",
          "08",
          "11",
          "18",
          "21",
          "10",
          "18",
          "18",
          "21",
          "19",
          "13",
          "07",
          "16",
          "10",
          "17",
          "13",
          "06",
          "21",
          "14",
          "18",
          "08",
          "15",
          "20",
          "23",
          "19",
          "18",
          "18",
          "12"
         ],
         "xaxis": "x",
         "y": [
          1,
          1,
          1,
          1,
          1,
          1,
          1,
          1,
          1,
          1,
          1,
          1,
          1,
          1,
          1,
          1,
          1,
          1,
          1,
          1,
          1,
          1,
          1,
          1,
          1,
          1,
          1,
          1,
          1,
          1,
          1,
          1,
          1,
          1,
          1,
          1,
          1,
          1,
          1,
          1,
          1,
          1,
          1,
          1,
          1,
          1,
          1,
          1,
          1,
          1,
          1
         ],
         "yaxis": "y"
        },
        {
         "alignmentgroup": "True",
         "hovertemplate": "被害者の職業=小学生<br>発生時（始期）=%{x}<br>count=%{y}<extra></extra>",
         "legendgroup": "小学生",
         "marker": {
          "color": "rgb(85,168,104)",
          "line": {
           "width": 0
          },
          "pattern": {
           "shape": ""
          }
         },
         "name": "小学生",
         "offsetgroup": "小学生",
         "orientation": "v",
         "showlegend": true,
         "textposition": "auto",
         "type": "bar",
         "x": [
          "15",
          "17",
          "08",
          "19",
          "08",
          "19",
          "11",
          "14",
          "15",
          "16",
          "17",
          "13",
          "15",
          "14",
          "17",
          "08",
          "15",
          "17",
          "15",
          "21",
          "19",
          "11",
          "19",
          "16"
         ],
         "xaxis": "x",
         "y": [
          1,
          1,
          1,
          1,
          1,
          1,
          1,
          1,
          1,
          1,
          1,
          1,
          1,
          1,
          1,
          1,
          1,
          1,
          1,
          1,
          1,
          1,
          1,
          1
         ],
         "yaxis": "y"
        },
        {
         "alignmentgroup": "True",
         "hovertemplate": "被害者の職業=高校生<br>発生時（始期）=%{x}<br>count=%{y}<extra></extra>",
         "legendgroup": "高校生",
         "marker": {
          "color": "rgb(196,78,82)",
          "line": {
           "width": 0
          },
          "pattern": {
           "shape": ""
          }
         },
         "name": "高校生",
         "offsetgroup": "高校生",
         "orientation": "v",
         "showlegend": true,
         "textposition": "auto",
         "type": "bar",
         "x": [
          "21",
          "07",
          "20",
          "07",
          "07",
          "23",
          "08",
          "08",
          "06",
          "07",
          "17",
          "17",
          "15",
          "18",
          "18",
          "08",
          "07",
          "09",
          "16",
          "14",
          "15",
          "08",
          "07",
          "17",
          "07",
          "21",
          "19",
          "14",
          "14",
          "13",
          "18",
          "16",
          "11",
          "18",
          "13",
          "21",
          "11",
          "17",
          "16",
          "20",
          "13",
          "08",
          "13",
          "16",
          "11",
          "14",
          "00",
          "13",
          "13",
          "11",
          "16",
          "17",
          "17",
          "20",
          "17",
          "08",
          "13",
          "20",
          "12",
          "16",
          "19",
          "08",
          "19",
          "07",
          "12",
          "16",
          "08",
          "20",
          "16",
          "20",
          "07",
          "08",
          "17",
          "19",
          "08",
          "18",
          "16",
          "19",
          "19",
          "16",
          "20",
          "16",
          "21",
          "12",
          "21",
          "07",
          "17",
          "09",
          "10"
         ],
         "xaxis": "x",
         "y": [
          1,
          1,
          1,
          1,
          1,
          1,
          1,
          1,
          1,
          1,
          1,
          1,
          1,
          1,
          1,
          1,
          1,
          1,
          1,
          1,
          1,
          1,
          1,
          1,
          1,
          1,
          1,
          1,
          1,
          1,
          1,
          1,
          1,
          1,
          1,
          1,
          1,
          1,
          1,
          1,
          1,
          1,
          1,
          1,
          1,
          1,
          1,
          1,
          1,
          1,
          1,
          1,
          1,
          1,
          1,
          1,
          1,
          1,
          1,
          1,
          1,
          1,
          1,
          1,
          1,
          1,
          1,
          1,
          1,
          1,
          1,
          1,
          1,
          1,
          1,
          1,
          1,
          1,
          1,
          1,
          1,
          1,
          1,
          1,
          1,
          1,
          1,
          1,
          1
         ],
         "yaxis": "y"
        },
        {
         "alignmentgroup": "True",
         "hovertemplate": "被害者の職業=大学生<br>発生時（始期）=%{x}<br>count=%{y}<extra></extra>",
         "legendgroup": "大学生",
         "marker": {
          "color": "rgb(129,114,179)",
          "line": {
           "width": 0
          },
          "pattern": {
           "shape": ""
          }
         },
         "name": "大学生",
         "offsetgroup": "大学生",
         "orientation": "v",
         "showlegend": true,
         "textposition": "auto",
         "type": "bar",
         "x": [
          "14",
          "17",
          "10",
          "18",
          "16",
          "07",
          "22",
          "14",
          "19",
          "16",
          "09",
          "19",
          "07",
          "15",
          "10",
          "08",
          "16",
          "22",
          "08",
          "13",
          "07",
          "10",
          "09",
          "12",
          "00",
          "12",
          "15",
          "不明",
          "09",
          "19",
          "17",
          "11",
          "16",
          "10",
          "08",
          "22",
          "15",
          "10",
          "16",
          "23",
          "07",
          "13",
          "09",
          "14",
          "18",
          "08"
         ],
         "xaxis": "x",
         "y": [
          1,
          1,
          1,
          1,
          1,
          1,
          1,
          1,
          1,
          1,
          1,
          1,
          1,
          1,
          1,
          1,
          1,
          1,
          1,
          1,
          1,
          1,
          1,
          1,
          1,
          1,
          1,
          1,
          1,
          1,
          1,
          1,
          1,
          1,
          1,
          1,
          1,
          1,
          1,
          1,
          1,
          1,
          1,
          1,
          1,
          1
         ],
         "yaxis": "y"
        },
        {
         "alignmentgroup": "True",
         "hovertemplate": "被害者の職業=法人・団体、被害者なし<br>発生時（始期）=%{x}<br>count=%{y}<extra></extra>",
         "legendgroup": "法人・団体、被害者なし",
         "marker": {
          "color": "rgb(147,120,96)",
          "line": {
           "width": 0
          },
          "pattern": {
           "shape": ""
          }
         },
         "name": "法人・団体、被害者なし",
         "offsetgroup": "法人・団体、被害者なし",
         "orientation": "v",
         "showlegend": true,
         "textposition": "auto",
         "type": "bar",
         "x": [
          "20",
          "不明",
          "07",
          "20"
         ],
         "xaxis": "x",
         "y": [
          1,
          1,
          1,
          1
         ],
         "yaxis": "y"
        }
       ],
       "layout": {
        "barmode": "relative",
        "legend": {
         "title": {
          "text": "被害者の職業"
         },
         "tracegroupgap": 0
        },
        "margin": {
         "t": 60
        },
        "template": {
         "data": {
          "bar": [
           {
            "error_x": {
             "color": "rgb(36,36,36)"
            },
            "error_y": {
             "color": "rgb(36,36,36)"
            },
            "marker": {
             "line": {
              "color": "rgb(234,234,242)",
              "width": 0.5
             },
             "pattern": {
              "fillmode": "overlay",
              "size": 10,
              "solidity": 0.2
             }
            },
            "type": "bar"
           }
          ],
          "barpolar": [
           {
            "marker": {
             "line": {
              "color": "rgb(234,234,242)",
              "width": 0.5
             },
             "pattern": {
              "fillmode": "overlay",
              "size": 10,
              "solidity": 0.2
             }
            },
            "type": "barpolar"
           }
          ],
          "carpet": [
           {
            "aaxis": {
             "endlinecolor": "rgb(36,36,36)",
             "gridcolor": "white",
             "linecolor": "white",
             "minorgridcolor": "white",
             "startlinecolor": "rgb(36,36,36)"
            },
            "baxis": {
             "endlinecolor": "rgb(36,36,36)",
             "gridcolor": "white",
             "linecolor": "white",
             "minorgridcolor": "white",
             "startlinecolor": "rgb(36,36,36)"
            },
            "type": "carpet"
           }
          ],
          "choropleth": [
           {
            "colorbar": {
             "outlinewidth": 0,
             "tickcolor": "rgb(36,36,36)",
             "ticklen": 8,
             "ticks": "outside",
             "tickwidth": 2
            },
            "type": "choropleth"
           }
          ],
          "contour": [
           {
            "colorbar": {
             "outlinewidth": 0,
             "tickcolor": "rgb(36,36,36)",
             "ticklen": 8,
             "ticks": "outside",
             "tickwidth": 2
            },
            "colorscale": [
             [
              0,
              "rgb(2,4,25)"
             ],
             [
              0.06274509803921569,
              "rgb(24,15,41)"
             ],
             [
              0.12549019607843137,
              "rgb(47,23,57)"
             ],
             [
              0.18823529411764706,
              "rgb(71,28,72)"
             ],
             [
              0.25098039215686274,
              "rgb(97,30,82)"
             ],
             [
              0.3137254901960784,
              "rgb(123,30,89)"
             ],
             [
              0.3764705882352941,
              "rgb(150,27,91)"
             ],
             [
              0.4392156862745098,
              "rgb(177,22,88)"
             ],
             [
              0.5019607843137255,
              "rgb(203,26,79)"
             ],
             [
              0.5647058823529412,
              "rgb(223,47,67)"
             ],
             [
              0.6274509803921569,
              "rgb(236,76,61)"
             ],
             [
              0.6901960784313725,
              "rgb(242,107,73)"
             ],
             [
              0.7529411764705882,
              "rgb(244,135,95)"
             ],
             [
              0.8156862745098039,
              "rgb(245,162,122)"
             ],
             [
              0.8784313725490196,
              "rgb(246,188,153)"
             ],
             [
              0.9411764705882353,
              "rgb(247,212,187)"
             ],
             [
              1,
              "rgb(250,234,220)"
             ]
            ],
            "type": "contour"
           }
          ],
          "contourcarpet": [
           {
            "colorbar": {
             "outlinewidth": 0,
             "tickcolor": "rgb(36,36,36)",
             "ticklen": 8,
             "ticks": "outside",
             "tickwidth": 2
            },
            "type": "contourcarpet"
           }
          ],
          "heatmap": [
           {
            "colorbar": {
             "outlinewidth": 0,
             "tickcolor": "rgb(36,36,36)",
             "ticklen": 8,
             "ticks": "outside",
             "tickwidth": 2
            },
            "colorscale": [
             [
              0,
              "rgb(2,4,25)"
             ],
             [
              0.06274509803921569,
              "rgb(24,15,41)"
             ],
             [
              0.12549019607843137,
              "rgb(47,23,57)"
             ],
             [
              0.18823529411764706,
              "rgb(71,28,72)"
             ],
             [
              0.25098039215686274,
              "rgb(97,30,82)"
             ],
             [
              0.3137254901960784,
              "rgb(123,30,89)"
             ],
             [
              0.3764705882352941,
              "rgb(150,27,91)"
             ],
             [
              0.4392156862745098,
              "rgb(177,22,88)"
             ],
             [
              0.5019607843137255,
              "rgb(203,26,79)"
             ],
             [
              0.5647058823529412,
              "rgb(223,47,67)"
             ],
             [
              0.6274509803921569,
              "rgb(236,76,61)"
             ],
             [
              0.6901960784313725,
              "rgb(242,107,73)"
             ],
             [
              0.7529411764705882,
              "rgb(244,135,95)"
             ],
             [
              0.8156862745098039,
              "rgb(245,162,122)"
             ],
             [
              0.8784313725490196,
              "rgb(246,188,153)"
             ],
             [
              0.9411764705882353,
              "rgb(247,212,187)"
             ],
             [
              1,
              "rgb(250,234,220)"
             ]
            ],
            "type": "heatmap"
           }
          ],
          "heatmapgl": [
           {
            "colorbar": {
             "outlinewidth": 0,
             "tickcolor": "rgb(36,36,36)",
             "ticklen": 8,
             "ticks": "outside",
             "tickwidth": 2
            },
            "colorscale": [
             [
              0,
              "rgb(2,4,25)"
             ],
             [
              0.06274509803921569,
              "rgb(24,15,41)"
             ],
             [
              0.12549019607843137,
              "rgb(47,23,57)"
             ],
             [
              0.18823529411764706,
              "rgb(71,28,72)"
             ],
             [
              0.25098039215686274,
              "rgb(97,30,82)"
             ],
             [
              0.3137254901960784,
              "rgb(123,30,89)"
             ],
             [
              0.3764705882352941,
              "rgb(150,27,91)"
             ],
             [
              0.4392156862745098,
              "rgb(177,22,88)"
             ],
             [
              0.5019607843137255,
              "rgb(203,26,79)"
             ],
             [
              0.5647058823529412,
              "rgb(223,47,67)"
             ],
             [
              0.6274509803921569,
              "rgb(236,76,61)"
             ],
             [
              0.6901960784313725,
              "rgb(242,107,73)"
             ],
             [
              0.7529411764705882,
              "rgb(244,135,95)"
             ],
             [
              0.8156862745098039,
              "rgb(245,162,122)"
             ],
             [
              0.8784313725490196,
              "rgb(246,188,153)"
             ],
             [
              0.9411764705882353,
              "rgb(247,212,187)"
             ],
             [
              1,
              "rgb(250,234,220)"
             ]
            ],
            "type": "heatmapgl"
           }
          ],
          "histogram": [
           {
            "marker": {
             "pattern": {
              "fillmode": "overlay",
              "size": 10,
              "solidity": 0.2
             }
            },
            "type": "histogram"
           }
          ],
          "histogram2d": [
           {
            "colorbar": {
             "outlinewidth": 0,
             "tickcolor": "rgb(36,36,36)",
             "ticklen": 8,
             "ticks": "outside",
             "tickwidth": 2
            },
            "colorscale": [
             [
              0,
              "rgb(2,4,25)"
             ],
             [
              0.06274509803921569,
              "rgb(24,15,41)"
             ],
             [
              0.12549019607843137,
              "rgb(47,23,57)"
             ],
             [
              0.18823529411764706,
              "rgb(71,28,72)"
             ],
             [
              0.25098039215686274,
              "rgb(97,30,82)"
             ],
             [
              0.3137254901960784,
              "rgb(123,30,89)"
             ],
             [
              0.3764705882352941,
              "rgb(150,27,91)"
             ],
             [
              0.4392156862745098,
              "rgb(177,22,88)"
             ],
             [
              0.5019607843137255,
              "rgb(203,26,79)"
             ],
             [
              0.5647058823529412,
              "rgb(223,47,67)"
             ],
             [
              0.6274509803921569,
              "rgb(236,76,61)"
             ],
             [
              0.6901960784313725,
              "rgb(242,107,73)"
             ],
             [
              0.7529411764705882,
              "rgb(244,135,95)"
             ],
             [
              0.8156862745098039,
              "rgb(245,162,122)"
             ],
             [
              0.8784313725490196,
              "rgb(246,188,153)"
             ],
             [
              0.9411764705882353,
              "rgb(247,212,187)"
             ],
             [
              1,
              "rgb(250,234,220)"
             ]
            ],
            "type": "histogram2d"
           }
          ],
          "histogram2dcontour": [
           {
            "colorbar": {
             "outlinewidth": 0,
             "tickcolor": "rgb(36,36,36)",
             "ticklen": 8,
             "ticks": "outside",
             "tickwidth": 2
            },
            "colorscale": [
             [
              0,
              "rgb(2,4,25)"
             ],
             [
              0.06274509803921569,
              "rgb(24,15,41)"
             ],
             [
              0.12549019607843137,
              "rgb(47,23,57)"
             ],
             [
              0.18823529411764706,
              "rgb(71,28,72)"
             ],
             [
              0.25098039215686274,
              "rgb(97,30,82)"
             ],
             [
              0.3137254901960784,
              "rgb(123,30,89)"
             ],
             [
              0.3764705882352941,
              "rgb(150,27,91)"
             ],
             [
              0.4392156862745098,
              "rgb(177,22,88)"
             ],
             [
              0.5019607843137255,
              "rgb(203,26,79)"
             ],
             [
              0.5647058823529412,
              "rgb(223,47,67)"
             ],
             [
              0.6274509803921569,
              "rgb(236,76,61)"
             ],
             [
              0.6901960784313725,
              "rgb(242,107,73)"
             ],
             [
              0.7529411764705882,
              "rgb(244,135,95)"
             ],
             [
              0.8156862745098039,
              "rgb(245,162,122)"
             ],
             [
              0.8784313725490196,
              "rgb(246,188,153)"
             ],
             [
              0.9411764705882353,
              "rgb(247,212,187)"
             ],
             [
              1,
              "rgb(250,234,220)"
             ]
            ],
            "type": "histogram2dcontour"
           }
          ],
          "mesh3d": [
           {
            "colorbar": {
             "outlinewidth": 0,
             "tickcolor": "rgb(36,36,36)",
             "ticklen": 8,
             "ticks": "outside",
             "tickwidth": 2
            },
            "type": "mesh3d"
           }
          ],
          "parcoords": [
           {
            "line": {
             "colorbar": {
              "outlinewidth": 0,
              "tickcolor": "rgb(36,36,36)",
              "ticklen": 8,
              "ticks": "outside",
              "tickwidth": 2
             }
            },
            "type": "parcoords"
           }
          ],
          "pie": [
           {
            "automargin": true,
            "type": "pie"
           }
          ],
          "scatter": [
           {
            "fillpattern": {
             "fillmode": "overlay",
             "size": 10,
             "solidity": 0.2
            },
            "type": "scatter"
           }
          ],
          "scatter3d": [
           {
            "line": {
             "colorbar": {
              "outlinewidth": 0,
              "tickcolor": "rgb(36,36,36)",
              "ticklen": 8,
              "ticks": "outside",
              "tickwidth": 2
             }
            },
            "marker": {
             "colorbar": {
              "outlinewidth": 0,
              "tickcolor": "rgb(36,36,36)",
              "ticklen": 8,
              "ticks": "outside",
              "tickwidth": 2
             }
            },
            "type": "scatter3d"
           }
          ],
          "scattercarpet": [
           {
            "marker": {
             "colorbar": {
              "outlinewidth": 0,
              "tickcolor": "rgb(36,36,36)",
              "ticklen": 8,
              "ticks": "outside",
              "tickwidth": 2
             }
            },
            "type": "scattercarpet"
           }
          ],
          "scattergeo": [
           {
            "marker": {
             "colorbar": {
              "outlinewidth": 0,
              "tickcolor": "rgb(36,36,36)",
              "ticklen": 8,
              "ticks": "outside",
              "tickwidth": 2
             }
            },
            "type": "scattergeo"
           }
          ],
          "scattergl": [
           {
            "marker": {
             "colorbar": {
              "outlinewidth": 0,
              "tickcolor": "rgb(36,36,36)",
              "ticklen": 8,
              "ticks": "outside",
              "tickwidth": 2
             }
            },
            "type": "scattergl"
           }
          ],
          "scattermapbox": [
           {
            "marker": {
             "colorbar": {
              "outlinewidth": 0,
              "tickcolor": "rgb(36,36,36)",
              "ticklen": 8,
              "ticks": "outside",
              "tickwidth": 2
             }
            },
            "type": "scattermapbox"
           }
          ],
          "scatterpolar": [
           {
            "marker": {
             "colorbar": {
              "outlinewidth": 0,
              "tickcolor": "rgb(36,36,36)",
              "ticklen": 8,
              "ticks": "outside",
              "tickwidth": 2
             }
            },
            "type": "scatterpolar"
           }
          ],
          "scatterpolargl": [
           {
            "marker": {
             "colorbar": {
              "outlinewidth": 0,
              "tickcolor": "rgb(36,36,36)",
              "ticklen": 8,
              "ticks": "outside",
              "tickwidth": 2
             }
            },
            "type": "scatterpolargl"
           }
          ],
          "scatterternary": [
           {
            "marker": {
             "colorbar": {
              "outlinewidth": 0,
              "tickcolor": "rgb(36,36,36)",
              "ticklen": 8,
              "ticks": "outside",
              "tickwidth": 2
             }
            },
            "type": "scatterternary"
           }
          ],
          "surface": [
           {
            "colorbar": {
             "outlinewidth": 0,
             "tickcolor": "rgb(36,36,36)",
             "ticklen": 8,
             "ticks": "outside",
             "tickwidth": 2
            },
            "colorscale": [
             [
              0,
              "rgb(2,4,25)"
             ],
             [
              0.06274509803921569,
              "rgb(24,15,41)"
             ],
             [
              0.12549019607843137,
              "rgb(47,23,57)"
             ],
             [
              0.18823529411764706,
              "rgb(71,28,72)"
             ],
             [
              0.25098039215686274,
              "rgb(97,30,82)"
             ],
             [
              0.3137254901960784,
              "rgb(123,30,89)"
             ],
             [
              0.3764705882352941,
              "rgb(150,27,91)"
             ],
             [
              0.4392156862745098,
              "rgb(177,22,88)"
             ],
             [
              0.5019607843137255,
              "rgb(203,26,79)"
             ],
             [
              0.5647058823529412,
              "rgb(223,47,67)"
             ],
             [
              0.6274509803921569,
              "rgb(236,76,61)"
             ],
             [
              0.6901960784313725,
              "rgb(242,107,73)"
             ],
             [
              0.7529411764705882,
              "rgb(244,135,95)"
             ],
             [
              0.8156862745098039,
              "rgb(245,162,122)"
             ],
             [
              0.8784313725490196,
              "rgb(246,188,153)"
             ],
             [
              0.9411764705882353,
              "rgb(247,212,187)"
             ],
             [
              1,
              "rgb(250,234,220)"
             ]
            ],
            "type": "surface"
           }
          ],
          "table": [
           {
            "cells": {
             "fill": {
              "color": "rgb(231,231,240)"
             },
             "line": {
              "color": "white"
             }
            },
            "header": {
             "fill": {
              "color": "rgb(183,183,191)"
             },
             "line": {
              "color": "white"
             }
            },
            "type": "table"
           }
          ]
         },
         "layout": {
          "annotationdefaults": {
           "arrowcolor": "rgb(67,103,167)"
          },
          "autotypenumbers": "strict",
          "coloraxis": {
           "colorbar": {
            "outlinewidth": 0,
            "tickcolor": "rgb(36,36,36)",
            "ticklen": 8,
            "ticks": "outside",
            "tickwidth": 2
           }
          },
          "colorscale": {
           "sequential": [
            [
             0,
             "rgb(2,4,25)"
            ],
            [
             0.06274509803921569,
             "rgb(24,15,41)"
            ],
            [
             0.12549019607843137,
             "rgb(47,23,57)"
            ],
            [
             0.18823529411764706,
             "rgb(71,28,72)"
            ],
            [
             0.25098039215686274,
             "rgb(97,30,82)"
            ],
            [
             0.3137254901960784,
             "rgb(123,30,89)"
            ],
            [
             0.3764705882352941,
             "rgb(150,27,91)"
            ],
            [
             0.4392156862745098,
             "rgb(177,22,88)"
            ],
            [
             0.5019607843137255,
             "rgb(203,26,79)"
            ],
            [
             0.5647058823529412,
             "rgb(223,47,67)"
            ],
            [
             0.6274509803921569,
             "rgb(236,76,61)"
            ],
            [
             0.6901960784313725,
             "rgb(242,107,73)"
            ],
            [
             0.7529411764705882,
             "rgb(244,135,95)"
            ],
            [
             0.8156862745098039,
             "rgb(245,162,122)"
            ],
            [
             0.8784313725490196,
             "rgb(246,188,153)"
            ],
            [
             0.9411764705882353,
             "rgb(247,212,187)"
            ],
            [
             1,
             "rgb(250,234,220)"
            ]
           ],
           "sequentialminus": [
            [
             0,
             "rgb(2,4,25)"
            ],
            [
             0.06274509803921569,
             "rgb(24,15,41)"
            ],
            [
             0.12549019607843137,
             "rgb(47,23,57)"
            ],
            [
             0.18823529411764706,
             "rgb(71,28,72)"
            ],
            [
             0.25098039215686274,
             "rgb(97,30,82)"
            ],
            [
             0.3137254901960784,
             "rgb(123,30,89)"
            ],
            [
             0.3764705882352941,
             "rgb(150,27,91)"
            ],
            [
             0.4392156862745098,
             "rgb(177,22,88)"
            ],
            [
             0.5019607843137255,
             "rgb(203,26,79)"
            ],
            [
             0.5647058823529412,
             "rgb(223,47,67)"
            ],
            [
             0.6274509803921569,
             "rgb(236,76,61)"
            ],
            [
             0.6901960784313725,
             "rgb(242,107,73)"
            ],
            [
             0.7529411764705882,
             "rgb(244,135,95)"
            ],
            [
             0.8156862745098039,
             "rgb(245,162,122)"
            ],
            [
             0.8784313725490196,
             "rgb(246,188,153)"
            ],
            [
             0.9411764705882353,
             "rgb(247,212,187)"
            ],
            [
             1,
             "rgb(250,234,220)"
            ]
           ]
          },
          "colorway": [
           "rgb(76,114,176)",
           "rgb(221,132,82)",
           "rgb(85,168,104)",
           "rgb(196,78,82)",
           "rgb(129,114,179)",
           "rgb(147,120,96)",
           "rgb(218,139,195)",
           "rgb(140,140,140)",
           "rgb(204,185,116)",
           "rgb(100,181,205)"
          ],
          "font": {
           "color": "rgb(36,36,36)"
          },
          "geo": {
           "bgcolor": "white",
           "lakecolor": "white",
           "landcolor": "rgb(234,234,242)",
           "showlakes": true,
           "showland": true,
           "subunitcolor": "white"
          },
          "hoverlabel": {
           "align": "left"
          },
          "hovermode": "closest",
          "paper_bgcolor": "white",
          "plot_bgcolor": "rgb(234,234,242)",
          "polar": {
           "angularaxis": {
            "gridcolor": "white",
            "linecolor": "white",
            "showgrid": true,
            "ticks": ""
           },
           "bgcolor": "rgb(234,234,242)",
           "radialaxis": {
            "gridcolor": "white",
            "linecolor": "white",
            "showgrid": true,
            "ticks": ""
           }
          },
          "scene": {
           "xaxis": {
            "backgroundcolor": "rgb(234,234,242)",
            "gridcolor": "white",
            "gridwidth": 2,
            "linecolor": "white",
            "showbackground": true,
            "showgrid": true,
            "ticks": "",
            "zerolinecolor": "white"
           },
           "yaxis": {
            "backgroundcolor": "rgb(234,234,242)",
            "gridcolor": "white",
            "gridwidth": 2,
            "linecolor": "white",
            "showbackground": true,
            "showgrid": true,
            "ticks": "",
            "zerolinecolor": "white"
           },
           "zaxis": {
            "backgroundcolor": "rgb(234,234,242)",
            "gridcolor": "white",
            "gridwidth": 2,
            "linecolor": "white",
            "showbackground": true,
            "showgrid": true,
            "ticks": "",
            "zerolinecolor": "white"
           }
          },
          "shapedefaults": {
           "fillcolor": "rgb(67,103,167)",
           "line": {
            "width": 0
           },
           "opacity": 0.5
          },
          "ternary": {
           "aaxis": {
            "gridcolor": "white",
            "linecolor": "white",
            "showgrid": true,
            "ticks": ""
           },
           "baxis": {
            "gridcolor": "white",
            "linecolor": "white",
            "showgrid": true,
            "ticks": ""
           },
           "bgcolor": "rgb(234,234,242)",
           "caxis": {
            "gridcolor": "white",
            "linecolor": "white",
            "showgrid": true,
            "ticks": ""
           }
          },
          "xaxis": {
           "automargin": true,
           "gridcolor": "white",
           "linecolor": "white",
           "showgrid": true,
           "ticks": "",
           "title": {
            "standoff": 15
           },
           "zerolinecolor": "white"
          },
          "yaxis": {
           "automargin": true,
           "gridcolor": "white",
           "linecolor": "white",
           "showgrid": true,
           "ticks": "",
           "title": {
            "standoff": 15
           },
           "zerolinecolor": "white"
          }
         }
        },
        "xaxis": {
         "anchor": "y",
         "categoryorder": "category ascending",
         "domain": [
          0,
          1
         ],
         "title": {
          "text": "発生時（始期）"
         }
        },
        "yaxis": {
         "anchor": "x",
         "domain": [
          0,
          1
         ],
         "title": {
          "text": "count"
         }
        }
       }
      }
     },
     "metadata": {},
     "output_type": "display_data"
    }
   ],
   "source": [
    "fig = px.bar(kashiwa,\n",
    "            x='発生時（始期）',\n",
    "            color='被害者の職業',\n",
    "            template='seaborn')\n",
    "fig.update_traces(\n",
    "    marker_line_width=0\n",
    ")\n",
    "fig.update_xaxes(categoryorder='category ascending')\n",
    "fig.show()"
   ]
  },
  {
   "cell_type": "markdown",
   "metadata": {
    "slideshow": {
     "slide_type": "slide"
    }
   },
   "source": [
    "↑上のチャートの凡例ののカテゴリーをダブルクリックするとどうなる？\n",
    "\n",
    "`barmode='group'`を足すと何がどのように変わる？"
   ]
  },
  {
   "cell_type": "code",
   "execution_count": 58,
   "metadata": {
    "slideshow": {
     "slide_type": "slide"
    }
   },
   "outputs": [
    {
     "data": {
      "application/vnd.plotly.v1+json": {
       "config": {
        "plotlyServerURL": "https://plot.ly"
       },
       "data": [
        {
         "alignmentgroup": "True",
         "hovertemplate": "被害者の職業=その他<br>発生時（始期）=%{x}<br>count=%{y}<extra></extra>",
         "legendgroup": "その他",
         "marker": {
          "color": "rgb(76,114,176)",
          "line": {
           "width": 0
          },
          "pattern": {
           "shape": ""
          }
         },
         "name": "その他",
         "offsetgroup": "その他",
         "orientation": "v",
         "showlegend": true,
         "textposition": "auto",
         "type": "bar",
         "x": [
          "00",
          "13",
          "22",
          "08",
          "16",
          "08",
          "17",
          "23",
          "04",
          "不明",
          "不明",
          "09",
          "17",
          "11",
          "19",
          "10",
          "21",
          "21",
          "20",
          "08",
          "16",
          "07",
          "20",
          "13",
          "13",
          "13",
          "06",
          "20",
          "23",
          "17",
          "16",
          "00",
          "不明",
          "22",
          "05",
          "12",
          "22",
          "15",
          "16",
          "12",
          "19",
          "15",
          "17",
          "21",
          "21",
          "12",
          "20",
          "14",
          "20",
          "12",
          "15",
          "00",
          "19",
          "20",
          "04",
          "14",
          "06",
          "18",
          "19",
          "06",
          "07",
          "19",
          "09",
          "11",
          "08",
          "12",
          "18",
          "17",
          "07",
          "19",
          "12",
          "13",
          "21",
          "21",
          "16",
          "18",
          "12",
          "17",
          "15",
          "20",
          "07",
          "12",
          "01",
          "06",
          "19",
          "18",
          "16",
          "19",
          "18",
          "06",
          "08",
          "19",
          "23",
          "23",
          "10",
          "18",
          "14",
          "18",
          "09",
          "23",
          "08",
          "12",
          "18",
          "11",
          "17",
          "12",
          "16",
          "14",
          "11",
          "08",
          "08",
          "18",
          "19",
          "20",
          "12",
          "15",
          "14",
          "11",
          "11",
          "22",
          "11",
          "19",
          "18",
          "16",
          "13",
          "10",
          "12",
          "17",
          "20",
          "15",
          "12",
          "20",
          "08",
          "18",
          "12",
          "09",
          "19",
          "14",
          "20",
          "15",
          "12",
          "18",
          "16",
          "10",
          "11",
          "10",
          "16",
          "23",
          "16",
          "14",
          "16",
          "09",
          "19",
          "22",
          "12",
          "08",
          "09",
          "09",
          "13",
          "05",
          "06",
          "21",
          "00",
          "06",
          "12",
          "10",
          "19",
          "20",
          "07",
          "20",
          "10",
          "10",
          "09",
          "09",
          "09",
          "12",
          "20",
          "19",
          "18",
          "00",
          "14",
          "18",
          "10",
          "07",
          "18",
          "18",
          "09",
          "08",
          "08",
          "20",
          "15",
          "20",
          "19",
          "17",
          "19",
          "15",
          "10",
          "10",
          "17",
          "18",
          "18",
          "05",
          "06",
          "18",
          "17",
          "18",
          "17",
          "00",
          "12",
          "18",
          "06",
          "15",
          "20",
          "12",
          "16",
          "17",
          "22",
          "11",
          "17",
          "18",
          "08",
          "20",
          "13",
          "12",
          "13",
          "19",
          "17",
          "15",
          "16",
          "22",
          "00",
          "17",
          "12",
          "20",
          "07",
          "不明",
          "16",
          "20",
          "13",
          "18",
          "21",
          "08",
          "19",
          "14",
          "18",
          "20",
          "20",
          "19",
          "11",
          "18",
          "08",
          "16",
          "08",
          "19",
          "18",
          "18",
          "08"
         ],
         "xaxis": "x",
         "y": [
          1,
          1,
          1,
          1,
          1,
          1,
          1,
          1,
          1,
          1,
          1,
          1,
          1,
          1,
          1,
          1,
          1,
          1,
          1,
          1,
          1,
          1,
          1,
          1,
          1,
          1,
          1,
          1,
          1,
          1,
          1,
          1,
          1,
          1,
          1,
          1,
          1,
          1,
          1,
          1,
          1,
          1,
          1,
          1,
          1,
          1,
          1,
          1,
          1,
          1,
          1,
          1,
          1,
          1,
          1,
          1,
          1,
          1,
          1,
          1,
          1,
          1,
          1,
          1,
          1,
          1,
          1,
          1,
          1,
          1,
          1,
          1,
          1,
          1,
          1,
          1,
          1,
          1,
          1,
          1,
          1,
          1,
          1,
          1,
          1,
          1,
          1,
          1,
          1,
          1,
          1,
          1,
          1,
          1,
          1,
          1,
          1,
          1,
          1,
          1,
          1,
          1,
          1,
          1,
          1,
          1,
          1,
          1,
          1,
          1,
          1,
          1,
          1,
          1,
          1,
          1,
          1,
          1,
          1,
          1,
          1,
          1,
          1,
          1,
          1,
          1,
          1,
          1,
          1,
          1,
          1,
          1,
          1,
          1,
          1,
          1,
          1,
          1,
          1,
          1,
          1,
          1,
          1,
          1,
          1,
          1,
          1,
          1,
          1,
          1,
          1,
          1,
          1,
          1,
          1,
          1,
          1,
          1,
          1,
          1,
          1,
          1,
          1,
          1,
          1,
          1,
          1,
          1,
          1,
          1,
          1,
          1,
          1,
          1,
          1,
          1,
          1,
          1,
          1,
          1,
          1,
          1,
          1,
          1,
          1,
          1,
          1,
          1,
          1,
          1,
          1,
          1,
          1,
          1,
          1,
          1,
          1,
          1,
          1,
          1,
          1,
          1,
          1,
          1,
          1,
          1,
          1,
          1,
          1,
          1,
          1,
          1,
          1,
          1,
          1,
          1,
          1,
          1,
          1,
          1,
          1,
          1,
          1,
          1,
          1,
          1,
          1,
          1,
          1,
          1,
          1,
          1,
          1,
          1,
          1,
          1,
          1,
          1,
          1,
          1,
          1,
          1,
          1,
          1,
          1,
          1,
          1,
          1,
          1,
          1,
          1,
          1,
          1,
          1,
          1,
          1,
          1
         ],
         "yaxis": "y"
        },
        {
         "alignmentgroup": "True",
         "hovertemplate": "被害者の職業=中学生<br>発生時（始期）=%{x}<br>count=%{y}<extra></extra>",
         "legendgroup": "中学生",
         "marker": {
          "color": "rgb(221,132,82)",
          "line": {
           "width": 0
          },
          "pattern": {
           "shape": ""
          }
         },
         "name": "中学生",
         "offsetgroup": "中学生",
         "orientation": "v",
         "showlegend": true,
         "textposition": "auto",
         "type": "bar",
         "x": [
          "22",
          "18",
          "21",
          "19",
          "15",
          "13",
          "21",
          "15",
          "18",
          "14",
          "19",
          "02",
          "08",
          "13",
          "19",
          "11",
          "16",
          "13",
          "18",
          "10",
          "18",
          "06",
          "09",
          "20",
          "08",
          "11",
          "18",
          "21",
          "10",
          "18",
          "18",
          "21",
          "19",
          "13",
          "07",
          "16",
          "10",
          "17",
          "13",
          "06",
          "21",
          "14",
          "18",
          "08",
          "15",
          "20",
          "23",
          "19",
          "18",
          "18",
          "12"
         ],
         "xaxis": "x",
         "y": [
          1,
          1,
          1,
          1,
          1,
          1,
          1,
          1,
          1,
          1,
          1,
          1,
          1,
          1,
          1,
          1,
          1,
          1,
          1,
          1,
          1,
          1,
          1,
          1,
          1,
          1,
          1,
          1,
          1,
          1,
          1,
          1,
          1,
          1,
          1,
          1,
          1,
          1,
          1,
          1,
          1,
          1,
          1,
          1,
          1,
          1,
          1,
          1,
          1,
          1,
          1
         ],
         "yaxis": "y"
        },
        {
         "alignmentgroup": "True",
         "hovertemplate": "被害者の職業=小学生<br>発生時（始期）=%{x}<br>count=%{y}<extra></extra>",
         "legendgroup": "小学生",
         "marker": {
          "color": "rgb(85,168,104)",
          "line": {
           "width": 0
          },
          "pattern": {
           "shape": ""
          }
         },
         "name": "小学生",
         "offsetgroup": "小学生",
         "orientation": "v",
         "showlegend": true,
         "textposition": "auto",
         "type": "bar",
         "x": [
          "15",
          "17",
          "08",
          "19",
          "08",
          "19",
          "11",
          "14",
          "15",
          "16",
          "17",
          "13",
          "15",
          "14",
          "17",
          "08",
          "15",
          "17",
          "15",
          "21",
          "19",
          "11",
          "19",
          "16"
         ],
         "xaxis": "x",
         "y": [
          1,
          1,
          1,
          1,
          1,
          1,
          1,
          1,
          1,
          1,
          1,
          1,
          1,
          1,
          1,
          1,
          1,
          1,
          1,
          1,
          1,
          1,
          1,
          1
         ],
         "yaxis": "y"
        },
        {
         "alignmentgroup": "True",
         "hovertemplate": "被害者の職業=高校生<br>発生時（始期）=%{x}<br>count=%{y}<extra></extra>",
         "legendgroup": "高校生",
         "marker": {
          "color": "rgb(196,78,82)",
          "line": {
           "width": 0
          },
          "pattern": {
           "shape": ""
          }
         },
         "name": "高校生",
         "offsetgroup": "高校生",
         "orientation": "v",
         "showlegend": true,
         "textposition": "auto",
         "type": "bar",
         "x": [
          "21",
          "07",
          "20",
          "07",
          "07",
          "23",
          "08",
          "08",
          "06",
          "07",
          "17",
          "17",
          "15",
          "18",
          "18",
          "08",
          "07",
          "09",
          "16",
          "14",
          "15",
          "08",
          "07",
          "17",
          "07",
          "21",
          "19",
          "14",
          "14",
          "13",
          "18",
          "16",
          "11",
          "18",
          "13",
          "21",
          "11",
          "17",
          "16",
          "20",
          "13",
          "08",
          "13",
          "16",
          "11",
          "14",
          "00",
          "13",
          "13",
          "11",
          "16",
          "17",
          "17",
          "20",
          "17",
          "08",
          "13",
          "20",
          "12",
          "16",
          "19",
          "08",
          "19",
          "07",
          "12",
          "16",
          "08",
          "20",
          "16",
          "20",
          "07",
          "08",
          "17",
          "19",
          "08",
          "18",
          "16",
          "19",
          "19",
          "16",
          "20",
          "16",
          "21",
          "12",
          "21",
          "07",
          "17",
          "09",
          "10"
         ],
         "xaxis": "x",
         "y": [
          1,
          1,
          1,
          1,
          1,
          1,
          1,
          1,
          1,
          1,
          1,
          1,
          1,
          1,
          1,
          1,
          1,
          1,
          1,
          1,
          1,
          1,
          1,
          1,
          1,
          1,
          1,
          1,
          1,
          1,
          1,
          1,
          1,
          1,
          1,
          1,
          1,
          1,
          1,
          1,
          1,
          1,
          1,
          1,
          1,
          1,
          1,
          1,
          1,
          1,
          1,
          1,
          1,
          1,
          1,
          1,
          1,
          1,
          1,
          1,
          1,
          1,
          1,
          1,
          1,
          1,
          1,
          1,
          1,
          1,
          1,
          1,
          1,
          1,
          1,
          1,
          1,
          1,
          1,
          1,
          1,
          1,
          1,
          1,
          1,
          1,
          1,
          1,
          1
         ],
         "yaxis": "y"
        },
        {
         "alignmentgroup": "True",
         "hovertemplate": "被害者の職業=大学生<br>発生時（始期）=%{x}<br>count=%{y}<extra></extra>",
         "legendgroup": "大学生",
         "marker": {
          "color": "rgb(129,114,179)",
          "line": {
           "width": 0
          },
          "pattern": {
           "shape": ""
          }
         },
         "name": "大学生",
         "offsetgroup": "大学生",
         "orientation": "v",
         "showlegend": true,
         "textposition": "auto",
         "type": "bar",
         "x": [
          "14",
          "17",
          "10",
          "18",
          "16",
          "07",
          "22",
          "14",
          "19",
          "16",
          "09",
          "19",
          "07",
          "15",
          "10",
          "08",
          "16",
          "22",
          "08",
          "13",
          "07",
          "10",
          "09",
          "12",
          "00",
          "12",
          "15",
          "不明",
          "09",
          "19",
          "17",
          "11",
          "16",
          "10",
          "08",
          "22",
          "15",
          "10",
          "16",
          "23",
          "07",
          "13",
          "09",
          "14",
          "18",
          "08"
         ],
         "xaxis": "x",
         "y": [
          1,
          1,
          1,
          1,
          1,
          1,
          1,
          1,
          1,
          1,
          1,
          1,
          1,
          1,
          1,
          1,
          1,
          1,
          1,
          1,
          1,
          1,
          1,
          1,
          1,
          1,
          1,
          1,
          1,
          1,
          1,
          1,
          1,
          1,
          1,
          1,
          1,
          1,
          1,
          1,
          1,
          1,
          1,
          1,
          1,
          1
         ],
         "yaxis": "y"
        },
        {
         "alignmentgroup": "True",
         "hovertemplate": "被害者の職業=法人・団体、被害者なし<br>発生時（始期）=%{x}<br>count=%{y}<extra></extra>",
         "legendgroup": "法人・団体、被害者なし",
         "marker": {
          "color": "rgb(147,120,96)",
          "line": {
           "width": 0
          },
          "pattern": {
           "shape": ""
          }
         },
         "name": "法人・団体、被害者なし",
         "offsetgroup": "法人・団体、被害者なし",
         "orientation": "v",
         "showlegend": true,
         "textposition": "auto",
         "type": "bar",
         "x": [
          "20",
          "不明",
          "07",
          "20"
         ],
         "xaxis": "x",
         "y": [
          1,
          1,
          1,
          1
         ],
         "yaxis": "y"
        }
       ],
       "layout": {
        "barmode": "group",
        "legend": {
         "title": {
          "text": "被害者の職業"
         },
         "tracegroupgap": 0
        },
        "margin": {
         "t": 60
        },
        "template": {
         "data": {
          "bar": [
           {
            "error_x": {
             "color": "rgb(36,36,36)"
            },
            "error_y": {
             "color": "rgb(36,36,36)"
            },
            "marker": {
             "line": {
              "color": "rgb(234,234,242)",
              "width": 0.5
             },
             "pattern": {
              "fillmode": "overlay",
              "size": 10,
              "solidity": 0.2
             }
            },
            "type": "bar"
           }
          ],
          "barpolar": [
           {
            "marker": {
             "line": {
              "color": "rgb(234,234,242)",
              "width": 0.5
             },
             "pattern": {
              "fillmode": "overlay",
              "size": 10,
              "solidity": 0.2
             }
            },
            "type": "barpolar"
           }
          ],
          "carpet": [
           {
            "aaxis": {
             "endlinecolor": "rgb(36,36,36)",
             "gridcolor": "white",
             "linecolor": "white",
             "minorgridcolor": "white",
             "startlinecolor": "rgb(36,36,36)"
            },
            "baxis": {
             "endlinecolor": "rgb(36,36,36)",
             "gridcolor": "white",
             "linecolor": "white",
             "minorgridcolor": "white",
             "startlinecolor": "rgb(36,36,36)"
            },
            "type": "carpet"
           }
          ],
          "choropleth": [
           {
            "colorbar": {
             "outlinewidth": 0,
             "tickcolor": "rgb(36,36,36)",
             "ticklen": 8,
             "ticks": "outside",
             "tickwidth": 2
            },
            "type": "choropleth"
           }
          ],
          "contour": [
           {
            "colorbar": {
             "outlinewidth": 0,
             "tickcolor": "rgb(36,36,36)",
             "ticklen": 8,
             "ticks": "outside",
             "tickwidth": 2
            },
            "colorscale": [
             [
              0,
              "rgb(2,4,25)"
             ],
             [
              0.06274509803921569,
              "rgb(24,15,41)"
             ],
             [
              0.12549019607843137,
              "rgb(47,23,57)"
             ],
             [
              0.18823529411764706,
              "rgb(71,28,72)"
             ],
             [
              0.25098039215686274,
              "rgb(97,30,82)"
             ],
             [
              0.3137254901960784,
              "rgb(123,30,89)"
             ],
             [
              0.3764705882352941,
              "rgb(150,27,91)"
             ],
             [
              0.4392156862745098,
              "rgb(177,22,88)"
             ],
             [
              0.5019607843137255,
              "rgb(203,26,79)"
             ],
             [
              0.5647058823529412,
              "rgb(223,47,67)"
             ],
             [
              0.6274509803921569,
              "rgb(236,76,61)"
             ],
             [
              0.6901960784313725,
              "rgb(242,107,73)"
             ],
             [
              0.7529411764705882,
              "rgb(244,135,95)"
             ],
             [
              0.8156862745098039,
              "rgb(245,162,122)"
             ],
             [
              0.8784313725490196,
              "rgb(246,188,153)"
             ],
             [
              0.9411764705882353,
              "rgb(247,212,187)"
             ],
             [
              1,
              "rgb(250,234,220)"
             ]
            ],
            "type": "contour"
           }
          ],
          "contourcarpet": [
           {
            "colorbar": {
             "outlinewidth": 0,
             "tickcolor": "rgb(36,36,36)",
             "ticklen": 8,
             "ticks": "outside",
             "tickwidth": 2
            },
            "type": "contourcarpet"
           }
          ],
          "heatmap": [
           {
            "colorbar": {
             "outlinewidth": 0,
             "tickcolor": "rgb(36,36,36)",
             "ticklen": 8,
             "ticks": "outside",
             "tickwidth": 2
            },
            "colorscale": [
             [
              0,
              "rgb(2,4,25)"
             ],
             [
              0.06274509803921569,
              "rgb(24,15,41)"
             ],
             [
              0.12549019607843137,
              "rgb(47,23,57)"
             ],
             [
              0.18823529411764706,
              "rgb(71,28,72)"
             ],
             [
              0.25098039215686274,
              "rgb(97,30,82)"
             ],
             [
              0.3137254901960784,
              "rgb(123,30,89)"
             ],
             [
              0.3764705882352941,
              "rgb(150,27,91)"
             ],
             [
              0.4392156862745098,
              "rgb(177,22,88)"
             ],
             [
              0.5019607843137255,
              "rgb(203,26,79)"
             ],
             [
              0.5647058823529412,
              "rgb(223,47,67)"
             ],
             [
              0.6274509803921569,
              "rgb(236,76,61)"
             ],
             [
              0.6901960784313725,
              "rgb(242,107,73)"
             ],
             [
              0.7529411764705882,
              "rgb(244,135,95)"
             ],
             [
              0.8156862745098039,
              "rgb(245,162,122)"
             ],
             [
              0.8784313725490196,
              "rgb(246,188,153)"
             ],
             [
              0.9411764705882353,
              "rgb(247,212,187)"
             ],
             [
              1,
              "rgb(250,234,220)"
             ]
            ],
            "type": "heatmap"
           }
          ],
          "heatmapgl": [
           {
            "colorbar": {
             "outlinewidth": 0,
             "tickcolor": "rgb(36,36,36)",
             "ticklen": 8,
             "ticks": "outside",
             "tickwidth": 2
            },
            "colorscale": [
             [
              0,
              "rgb(2,4,25)"
             ],
             [
              0.06274509803921569,
              "rgb(24,15,41)"
             ],
             [
              0.12549019607843137,
              "rgb(47,23,57)"
             ],
             [
              0.18823529411764706,
              "rgb(71,28,72)"
             ],
             [
              0.25098039215686274,
              "rgb(97,30,82)"
             ],
             [
              0.3137254901960784,
              "rgb(123,30,89)"
             ],
             [
              0.3764705882352941,
              "rgb(150,27,91)"
             ],
             [
              0.4392156862745098,
              "rgb(177,22,88)"
             ],
             [
              0.5019607843137255,
              "rgb(203,26,79)"
             ],
             [
              0.5647058823529412,
              "rgb(223,47,67)"
             ],
             [
              0.6274509803921569,
              "rgb(236,76,61)"
             ],
             [
              0.6901960784313725,
              "rgb(242,107,73)"
             ],
             [
              0.7529411764705882,
              "rgb(244,135,95)"
             ],
             [
              0.8156862745098039,
              "rgb(245,162,122)"
             ],
             [
              0.8784313725490196,
              "rgb(246,188,153)"
             ],
             [
              0.9411764705882353,
              "rgb(247,212,187)"
             ],
             [
              1,
              "rgb(250,234,220)"
             ]
            ],
            "type": "heatmapgl"
           }
          ],
          "histogram": [
           {
            "marker": {
             "pattern": {
              "fillmode": "overlay",
              "size": 10,
              "solidity": 0.2
             }
            },
            "type": "histogram"
           }
          ],
          "histogram2d": [
           {
            "colorbar": {
             "outlinewidth": 0,
             "tickcolor": "rgb(36,36,36)",
             "ticklen": 8,
             "ticks": "outside",
             "tickwidth": 2
            },
            "colorscale": [
             [
              0,
              "rgb(2,4,25)"
             ],
             [
              0.06274509803921569,
              "rgb(24,15,41)"
             ],
             [
              0.12549019607843137,
              "rgb(47,23,57)"
             ],
             [
              0.18823529411764706,
              "rgb(71,28,72)"
             ],
             [
              0.25098039215686274,
              "rgb(97,30,82)"
             ],
             [
              0.3137254901960784,
              "rgb(123,30,89)"
             ],
             [
              0.3764705882352941,
              "rgb(150,27,91)"
             ],
             [
              0.4392156862745098,
              "rgb(177,22,88)"
             ],
             [
              0.5019607843137255,
              "rgb(203,26,79)"
             ],
             [
              0.5647058823529412,
              "rgb(223,47,67)"
             ],
             [
              0.6274509803921569,
              "rgb(236,76,61)"
             ],
             [
              0.6901960784313725,
              "rgb(242,107,73)"
             ],
             [
              0.7529411764705882,
              "rgb(244,135,95)"
             ],
             [
              0.8156862745098039,
              "rgb(245,162,122)"
             ],
             [
              0.8784313725490196,
              "rgb(246,188,153)"
             ],
             [
              0.9411764705882353,
              "rgb(247,212,187)"
             ],
             [
              1,
              "rgb(250,234,220)"
             ]
            ],
            "type": "histogram2d"
           }
          ],
          "histogram2dcontour": [
           {
            "colorbar": {
             "outlinewidth": 0,
             "tickcolor": "rgb(36,36,36)",
             "ticklen": 8,
             "ticks": "outside",
             "tickwidth": 2
            },
            "colorscale": [
             [
              0,
              "rgb(2,4,25)"
             ],
             [
              0.06274509803921569,
              "rgb(24,15,41)"
             ],
             [
              0.12549019607843137,
              "rgb(47,23,57)"
             ],
             [
              0.18823529411764706,
              "rgb(71,28,72)"
             ],
             [
              0.25098039215686274,
              "rgb(97,30,82)"
             ],
             [
              0.3137254901960784,
              "rgb(123,30,89)"
             ],
             [
              0.3764705882352941,
              "rgb(150,27,91)"
             ],
             [
              0.4392156862745098,
              "rgb(177,22,88)"
             ],
             [
              0.5019607843137255,
              "rgb(203,26,79)"
             ],
             [
              0.5647058823529412,
              "rgb(223,47,67)"
             ],
             [
              0.6274509803921569,
              "rgb(236,76,61)"
             ],
             [
              0.6901960784313725,
              "rgb(242,107,73)"
             ],
             [
              0.7529411764705882,
              "rgb(244,135,95)"
             ],
             [
              0.8156862745098039,
              "rgb(245,162,122)"
             ],
             [
              0.8784313725490196,
              "rgb(246,188,153)"
             ],
             [
              0.9411764705882353,
              "rgb(247,212,187)"
             ],
             [
              1,
              "rgb(250,234,220)"
             ]
            ],
            "type": "histogram2dcontour"
           }
          ],
          "mesh3d": [
           {
            "colorbar": {
             "outlinewidth": 0,
             "tickcolor": "rgb(36,36,36)",
             "ticklen": 8,
             "ticks": "outside",
             "tickwidth": 2
            },
            "type": "mesh3d"
           }
          ],
          "parcoords": [
           {
            "line": {
             "colorbar": {
              "outlinewidth": 0,
              "tickcolor": "rgb(36,36,36)",
              "ticklen": 8,
              "ticks": "outside",
              "tickwidth": 2
             }
            },
            "type": "parcoords"
           }
          ],
          "pie": [
           {
            "automargin": true,
            "type": "pie"
           }
          ],
          "scatter": [
           {
            "fillpattern": {
             "fillmode": "overlay",
             "size": 10,
             "solidity": 0.2
            },
            "type": "scatter"
           }
          ],
          "scatter3d": [
           {
            "line": {
             "colorbar": {
              "outlinewidth": 0,
              "tickcolor": "rgb(36,36,36)",
              "ticklen": 8,
              "ticks": "outside",
              "tickwidth": 2
             }
            },
            "marker": {
             "colorbar": {
              "outlinewidth": 0,
              "tickcolor": "rgb(36,36,36)",
              "ticklen": 8,
              "ticks": "outside",
              "tickwidth": 2
             }
            },
            "type": "scatter3d"
           }
          ],
          "scattercarpet": [
           {
            "marker": {
             "colorbar": {
              "outlinewidth": 0,
              "tickcolor": "rgb(36,36,36)",
              "ticklen": 8,
              "ticks": "outside",
              "tickwidth": 2
             }
            },
            "type": "scattercarpet"
           }
          ],
          "scattergeo": [
           {
            "marker": {
             "colorbar": {
              "outlinewidth": 0,
              "tickcolor": "rgb(36,36,36)",
              "ticklen": 8,
              "ticks": "outside",
              "tickwidth": 2
             }
            },
            "type": "scattergeo"
           }
          ],
          "scattergl": [
           {
            "marker": {
             "colorbar": {
              "outlinewidth": 0,
              "tickcolor": "rgb(36,36,36)",
              "ticklen": 8,
              "ticks": "outside",
              "tickwidth": 2
             }
            },
            "type": "scattergl"
           }
          ],
          "scattermapbox": [
           {
            "marker": {
             "colorbar": {
              "outlinewidth": 0,
              "tickcolor": "rgb(36,36,36)",
              "ticklen": 8,
              "ticks": "outside",
              "tickwidth": 2
             }
            },
            "type": "scattermapbox"
           }
          ],
          "scatterpolar": [
           {
            "marker": {
             "colorbar": {
              "outlinewidth": 0,
              "tickcolor": "rgb(36,36,36)",
              "ticklen": 8,
              "ticks": "outside",
              "tickwidth": 2
             }
            },
            "type": "scatterpolar"
           }
          ],
          "scatterpolargl": [
           {
            "marker": {
             "colorbar": {
              "outlinewidth": 0,
              "tickcolor": "rgb(36,36,36)",
              "ticklen": 8,
              "ticks": "outside",
              "tickwidth": 2
             }
            },
            "type": "scatterpolargl"
           }
          ],
          "scatterternary": [
           {
            "marker": {
             "colorbar": {
              "outlinewidth": 0,
              "tickcolor": "rgb(36,36,36)",
              "ticklen": 8,
              "ticks": "outside",
              "tickwidth": 2
             }
            },
            "type": "scatterternary"
           }
          ],
          "surface": [
           {
            "colorbar": {
             "outlinewidth": 0,
             "tickcolor": "rgb(36,36,36)",
             "ticklen": 8,
             "ticks": "outside",
             "tickwidth": 2
            },
            "colorscale": [
             [
              0,
              "rgb(2,4,25)"
             ],
             [
              0.06274509803921569,
              "rgb(24,15,41)"
             ],
             [
              0.12549019607843137,
              "rgb(47,23,57)"
             ],
             [
              0.18823529411764706,
              "rgb(71,28,72)"
             ],
             [
              0.25098039215686274,
              "rgb(97,30,82)"
             ],
             [
              0.3137254901960784,
              "rgb(123,30,89)"
             ],
             [
              0.3764705882352941,
              "rgb(150,27,91)"
             ],
             [
              0.4392156862745098,
              "rgb(177,22,88)"
             ],
             [
              0.5019607843137255,
              "rgb(203,26,79)"
             ],
             [
              0.5647058823529412,
              "rgb(223,47,67)"
             ],
             [
              0.6274509803921569,
              "rgb(236,76,61)"
             ],
             [
              0.6901960784313725,
              "rgb(242,107,73)"
             ],
             [
              0.7529411764705882,
              "rgb(244,135,95)"
             ],
             [
              0.8156862745098039,
              "rgb(245,162,122)"
             ],
             [
              0.8784313725490196,
              "rgb(246,188,153)"
             ],
             [
              0.9411764705882353,
              "rgb(247,212,187)"
             ],
             [
              1,
              "rgb(250,234,220)"
             ]
            ],
            "type": "surface"
           }
          ],
          "table": [
           {
            "cells": {
             "fill": {
              "color": "rgb(231,231,240)"
             },
             "line": {
              "color": "white"
             }
            },
            "header": {
             "fill": {
              "color": "rgb(183,183,191)"
             },
             "line": {
              "color": "white"
             }
            },
            "type": "table"
           }
          ]
         },
         "layout": {
          "annotationdefaults": {
           "arrowcolor": "rgb(67,103,167)"
          },
          "autotypenumbers": "strict",
          "coloraxis": {
           "colorbar": {
            "outlinewidth": 0,
            "tickcolor": "rgb(36,36,36)",
            "ticklen": 8,
            "ticks": "outside",
            "tickwidth": 2
           }
          },
          "colorscale": {
           "sequential": [
            [
             0,
             "rgb(2,4,25)"
            ],
            [
             0.06274509803921569,
             "rgb(24,15,41)"
            ],
            [
             0.12549019607843137,
             "rgb(47,23,57)"
            ],
            [
             0.18823529411764706,
             "rgb(71,28,72)"
            ],
            [
             0.25098039215686274,
             "rgb(97,30,82)"
            ],
            [
             0.3137254901960784,
             "rgb(123,30,89)"
            ],
            [
             0.3764705882352941,
             "rgb(150,27,91)"
            ],
            [
             0.4392156862745098,
             "rgb(177,22,88)"
            ],
            [
             0.5019607843137255,
             "rgb(203,26,79)"
            ],
            [
             0.5647058823529412,
             "rgb(223,47,67)"
            ],
            [
             0.6274509803921569,
             "rgb(236,76,61)"
            ],
            [
             0.6901960784313725,
             "rgb(242,107,73)"
            ],
            [
             0.7529411764705882,
             "rgb(244,135,95)"
            ],
            [
             0.8156862745098039,
             "rgb(245,162,122)"
            ],
            [
             0.8784313725490196,
             "rgb(246,188,153)"
            ],
            [
             0.9411764705882353,
             "rgb(247,212,187)"
            ],
            [
             1,
             "rgb(250,234,220)"
            ]
           ],
           "sequentialminus": [
            [
             0,
             "rgb(2,4,25)"
            ],
            [
             0.06274509803921569,
             "rgb(24,15,41)"
            ],
            [
             0.12549019607843137,
             "rgb(47,23,57)"
            ],
            [
             0.18823529411764706,
             "rgb(71,28,72)"
            ],
            [
             0.25098039215686274,
             "rgb(97,30,82)"
            ],
            [
             0.3137254901960784,
             "rgb(123,30,89)"
            ],
            [
             0.3764705882352941,
             "rgb(150,27,91)"
            ],
            [
             0.4392156862745098,
             "rgb(177,22,88)"
            ],
            [
             0.5019607843137255,
             "rgb(203,26,79)"
            ],
            [
             0.5647058823529412,
             "rgb(223,47,67)"
            ],
            [
             0.6274509803921569,
             "rgb(236,76,61)"
            ],
            [
             0.6901960784313725,
             "rgb(242,107,73)"
            ],
            [
             0.7529411764705882,
             "rgb(244,135,95)"
            ],
            [
             0.8156862745098039,
             "rgb(245,162,122)"
            ],
            [
             0.8784313725490196,
             "rgb(246,188,153)"
            ],
            [
             0.9411764705882353,
             "rgb(247,212,187)"
            ],
            [
             1,
             "rgb(250,234,220)"
            ]
           ]
          },
          "colorway": [
           "rgb(76,114,176)",
           "rgb(221,132,82)",
           "rgb(85,168,104)",
           "rgb(196,78,82)",
           "rgb(129,114,179)",
           "rgb(147,120,96)",
           "rgb(218,139,195)",
           "rgb(140,140,140)",
           "rgb(204,185,116)",
           "rgb(100,181,205)"
          ],
          "font": {
           "color": "rgb(36,36,36)"
          },
          "geo": {
           "bgcolor": "white",
           "lakecolor": "white",
           "landcolor": "rgb(234,234,242)",
           "showlakes": true,
           "showland": true,
           "subunitcolor": "white"
          },
          "hoverlabel": {
           "align": "left"
          },
          "hovermode": "closest",
          "paper_bgcolor": "white",
          "plot_bgcolor": "rgb(234,234,242)",
          "polar": {
           "angularaxis": {
            "gridcolor": "white",
            "linecolor": "white",
            "showgrid": true,
            "ticks": ""
           },
           "bgcolor": "rgb(234,234,242)",
           "radialaxis": {
            "gridcolor": "white",
            "linecolor": "white",
            "showgrid": true,
            "ticks": ""
           }
          },
          "scene": {
           "xaxis": {
            "backgroundcolor": "rgb(234,234,242)",
            "gridcolor": "white",
            "gridwidth": 2,
            "linecolor": "white",
            "showbackground": true,
            "showgrid": true,
            "ticks": "",
            "zerolinecolor": "white"
           },
           "yaxis": {
            "backgroundcolor": "rgb(234,234,242)",
            "gridcolor": "white",
            "gridwidth": 2,
            "linecolor": "white",
            "showbackground": true,
            "showgrid": true,
            "ticks": "",
            "zerolinecolor": "white"
           },
           "zaxis": {
            "backgroundcolor": "rgb(234,234,242)",
            "gridcolor": "white",
            "gridwidth": 2,
            "linecolor": "white",
            "showbackground": true,
            "showgrid": true,
            "ticks": "",
            "zerolinecolor": "white"
           }
          },
          "shapedefaults": {
           "fillcolor": "rgb(67,103,167)",
           "line": {
            "width": 0
           },
           "opacity": 0.5
          },
          "ternary": {
           "aaxis": {
            "gridcolor": "white",
            "linecolor": "white",
            "showgrid": true,
            "ticks": ""
           },
           "baxis": {
            "gridcolor": "white",
            "linecolor": "white",
            "showgrid": true,
            "ticks": ""
           },
           "bgcolor": "rgb(234,234,242)",
           "caxis": {
            "gridcolor": "white",
            "linecolor": "white",
            "showgrid": true,
            "ticks": ""
           }
          },
          "xaxis": {
           "automargin": true,
           "gridcolor": "white",
           "linecolor": "white",
           "showgrid": true,
           "ticks": "",
           "title": {
            "standoff": 15
           },
           "zerolinecolor": "white"
          },
          "yaxis": {
           "automargin": true,
           "gridcolor": "white",
           "linecolor": "white",
           "showgrid": true,
           "ticks": "",
           "title": {
            "standoff": 15
           },
           "zerolinecolor": "white"
          }
         }
        },
        "xaxis": {
         "anchor": "y",
         "categoryorder": "category ascending",
         "domain": [
          0,
          1
         ],
         "title": {
          "text": "発生時（始期）"
         }
        },
        "yaxis": {
         "anchor": "x",
         "domain": [
          0,
          1
         ],
         "title": {
          "text": "count"
         }
        }
       }
      }
     },
     "metadata": {},
     "output_type": "display_data"
    }
   ],
   "source": [
    "fig = px.bar(kashiwa,\n",
    "            x='発生時（始期）',\n",
    "            color='被害者の職業',\n",
    "            barmode='group', # group the categories,\n",
    "            template='seaborn'\n",
    "            )\n",
    "fig.update_traces(\n",
    "    marker_line_width=0\n",
    ")\n",
    "fig.update_xaxes(categoryorder='category ascending')\n",
    "fig.show()"
   ]
  },
  {
   "cell_type": "markdown",
   "metadata": {
    "slideshow": {
     "slide_type": "slide"
    }
   },
   "source": [
    "`facet_col=`を足すと複数のチャートを一気に表示できる。"
   ]
  },
  {
   "cell_type": "code",
   "execution_count": 59,
   "metadata": {},
   "outputs": [
    {
     "data": {
      "application/vnd.plotly.v1+json": {
       "config": {
        "plotlyServerURL": "https://plot.ly"
       },
       "data": [
        {
         "alignmentgroup": "True",
         "hovertemplate": "被害者の職業=その他<br>発生時（始期）=%{x}<br>count=%{y}<extra></extra>",
         "legendgroup": "",
         "marker": {
          "color": "rgb(76,114,176)",
          "line": {
           "width": 0
          },
          "pattern": {
           "shape": ""
          }
         },
         "name": "",
         "offsetgroup": "",
         "orientation": "v",
         "showlegend": false,
         "textposition": "auto",
         "type": "bar",
         "x": [
          "00",
          "13",
          "22",
          "08",
          "16",
          "08",
          "17",
          "23",
          "04",
          "不明",
          "不明",
          "09",
          "17",
          "11",
          "19",
          "10",
          "21",
          "21",
          "20",
          "08",
          "16",
          "07",
          "20",
          "13",
          "13",
          "13",
          "06",
          "20",
          "23",
          "17",
          "16",
          "00",
          "不明",
          "22",
          "05",
          "12",
          "22",
          "15",
          "16",
          "12",
          "19",
          "15",
          "17",
          "21",
          "21",
          "12",
          "20",
          "14",
          "20",
          "12",
          "15",
          "00",
          "19",
          "20",
          "04",
          "14",
          "06",
          "18",
          "19",
          "06",
          "07",
          "19",
          "09",
          "11",
          "08",
          "12",
          "18",
          "17",
          "07",
          "19",
          "12",
          "13",
          "21",
          "21",
          "16",
          "18",
          "12",
          "17",
          "15",
          "20",
          "07",
          "12",
          "01",
          "06",
          "19",
          "18",
          "16",
          "19",
          "18",
          "06",
          "08",
          "19",
          "23",
          "23",
          "10",
          "18",
          "14",
          "18",
          "09",
          "23",
          "08",
          "12",
          "18",
          "11",
          "17",
          "12",
          "16",
          "14",
          "11",
          "08",
          "08",
          "18",
          "19",
          "20",
          "12",
          "15",
          "14",
          "11",
          "11",
          "22",
          "11",
          "19",
          "18",
          "16",
          "13",
          "10",
          "12",
          "17",
          "20",
          "15",
          "12",
          "20",
          "08",
          "18",
          "12",
          "09",
          "19",
          "14",
          "20",
          "15",
          "12",
          "18",
          "16",
          "10",
          "11",
          "10",
          "16",
          "23",
          "16",
          "14",
          "16",
          "09",
          "19",
          "22",
          "12",
          "08",
          "09",
          "09",
          "13",
          "05",
          "06",
          "21",
          "00",
          "06",
          "12",
          "10",
          "19",
          "20",
          "07",
          "20",
          "10",
          "10",
          "09",
          "09",
          "09",
          "12",
          "20",
          "19",
          "18",
          "00",
          "14",
          "18",
          "10",
          "07",
          "18",
          "18",
          "09",
          "08",
          "08",
          "20",
          "15",
          "20",
          "19",
          "17",
          "19",
          "15",
          "10",
          "10",
          "17",
          "18",
          "18",
          "05",
          "06",
          "18",
          "17",
          "18",
          "17",
          "00",
          "12",
          "18",
          "06",
          "15",
          "20",
          "12",
          "16",
          "17",
          "22",
          "11",
          "17",
          "18",
          "08",
          "20",
          "13",
          "12",
          "13",
          "19",
          "17",
          "15",
          "16",
          "22",
          "00",
          "17",
          "12",
          "20",
          "07",
          "不明",
          "16",
          "20",
          "13",
          "18",
          "21",
          "08",
          "19",
          "14",
          "18",
          "20",
          "20",
          "19",
          "11",
          "18",
          "08",
          "16",
          "08",
          "19",
          "18",
          "18",
          "08"
         ],
         "xaxis": "x",
         "y": [
          1,
          1,
          1,
          1,
          1,
          1,
          1,
          1,
          1,
          1,
          1,
          1,
          1,
          1,
          1,
          1,
          1,
          1,
          1,
          1,
          1,
          1,
          1,
          1,
          1,
          1,
          1,
          1,
          1,
          1,
          1,
          1,
          1,
          1,
          1,
          1,
          1,
          1,
          1,
          1,
          1,
          1,
          1,
          1,
          1,
          1,
          1,
          1,
          1,
          1,
          1,
          1,
          1,
          1,
          1,
          1,
          1,
          1,
          1,
          1,
          1,
          1,
          1,
          1,
          1,
          1,
          1,
          1,
          1,
          1,
          1,
          1,
          1,
          1,
          1,
          1,
          1,
          1,
          1,
          1,
          1,
          1,
          1,
          1,
          1,
          1,
          1,
          1,
          1,
          1,
          1,
          1,
          1,
          1,
          1,
          1,
          1,
          1,
          1,
          1,
          1,
          1,
          1,
          1,
          1,
          1,
          1,
          1,
          1,
          1,
          1,
          1,
          1,
          1,
          1,
          1,
          1,
          1,
          1,
          1,
          1,
          1,
          1,
          1,
          1,
          1,
          1,
          1,
          1,
          1,
          1,
          1,
          1,
          1,
          1,
          1,
          1,
          1,
          1,
          1,
          1,
          1,
          1,
          1,
          1,
          1,
          1,
          1,
          1,
          1,
          1,
          1,
          1,
          1,
          1,
          1,
          1,
          1,
          1,
          1,
          1,
          1,
          1,
          1,
          1,
          1,
          1,
          1,
          1,
          1,
          1,
          1,
          1,
          1,
          1,
          1,
          1,
          1,
          1,
          1,
          1,
          1,
          1,
          1,
          1,
          1,
          1,
          1,
          1,
          1,
          1,
          1,
          1,
          1,
          1,
          1,
          1,
          1,
          1,
          1,
          1,
          1,
          1,
          1,
          1,
          1,
          1,
          1,
          1,
          1,
          1,
          1,
          1,
          1,
          1,
          1,
          1,
          1,
          1,
          1,
          1,
          1,
          1,
          1,
          1,
          1,
          1,
          1,
          1,
          1,
          1,
          1,
          1,
          1,
          1,
          1,
          1,
          1,
          1,
          1,
          1,
          1,
          1,
          1,
          1,
          1,
          1,
          1,
          1,
          1,
          1,
          1,
          1,
          1,
          1,
          1,
          1
         ],
         "yaxis": "y"
        },
        {
         "alignmentgroup": "True",
         "hovertemplate": "被害者の職業=中学生<br>発生時（始期）=%{x}<br>count=%{y}<extra></extra>",
         "legendgroup": "",
         "marker": {
          "color": "rgb(76,114,176)",
          "line": {
           "width": 0
          },
          "pattern": {
           "shape": ""
          }
         },
         "name": "",
         "offsetgroup": "",
         "orientation": "v",
         "showlegend": false,
         "textposition": "auto",
         "type": "bar",
         "x": [
          "22",
          "18",
          "21",
          "19",
          "15",
          "13",
          "21",
          "15",
          "18",
          "14",
          "19",
          "02",
          "08",
          "13",
          "19",
          "11",
          "16",
          "13",
          "18",
          "10",
          "18",
          "06",
          "09",
          "20",
          "08",
          "11",
          "18",
          "21",
          "10",
          "18",
          "18",
          "21",
          "19",
          "13",
          "07",
          "16",
          "10",
          "17",
          "13",
          "06",
          "21",
          "14",
          "18",
          "08",
          "15",
          "20",
          "23",
          "19",
          "18",
          "18",
          "12"
         ],
         "xaxis": "x2",
         "y": [
          1,
          1,
          1,
          1,
          1,
          1,
          1,
          1,
          1,
          1,
          1,
          1,
          1,
          1,
          1,
          1,
          1,
          1,
          1,
          1,
          1,
          1,
          1,
          1,
          1,
          1,
          1,
          1,
          1,
          1,
          1,
          1,
          1,
          1,
          1,
          1,
          1,
          1,
          1,
          1,
          1,
          1,
          1,
          1,
          1,
          1,
          1,
          1,
          1,
          1,
          1
         ],
         "yaxis": "y2"
        },
        {
         "alignmentgroup": "True",
         "hovertemplate": "被害者の職業=小学生<br>発生時（始期）=%{x}<br>count=%{y}<extra></extra>",
         "legendgroup": "",
         "marker": {
          "color": "rgb(76,114,176)",
          "line": {
           "width": 0
          },
          "pattern": {
           "shape": ""
          }
         },
         "name": "",
         "offsetgroup": "",
         "orientation": "v",
         "showlegend": false,
         "textposition": "auto",
         "type": "bar",
         "x": [
          "15",
          "17",
          "08",
          "19",
          "08",
          "19",
          "11",
          "14",
          "15",
          "16",
          "17",
          "13",
          "15",
          "14",
          "17",
          "08",
          "15",
          "17",
          "15",
          "21",
          "19",
          "11",
          "19",
          "16"
         ],
         "xaxis": "x3",
         "y": [
          1,
          1,
          1,
          1,
          1,
          1,
          1,
          1,
          1,
          1,
          1,
          1,
          1,
          1,
          1,
          1,
          1,
          1,
          1,
          1,
          1,
          1,
          1,
          1
         ],
         "yaxis": "y3"
        },
        {
         "alignmentgroup": "True",
         "hovertemplate": "被害者の職業=高校生<br>発生時（始期）=%{x}<br>count=%{y}<extra></extra>",
         "legendgroup": "",
         "marker": {
          "color": "rgb(76,114,176)",
          "line": {
           "width": 0
          },
          "pattern": {
           "shape": ""
          }
         },
         "name": "",
         "offsetgroup": "",
         "orientation": "v",
         "showlegend": false,
         "textposition": "auto",
         "type": "bar",
         "x": [
          "21",
          "07",
          "20",
          "07",
          "07",
          "23",
          "08",
          "08",
          "06",
          "07",
          "17",
          "17",
          "15",
          "18",
          "18",
          "08",
          "07",
          "09",
          "16",
          "14",
          "15",
          "08",
          "07",
          "17",
          "07",
          "21",
          "19",
          "14",
          "14",
          "13",
          "18",
          "16",
          "11",
          "18",
          "13",
          "21",
          "11",
          "17",
          "16",
          "20",
          "13",
          "08",
          "13",
          "16",
          "11",
          "14",
          "00",
          "13",
          "13",
          "11",
          "16",
          "17",
          "17",
          "20",
          "17",
          "08",
          "13",
          "20",
          "12",
          "16",
          "19",
          "08",
          "19",
          "07",
          "12",
          "16",
          "08",
          "20",
          "16",
          "20",
          "07",
          "08",
          "17",
          "19",
          "08",
          "18",
          "16",
          "19",
          "19",
          "16",
          "20",
          "16",
          "21",
          "12",
          "21",
          "07",
          "17",
          "09",
          "10"
         ],
         "xaxis": "x4",
         "y": [
          1,
          1,
          1,
          1,
          1,
          1,
          1,
          1,
          1,
          1,
          1,
          1,
          1,
          1,
          1,
          1,
          1,
          1,
          1,
          1,
          1,
          1,
          1,
          1,
          1,
          1,
          1,
          1,
          1,
          1,
          1,
          1,
          1,
          1,
          1,
          1,
          1,
          1,
          1,
          1,
          1,
          1,
          1,
          1,
          1,
          1,
          1,
          1,
          1,
          1,
          1,
          1,
          1,
          1,
          1,
          1,
          1,
          1,
          1,
          1,
          1,
          1,
          1,
          1,
          1,
          1,
          1,
          1,
          1,
          1,
          1,
          1,
          1,
          1,
          1,
          1,
          1,
          1,
          1,
          1,
          1,
          1,
          1,
          1,
          1,
          1,
          1,
          1,
          1
         ],
         "yaxis": "y4"
        },
        {
         "alignmentgroup": "True",
         "hovertemplate": "被害者の職業=大学生<br>発生時（始期）=%{x}<br>count=%{y}<extra></extra>",
         "legendgroup": "",
         "marker": {
          "color": "rgb(76,114,176)",
          "line": {
           "width": 0
          },
          "pattern": {
           "shape": ""
          }
         },
         "name": "",
         "offsetgroup": "",
         "orientation": "v",
         "showlegend": false,
         "textposition": "auto",
         "type": "bar",
         "x": [
          "14",
          "17",
          "10",
          "18",
          "16",
          "07",
          "22",
          "14",
          "19",
          "16",
          "09",
          "19",
          "07",
          "15",
          "10",
          "08",
          "16",
          "22",
          "08",
          "13",
          "07",
          "10",
          "09",
          "12",
          "00",
          "12",
          "15",
          "不明",
          "09",
          "19",
          "17",
          "11",
          "16",
          "10",
          "08",
          "22",
          "15",
          "10",
          "16",
          "23",
          "07",
          "13",
          "09",
          "14",
          "18",
          "08"
         ],
         "xaxis": "x5",
         "y": [
          1,
          1,
          1,
          1,
          1,
          1,
          1,
          1,
          1,
          1,
          1,
          1,
          1,
          1,
          1,
          1,
          1,
          1,
          1,
          1,
          1,
          1,
          1,
          1,
          1,
          1,
          1,
          1,
          1,
          1,
          1,
          1,
          1,
          1,
          1,
          1,
          1,
          1,
          1,
          1,
          1,
          1,
          1,
          1,
          1,
          1
         ],
         "yaxis": "y5"
        },
        {
         "alignmentgroup": "True",
         "hovertemplate": "被害者の職業=法人・団体、被害者なし<br>発生時（始期）=%{x}<br>count=%{y}<extra></extra>",
         "legendgroup": "",
         "marker": {
          "color": "rgb(76,114,176)",
          "line": {
           "width": 0
          },
          "pattern": {
           "shape": ""
          }
         },
         "name": "",
         "offsetgroup": "",
         "orientation": "v",
         "showlegend": false,
         "textposition": "auto",
         "type": "bar",
         "x": [
          "20",
          "不明",
          "07",
          "20"
         ],
         "xaxis": "x6",
         "y": [
          1,
          1,
          1,
          1
         ],
         "yaxis": "y6"
        }
       ],
       "layout": {
        "annotations": [
         {
          "font": {},
          "showarrow": false,
          "text": "被害者の職業=その他",
          "x": 0.075,
          "xanchor": "center",
          "xref": "paper",
          "y": 1,
          "yanchor": "bottom",
          "yref": "paper"
         },
         {
          "font": {},
          "showarrow": false,
          "text": "被害者の職業=中学生",
          "x": 0.24499999999999997,
          "xanchor": "center",
          "xref": "paper",
          "y": 1,
          "yanchor": "bottom",
          "yref": "paper"
         },
         {
          "font": {},
          "showarrow": false,
          "text": "被害者の職業=小学生",
          "x": 0.415,
          "xanchor": "center",
          "xref": "paper",
          "y": 1,
          "yanchor": "bottom",
          "yref": "paper"
         },
         {
          "font": {},
          "showarrow": false,
          "text": "被害者の職業=高校生",
          "x": 0.585,
          "xanchor": "center",
          "xref": "paper",
          "y": 1,
          "yanchor": "bottom",
          "yref": "paper"
         },
         {
          "font": {},
          "showarrow": false,
          "text": "被害者の職業=大学生",
          "x": 0.7549999999999999,
          "xanchor": "center",
          "xref": "paper",
          "y": 1,
          "yanchor": "bottom",
          "yref": "paper"
         },
         {
          "font": {},
          "showarrow": false,
          "text": "被害者の職業=法人・団体、被害者なし",
          "x": 0.925,
          "xanchor": "center",
          "xref": "paper",
          "y": 1,
          "yanchor": "bottom",
          "yref": "paper"
         }
        ],
        "barmode": "relative",
        "legend": {
         "tracegroupgap": 0
        },
        "margin": {
         "t": 60
        },
        "template": {
         "data": {
          "bar": [
           {
            "error_x": {
             "color": "rgb(36,36,36)"
            },
            "error_y": {
             "color": "rgb(36,36,36)"
            },
            "marker": {
             "line": {
              "color": "rgb(234,234,242)",
              "width": 0.5
             },
             "pattern": {
              "fillmode": "overlay",
              "size": 10,
              "solidity": 0.2
             }
            },
            "type": "bar"
           }
          ],
          "barpolar": [
           {
            "marker": {
             "line": {
              "color": "rgb(234,234,242)",
              "width": 0.5
             },
             "pattern": {
              "fillmode": "overlay",
              "size": 10,
              "solidity": 0.2
             }
            },
            "type": "barpolar"
           }
          ],
          "carpet": [
           {
            "aaxis": {
             "endlinecolor": "rgb(36,36,36)",
             "gridcolor": "white",
             "linecolor": "white",
             "minorgridcolor": "white",
             "startlinecolor": "rgb(36,36,36)"
            },
            "baxis": {
             "endlinecolor": "rgb(36,36,36)",
             "gridcolor": "white",
             "linecolor": "white",
             "minorgridcolor": "white",
             "startlinecolor": "rgb(36,36,36)"
            },
            "type": "carpet"
           }
          ],
          "choropleth": [
           {
            "colorbar": {
             "outlinewidth": 0,
             "tickcolor": "rgb(36,36,36)",
             "ticklen": 8,
             "ticks": "outside",
             "tickwidth": 2
            },
            "type": "choropleth"
           }
          ],
          "contour": [
           {
            "colorbar": {
             "outlinewidth": 0,
             "tickcolor": "rgb(36,36,36)",
             "ticklen": 8,
             "ticks": "outside",
             "tickwidth": 2
            },
            "colorscale": [
             [
              0,
              "rgb(2,4,25)"
             ],
             [
              0.06274509803921569,
              "rgb(24,15,41)"
             ],
             [
              0.12549019607843137,
              "rgb(47,23,57)"
             ],
             [
              0.18823529411764706,
              "rgb(71,28,72)"
             ],
             [
              0.25098039215686274,
              "rgb(97,30,82)"
             ],
             [
              0.3137254901960784,
              "rgb(123,30,89)"
             ],
             [
              0.3764705882352941,
              "rgb(150,27,91)"
             ],
             [
              0.4392156862745098,
              "rgb(177,22,88)"
             ],
             [
              0.5019607843137255,
              "rgb(203,26,79)"
             ],
             [
              0.5647058823529412,
              "rgb(223,47,67)"
             ],
             [
              0.6274509803921569,
              "rgb(236,76,61)"
             ],
             [
              0.6901960784313725,
              "rgb(242,107,73)"
             ],
             [
              0.7529411764705882,
              "rgb(244,135,95)"
             ],
             [
              0.8156862745098039,
              "rgb(245,162,122)"
             ],
             [
              0.8784313725490196,
              "rgb(246,188,153)"
             ],
             [
              0.9411764705882353,
              "rgb(247,212,187)"
             ],
             [
              1,
              "rgb(250,234,220)"
             ]
            ],
            "type": "contour"
           }
          ],
          "contourcarpet": [
           {
            "colorbar": {
             "outlinewidth": 0,
             "tickcolor": "rgb(36,36,36)",
             "ticklen": 8,
             "ticks": "outside",
             "tickwidth": 2
            },
            "type": "contourcarpet"
           }
          ],
          "heatmap": [
           {
            "colorbar": {
             "outlinewidth": 0,
             "tickcolor": "rgb(36,36,36)",
             "ticklen": 8,
             "ticks": "outside",
             "tickwidth": 2
            },
            "colorscale": [
             [
              0,
              "rgb(2,4,25)"
             ],
             [
              0.06274509803921569,
              "rgb(24,15,41)"
             ],
             [
              0.12549019607843137,
              "rgb(47,23,57)"
             ],
             [
              0.18823529411764706,
              "rgb(71,28,72)"
             ],
             [
              0.25098039215686274,
              "rgb(97,30,82)"
             ],
             [
              0.3137254901960784,
              "rgb(123,30,89)"
             ],
             [
              0.3764705882352941,
              "rgb(150,27,91)"
             ],
             [
              0.4392156862745098,
              "rgb(177,22,88)"
             ],
             [
              0.5019607843137255,
              "rgb(203,26,79)"
             ],
             [
              0.5647058823529412,
              "rgb(223,47,67)"
             ],
             [
              0.6274509803921569,
              "rgb(236,76,61)"
             ],
             [
              0.6901960784313725,
              "rgb(242,107,73)"
             ],
             [
              0.7529411764705882,
              "rgb(244,135,95)"
             ],
             [
              0.8156862745098039,
              "rgb(245,162,122)"
             ],
             [
              0.8784313725490196,
              "rgb(246,188,153)"
             ],
             [
              0.9411764705882353,
              "rgb(247,212,187)"
             ],
             [
              1,
              "rgb(250,234,220)"
             ]
            ],
            "type": "heatmap"
           }
          ],
          "heatmapgl": [
           {
            "colorbar": {
             "outlinewidth": 0,
             "tickcolor": "rgb(36,36,36)",
             "ticklen": 8,
             "ticks": "outside",
             "tickwidth": 2
            },
            "colorscale": [
             [
              0,
              "rgb(2,4,25)"
             ],
             [
              0.06274509803921569,
              "rgb(24,15,41)"
             ],
             [
              0.12549019607843137,
              "rgb(47,23,57)"
             ],
             [
              0.18823529411764706,
              "rgb(71,28,72)"
             ],
             [
              0.25098039215686274,
              "rgb(97,30,82)"
             ],
             [
              0.3137254901960784,
              "rgb(123,30,89)"
             ],
             [
              0.3764705882352941,
              "rgb(150,27,91)"
             ],
             [
              0.4392156862745098,
              "rgb(177,22,88)"
             ],
             [
              0.5019607843137255,
              "rgb(203,26,79)"
             ],
             [
              0.5647058823529412,
              "rgb(223,47,67)"
             ],
             [
              0.6274509803921569,
              "rgb(236,76,61)"
             ],
             [
              0.6901960784313725,
              "rgb(242,107,73)"
             ],
             [
              0.7529411764705882,
              "rgb(244,135,95)"
             ],
             [
              0.8156862745098039,
              "rgb(245,162,122)"
             ],
             [
              0.8784313725490196,
              "rgb(246,188,153)"
             ],
             [
              0.9411764705882353,
              "rgb(247,212,187)"
             ],
             [
              1,
              "rgb(250,234,220)"
             ]
            ],
            "type": "heatmapgl"
           }
          ],
          "histogram": [
           {
            "marker": {
             "pattern": {
              "fillmode": "overlay",
              "size": 10,
              "solidity": 0.2
             }
            },
            "type": "histogram"
           }
          ],
          "histogram2d": [
           {
            "colorbar": {
             "outlinewidth": 0,
             "tickcolor": "rgb(36,36,36)",
             "ticklen": 8,
             "ticks": "outside",
             "tickwidth": 2
            },
            "colorscale": [
             [
              0,
              "rgb(2,4,25)"
             ],
             [
              0.06274509803921569,
              "rgb(24,15,41)"
             ],
             [
              0.12549019607843137,
              "rgb(47,23,57)"
             ],
             [
              0.18823529411764706,
              "rgb(71,28,72)"
             ],
             [
              0.25098039215686274,
              "rgb(97,30,82)"
             ],
             [
              0.3137254901960784,
              "rgb(123,30,89)"
             ],
             [
              0.3764705882352941,
              "rgb(150,27,91)"
             ],
             [
              0.4392156862745098,
              "rgb(177,22,88)"
             ],
             [
              0.5019607843137255,
              "rgb(203,26,79)"
             ],
             [
              0.5647058823529412,
              "rgb(223,47,67)"
             ],
             [
              0.6274509803921569,
              "rgb(236,76,61)"
             ],
             [
              0.6901960784313725,
              "rgb(242,107,73)"
             ],
             [
              0.7529411764705882,
              "rgb(244,135,95)"
             ],
             [
              0.8156862745098039,
              "rgb(245,162,122)"
             ],
             [
              0.8784313725490196,
              "rgb(246,188,153)"
             ],
             [
              0.9411764705882353,
              "rgb(247,212,187)"
             ],
             [
              1,
              "rgb(250,234,220)"
             ]
            ],
            "type": "histogram2d"
           }
          ],
          "histogram2dcontour": [
           {
            "colorbar": {
             "outlinewidth": 0,
             "tickcolor": "rgb(36,36,36)",
             "ticklen": 8,
             "ticks": "outside",
             "tickwidth": 2
            },
            "colorscale": [
             [
              0,
              "rgb(2,4,25)"
             ],
             [
              0.06274509803921569,
              "rgb(24,15,41)"
             ],
             [
              0.12549019607843137,
              "rgb(47,23,57)"
             ],
             [
              0.18823529411764706,
              "rgb(71,28,72)"
             ],
             [
              0.25098039215686274,
              "rgb(97,30,82)"
             ],
             [
              0.3137254901960784,
              "rgb(123,30,89)"
             ],
             [
              0.3764705882352941,
              "rgb(150,27,91)"
             ],
             [
              0.4392156862745098,
              "rgb(177,22,88)"
             ],
             [
              0.5019607843137255,
              "rgb(203,26,79)"
             ],
             [
              0.5647058823529412,
              "rgb(223,47,67)"
             ],
             [
              0.6274509803921569,
              "rgb(236,76,61)"
             ],
             [
              0.6901960784313725,
              "rgb(242,107,73)"
             ],
             [
              0.7529411764705882,
              "rgb(244,135,95)"
             ],
             [
              0.8156862745098039,
              "rgb(245,162,122)"
             ],
             [
              0.8784313725490196,
              "rgb(246,188,153)"
             ],
             [
              0.9411764705882353,
              "rgb(247,212,187)"
             ],
             [
              1,
              "rgb(250,234,220)"
             ]
            ],
            "type": "histogram2dcontour"
           }
          ],
          "mesh3d": [
           {
            "colorbar": {
             "outlinewidth": 0,
             "tickcolor": "rgb(36,36,36)",
             "ticklen": 8,
             "ticks": "outside",
             "tickwidth": 2
            },
            "type": "mesh3d"
           }
          ],
          "parcoords": [
           {
            "line": {
             "colorbar": {
              "outlinewidth": 0,
              "tickcolor": "rgb(36,36,36)",
              "ticklen": 8,
              "ticks": "outside",
              "tickwidth": 2
             }
            },
            "type": "parcoords"
           }
          ],
          "pie": [
           {
            "automargin": true,
            "type": "pie"
           }
          ],
          "scatter": [
           {
            "fillpattern": {
             "fillmode": "overlay",
             "size": 10,
             "solidity": 0.2
            },
            "type": "scatter"
           }
          ],
          "scatter3d": [
           {
            "line": {
             "colorbar": {
              "outlinewidth": 0,
              "tickcolor": "rgb(36,36,36)",
              "ticklen": 8,
              "ticks": "outside",
              "tickwidth": 2
             }
            },
            "marker": {
             "colorbar": {
              "outlinewidth": 0,
              "tickcolor": "rgb(36,36,36)",
              "ticklen": 8,
              "ticks": "outside",
              "tickwidth": 2
             }
            },
            "type": "scatter3d"
           }
          ],
          "scattercarpet": [
           {
            "marker": {
             "colorbar": {
              "outlinewidth": 0,
              "tickcolor": "rgb(36,36,36)",
              "ticklen": 8,
              "ticks": "outside",
              "tickwidth": 2
             }
            },
            "type": "scattercarpet"
           }
          ],
          "scattergeo": [
           {
            "marker": {
             "colorbar": {
              "outlinewidth": 0,
              "tickcolor": "rgb(36,36,36)",
              "ticklen": 8,
              "ticks": "outside",
              "tickwidth": 2
             }
            },
            "type": "scattergeo"
           }
          ],
          "scattergl": [
           {
            "marker": {
             "colorbar": {
              "outlinewidth": 0,
              "tickcolor": "rgb(36,36,36)",
              "ticklen": 8,
              "ticks": "outside",
              "tickwidth": 2
             }
            },
            "type": "scattergl"
           }
          ],
          "scattermapbox": [
           {
            "marker": {
             "colorbar": {
              "outlinewidth": 0,
              "tickcolor": "rgb(36,36,36)",
              "ticklen": 8,
              "ticks": "outside",
              "tickwidth": 2
             }
            },
            "type": "scattermapbox"
           }
          ],
          "scatterpolar": [
           {
            "marker": {
             "colorbar": {
              "outlinewidth": 0,
              "tickcolor": "rgb(36,36,36)",
              "ticklen": 8,
              "ticks": "outside",
              "tickwidth": 2
             }
            },
            "type": "scatterpolar"
           }
          ],
          "scatterpolargl": [
           {
            "marker": {
             "colorbar": {
              "outlinewidth": 0,
              "tickcolor": "rgb(36,36,36)",
              "ticklen": 8,
              "ticks": "outside",
              "tickwidth": 2
             }
            },
            "type": "scatterpolargl"
           }
          ],
          "scatterternary": [
           {
            "marker": {
             "colorbar": {
              "outlinewidth": 0,
              "tickcolor": "rgb(36,36,36)",
              "ticklen": 8,
              "ticks": "outside",
              "tickwidth": 2
             }
            },
            "type": "scatterternary"
           }
          ],
          "surface": [
           {
            "colorbar": {
             "outlinewidth": 0,
             "tickcolor": "rgb(36,36,36)",
             "ticklen": 8,
             "ticks": "outside",
             "tickwidth": 2
            },
            "colorscale": [
             [
              0,
              "rgb(2,4,25)"
             ],
             [
              0.06274509803921569,
              "rgb(24,15,41)"
             ],
             [
              0.12549019607843137,
              "rgb(47,23,57)"
             ],
             [
              0.18823529411764706,
              "rgb(71,28,72)"
             ],
             [
              0.25098039215686274,
              "rgb(97,30,82)"
             ],
             [
              0.3137254901960784,
              "rgb(123,30,89)"
             ],
             [
              0.3764705882352941,
              "rgb(150,27,91)"
             ],
             [
              0.4392156862745098,
              "rgb(177,22,88)"
             ],
             [
              0.5019607843137255,
              "rgb(203,26,79)"
             ],
             [
              0.5647058823529412,
              "rgb(223,47,67)"
             ],
             [
              0.6274509803921569,
              "rgb(236,76,61)"
             ],
             [
              0.6901960784313725,
              "rgb(242,107,73)"
             ],
             [
              0.7529411764705882,
              "rgb(244,135,95)"
             ],
             [
              0.8156862745098039,
              "rgb(245,162,122)"
             ],
             [
              0.8784313725490196,
              "rgb(246,188,153)"
             ],
             [
              0.9411764705882353,
              "rgb(247,212,187)"
             ],
             [
              1,
              "rgb(250,234,220)"
             ]
            ],
            "type": "surface"
           }
          ],
          "table": [
           {
            "cells": {
             "fill": {
              "color": "rgb(231,231,240)"
             },
             "line": {
              "color": "white"
             }
            },
            "header": {
             "fill": {
              "color": "rgb(183,183,191)"
             },
             "line": {
              "color": "white"
             }
            },
            "type": "table"
           }
          ]
         },
         "layout": {
          "annotationdefaults": {
           "arrowcolor": "rgb(67,103,167)"
          },
          "autotypenumbers": "strict",
          "coloraxis": {
           "colorbar": {
            "outlinewidth": 0,
            "tickcolor": "rgb(36,36,36)",
            "ticklen": 8,
            "ticks": "outside",
            "tickwidth": 2
           }
          },
          "colorscale": {
           "sequential": [
            [
             0,
             "rgb(2,4,25)"
            ],
            [
             0.06274509803921569,
             "rgb(24,15,41)"
            ],
            [
             0.12549019607843137,
             "rgb(47,23,57)"
            ],
            [
             0.18823529411764706,
             "rgb(71,28,72)"
            ],
            [
             0.25098039215686274,
             "rgb(97,30,82)"
            ],
            [
             0.3137254901960784,
             "rgb(123,30,89)"
            ],
            [
             0.3764705882352941,
             "rgb(150,27,91)"
            ],
            [
             0.4392156862745098,
             "rgb(177,22,88)"
            ],
            [
             0.5019607843137255,
             "rgb(203,26,79)"
            ],
            [
             0.5647058823529412,
             "rgb(223,47,67)"
            ],
            [
             0.6274509803921569,
             "rgb(236,76,61)"
            ],
            [
             0.6901960784313725,
             "rgb(242,107,73)"
            ],
            [
             0.7529411764705882,
             "rgb(244,135,95)"
            ],
            [
             0.8156862745098039,
             "rgb(245,162,122)"
            ],
            [
             0.8784313725490196,
             "rgb(246,188,153)"
            ],
            [
             0.9411764705882353,
             "rgb(247,212,187)"
            ],
            [
             1,
             "rgb(250,234,220)"
            ]
           ],
           "sequentialminus": [
            [
             0,
             "rgb(2,4,25)"
            ],
            [
             0.06274509803921569,
             "rgb(24,15,41)"
            ],
            [
             0.12549019607843137,
             "rgb(47,23,57)"
            ],
            [
             0.18823529411764706,
             "rgb(71,28,72)"
            ],
            [
             0.25098039215686274,
             "rgb(97,30,82)"
            ],
            [
             0.3137254901960784,
             "rgb(123,30,89)"
            ],
            [
             0.3764705882352941,
             "rgb(150,27,91)"
            ],
            [
             0.4392156862745098,
             "rgb(177,22,88)"
            ],
            [
             0.5019607843137255,
             "rgb(203,26,79)"
            ],
            [
             0.5647058823529412,
             "rgb(223,47,67)"
            ],
            [
             0.6274509803921569,
             "rgb(236,76,61)"
            ],
            [
             0.6901960784313725,
             "rgb(242,107,73)"
            ],
            [
             0.7529411764705882,
             "rgb(244,135,95)"
            ],
            [
             0.8156862745098039,
             "rgb(245,162,122)"
            ],
            [
             0.8784313725490196,
             "rgb(246,188,153)"
            ],
            [
             0.9411764705882353,
             "rgb(247,212,187)"
            ],
            [
             1,
             "rgb(250,234,220)"
            ]
           ]
          },
          "colorway": [
           "rgb(76,114,176)",
           "rgb(221,132,82)",
           "rgb(85,168,104)",
           "rgb(196,78,82)",
           "rgb(129,114,179)",
           "rgb(147,120,96)",
           "rgb(218,139,195)",
           "rgb(140,140,140)",
           "rgb(204,185,116)",
           "rgb(100,181,205)"
          ],
          "font": {
           "color": "rgb(36,36,36)"
          },
          "geo": {
           "bgcolor": "white",
           "lakecolor": "white",
           "landcolor": "rgb(234,234,242)",
           "showlakes": true,
           "showland": true,
           "subunitcolor": "white"
          },
          "hoverlabel": {
           "align": "left"
          },
          "hovermode": "closest",
          "paper_bgcolor": "white",
          "plot_bgcolor": "rgb(234,234,242)",
          "polar": {
           "angularaxis": {
            "gridcolor": "white",
            "linecolor": "white",
            "showgrid": true,
            "ticks": ""
           },
           "bgcolor": "rgb(234,234,242)",
           "radialaxis": {
            "gridcolor": "white",
            "linecolor": "white",
            "showgrid": true,
            "ticks": ""
           }
          },
          "scene": {
           "xaxis": {
            "backgroundcolor": "rgb(234,234,242)",
            "gridcolor": "white",
            "gridwidth": 2,
            "linecolor": "white",
            "showbackground": true,
            "showgrid": true,
            "ticks": "",
            "zerolinecolor": "white"
           },
           "yaxis": {
            "backgroundcolor": "rgb(234,234,242)",
            "gridcolor": "white",
            "gridwidth": 2,
            "linecolor": "white",
            "showbackground": true,
            "showgrid": true,
            "ticks": "",
            "zerolinecolor": "white"
           },
           "zaxis": {
            "backgroundcolor": "rgb(234,234,242)",
            "gridcolor": "white",
            "gridwidth": 2,
            "linecolor": "white",
            "showbackground": true,
            "showgrid": true,
            "ticks": "",
            "zerolinecolor": "white"
           }
          },
          "shapedefaults": {
           "fillcolor": "rgb(67,103,167)",
           "line": {
            "width": 0
           },
           "opacity": 0.5
          },
          "ternary": {
           "aaxis": {
            "gridcolor": "white",
            "linecolor": "white",
            "showgrid": true,
            "ticks": ""
           },
           "baxis": {
            "gridcolor": "white",
            "linecolor": "white",
            "showgrid": true,
            "ticks": ""
           },
           "bgcolor": "rgb(234,234,242)",
           "caxis": {
            "gridcolor": "white",
            "linecolor": "white",
            "showgrid": true,
            "ticks": ""
           }
          },
          "xaxis": {
           "automargin": true,
           "gridcolor": "white",
           "linecolor": "white",
           "showgrid": true,
           "ticks": "",
           "title": {
            "standoff": 15
           },
           "zerolinecolor": "white"
          },
          "yaxis": {
           "automargin": true,
           "gridcolor": "white",
           "linecolor": "white",
           "showgrid": true,
           "ticks": "",
           "title": {
            "standoff": 15
           },
           "zerolinecolor": "white"
          }
         }
        },
        "xaxis": {
         "anchor": "y",
         "categoryorder": "category ascending",
         "domain": [
          0,
          0.15
         ],
         "title": {
          "text": "発生時（始期）"
         }
        },
        "xaxis2": {
         "anchor": "y2",
         "categoryorder": "category ascending",
         "domain": [
          0.16999999999999998,
          0.31999999999999995
         ],
         "matches": "x",
         "title": {
          "text": "発生時（始期）"
         }
        },
        "xaxis3": {
         "anchor": "y3",
         "categoryorder": "category ascending",
         "domain": [
          0.33999999999999997,
          0.49
         ],
         "matches": "x",
         "title": {
          "text": "発生時（始期）"
         }
        },
        "xaxis4": {
         "anchor": "y4",
         "categoryorder": "category ascending",
         "domain": [
          0.51,
          0.66
         ],
         "matches": "x",
         "title": {
          "text": "発生時（始期）"
         }
        },
        "xaxis5": {
         "anchor": "y5",
         "categoryorder": "category ascending",
         "domain": [
          0.6799999999999999,
          0.83
         ],
         "matches": "x",
         "title": {
          "text": "発生時（始期）"
         }
        },
        "xaxis6": {
         "anchor": "y6",
         "categoryorder": "category ascending",
         "domain": [
          0.85,
          1
         ],
         "matches": "x",
         "title": {
          "text": "発生時（始期）"
         }
        },
        "yaxis": {
         "anchor": "x",
         "domain": [
          0,
          1
         ],
         "title": {
          "text": "count"
         }
        },
        "yaxis2": {
         "anchor": "x2",
         "domain": [
          0,
          1
         ],
         "matches": "y",
         "showticklabels": false
        },
        "yaxis3": {
         "anchor": "x3",
         "domain": [
          0,
          1
         ],
         "matches": "y",
         "showticklabels": false
        },
        "yaxis4": {
         "anchor": "x4",
         "domain": [
          0,
          1
         ],
         "matches": "y",
         "showticklabels": false
        },
        "yaxis5": {
         "anchor": "x5",
         "domain": [
          0,
          1
         ],
         "matches": "y",
         "showticklabels": false
        },
        "yaxis6": {
         "anchor": "x6",
         "domain": [
          0,
          1
         ],
         "matches": "y",
         "showticklabels": false
        }
       }
      }
     },
     "metadata": {},
     "output_type": "display_data"
    }
   ],
   "source": [
    "fig = px.bar(kashiwa,\n",
    "            x='発生時（始期）',\n",
    "            facet_col='被害者の職業',\n",
    "            template='seaborn')\n",
    "fig.update_traces(\n",
    "    marker_line_width=0\n",
    ")\n",
    "fig.update_xaxes(categoryorder='category ascending')\n",
    "fig.show()"
   ]
  },
  {
   "cell_type": "markdown",
   "metadata": {
    "slideshow": {
     "slide_type": "slide"
    }
   },
   "source": [
    "# Geocoding\n",
    "\n",
    "<img src=\"https://raw.githubusercontent.com/yohman/23-1-Reitaku-GIS/main/Weeks/Week08/images/Geocoding_01.png\" width=400>\n",
    "\n",
    "住所だけではマップイングできません。座標が必要です。なので、住所から座標を特定するプロセスが必要である。このプロセスを<h1>【ジオコーティング】</h1>という。\n"
   ]
  },
  {
   "cell_type": "markdown",
   "metadata": {
    "slideshow": {
     "slide_type": "slide"
    }
   },
   "source": [
    "ジオコーティングと言えば、色んな方法があります。現在、日本で無料でジオコーティングサービスを提供しているのが国土地理院のジオコーティングAPI。\n",
    "\n",
    "試してみよう。このようにURLをブラウザーで記入するだけで座標が返ってくるサービスである。国土地理院さん、とても便利なサービス、ありがとうございます！\n",
    "\n",
    "https://msearch.gsi.go.jp/address-search/AddressSearch?q=麗澤大学"
   ]
  },
  {
   "cell_type": "markdown",
   "metadata": {
    "slideshow": {
     "slide_type": "slide"
    }
   },
   "source": [
    "では、このプロセスに従って、アドレスから座標を出力する Python 関数を作成します。"
   ]
  },
  {
   "cell_type": "code",
   "execution_count": 60,
   "metadata": {},
   "outputs": [],
   "source": [
    "# 関数を作成\n",
    "def geocode(address):\n",
    "\n",
    "    # ジオコーティングURL\n",
    "    url = \"https://msearch.gsi.go.jp/address-search/AddressSearch?q=\"\n",
    "\n",
    "    # try/exceptでエラーをキャッチ\n",
    "    # 成功の場合\n",
    "    try:\n",
    "        s_quote = urllib.parse.quote(address)\n",
    "        response = requests.get(url + s_quote)\n",
    "        if len(response.json())>0:\n",
    "            return response.json()[0][\"geometry\"][\"coordinates\"] \n",
    "        else:\n",
    "            return False\n",
    "        \n",
    "    # 失敗の場合\n",
    "    except:\n",
    "        return False"
   ]
  },
  {
   "cell_type": "markdown",
   "metadata": {
    "slideshow": {
     "slide_type": "slide"
    }
   },
   "source": [
    "関数の使い方は簡単！"
   ]
  },
  {
   "cell_type": "code",
   "execution_count": 61,
   "metadata": {},
   "outputs": [
    {
     "data": {
      "text/plain": [
       "[140.652863, 35.720306]"
      ]
     },
     "execution_count": 61,
     "metadata": {},
     "output_type": "execute_result"
    }
   ],
   "source": [
    "geocode('ロサンゼルス')"
   ]
  },
  {
   "cell_type": "markdown",
   "metadata": {
    "slideshow": {
     "slide_type": "slide"
    }
   },
   "source": [
    "## データフレームの準備\n",
    "\n",
    "`kashiwa`のデータフレームの各行の住所をジオコーティングする前に`住所`と座標（`lat`,`lon`）のフィールドを作りましょう。"
   ]
  },
  {
   "cell_type": "code",
   "execution_count": 62,
   "metadata": {},
   "outputs": [],
   "source": [
    "# 空の住所フィールドを作成\n",
    "kashiwa['住所'] = ''"
   ]
  },
  {
   "cell_type": "code",
   "execution_count": 63,
   "metadata": {},
   "outputs": [],
   "source": [
    "# 空だがfloatとしてフィールドを作成\n",
    "kashiwa['lat'] = pd.Series(dtype=float)\n",
    "kashiwa['lon'] = pd.Series(dtype=float)"
   ]
  },
  {
   "cell_type": "markdown",
   "metadata": {
    "slideshow": {
     "slide_type": "slide"
    }
   },
   "source": [
    "<img src=\"https://raw.githubusercontent.com/yohman/23-1-Reitaku-GIS/main/Weeks/Week08/images/concat.png\" width=600>\n",
    "\n",
    "↑で作った住所フィールドに次の 3 つのフィールドを連結します。\n",
    "\n",
    "1. 都道府県（発生地）\n",
    "1. 市区町村（発生地）\n",
    "1. 町丁目（発生地）"
   ]
  },
  {
   "cell_type": "code",
   "execution_count": 64,
   "metadata": {},
   "outputs": [],
   "source": [
    "# 住所フィールドを作成\n",
    "kashiwa['住所'] = kashiwa['都道府県（発生地）']+kashiwa['市区町村（発生地）']+kashiwa['町丁目（発生地）']"
   ]
  },
  {
   "cell_type": "code",
   "execution_count": 65,
   "metadata": {
    "slideshow": {
     "slide_type": "slide"
    }
   },
   "outputs": [
    {
     "data": {
      "text/html": [
       "<div>\n",
       "<style scoped>\n",
       "    .dataframe tbody tr th:only-of-type {\n",
       "        vertical-align: middle;\n",
       "    }\n",
       "\n",
       "    .dataframe tbody tr th {\n",
       "        vertical-align: top;\n",
       "    }\n",
       "\n",
       "    .dataframe thead th {\n",
       "        text-align: right;\n",
       "    }\n",
       "</style>\n",
       "<table border=\"1\" class=\"dataframe\">\n",
       "  <thead>\n",
       "    <tr style=\"text-align: right;\">\n",
       "      <th></th>\n",
       "      <th>罪名</th>\n",
       "      <th>手口</th>\n",
       "      <th>管轄警察署（発生地）</th>\n",
       "      <th>管轄交番・駐在所（発生地）</th>\n",
       "      <th>市区町村コード（発生地）</th>\n",
       "      <th>都道府県（発生地）</th>\n",
       "      <th>市区町村（発生地）</th>\n",
       "      <th>町丁目（発生地）</th>\n",
       "      <th>発生年月日（始期）</th>\n",
       "      <th>発生時（始期）</th>\n",
       "      <th>発生場所</th>\n",
       "      <th>発生場所の詳細</th>\n",
       "      <th>被害者の年齢</th>\n",
       "      <th>被害者の職業</th>\n",
       "      <th>施錠関係</th>\n",
       "      <th>住所</th>\n",
       "      <th>lat</th>\n",
       "      <th>lon</th>\n",
       "    </tr>\n",
       "  </thead>\n",
       "  <tbody>\n",
       "    <tr>\n",
       "      <th>2861</th>\n",
       "      <td>窃盗</td>\n",
       "      <td>自転車盗</td>\n",
       "      <td>柏</td>\n",
       "      <td>南増尾交番</td>\n",
       "      <td>122173</td>\n",
       "      <td>千葉県</td>\n",
       "      <td>柏市</td>\n",
       "      <td>南増尾８丁目</td>\n",
       "      <td>2022-11-13</td>\n",
       "      <td>15</td>\n",
       "      <td>その他</td>\n",
       "      <td>駐車（輪）場</td>\n",
       "      <td>10歳代</td>\n",
       "      <td>中学生</td>\n",
       "      <td>施錠せず</td>\n",
       "      <td>千葉県柏市南増尾８丁目</td>\n",
       "      <td>NaN</td>\n",
       "      <td>NaN</td>\n",
       "    </tr>\n",
       "    <tr>\n",
       "      <th>2931</th>\n",
       "      <td>窃盗</td>\n",
       "      <td>自転車盗</td>\n",
       "      <td>柏</td>\n",
       "      <td>大津ヶ丘交番</td>\n",
       "      <td>122173</td>\n",
       "      <td>千葉県</td>\n",
       "      <td>柏市</td>\n",
       "      <td>大島田１丁目</td>\n",
       "      <td>2022-05-09</td>\n",
       "      <td>14</td>\n",
       "      <td>その他</td>\n",
       "      <td>駐車（輪）場</td>\n",
       "      <td>10歳代</td>\n",
       "      <td>高校生</td>\n",
       "      <td>施錠せず</td>\n",
       "      <td>千葉県柏市大島田１丁目</td>\n",
       "      <td>NaN</td>\n",
       "      <td>NaN</td>\n",
       "    </tr>\n",
       "    <tr>\n",
       "      <th>3171</th>\n",
       "      <td>窃盗</td>\n",
       "      <td>自転車盗</td>\n",
       "      <td>柏</td>\n",
       "      <td>緑ヶ丘交番</td>\n",
       "      <td>122173</td>\n",
       "      <td>千葉県</td>\n",
       "      <td>柏市</td>\n",
       "      <td>柏３丁目</td>\n",
       "      <td>2022-06-11</td>\n",
       "      <td>18</td>\n",
       "      <td>道路上</td>\n",
       "      <td>その他</td>\n",
       "      <td>50歳代</td>\n",
       "      <td>その他</td>\n",
       "      <td>施錠した</td>\n",
       "      <td>千葉県柏市柏３丁目</td>\n",
       "      <td>NaN</td>\n",
       "      <td>NaN</td>\n",
       "    </tr>\n",
       "  </tbody>\n",
       "</table>\n",
       "</div>"
      ],
      "text/plain": [
       "      罪名    手口 管轄警察署（発生地） 管轄交番・駐在所（発生地）  市区町村コード（発生地） 都道府県（発生地） 市区町村（発生地）  \\\n",
       "2861  窃盗  自転車盗          柏         南増尾交番        122173       千葉県        柏市   \n",
       "2931  窃盗  自転車盗          柏        大津ヶ丘交番        122173       千葉県        柏市   \n",
       "3171  窃盗  自転車盗          柏         緑ヶ丘交番        122173       千葉県        柏市   \n",
       "\n",
       "     町丁目（発生地）   発生年月日（始期） 発生時（始期） 発生場所 発生場所の詳細 被害者の年齢 被害者の職業  施錠関係  \\\n",
       "2861   南増尾８丁目  2022-11-13      15  その他  駐車（輪）場   10歳代    中学生  施錠せず   \n",
       "2931   大島田１丁目  2022-05-09      14  その他  駐車（輪）場   10歳代    高校生  施錠せず   \n",
       "3171     柏３丁目  2022-06-11      18  道路上     その他   50歳代    その他  施錠した   \n",
       "\n",
       "               住所  lat  lon  \n",
       "2861  千葉県柏市南増尾８丁目  NaN  NaN  \n",
       "2931  千葉県柏市大島田１丁目  NaN  NaN  \n",
       "3171    千葉県柏市柏３丁目  NaN  NaN  "
      ]
     },
     "execution_count": 65,
     "metadata": {},
     "output_type": "execute_result"
    }
   ],
   "source": [
    "# random sampleで上手く行ったかどうかをチェック\n",
    "kashiwa.sample(3)"
   ]
  },
  {
   "cell_type": "markdown",
   "metadata": {
    "slideshow": {
     "slide_type": "slide"
    }
   },
   "source": [
    "これで準備は整えました。`kashiwa` のデータフレームを for loop に入れて住所を一つずつジオコーティングしよう。\n",
    "\n",
    "この作業は数分かかるので注意。千件以上のデータフレームはなるべく避けよう。"
   ]
  },
  {
   "cell_type": "code",
   "execution_count": 66,
   "metadata": {},
   "outputs": [
    {
     "name": "stdout",
     "output_type": "stream",
     "text": [
      "千葉県柏市今谷上町 139.956406 35.841019\n",
      "千葉県柏市今谷上町 139.956406 35.841019\n",
      "千葉県柏市今谷上町 139.956406 35.841019\n",
      "千葉県柏市今谷上町 139.956406 35.841019\n",
      "千葉県柏市今谷上町 139.956406 35.841019\n",
      "千葉県柏市酒井根 139.957825 35.81815\n",
      "千葉県柏市酒井根３丁目 139.965973 35.818859\n",
      "千葉県柏市酒井根４丁目 139.960007 35.820488\n",
      "千葉県柏市酒井根５丁目 139.961349 35.824585\n",
      "千葉県柏市酒井根５丁目 139.961349 35.824585\n",
      "千葉県柏市逆井 139.982468 35.815441\n",
      "千葉県柏市中新宿３丁目 139.946884 35.83292\n",
      "千葉県柏市西山２丁目 139.95401 35.82056\n",
      "千葉県柏市光ケ丘１丁目 139.957794 35.833195\n",
      "千葉県柏市光ケ丘１丁目 139.957794 35.833195\n",
      "千葉県柏市光ケ丘団地 139.957809 35.829479\n",
      "千葉県柏市東中新宿１丁目 139.960556 35.833984\n",
      "千葉県柏市東中新宿１丁目 139.960556 35.833984\n",
      "千葉県柏市東中新宿１丁目 139.960556 35.833984\n",
      "千葉県柏市柏 139.986511 35.864445\n",
      "千葉県柏市柏 139.986511 35.864445\n",
      "千葉県柏市柏 139.986511 35.864445\n",
      "千葉県柏市柏下 139.983795 35.870007\n",
      "千葉県柏市柏堀之内新田 139.983582 35.875332\n",
      "千葉県柏市北柏２丁目 139.989914 35.872643\n",
      "千葉県柏市北柏２丁目 139.989914 35.872643\n",
      "千葉県柏市北柏２丁目 139.989914 35.872643\n",
      "千葉県柏市北柏３丁目 139.987793 35.872192\n",
      "千葉県柏市北柏３丁目 139.987793 35.872192\n",
      "千葉県柏市北柏４丁目 139.986893 35.870586\n",
      "千葉県柏市北柏４丁目 139.986893 35.870586\n",
      "千葉県柏市北柏５丁目 139.990295 35.868679\n",
      "千葉県柏市宿連寺 139.985229 35.887501\n",
      "千葉県柏市宿連寺 139.985229 35.887501\n",
      "千葉県柏市根戸 139.98645 35.88113\n",
      "千葉県柏市根戸 139.98645 35.88113\n",
      "千葉県柏市根戸 139.98645 35.88113\n",
      "千葉県柏市根戸 139.98645 35.88113\n",
      "千葉県柏市根戸 139.98645 35.88113\n",
      "千葉県柏市根戸 139.98645 35.88113\n",
      "千葉県柏市根戸 139.98645 35.88113\n",
      "千葉県柏市根戸 139.98645 35.88113\n",
      "千葉県柏市根戸 139.98645 35.88113\n",
      "千葉県柏市根戸 139.98645 35.88113\n",
      "千葉県柏市根戸 139.98645 35.88113\n",
      "千葉県柏市根戸 139.98645 35.88113\n",
      "千葉県柏市根戸 139.98645 35.88113\n",
      "千葉県柏市根戸 139.98645 35.88113\n",
      "千葉県柏市根戸 139.98645 35.88113\n",
      "千葉県柏市根戸 139.98645 35.88113\n",
      "千葉県柏市根戸 139.98645 35.88113\n",
      "千葉県柏市根戸 139.98645 35.88113\n",
      "千葉県柏市根戸 139.98645 35.88113\n",
      "千葉県柏市根戸 139.98645 35.88113\n",
      "千葉県柏市加賀１丁目 139.970932 35.832733\n",
      "千葉県柏市逆井 139.982468 35.815441\n",
      "千葉県柏市逆井 139.982468 35.815441\n",
      "千葉県柏市逆井 139.982468 35.815441\n",
      "千葉県柏市逆井 139.982468 35.815441\n",
      "千葉県柏市逆井 139.982468 35.815441\n",
      "千葉県柏市逆井 139.982468 35.815441\n",
      "千葉県柏市逆井 139.982468 35.815441\n",
      "千葉県柏市逆井 139.982468 35.815441\n",
      "千葉県柏市逆井１丁目 139.983444 35.822018\n",
      "千葉県柏市逆井１丁目 139.983444 35.822018\n",
      "千葉県柏市逆井１丁目 139.983444 35.822018\n",
      "千葉県柏市逆井２丁目 139.979523 35.824066\n",
      "千葉県柏市逆井２丁目 139.979523 35.824066\n",
      "千葉県柏市逆井２丁目 139.979523 35.824066\n",
      "千葉県柏市逆井２丁目 139.979523 35.824066\n",
      "千葉県柏市逆井２丁目 139.979523 35.824066\n",
      "千葉県柏市逆井２丁目 139.979523 35.824066\n",
      "千葉県柏市南増尾 139.974075 35.816387\n",
      "千葉県柏市南増尾 139.974075 35.816387\n",
      "千葉県柏市南増尾 139.974075 35.816387\n",
      "千葉県柏市南増尾１丁目 139.971741 35.818909\n",
      "千葉県柏市南増尾２丁目 139.96759 35.817165\n",
      "千葉県柏市南増尾３丁目 139.97052 35.814602\n",
      "千葉県柏市南増尾３丁目 139.97052 35.814602\n",
      "千葉県柏市南増尾３丁目 139.97052 35.814602\n",
      "千葉県柏市南増尾３丁目 139.97052 35.814602\n",
      "千葉県柏市南増尾３丁目 139.97052 35.814602\n",
      "千葉県柏市南増尾４丁目 139.966034 35.813236\n",
      "千葉県柏市南増尾５丁目 139.966537 35.809929\n",
      "千葉県柏市南増尾６丁目 139.963562 35.811157\n",
      "千葉県柏市南増尾８丁目 139.959 35.810768\n",
      "千葉県柏市増尾台１丁目 139.976883 35.827206\n",
      "千葉県柏市増尾台１丁目 139.976883 35.827206\n",
      "千葉県柏市逆井藤ノ台 139.98671 35.822952\n",
      "千葉県柏市逆井藤ノ台 139.98671 35.822952\n",
      "千葉県柏市逆井藤ノ台 139.98671 35.822952\n",
      "千葉県柏市南逆井１丁目 139.970367 35.807571\n",
      "千葉県柏市青葉台２丁目 139.957855 35.813534\n",
      "千葉県柏市青葉台２丁目 139.957855 35.813534\n",
      "千葉県柏市新逆井１丁目 139.971527 35.811794\n",
      "千葉県柏市新逆井２丁目 139.970627 35.809525\n",
      "千葉県柏市新逆井２丁目 139.970627 35.809525\n",
      "千葉県柏市新逆井２丁目 139.970627 35.809525\n",
      "千葉県柏市大井 140.00441 35.850155\n",
      "千葉県柏市逆井２丁目 139.979523 35.824066\n",
      "千葉県柏市新富町１丁目 139.955795 35.85088\n",
      "千葉県柏市豊四季 139.949814 35.859928\n",
      "千葉県柏市豊四季 139.949814 35.859928\n",
      "千葉県柏市豊四季 139.949814 35.859928\n",
      "千葉県柏市豊四季 139.949814 35.859928\n",
      "千葉県柏市豊四季 139.949814 35.859928\n",
      "千葉県柏市豊四季 139.949814 35.859928\n",
      "千葉県柏市豊四季 139.949814 35.859928\n",
      "千葉県柏市豊四季 139.949814 35.859928\n",
      "千葉県柏市南柏１丁目 139.953476 35.845783\n",
      "千葉県柏市南柏１丁目 139.953476 35.845783\n",
      "千葉県柏市南柏１丁目 139.953476 35.845783\n",
      "千葉県柏市南柏１丁目 139.953476 35.845783\n",
      "千葉県柏市南柏１丁目 139.953476 35.845783\n",
      "千葉県柏市南柏１丁目 139.953476 35.845783\n",
      "千葉県柏市南柏１丁目 139.953476 35.845783\n",
      "千葉県柏市南柏２丁目 139.955032 35.847271\n",
      "千葉県柏市南柏２丁目 139.955032 35.847271\n",
      "千葉県柏市南柏２丁目 139.955032 35.847271\n",
      "千葉県柏市南柏２丁目 139.955032 35.847271\n",
      "千葉県柏市豊町２丁目 139.960251 35.851013\n",
      "千葉県柏市豊町２丁目 139.960251 35.851013\n",
      "千葉県柏市豊町２丁目 139.960251 35.851013\n",
      "千葉県柏市南柏中央 139.954956 35.844471\n",
      "千葉県柏市南柏中央 139.954956 35.844471\n",
      "千葉県柏市南柏中央 139.954956 35.844471\n",
      "千葉県柏市南柏中央 139.954956 35.844471\n",
      "千葉県柏市南柏中央 139.954956 35.844471\n",
      "千葉県柏市南柏中央 139.954956 35.844471\n",
      "千葉県柏市南柏中央 139.954956 35.844471\n",
      "千葉県柏市南柏中央 139.954956 35.844471\n",
      "千葉県柏市南柏中央 139.954956 35.844471\n",
      "千葉県柏市南柏中央 139.954956 35.844471\n",
      "千葉県柏市南柏中央 139.954956 35.844471\n",
      "千葉県柏市南柏中央 139.954956 35.844471\n",
      "千葉県柏市南柏中央 139.954956 35.844471\n",
      "千葉県柏市南柏中央 139.954956 35.844471\n",
      "千葉県柏市南柏中央 139.954956 35.844471\n",
      "千葉県柏市加賀３丁目 139.97319 35.830082\n",
      "千葉県柏市加賀３丁目 139.97319 35.830082\n",
      "千葉県柏市加賀３丁目 139.97319 35.830082\n",
      "千葉県柏市加賀３丁目 139.97319 35.830082\n",
      "千葉県柏市逆井２丁目 139.979523 35.824066\n",
      "千葉県柏市増尾１丁目 139.974945 35.832466\n",
      "千葉県柏市増尾２丁目 139.978226 35.831703\n",
      "千葉県柏市増尾４丁目 139.983551 35.835472\n",
      "千葉県柏市増尾８丁目 139.986633 35.829124\n",
      "千葉県柏市増尾台３丁目 139.974731 35.824703\n",
      "千葉県柏市増尾台３丁目 139.974731 35.824703\n",
      "千葉県柏市増尾台４丁目 139.973206 35.821732\n",
      "千葉県柏市増尾台４丁目 139.973206 35.821732\n",
      "千葉県柏市大井 140.00441 35.850155\n",
      "千葉県柏市大井 140.00441 35.850155\n",
      "千葉県柏市大島田 140.012802 35.835773\n",
      "千葉県柏市大島田 140.012802 35.835773\n",
      "千葉県柏市大島田１丁目 140.011703 35.833759\n",
      "千葉県柏市大島田１丁目 140.011703 35.833759\n",
      "千葉県柏市大島田１丁目 140.011703 35.833759\n",
      "千葉県柏市大島田１丁目 140.011703 35.833759\n",
      "千葉県柏市大島田１丁目 140.011703 35.833759\n",
      "千葉県柏市大島田１丁目 140.011703 35.833759\n",
      "千葉県柏市大島田１丁目 140.011703 35.833759\n",
      "千葉県柏市大島田１丁目 140.011703 35.833759\n",
      "千葉県柏市大島田１丁目 140.011703 35.833759\n",
      "千葉県柏市大島田１丁目 140.011703 35.833759\n",
      "千葉県柏市大島田１丁目 140.011703 35.833759\n",
      "千葉県柏市大津ケ丘１丁目 140.003662 35.84325\n",
      "千葉県柏市大津ケ丘２丁目 139.999237 35.841068\n",
      "千葉県柏市大津ケ丘２丁目 139.999237 35.841068\n",
      "千葉県柏市大津ケ丘２丁目 139.999237 35.841068\n",
      "千葉県柏市大津ケ丘３丁目 139.995621 35.840942\n",
      "千葉県柏市大津ケ丘３丁目 139.995621 35.840942\n",
      "千葉県柏市大津ケ丘４丁目 140.002502 35.837143\n",
      "千葉県柏市大津ケ丘４丁目 140.002502 35.837143\n",
      "千葉県柏市大津ケ丘４丁目 140.002502 35.837143\n",
      "千葉県柏市大津ケ丘４丁目 140.002502 35.837143\n",
      "千葉県柏市五條谷 140.016342 35.848038\n",
      "千葉県柏市塚崎 139.996063 35.834927\n",
      "千葉県柏市手賀の杜３丁目 140.026993 35.846394\n",
      "千葉県柏市布施 139.992828 35.891518\n",
      "千葉県柏市つくしが丘４丁目 139.968262 35.835949\n",
      "千葉県柏市つくしが丘５丁目 139.96756 35.83136\n",
      "千葉県柏市常盤台 139.967072 35.84692\n",
      "千葉県柏市豊住３丁目 139.963547 35.838268\n",
      "千葉県柏市豊住３丁目 139.963547 35.838268\n",
      "千葉県柏市豊住３丁目 139.963547 35.838268\n",
      "千葉県柏市豊住４丁目 139.965775 35.842236\n",
      "千葉県柏市豊住５丁目 139.966721 35.840786\n",
      "千葉県柏市豊住５丁目 139.966721 35.840786\n",
      "千葉県柏市名戸ケ谷 139.981064 35.843285\n",
      "千葉県柏市名戸ケ谷１丁目 139.976089 35.845604\n",
      "千葉県柏市新柏１丁目 139.968597 35.839211\n",
      "千葉県柏市新柏３丁目 139.972061 35.841667\n",
      "千葉県柏市明原３丁目 139.963196 35.867088\n",
      "千葉県柏市明原３丁目 139.963196 35.867088\n",
      "千葉県柏市明原３丁目 139.963196 35.867088\n",
      "千葉県柏市明原３丁目 139.963196 35.867088\n",
      "千葉県柏市明原３丁目 139.963196 35.867088\n",
      "千葉県柏市明原４丁目 139.962662 35.864574\n",
      "千葉県柏市明原４丁目 139.962662 35.864574\n",
      "千葉県柏市あけぼの１丁目 139.971985 35.865929\n",
      "千葉県柏市あけぼの２丁目 139.974197 35.868034\n",
      "千葉県柏市あけぼの２丁目 139.974197 35.868034\n",
      "千葉県柏市あけぼの３丁目 139.971756 35.869129\n",
      "千葉県柏市あけぼの３丁目 139.971756 35.869129\n",
      "千葉県柏市あけぼの４丁目 139.968948 35.866798\n",
      "千葉県柏市あけぼの４丁目 139.968948 35.866798\n",
      "千葉県柏市あけぼの４丁目 139.968948 35.866798\n",
      "千葉県柏市あけぼの５丁目 139.967926 35.869289\n",
      "千葉県柏市旭町１丁目 139.968491 35.861916\n",
      "千葉県柏市旭町１丁目 139.968491 35.861916\n",
      "千葉県柏市旭町１丁目 139.968491 35.861916\n",
      "千葉県柏市旭町１丁目 139.968491 35.861916\n",
      "千葉県柏市旭町１丁目 139.968491 35.861916\n",
      "千葉県柏市旭町１丁目 139.968491 35.861916\n",
      "千葉県柏市旭町１丁目 139.968491 35.861916\n",
      "千葉県柏市旭町１丁目 139.968491 35.861916\n",
      "千葉県柏市旭町１丁目 139.968491 35.861916\n",
      "千葉県柏市旭町４丁目 139.962036 35.858974\n",
      "千葉県柏市旭町４丁目 139.962036 35.858974\n",
      "千葉県柏市旭町４丁目 139.962036 35.858974\n",
      "千葉県柏市旭町４丁目 139.962036 35.858974\n",
      "千葉県柏市旭町４丁目 139.962036 35.858974\n",
      "千葉県柏市旭町５丁目 139.962128 35.85675\n",
      "千葉県柏市旭町６丁目 139.958267 35.857044\n",
      "千葉県柏市旭町６丁目 139.958267 35.857044\n",
      "千葉県柏市篠籠田 139.943359 35.868122\n",
      "千葉県柏市末広町 139.970398 35.862904\n",
      "千葉県柏市末広町 139.970398 35.862904\n",
      "千葉県柏市末広町 139.970398 35.862904\n",
      "千葉県柏市末広町 139.970398 35.862904\n",
      "千葉県柏市末広町 139.970398 35.862904\n",
      "千葉県柏市末広町 139.970398 35.862904\n",
      "千葉県柏市末広町 139.970398 35.862904\n",
      "千葉県柏市末広町 139.970398 35.862904\n",
      "千葉県柏市末広町 139.970398 35.862904\n",
      "千葉県柏市末広町 139.970398 35.862904\n",
      "千葉県柏市富里３丁目 139.962891 35.854397\n",
      "千葉県柏市富里３丁目 139.962891 35.854397\n",
      "千葉県柏市富里３丁目 139.962891 35.854397\n",
      "千葉県柏市富里３丁目 139.962891 35.854397\n",
      "千葉県柏市富里３丁目 139.962891 35.854397\n",
      "千葉県柏市富里３丁目 139.962891 35.854397\n",
      "千葉県柏市豊四季台１丁目 139.957932 35.866894\n",
      "千葉県柏市豊四季台１丁目 139.957932 35.866894\n",
      "千葉県柏市豊四季台１丁目 139.957932 35.866894\n",
      "千葉県柏市豊四季台１丁目 139.957932 35.866894\n",
      "千葉県柏市豊四季台３丁目 139.959137 35.862438\n",
      "千葉県柏市豊四季台４丁目 139.956039 35.863903\n",
      "千葉県柏市豊四季台４丁目 139.956039 35.863903\n",
      "千葉県柏市西町 139.957932 35.869198\n",
      "千葉県柏市十余二 139.959305 35.882629\n",
      "千葉県柏市十余二 139.959305 35.882629\n",
      "千葉県柏市根戸 139.98645 35.88113\n",
      "千葉県柏市松ケ崎 139.975952 35.879082\n",
      "千葉県柏市松ケ崎 139.975952 35.879082\n",
      "千葉県柏市松ケ崎 139.975952 35.879082\n",
      "千葉県柏市松ケ崎 139.975952 35.879082\n",
      "千葉県柏市松ケ崎 139.975952 35.879082\n",
      "千葉県柏市松ケ崎 139.975952 35.879082\n",
      "千葉県柏市松ケ崎 139.975952 35.879082\n",
      "千葉県柏市松ケ崎 139.975952 35.879082\n",
      "千葉県柏市松葉町１丁目 139.980759 35.886456\n",
      "千葉県柏市松葉町１丁目 139.980759 35.886456\n",
      "千葉県柏市松葉町３丁目 139.970963 35.886009\n",
      "千葉県柏市松葉町３丁目 139.970963 35.886009\n",
      "千葉県柏市松葉町４丁目 139.971802 35.889114\n",
      "千葉県柏市松葉町４丁目 139.971802 35.889114\n",
      "千葉県柏市松葉町４丁目 139.971802 35.889114\n",
      "千葉県柏市松葉町５丁目 139.966446 35.889473\n",
      "千葉県柏市松葉町５丁目 139.966446 35.889473\n",
      "千葉県柏市松葉町６丁目 139.968033 35.891541\n",
      "千葉県柏市大山台１丁目 139.967804 35.880825\n",
      "千葉県柏市大山台１丁目 139.967804 35.880825\n",
      "千葉県柏市大山台１丁目 139.967804 35.880825\n",
      "千葉県柏市大山台１丁目 139.967804 35.880825\n",
      "千葉県柏市大山台２丁目 139.969193 35.88258\n",
      "千葉県柏市大山台２丁目 139.969193 35.88258\n",
      "千葉県柏市大山台２丁目 139.969193 35.88258\n",
      "千葉県柏市大山台２丁目 139.969193 35.88258\n",
      "千葉県柏市大山台２丁目 139.969193 35.88258\n",
      "千葉県柏市大山台２丁目 139.969193 35.88258\n",
      "千葉県柏市大山台２丁目 139.969193 35.88258\n",
      "千葉県柏市正連寺 139.950058 35.902401\n",
      "千葉県柏市正連寺 139.950058 35.902401\n",
      "千葉県柏市若柴 139.953995 35.891659\n",
      "千葉県柏市若柴 139.953995 35.891659\n",
      "千葉県柏市若柴 139.953995 35.891659\n",
      "千葉県柏市若柴 139.953995 35.891659\n",
      "千葉県柏市若柴 139.953995 35.891659\n",
      "千葉県柏市若柴 139.953995 35.891659\n",
      "千葉県柏市若柴 139.953995 35.891659\n",
      "千葉県柏市若柴 139.953995 35.891659\n",
      "千葉県柏市若柴 139.953995 35.891659\n",
      "千葉県柏市若柴 139.953995 35.891659\n",
      "千葉県柏市若柴 139.953995 35.891659\n",
      "千葉県柏市若柴 139.953995 35.891659\n",
      "千葉県柏市若柴 139.953995 35.891659\n",
      "千葉県柏市若柴 139.953995 35.891659\n",
      "千葉県柏市若柴 139.953995 35.891659\n",
      "千葉県柏市若柴 139.953995 35.891659\n",
      "千葉県柏市若柴 139.953995 35.891659\n"
     ]
    },
    {
     "ename": "TypeError",
     "evalue": "'bool' object is not subscriptable",
     "output_type": "error",
     "traceback": [
      "\u001b[0;31m---------------------------------------------------------------------------\u001b[0m",
      "\u001b[0;31mTypeError\u001b[0m                                 Traceback (most recent call last)",
      "Cell \u001b[0;32mIn[66], line 8\u001b[0m\n\u001b[1;32m      5\u001b[0m \u001b[38;5;28;01mif\u001b[39;00m geocode(row[\u001b[38;5;124m'\u001b[39m\u001b[38;5;124m住所\u001b[39m\u001b[38;5;124m'\u001b[39m]) \u001b[38;5;241m!=\u001b[39m \u001b[38;5;28;01mFalse\u001b[39;00m:\n\u001b[1;32m      6\u001b[0m     \u001b[38;5;66;03m# 座標を変数に\u001b[39;00m\n\u001b[1;32m      7\u001b[0m     lon \u001b[38;5;241m=\u001b[39m geocode(row[\u001b[38;5;124m'\u001b[39m\u001b[38;5;124m住所\u001b[39m\u001b[38;5;124m'\u001b[39m])[\u001b[38;5;241m0\u001b[39m]\n\u001b[0;32m----> 8\u001b[0m     lat \u001b[38;5;241m=\u001b[39m \u001b[43mgeocode\u001b[49m\u001b[43m(\u001b[49m\u001b[43mrow\u001b[49m\u001b[43m[\u001b[49m\u001b[38;5;124;43m'\u001b[39;49m\u001b[38;5;124;43m住所\u001b[39;49m\u001b[38;5;124;43m'\u001b[39;49m\u001b[43m]\u001b[49m\u001b[43m)\u001b[49m\u001b[43m[\u001b[49m\u001b[38;5;241;43m1\u001b[39;49m\u001b[43m]\u001b[49m\n\u001b[1;32m     10\u001b[0m     \u001b[38;5;66;03m# データフレームに値をインプット        \u001b[39;00m\n\u001b[1;32m     11\u001b[0m     kashiwa\u001b[38;5;241m.\u001b[39mloc[i,\u001b[38;5;124m'\u001b[39m\u001b[38;5;124mlon\u001b[39m\u001b[38;5;124m'\u001b[39m] \u001b[38;5;241m=\u001b[39m lon\n",
      "\u001b[0;31mTypeError\u001b[0m: 'bool' object is not subscriptable"
     ]
    }
   ],
   "source": [
    "# kashiwaデータフレームをループ\n",
    "for i,row in kashiwa.iterrows():\n",
    "\n",
    "    # ジオコーティング成功\n",
    "    if geocode(row['住所']) != False:\n",
    "        # 座標を変数に\n",
    "        lon = geocode(row['住所'])[0]\n",
    "        lat = geocode(row['住所'])[1]\n",
    "\n",
    "        # データフレームに値をインプット        \n",
    "        kashiwa.loc[i,'lon'] = lon\n",
    "        kashiwa.loc[i,'lat'] = lat\n",
    "\n",
    "        # 結果をprint\n",
    "        print(row['住所'],lon,lat)\n",
    "    \n",
    "    # ジオコーティング失敗\n",
    "    else:\n",
    "        print(row['住所'],'ジオコーティング失敗')\n",
    "        continue"
   ]
  },
  {
   "cell_type": "code",
   "execution_count": null,
   "metadata": {
    "slideshow": {
     "slide_type": "slide"
    }
   },
   "outputs": [
    {
     "data": {
      "text/html": [
       "<div>\n",
       "<style scoped>\n",
       "    .dataframe tbody tr th:only-of-type {\n",
       "        vertical-align: middle;\n",
       "    }\n",
       "\n",
       "    .dataframe tbody tr th {\n",
       "        vertical-align: top;\n",
       "    }\n",
       "\n",
       "    .dataframe thead th {\n",
       "        text-align: right;\n",
       "    }\n",
       "</style>\n",
       "<table border=\"1\" class=\"dataframe\">\n",
       "  <thead>\n",
       "    <tr style=\"text-align: right;\">\n",
       "      <th></th>\n",
       "      <th>罪名</th>\n",
       "      <th>手口</th>\n",
       "      <th>管轄警察署（発生地）</th>\n",
       "      <th>管轄交番・駐在所（発生地）</th>\n",
       "      <th>市区町村コード（発生地）</th>\n",
       "      <th>都道府県（発生地）</th>\n",
       "      <th>市区町村（発生地）</th>\n",
       "      <th>町丁目（発生地）</th>\n",
       "      <th>発生年月日（始期）</th>\n",
       "      <th>発生時（始期）</th>\n",
       "      <th>発生場所</th>\n",
       "      <th>発生場所の詳細</th>\n",
       "      <th>被害者の年齢</th>\n",
       "      <th>被害者の職業</th>\n",
       "      <th>施錠関係</th>\n",
       "      <th>住所</th>\n",
       "      <th>lat</th>\n",
       "      <th>lon</th>\n",
       "    </tr>\n",
       "  </thead>\n",
       "  <tbody>\n",
       "    <tr>\n",
       "      <th>2821</th>\n",
       "      <td>窃盗</td>\n",
       "      <td>自転車盗</td>\n",
       "      <td>柏</td>\n",
       "      <td>北柏駅前交番</td>\n",
       "      <td>122173</td>\n",
       "      <td>千葉県</td>\n",
       "      <td>柏市</td>\n",
       "      <td>根戸</td>\n",
       "      <td>2022-09-20</td>\n",
       "      <td>20</td>\n",
       "      <td>４階建て以上共同住宅</td>\n",
       "      <td>駐車（輪）場</td>\n",
       "      <td>40歳代</td>\n",
       "      <td>その他</td>\n",
       "      <td>施錠した</td>\n",
       "      <td>千葉県柏市根戸</td>\n",
       "      <td>35.881130</td>\n",
       "      <td>139.986450</td>\n",
       "    </tr>\n",
       "    <tr>\n",
       "      <th>2797</th>\n",
       "      <td>窃盗</td>\n",
       "      <td>自転車盗</td>\n",
       "      <td>柏</td>\n",
       "      <td>北柏駅前交番</td>\n",
       "      <td>122173</td>\n",
       "      <td>千葉県</td>\n",
       "      <td>柏市</td>\n",
       "      <td>柏</td>\n",
       "      <td>不明</td>\n",
       "      <td>不明</td>\n",
       "      <td>４階建て以上共同住宅</td>\n",
       "      <td>駐車（輪）場</td>\n",
       "      <td>40歳代</td>\n",
       "      <td>その他</td>\n",
       "      <td>施錠した</td>\n",
       "      <td>千葉県柏市柏</td>\n",
       "      <td>35.864445</td>\n",
       "      <td>139.986511</td>\n",
       "    </tr>\n",
       "    <tr>\n",
       "      <th>2832</th>\n",
       "      <td>窃盗</td>\n",
       "      <td>自転車盗</td>\n",
       "      <td>柏</td>\n",
       "      <td>南増尾交番</td>\n",
       "      <td>122173</td>\n",
       "      <td>千葉県</td>\n",
       "      <td>柏市</td>\n",
       "      <td>逆井</td>\n",
       "      <td>2022-04-15</td>\n",
       "      <td>07</td>\n",
       "      <td>駐車（輪）場</td>\n",
       "      <td>駐車（輪）場</td>\n",
       "      <td>10歳代</td>\n",
       "      <td>大学生</td>\n",
       "      <td>施錠せず</td>\n",
       "      <td>千葉県柏市逆井</td>\n",
       "      <td>35.815441</td>\n",
       "      <td>139.982468</td>\n",
       "    </tr>\n",
       "    <tr>\n",
       "      <th>3173</th>\n",
       "      <td>窃盗</td>\n",
       "      <td>自転車盗</td>\n",
       "      <td>柏</td>\n",
       "      <td>緑ヶ丘交番</td>\n",
       "      <td>122173</td>\n",
       "      <td>千葉県</td>\n",
       "      <td>柏市</td>\n",
       "      <td>関場町</td>\n",
       "      <td>2022-09-04</td>\n",
       "      <td>20</td>\n",
       "      <td>その他の住宅（３階建て以下共同住宅等）</td>\n",
       "      <td>駐車（輪）場</td>\n",
       "      <td>20歳代</td>\n",
       "      <td>その他</td>\n",
       "      <td>施錠した</td>\n",
       "      <td>千葉県柏市関場町</td>\n",
       "      <td>35.850071</td>\n",
       "      <td>139.983734</td>\n",
       "    </tr>\n",
       "    <tr>\n",
       "      <th>2842</th>\n",
       "      <td>窃盗</td>\n",
       "      <td>自転車盗</td>\n",
       "      <td>柏</td>\n",
       "      <td>南増尾交番</td>\n",
       "      <td>122173</td>\n",
       "      <td>千葉県</td>\n",
       "      <td>柏市</td>\n",
       "      <td>逆井２丁目</td>\n",
       "      <td>2022-06-30</td>\n",
       "      <td>17</td>\n",
       "      <td>その他</td>\n",
       "      <td>駐車（輪）場</td>\n",
       "      <td>10歳代</td>\n",
       "      <td>高校生</td>\n",
       "      <td>施錠せず</td>\n",
       "      <td>千葉県柏市逆井２丁目</td>\n",
       "      <td>35.824383</td>\n",
       "      <td>139.979614</td>\n",
       "    </tr>\n",
       "  </tbody>\n",
       "</table>\n",
       "</div>"
      ],
      "text/plain": [
       "      罪名    手口 管轄警察署（発生地） 管轄交番・駐在所（発生地）  市区町村コード（発生地） 都道府県（発生地） 市区町村（発生地）  \\\n",
       "2821  窃盗  自転車盗          柏        北柏駅前交番        122173       千葉県        柏市   \n",
       "2797  窃盗  自転車盗          柏        北柏駅前交番        122173       千葉県        柏市   \n",
       "2832  窃盗  自転車盗          柏         南増尾交番        122173       千葉県        柏市   \n",
       "3173  窃盗  自転車盗          柏         緑ヶ丘交番        122173       千葉県        柏市   \n",
       "2842  窃盗  自転車盗          柏         南増尾交番        122173       千葉県        柏市   \n",
       "\n",
       "     町丁目（発生地）   発生年月日（始期） 発生時（始期）                 発生場所 発生場所の詳細 被害者の年齢 被害者の職業  \\\n",
       "2821       根戸  2022-09-20      20           ４階建て以上共同住宅  駐車（輪）場   40歳代    その他   \n",
       "2797        柏          不明      不明           ４階建て以上共同住宅  駐車（輪）場   40歳代    その他   \n",
       "2832       逆井  2022-04-15      07               駐車（輪）場  駐車（輪）場   10歳代    大学生   \n",
       "3173      関場町  2022-09-04      20  その他の住宅（３階建て以下共同住宅等）  駐車（輪）場   20歳代    その他   \n",
       "2842    逆井２丁目  2022-06-30      17                  その他  駐車（輪）場   10歳代    高校生   \n",
       "\n",
       "      施錠関係          住所        lat         lon  \n",
       "2821  施錠した     千葉県柏市根戸  35.881130  139.986450  \n",
       "2797  施錠した      千葉県柏市柏  35.864445  139.986511  \n",
       "2832  施錠せず     千葉県柏市逆井  35.815441  139.982468  \n",
       "3173  施錠した    千葉県柏市関場町  35.850071  139.983734  \n",
       "2842  施錠せず  千葉県柏市逆井２丁目  35.824383  139.979614  "
      ]
     },
     "execution_count": 53,
     "metadata": {},
     "output_type": "execute_result"
    }
   ],
   "source": [
    "# check your output\n",
    "kashiwa.sample(5)"
   ]
  },
  {
   "cell_type": "markdown",
   "metadata": {
    "slideshow": {
     "slide_type": "slide"
    }
   },
   "source": [
    "## Let's map it!\n",
    "\n",
    "待ってました、いよいよマップタイム！"
   ]
  },
  {
   "cell_type": "code",
   "execution_count": null,
   "metadata": {
    "slideshow": {
     "slide_type": "fragment"
    }
   },
   "outputs": [],
   "source": [
    "# 全データの中央座標\n",
    "center_lat = kashiwa.lat.mean()\n",
    "center_lon = kashiwa.lon.mean() "
   ]
  },
  {
   "cell_type": "code",
   "execution_count": null,
   "metadata": {
    "slideshow": {
     "slide_type": "slide"
    }
   },
   "outputs": [
    {
     "data": {
      "text/html": [
       "<div style=\"width:100%;\"><div style=\"position:relative;width:100%;height:0;padding-bottom:60%;\"><span style=\"color:#565656\">Make this Notebook Trusted to load map: File -> Trust Notebook</span><iframe srcdoc=\"&lt;!DOCTYPE html&gt;\n",
       "&lt;html&gt;\n",
       "&lt;head&gt;\n",
       "    \n",
       "    &lt;meta http-equiv=&quot;content-type&quot; content=&quot;text/html; charset=UTF-8&quot; /&gt;\n",
       "    \n",
       "        &lt;script&gt;\n",
       "            L_NO_TOUCH = false;\n",
       "            L_DISABLE_3D = false;\n",
       "        &lt;/script&gt;\n",
       "    \n",
       "    &lt;style&gt;html, body {width: 100%;height: 100%;margin: 0;padding: 0;}&lt;/style&gt;\n",
       "    &lt;style&gt;#map {position:absolute;top:0;bottom:0;right:0;left:0;}&lt;/style&gt;\n",
       "    &lt;script src=&quot;https://cdn.jsdelivr.net/npm/leaflet@1.9.3/dist/leaflet.js&quot;&gt;&lt;/script&gt;\n",
       "    &lt;script src=&quot;https://code.jquery.com/jquery-3.7.1.min.js&quot;&gt;&lt;/script&gt;\n",
       "    &lt;script src=&quot;https://cdn.jsdelivr.net/npm/bootstrap@5.2.2/dist/js/bootstrap.bundle.min.js&quot;&gt;&lt;/script&gt;\n",
       "    &lt;script src=&quot;https://cdnjs.cloudflare.com/ajax/libs/Leaflet.awesome-markers/2.0.2/leaflet.awesome-markers.js&quot;&gt;&lt;/script&gt;\n",
       "    &lt;link rel=&quot;stylesheet&quot; href=&quot;https://cdn.jsdelivr.net/npm/leaflet@1.9.3/dist/leaflet.css&quot;/&gt;\n",
       "    &lt;link rel=&quot;stylesheet&quot; href=&quot;https://cdn.jsdelivr.net/npm/bootstrap@5.2.2/dist/css/bootstrap.min.css&quot;/&gt;\n",
       "    &lt;link rel=&quot;stylesheet&quot; href=&quot;https://netdna.bootstrapcdn.com/bootstrap/3.0.0/css/bootstrap.min.css&quot;/&gt;\n",
       "    &lt;link rel=&quot;stylesheet&quot; href=&quot;https://cdn.jsdelivr.net/npm/@fortawesome/fontawesome-free@6.2.0/css/all.min.css&quot;/&gt;\n",
       "    &lt;link rel=&quot;stylesheet&quot; href=&quot;https://cdnjs.cloudflare.com/ajax/libs/Leaflet.awesome-markers/2.0.2/leaflet.awesome-markers.css&quot;/&gt;\n",
       "    &lt;link rel=&quot;stylesheet&quot; href=&quot;https://cdn.jsdelivr.net/gh/python-visualization/folium/folium/templates/leaflet.awesome.rotate.min.css&quot;/&gt;\n",
       "    \n",
       "            &lt;meta name=&quot;viewport&quot; content=&quot;width=device-width,\n",
       "                initial-scale=1.0, maximum-scale=1.0, user-scalable=no&quot; /&gt;\n",
       "            &lt;style&gt;\n",
       "                #map_398cab0c74bdf28dd36edf38a69aae7a {\n",
       "                    position: relative;\n",
       "                    width: 100.0%;\n",
       "                    height: 100.0%;\n",
       "                    left: 0.0%;\n",
       "                    top: 0.0%;\n",
       "                }\n",
       "                .leaflet-container { font-size: 1rem; }\n",
       "            &lt;/style&gt;\n",
       "        \n",
       "    &lt;script src=&quot;https://cdnjs.cloudflare.com/ajax/libs/leaflet.markercluster/1.1.0/leaflet.markercluster.js&quot;&gt;&lt;/script&gt;\n",
       "    &lt;link rel=&quot;stylesheet&quot; href=&quot;https://cdnjs.cloudflare.com/ajax/libs/leaflet.markercluster/1.1.0/MarkerCluster.css&quot;/&gt;\n",
       "    &lt;link rel=&quot;stylesheet&quot; href=&quot;https://cdnjs.cloudflare.com/ajax/libs/leaflet.markercluster/1.1.0/MarkerCluster.Default.css&quot;/&gt;\n",
       "&lt;/head&gt;\n",
       "&lt;body&gt;\n",
       "    \n",
       "    \n",
       "            &lt;div class=&quot;folium-map&quot; id=&quot;map_398cab0c74bdf28dd36edf38a69aae7a&quot; &gt;&lt;/div&gt;\n",
       "        \n",
       "&lt;/body&gt;\n",
       "&lt;script&gt;\n",
       "    \n",
       "    \n",
       "            var map_398cab0c74bdf28dd36edf38a69aae7a = L.map(\n",
       "                &quot;map_398cab0c74bdf28dd36edf38a69aae7a&quot;,\n",
       "                {\n",
       "                    center: [35.8561031762208, 139.9728003906582],\n",
       "                    crs: L.CRS.EPSG3857,\n",
       "                    zoom: 12,\n",
       "                    zoomControl: true,\n",
       "                    preferCanvas: false,\n",
       "                }\n",
       "            );\n",
       "\n",
       "            \n",
       "\n",
       "        \n",
       "    \n",
       "            var tile_layer_dcd7e71760b0f0897d367de3f1138510 = L.tileLayer(\n",
       "                &quot;https://{s}.tile.openstreetmap.org/{z}/{x}/{y}.png&quot;,\n",
       "                {&quot;attribution&quot;: &quot;Data by \\u0026copy; \\u003ca target=\\&quot;_blank\\&quot; href=\\&quot;http://openstreetmap.org\\&quot;\\u003eOpenStreetMap\\u003c/a\\u003e, under \\u003ca target=\\&quot;_blank\\&quot; href=\\&quot;http://www.openstreetmap.org/copyright\\&quot;\\u003eODbL\\u003c/a\\u003e.&quot;, &quot;detectRetina&quot;: false, &quot;maxNativeZoom&quot;: 18, &quot;maxZoom&quot;: 18, &quot;minZoom&quot;: 0, &quot;noWrap&quot;: false, &quot;opacity&quot;: 1, &quot;subdomains&quot;: &quot;abc&quot;, &quot;tms&quot;: false}\n",
       "            );\n",
       "        \n",
       "    \n",
       "                tile_layer_dcd7e71760b0f0897d367de3f1138510.addTo(map_398cab0c74bdf28dd36edf38a69aae7a);\n",
       "    \n",
       "            var marker_cluster_4c2e71695cd18dfca13b325ffac6471d = L.markerClusterGroup(\n",
       "                {}\n",
       "            );\n",
       "        \n",
       "    \n",
       "            var marker_259164993452726989128705912939c4 = L.marker(\n",
       "                [35.841019, 139.956406],\n",
       "                {}\n",
       "            ).addTo(marker_cluster_4c2e71695cd18dfca13b325ffac6471d);\n",
       "        \n",
       "    \n",
       "            marker_259164993452726989128705912939c4.bindTooltip(\n",
       "                `&lt;div&gt;\n",
       "                     30歳代\n",
       "                 &lt;/div&gt;`,\n",
       "                {&quot;sticky&quot;: true}\n",
       "            );\n",
       "        \n",
       "    \n",
       "            var marker_2305d1f69f8460e0f9d48f3ca8a88d81 = L.marker(\n",
       "                [35.841019, 139.956406],\n",
       "                {}\n",
       "            ).addTo(marker_cluster_4c2e71695cd18dfca13b325ffac6471d);\n",
       "        \n",
       "    \n",
       "            marker_2305d1f69f8460e0f9d48f3ca8a88d81.bindTooltip(\n",
       "                `&lt;div&gt;\n",
       "                     60-64歳\n",
       "                 &lt;/div&gt;`,\n",
       "                {&quot;sticky&quot;: true}\n",
       "            );\n",
       "        \n",
       "    \n",
       "            var marker_30239814f47de571f86694202b4afbad = L.marker(\n",
       "                [35.841019, 139.956406],\n",
       "                {}\n",
       "            ).addTo(marker_cluster_4c2e71695cd18dfca13b325ffac6471d);\n",
       "        \n",
       "    \n",
       "            marker_30239814f47de571f86694202b4afbad.bindTooltip(\n",
       "                `&lt;div&gt;\n",
       "                     20歳代\n",
       "                 &lt;/div&gt;`,\n",
       "                {&quot;sticky&quot;: true}\n",
       "            );\n",
       "        \n",
       "    \n",
       "            var marker_01efc4d05680e4d875047213fd7d86fa = L.marker(\n",
       "                [35.841019, 139.956406],\n",
       "                {}\n",
       "            ).addTo(marker_cluster_4c2e71695cd18dfca13b325ffac6471d);\n",
       "        \n",
       "    \n",
       "            marker_01efc4d05680e4d875047213fd7d86fa.bindTooltip(\n",
       "                `&lt;div&gt;\n",
       "                     10歳代\n",
       "                 &lt;/div&gt;`,\n",
       "                {&quot;sticky&quot;: true}\n",
       "            );\n",
       "        \n",
       "    \n",
       "            var marker_41c7502ac4af8e16dcde2b4a2499c685 = L.marker(\n",
       "                [35.841019, 139.956406],\n",
       "                {}\n",
       "            ).addTo(marker_cluster_4c2e71695cd18dfca13b325ffac6471d);\n",
       "        \n",
       "    \n",
       "            marker_41c7502ac4af8e16dcde2b4a2499c685.bindTooltip(\n",
       "                `&lt;div&gt;\n",
       "                     10歳未満\n",
       "                 &lt;/div&gt;`,\n",
       "                {&quot;sticky&quot;: true}\n",
       "            );\n",
       "        \n",
       "    \n",
       "            var marker_a28d6f7db13d82535acd757cace9d720 = L.marker(\n",
       "                [35.81815, 139.957825],\n",
       "                {}\n",
       "            ).addTo(marker_cluster_4c2e71695cd18dfca13b325ffac6471d);\n",
       "        \n",
       "    \n",
       "            marker_a28d6f7db13d82535acd757cace9d720.bindTooltip(\n",
       "                `&lt;div&gt;\n",
       "                     40歳代\n",
       "                 &lt;/div&gt;`,\n",
       "                {&quot;sticky&quot;: true}\n",
       "            );\n",
       "        \n",
       "    \n",
       "            var marker_62042382cc3e3a38d9f1024fcd3b1801 = L.marker(\n",
       "                [35.818859, 139.965973],\n",
       "                {}\n",
       "            ).addTo(marker_cluster_4c2e71695cd18dfca13b325ffac6471d);\n",
       "        \n",
       "    \n",
       "            marker_62042382cc3e3a38d9f1024fcd3b1801.bindTooltip(\n",
       "                `&lt;div&gt;\n",
       "                     10歳代\n",
       "                 &lt;/div&gt;`,\n",
       "                {&quot;sticky&quot;: true}\n",
       "            );\n",
       "        \n",
       "    \n",
       "            var marker_3307fb9d597a7f6c88aee5a6fd23a0d5 = L.marker(\n",
       "                [35.820488, 139.960007],\n",
       "                {}\n",
       "            ).addTo(marker_cluster_4c2e71695cd18dfca13b325ffac6471d);\n",
       "        \n",
       "    \n",
       "            marker_3307fb9d597a7f6c88aee5a6fd23a0d5.bindTooltip(\n",
       "                `&lt;div&gt;\n",
       "                     70歳以上\n",
       "                 &lt;/div&gt;`,\n",
       "                {&quot;sticky&quot;: true}\n",
       "            );\n",
       "        \n",
       "    \n",
       "            var marker_f2f5f276702216044314eb78c7090eea = L.marker(\n",
       "                [35.824585, 139.961349],\n",
       "                {}\n",
       "            ).addTo(marker_cluster_4c2e71695cd18dfca13b325ffac6471d);\n",
       "        \n",
       "    \n",
       "            marker_f2f5f276702216044314eb78c7090eea.bindTooltip(\n",
       "                `&lt;div&gt;\n",
       "                     30歳代\n",
       "                 &lt;/div&gt;`,\n",
       "                {&quot;sticky&quot;: true}\n",
       "            );\n",
       "        \n",
       "    \n",
       "            var marker_fd57dcac7a09bfafbe2e9b0de1b46e38 = L.marker(\n",
       "                [35.824585, 139.961349],\n",
       "                {}\n",
       "            ).addTo(marker_cluster_4c2e71695cd18dfca13b325ffac6471d);\n",
       "        \n",
       "    \n",
       "            marker_fd57dcac7a09bfafbe2e9b0de1b46e38.bindTooltip(\n",
       "                `&lt;div&gt;\n",
       "                     10歳未満\n",
       "                 &lt;/div&gt;`,\n",
       "                {&quot;sticky&quot;: true}\n",
       "            );\n",
       "        \n",
       "    \n",
       "            var marker_93bc583b64f67c4ae12988215e6b212b = L.marker(\n",
       "                [35.815441, 139.982468],\n",
       "                {}\n",
       "            ).addTo(marker_cluster_4c2e71695cd18dfca13b325ffac6471d);\n",
       "        \n",
       "    \n",
       "            marker_93bc583b64f67c4ae12988215e6b212b.bindTooltip(\n",
       "                `&lt;div&gt;\n",
       "                     10歳代\n",
       "                 &lt;/div&gt;`,\n",
       "                {&quot;sticky&quot;: true}\n",
       "            );\n",
       "        \n",
       "    \n",
       "            var marker_91583f363882785574e6ea4c83575e8d = L.marker(\n",
       "                [35.83292, 139.946884],\n",
       "                {}\n",
       "            ).addTo(marker_cluster_4c2e71695cd18dfca13b325ffac6471d);\n",
       "        \n",
       "    \n",
       "            marker_91583f363882785574e6ea4c83575e8d.bindTooltip(\n",
       "                `&lt;div&gt;\n",
       "                     10歳代\n",
       "                 &lt;/div&gt;`,\n",
       "                {&quot;sticky&quot;: true}\n",
       "            );\n",
       "        \n",
       "    \n",
       "            var marker_51898291950511a925d1eb91ace80b15 = L.marker(\n",
       "                [35.82056, 139.95401],\n",
       "                {}\n",
       "            ).addTo(marker_cluster_4c2e71695cd18dfca13b325ffac6471d);\n",
       "        \n",
       "    \n",
       "            marker_51898291950511a925d1eb91ace80b15.bindTooltip(\n",
       "                `&lt;div&gt;\n",
       "                     10歳代\n",
       "                 &lt;/div&gt;`,\n",
       "                {&quot;sticky&quot;: true}\n",
       "            );\n",
       "        \n",
       "    \n",
       "            var marker_a524a6987bc938dedd7062002f2551ad = L.marker(\n",
       "                [35.833195, 139.957794],\n",
       "                {}\n",
       "            ).addTo(marker_cluster_4c2e71695cd18dfca13b325ffac6471d);\n",
       "        \n",
       "    \n",
       "            marker_a524a6987bc938dedd7062002f2551ad.bindTooltip(\n",
       "                `&lt;div&gt;\n",
       "                     30歳代\n",
       "                 &lt;/div&gt;`,\n",
       "                {&quot;sticky&quot;: true}\n",
       "            );\n",
       "        \n",
       "    \n",
       "            var marker_bcb94004cb4bd7f941fb0283ebee720a = L.marker(\n",
       "                [35.833195, 139.957794],\n",
       "                {}\n",
       "            ).addTo(marker_cluster_4c2e71695cd18dfca13b325ffac6471d);\n",
       "        \n",
       "    \n",
       "            marker_bcb94004cb4bd7f941fb0283ebee720a.bindTooltip(\n",
       "                `&lt;div&gt;\n",
       "                     30歳代\n",
       "                 &lt;/div&gt;`,\n",
       "                {&quot;sticky&quot;: true}\n",
       "            );\n",
       "        \n",
       "    \n",
       "            var marker_5f0db59615387d044823d41bca3d8a2c = L.marker(\n",
       "                [35.829479, 139.957809],\n",
       "                {}\n",
       "            ).addTo(marker_cluster_4c2e71695cd18dfca13b325ffac6471d);\n",
       "        \n",
       "    \n",
       "            marker_5f0db59615387d044823d41bca3d8a2c.bindTooltip(\n",
       "                `&lt;div&gt;\n",
       "                     10歳代\n",
       "                 &lt;/div&gt;`,\n",
       "                {&quot;sticky&quot;: true}\n",
       "            );\n",
       "        \n",
       "    \n",
       "            var marker_c2ea60a67905005007b0e292cde19242 = L.marker(\n",
       "                [35.833984, 139.960556],\n",
       "                {}\n",
       "            ).addTo(marker_cluster_4c2e71695cd18dfca13b325ffac6471d);\n",
       "        \n",
       "    \n",
       "            marker_c2ea60a67905005007b0e292cde19242.bindTooltip(\n",
       "                `&lt;div&gt;\n",
       "                     10歳代\n",
       "                 &lt;/div&gt;`,\n",
       "                {&quot;sticky&quot;: true}\n",
       "            );\n",
       "        \n",
       "    \n",
       "            var marker_2ca183947fe39b640fdfcba48501c985 = L.marker(\n",
       "                [35.833984, 139.960556],\n",
       "                {}\n",
       "            ).addTo(marker_cluster_4c2e71695cd18dfca13b325ffac6471d);\n",
       "        \n",
       "    \n",
       "            marker_2ca183947fe39b640fdfcba48501c985.bindTooltip(\n",
       "                `&lt;div&gt;\n",
       "                     10歳未満\n",
       "                 &lt;/div&gt;`,\n",
       "                {&quot;sticky&quot;: true}\n",
       "            );\n",
       "        \n",
       "    \n",
       "            var marker_1f9bd45a68aaeba0508bea035407c099 = L.marker(\n",
       "                [35.833984, 139.960556],\n",
       "                {}\n",
       "            ).addTo(marker_cluster_4c2e71695cd18dfca13b325ffac6471d);\n",
       "        \n",
       "    \n",
       "            marker_1f9bd45a68aaeba0508bea035407c099.bindTooltip(\n",
       "                `&lt;div&gt;\n",
       "                     10歳代\n",
       "                 &lt;/div&gt;`,\n",
       "                {&quot;sticky&quot;: true}\n",
       "            );\n",
       "        \n",
       "    \n",
       "            var marker_bd4f529d735383d059c24b91b6219369 = L.marker(\n",
       "                [35.864445, 139.986511],\n",
       "                {}\n",
       "            ).addTo(marker_cluster_4c2e71695cd18dfca13b325ffac6471d);\n",
       "        \n",
       "    \n",
       "            marker_bd4f529d735383d059c24b91b6219369.bindTooltip(\n",
       "                `&lt;div&gt;\n",
       "                     50歳代\n",
       "                 &lt;/div&gt;`,\n",
       "                {&quot;sticky&quot;: true}\n",
       "            );\n",
       "        \n",
       "    \n",
       "            var marker_f93698e2126f040bf0f2c7d77c657378 = L.marker(\n",
       "                [35.864445, 139.986511],\n",
       "                {}\n",
       "            ).addTo(marker_cluster_4c2e71695cd18dfca13b325ffac6471d);\n",
       "        \n",
       "    \n",
       "            marker_f93698e2126f040bf0f2c7d77c657378.bindTooltip(\n",
       "                `&lt;div&gt;\n",
       "                     30歳代\n",
       "                 &lt;/div&gt;`,\n",
       "                {&quot;sticky&quot;: true}\n",
       "            );\n",
       "        \n",
       "    \n",
       "            var marker_8b8c9287e5b52032d9b69c9b9e29ca36 = L.marker(\n",
       "                [35.864445, 139.986511],\n",
       "                {}\n",
       "            ).addTo(marker_cluster_4c2e71695cd18dfca13b325ffac6471d);\n",
       "        \n",
       "    \n",
       "            marker_8b8c9287e5b52032d9b69c9b9e29ca36.bindTooltip(\n",
       "                `&lt;div&gt;\n",
       "                     40歳代\n",
       "                 &lt;/div&gt;`,\n",
       "                {&quot;sticky&quot;: true}\n",
       "            );\n",
       "        \n",
       "    \n",
       "            var marker_fca0f9409dfc10d4e12790a37d5ef24e = L.marker(\n",
       "                [35.870007, 139.983795],\n",
       "                {}\n",
       "            ).addTo(marker_cluster_4c2e71695cd18dfca13b325ffac6471d);\n",
       "        \n",
       "    \n",
       "            marker_fca0f9409dfc10d4e12790a37d5ef24e.bindTooltip(\n",
       "                `&lt;div&gt;\n",
       "                     65-69歳\n",
       "                 &lt;/div&gt;`,\n",
       "                {&quot;sticky&quot;: true}\n",
       "            );\n",
       "        \n",
       "    \n",
       "            var marker_76e8b91ccdf63e243ccb7e3526b98708 = L.marker(\n",
       "                [35.875332, 139.983582],\n",
       "                {}\n",
       "            ).addTo(marker_cluster_4c2e71695cd18dfca13b325ffac6471d);\n",
       "        \n",
       "    \n",
       "            marker_76e8b91ccdf63e243ccb7e3526b98708.bindTooltip(\n",
       "                `&lt;div&gt;\n",
       "                     20歳代\n",
       "                 &lt;/div&gt;`,\n",
       "                {&quot;sticky&quot;: true}\n",
       "            );\n",
       "        \n",
       "    \n",
       "            var marker_8d34ecf2fb923f7af4fddb05eed62bc1 = L.marker(\n",
       "                [35.872643, 139.989914],\n",
       "                {}\n",
       "            ).addTo(marker_cluster_4c2e71695cd18dfca13b325ffac6471d);\n",
       "        \n",
       "    \n",
       "            marker_8d34ecf2fb923f7af4fddb05eed62bc1.bindTooltip(\n",
       "                `&lt;div&gt;\n",
       "                     60-64歳\n",
       "                 &lt;/div&gt;`,\n",
       "                {&quot;sticky&quot;: true}\n",
       "            );\n",
       "        \n",
       "    \n",
       "            var marker_8557a285506577e5f7015f7555e81b80 = L.marker(\n",
       "                [35.872643, 139.989914],\n",
       "                {}\n",
       "            ).addTo(marker_cluster_4c2e71695cd18dfca13b325ffac6471d);\n",
       "        \n",
       "    \n",
       "            marker_8557a285506577e5f7015f7555e81b80.bindTooltip(\n",
       "                `&lt;div&gt;\n",
       "                     20歳代\n",
       "                 &lt;/div&gt;`,\n",
       "                {&quot;sticky&quot;: true}\n",
       "            );\n",
       "        \n",
       "    \n",
       "            var marker_f25b98eb0d18681afb7cd0cf28b5bc44 = L.marker(\n",
       "                [35.872643, 139.989914],\n",
       "                {}\n",
       "            ).addTo(marker_cluster_4c2e71695cd18dfca13b325ffac6471d);\n",
       "        \n",
       "    \n",
       "            marker_f25b98eb0d18681afb7cd0cf28b5bc44.bindTooltip(\n",
       "                `&lt;div&gt;\n",
       "                     30歳代\n",
       "                 &lt;/div&gt;`,\n",
       "                {&quot;sticky&quot;: true}\n",
       "            );\n",
       "        \n",
       "    \n",
       "            var marker_9aa309d556f5c4809be7a5b9def20313 = L.marker(\n",
       "                [35.872192, 139.987793],\n",
       "                {}\n",
       "            ).addTo(marker_cluster_4c2e71695cd18dfca13b325ffac6471d);\n",
       "        \n",
       "    \n",
       "            marker_9aa309d556f5c4809be7a5b9def20313.bindTooltip(\n",
       "                `&lt;div&gt;\n",
       "                     10歳代\n",
       "                 &lt;/div&gt;`,\n",
       "                {&quot;sticky&quot;: true}\n",
       "            );\n",
       "        \n",
       "    \n",
       "            var marker_ab45d59223df08fd627d2b26ae5fd2be = L.marker(\n",
       "                [35.872192, 139.987793],\n",
       "                {}\n",
       "            ).addTo(marker_cluster_4c2e71695cd18dfca13b325ffac6471d);\n",
       "        \n",
       "    \n",
       "            marker_ab45d59223df08fd627d2b26ae5fd2be.bindTooltip(\n",
       "                `&lt;div&gt;\n",
       "                     40歳代\n",
       "                 &lt;/div&gt;`,\n",
       "                {&quot;sticky&quot;: true}\n",
       "            );\n",
       "        \n",
       "    \n",
       "            var marker_d02dbe0fb69296c18adb225ca2f07ee7 = L.marker(\n",
       "                [35.870586, 139.986893],\n",
       "                {}\n",
       "            ).addTo(marker_cluster_4c2e71695cd18dfca13b325ffac6471d);\n",
       "        \n",
       "    \n",
       "            marker_d02dbe0fb69296c18adb225ca2f07ee7.bindTooltip(\n",
       "                `&lt;div&gt;\n",
       "                     20歳代\n",
       "                 &lt;/div&gt;`,\n",
       "                {&quot;sticky&quot;: true}\n",
       "            );\n",
       "        \n",
       "    \n",
       "            var marker_169480938380ec6f5d35b2435bd78982 = L.marker(\n",
       "                [35.870586, 139.986893],\n",
       "                {}\n",
       "            ).addTo(marker_cluster_4c2e71695cd18dfca13b325ffac6471d);\n",
       "        \n",
       "    \n",
       "            marker_169480938380ec6f5d35b2435bd78982.bindTooltip(\n",
       "                `&lt;div&gt;\n",
       "                     20歳代\n",
       "                 &lt;/div&gt;`,\n",
       "                {&quot;sticky&quot;: true}\n",
       "            );\n",
       "        \n",
       "    \n",
       "            var marker_3632819139ed775ac21443ac6d1add22 = L.marker(\n",
       "                [35.868679, 139.990295],\n",
       "                {}\n",
       "            ).addTo(marker_cluster_4c2e71695cd18dfca13b325ffac6471d);\n",
       "        \n",
       "    \n",
       "            marker_3632819139ed775ac21443ac6d1add22.bindTooltip(\n",
       "                `&lt;div&gt;\n",
       "                     30歳代\n",
       "                 &lt;/div&gt;`,\n",
       "                {&quot;sticky&quot;: true}\n",
       "            );\n",
       "        \n",
       "    \n",
       "            var marker_1f70c44fc24431d41ebf611700085a2b = L.marker(\n",
       "                [35.887501, 139.985229],\n",
       "                {}\n",
       "            ).addTo(marker_cluster_4c2e71695cd18dfca13b325ffac6471d);\n",
       "        \n",
       "    \n",
       "            marker_1f70c44fc24431d41ebf611700085a2b.bindTooltip(\n",
       "                `&lt;div&gt;\n",
       "                     10歳未満\n",
       "                 &lt;/div&gt;`,\n",
       "                {&quot;sticky&quot;: true}\n",
       "            );\n",
       "        \n",
       "    \n",
       "            var marker_ed1e054a005734a4aad0b73e30c0fdde = L.marker(\n",
       "                [35.887501, 139.985229],\n",
       "                {}\n",
       "            ).addTo(marker_cluster_4c2e71695cd18dfca13b325ffac6471d);\n",
       "        \n",
       "    \n",
       "            marker_ed1e054a005734a4aad0b73e30c0fdde.bindTooltip(\n",
       "                `&lt;div&gt;\n",
       "                     10歳代\n",
       "                 &lt;/div&gt;`,\n",
       "                {&quot;sticky&quot;: true}\n",
       "            );\n",
       "        \n",
       "    \n",
       "            var marker_3f4d6bfe616fb641a5cf6bd3107809db = L.marker(\n",
       "                [35.88113, 139.98645],\n",
       "                {}\n",
       "            ).addTo(marker_cluster_4c2e71695cd18dfca13b325ffac6471d);\n",
       "        \n",
       "    \n",
       "            marker_3f4d6bfe616fb641a5cf6bd3107809db.bindTooltip(\n",
       "                `&lt;div&gt;\n",
       "                     20歳代\n",
       "                 &lt;/div&gt;`,\n",
       "                {&quot;sticky&quot;: true}\n",
       "            );\n",
       "        \n",
       "    \n",
       "            var marker_429ffc3a35ace6f81b0654fe9550e24e = L.marker(\n",
       "                [35.88113, 139.98645],\n",
       "                {}\n",
       "            ).addTo(marker_cluster_4c2e71695cd18dfca13b325ffac6471d);\n",
       "        \n",
       "    \n",
       "            marker_429ffc3a35ace6f81b0654fe9550e24e.bindTooltip(\n",
       "                `&lt;div&gt;\n",
       "                     50歳代\n",
       "                 &lt;/div&gt;`,\n",
       "                {&quot;sticky&quot;: true}\n",
       "            );\n",
       "        \n",
       "    \n",
       "            var marker_c3b6642080d2c92797946b35c6a38e6c = L.marker(\n",
       "                [35.88113, 139.98645],\n",
       "                {}\n",
       "            ).addTo(marker_cluster_4c2e71695cd18dfca13b325ffac6471d);\n",
       "        \n",
       "    \n",
       "            marker_c3b6642080d2c92797946b35c6a38e6c.bindTooltip(\n",
       "                `&lt;div&gt;\n",
       "                     40歳代\n",
       "                 &lt;/div&gt;`,\n",
       "                {&quot;sticky&quot;: true}\n",
       "            );\n",
       "        \n",
       "    \n",
       "            var marker_620d7549f50373636bfacadebf518c5d = L.marker(\n",
       "                [35.88113, 139.98645],\n",
       "                {}\n",
       "            ).addTo(marker_cluster_4c2e71695cd18dfca13b325ffac6471d);\n",
       "        \n",
       "    \n",
       "            marker_620d7549f50373636bfacadebf518c5d.bindTooltip(\n",
       "                `&lt;div&gt;\n",
       "                     40歳代\n",
       "                 &lt;/div&gt;`,\n",
       "                {&quot;sticky&quot;: true}\n",
       "            );\n",
       "        \n",
       "    \n",
       "            var marker_8c598d4052a53dd8291fbd2e694c6e61 = L.marker(\n",
       "                [35.88113, 139.98645],\n",
       "                {}\n",
       "            ).addTo(marker_cluster_4c2e71695cd18dfca13b325ffac6471d);\n",
       "        \n",
       "    \n",
       "            marker_8c598d4052a53dd8291fbd2e694c6e61.bindTooltip(\n",
       "                `&lt;div&gt;\n",
       "                     60-64歳\n",
       "                 &lt;/div&gt;`,\n",
       "                {&quot;sticky&quot;: true}\n",
       "            );\n",
       "        \n",
       "    \n",
       "            var marker_c7e6f37754dc1dda7563322319fb1f4c = L.marker(\n",
       "                [35.88113, 139.98645],\n",
       "                {}\n",
       "            ).addTo(marker_cluster_4c2e71695cd18dfca13b325ffac6471d);\n",
       "        \n",
       "    \n",
       "            marker_c7e6f37754dc1dda7563322319fb1f4c.bindTooltip(\n",
       "                `&lt;div&gt;\n",
       "                     10歳代\n",
       "                 &lt;/div&gt;`,\n",
       "                {&quot;sticky&quot;: true}\n",
       "            );\n",
       "        \n",
       "    \n",
       "            var marker_7f242dc727bb614cee756f65cd9252bb = L.marker(\n",
       "                [35.88113, 139.98645],\n",
       "                {}\n",
       "            ).addTo(marker_cluster_4c2e71695cd18dfca13b325ffac6471d);\n",
       "        \n",
       "    \n",
       "            marker_7f242dc727bb614cee756f65cd9252bb.bindTooltip(\n",
       "                `&lt;div&gt;\n",
       "                     10歳代\n",
       "                 &lt;/div&gt;`,\n",
       "                {&quot;sticky&quot;: true}\n",
       "            );\n",
       "        \n",
       "    \n",
       "            var marker_ec62d3fb5c87a03152aaa1937df2cf06 = L.marker(\n",
       "                [35.88113, 139.98645],\n",
       "                {}\n",
       "            ).addTo(marker_cluster_4c2e71695cd18dfca13b325ffac6471d);\n",
       "        \n",
       "    \n",
       "            marker_ec62d3fb5c87a03152aaa1937df2cf06.bindTooltip(\n",
       "                `&lt;div&gt;\n",
       "                     10歳代\n",
       "                 &lt;/div&gt;`,\n",
       "                {&quot;sticky&quot;: true}\n",
       "            );\n",
       "        \n",
       "    \n",
       "            var marker_6f9c950722136908cbddd0ee4b5bfc1b = L.marker(\n",
       "                [35.88113, 139.98645],\n",
       "                {}\n",
       "            ).addTo(marker_cluster_4c2e71695cd18dfca13b325ffac6471d);\n",
       "        \n",
       "    \n",
       "            marker_6f9c950722136908cbddd0ee4b5bfc1b.bindTooltip(\n",
       "                `&lt;div&gt;\n",
       "                     40歳代\n",
       "                 &lt;/div&gt;`,\n",
       "                {&quot;sticky&quot;: true}\n",
       "            );\n",
       "        \n",
       "    \n",
       "            var marker_2784da28b9ce29433c2e45e36fb642f9 = L.marker(\n",
       "                [35.88113, 139.98645],\n",
       "                {}\n",
       "            ).addTo(marker_cluster_4c2e71695cd18dfca13b325ffac6471d);\n",
       "        \n",
       "    \n",
       "            marker_2784da28b9ce29433c2e45e36fb642f9.bindTooltip(\n",
       "                `&lt;div&gt;\n",
       "                     20歳代\n",
       "                 &lt;/div&gt;`,\n",
       "                {&quot;sticky&quot;: true}\n",
       "            );\n",
       "        \n",
       "    \n",
       "            var marker_50fae7030dc6651f36bb7ecfe82002ef = L.marker(\n",
       "                [35.88113, 139.98645],\n",
       "                {}\n",
       "            ).addTo(marker_cluster_4c2e71695cd18dfca13b325ffac6471d);\n",
       "        \n",
       "    \n",
       "            marker_50fae7030dc6651f36bb7ecfe82002ef.bindTooltip(\n",
       "                `&lt;div&gt;\n",
       "                     10歳未満\n",
       "                 &lt;/div&gt;`,\n",
       "                {&quot;sticky&quot;: true}\n",
       "            );\n",
       "        \n",
       "    \n",
       "            var marker_1e4acd614fa8ad00de450dfea53b6faf = L.marker(\n",
       "                [35.88113, 139.98645],\n",
       "                {}\n",
       "            ).addTo(marker_cluster_4c2e71695cd18dfca13b325ffac6471d);\n",
       "        \n",
       "    \n",
       "            marker_1e4acd614fa8ad00de450dfea53b6faf.bindTooltip(\n",
       "                `&lt;div&gt;\n",
       "                     40歳代\n",
       "                 &lt;/div&gt;`,\n",
       "                {&quot;sticky&quot;: true}\n",
       "            );\n",
       "        \n",
       "    \n",
       "            var marker_07e3949c0ab7b84aee76a9074165b1b8 = L.marker(\n",
       "                [35.88113, 139.98645],\n",
       "                {}\n",
       "            ).addTo(marker_cluster_4c2e71695cd18dfca13b325ffac6471d);\n",
       "        \n",
       "    \n",
       "            marker_07e3949c0ab7b84aee76a9074165b1b8.bindTooltip(\n",
       "                `&lt;div&gt;\n",
       "                     10歳代\n",
       "                 &lt;/div&gt;`,\n",
       "                {&quot;sticky&quot;: true}\n",
       "            );\n",
       "        \n",
       "    \n",
       "            var marker_0067cf88a00b3a0e82d5c5824a554293 = L.marker(\n",
       "                [35.88113, 139.98645],\n",
       "                {}\n",
       "            ).addTo(marker_cluster_4c2e71695cd18dfca13b325ffac6471d);\n",
       "        \n",
       "    \n",
       "            marker_0067cf88a00b3a0e82d5c5824a554293.bindTooltip(\n",
       "                `&lt;div&gt;\n",
       "                     20歳代\n",
       "                 &lt;/div&gt;`,\n",
       "                {&quot;sticky&quot;: true}\n",
       "            );\n",
       "        \n",
       "    \n",
       "            var marker_ab4c1953fcb599b5a0fa04580b0d0039 = L.marker(\n",
       "                [35.88113, 139.98645],\n",
       "                {}\n",
       "            ).addTo(marker_cluster_4c2e71695cd18dfca13b325ffac6471d);\n",
       "        \n",
       "    \n",
       "            marker_ab4c1953fcb599b5a0fa04580b0d0039.bindTooltip(\n",
       "                `&lt;div&gt;\n",
       "                     10歳代\n",
       "                 &lt;/div&gt;`,\n",
       "                {&quot;sticky&quot;: true}\n",
       "            );\n",
       "        \n",
       "    \n",
       "            var marker_0e66754dbe4f77aeeb06cb851ee7b795 = L.marker(\n",
       "                [35.88113, 139.98645],\n",
       "                {}\n",
       "            ).addTo(marker_cluster_4c2e71695cd18dfca13b325ffac6471d);\n",
       "        \n",
       "    \n",
       "            marker_0e66754dbe4f77aeeb06cb851ee7b795.bindTooltip(\n",
       "                `&lt;div&gt;\n",
       "                     20歳代\n",
       "                 &lt;/div&gt;`,\n",
       "                {&quot;sticky&quot;: true}\n",
       "            );\n",
       "        \n",
       "    \n",
       "            var marker_b2dce616969760118f9c0adcd373e5ca = L.marker(\n",
       "                [35.88113, 139.98645],\n",
       "                {}\n",
       "            ).addTo(marker_cluster_4c2e71695cd18dfca13b325ffac6471d);\n",
       "        \n",
       "    \n",
       "            marker_b2dce616969760118f9c0adcd373e5ca.bindTooltip(\n",
       "                `&lt;div&gt;\n",
       "                     20歳代\n",
       "                 &lt;/div&gt;`,\n",
       "                {&quot;sticky&quot;: true}\n",
       "            );\n",
       "        \n",
       "    \n",
       "            var marker_ee251b0c51ff77d2c4510690262d0873 = L.marker(\n",
       "                [35.88113, 139.98645],\n",
       "                {}\n",
       "            ).addTo(marker_cluster_4c2e71695cd18dfca13b325ffac6471d);\n",
       "        \n",
       "    \n",
       "            marker_ee251b0c51ff77d2c4510690262d0873.bindTooltip(\n",
       "                `&lt;div&gt;\n",
       "                     20歳代\n",
       "                 &lt;/div&gt;`,\n",
       "                {&quot;sticky&quot;: true}\n",
       "            );\n",
       "        \n",
       "    \n",
       "            var marker_85e0eb518bf9089462926f6d7ccd01af = L.marker(\n",
       "                [35.88113, 139.98645],\n",
       "                {}\n",
       "            ).addTo(marker_cluster_4c2e71695cd18dfca13b325ffac6471d);\n",
       "        \n",
       "    \n",
       "            marker_85e0eb518bf9089462926f6d7ccd01af.bindTooltip(\n",
       "                `&lt;div&gt;\n",
       "                     20歳代\n",
       "                 &lt;/div&gt;`,\n",
       "                {&quot;sticky&quot;: true}\n",
       "            );\n",
       "        \n",
       "    \n",
       "            var marker_2cf7a7ac95c46667fd9fb95458d59dc9 = L.marker(\n",
       "                [35.88113, 139.98645],\n",
       "                {}\n",
       "            ).addTo(marker_cluster_4c2e71695cd18dfca13b325ffac6471d);\n",
       "        \n",
       "    \n",
       "            marker_2cf7a7ac95c46667fd9fb95458d59dc9.bindTooltip(\n",
       "                `&lt;div&gt;\n",
       "                     20歳代\n",
       "                 &lt;/div&gt;`,\n",
       "                {&quot;sticky&quot;: true}\n",
       "            );\n",
       "        \n",
       "    \n",
       "            var marker_b4de426a4b46a2a84a6e95b0caf1ba8b = L.marker(\n",
       "                [35.832733, 139.970932],\n",
       "                {}\n",
       "            ).addTo(marker_cluster_4c2e71695cd18dfca13b325ffac6471d);\n",
       "        \n",
       "    \n",
       "            marker_b4de426a4b46a2a84a6e95b0caf1ba8b.bindTooltip(\n",
       "                `&lt;div&gt;\n",
       "                     20歳代\n",
       "                 &lt;/div&gt;`,\n",
       "                {&quot;sticky&quot;: true}\n",
       "            );\n",
       "        \n",
       "    \n",
       "            var marker_da9b5afdc639c8f0760e47006372a68c = L.marker(\n",
       "                [35.815441, 139.982468],\n",
       "                {}\n",
       "            ).addTo(marker_cluster_4c2e71695cd18dfca13b325ffac6471d);\n",
       "        \n",
       "    \n",
       "            marker_da9b5afdc639c8f0760e47006372a68c.bindTooltip(\n",
       "                `&lt;div&gt;\n",
       "                     10歳代\n",
       "                 &lt;/div&gt;`,\n",
       "                {&quot;sticky&quot;: true}\n",
       "            );\n",
       "        \n",
       "    \n",
       "            var marker_867e4325c48f23be43fe0f4e8a202b9c = L.marker(\n",
       "                [35.815441, 139.982468],\n",
       "                {}\n",
       "            ).addTo(marker_cluster_4c2e71695cd18dfca13b325ffac6471d);\n",
       "        \n",
       "    \n",
       "            marker_867e4325c48f23be43fe0f4e8a202b9c.bindTooltip(\n",
       "                `&lt;div&gt;\n",
       "                     10歳代\n",
       "                 &lt;/div&gt;`,\n",
       "                {&quot;sticky&quot;: true}\n",
       "            );\n",
       "        \n",
       "    \n",
       "            var marker_8fe0b9443b9094e55335f6d45654ad42 = L.marker(\n",
       "                [35.815441, 139.982468],\n",
       "                {}\n",
       "            ).addTo(marker_cluster_4c2e71695cd18dfca13b325ffac6471d);\n",
       "        \n",
       "    \n",
       "            marker_8fe0b9443b9094e55335f6d45654ad42.bindTooltip(\n",
       "                `&lt;div&gt;\n",
       "                     10歳代\n",
       "                 &lt;/div&gt;`,\n",
       "                {&quot;sticky&quot;: true}\n",
       "            );\n",
       "        \n",
       "    \n",
       "            var marker_aa96549d2ba6e4b3cd5f132789c8086e = L.marker(\n",
       "                [35.815441, 139.982468],\n",
       "                {}\n",
       "            ).addTo(marker_cluster_4c2e71695cd18dfca13b325ffac6471d);\n",
       "        \n",
       "    \n",
       "            marker_aa96549d2ba6e4b3cd5f132789c8086e.bindTooltip(\n",
       "                `&lt;div&gt;\n",
       "                     10歳代\n",
       "                 &lt;/div&gt;`,\n",
       "                {&quot;sticky&quot;: true}\n",
       "            );\n",
       "        \n",
       "    \n",
       "            var marker_95874cf59fe5d3f540ae5f9d11f56a14 = L.marker(\n",
       "                [35.815441, 139.982468],\n",
       "                {}\n",
       "            ).addTo(marker_cluster_4c2e71695cd18dfca13b325ffac6471d);\n",
       "        \n",
       "    \n",
       "            marker_95874cf59fe5d3f540ae5f9d11f56a14.bindTooltip(\n",
       "                `&lt;div&gt;\n",
       "                     20歳代\n",
       "                 &lt;/div&gt;`,\n",
       "                {&quot;sticky&quot;: true}\n",
       "            );\n",
       "        \n",
       "    \n",
       "            var marker_4b1105c0f7c1373d6be809dd3043659a = L.marker(\n",
       "                [35.815441, 139.982468],\n",
       "                {}\n",
       "            ).addTo(marker_cluster_4c2e71695cd18dfca13b325ffac6471d);\n",
       "        \n",
       "    \n",
       "            marker_4b1105c0f7c1373d6be809dd3043659a.bindTooltip(\n",
       "                `&lt;div&gt;\n",
       "                     20歳代\n",
       "                 &lt;/div&gt;`,\n",
       "                {&quot;sticky&quot;: true}\n",
       "            );\n",
       "        \n",
       "    \n",
       "            var marker_bb6dd43a00f89f3ca3530fe77772f210 = L.marker(\n",
       "                [35.815441, 139.982468],\n",
       "                {}\n",
       "            ).addTo(marker_cluster_4c2e71695cd18dfca13b325ffac6471d);\n",
       "        \n",
       "    \n",
       "            marker_bb6dd43a00f89f3ca3530fe77772f210.bindTooltip(\n",
       "                `&lt;div&gt;\n",
       "                     70歳以上\n",
       "                 &lt;/div&gt;`,\n",
       "                {&quot;sticky&quot;: true}\n",
       "            );\n",
       "        \n",
       "    \n",
       "            var marker_a98f059105600d82bd4dbbd2408273eb = L.marker(\n",
       "                [35.815441, 139.982468],\n",
       "                {}\n",
       "            ).addTo(marker_cluster_4c2e71695cd18dfca13b325ffac6471d);\n",
       "        \n",
       "    \n",
       "            marker_a98f059105600d82bd4dbbd2408273eb.bindTooltip(\n",
       "                `&lt;div&gt;\n",
       "                     20歳代\n",
       "                 &lt;/div&gt;`,\n",
       "                {&quot;sticky&quot;: true}\n",
       "            );\n",
       "        \n",
       "    \n",
       "            var marker_1802aea497b167e34c4fa57dad1ee852 = L.marker(\n",
       "                [35.822018, 139.983444],\n",
       "                {}\n",
       "            ).addTo(marker_cluster_4c2e71695cd18dfca13b325ffac6471d);\n",
       "        \n",
       "    \n",
       "            marker_1802aea497b167e34c4fa57dad1ee852.bindTooltip(\n",
       "                `&lt;div&gt;\n",
       "                     10歳代\n",
       "                 &lt;/div&gt;`,\n",
       "                {&quot;sticky&quot;: true}\n",
       "            );\n",
       "        \n",
       "    \n",
       "            var marker_420adf4af0ede9d85bc4fc7fdfb69a1e = L.marker(\n",
       "                [35.822018, 139.983444],\n",
       "                {}\n",
       "            ).addTo(marker_cluster_4c2e71695cd18dfca13b325ffac6471d);\n",
       "        \n",
       "    \n",
       "            marker_420adf4af0ede9d85bc4fc7fdfb69a1e.bindTooltip(\n",
       "                `&lt;div&gt;\n",
       "                     10歳代\n",
       "                 &lt;/div&gt;`,\n",
       "                {&quot;sticky&quot;: true}\n",
       "            );\n",
       "        \n",
       "    \n",
       "            var marker_dbac7ebe7c1426c4cd3ea6d564edb216 = L.marker(\n",
       "                [35.822018, 139.983444],\n",
       "                {}\n",
       "            ).addTo(marker_cluster_4c2e71695cd18dfca13b325ffac6471d);\n",
       "        \n",
       "    \n",
       "            marker_dbac7ebe7c1426c4cd3ea6d564edb216.bindTooltip(\n",
       "                `&lt;div&gt;\n",
       "                     20歳代\n",
       "                 &lt;/div&gt;`,\n",
       "                {&quot;sticky&quot;: true}\n",
       "            );\n",
       "        \n",
       "    \n",
       "            var marker_3f8d24d1f7a5a10a47b0eca12ad181fb = L.marker(\n",
       "                [35.824383, 139.979614],\n",
       "                {}\n",
       "            ).addTo(marker_cluster_4c2e71695cd18dfca13b325ffac6471d);\n",
       "        \n",
       "    \n",
       "            marker_3f8d24d1f7a5a10a47b0eca12ad181fb.bindTooltip(\n",
       "                `&lt;div&gt;\n",
       "                     10歳代\n",
       "                 &lt;/div&gt;`,\n",
       "                {&quot;sticky&quot;: true}\n",
       "            );\n",
       "        \n",
       "    \n",
       "            var marker_7241d7f429a530c382e240bb66c71e32 = L.marker(\n",
       "                [35.824383, 139.979614],\n",
       "                {}\n",
       "            ).addTo(marker_cluster_4c2e71695cd18dfca13b325ffac6471d);\n",
       "        \n",
       "    \n",
       "            marker_7241d7f429a530c382e240bb66c71e32.bindTooltip(\n",
       "                `&lt;div&gt;\n",
       "                     10歳代\n",
       "                 &lt;/div&gt;`,\n",
       "                {&quot;sticky&quot;: true}\n",
       "            );\n",
       "        \n",
       "    \n",
       "            var marker_3e159164e344104175e05858e4d2171e = L.marker(\n",
       "                [35.824383, 139.979614],\n",
       "                {}\n",
       "            ).addTo(marker_cluster_4c2e71695cd18dfca13b325ffac6471d);\n",
       "        \n",
       "    \n",
       "            marker_3e159164e344104175e05858e4d2171e.bindTooltip(\n",
       "                `&lt;div&gt;\n",
       "                     10歳代\n",
       "                 &lt;/div&gt;`,\n",
       "                {&quot;sticky&quot;: true}\n",
       "            );\n",
       "        \n",
       "    \n",
       "            var marker_ad403225857dbc9abb0892a349d2638d = L.marker(\n",
       "                [35.824383, 139.979614],\n",
       "                {}\n",
       "            ).addTo(marker_cluster_4c2e71695cd18dfca13b325ffac6471d);\n",
       "        \n",
       "    \n",
       "            marker_ad403225857dbc9abb0892a349d2638d.bindTooltip(\n",
       "                `&lt;div&gt;\n",
       "                     20歳代\n",
       "                 &lt;/div&gt;`,\n",
       "                {&quot;sticky&quot;: true}\n",
       "            );\n",
       "        \n",
       "    \n",
       "            var marker_ebd6d17dc620abaef1745258ab71ae4f = L.marker(\n",
       "                [35.824383, 139.979614],\n",
       "                {}\n",
       "            ).addTo(marker_cluster_4c2e71695cd18dfca13b325ffac6471d);\n",
       "        \n",
       "    \n",
       "            marker_ebd6d17dc620abaef1745258ab71ae4f.bindTooltip(\n",
       "                `&lt;div&gt;\n",
       "                     30歳代\n",
       "                 &lt;/div&gt;`,\n",
       "                {&quot;sticky&quot;: true}\n",
       "            );\n",
       "        \n",
       "    \n",
       "            var marker_20d08cf6168341889fd1248a258f6143 = L.marker(\n",
       "                [35.824383, 139.979614],\n",
       "                {}\n",
       "            ).addTo(marker_cluster_4c2e71695cd18dfca13b325ffac6471d);\n",
       "        \n",
       "    \n",
       "            marker_20d08cf6168341889fd1248a258f6143.bindTooltip(\n",
       "                `&lt;div&gt;\n",
       "                     10歳代\n",
       "                 &lt;/div&gt;`,\n",
       "                {&quot;sticky&quot;: true}\n",
       "            );\n",
       "        \n",
       "    \n",
       "            var marker_c836e8ab603869e736193783f7779214 = L.marker(\n",
       "                [35.816387, 139.974075],\n",
       "                {}\n",
       "            ).addTo(marker_cluster_4c2e71695cd18dfca13b325ffac6471d);\n",
       "        \n",
       "    \n",
       "            marker_c836e8ab603869e736193783f7779214.bindTooltip(\n",
       "                `&lt;div&gt;\n",
       "                     10歳代\n",
       "                 &lt;/div&gt;`,\n",
       "                {&quot;sticky&quot;: true}\n",
       "            );\n",
       "        \n",
       "    \n",
       "            var marker_f8531fc8e71f9cae1036736674643d08 = L.marker(\n",
       "                [35.816387, 139.974075],\n",
       "                {}\n",
       "            ).addTo(marker_cluster_4c2e71695cd18dfca13b325ffac6471d);\n",
       "        \n",
       "    \n",
       "            marker_f8531fc8e71f9cae1036736674643d08.bindTooltip(\n",
       "                `&lt;div&gt;\n",
       "                     10歳代\n",
       "                 &lt;/div&gt;`,\n",
       "                {&quot;sticky&quot;: true}\n",
       "            );\n",
       "        \n",
       "    \n",
       "            var marker_4ad7ccde9e1508e59a0f5532412c8583 = L.marker(\n",
       "                [35.816387, 139.974075],\n",
       "                {}\n",
       "            ).addTo(marker_cluster_4c2e71695cd18dfca13b325ffac6471d);\n",
       "        \n",
       "    \n",
       "            marker_4ad7ccde9e1508e59a0f5532412c8583.bindTooltip(\n",
       "                `&lt;div&gt;\n",
       "                     10歳代\n",
       "                 &lt;/div&gt;`,\n",
       "                {&quot;sticky&quot;: true}\n",
       "            );\n",
       "        \n",
       "    \n",
       "            var marker_0738d6f3b510d9365a0cc80fdc4859a3 = L.marker(\n",
       "                [35.818909, 139.971741],\n",
       "                {}\n",
       "            ).addTo(marker_cluster_4c2e71695cd18dfca13b325ffac6471d);\n",
       "        \n",
       "    \n",
       "            marker_0738d6f3b510d9365a0cc80fdc4859a3.bindTooltip(\n",
       "                `&lt;div&gt;\n",
       "                     40歳代\n",
       "                 &lt;/div&gt;`,\n",
       "                {&quot;sticky&quot;: true}\n",
       "            );\n",
       "        \n",
       "    \n",
       "            var marker_12b8a00e2f2f425c68fc26c8e71f5487 = L.marker(\n",
       "                [35.817165, 139.96759],\n",
       "                {}\n",
       "            ).addTo(marker_cluster_4c2e71695cd18dfca13b325ffac6471d);\n",
       "        \n",
       "    \n",
       "            marker_12b8a00e2f2f425c68fc26c8e71f5487.bindTooltip(\n",
       "                `&lt;div&gt;\n",
       "                     10歳代\n",
       "                 &lt;/div&gt;`,\n",
       "                {&quot;sticky&quot;: true}\n",
       "            );\n",
       "        \n",
       "    \n",
       "            var marker_f80db88311759336cf916eddedf86e5a = L.marker(\n",
       "                [35.814602, 139.97052],\n",
       "                {}\n",
       "            ).addTo(marker_cluster_4c2e71695cd18dfca13b325ffac6471d);\n",
       "        \n",
       "    \n",
       "            marker_f80db88311759336cf916eddedf86e5a.bindTooltip(\n",
       "                `&lt;div&gt;\n",
       "                     70歳以上\n",
       "                 &lt;/div&gt;`,\n",
       "                {&quot;sticky&quot;: true}\n",
       "            );\n",
       "        \n",
       "    \n",
       "            var marker_ef4600b93630d945eb3a27e76ad40d58 = L.marker(\n",
       "                [35.814602, 139.97052],\n",
       "                {}\n",
       "            ).addTo(marker_cluster_4c2e71695cd18dfca13b325ffac6471d);\n",
       "        \n",
       "    \n",
       "            marker_ef4600b93630d945eb3a27e76ad40d58.bindTooltip(\n",
       "                `&lt;div&gt;\n",
       "                     50歳代\n",
       "                 &lt;/div&gt;`,\n",
       "                {&quot;sticky&quot;: true}\n",
       "            );\n",
       "        \n",
       "    \n",
       "            var marker_2aa064c050644e0568650df3fcfc927d = L.marker(\n",
       "                [35.814602, 139.97052],\n",
       "                {}\n",
       "            ).addTo(marker_cluster_4c2e71695cd18dfca13b325ffac6471d);\n",
       "        \n",
       "    \n",
       "            marker_2aa064c050644e0568650df3fcfc927d.bindTooltip(\n",
       "                `&lt;div&gt;\n",
       "                     30歳代\n",
       "                 &lt;/div&gt;`,\n",
       "                {&quot;sticky&quot;: true}\n",
       "            );\n",
       "        \n",
       "    \n",
       "            var marker_e399ce029feca0decd5aee40657f58a9 = L.marker(\n",
       "                [35.814602, 139.97052],\n",
       "                {}\n",
       "            ).addTo(marker_cluster_4c2e71695cd18dfca13b325ffac6471d);\n",
       "        \n",
       "    \n",
       "            marker_e399ce029feca0decd5aee40657f58a9.bindTooltip(\n",
       "                `&lt;div&gt;\n",
       "                     10歳代\n",
       "                 &lt;/div&gt;`,\n",
       "                {&quot;sticky&quot;: true}\n",
       "            );\n",
       "        \n",
       "    \n",
       "            var marker_e5feac43e4a0d9ea0b5fc63f9b4ed171 = L.marker(\n",
       "                [35.814602, 139.97052],\n",
       "                {}\n",
       "            ).addTo(marker_cluster_4c2e71695cd18dfca13b325ffac6471d);\n",
       "        \n",
       "    \n",
       "            marker_e5feac43e4a0d9ea0b5fc63f9b4ed171.bindTooltip(\n",
       "                `&lt;div&gt;\n",
       "                     20歳代\n",
       "                 &lt;/div&gt;`,\n",
       "                {&quot;sticky&quot;: true}\n",
       "            );\n",
       "        \n",
       "    \n",
       "            var marker_08f27824ededbcc59249bde5ff76a9d2 = L.marker(\n",
       "                [35.813236, 139.966034],\n",
       "                {}\n",
       "            ).addTo(marker_cluster_4c2e71695cd18dfca13b325ffac6471d);\n",
       "        \n",
       "    \n",
       "            marker_08f27824ededbcc59249bde5ff76a9d2.bindTooltip(\n",
       "                `&lt;div&gt;\n",
       "                     10歳代\n",
       "                 &lt;/div&gt;`,\n",
       "                {&quot;sticky&quot;: true}\n",
       "            );\n",
       "        \n",
       "    \n",
       "            var marker_8c3c13cdfcd8427a70f0662c14a8b6f7 = L.marker(\n",
       "                [35.809929, 139.966537],\n",
       "                {}\n",
       "            ).addTo(marker_cluster_4c2e71695cd18dfca13b325ffac6471d);\n",
       "        \n",
       "    \n",
       "            marker_8c3c13cdfcd8427a70f0662c14a8b6f7.bindTooltip(\n",
       "                `&lt;div&gt;\n",
       "                     70歳以上\n",
       "                 &lt;/div&gt;`,\n",
       "                {&quot;sticky&quot;: true}\n",
       "            );\n",
       "        \n",
       "    \n",
       "            var marker_1d5dd2a2ae2b8a7d665bb797fc262a2b = L.marker(\n",
       "                [35.811157, 139.963562],\n",
       "                {}\n",
       "            ).addTo(marker_cluster_4c2e71695cd18dfca13b325ffac6471d);\n",
       "        \n",
       "    \n",
       "            marker_1d5dd2a2ae2b8a7d665bb797fc262a2b.bindTooltip(\n",
       "                `&lt;div&gt;\n",
       "                     40歳代\n",
       "                 &lt;/div&gt;`,\n",
       "                {&quot;sticky&quot;: true}\n",
       "            );\n",
       "        \n",
       "    \n",
       "            var marker_39066b4ad32cee4f477d6f9a50111259 = L.marker(\n",
       "                [35.810768, 139.959],\n",
       "                {}\n",
       "            ).addTo(marker_cluster_4c2e71695cd18dfca13b325ffac6471d);\n",
       "        \n",
       "    \n",
       "            marker_39066b4ad32cee4f477d6f9a50111259.bindTooltip(\n",
       "                `&lt;div&gt;\n",
       "                     10歳代\n",
       "                 &lt;/div&gt;`,\n",
       "                {&quot;sticky&quot;: true}\n",
       "            );\n",
       "        \n",
       "    \n",
       "            var marker_23ab83f000567107b0c7a48e24ffe812 = L.marker(\n",
       "                [35.827206, 139.976883],\n",
       "                {}\n",
       "            ).addTo(marker_cluster_4c2e71695cd18dfca13b325ffac6471d);\n",
       "        \n",
       "    \n",
       "            marker_23ab83f000567107b0c7a48e24ffe812.bindTooltip(\n",
       "                `&lt;div&gt;\n",
       "                     30歳代\n",
       "                 &lt;/div&gt;`,\n",
       "                {&quot;sticky&quot;: true}\n",
       "            );\n",
       "        \n",
       "    \n",
       "            var marker_2609f516d429152f12e0c72675dd78e1 = L.marker(\n",
       "                [35.827206, 139.976883],\n",
       "                {}\n",
       "            ).addTo(marker_cluster_4c2e71695cd18dfca13b325ffac6471d);\n",
       "        \n",
       "    \n",
       "            marker_2609f516d429152f12e0c72675dd78e1.bindTooltip(\n",
       "                `&lt;div&gt;\n",
       "                     50歳代\n",
       "                 &lt;/div&gt;`,\n",
       "                {&quot;sticky&quot;: true}\n",
       "            );\n",
       "        \n",
       "    \n",
       "            var marker_e99e0c256b2ce7520970969f38f8eccc = L.marker(\n",
       "                [35.822952, 139.98671],\n",
       "                {}\n",
       "            ).addTo(marker_cluster_4c2e71695cd18dfca13b325ffac6471d);\n",
       "        \n",
       "    \n",
       "            marker_e99e0c256b2ce7520970969f38f8eccc.bindTooltip(\n",
       "                `&lt;div&gt;\n",
       "                     10歳代\n",
       "                 &lt;/div&gt;`,\n",
       "                {&quot;sticky&quot;: true}\n",
       "            );\n",
       "        \n",
       "    \n",
       "            var marker_3d32e912c56bf3cebb1110987d43d1c0 = L.marker(\n",
       "                [35.822952, 139.98671],\n",
       "                {}\n",
       "            ).addTo(marker_cluster_4c2e71695cd18dfca13b325ffac6471d);\n",
       "        \n",
       "    \n",
       "            marker_3d32e912c56bf3cebb1110987d43d1c0.bindTooltip(\n",
       "                `&lt;div&gt;\n",
       "                     10歳代\n",
       "                 &lt;/div&gt;`,\n",
       "                {&quot;sticky&quot;: true}\n",
       "            );\n",
       "        \n",
       "    \n",
       "            var marker_e12a6f71d57bb7ebdfa8f6edb4388a59 = L.marker(\n",
       "                [35.822952, 139.98671],\n",
       "                {}\n",
       "            ).addTo(marker_cluster_4c2e71695cd18dfca13b325ffac6471d);\n",
       "        \n",
       "    \n",
       "            marker_e12a6f71d57bb7ebdfa8f6edb4388a59.bindTooltip(\n",
       "                `&lt;div&gt;\n",
       "                     10歳代\n",
       "                 &lt;/div&gt;`,\n",
       "                {&quot;sticky&quot;: true}\n",
       "            );\n",
       "        \n",
       "    \n",
       "            var marker_98236717f29e66a193f7f1bc44bc0cc5 = L.marker(\n",
       "                [35.807571, 139.970367],\n",
       "                {}\n",
       "            ).addTo(marker_cluster_4c2e71695cd18dfca13b325ffac6471d);\n",
       "        \n",
       "    \n",
       "            marker_98236717f29e66a193f7f1bc44bc0cc5.bindTooltip(\n",
       "                `&lt;div&gt;\n",
       "                     10歳未満\n",
       "                 &lt;/div&gt;`,\n",
       "                {&quot;sticky&quot;: true}\n",
       "            );\n",
       "        \n",
       "    \n",
       "            var marker_7271c78f1011010ecc330fb1ef41f90f = L.marker(\n",
       "                [35.813534, 139.957855],\n",
       "                {}\n",
       "            ).addTo(marker_cluster_4c2e71695cd18dfca13b325ffac6471d);\n",
       "        \n",
       "    \n",
       "            marker_7271c78f1011010ecc330fb1ef41f90f.bindTooltip(\n",
       "                `&lt;div&gt;\n",
       "                     10歳代\n",
       "                 &lt;/div&gt;`,\n",
       "                {&quot;sticky&quot;: true}\n",
       "            );\n",
       "        \n",
       "    \n",
       "            var marker_20cf7b458880c9ce512c7af60592b315 = L.marker(\n",
       "                [35.813534, 139.957855],\n",
       "                {}\n",
       "            ).addTo(marker_cluster_4c2e71695cd18dfca13b325ffac6471d);\n",
       "        \n",
       "    \n",
       "            marker_20cf7b458880c9ce512c7af60592b315.bindTooltip(\n",
       "                `&lt;div&gt;\n",
       "                     10歳代\n",
       "                 &lt;/div&gt;`,\n",
       "                {&quot;sticky&quot;: true}\n",
       "            );\n",
       "        \n",
       "    \n",
       "            var marker_9e2d05955ddb5905248969fecf95f310 = L.marker(\n",
       "                [35.812092, 139.972183],\n",
       "                {}\n",
       "            ).addTo(marker_cluster_4c2e71695cd18dfca13b325ffac6471d);\n",
       "        \n",
       "    \n",
       "            marker_9e2d05955ddb5905248969fecf95f310.bindTooltip(\n",
       "                `&lt;div&gt;\n",
       "                     70歳以上\n",
       "                 &lt;/div&gt;`,\n",
       "                {&quot;sticky&quot;: true}\n",
       "            );\n",
       "        \n",
       "    \n",
       "            var marker_2d66b72859d2de2f4b038526e5932c6e = L.marker(\n",
       "                [35.809525, 139.970627],\n",
       "                {}\n",
       "            ).addTo(marker_cluster_4c2e71695cd18dfca13b325ffac6471d);\n",
       "        \n",
       "    \n",
       "            marker_2d66b72859d2de2f4b038526e5932c6e.bindTooltip(\n",
       "                `&lt;div&gt;\n",
       "                     10歳代\n",
       "                 &lt;/div&gt;`,\n",
       "                {&quot;sticky&quot;: true}\n",
       "            );\n",
       "        \n",
       "    \n",
       "            var marker_b1855dfa1fcf5923f67f2292ec07f36f = L.marker(\n",
       "                [35.809525, 139.970627],\n",
       "                {}\n",
       "            ).addTo(marker_cluster_4c2e71695cd18dfca13b325ffac6471d);\n",
       "        \n",
       "    \n",
       "            marker_b1855dfa1fcf5923f67f2292ec07f36f.bindTooltip(\n",
       "                `&lt;div&gt;\n",
       "                     10歳未満\n",
       "                 &lt;/div&gt;`,\n",
       "                {&quot;sticky&quot;: true}\n",
       "            );\n",
       "        \n",
       "    \n",
       "            var marker_2b7fab8325013dd1ff3c6cd20069d822 = L.marker(\n",
       "                [35.809525, 139.970627],\n",
       "                {}\n",
       "            ).addTo(marker_cluster_4c2e71695cd18dfca13b325ffac6471d);\n",
       "        \n",
       "    \n",
       "            marker_2b7fab8325013dd1ff3c6cd20069d822.bindTooltip(\n",
       "                `&lt;div&gt;\n",
       "                     20歳代\n",
       "                 &lt;/div&gt;`,\n",
       "                {&quot;sticky&quot;: true}\n",
       "            );\n",
       "        \n",
       "    \n",
       "            var marker_90fb4ffeb7d00d64a85e46104ddff7e4 = L.marker(\n",
       "                [35.850155, 140.00441],\n",
       "                {}\n",
       "            ).addTo(marker_cluster_4c2e71695cd18dfca13b325ffac6471d);\n",
       "        \n",
       "    \n",
       "            marker_90fb4ffeb7d00d64a85e46104ddff7e4.bindTooltip(\n",
       "                `&lt;div&gt;\n",
       "                     10歳代\n",
       "                 &lt;/div&gt;`,\n",
       "                {&quot;sticky&quot;: true}\n",
       "            );\n",
       "        \n",
       "    \n",
       "            var marker_f7d444e3180e030b1a44ab0b536d64b8 = L.marker(\n",
       "                [35.824383, 139.979614],\n",
       "                {}\n",
       "            ).addTo(marker_cluster_4c2e71695cd18dfca13b325ffac6471d);\n",
       "        \n",
       "    \n",
       "            marker_f7d444e3180e030b1a44ab0b536d64b8.bindTooltip(\n",
       "                `&lt;div&gt;\n",
       "                     10歳代\n",
       "                 &lt;/div&gt;`,\n",
       "                {&quot;sticky&quot;: true}\n",
       "            );\n",
       "        \n",
       "    \n",
       "            var marker_a29e409fdd91f01d0de598df546909dd = L.marker(\n",
       "                [35.85088, 139.955795],\n",
       "                {}\n",
       "            ).addTo(marker_cluster_4c2e71695cd18dfca13b325ffac6471d);\n",
       "        \n",
       "    \n",
       "            marker_a29e409fdd91f01d0de598df546909dd.bindTooltip(\n",
       "                `&lt;div&gt;\n",
       "                     10歳代\n",
       "                 &lt;/div&gt;`,\n",
       "                {&quot;sticky&quot;: true}\n",
       "            );\n",
       "        \n",
       "    \n",
       "            var marker_2448b65858c868805a94de701fb24a33 = L.marker(\n",
       "                [35.859928, 139.949814],\n",
       "                {}\n",
       "            ).addTo(marker_cluster_4c2e71695cd18dfca13b325ffac6471d);\n",
       "        \n",
       "    \n",
       "            marker_2448b65858c868805a94de701fb24a33.bindTooltip(\n",
       "                `&lt;div&gt;\n",
       "                     10歳代\n",
       "                 &lt;/div&gt;`,\n",
       "                {&quot;sticky&quot;: true}\n",
       "            );\n",
       "        \n",
       "    \n",
       "            var marker_5ce04077506f06c49c512774199205d3 = L.marker(\n",
       "                [35.859928, 139.949814],\n",
       "                {}\n",
       "            ).addTo(marker_cluster_4c2e71695cd18dfca13b325ffac6471d);\n",
       "        \n",
       "    \n",
       "            marker_5ce04077506f06c49c512774199205d3.bindTooltip(\n",
       "                `&lt;div&gt;\n",
       "                     30歳代\n",
       "                 &lt;/div&gt;`,\n",
       "                {&quot;sticky&quot;: true}\n",
       "            );\n",
       "        \n",
       "    \n",
       "            var marker_2ff60140017687155734d2e0b0ae5925 = L.marker(\n",
       "                [35.859928, 139.949814],\n",
       "                {}\n",
       "            ).addTo(marker_cluster_4c2e71695cd18dfca13b325ffac6471d);\n",
       "        \n",
       "    \n",
       "            marker_2ff60140017687155734d2e0b0ae5925.bindTooltip(\n",
       "                `&lt;div&gt;\n",
       "                     30歳代\n",
       "                 &lt;/div&gt;`,\n",
       "                {&quot;sticky&quot;: true}\n",
       "            );\n",
       "        \n",
       "    \n",
       "            var marker_5bf5c56efcfed58fe231528e2c1194aa = L.marker(\n",
       "                [35.859928, 139.949814],\n",
       "                {}\n",
       "            ).addTo(marker_cluster_4c2e71695cd18dfca13b325ffac6471d);\n",
       "        \n",
       "    \n",
       "            marker_5bf5c56efcfed58fe231528e2c1194aa.bindTooltip(\n",
       "                `&lt;div&gt;\n",
       "                     30歳代\n",
       "                 &lt;/div&gt;`,\n",
       "                {&quot;sticky&quot;: true}\n",
       "            );\n",
       "        \n",
       "    \n",
       "            var marker_75d42b2712b5ff34e4a8d98a9b4d9f7a = L.marker(\n",
       "                [35.859928, 139.949814],\n",
       "                {}\n",
       "            ).addTo(marker_cluster_4c2e71695cd18dfca13b325ffac6471d);\n",
       "        \n",
       "    \n",
       "            marker_75d42b2712b5ff34e4a8d98a9b4d9f7a.bindTooltip(\n",
       "                `&lt;div&gt;\n",
       "                     30歳代\n",
       "                 &lt;/div&gt;`,\n",
       "                {&quot;sticky&quot;: true}\n",
       "            );\n",
       "        \n",
       "    \n",
       "            var marker_fe43593248104506e8297c3c88884cce = L.marker(\n",
       "                [35.859928, 139.949814],\n",
       "                {}\n",
       "            ).addTo(marker_cluster_4c2e71695cd18dfca13b325ffac6471d);\n",
       "        \n",
       "    \n",
       "            marker_fe43593248104506e8297c3c88884cce.bindTooltip(\n",
       "                `&lt;div&gt;\n",
       "                     10歳代\n",
       "                 &lt;/div&gt;`,\n",
       "                {&quot;sticky&quot;: true}\n",
       "            );\n",
       "        \n",
       "    \n",
       "            var marker_9088ef4baca9e915aeb897751cc271a1 = L.marker(\n",
       "                [35.859928, 139.949814],\n",
       "                {}\n",
       "            ).addTo(marker_cluster_4c2e71695cd18dfca13b325ffac6471d);\n",
       "        \n",
       "    \n",
       "            marker_9088ef4baca9e915aeb897751cc271a1.bindTooltip(\n",
       "                `&lt;div&gt;\n",
       "                     20歳代\n",
       "                 &lt;/div&gt;`,\n",
       "                {&quot;sticky&quot;: true}\n",
       "            );\n",
       "        \n",
       "    \n",
       "            var marker_02a516c4a863abf23a33f879563f0b31 = L.marker(\n",
       "                [35.859928, 139.949814],\n",
       "                {}\n",
       "            ).addTo(marker_cluster_4c2e71695cd18dfca13b325ffac6471d);\n",
       "        \n",
       "    \n",
       "            marker_02a516c4a863abf23a33f879563f0b31.bindTooltip(\n",
       "                `&lt;div&gt;\n",
       "                     10歳代\n",
       "                 &lt;/div&gt;`,\n",
       "                {&quot;sticky&quot;: true}\n",
       "            );\n",
       "        \n",
       "    \n",
       "            var marker_963fb514d12617e5778cb34d96a37bb4 = L.marker(\n",
       "                [35.845783, 139.953476],\n",
       "                {}\n",
       "            ).addTo(marker_cluster_4c2e71695cd18dfca13b325ffac6471d);\n",
       "        \n",
       "    \n",
       "            marker_963fb514d12617e5778cb34d96a37bb4.bindTooltip(\n",
       "                `&lt;div&gt;\n",
       "                     30歳代\n",
       "                 &lt;/div&gt;`,\n",
       "                {&quot;sticky&quot;: true}\n",
       "            );\n",
       "        \n",
       "    \n",
       "            var marker_d68a845aec712ab6e0b4935f801a6de9 = L.marker(\n",
       "                [35.845783, 139.953476],\n",
       "                {}\n",
       "            ).addTo(marker_cluster_4c2e71695cd18dfca13b325ffac6471d);\n",
       "        \n",
       "    \n",
       "            marker_d68a845aec712ab6e0b4935f801a6de9.bindTooltip(\n",
       "                `&lt;div&gt;\n",
       "                     10歳代\n",
       "                 &lt;/div&gt;`,\n",
       "                {&quot;sticky&quot;: true}\n",
       "            );\n",
       "        \n",
       "    \n",
       "            var marker_01534efcd336bccec3e680fc6716f44a = L.marker(\n",
       "                [35.845783, 139.953476],\n",
       "                {}\n",
       "            ).addTo(marker_cluster_4c2e71695cd18dfca13b325ffac6471d);\n",
       "        \n",
       "    \n",
       "            marker_01534efcd336bccec3e680fc6716f44a.bindTooltip(\n",
       "                `&lt;div&gt;\n",
       "                     20歳代\n",
       "                 &lt;/div&gt;`,\n",
       "                {&quot;sticky&quot;: true}\n",
       "            );\n",
       "        \n",
       "    \n",
       "            var marker_fdf4fc85a54510ca3a1460e9f4568e50 = L.marker(\n",
       "                [35.845783, 139.953476],\n",
       "                {}\n",
       "            ).addTo(marker_cluster_4c2e71695cd18dfca13b325ffac6471d);\n",
       "        \n",
       "    \n",
       "            marker_fdf4fc85a54510ca3a1460e9f4568e50.bindTooltip(\n",
       "                `&lt;div&gt;\n",
       "                     10歳代\n",
       "                 &lt;/div&gt;`,\n",
       "                {&quot;sticky&quot;: true}\n",
       "            );\n",
       "        \n",
       "    \n",
       "            var marker_1c688bf8ec39918dfd6e28e5a63c545f = L.marker(\n",
       "                [35.845783, 139.953476],\n",
       "                {}\n",
       "            ).addTo(marker_cluster_4c2e71695cd18dfca13b325ffac6471d);\n",
       "        \n",
       "    \n",
       "            marker_1c688bf8ec39918dfd6e28e5a63c545f.bindTooltip(\n",
       "                `&lt;div&gt;\n",
       "                     30歳代\n",
       "                 &lt;/div&gt;`,\n",
       "                {&quot;sticky&quot;: true}\n",
       "            );\n",
       "        \n",
       "    \n",
       "            var marker_11b3bcfad1d021d04ef2d3ac26e7d057 = L.marker(\n",
       "                [35.845783, 139.953476],\n",
       "                {}\n",
       "            ).addTo(marker_cluster_4c2e71695cd18dfca13b325ffac6471d);\n",
       "        \n",
       "    \n",
       "            marker_11b3bcfad1d021d04ef2d3ac26e7d057.bindTooltip(\n",
       "                `&lt;div&gt;\n",
       "                     50歳代\n",
       "                 &lt;/div&gt;`,\n",
       "                {&quot;sticky&quot;: true}\n",
       "            );\n",
       "        \n",
       "    \n",
       "            var marker_9d646a0f00ab1a0bf26a352bd9ee833a = L.marker(\n",
       "                [35.845783, 139.953476],\n",
       "                {}\n",
       "            ).addTo(marker_cluster_4c2e71695cd18dfca13b325ffac6471d);\n",
       "        \n",
       "    \n",
       "            marker_9d646a0f00ab1a0bf26a352bd9ee833a.bindTooltip(\n",
       "                `&lt;div&gt;\n",
       "                     20歳代\n",
       "                 &lt;/div&gt;`,\n",
       "                {&quot;sticky&quot;: true}\n",
       "            );\n",
       "        \n",
       "    \n",
       "            var marker_dd4778ec7d1300786e248f121e12ae2f = L.marker(\n",
       "                [35.847271, 139.955032],\n",
       "                {}\n",
       "            ).addTo(marker_cluster_4c2e71695cd18dfca13b325ffac6471d);\n",
       "        \n",
       "    \n",
       "            marker_dd4778ec7d1300786e248f121e12ae2f.bindTooltip(\n",
       "                `&lt;div&gt;\n",
       "                     20歳代\n",
       "                 &lt;/div&gt;`,\n",
       "                {&quot;sticky&quot;: true}\n",
       "            );\n",
       "        \n",
       "    \n",
       "            var marker_7382daf603d01fc9df6cbc70c6e99e43 = L.marker(\n",
       "                [35.847271, 139.955032],\n",
       "                {}\n",
       "            ).addTo(marker_cluster_4c2e71695cd18dfca13b325ffac6471d);\n",
       "        \n",
       "    \n",
       "            marker_7382daf603d01fc9df6cbc70c6e99e43.bindTooltip(\n",
       "                `&lt;div&gt;\n",
       "                     10歳代\n",
       "                 &lt;/div&gt;`,\n",
       "                {&quot;sticky&quot;: true}\n",
       "            );\n",
       "        \n",
       "    \n",
       "            var marker_cbb164fe12aeb3cf1782e44154814fed = L.marker(\n",
       "                [35.847271, 139.955032],\n",
       "                {}\n",
       "            ).addTo(marker_cluster_4c2e71695cd18dfca13b325ffac6471d);\n",
       "        \n",
       "    \n",
       "            marker_cbb164fe12aeb3cf1782e44154814fed.bindTooltip(\n",
       "                `&lt;div&gt;\n",
       "                     10歳代\n",
       "                 &lt;/div&gt;`,\n",
       "                {&quot;sticky&quot;: true}\n",
       "            );\n",
       "        \n",
       "    \n",
       "            var marker_d7c3124254f9c72cd00202b981a4a4fe = L.marker(\n",
       "                [35.847271, 139.955032],\n",
       "                {}\n",
       "            ).addTo(marker_cluster_4c2e71695cd18dfca13b325ffac6471d);\n",
       "        \n",
       "    \n",
       "            marker_d7c3124254f9c72cd00202b981a4a4fe.bindTooltip(\n",
       "                `&lt;div&gt;\n",
       "                     10歳代\n",
       "                 &lt;/div&gt;`,\n",
       "                {&quot;sticky&quot;: true}\n",
       "            );\n",
       "        \n",
       "    \n",
       "            var marker_5b0432a5d6a4237dca4c079ae8cd4dab = L.marker(\n",
       "                [35.851013, 139.960251],\n",
       "                {}\n",
       "            ).addTo(marker_cluster_4c2e71695cd18dfca13b325ffac6471d);\n",
       "        \n",
       "    \n",
       "            marker_5b0432a5d6a4237dca4c079ae8cd4dab.bindTooltip(\n",
       "                `&lt;div&gt;\n",
       "                     10歳代\n",
       "                 &lt;/div&gt;`,\n",
       "                {&quot;sticky&quot;: true}\n",
       "            );\n",
       "        \n",
       "    \n",
       "            var marker_a8a0cd3a4b6206d8e450b6151326ac74 = L.marker(\n",
       "                [35.851013, 139.960251],\n",
       "                {}\n",
       "            ).addTo(marker_cluster_4c2e71695cd18dfca13b325ffac6471d);\n",
       "        \n",
       "    \n",
       "            marker_a8a0cd3a4b6206d8e450b6151326ac74.bindTooltip(\n",
       "                `&lt;div&gt;\n",
       "                     10歳代\n",
       "                 &lt;/div&gt;`,\n",
       "                {&quot;sticky&quot;: true}\n",
       "            );\n",
       "        \n",
       "    \n",
       "            var marker_aa5382e130b497f5babd7c75ddafc916 = L.marker(\n",
       "                [35.851013, 139.960251],\n",
       "                {}\n",
       "            ).addTo(marker_cluster_4c2e71695cd18dfca13b325ffac6471d);\n",
       "        \n",
       "    \n",
       "            marker_aa5382e130b497f5babd7c75ddafc916.bindTooltip(\n",
       "                `&lt;div&gt;\n",
       "                     20歳代\n",
       "                 &lt;/div&gt;`,\n",
       "                {&quot;sticky&quot;: true}\n",
       "            );\n",
       "        \n",
       "    \n",
       "            var marker_d487a8e6d7b9e4707f9c7d950c206f36 = L.marker(\n",
       "                [35.844471, 139.954956],\n",
       "                {}\n",
       "            ).addTo(marker_cluster_4c2e71695cd18dfca13b325ffac6471d);\n",
       "        \n",
       "    \n",
       "            marker_d487a8e6d7b9e4707f9c7d950c206f36.bindTooltip(\n",
       "                `&lt;div&gt;\n",
       "                     20歳代\n",
       "                 &lt;/div&gt;`,\n",
       "                {&quot;sticky&quot;: true}\n",
       "            );\n",
       "        \n",
       "    \n",
       "            var marker_7765d5f5ab99707989d06ced50da5d08 = L.marker(\n",
       "                [35.844471, 139.954956],\n",
       "                {}\n",
       "            ).addTo(marker_cluster_4c2e71695cd18dfca13b325ffac6471d);\n",
       "        \n",
       "    \n",
       "            marker_7765d5f5ab99707989d06ced50da5d08.bindTooltip(\n",
       "                `&lt;div&gt;\n",
       "                     10歳代\n",
       "                 &lt;/div&gt;`,\n",
       "                {&quot;sticky&quot;: true}\n",
       "            );\n",
       "        \n",
       "    \n",
       "            var marker_e5c9d78b20ead1112dca7e71ae507cf0 = L.marker(\n",
       "                [35.844471, 139.954956],\n",
       "                {}\n",
       "            ).addTo(marker_cluster_4c2e71695cd18dfca13b325ffac6471d);\n",
       "        \n",
       "    \n",
       "            marker_e5c9d78b20ead1112dca7e71ae507cf0.bindTooltip(\n",
       "                `&lt;div&gt;\n",
       "                     10歳代\n",
       "                 &lt;/div&gt;`,\n",
       "                {&quot;sticky&quot;: true}\n",
       "            );\n",
       "        \n",
       "    \n",
       "            var marker_059cde12a9c357458da3c5d3bea07624 = L.marker(\n",
       "                [35.844471, 139.954956],\n",
       "                {}\n",
       "            ).addTo(marker_cluster_4c2e71695cd18dfca13b325ffac6471d);\n",
       "        \n",
       "    \n",
       "            marker_059cde12a9c357458da3c5d3bea07624.bindTooltip(\n",
       "                `&lt;div&gt;\n",
       "                     10歳代\n",
       "                 &lt;/div&gt;`,\n",
       "                {&quot;sticky&quot;: true}\n",
       "            );\n",
       "        \n",
       "    \n",
       "            var marker_60b7cc38579cb820e9576082309dab84 = L.marker(\n",
       "                [35.844471, 139.954956],\n",
       "                {}\n",
       "            ).addTo(marker_cluster_4c2e71695cd18dfca13b325ffac6471d);\n",
       "        \n",
       "    \n",
       "            marker_60b7cc38579cb820e9576082309dab84.bindTooltip(\n",
       "                `&lt;div&gt;\n",
       "                     10歳代\n",
       "                 &lt;/div&gt;`,\n",
       "                {&quot;sticky&quot;: true}\n",
       "            );\n",
       "        \n",
       "    \n",
       "            var marker_2c381b10d88ffa9c44539ad71ba8d1ac = L.marker(\n",
       "                [35.844471, 139.954956],\n",
       "                {}\n",
       "            ).addTo(marker_cluster_4c2e71695cd18dfca13b325ffac6471d);\n",
       "        \n",
       "    \n",
       "            marker_2c381b10d88ffa9c44539ad71ba8d1ac.bindTooltip(\n",
       "                `&lt;div&gt;\n",
       "                     10歳代\n",
       "                 &lt;/div&gt;`,\n",
       "                {&quot;sticky&quot;: true}\n",
       "            );\n",
       "        \n",
       "    \n",
       "            var marker_d0442e486decaf1ba468ea7d9a469137 = L.marker(\n",
       "                [35.844471, 139.954956],\n",
       "                {}\n",
       "            ).addTo(marker_cluster_4c2e71695cd18dfca13b325ffac6471d);\n",
       "        \n",
       "    \n",
       "            marker_d0442e486decaf1ba468ea7d9a469137.bindTooltip(\n",
       "                `&lt;div&gt;\n",
       "                     30歳代\n",
       "                 &lt;/div&gt;`,\n",
       "                {&quot;sticky&quot;: true}\n",
       "            );\n",
       "        \n",
       "    \n",
       "            var marker_bc52234208a4df22f66dd00c0e65a81e = L.marker(\n",
       "                [35.844471, 139.954956],\n",
       "                {}\n",
       "            ).addTo(marker_cluster_4c2e71695cd18dfca13b325ffac6471d);\n",
       "        \n",
       "    \n",
       "            marker_bc52234208a4df22f66dd00c0e65a81e.bindTooltip(\n",
       "                `&lt;div&gt;\n",
       "                     20歳代\n",
       "                 &lt;/div&gt;`,\n",
       "                {&quot;sticky&quot;: true}\n",
       "            );\n",
       "        \n",
       "    \n",
       "            var marker_021bfe73d84912e11fd205e940c485c7 = L.marker(\n",
       "                [35.844471, 139.954956],\n",
       "                {}\n",
       "            ).addTo(marker_cluster_4c2e71695cd18dfca13b325ffac6471d);\n",
       "        \n",
       "    \n",
       "            marker_021bfe73d84912e11fd205e940c485c7.bindTooltip(\n",
       "                `&lt;div&gt;\n",
       "                     10歳代\n",
       "                 &lt;/div&gt;`,\n",
       "                {&quot;sticky&quot;: true}\n",
       "            );\n",
       "        \n",
       "    \n",
       "            var marker_a03b23ba2149b217dc670f25c1575daa = L.marker(\n",
       "                [35.844471, 139.954956],\n",
       "                {}\n",
       "            ).addTo(marker_cluster_4c2e71695cd18dfca13b325ffac6471d);\n",
       "        \n",
       "    \n",
       "            marker_a03b23ba2149b217dc670f25c1575daa.bindTooltip(\n",
       "                `&lt;div&gt;\n",
       "                     10歳代\n",
       "                 &lt;/div&gt;`,\n",
       "                {&quot;sticky&quot;: true}\n",
       "            );\n",
       "        \n",
       "    \n",
       "            var marker_fa5904892ef68b53ee1372d4ab68df0b = L.marker(\n",
       "                [35.844471, 139.954956],\n",
       "                {}\n",
       "            ).addTo(marker_cluster_4c2e71695cd18dfca13b325ffac6471d);\n",
       "        \n",
       "    \n",
       "            marker_fa5904892ef68b53ee1372d4ab68df0b.bindTooltip(\n",
       "                `&lt;div&gt;\n",
       "                     10歳代\n",
       "                 &lt;/div&gt;`,\n",
       "                {&quot;sticky&quot;: true}\n",
       "            );\n",
       "        \n",
       "    \n",
       "            var marker_520247a54c9bc83a7a891c83fd169352 = L.marker(\n",
       "                [35.844471, 139.954956],\n",
       "                {}\n",
       "            ).addTo(marker_cluster_4c2e71695cd18dfca13b325ffac6471d);\n",
       "        \n",
       "    \n",
       "            marker_520247a54c9bc83a7a891c83fd169352.bindTooltip(\n",
       "                `&lt;div&gt;\n",
       "                     20歳代\n",
       "                 &lt;/div&gt;`,\n",
       "                {&quot;sticky&quot;: true}\n",
       "            );\n",
       "        \n",
       "    \n",
       "            var marker_97d7a06090b480923049dbf154d1be61 = L.marker(\n",
       "                [35.844471, 139.954956],\n",
       "                {}\n",
       "            ).addTo(marker_cluster_4c2e71695cd18dfca13b325ffac6471d);\n",
       "        \n",
       "    \n",
       "            marker_97d7a06090b480923049dbf154d1be61.bindTooltip(\n",
       "                `&lt;div&gt;\n",
       "                     20歳代\n",
       "                 &lt;/div&gt;`,\n",
       "                {&quot;sticky&quot;: true}\n",
       "            );\n",
       "        \n",
       "    \n",
       "            var marker_d0d470819fc80b2053f0d5f4ad064a3d = L.marker(\n",
       "                [35.844471, 139.954956],\n",
       "                {}\n",
       "            ).addTo(marker_cluster_4c2e71695cd18dfca13b325ffac6471d);\n",
       "        \n",
       "    \n",
       "            marker_d0d470819fc80b2053f0d5f4ad064a3d.bindTooltip(\n",
       "                `&lt;div&gt;\n",
       "                     40歳代\n",
       "                 &lt;/div&gt;`,\n",
       "                {&quot;sticky&quot;: true}\n",
       "            );\n",
       "        \n",
       "    \n",
       "            var marker_994506e715fbea033dab05bfa3293659 = L.marker(\n",
       "                [35.844471, 139.954956],\n",
       "                {}\n",
       "            ).addTo(marker_cluster_4c2e71695cd18dfca13b325ffac6471d);\n",
       "        \n",
       "    \n",
       "            marker_994506e715fbea033dab05bfa3293659.bindTooltip(\n",
       "                `&lt;div&gt;\n",
       "                     30歳代\n",
       "                 &lt;/div&gt;`,\n",
       "                {&quot;sticky&quot;: true}\n",
       "            );\n",
       "        \n",
       "    \n",
       "            var marker_ffb0a74fb16af73edf81ee673cf8a82a = L.marker(\n",
       "                [35.830082, 139.97319],\n",
       "                {}\n",
       "            ).addTo(marker_cluster_4c2e71695cd18dfca13b325ffac6471d);\n",
       "        \n",
       "    \n",
       "            marker_ffb0a74fb16af73edf81ee673cf8a82a.bindTooltip(\n",
       "                `&lt;div&gt;\n",
       "                     10歳代\n",
       "                 &lt;/div&gt;`,\n",
       "                {&quot;sticky&quot;: true}\n",
       "            );\n",
       "        \n",
       "    \n",
       "            var marker_4aee88c040339161c1ba47d5d1b8baf5 = L.marker(\n",
       "                [35.830082, 139.97319],\n",
       "                {}\n",
       "            ).addTo(marker_cluster_4c2e71695cd18dfca13b325ffac6471d);\n",
       "        \n",
       "    \n",
       "            marker_4aee88c040339161c1ba47d5d1b8baf5.bindTooltip(\n",
       "                `&lt;div&gt;\n",
       "                     10歳代\n",
       "                 &lt;/div&gt;`,\n",
       "                {&quot;sticky&quot;: true}\n",
       "            );\n",
       "        \n",
       "    \n",
       "            var marker_df4c3604be3e19b95f524f216e9504ba = L.marker(\n",
       "                [35.830082, 139.97319],\n",
       "                {}\n",
       "            ).addTo(marker_cluster_4c2e71695cd18dfca13b325ffac6471d);\n",
       "        \n",
       "    \n",
       "            marker_df4c3604be3e19b95f524f216e9504ba.bindTooltip(\n",
       "                `&lt;div&gt;\n",
       "                     70歳以上\n",
       "                 &lt;/div&gt;`,\n",
       "                {&quot;sticky&quot;: true}\n",
       "            );\n",
       "        \n",
       "    \n",
       "            var marker_4ef1dae369c08fe890ace0ed4b77de97 = L.marker(\n",
       "                [35.830082, 139.97319],\n",
       "                {}\n",
       "            ).addTo(marker_cluster_4c2e71695cd18dfca13b325ffac6471d);\n",
       "        \n",
       "    \n",
       "            marker_4ef1dae369c08fe890ace0ed4b77de97.bindTooltip(\n",
       "                `&lt;div&gt;\n",
       "                     20歳代\n",
       "                 &lt;/div&gt;`,\n",
       "                {&quot;sticky&quot;: true}\n",
       "            );\n",
       "        \n",
       "    \n",
       "            var marker_a602556f5059941aab11695994c70f36 = L.marker(\n",
       "                [35.824383, 139.979614],\n",
       "                {}\n",
       "            ).addTo(marker_cluster_4c2e71695cd18dfca13b325ffac6471d);\n",
       "        \n",
       "    \n",
       "            marker_a602556f5059941aab11695994c70f36.bindTooltip(\n",
       "                `&lt;div&gt;\n",
       "                     10歳未満\n",
       "                 &lt;/div&gt;`,\n",
       "                {&quot;sticky&quot;: true}\n",
       "            );\n",
       "        \n",
       "    \n",
       "            var marker_32cd99e2f1138a142b64fe6f9c0085c7 = L.marker(\n",
       "                [35.832466, 139.974945],\n",
       "                {}\n",
       "            ).addTo(marker_cluster_4c2e71695cd18dfca13b325ffac6471d);\n",
       "        \n",
       "    \n",
       "            marker_32cd99e2f1138a142b64fe6f9c0085c7.bindTooltip(\n",
       "                `&lt;div&gt;\n",
       "                     30歳代\n",
       "                 &lt;/div&gt;`,\n",
       "                {&quot;sticky&quot;: true}\n",
       "            );\n",
       "        \n",
       "    \n",
       "            var marker_e38ee2f70ce7d0b15dd86a2dac9fdf9b = L.marker(\n",
       "                [35.831703, 139.978226],\n",
       "                {}\n",
       "            ).addTo(marker_cluster_4c2e71695cd18dfca13b325ffac6471d);\n",
       "        \n",
       "    \n",
       "            marker_e38ee2f70ce7d0b15dd86a2dac9fdf9b.bindTooltip(\n",
       "                `&lt;div&gt;\n",
       "                     10歳代\n",
       "                 &lt;/div&gt;`,\n",
       "                {&quot;sticky&quot;: true}\n",
       "            );\n",
       "        \n",
       "    \n",
       "            var marker_7ae7a003058699cfcf63c78fb1beeb55 = L.marker(\n",
       "                [35.835472, 139.983551],\n",
       "                {}\n",
       "            ).addTo(marker_cluster_4c2e71695cd18dfca13b325ffac6471d);\n",
       "        \n",
       "    \n",
       "            marker_7ae7a003058699cfcf63c78fb1beeb55.bindTooltip(\n",
       "                `&lt;div&gt;\n",
       "                     30歳代\n",
       "                 &lt;/div&gt;`,\n",
       "                {&quot;sticky&quot;: true}\n",
       "            );\n",
       "        \n",
       "    \n",
       "            var marker_bab6c2f7cd425a5f1766f80e67afaaea = L.marker(\n",
       "                [35.829124, 139.986633],\n",
       "                {}\n",
       "            ).addTo(marker_cluster_4c2e71695cd18dfca13b325ffac6471d);\n",
       "        \n",
       "    \n",
       "            marker_bab6c2f7cd425a5f1766f80e67afaaea.bindTooltip(\n",
       "                `&lt;div&gt;\n",
       "                     10歳代\n",
       "                 &lt;/div&gt;`,\n",
       "                {&quot;sticky&quot;: true}\n",
       "            );\n",
       "        \n",
       "    \n",
       "            var marker_4ba6a3ee4bf9be60174d386e9267eaa2 = L.marker(\n",
       "                [35.824703, 139.974731],\n",
       "                {}\n",
       "            ).addTo(marker_cluster_4c2e71695cd18dfca13b325ffac6471d);\n",
       "        \n",
       "    \n",
       "            marker_4ba6a3ee4bf9be60174d386e9267eaa2.bindTooltip(\n",
       "                `&lt;div&gt;\n",
       "                     60-64歳\n",
       "                 &lt;/div&gt;`,\n",
       "                {&quot;sticky&quot;: true}\n",
       "            );\n",
       "        \n",
       "    \n",
       "            var marker_495e66946e050703f4ea72b591916355 = L.marker(\n",
       "                [35.824703, 139.974731],\n",
       "                {}\n",
       "            ).addTo(marker_cluster_4c2e71695cd18dfca13b325ffac6471d);\n",
       "        \n",
       "    \n",
       "            marker_495e66946e050703f4ea72b591916355.bindTooltip(\n",
       "                `&lt;div&gt;\n",
       "                     20歳代\n",
       "                 &lt;/div&gt;`,\n",
       "                {&quot;sticky&quot;: true}\n",
       "            );\n",
       "        \n",
       "    \n",
       "            var marker_a9a0f6c3de992a728affda7252edda88 = L.marker(\n",
       "                [35.821732, 139.973206],\n",
       "                {}\n",
       "            ).addTo(marker_cluster_4c2e71695cd18dfca13b325ffac6471d);\n",
       "        \n",
       "    \n",
       "            marker_a9a0f6c3de992a728affda7252edda88.bindTooltip(\n",
       "                `&lt;div&gt;\n",
       "                     10歳代\n",
       "                 &lt;/div&gt;`,\n",
       "                {&quot;sticky&quot;: true}\n",
       "            );\n",
       "        \n",
       "    \n",
       "            var marker_b57e23f2bd87b3fd241a42cfe6577a72 = L.marker(\n",
       "                [35.821732, 139.973206],\n",
       "                {}\n",
       "            ).addTo(marker_cluster_4c2e71695cd18dfca13b325ffac6471d);\n",
       "        \n",
       "    \n",
       "            marker_b57e23f2bd87b3fd241a42cfe6577a72.bindTooltip(\n",
       "                `&lt;div&gt;\n",
       "                     10歳代\n",
       "                 &lt;/div&gt;`,\n",
       "                {&quot;sticky&quot;: true}\n",
       "            );\n",
       "        \n",
       "    \n",
       "            var marker_1080082fdbbcb84e24ea152246854c5b = L.marker(\n",
       "                [35.850155, 140.00441],\n",
       "                {}\n",
       "            ).addTo(marker_cluster_4c2e71695cd18dfca13b325ffac6471d);\n",
       "        \n",
       "    \n",
       "            marker_1080082fdbbcb84e24ea152246854c5b.bindTooltip(\n",
       "                `&lt;div&gt;\n",
       "                     10歳代\n",
       "                 &lt;/div&gt;`,\n",
       "                {&quot;sticky&quot;: true}\n",
       "            );\n",
       "        \n",
       "    \n",
       "            var marker_c5f53b2d2214181e6c33afb94b70e427 = L.marker(\n",
       "                [35.850155, 140.00441],\n",
       "                {}\n",
       "            ).addTo(marker_cluster_4c2e71695cd18dfca13b325ffac6471d);\n",
       "        \n",
       "    \n",
       "            marker_c5f53b2d2214181e6c33afb94b70e427.bindTooltip(\n",
       "                `&lt;div&gt;\n",
       "                     30歳代\n",
       "                 &lt;/div&gt;`,\n",
       "                {&quot;sticky&quot;: true}\n",
       "            );\n",
       "        \n",
       "    \n",
       "            var marker_6bfe0a05586eeee3d77f85816d04520c = L.marker(\n",
       "                [35.835773, 140.012802],\n",
       "                {}\n",
       "            ).addTo(marker_cluster_4c2e71695cd18dfca13b325ffac6471d);\n",
       "        \n",
       "    \n",
       "            marker_6bfe0a05586eeee3d77f85816d04520c.bindTooltip(\n",
       "                `&lt;div&gt;\n",
       "                     10歳代\n",
       "                 &lt;/div&gt;`,\n",
       "                {&quot;sticky&quot;: true}\n",
       "            );\n",
       "        \n",
       "    \n",
       "            var marker_6ba1c62767338fb55df772c597ee6e45 = L.marker(\n",
       "                [35.835773, 140.012802],\n",
       "                {}\n",
       "            ).addTo(marker_cluster_4c2e71695cd18dfca13b325ffac6471d);\n",
       "        \n",
       "    \n",
       "            marker_6ba1c62767338fb55df772c597ee6e45.bindTooltip(\n",
       "                `&lt;div&gt;\n",
       "                     20歳代\n",
       "                 &lt;/div&gt;`,\n",
       "                {&quot;sticky&quot;: true}\n",
       "            );\n",
       "        \n",
       "    \n",
       "            var marker_4f74a191a9c58a5277bf343bd9e5bc3b = L.marker(\n",
       "                [35.833759, 140.011703],\n",
       "                {}\n",
       "            ).addTo(marker_cluster_4c2e71695cd18dfca13b325ffac6471d);\n",
       "        \n",
       "    \n",
       "            marker_4f74a191a9c58a5277bf343bd9e5bc3b.bindTooltip(\n",
       "                `&lt;div&gt;\n",
       "                     10歳代\n",
       "                 &lt;/div&gt;`,\n",
       "                {&quot;sticky&quot;: true}\n",
       "            );\n",
       "        \n",
       "    \n",
       "            var marker_531fd0620ba05da0a52f3d80c962b4c7 = L.marker(\n",
       "                [35.833759, 140.011703],\n",
       "                {}\n",
       "            ).addTo(marker_cluster_4c2e71695cd18dfca13b325ffac6471d);\n",
       "        \n",
       "    \n",
       "            marker_531fd0620ba05da0a52f3d80c962b4c7.bindTooltip(\n",
       "                `&lt;div&gt;\n",
       "                     10歳代\n",
       "                 &lt;/div&gt;`,\n",
       "                {&quot;sticky&quot;: true}\n",
       "            );\n",
       "        \n",
       "    \n",
       "            var marker_9b4eef110327c15289f4b9793ca41143 = L.marker(\n",
       "                [35.833759, 140.011703],\n",
       "                {}\n",
       "            ).addTo(marker_cluster_4c2e71695cd18dfca13b325ffac6471d);\n",
       "        \n",
       "    \n",
       "            marker_9b4eef110327c15289f4b9793ca41143.bindTooltip(\n",
       "                `&lt;div&gt;\n",
       "                     20歳代\n",
       "                 &lt;/div&gt;`,\n",
       "                {&quot;sticky&quot;: true}\n",
       "            );\n",
       "        \n",
       "    \n",
       "            var marker_f3a4ce47ee3acc9072737e32f3f927c7 = L.marker(\n",
       "                [35.833759, 140.011703],\n",
       "                {}\n",
       "            ).addTo(marker_cluster_4c2e71695cd18dfca13b325ffac6471d);\n",
       "        \n",
       "    \n",
       "            marker_f3a4ce47ee3acc9072737e32f3f927c7.bindTooltip(\n",
       "                `&lt;div&gt;\n",
       "                     20歳代\n",
       "                 &lt;/div&gt;`,\n",
       "                {&quot;sticky&quot;: true}\n",
       "            );\n",
       "        \n",
       "    \n",
       "            var marker_9a5be5960ca06de40d1ba39692e8bdd0 = L.marker(\n",
       "                [35.833759, 140.011703],\n",
       "                {}\n",
       "            ).addTo(marker_cluster_4c2e71695cd18dfca13b325ffac6471d);\n",
       "        \n",
       "    \n",
       "            marker_9a5be5960ca06de40d1ba39692e8bdd0.bindTooltip(\n",
       "                `&lt;div&gt;\n",
       "                     10歳代\n",
       "                 &lt;/div&gt;`,\n",
       "                {&quot;sticky&quot;: true}\n",
       "            );\n",
       "        \n",
       "    \n",
       "            var marker_1c44bbbaca3f97cdc97cddb3dc074b47 = L.marker(\n",
       "                [35.833759, 140.011703],\n",
       "                {}\n",
       "            ).addTo(marker_cluster_4c2e71695cd18dfca13b325ffac6471d);\n",
       "        \n",
       "    \n",
       "            marker_1c44bbbaca3f97cdc97cddb3dc074b47.bindTooltip(\n",
       "                `&lt;div&gt;\n",
       "                     10歳代\n",
       "                 &lt;/div&gt;`,\n",
       "                {&quot;sticky&quot;: true}\n",
       "            );\n",
       "        \n",
       "    \n",
       "            var marker_3f5c0f79d482d520660aacb9eb2715b3 = L.marker(\n",
       "                [35.833759, 140.011703],\n",
       "                {}\n",
       "            ).addTo(marker_cluster_4c2e71695cd18dfca13b325ffac6471d);\n",
       "        \n",
       "    \n",
       "            marker_3f5c0f79d482d520660aacb9eb2715b3.bindTooltip(\n",
       "                `&lt;div&gt;\n",
       "                     10歳代\n",
       "                 &lt;/div&gt;`,\n",
       "                {&quot;sticky&quot;: true}\n",
       "            );\n",
       "        \n",
       "    \n",
       "            var marker_397c5e098a79a136a9a002af7b8d9bde = L.marker(\n",
       "                [35.833759, 140.011703],\n",
       "                {}\n",
       "            ).addTo(marker_cluster_4c2e71695cd18dfca13b325ffac6471d);\n",
       "        \n",
       "    \n",
       "            marker_397c5e098a79a136a9a002af7b8d9bde.bindTooltip(\n",
       "                `&lt;div&gt;\n",
       "                     10歳代\n",
       "                 &lt;/div&gt;`,\n",
       "                {&quot;sticky&quot;: true}\n",
       "            );\n",
       "        \n",
       "    \n",
       "            var marker_86911d99a0aae29b423205c5ee1af6df = L.marker(\n",
       "                [35.833759, 140.011703],\n",
       "                {}\n",
       "            ).addTo(marker_cluster_4c2e71695cd18dfca13b325ffac6471d);\n",
       "        \n",
       "    \n",
       "            marker_86911d99a0aae29b423205c5ee1af6df.bindTooltip(\n",
       "                `&lt;div&gt;\n",
       "                     10歳代\n",
       "                 &lt;/div&gt;`,\n",
       "                {&quot;sticky&quot;: true}\n",
       "            );\n",
       "        \n",
       "    \n",
       "            var marker_98a74ce8b1f9208b907256099c975bae = L.marker(\n",
       "                [35.833759, 140.011703],\n",
       "                {}\n",
       "            ).addTo(marker_cluster_4c2e71695cd18dfca13b325ffac6471d);\n",
       "        \n",
       "    \n",
       "            marker_98a74ce8b1f9208b907256099c975bae.bindTooltip(\n",
       "                `&lt;div&gt;\n",
       "                     10歳代\n",
       "                 &lt;/div&gt;`,\n",
       "                {&quot;sticky&quot;: true}\n",
       "            );\n",
       "        \n",
       "    \n",
       "            var marker_29d8741f1173b448355d275c4d541838 = L.marker(\n",
       "                [35.833759, 140.011703],\n",
       "                {}\n",
       "            ).addTo(marker_cluster_4c2e71695cd18dfca13b325ffac6471d);\n",
       "        \n",
       "    \n",
       "            marker_29d8741f1173b448355d275c4d541838.bindTooltip(\n",
       "                `&lt;div&gt;\n",
       "                     10歳代\n",
       "                 &lt;/div&gt;`,\n",
       "                {&quot;sticky&quot;: true}\n",
       "            );\n",
       "        \n",
       "    \n",
       "            var marker_7e242ca5b602ff927e750120a59da78d = L.marker(\n",
       "                [35.84325, 140.003662],\n",
       "                {}\n",
       "            ).addTo(marker_cluster_4c2e71695cd18dfca13b325ffac6471d);\n",
       "        \n",
       "    \n",
       "            marker_7e242ca5b602ff927e750120a59da78d.bindTooltip(\n",
       "                `&lt;div&gt;\n",
       "                     法人・団体、被害者なし\n",
       "                 &lt;/div&gt;`,\n",
       "                {&quot;sticky&quot;: true}\n",
       "            );\n",
       "        \n",
       "    \n",
       "            var marker_0ca07fa5c201afb75dd970a7a3176c23 = L.marker(\n",
       "                [35.841068, 139.999237],\n",
       "                {}\n",
       "            ).addTo(marker_cluster_4c2e71695cd18dfca13b325ffac6471d);\n",
       "        \n",
       "    \n",
       "            marker_0ca07fa5c201afb75dd970a7a3176c23.bindTooltip(\n",
       "                `&lt;div&gt;\n",
       "                     40歳代\n",
       "                 &lt;/div&gt;`,\n",
       "                {&quot;sticky&quot;: true}\n",
       "            );\n",
       "        \n",
       "    \n",
       "            var marker_f3afc2f05fe56a5ec35478af8375a3c6 = L.marker(\n",
       "                [35.841068, 139.999237],\n",
       "                {}\n",
       "            ).addTo(marker_cluster_4c2e71695cd18dfca13b325ffac6471d);\n",
       "        \n",
       "    \n",
       "            marker_f3afc2f05fe56a5ec35478af8375a3c6.bindTooltip(\n",
       "                `&lt;div&gt;\n",
       "                     10歳代\n",
       "                 &lt;/div&gt;`,\n",
       "                {&quot;sticky&quot;: true}\n",
       "            );\n",
       "        \n",
       "    \n",
       "            var marker_0b257697941864e4a385462ee12e0843 = L.marker(\n",
       "                [35.841068, 139.999237],\n",
       "                {}\n",
       "            ).addTo(marker_cluster_4c2e71695cd18dfca13b325ffac6471d);\n",
       "        \n",
       "    \n",
       "            marker_0b257697941864e4a385462ee12e0843.bindTooltip(\n",
       "                `&lt;div&gt;\n",
       "                     10歳代\n",
       "                 &lt;/div&gt;`,\n",
       "                {&quot;sticky&quot;: true}\n",
       "            );\n",
       "        \n",
       "    \n",
       "            var marker_788ca93fc5a03e778feb2fe95d3bad95 = L.marker(\n",
       "                [35.840942, 139.995621],\n",
       "                {}\n",
       "            ).addTo(marker_cluster_4c2e71695cd18dfca13b325ffac6471d);\n",
       "        \n",
       "    \n",
       "            marker_788ca93fc5a03e778feb2fe95d3bad95.bindTooltip(\n",
       "                `&lt;div&gt;\n",
       "                     10歳代\n",
       "                 &lt;/div&gt;`,\n",
       "                {&quot;sticky&quot;: true}\n",
       "            );\n",
       "        \n",
       "    \n",
       "            var marker_352b4bbe87713788d8acb2614e6fb804 = L.marker(\n",
       "                [35.840942, 139.995621],\n",
       "                {}\n",
       "            ).addTo(marker_cluster_4c2e71695cd18dfca13b325ffac6471d);\n",
       "        \n",
       "    \n",
       "            marker_352b4bbe87713788d8acb2614e6fb804.bindTooltip(\n",
       "                `&lt;div&gt;\n",
       "                     10歳代\n",
       "                 &lt;/div&gt;`,\n",
       "                {&quot;sticky&quot;: true}\n",
       "            );\n",
       "        \n",
       "    \n",
       "            var marker_d84c403e7e1b2e92e08af288abbf7667 = L.marker(\n",
       "                [35.837143, 140.002502],\n",
       "                {}\n",
       "            ).addTo(marker_cluster_4c2e71695cd18dfca13b325ffac6471d);\n",
       "        \n",
       "    \n",
       "            marker_d84c403e7e1b2e92e08af288abbf7667.bindTooltip(\n",
       "                `&lt;div&gt;\n",
       "                     50歳代\n",
       "                 &lt;/div&gt;`,\n",
       "                {&quot;sticky&quot;: true}\n",
       "            );\n",
       "        \n",
       "    \n",
       "            var marker_53855d47ffdf1ec49d9d5a375755a770 = L.marker(\n",
       "                [35.837143, 140.002502],\n",
       "                {}\n",
       "            ).addTo(marker_cluster_4c2e71695cd18dfca13b325ffac6471d);\n",
       "        \n",
       "    \n",
       "            marker_53855d47ffdf1ec49d9d5a375755a770.bindTooltip(\n",
       "                `&lt;div&gt;\n",
       "                     20歳代\n",
       "                 &lt;/div&gt;`,\n",
       "                {&quot;sticky&quot;: true}\n",
       "            );\n",
       "        \n",
       "    \n",
       "            var marker_6b705a8538a35f31b4ef1a53991ee9bc = L.marker(\n",
       "                [35.837143, 140.002502],\n",
       "                {}\n",
       "            ).addTo(marker_cluster_4c2e71695cd18dfca13b325ffac6471d);\n",
       "        \n",
       "    \n",
       "            marker_6b705a8538a35f31b4ef1a53991ee9bc.bindTooltip(\n",
       "                `&lt;div&gt;\n",
       "                     10歳代\n",
       "                 &lt;/div&gt;`,\n",
       "                {&quot;sticky&quot;: true}\n",
       "            );\n",
       "        \n",
       "    \n",
       "            var marker_c75e664dbb0b53d55c2751215fcdcd24 = L.marker(\n",
       "                [35.837143, 140.002502],\n",
       "                {}\n",
       "            ).addTo(marker_cluster_4c2e71695cd18dfca13b325ffac6471d);\n",
       "        \n",
       "    \n",
       "            marker_c75e664dbb0b53d55c2751215fcdcd24.bindTooltip(\n",
       "                `&lt;div&gt;\n",
       "                     20歳代\n",
       "                 &lt;/div&gt;`,\n",
       "                {&quot;sticky&quot;: true}\n",
       "            );\n",
       "        \n",
       "    \n",
       "            var marker_fe634250f469877f769d4b5207980a3b = L.marker(\n",
       "                [35.848038, 140.016342],\n",
       "                {}\n",
       "            ).addTo(marker_cluster_4c2e71695cd18dfca13b325ffac6471d);\n",
       "        \n",
       "    \n",
       "            marker_fe634250f469877f769d4b5207980a3b.bindTooltip(\n",
       "                `&lt;div&gt;\n",
       "                     40歳代\n",
       "                 &lt;/div&gt;`,\n",
       "                {&quot;sticky&quot;: true}\n",
       "            );\n",
       "        \n",
       "    \n",
       "            var marker_031d1b17c11a030d089a83ae95debdb9 = L.marker(\n",
       "                [35.834927, 139.996063],\n",
       "                {}\n",
       "            ).addTo(marker_cluster_4c2e71695cd18dfca13b325ffac6471d);\n",
       "        \n",
       "    \n",
       "            marker_031d1b17c11a030d089a83ae95debdb9.bindTooltip(\n",
       "                `&lt;div&gt;\n",
       "                     10歳代\n",
       "                 &lt;/div&gt;`,\n",
       "                {&quot;sticky&quot;: true}\n",
       "            );\n",
       "        \n",
       "    \n",
       "            var marker_e8919b0292cc08c8a412963d5240df85 = L.marker(\n",
       "                [35.846394, 140.026993],\n",
       "                {}\n",
       "            ).addTo(marker_cluster_4c2e71695cd18dfca13b325ffac6471d);\n",
       "        \n",
       "    \n",
       "            marker_e8919b0292cc08c8a412963d5240df85.bindTooltip(\n",
       "                `&lt;div&gt;\n",
       "                     10歳代\n",
       "                 &lt;/div&gt;`,\n",
       "                {&quot;sticky&quot;: true}\n",
       "            );\n",
       "        \n",
       "    \n",
       "            var marker_3db49f833b6cf7f6c6edcfb5d45a48bf = L.marker(\n",
       "                [35.891518, 139.992828],\n",
       "                {}\n",
       "            ).addTo(marker_cluster_4c2e71695cd18dfca13b325ffac6471d);\n",
       "        \n",
       "    \n",
       "            marker_3db49f833b6cf7f6c6edcfb5d45a48bf.bindTooltip(\n",
       "                `&lt;div&gt;\n",
       "                     30歳代\n",
       "                 &lt;/div&gt;`,\n",
       "                {&quot;sticky&quot;: true}\n",
       "            );\n",
       "        \n",
       "    \n",
       "            var marker_71cea3c2722c0175e1c3384cc1bb4057 = L.marker(\n",
       "                [35.835949, 139.968262],\n",
       "                {}\n",
       "            ).addTo(marker_cluster_4c2e71695cd18dfca13b325ffac6471d);\n",
       "        \n",
       "    \n",
       "            marker_71cea3c2722c0175e1c3384cc1bb4057.bindTooltip(\n",
       "                `&lt;div&gt;\n",
       "                     10歳代\n",
       "                 &lt;/div&gt;`,\n",
       "                {&quot;sticky&quot;: true}\n",
       "            );\n",
       "        \n",
       "    \n",
       "            var marker_8b4f75bc1b5826c930b50f9accea320e = L.marker(\n",
       "                [35.83136, 139.96756],\n",
       "                {}\n",
       "            ).addTo(marker_cluster_4c2e71695cd18dfca13b325ffac6471d);\n",
       "        \n",
       "    \n",
       "            marker_8b4f75bc1b5826c930b50f9accea320e.bindTooltip(\n",
       "                `&lt;div&gt;\n",
       "                     20歳代\n",
       "                 &lt;/div&gt;`,\n",
       "                {&quot;sticky&quot;: true}\n",
       "            );\n",
       "        \n",
       "    \n",
       "            var marker_701e30310482ae4f8f626758a5074f03 = L.marker(\n",
       "                [35.84692, 139.967072],\n",
       "                {}\n",
       "            ).addTo(marker_cluster_4c2e71695cd18dfca13b325ffac6471d);\n",
       "        \n",
       "    \n",
       "            marker_701e30310482ae4f8f626758a5074f03.bindTooltip(\n",
       "                `&lt;div&gt;\n",
       "                     30歳代\n",
       "                 &lt;/div&gt;`,\n",
       "                {&quot;sticky&quot;: true}\n",
       "            );\n",
       "        \n",
       "    \n",
       "            var marker_9ff386e7aa0ee5fb54372ce5c5f529f8 = L.marker(\n",
       "                [35.838268, 139.963547],\n",
       "                {}\n",
       "            ).addTo(marker_cluster_4c2e71695cd18dfca13b325ffac6471d);\n",
       "        \n",
       "    \n",
       "            marker_9ff386e7aa0ee5fb54372ce5c5f529f8.bindTooltip(\n",
       "                `&lt;div&gt;\n",
       "                     10歳未満\n",
       "                 &lt;/div&gt;`,\n",
       "                {&quot;sticky&quot;: true}\n",
       "            );\n",
       "        \n",
       "    \n",
       "            var marker_73452145fd35fa6cddf928fa421469b1 = L.marker(\n",
       "                [35.838268, 139.963547],\n",
       "                {}\n",
       "            ).addTo(marker_cluster_4c2e71695cd18dfca13b325ffac6471d);\n",
       "        \n",
       "    \n",
       "            marker_73452145fd35fa6cddf928fa421469b1.bindTooltip(\n",
       "                `&lt;div&gt;\n",
       "                     40歳代\n",
       "                 &lt;/div&gt;`,\n",
       "                {&quot;sticky&quot;: true}\n",
       "            );\n",
       "        \n",
       "    \n",
       "            var marker_742c1992582beac6d9d304d3a7f2ed91 = L.marker(\n",
       "                [35.838268, 139.963547],\n",
       "                {}\n",
       "            ).addTo(marker_cluster_4c2e71695cd18dfca13b325ffac6471d);\n",
       "        \n",
       "    \n",
       "            marker_742c1992582beac6d9d304d3a7f2ed91.bindTooltip(\n",
       "                `&lt;div&gt;\n",
       "                     10歳未満\n",
       "                 &lt;/div&gt;`,\n",
       "                {&quot;sticky&quot;: true}\n",
       "            );\n",
       "        \n",
       "    \n",
       "            var marker_bad830adb92150db2301c3ade94f98c4 = L.marker(\n",
       "                [35.842236, 139.965775],\n",
       "                {}\n",
       "            ).addTo(marker_cluster_4c2e71695cd18dfca13b325ffac6471d);\n",
       "        \n",
       "    \n",
       "            marker_bad830adb92150db2301c3ade94f98c4.bindTooltip(\n",
       "                `&lt;div&gt;\n",
       "                     70歳以上\n",
       "                 &lt;/div&gt;`,\n",
       "                {&quot;sticky&quot;: true}\n",
       "            );\n",
       "        \n",
       "    \n",
       "            var marker_7ae7cae1be4281f07892c28b3685d86a = L.marker(\n",
       "                [35.840786, 139.966721],\n",
       "                {}\n",
       "            ).addTo(marker_cluster_4c2e71695cd18dfca13b325ffac6471d);\n",
       "        \n",
       "    \n",
       "            marker_7ae7cae1be4281f07892c28b3685d86a.bindTooltip(\n",
       "                `&lt;div&gt;\n",
       "                     40歳代\n",
       "                 &lt;/div&gt;`,\n",
       "                {&quot;sticky&quot;: true}\n",
       "            );\n",
       "        \n",
       "    \n",
       "            var marker_53a7dffdc3b696ba4dcefb813ac9fc59 = L.marker(\n",
       "                [35.840786, 139.966721],\n",
       "                {}\n",
       "            ).addTo(marker_cluster_4c2e71695cd18dfca13b325ffac6471d);\n",
       "        \n",
       "    \n",
       "            marker_53a7dffdc3b696ba4dcefb813ac9fc59.bindTooltip(\n",
       "                `&lt;div&gt;\n",
       "                     40歳代\n",
       "                 &lt;/div&gt;`,\n",
       "                {&quot;sticky&quot;: true}\n",
       "            );\n",
       "        \n",
       "    \n",
       "            var marker_1bfe1709280da2d73bda02b8cedd470c = L.marker(\n",
       "                [35.843285, 139.981064],\n",
       "                {}\n",
       "            ).addTo(marker_cluster_4c2e71695cd18dfca13b325ffac6471d);\n",
       "        \n",
       "    \n",
       "            marker_1bfe1709280da2d73bda02b8cedd470c.bindTooltip(\n",
       "                `&lt;div&gt;\n",
       "                     20歳代\n",
       "                 &lt;/div&gt;`,\n",
       "                {&quot;sticky&quot;: true}\n",
       "            );\n",
       "        \n",
       "    \n",
       "            var marker_edfa872a108664d010fe94b23925df0b = L.marker(\n",
       "                [35.845604, 139.976089],\n",
       "                {}\n",
       "            ).addTo(marker_cluster_4c2e71695cd18dfca13b325ffac6471d);\n",
       "        \n",
       "    \n",
       "            marker_edfa872a108664d010fe94b23925df0b.bindTooltip(\n",
       "                `&lt;div&gt;\n",
       "                     20歳代\n",
       "                 &lt;/div&gt;`,\n",
       "                {&quot;sticky&quot;: true}\n",
       "            );\n",
       "        \n",
       "    \n",
       "            var marker_0f51c09c17a2a3f5c3c731ded4e75e58 = L.marker(\n",
       "                [35.839211, 139.968597],\n",
       "                {}\n",
       "            ).addTo(marker_cluster_4c2e71695cd18dfca13b325ffac6471d);\n",
       "        \n",
       "    \n",
       "            marker_0f51c09c17a2a3f5c3c731ded4e75e58.bindTooltip(\n",
       "                `&lt;div&gt;\n",
       "                     30歳代\n",
       "                 &lt;/div&gt;`,\n",
       "                {&quot;sticky&quot;: true}\n",
       "            );\n",
       "        \n",
       "    \n",
       "            var marker_fc479718dcca520c7a8e11f3e0251f9f = L.marker(\n",
       "                [35.841667, 139.972061],\n",
       "                {}\n",
       "            ).addTo(marker_cluster_4c2e71695cd18dfca13b325ffac6471d);\n",
       "        \n",
       "    \n",
       "            marker_fc479718dcca520c7a8e11f3e0251f9f.bindTooltip(\n",
       "                `&lt;div&gt;\n",
       "                     20歳代\n",
       "                 &lt;/div&gt;`,\n",
       "                {&quot;sticky&quot;: true}\n",
       "            );\n",
       "        \n",
       "    \n",
       "            var marker_8b2fedc0c3bc5680402bd830ae3f9a7c = L.marker(\n",
       "                [35.867088, 139.963196],\n",
       "                {}\n",
       "            ).addTo(marker_cluster_4c2e71695cd18dfca13b325ffac6471d);\n",
       "        \n",
       "    \n",
       "            marker_8b2fedc0c3bc5680402bd830ae3f9a7c.bindTooltip(\n",
       "                `&lt;div&gt;\n",
       "                     10歳代\n",
       "                 &lt;/div&gt;`,\n",
       "                {&quot;sticky&quot;: true}\n",
       "            );\n",
       "        \n",
       "    \n",
       "            var marker_d6ed62fbf84afd671d51e098c4804768 = L.marker(\n",
       "                [35.867088, 139.963196],\n",
       "                {}\n",
       "            ).addTo(marker_cluster_4c2e71695cd18dfca13b325ffac6471d);\n",
       "        \n",
       "    \n",
       "            marker_d6ed62fbf84afd671d51e098c4804768.bindTooltip(\n",
       "                `&lt;div&gt;\n",
       "                     10歳代\n",
       "                 &lt;/div&gt;`,\n",
       "                {&quot;sticky&quot;: true}\n",
       "            );\n",
       "        \n",
       "    \n",
       "            var marker_72e7a9bbd347c6f380580a01ea8e684f = L.marker(\n",
       "                [35.867088, 139.963196],\n",
       "                {}\n",
       "            ).addTo(marker_cluster_4c2e71695cd18dfca13b325ffac6471d);\n",
       "        \n",
       "    \n",
       "            marker_72e7a9bbd347c6f380580a01ea8e684f.bindTooltip(\n",
       "                `&lt;div&gt;\n",
       "                     10歳代\n",
       "                 &lt;/div&gt;`,\n",
       "                {&quot;sticky&quot;: true}\n",
       "            );\n",
       "        \n",
       "    \n",
       "            var marker_d25a0153f67a71dbfc6838f8191d0875 = L.marker(\n",
       "                [35.867088, 139.963196],\n",
       "                {}\n",
       "            ).addTo(marker_cluster_4c2e71695cd18dfca13b325ffac6471d);\n",
       "        \n",
       "    \n",
       "            marker_d25a0153f67a71dbfc6838f8191d0875.bindTooltip(\n",
       "                `&lt;div&gt;\n",
       "                     10歳代\n",
       "                 &lt;/div&gt;`,\n",
       "                {&quot;sticky&quot;: true}\n",
       "            );\n",
       "        \n",
       "    \n",
       "            var marker_49e944713986add8226af111729d1e26 = L.marker(\n",
       "                [35.867088, 139.963196],\n",
       "                {}\n",
       "            ).addTo(marker_cluster_4c2e71695cd18dfca13b325ffac6471d);\n",
       "        \n",
       "    \n",
       "            marker_49e944713986add8226af111729d1e26.bindTooltip(\n",
       "                `&lt;div&gt;\n",
       "                     10歳代\n",
       "                 &lt;/div&gt;`,\n",
       "                {&quot;sticky&quot;: true}\n",
       "            );\n",
       "        \n",
       "    \n",
       "            var marker_f298decf2f837e10165cb6737c427ad8 = L.marker(\n",
       "                [35.864574, 139.962662],\n",
       "                {}\n",
       "            ).addTo(marker_cluster_4c2e71695cd18dfca13b325ffac6471d);\n",
       "        \n",
       "    \n",
       "            marker_f298decf2f837e10165cb6737c427ad8.bindTooltip(\n",
       "                `&lt;div&gt;\n",
       "                     20歳代\n",
       "                 &lt;/div&gt;`,\n",
       "                {&quot;sticky&quot;: true}\n",
       "            );\n",
       "        \n",
       "    \n",
       "            var marker_3ae8943aa4c4471df95d51fd15282feb = L.marker(\n",
       "                [35.864574, 139.962662],\n",
       "                {}\n",
       "            ).addTo(marker_cluster_4c2e71695cd18dfca13b325ffac6471d);\n",
       "        \n",
       "    \n",
       "            marker_3ae8943aa4c4471df95d51fd15282feb.bindTooltip(\n",
       "                `&lt;div&gt;\n",
       "                     20歳代\n",
       "                 &lt;/div&gt;`,\n",
       "                {&quot;sticky&quot;: true}\n",
       "            );\n",
       "        \n",
       "    \n",
       "            var marker_ca91f61ab9a0b7d041b7967006abc427 = L.marker(\n",
       "                [35.865929, 139.971985],\n",
       "                {}\n",
       "            ).addTo(marker_cluster_4c2e71695cd18dfca13b325ffac6471d);\n",
       "        \n",
       "    \n",
       "            marker_ca91f61ab9a0b7d041b7967006abc427.bindTooltip(\n",
       "                `&lt;div&gt;\n",
       "                     65-69歳\n",
       "                 &lt;/div&gt;`,\n",
       "                {&quot;sticky&quot;: true}\n",
       "            );\n",
       "        \n",
       "    \n",
       "            var marker_7ef4f54cff07ff7a1ac58cd1995784bd = L.marker(\n",
       "                [35.868034, 139.974197],\n",
       "                {}\n",
       "            ).addTo(marker_cluster_4c2e71695cd18dfca13b325ffac6471d);\n",
       "        \n",
       "    \n",
       "            marker_7ef4f54cff07ff7a1ac58cd1995784bd.bindTooltip(\n",
       "                `&lt;div&gt;\n",
       "                     30歳代\n",
       "                 &lt;/div&gt;`,\n",
       "                {&quot;sticky&quot;: true}\n",
       "            );\n",
       "        \n",
       "    \n",
       "            var marker_a48159cbe0ec3e82d5b7e2f46076f055 = L.marker(\n",
       "                [35.868034, 139.974197],\n",
       "                {}\n",
       "            ).addTo(marker_cluster_4c2e71695cd18dfca13b325ffac6471d);\n",
       "        \n",
       "    \n",
       "            marker_a48159cbe0ec3e82d5b7e2f46076f055.bindTooltip(\n",
       "                `&lt;div&gt;\n",
       "                     20歳代\n",
       "                 &lt;/div&gt;`,\n",
       "                {&quot;sticky&quot;: true}\n",
       "            );\n",
       "        \n",
       "    \n",
       "            var marker_c8601c6ce72ffc83f4eacdd5e9f6864e = L.marker(\n",
       "                [35.869129, 139.971756],\n",
       "                {}\n",
       "            ).addTo(marker_cluster_4c2e71695cd18dfca13b325ffac6471d);\n",
       "        \n",
       "    \n",
       "            marker_c8601c6ce72ffc83f4eacdd5e9f6864e.bindTooltip(\n",
       "                `&lt;div&gt;\n",
       "                     20歳代\n",
       "                 &lt;/div&gt;`,\n",
       "                {&quot;sticky&quot;: true}\n",
       "            );\n",
       "        \n",
       "    \n",
       "            var marker_d5949c91276e9679daaab166f0029b79 = L.marker(\n",
       "                [35.869129, 139.971756],\n",
       "                {}\n",
       "            ).addTo(marker_cluster_4c2e71695cd18dfca13b325ffac6471d);\n",
       "        \n",
       "    \n",
       "            marker_d5949c91276e9679daaab166f0029b79.bindTooltip(\n",
       "                `&lt;div&gt;\n",
       "                     30歳代\n",
       "                 &lt;/div&gt;`,\n",
       "                {&quot;sticky&quot;: true}\n",
       "            );\n",
       "        \n",
       "    \n",
       "            var marker_ff48c114a1ce95da53ffa5ce39f330ac = L.marker(\n",
       "                [35.866798, 139.968948],\n",
       "                {}\n",
       "            ).addTo(marker_cluster_4c2e71695cd18dfca13b325ffac6471d);\n",
       "        \n",
       "    \n",
       "            marker_ff48c114a1ce95da53ffa5ce39f330ac.bindTooltip(\n",
       "                `&lt;div&gt;\n",
       "                     20歳代\n",
       "                 &lt;/div&gt;`,\n",
       "                {&quot;sticky&quot;: true}\n",
       "            );\n",
       "        \n",
       "    \n",
       "            var marker_436b5111949a7472465ce9f3aabb21a3 = L.marker(\n",
       "                [35.866798, 139.968948],\n",
       "                {}\n",
       "            ).addTo(marker_cluster_4c2e71695cd18dfca13b325ffac6471d);\n",
       "        \n",
       "    \n",
       "            marker_436b5111949a7472465ce9f3aabb21a3.bindTooltip(\n",
       "                `&lt;div&gt;\n",
       "                     20歳代\n",
       "                 &lt;/div&gt;`,\n",
       "                {&quot;sticky&quot;: true}\n",
       "            );\n",
       "        \n",
       "    \n",
       "            var marker_8936591325a898e373a44cdc450a4248 = L.marker(\n",
       "                [35.866798, 139.968948],\n",
       "                {}\n",
       "            ).addTo(marker_cluster_4c2e71695cd18dfca13b325ffac6471d);\n",
       "        \n",
       "    \n",
       "            marker_8936591325a898e373a44cdc450a4248.bindTooltip(\n",
       "                `&lt;div&gt;\n",
       "                     30歳代\n",
       "                 &lt;/div&gt;`,\n",
       "                {&quot;sticky&quot;: true}\n",
       "            );\n",
       "        \n",
       "    \n",
       "            var marker_d3f73df0cb589af2d766816d5058f096 = L.marker(\n",
       "                [35.869289, 139.967926],\n",
       "                {}\n",
       "            ).addTo(marker_cluster_4c2e71695cd18dfca13b325ffac6471d);\n",
       "        \n",
       "    \n",
       "            marker_d3f73df0cb589af2d766816d5058f096.bindTooltip(\n",
       "                `&lt;div&gt;\n",
       "                     50歳代\n",
       "                 &lt;/div&gt;`,\n",
       "                {&quot;sticky&quot;: true}\n",
       "            );\n",
       "        \n",
       "    \n",
       "            var marker_4af5ee6c02481f654696f29d7bd286bc = L.marker(\n",
       "                [35.861916, 139.968491],\n",
       "                {}\n",
       "            ).addTo(marker_cluster_4c2e71695cd18dfca13b325ffac6471d);\n",
       "        \n",
       "    \n",
       "            marker_4af5ee6c02481f654696f29d7bd286bc.bindTooltip(\n",
       "                `&lt;div&gt;\n",
       "                     50歳代\n",
       "                 &lt;/div&gt;`,\n",
       "                {&quot;sticky&quot;: true}\n",
       "            );\n",
       "        \n",
       "    \n",
       "            var marker_ed87fad28b326dd1a52f97fa35a9da8b = L.marker(\n",
       "                [35.861916, 139.968491],\n",
       "                {}\n",
       "            ).addTo(marker_cluster_4c2e71695cd18dfca13b325ffac6471d);\n",
       "        \n",
       "    \n",
       "            marker_ed87fad28b326dd1a52f97fa35a9da8b.bindTooltip(\n",
       "                `&lt;div&gt;\n",
       "                     20歳代\n",
       "                 &lt;/div&gt;`,\n",
       "                {&quot;sticky&quot;: true}\n",
       "            );\n",
       "        \n",
       "    \n",
       "            var marker_48d45f70dd6f082de5ba4dbe81d232c1 = L.marker(\n",
       "                [35.861916, 139.968491],\n",
       "                {}\n",
       "            ).addTo(marker_cluster_4c2e71695cd18dfca13b325ffac6471d);\n",
       "        \n",
       "    \n",
       "            marker_48d45f70dd6f082de5ba4dbe81d232c1.bindTooltip(\n",
       "                `&lt;div&gt;\n",
       "                     10歳代\n",
       "                 &lt;/div&gt;`,\n",
       "                {&quot;sticky&quot;: true}\n",
       "            );\n",
       "        \n",
       "    \n",
       "            var marker_7f88a5555fefdb468b744c7ead66d33d = L.marker(\n",
       "                [35.861916, 139.968491],\n",
       "                {}\n",
       "            ).addTo(marker_cluster_4c2e71695cd18dfca13b325ffac6471d);\n",
       "        \n",
       "    \n",
       "            marker_7f88a5555fefdb468b744c7ead66d33d.bindTooltip(\n",
       "                `&lt;div&gt;\n",
       "                     30歳代\n",
       "                 &lt;/div&gt;`,\n",
       "                {&quot;sticky&quot;: true}\n",
       "            );\n",
       "        \n",
       "    \n",
       "            var marker_ee3d66420abd149fa3d54d3cc5beda3a = L.marker(\n",
       "                [35.861916, 139.968491],\n",
       "                {}\n",
       "            ).addTo(marker_cluster_4c2e71695cd18dfca13b325ffac6471d);\n",
       "        \n",
       "    \n",
       "            marker_ee3d66420abd149fa3d54d3cc5beda3a.bindTooltip(\n",
       "                `&lt;div&gt;\n",
       "                     20歳代\n",
       "                 &lt;/div&gt;`,\n",
       "                {&quot;sticky&quot;: true}\n",
       "            );\n",
       "        \n",
       "    \n",
       "            var marker_27f173b8a244eee6aecf583a4d2ecce1 = L.marker(\n",
       "                [35.861916, 139.968491],\n",
       "                {}\n",
       "            ).addTo(marker_cluster_4c2e71695cd18dfca13b325ffac6471d);\n",
       "        \n",
       "    \n",
       "            marker_27f173b8a244eee6aecf583a4d2ecce1.bindTooltip(\n",
       "                `&lt;div&gt;\n",
       "                     30歳代\n",
       "                 &lt;/div&gt;`,\n",
       "                {&quot;sticky&quot;: true}\n",
       "            );\n",
       "        \n",
       "    \n",
       "            var marker_71bb26a2f9aea9672c586796cd2e0f8d = L.marker(\n",
       "                [35.861916, 139.968491],\n",
       "                {}\n",
       "            ).addTo(marker_cluster_4c2e71695cd18dfca13b325ffac6471d);\n",
       "        \n",
       "    \n",
       "            marker_71bb26a2f9aea9672c586796cd2e0f8d.bindTooltip(\n",
       "                `&lt;div&gt;\n",
       "                     50歳代\n",
       "                 &lt;/div&gt;`,\n",
       "                {&quot;sticky&quot;: true}\n",
       "            );\n",
       "        \n",
       "    \n",
       "            var marker_078ba157f1cbc33766221c7982f5e598 = L.marker(\n",
       "                [35.861916, 139.968491],\n",
       "                {}\n",
       "            ).addTo(marker_cluster_4c2e71695cd18dfca13b325ffac6471d);\n",
       "        \n",
       "    \n",
       "            marker_078ba157f1cbc33766221c7982f5e598.bindTooltip(\n",
       "                `&lt;div&gt;\n",
       "                     30歳代\n",
       "                 &lt;/div&gt;`,\n",
       "                {&quot;sticky&quot;: true}\n",
       "            );\n",
       "        \n",
       "    \n",
       "            var marker_1d3df777310ec3e474cde57ad6a0895b = L.marker(\n",
       "                [35.861916, 139.968491],\n",
       "                {}\n",
       "            ).addTo(marker_cluster_4c2e71695cd18dfca13b325ffac6471d);\n",
       "        \n",
       "    \n",
       "            marker_1d3df777310ec3e474cde57ad6a0895b.bindTooltip(\n",
       "                `&lt;div&gt;\n",
       "                     10歳代\n",
       "                 &lt;/div&gt;`,\n",
       "                {&quot;sticky&quot;: true}\n",
       "            );\n",
       "        \n",
       "    \n",
       "            var marker_b972bac4ea4b17bdb52ece91399261a2 = L.marker(\n",
       "                [35.858974, 139.962036],\n",
       "                {}\n",
       "            ).addTo(marker_cluster_4c2e71695cd18dfca13b325ffac6471d);\n",
       "        \n",
       "    \n",
       "            marker_b972bac4ea4b17bdb52ece91399261a2.bindTooltip(\n",
       "                `&lt;div&gt;\n",
       "                     10歳代\n",
       "                 &lt;/div&gt;`,\n",
       "                {&quot;sticky&quot;: true}\n",
       "            );\n",
       "        \n",
       "    \n",
       "            var marker_ff8b85a1897a7525f7f8038e71682e72 = L.marker(\n",
       "                [35.858974, 139.962036],\n",
       "                {}\n",
       "            ).addTo(marker_cluster_4c2e71695cd18dfca13b325ffac6471d);\n",
       "        \n",
       "    \n",
       "            marker_ff8b85a1897a7525f7f8038e71682e72.bindTooltip(\n",
       "                `&lt;div&gt;\n",
       "                     20歳代\n",
       "                 &lt;/div&gt;`,\n",
       "                {&quot;sticky&quot;: true}\n",
       "            );\n",
       "        \n",
       "    \n",
       "            var marker_653c7263d78bef452aee50b303af0aa4 = L.marker(\n",
       "                [35.858974, 139.962036],\n",
       "                {}\n",
       "            ).addTo(marker_cluster_4c2e71695cd18dfca13b325ffac6471d);\n",
       "        \n",
       "    \n",
       "            marker_653c7263d78bef452aee50b303af0aa4.bindTooltip(\n",
       "                `&lt;div&gt;\n",
       "                     30歳代\n",
       "                 &lt;/div&gt;`,\n",
       "                {&quot;sticky&quot;: true}\n",
       "            );\n",
       "        \n",
       "    \n",
       "            var marker_71f43bf880a37c309b92f129ef9817ab = L.marker(\n",
       "                [35.858974, 139.962036],\n",
       "                {}\n",
       "            ).addTo(marker_cluster_4c2e71695cd18dfca13b325ffac6471d);\n",
       "        \n",
       "    \n",
       "            marker_71f43bf880a37c309b92f129ef9817ab.bindTooltip(\n",
       "                `&lt;div&gt;\n",
       "                     20歳代\n",
       "                 &lt;/div&gt;`,\n",
       "                {&quot;sticky&quot;: true}\n",
       "            );\n",
       "        \n",
       "    \n",
       "            var marker_654f5ba743201d308505c1adad556d50 = L.marker(\n",
       "                [35.858974, 139.962036],\n",
       "                {}\n",
       "            ).addTo(marker_cluster_4c2e71695cd18dfca13b325ffac6471d);\n",
       "        \n",
       "    \n",
       "            marker_654f5ba743201d308505c1adad556d50.bindTooltip(\n",
       "                `&lt;div&gt;\n",
       "                     20歳代\n",
       "                 &lt;/div&gt;`,\n",
       "                {&quot;sticky&quot;: true}\n",
       "            );\n",
       "        \n",
       "    \n",
       "            var marker_6508f74cb7447838f2e3e9e195e820d6 = L.marker(\n",
       "                [35.85675, 139.962128],\n",
       "                {}\n",
       "            ).addTo(marker_cluster_4c2e71695cd18dfca13b325ffac6471d);\n",
       "        \n",
       "    \n",
       "            marker_6508f74cb7447838f2e3e9e195e820d6.bindTooltip(\n",
       "                `&lt;div&gt;\n",
       "                     30歳代\n",
       "                 &lt;/div&gt;`,\n",
       "                {&quot;sticky&quot;: true}\n",
       "            );\n",
       "        \n",
       "    \n",
       "            var marker_24e3393e9762b73e81ca56c609e137c9 = L.marker(\n",
       "                [35.857044, 139.958267],\n",
       "                {}\n",
       "            ).addTo(marker_cluster_4c2e71695cd18dfca13b325ffac6471d);\n",
       "        \n",
       "    \n",
       "            marker_24e3393e9762b73e81ca56c609e137c9.bindTooltip(\n",
       "                `&lt;div&gt;\n",
       "                     70歳以上\n",
       "                 &lt;/div&gt;`,\n",
       "                {&quot;sticky&quot;: true}\n",
       "            );\n",
       "        \n",
       "    \n",
       "            var marker_676cdc040799662c5c3a7c2fa22f12d0 = L.marker(\n",
       "                [35.857044, 139.958267],\n",
       "                {}\n",
       "            ).addTo(marker_cluster_4c2e71695cd18dfca13b325ffac6471d);\n",
       "        \n",
       "    \n",
       "            marker_676cdc040799662c5c3a7c2fa22f12d0.bindTooltip(\n",
       "                `&lt;div&gt;\n",
       "                     10歳代\n",
       "                 &lt;/div&gt;`,\n",
       "                {&quot;sticky&quot;: true}\n",
       "            );\n",
       "        \n",
       "    \n",
       "            var marker_0feeb79a3ddc7d2ef40ba2fa52b2f650 = L.marker(\n",
       "                [35.868122, 139.943359],\n",
       "                {}\n",
       "            ).addTo(marker_cluster_4c2e71695cd18dfca13b325ffac6471d);\n",
       "        \n",
       "    \n",
       "            marker_0feeb79a3ddc7d2ef40ba2fa52b2f650.bindTooltip(\n",
       "                `&lt;div&gt;\n",
       "                     10歳代\n",
       "                 &lt;/div&gt;`,\n",
       "                {&quot;sticky&quot;: true}\n",
       "            );\n",
       "        \n",
       "    \n",
       "            var marker_1a62a86d8746947e6c9d56f7d62e5e8f = L.marker(\n",
       "                [35.862904, 139.970398],\n",
       "                {}\n",
       "            ).addTo(marker_cluster_4c2e71695cd18dfca13b325ffac6471d);\n",
       "        \n",
       "    \n",
       "            marker_1a62a86d8746947e6c9d56f7d62e5e8f.bindTooltip(\n",
       "                `&lt;div&gt;\n",
       "                     40歳代\n",
       "                 &lt;/div&gt;`,\n",
       "                {&quot;sticky&quot;: true}\n",
       "            );\n",
       "        \n",
       "    \n",
       "            var marker_1fd907f5c8a98dd433d03c4e2725f9fb = L.marker(\n",
       "                [35.862904, 139.970398],\n",
       "                {}\n",
       "            ).addTo(marker_cluster_4c2e71695cd18dfca13b325ffac6471d);\n",
       "        \n",
       "    \n",
       "            marker_1fd907f5c8a98dd433d03c4e2725f9fb.bindTooltip(\n",
       "                `&lt;div&gt;\n",
       "                     10歳代\n",
       "                 &lt;/div&gt;`,\n",
       "                {&quot;sticky&quot;: true}\n",
       "            );\n",
       "        \n",
       "    \n",
       "            var marker_6b0d76526dfc4d6c32fca078e9254a0a = L.marker(\n",
       "                [35.862904, 139.970398],\n",
       "                {}\n",
       "            ).addTo(marker_cluster_4c2e71695cd18dfca13b325ffac6471d);\n",
       "        \n",
       "    \n",
       "            marker_6b0d76526dfc4d6c32fca078e9254a0a.bindTooltip(\n",
       "                `&lt;div&gt;\n",
       "                     40歳代\n",
       "                 &lt;/div&gt;`,\n",
       "                {&quot;sticky&quot;: true}\n",
       "            );\n",
       "        \n",
       "    \n",
       "            var marker_0b125015f2a5492a4d318955b0f4d74f = L.marker(\n",
       "                [35.862904, 139.970398],\n",
       "                {}\n",
       "            ).addTo(marker_cluster_4c2e71695cd18dfca13b325ffac6471d);\n",
       "        \n",
       "    \n",
       "            marker_0b125015f2a5492a4d318955b0f4d74f.bindTooltip(\n",
       "                `&lt;div&gt;\n",
       "                     10歳代\n",
       "                 &lt;/div&gt;`,\n",
       "                {&quot;sticky&quot;: true}\n",
       "            );\n",
       "        \n",
       "    \n",
       "            var marker_31d631a8290d9a4fc847f847a487bfcc = L.marker(\n",
       "                [35.862904, 139.970398],\n",
       "                {}\n",
       "            ).addTo(marker_cluster_4c2e71695cd18dfca13b325ffac6471d);\n",
       "        \n",
       "    \n",
       "            marker_31d631a8290d9a4fc847f847a487bfcc.bindTooltip(\n",
       "                `&lt;div&gt;\n",
       "                     20歳代\n",
       "                 &lt;/div&gt;`,\n",
       "                {&quot;sticky&quot;: true}\n",
       "            );\n",
       "        \n",
       "    \n",
       "            var marker_3c92f09167839ea5b985703f770a84ee = L.marker(\n",
       "                [35.862904, 139.970398],\n",
       "                {}\n",
       "            ).addTo(marker_cluster_4c2e71695cd18dfca13b325ffac6471d);\n",
       "        \n",
       "    \n",
       "            marker_3c92f09167839ea5b985703f770a84ee.bindTooltip(\n",
       "                `&lt;div&gt;\n",
       "                     65-69歳\n",
       "                 &lt;/div&gt;`,\n",
       "                {&quot;sticky&quot;: true}\n",
       "            );\n",
       "        \n",
       "    \n",
       "            var marker_839ea0a2e7daf06c79a355ae09134cd3 = L.marker(\n",
       "                [35.862904, 139.970398],\n",
       "                {}\n",
       "            ).addTo(marker_cluster_4c2e71695cd18dfca13b325ffac6471d);\n",
       "        \n",
       "    \n",
       "            marker_839ea0a2e7daf06c79a355ae09134cd3.bindTooltip(\n",
       "                `&lt;div&gt;\n",
       "                     10歳未満\n",
       "                 &lt;/div&gt;`,\n",
       "                {&quot;sticky&quot;: true}\n",
       "            );\n",
       "        \n",
       "    \n",
       "            var marker_f1ce690936de5b731de4c687681b3ad2 = L.marker(\n",
       "                [35.862904, 139.970398],\n",
       "                {}\n",
       "            ).addTo(marker_cluster_4c2e71695cd18dfca13b325ffac6471d);\n",
       "        \n",
       "    \n",
       "            marker_f1ce690936de5b731de4c687681b3ad2.bindTooltip(\n",
       "                `&lt;div&gt;\n",
       "                     10歳代\n",
       "                 &lt;/div&gt;`,\n",
       "                {&quot;sticky&quot;: true}\n",
       "            );\n",
       "        \n",
       "    \n",
       "            var marker_e52bda452749947b98e4057aa50b3293 = L.marker(\n",
       "                [35.862904, 139.970398],\n",
       "                {}\n",
       "            ).addTo(marker_cluster_4c2e71695cd18dfca13b325ffac6471d);\n",
       "        \n",
       "    \n",
       "            marker_e52bda452749947b98e4057aa50b3293.bindTooltip(\n",
       "                `&lt;div&gt;\n",
       "                     20歳代\n",
       "                 &lt;/div&gt;`,\n",
       "                {&quot;sticky&quot;: true}\n",
       "            );\n",
       "        \n",
       "    \n",
       "            var marker_3af741ed84b9b888d23c40aa96c7d8eb = L.marker(\n",
       "                [35.862904, 139.970398],\n",
       "                {}\n",
       "            ).addTo(marker_cluster_4c2e71695cd18dfca13b325ffac6471d);\n",
       "        \n",
       "    \n",
       "            marker_3af741ed84b9b888d23c40aa96c7d8eb.bindTooltip(\n",
       "                `&lt;div&gt;\n",
       "                     20歳代\n",
       "                 &lt;/div&gt;`,\n",
       "                {&quot;sticky&quot;: true}\n",
       "            );\n",
       "        \n",
       "    \n",
       "            var marker_e11f528735ccc9c0175f53661661333e = L.marker(\n",
       "                [35.854397, 139.962891],\n",
       "                {}\n",
       "            ).addTo(marker_cluster_4c2e71695cd18dfca13b325ffac6471d);\n",
       "        \n",
       "    \n",
       "            marker_e11f528735ccc9c0175f53661661333e.bindTooltip(\n",
       "                `&lt;div&gt;\n",
       "                     20歳代\n",
       "                 &lt;/div&gt;`,\n",
       "                {&quot;sticky&quot;: true}\n",
       "            );\n",
       "        \n",
       "    \n",
       "            var marker_55a007a6cbd8399653d8aea08c7c1f41 = L.marker(\n",
       "                [35.854397, 139.962891],\n",
       "                {}\n",
       "            ).addTo(marker_cluster_4c2e71695cd18dfca13b325ffac6471d);\n",
       "        \n",
       "    \n",
       "            marker_55a007a6cbd8399653d8aea08c7c1f41.bindTooltip(\n",
       "                `&lt;div&gt;\n",
       "                     10歳代\n",
       "                 &lt;/div&gt;`,\n",
       "                {&quot;sticky&quot;: true}\n",
       "            );\n",
       "        \n",
       "    \n",
       "            var marker_93b0ae46943fe4f973c95a4ca25d9c95 = L.marker(\n",
       "                [35.854397, 139.962891],\n",
       "                {}\n",
       "            ).addTo(marker_cluster_4c2e71695cd18dfca13b325ffac6471d);\n",
       "        \n",
       "    \n",
       "            marker_93b0ae46943fe4f973c95a4ca25d9c95.bindTooltip(\n",
       "                `&lt;div&gt;\n",
       "                     20歳代\n",
       "                 &lt;/div&gt;`,\n",
       "                {&quot;sticky&quot;: true}\n",
       "            );\n",
       "        \n",
       "    \n",
       "            var marker_b462ca027552ae588e7d50fa2f63ad0a = L.marker(\n",
       "                [35.854397, 139.962891],\n",
       "                {}\n",
       "            ).addTo(marker_cluster_4c2e71695cd18dfca13b325ffac6471d);\n",
       "        \n",
       "    \n",
       "            marker_b462ca027552ae588e7d50fa2f63ad0a.bindTooltip(\n",
       "                `&lt;div&gt;\n",
       "                     20歳代\n",
       "                 &lt;/div&gt;`,\n",
       "                {&quot;sticky&quot;: true}\n",
       "            );\n",
       "        \n",
       "    \n",
       "            var marker_de039af4d21607f201c8f3711dc801de = L.marker(\n",
       "                [35.854397, 139.962891],\n",
       "                {}\n",
       "            ).addTo(marker_cluster_4c2e71695cd18dfca13b325ffac6471d);\n",
       "        \n",
       "    \n",
       "            marker_de039af4d21607f201c8f3711dc801de.bindTooltip(\n",
       "                `&lt;div&gt;\n",
       "                     20歳代\n",
       "                 &lt;/div&gt;`,\n",
       "                {&quot;sticky&quot;: true}\n",
       "            );\n",
       "        \n",
       "    \n",
       "            var marker_4285ef1c4adfd61477a47fc8513037a0 = L.marker(\n",
       "                [35.854397, 139.962891],\n",
       "                {}\n",
       "            ).addTo(marker_cluster_4c2e71695cd18dfca13b325ffac6471d);\n",
       "        \n",
       "    \n",
       "            marker_4285ef1c4adfd61477a47fc8513037a0.bindTooltip(\n",
       "                `&lt;div&gt;\n",
       "                     20歳代\n",
       "                 &lt;/div&gt;`,\n",
       "                {&quot;sticky&quot;: true}\n",
       "            );\n",
       "        \n",
       "    \n",
       "            var marker_88afceee5fca2be55caf669b94e84f56 = L.marker(\n",
       "                [35.866894, 139.957932],\n",
       "                {}\n",
       "            ).addTo(marker_cluster_4c2e71695cd18dfca13b325ffac6471d);\n",
       "        \n",
       "    \n",
       "            marker_88afceee5fca2be55caf669b94e84f56.bindTooltip(\n",
       "                `&lt;div&gt;\n",
       "                     10歳代\n",
       "                 &lt;/div&gt;`,\n",
       "                {&quot;sticky&quot;: true}\n",
       "            );\n",
       "        \n",
       "    \n",
       "            var marker_c4f591d5a8baec0195d8d28275dcb898 = L.marker(\n",
       "                [35.866894, 139.957932],\n",
       "                {}\n",
       "            ).addTo(marker_cluster_4c2e71695cd18dfca13b325ffac6471d);\n",
       "        \n",
       "    \n",
       "            marker_c4f591d5a8baec0195d8d28275dcb898.bindTooltip(\n",
       "                `&lt;div&gt;\n",
       "                     40歳代\n",
       "                 &lt;/div&gt;`,\n",
       "                {&quot;sticky&quot;: true}\n",
       "            );\n",
       "        \n",
       "    \n",
       "            var marker_c485b9cd23cabdea4acccc18cca68854 = L.marker(\n",
       "                [35.866894, 139.957932],\n",
       "                {}\n",
       "            ).addTo(marker_cluster_4c2e71695cd18dfca13b325ffac6471d);\n",
       "        \n",
       "    \n",
       "            marker_c485b9cd23cabdea4acccc18cca68854.bindTooltip(\n",
       "                `&lt;div&gt;\n",
       "                     20歳代\n",
       "                 &lt;/div&gt;`,\n",
       "                {&quot;sticky&quot;: true}\n",
       "            );\n",
       "        \n",
       "    \n",
       "            var marker_6f6d7c94d584a9d931729156bb76d32a = L.marker(\n",
       "                [35.866894, 139.957932],\n",
       "                {}\n",
       "            ).addTo(marker_cluster_4c2e71695cd18dfca13b325ffac6471d);\n",
       "        \n",
       "    \n",
       "            marker_6f6d7c94d584a9d931729156bb76d32a.bindTooltip(\n",
       "                `&lt;div&gt;\n",
       "                     40歳代\n",
       "                 &lt;/div&gt;`,\n",
       "                {&quot;sticky&quot;: true}\n",
       "            );\n",
       "        \n",
       "    \n",
       "            var marker_998264c24d852ecd338ef534e5cdf1f8 = L.marker(\n",
       "                [35.862438, 139.959137],\n",
       "                {}\n",
       "            ).addTo(marker_cluster_4c2e71695cd18dfca13b325ffac6471d);\n",
       "        \n",
       "    \n",
       "            marker_998264c24d852ecd338ef534e5cdf1f8.bindTooltip(\n",
       "                `&lt;div&gt;\n",
       "                     70歳以上\n",
       "                 &lt;/div&gt;`,\n",
       "                {&quot;sticky&quot;: true}\n",
       "            );\n",
       "        \n",
       "    \n",
       "            var marker_093e2a28e38ed66b61e7e984a65b898c = L.marker(\n",
       "                [35.863903, 139.956039],\n",
       "                {}\n",
       "            ).addTo(marker_cluster_4c2e71695cd18dfca13b325ffac6471d);\n",
       "        \n",
       "    \n",
       "            marker_093e2a28e38ed66b61e7e984a65b898c.bindTooltip(\n",
       "                `&lt;div&gt;\n",
       "                     40歳代\n",
       "                 &lt;/div&gt;`,\n",
       "                {&quot;sticky&quot;: true}\n",
       "            );\n",
       "        \n",
       "    \n",
       "            var marker_facd94ec52c7962521d04d7ce94fd6ee = L.marker(\n",
       "                [35.863903, 139.956039],\n",
       "                {}\n",
       "            ).addTo(marker_cluster_4c2e71695cd18dfca13b325ffac6471d);\n",
       "        \n",
       "    \n",
       "            marker_facd94ec52c7962521d04d7ce94fd6ee.bindTooltip(\n",
       "                `&lt;div&gt;\n",
       "                     10歳代\n",
       "                 &lt;/div&gt;`,\n",
       "                {&quot;sticky&quot;: true}\n",
       "            );\n",
       "        \n",
       "    \n",
       "            var marker_62901f3377cc6a6002ce7dec5ecf6c0c = L.marker(\n",
       "                [35.869198, 139.957932],\n",
       "                {}\n",
       "            ).addTo(marker_cluster_4c2e71695cd18dfca13b325ffac6471d);\n",
       "        \n",
       "    \n",
       "            marker_62901f3377cc6a6002ce7dec5ecf6c0c.bindTooltip(\n",
       "                `&lt;div&gt;\n",
       "                     10歳代\n",
       "                 &lt;/div&gt;`,\n",
       "                {&quot;sticky&quot;: true}\n",
       "            );\n",
       "        \n",
       "    \n",
       "            var marker_9d0ee04909ac9b665feaafd146dece29 = L.marker(\n",
       "                [35.882629, 139.959305],\n",
       "                {}\n",
       "            ).addTo(marker_cluster_4c2e71695cd18dfca13b325ffac6471d);\n",
       "        \n",
       "    \n",
       "            marker_9d0ee04909ac9b665feaafd146dece29.bindTooltip(\n",
       "                `&lt;div&gt;\n",
       "                     70歳以上\n",
       "                 &lt;/div&gt;`,\n",
       "                {&quot;sticky&quot;: true}\n",
       "            );\n",
       "        \n",
       "    \n",
       "            var marker_e7a56b171f64f6c012d1e971f83c7636 = L.marker(\n",
       "                [35.882629, 139.959305],\n",
       "                {}\n",
       "            ).addTo(marker_cluster_4c2e71695cd18dfca13b325ffac6471d);\n",
       "        \n",
       "    \n",
       "            marker_e7a56b171f64f6c012d1e971f83c7636.bindTooltip(\n",
       "                `&lt;div&gt;\n",
       "                     10歳代\n",
       "                 &lt;/div&gt;`,\n",
       "                {&quot;sticky&quot;: true}\n",
       "            );\n",
       "        \n",
       "    \n",
       "            var marker_d6558fd4e88d5ef8f89a866cffef9a15 = L.marker(\n",
       "                [35.88113, 139.98645],\n",
       "                {}\n",
       "            ).addTo(marker_cluster_4c2e71695cd18dfca13b325ffac6471d);\n",
       "        \n",
       "    \n",
       "            marker_d6558fd4e88d5ef8f89a866cffef9a15.bindTooltip(\n",
       "                `&lt;div&gt;\n",
       "                     20歳代\n",
       "                 &lt;/div&gt;`,\n",
       "                {&quot;sticky&quot;: true}\n",
       "            );\n",
       "        \n",
       "    \n",
       "            var marker_db0b1a8616ea5edac99ea4b9c5eaddd0 = L.marker(\n",
       "                [35.879082, 139.975952],\n",
       "                {}\n",
       "            ).addTo(marker_cluster_4c2e71695cd18dfca13b325ffac6471d);\n",
       "        \n",
       "    \n",
       "            marker_db0b1a8616ea5edac99ea4b9c5eaddd0.bindTooltip(\n",
       "                `&lt;div&gt;\n",
       "                     20歳代\n",
       "                 &lt;/div&gt;`,\n",
       "                {&quot;sticky&quot;: true}\n",
       "            );\n",
       "        \n",
       "    \n",
       "            var marker_863b751d4dbab30e9bd4fe1b8797e38e = L.marker(\n",
       "                [35.879082, 139.975952],\n",
       "                {}\n",
       "            ).addTo(marker_cluster_4c2e71695cd18dfca13b325ffac6471d);\n",
       "        \n",
       "    \n",
       "            marker_863b751d4dbab30e9bd4fe1b8797e38e.bindTooltip(\n",
       "                `&lt;div&gt;\n",
       "                     10歳代\n",
       "                 &lt;/div&gt;`,\n",
       "                {&quot;sticky&quot;: true}\n",
       "            );\n",
       "        \n",
       "    \n",
       "            var marker_38e20ba9a65e0b8ad0889facc12ccc38 = L.marker(\n",
       "                [35.879082, 139.975952],\n",
       "                {}\n",
       "            ).addTo(marker_cluster_4c2e71695cd18dfca13b325ffac6471d);\n",
       "        \n",
       "    \n",
       "            marker_38e20ba9a65e0b8ad0889facc12ccc38.bindTooltip(\n",
       "                `&lt;div&gt;\n",
       "                     20歳代\n",
       "                 &lt;/div&gt;`,\n",
       "                {&quot;sticky&quot;: true}\n",
       "            );\n",
       "        \n",
       "    \n",
       "            var marker_a66d1ef4ccce9aa591f26c18596fb29a = L.marker(\n",
       "                [35.879082, 139.975952],\n",
       "                {}\n",
       "            ).addTo(marker_cluster_4c2e71695cd18dfca13b325ffac6471d);\n",
       "        \n",
       "    \n",
       "            marker_a66d1ef4ccce9aa591f26c18596fb29a.bindTooltip(\n",
       "                `&lt;div&gt;\n",
       "                     20歳代\n",
       "                 &lt;/div&gt;`,\n",
       "                {&quot;sticky&quot;: true}\n",
       "            );\n",
       "        \n",
       "    \n",
       "            var marker_b51b88f17592340eda9453f7f0d00148 = L.marker(\n",
       "                [35.879082, 139.975952],\n",
       "                {}\n",
       "            ).addTo(marker_cluster_4c2e71695cd18dfca13b325ffac6471d);\n",
       "        \n",
       "    \n",
       "            marker_b51b88f17592340eda9453f7f0d00148.bindTooltip(\n",
       "                `&lt;div&gt;\n",
       "                     40歳代\n",
       "                 &lt;/div&gt;`,\n",
       "                {&quot;sticky&quot;: true}\n",
       "            );\n",
       "        \n",
       "    \n",
       "            var marker_2aa2220f05fc6cbf83591c83137464de = L.marker(\n",
       "                [35.879082, 139.975952],\n",
       "                {}\n",
       "            ).addTo(marker_cluster_4c2e71695cd18dfca13b325ffac6471d);\n",
       "        \n",
       "    \n",
       "            marker_2aa2220f05fc6cbf83591c83137464de.bindTooltip(\n",
       "                `&lt;div&gt;\n",
       "                     10歳代\n",
       "                 &lt;/div&gt;`,\n",
       "                {&quot;sticky&quot;: true}\n",
       "            );\n",
       "        \n",
       "    \n",
       "            var marker_8321c4a4eab5f8035f2948b8319cc35e = L.marker(\n",
       "                [35.879082, 139.975952],\n",
       "                {}\n",
       "            ).addTo(marker_cluster_4c2e71695cd18dfca13b325ffac6471d);\n",
       "        \n",
       "    \n",
       "            marker_8321c4a4eab5f8035f2948b8319cc35e.bindTooltip(\n",
       "                `&lt;div&gt;\n",
       "                     30歳代\n",
       "                 &lt;/div&gt;`,\n",
       "                {&quot;sticky&quot;: true}\n",
       "            );\n",
       "        \n",
       "    \n",
       "            var marker_5c04d899ecd9a139585856b32d15e659 = L.marker(\n",
       "                [35.879082, 139.975952],\n",
       "                {}\n",
       "            ).addTo(marker_cluster_4c2e71695cd18dfca13b325ffac6471d);\n",
       "        \n",
       "    \n",
       "            marker_5c04d899ecd9a139585856b32d15e659.bindTooltip(\n",
       "                `&lt;div&gt;\n",
       "                     30歳代\n",
       "                 &lt;/div&gt;`,\n",
       "                {&quot;sticky&quot;: true}\n",
       "            );\n",
       "        \n",
       "    \n",
       "            var marker_94b02db10f11136cdd868412802c343e = L.marker(\n",
       "                [35.886456, 139.980759],\n",
       "                {}\n",
       "            ).addTo(marker_cluster_4c2e71695cd18dfca13b325ffac6471d);\n",
       "        \n",
       "    \n",
       "            marker_94b02db10f11136cdd868412802c343e.bindTooltip(\n",
       "                `&lt;div&gt;\n",
       "                     20歳代\n",
       "                 &lt;/div&gt;`,\n",
       "                {&quot;sticky&quot;: true}\n",
       "            );\n",
       "        \n",
       "    \n",
       "            var marker_9b77659f1b3a9de0e69a43c12872ae94 = L.marker(\n",
       "                [35.886456, 139.980759],\n",
       "                {}\n",
       "            ).addTo(marker_cluster_4c2e71695cd18dfca13b325ffac6471d);\n",
       "        \n",
       "    \n",
       "            marker_9b77659f1b3a9de0e69a43c12872ae94.bindTooltip(\n",
       "                `&lt;div&gt;\n",
       "                     10歳代\n",
       "                 &lt;/div&gt;`,\n",
       "                {&quot;sticky&quot;: true}\n",
       "            );\n",
       "        \n",
       "    \n",
       "            var marker_9d177a61532eb7f5f55647b7564a66cf = L.marker(\n",
       "                [35.886009, 139.970963],\n",
       "                {}\n",
       "            ).addTo(marker_cluster_4c2e71695cd18dfca13b325ffac6471d);\n",
       "        \n",
       "    \n",
       "            marker_9d177a61532eb7f5f55647b7564a66cf.bindTooltip(\n",
       "                `&lt;div&gt;\n",
       "                     10歳未満\n",
       "                 &lt;/div&gt;`,\n",
       "                {&quot;sticky&quot;: true}\n",
       "            );\n",
       "        \n",
       "    \n",
       "            var marker_a51e525a94282f9d7968ad84b318c98f = L.marker(\n",
       "                [35.886009, 139.970963],\n",
       "                {}\n",
       "            ).addTo(marker_cluster_4c2e71695cd18dfca13b325ffac6471d);\n",
       "        \n",
       "    \n",
       "            marker_a51e525a94282f9d7968ad84b318c98f.bindTooltip(\n",
       "                `&lt;div&gt;\n",
       "                     10歳代\n",
       "                 &lt;/div&gt;`,\n",
       "                {&quot;sticky&quot;: true}\n",
       "            );\n",
       "        \n",
       "    \n",
       "            var marker_be54f482be38bab619e6c52eef6b18b5 = L.marker(\n",
       "                [35.889114, 139.971802],\n",
       "                {}\n",
       "            ).addTo(marker_cluster_4c2e71695cd18dfca13b325ffac6471d);\n",
       "        \n",
       "    \n",
       "            marker_be54f482be38bab619e6c52eef6b18b5.bindTooltip(\n",
       "                `&lt;div&gt;\n",
       "                     70歳以上\n",
       "                 &lt;/div&gt;`,\n",
       "                {&quot;sticky&quot;: true}\n",
       "            );\n",
       "        \n",
       "    \n",
       "            var marker_067634ff9c5524858f72b79efb789e95 = L.marker(\n",
       "                [35.889114, 139.971802],\n",
       "                {}\n",
       "            ).addTo(marker_cluster_4c2e71695cd18dfca13b325ffac6471d);\n",
       "        \n",
       "    \n",
       "            marker_067634ff9c5524858f72b79efb789e95.bindTooltip(\n",
       "                `&lt;div&gt;\n",
       "                     65-69歳\n",
       "                 &lt;/div&gt;`,\n",
       "                {&quot;sticky&quot;: true}\n",
       "            );\n",
       "        \n",
       "    \n",
       "            var marker_7e4950616593e4687e59e0e65f482400 = L.marker(\n",
       "                [35.889114, 139.971802],\n",
       "                {}\n",
       "            ).addTo(marker_cluster_4c2e71695cd18dfca13b325ffac6471d);\n",
       "        \n",
       "    \n",
       "            marker_7e4950616593e4687e59e0e65f482400.bindTooltip(\n",
       "                `&lt;div&gt;\n",
       "                     70歳以上\n",
       "                 &lt;/div&gt;`,\n",
       "                {&quot;sticky&quot;: true}\n",
       "            );\n",
       "        \n",
       "    \n",
       "            var marker_f8ad4b40881c24a229b3a0ad28f3bb20 = L.marker(\n",
       "                [35.889473, 139.966446],\n",
       "                {}\n",
       "            ).addTo(marker_cluster_4c2e71695cd18dfca13b325ffac6471d);\n",
       "        \n",
       "    \n",
       "            marker_f8ad4b40881c24a229b3a0ad28f3bb20.bindTooltip(\n",
       "                `&lt;div&gt;\n",
       "                     40歳代\n",
       "                 &lt;/div&gt;`,\n",
       "                {&quot;sticky&quot;: true}\n",
       "            );\n",
       "        \n",
       "    \n",
       "            var marker_028336d45796b6660f5b88f0fe53de73 = L.marker(\n",
       "                [35.889473, 139.966446],\n",
       "                {}\n",
       "            ).addTo(marker_cluster_4c2e71695cd18dfca13b325ffac6471d);\n",
       "        \n",
       "    \n",
       "            marker_028336d45796b6660f5b88f0fe53de73.bindTooltip(\n",
       "                `&lt;div&gt;\n",
       "                     70歳以上\n",
       "                 &lt;/div&gt;`,\n",
       "                {&quot;sticky&quot;: true}\n",
       "            );\n",
       "        \n",
       "    \n",
       "            var marker_b5dc4f83d29a993dcee1f2c1910cf9e5 = L.marker(\n",
       "                [35.891541, 139.968033],\n",
       "                {}\n",
       "            ).addTo(marker_cluster_4c2e71695cd18dfca13b325ffac6471d);\n",
       "        \n",
       "    \n",
       "            marker_b5dc4f83d29a993dcee1f2c1910cf9e5.bindTooltip(\n",
       "                `&lt;div&gt;\n",
       "                     50歳代\n",
       "                 &lt;/div&gt;`,\n",
       "                {&quot;sticky&quot;: true}\n",
       "            );\n",
       "        \n",
       "    \n",
       "            var marker_b7ad419569fa88d0485e7604a760aad0 = L.marker(\n",
       "                [35.880825, 139.967804],\n",
       "                {}\n",
       "            ).addTo(marker_cluster_4c2e71695cd18dfca13b325ffac6471d);\n",
       "        \n",
       "    \n",
       "            marker_b7ad419569fa88d0485e7604a760aad0.bindTooltip(\n",
       "                `&lt;div&gt;\n",
       "                     40歳代\n",
       "                 &lt;/div&gt;`,\n",
       "                {&quot;sticky&quot;: true}\n",
       "            );\n",
       "        \n",
       "    \n",
       "            var marker_30490d9a707eaa9b698569c8c913cc17 = L.marker(\n",
       "                [35.880825, 139.967804],\n",
       "                {}\n",
       "            ).addTo(marker_cluster_4c2e71695cd18dfca13b325ffac6471d);\n",
       "        \n",
       "    \n",
       "            marker_30490d9a707eaa9b698569c8c913cc17.bindTooltip(\n",
       "                `&lt;div&gt;\n",
       "                     20歳代\n",
       "                 &lt;/div&gt;`,\n",
       "                {&quot;sticky&quot;: true}\n",
       "            );\n",
       "        \n",
       "    \n",
       "            var marker_7693f8fb41c9bb407d54fec70db31bb1 = L.marker(\n",
       "                [35.880825, 139.967804],\n",
       "                {}\n",
       "            ).addTo(marker_cluster_4c2e71695cd18dfca13b325ffac6471d);\n",
       "        \n",
       "    \n",
       "            marker_7693f8fb41c9bb407d54fec70db31bb1.bindTooltip(\n",
       "                `&lt;div&gt;\n",
       "                     10歳代\n",
       "                 &lt;/div&gt;`,\n",
       "                {&quot;sticky&quot;: true}\n",
       "            );\n",
       "        \n",
       "    \n",
       "            var marker_898baee5d8e91978ed3b7ebc1a3d2988 = L.marker(\n",
       "                [35.880825, 139.967804],\n",
       "                {}\n",
       "            ).addTo(marker_cluster_4c2e71695cd18dfca13b325ffac6471d);\n",
       "        \n",
       "    \n",
       "            marker_898baee5d8e91978ed3b7ebc1a3d2988.bindTooltip(\n",
       "                `&lt;div&gt;\n",
       "                     10歳代\n",
       "                 &lt;/div&gt;`,\n",
       "                {&quot;sticky&quot;: true}\n",
       "            );\n",
       "        \n",
       "    \n",
       "            var marker_b354f39f3277827d524067f72c6b5753 = L.marker(\n",
       "                [35.88258, 139.969193],\n",
       "                {}\n",
       "            ).addTo(marker_cluster_4c2e71695cd18dfca13b325ffac6471d);\n",
       "        \n",
       "    \n",
       "            marker_b354f39f3277827d524067f72c6b5753.bindTooltip(\n",
       "                `&lt;div&gt;\n",
       "                     40歳代\n",
       "                 &lt;/div&gt;`,\n",
       "                {&quot;sticky&quot;: true}\n",
       "            );\n",
       "        \n",
       "    \n",
       "            var marker_251818d51ccce9e3d5a2f737efffd286 = L.marker(\n",
       "                [35.88258, 139.969193],\n",
       "                {}\n",
       "            ).addTo(marker_cluster_4c2e71695cd18dfca13b325ffac6471d);\n",
       "        \n",
       "    \n",
       "            marker_251818d51ccce9e3d5a2f737efffd286.bindTooltip(\n",
       "                `&lt;div&gt;\n",
       "                     10歳代\n",
       "                 &lt;/div&gt;`,\n",
       "                {&quot;sticky&quot;: true}\n",
       "            );\n",
       "        \n",
       "    \n",
       "            var marker_5e06a764bd1664d0583b187dbcf7cacc = L.marker(\n",
       "                [35.88258, 139.969193],\n",
       "                {}\n",
       "            ).addTo(marker_cluster_4c2e71695cd18dfca13b325ffac6471d);\n",
       "        \n",
       "    \n",
       "            marker_5e06a764bd1664d0583b187dbcf7cacc.bindTooltip(\n",
       "                `&lt;div&gt;\n",
       "                     20歳代\n",
       "                 &lt;/div&gt;`,\n",
       "                {&quot;sticky&quot;: true}\n",
       "            );\n",
       "        \n",
       "    \n",
       "            var marker_958f044f114e7a5b84aeb03d5d047ce8 = L.marker(\n",
       "                [35.88258, 139.969193],\n",
       "                {}\n",
       "            ).addTo(marker_cluster_4c2e71695cd18dfca13b325ffac6471d);\n",
       "        \n",
       "    \n",
       "            marker_958f044f114e7a5b84aeb03d5d047ce8.bindTooltip(\n",
       "                `&lt;div&gt;\n",
       "                     10歳代\n",
       "                 &lt;/div&gt;`,\n",
       "                {&quot;sticky&quot;: true}\n",
       "            );\n",
       "        \n",
       "    \n",
       "            var marker_7578a416651aff559cf8b4ad0d981940 = L.marker(\n",
       "                [35.88258, 139.969193],\n",
       "                {}\n",
       "            ).addTo(marker_cluster_4c2e71695cd18dfca13b325ffac6471d);\n",
       "        \n",
       "    \n",
       "            marker_7578a416651aff559cf8b4ad0d981940.bindTooltip(\n",
       "                `&lt;div&gt;\n",
       "                     10歳代\n",
       "                 &lt;/div&gt;`,\n",
       "                {&quot;sticky&quot;: true}\n",
       "            );\n",
       "        \n",
       "    \n",
       "            var marker_74cb553d9325340d6f63d0a1723f6190 = L.marker(\n",
       "                [35.88258, 139.969193],\n",
       "                {}\n",
       "            ).addTo(marker_cluster_4c2e71695cd18dfca13b325ffac6471d);\n",
       "        \n",
       "    \n",
       "            marker_74cb553d9325340d6f63d0a1723f6190.bindTooltip(\n",
       "                `&lt;div&gt;\n",
       "                     30歳代\n",
       "                 &lt;/div&gt;`,\n",
       "                {&quot;sticky&quot;: true}\n",
       "            );\n",
       "        \n",
       "    \n",
       "            var marker_0092ec69c992a3490eb6b4d27b8708cd = L.marker(\n",
       "                [35.88258, 139.969193],\n",
       "                {}\n",
       "            ).addTo(marker_cluster_4c2e71695cd18dfca13b325ffac6471d);\n",
       "        \n",
       "    \n",
       "            marker_0092ec69c992a3490eb6b4d27b8708cd.bindTooltip(\n",
       "                `&lt;div&gt;\n",
       "                     法人・団体、被害者なし\n",
       "                 &lt;/div&gt;`,\n",
       "                {&quot;sticky&quot;: true}\n",
       "            );\n",
       "        \n",
       "    \n",
       "            var marker_7a607087dffaa593d4f5c36702037700 = L.marker(\n",
       "                [35.902401, 139.950058],\n",
       "                {}\n",
       "            ).addTo(marker_cluster_4c2e71695cd18dfca13b325ffac6471d);\n",
       "        \n",
       "    \n",
       "            marker_7a607087dffaa593d4f5c36702037700.bindTooltip(\n",
       "                `&lt;div&gt;\n",
       "                     20歳代\n",
       "                 &lt;/div&gt;`,\n",
       "                {&quot;sticky&quot;: true}\n",
       "            );\n",
       "        \n",
       "    \n",
       "            var marker_d60c82a462bc88bf741e39ea06994bf5 = L.marker(\n",
       "                [35.902401, 139.950058],\n",
       "                {}\n",
       "            ).addTo(marker_cluster_4c2e71695cd18dfca13b325ffac6471d);\n",
       "        \n",
       "    \n",
       "            marker_d60c82a462bc88bf741e39ea06994bf5.bindTooltip(\n",
       "                `&lt;div&gt;\n",
       "                     30歳代\n",
       "                 &lt;/div&gt;`,\n",
       "                {&quot;sticky&quot;: true}\n",
       "            );\n",
       "        \n",
       "    \n",
       "            var marker_c127a1c0aeaba31325d40aecef64a5ae = L.marker(\n",
       "                [35.891659, 139.953995],\n",
       "                {}\n",
       "            ).addTo(marker_cluster_4c2e71695cd18dfca13b325ffac6471d);\n",
       "        \n",
       "    \n",
       "            marker_c127a1c0aeaba31325d40aecef64a5ae.bindTooltip(\n",
       "                `&lt;div&gt;\n",
       "                     10歳代\n",
       "                 &lt;/div&gt;`,\n",
       "                {&quot;sticky&quot;: true}\n",
       "            );\n",
       "        \n",
       "    \n",
       "            var marker_09358d75ca224193ed1bbe053aef2b7b = L.marker(\n",
       "                [35.891659, 139.953995],\n",
       "                {}\n",
       "            ).addTo(marker_cluster_4c2e71695cd18dfca13b325ffac6471d);\n",
       "        \n",
       "    \n",
       "            marker_09358d75ca224193ed1bbe053aef2b7b.bindTooltip(\n",
       "                `&lt;div&gt;\n",
       "                     10歳代\n",
       "                 &lt;/div&gt;`,\n",
       "                {&quot;sticky&quot;: true}\n",
       "            );\n",
       "        \n",
       "    \n",
       "            var marker_d8da263b6869425ee800a59530ecaf99 = L.marker(\n",
       "                [35.891659, 139.953995],\n",
       "                {}\n",
       "            ).addTo(marker_cluster_4c2e71695cd18dfca13b325ffac6471d);\n",
       "        \n",
       "    \n",
       "            marker_d8da263b6869425ee800a59530ecaf99.bindTooltip(\n",
       "                `&lt;div&gt;\n",
       "                     10歳代\n",
       "                 &lt;/div&gt;`,\n",
       "                {&quot;sticky&quot;: true}\n",
       "            );\n",
       "        \n",
       "    \n",
       "            var marker_eecf1e114a6180824ebf7fa09caeac1e = L.marker(\n",
       "                [35.891659, 139.953995],\n",
       "                {}\n",
       "            ).addTo(marker_cluster_4c2e71695cd18dfca13b325ffac6471d);\n",
       "        \n",
       "    \n",
       "            marker_eecf1e114a6180824ebf7fa09caeac1e.bindTooltip(\n",
       "                `&lt;div&gt;\n",
       "                     10歳代\n",
       "                 &lt;/div&gt;`,\n",
       "                {&quot;sticky&quot;: true}\n",
       "            );\n",
       "        \n",
       "    \n",
       "            var marker_8b7b0322dd2909971fe89f10285e11f1 = L.marker(\n",
       "                [35.891659, 139.953995],\n",
       "                {}\n",
       "            ).addTo(marker_cluster_4c2e71695cd18dfca13b325ffac6471d);\n",
       "        \n",
       "    \n",
       "            marker_8b7b0322dd2909971fe89f10285e11f1.bindTooltip(\n",
       "                `&lt;div&gt;\n",
       "                     20歳代\n",
       "                 &lt;/div&gt;`,\n",
       "                {&quot;sticky&quot;: true}\n",
       "            );\n",
       "        \n",
       "    \n",
       "            var marker_9aa429f7468520bb602c327455a35b2c = L.marker(\n",
       "                [35.891659, 139.953995],\n",
       "                {}\n",
       "            ).addTo(marker_cluster_4c2e71695cd18dfca13b325ffac6471d);\n",
       "        \n",
       "    \n",
       "            marker_9aa429f7468520bb602c327455a35b2c.bindTooltip(\n",
       "                `&lt;div&gt;\n",
       "                     10歳代\n",
       "                 &lt;/div&gt;`,\n",
       "                {&quot;sticky&quot;: true}\n",
       "            );\n",
       "        \n",
       "    \n",
       "            var marker_6326d4ca2023301de06450177a949ce8 = L.marker(\n",
       "                [35.891659, 139.953995],\n",
       "                {}\n",
       "            ).addTo(marker_cluster_4c2e71695cd18dfca13b325ffac6471d);\n",
       "        \n",
       "    \n",
       "            marker_6326d4ca2023301de06450177a949ce8.bindTooltip(\n",
       "                `&lt;div&gt;\n",
       "                     20歳代\n",
       "                 &lt;/div&gt;`,\n",
       "                {&quot;sticky&quot;: true}\n",
       "            );\n",
       "        \n",
       "    \n",
       "            var marker_b5fa80a8deecffaffc398d2031f5d8d9 = L.marker(\n",
       "                [35.891659, 139.953995],\n",
       "                {}\n",
       "            ).addTo(marker_cluster_4c2e71695cd18dfca13b325ffac6471d);\n",
       "        \n",
       "    \n",
       "            marker_b5fa80a8deecffaffc398d2031f5d8d9.bindTooltip(\n",
       "                `&lt;div&gt;\n",
       "                     40歳代\n",
       "                 &lt;/div&gt;`,\n",
       "                {&quot;sticky&quot;: true}\n",
       "            );\n",
       "        \n",
       "    \n",
       "            var marker_518758b782366519b88381ecab5902ae = L.marker(\n",
       "                [35.891659, 139.953995],\n",
       "                {}\n",
       "            ).addTo(marker_cluster_4c2e71695cd18dfca13b325ffac6471d);\n",
       "        \n",
       "    \n",
       "            marker_518758b782366519b88381ecab5902ae.bindTooltip(\n",
       "                `&lt;div&gt;\n",
       "                     10歳代\n",
       "                 &lt;/div&gt;`,\n",
       "                {&quot;sticky&quot;: true}\n",
       "            );\n",
       "        \n",
       "    \n",
       "            var marker_7ea669f2748d3adc635936d8874cd22d = L.marker(\n",
       "                [35.891659, 139.953995],\n",
       "                {}\n",
       "            ).addTo(marker_cluster_4c2e71695cd18dfca13b325ffac6471d);\n",
       "        \n",
       "    \n",
       "            marker_7ea669f2748d3adc635936d8874cd22d.bindTooltip(\n",
       "                `&lt;div&gt;\n",
       "                     10歳代\n",
       "                 &lt;/div&gt;`,\n",
       "                {&quot;sticky&quot;: true}\n",
       "            );\n",
       "        \n",
       "    \n",
       "            var marker_05f5e768fd75bbbb815a95402e5c8522 = L.marker(\n",
       "                [35.891659, 139.953995],\n",
       "                {}\n",
       "            ).addTo(marker_cluster_4c2e71695cd18dfca13b325ffac6471d);\n",
       "        \n",
       "    \n",
       "            marker_05f5e768fd75bbbb815a95402e5c8522.bindTooltip(\n",
       "                `&lt;div&gt;\n",
       "                     30歳代\n",
       "                 &lt;/div&gt;`,\n",
       "                {&quot;sticky&quot;: true}\n",
       "            );\n",
       "        \n",
       "    \n",
       "            var marker_41ab5359170ff49752c9b1e0d848e227 = L.marker(\n",
       "                [35.891659, 139.953995],\n",
       "                {}\n",
       "            ).addTo(marker_cluster_4c2e71695cd18dfca13b325ffac6471d);\n",
       "        \n",
       "    \n",
       "            marker_41ab5359170ff49752c9b1e0d848e227.bindTooltip(\n",
       "                `&lt;div&gt;\n",
       "                     20歳代\n",
       "                 &lt;/div&gt;`,\n",
       "                {&quot;sticky&quot;: true}\n",
       "            );\n",
       "        \n",
       "    \n",
       "            var marker_343debc8493d20cc538dff201c18d59a = L.marker(\n",
       "                [35.891659, 139.953995],\n",
       "                {}\n",
       "            ).addTo(marker_cluster_4c2e71695cd18dfca13b325ffac6471d);\n",
       "        \n",
       "    \n",
       "            marker_343debc8493d20cc538dff201c18d59a.bindTooltip(\n",
       "                `&lt;div&gt;\n",
       "                     10歳代\n",
       "                 &lt;/div&gt;`,\n",
       "                {&quot;sticky&quot;: true}\n",
       "            );\n",
       "        \n",
       "    \n",
       "            var marker_182d893814917d54046ee1578356faf1 = L.marker(\n",
       "                [35.891659, 139.953995],\n",
       "                {}\n",
       "            ).addTo(marker_cluster_4c2e71695cd18dfca13b325ffac6471d);\n",
       "        \n",
       "    \n",
       "            marker_182d893814917d54046ee1578356faf1.bindTooltip(\n",
       "                `&lt;div&gt;\n",
       "                     20歳代\n",
       "                 &lt;/div&gt;`,\n",
       "                {&quot;sticky&quot;: true}\n",
       "            );\n",
       "        \n",
       "    \n",
       "            var marker_a9544c4c3c7524da7ef7f3ed6cffb9a5 = L.marker(\n",
       "                [35.891659, 139.953995],\n",
       "                {}\n",
       "            ).addTo(marker_cluster_4c2e71695cd18dfca13b325ffac6471d);\n",
       "        \n",
       "    \n",
       "            marker_a9544c4c3c7524da7ef7f3ed6cffb9a5.bindTooltip(\n",
       "                `&lt;div&gt;\n",
       "                     40歳代\n",
       "                 &lt;/div&gt;`,\n",
       "                {&quot;sticky&quot;: true}\n",
       "            );\n",
       "        \n",
       "    \n",
       "            var marker_67e05c0bd0a769975f11b131271582cb = L.marker(\n",
       "                [35.891659, 139.953995],\n",
       "                {}\n",
       "            ).addTo(marker_cluster_4c2e71695cd18dfca13b325ffac6471d);\n",
       "        \n",
       "    \n",
       "            marker_67e05c0bd0a769975f11b131271582cb.bindTooltip(\n",
       "                `&lt;div&gt;\n",
       "                     10歳代\n",
       "                 &lt;/div&gt;`,\n",
       "                {&quot;sticky&quot;: true}\n",
       "            );\n",
       "        \n",
       "    \n",
       "            var marker_d39c9e8a17c0721686c2725510b27a3e = L.marker(\n",
       "                [35.891659, 139.953995],\n",
       "                {}\n",
       "            ).addTo(marker_cluster_4c2e71695cd18dfca13b325ffac6471d);\n",
       "        \n",
       "    \n",
       "            marker_d39c9e8a17c0721686c2725510b27a3e.bindTooltip(\n",
       "                `&lt;div&gt;\n",
       "                     10歳代\n",
       "                 &lt;/div&gt;`,\n",
       "                {&quot;sticky&quot;: true}\n",
       "            );\n",
       "        \n",
       "    \n",
       "            var marker_93908995a0cde854413fd2c03dafa4d5 = L.marker(\n",
       "                [35.891659, 139.953995],\n",
       "                {}\n",
       "            ).addTo(marker_cluster_4c2e71695cd18dfca13b325ffac6471d);\n",
       "        \n",
       "    \n",
       "            marker_93908995a0cde854413fd2c03dafa4d5.bindTooltip(\n",
       "                `&lt;div&gt;\n",
       "                     40歳代\n",
       "                 &lt;/div&gt;`,\n",
       "                {&quot;sticky&quot;: true}\n",
       "            );\n",
       "        \n",
       "    \n",
       "            var marker_643f07c53752ecc128eb6aaa78d47b00 = L.marker(\n",
       "                [35.891659, 139.953995],\n",
       "                {}\n",
       "            ).addTo(marker_cluster_4c2e71695cd18dfca13b325ffac6471d);\n",
       "        \n",
       "    \n",
       "            marker_643f07c53752ecc128eb6aaa78d47b00.bindTooltip(\n",
       "                `&lt;div&gt;\n",
       "                     20歳代\n",
       "                 &lt;/div&gt;`,\n",
       "                {&quot;sticky&quot;: true}\n",
       "            );\n",
       "        \n",
       "    \n",
       "            var marker_0ae46a5c1777fe74af2198f73c0943f9 = L.marker(\n",
       "                [35.891659, 139.953995],\n",
       "                {}\n",
       "            ).addTo(marker_cluster_4c2e71695cd18dfca13b325ffac6471d);\n",
       "        \n",
       "    \n",
       "            marker_0ae46a5c1777fe74af2198f73c0943f9.bindTooltip(\n",
       "                `&lt;div&gt;\n",
       "                     10歳代\n",
       "                 &lt;/div&gt;`,\n",
       "                {&quot;sticky&quot;: true}\n",
       "            );\n",
       "        \n",
       "    \n",
       "            var marker_6cb34e0ff774d192a148478ae425b4e1 = L.marker(\n",
       "                [35.891659, 139.953995],\n",
       "                {}\n",
       "            ).addTo(marker_cluster_4c2e71695cd18dfca13b325ffac6471d);\n",
       "        \n",
       "    \n",
       "            marker_6cb34e0ff774d192a148478ae425b4e1.bindTooltip(\n",
       "                `&lt;div&gt;\n",
       "                     20歳代\n",
       "                 &lt;/div&gt;`,\n",
       "                {&quot;sticky&quot;: true}\n",
       "            );\n",
       "        \n",
       "    \n",
       "            var marker_4cf448d0dcdcaa6f502e306ec0f31927 = L.marker(\n",
       "                [35.891659, 139.953995],\n",
       "                {}\n",
       "            ).addTo(marker_cluster_4c2e71695cd18dfca13b325ffac6471d);\n",
       "        \n",
       "    \n",
       "            marker_4cf448d0dcdcaa6f502e306ec0f31927.bindTooltip(\n",
       "                `&lt;div&gt;\n",
       "                     20歳代\n",
       "                 &lt;/div&gt;`,\n",
       "                {&quot;sticky&quot;: true}\n",
       "            );\n",
       "        \n",
       "    \n",
       "            var marker_3c9ff46323498c752147988dec80f5db = L.marker(\n",
       "                [35.896427, 139.937088],\n",
       "                {}\n",
       "            ).addTo(marker_cluster_4c2e71695cd18dfca13b325ffac6471d);\n",
       "        \n",
       "    \n",
       "            marker_3c9ff46323498c752147988dec80f5db.bindTooltip(\n",
       "                `&lt;div&gt;\n",
       "                     30歳代\n",
       "                 &lt;/div&gt;`,\n",
       "                {&quot;sticky&quot;: true}\n",
       "            );\n",
       "        \n",
       "    \n",
       "            var marker_6eba4826b065f2ef21d37a4c72e3d2a8 = L.marker(\n",
       "                [35.896942, 139.944931],\n",
       "                {}\n",
       "            ).addTo(marker_cluster_4c2e71695cd18dfca13b325ffac6471d);\n",
       "        \n",
       "    \n",
       "            marker_6eba4826b065f2ef21d37a4c72e3d2a8.bindTooltip(\n",
       "                `&lt;div&gt;\n",
       "                     20歳代\n",
       "                 &lt;/div&gt;`,\n",
       "                {&quot;sticky&quot;: true}\n",
       "            );\n",
       "        \n",
       "    \n",
       "            var marker_f85243c4d69334fc3f3a3f86a528da24 = L.marker(\n",
       "                [35.857388, 139.97847],\n",
       "                {}\n",
       "            ).addTo(marker_cluster_4c2e71695cd18dfca13b325ffac6471d);\n",
       "        \n",
       "    \n",
       "            marker_f85243c4d69334fc3f3a3f86a528da24.bindTooltip(\n",
       "                `&lt;div&gt;\n",
       "                     20歳代\n",
       "                 &lt;/div&gt;`,\n",
       "                {&quot;sticky&quot;: true}\n",
       "            );\n",
       "        \n",
       "    \n",
       "            var marker_1e6c4823d206c69e0cb9f2cf54d1ac16 = L.marker(\n",
       "                [35.859604, 139.977722],\n",
       "                {}\n",
       "            ).addTo(marker_cluster_4c2e71695cd18dfca13b325ffac6471d);\n",
       "        \n",
       "    \n",
       "            marker_1e6c4823d206c69e0cb9f2cf54d1ac16.bindTooltip(\n",
       "                `&lt;div&gt;\n",
       "                     30歳代\n",
       "                 &lt;/div&gt;`,\n",
       "                {&quot;sticky&quot;: true}\n",
       "            );\n",
       "        \n",
       "    \n",
       "            var marker_8a0fe291932dbdbf8c066203e8e0911c = L.marker(\n",
       "                [35.859604, 139.977722],\n",
       "                {}\n",
       "            ).addTo(marker_cluster_4c2e71695cd18dfca13b325ffac6471d);\n",
       "        \n",
       "    \n",
       "            marker_8a0fe291932dbdbf8c066203e8e0911c.bindTooltip(\n",
       "                `&lt;div&gt;\n",
       "                     20歳代\n",
       "                 &lt;/div&gt;`,\n",
       "                {&quot;sticky&quot;: true}\n",
       "            );\n",
       "        \n",
       "    \n",
       "            var marker_36b8d772cc64616c27a51ed502a6c6d3 = L.marker(\n",
       "                [35.856449, 139.967957],\n",
       "                {}\n",
       "            ).addTo(marker_cluster_4c2e71695cd18dfca13b325ffac6471d);\n",
       "        \n",
       "    \n",
       "            marker_36b8d772cc64616c27a51ed502a6c6d3.bindTooltip(\n",
       "                `&lt;div&gt;\n",
       "                     10歳代\n",
       "                 &lt;/div&gt;`,\n",
       "                {&quot;sticky&quot;: true}\n",
       "            );\n",
       "        \n",
       "    \n",
       "            var marker_52bf46fdfeba843a1a4c78ef716de828 = L.marker(\n",
       "                [35.856449, 139.967957],\n",
       "                {}\n",
       "            ).addTo(marker_cluster_4c2e71695cd18dfca13b325ffac6471d);\n",
       "        \n",
       "    \n",
       "            marker_52bf46fdfeba843a1a4c78ef716de828.bindTooltip(\n",
       "                `&lt;div&gt;\n",
       "                     10歳代\n",
       "                 &lt;/div&gt;`,\n",
       "                {&quot;sticky&quot;: true}\n",
       "            );\n",
       "        \n",
       "    \n",
       "            var marker_875fc19fc6122ee0033a2ca74e9cf888 = L.marker(\n",
       "                [35.856449, 139.967957],\n",
       "                {}\n",
       "            ).addTo(marker_cluster_4c2e71695cd18dfca13b325ffac6471d);\n",
       "        \n",
       "    \n",
       "            marker_875fc19fc6122ee0033a2ca74e9cf888.bindTooltip(\n",
       "                `&lt;div&gt;\n",
       "                     10歳代\n",
       "                 &lt;/div&gt;`,\n",
       "                {&quot;sticky&quot;: true}\n",
       "            );\n",
       "        \n",
       "    \n",
       "            var marker_992c1768bcfb797d207b7b30f5690ba8 = L.marker(\n",
       "                [35.856449, 139.967957],\n",
       "                {}\n",
       "            ).addTo(marker_cluster_4c2e71695cd18dfca13b325ffac6471d);\n",
       "        \n",
       "    \n",
       "            marker_992c1768bcfb797d207b7b30f5690ba8.bindTooltip(\n",
       "                `&lt;div&gt;\n",
       "                     10歳代\n",
       "                 &lt;/div&gt;`,\n",
       "                {&quot;sticky&quot;: true}\n",
       "            );\n",
       "        \n",
       "    \n",
       "            var marker_2da69bfd9f63b1f013d1e2f7d9817fa3 = L.marker(\n",
       "                [35.864445, 139.986511],\n",
       "                {}\n",
       "            ).addTo(marker_cluster_4c2e71695cd18dfca13b325ffac6471d);\n",
       "        \n",
       "    \n",
       "            marker_2da69bfd9f63b1f013d1e2f7d9817fa3.bindTooltip(\n",
       "                `&lt;div&gt;\n",
       "                     40歳代\n",
       "                 &lt;/div&gt;`,\n",
       "                {&quot;sticky&quot;: true}\n",
       "            );\n",
       "        \n",
       "    \n",
       "            var marker_83c4f3f62ad77e319d08f7915955d1c5 = L.marker(\n",
       "                [35.864445, 139.986511],\n",
       "                {}\n",
       "            ).addTo(marker_cluster_4c2e71695cd18dfca13b325ffac6471d);\n",
       "        \n",
       "    \n",
       "            marker_83c4f3f62ad77e319d08f7915955d1c5.bindTooltip(\n",
       "                `&lt;div&gt;\n",
       "                     10歳代\n",
       "                 &lt;/div&gt;`,\n",
       "                {&quot;sticky&quot;: true}\n",
       "            );\n",
       "        \n",
       "    \n",
       "            var marker_fac85a56f5a1dad552f1e29939713596 = L.marker(\n",
       "                [35.864445, 139.986511],\n",
       "                {}\n",
       "            ).addTo(marker_cluster_4c2e71695cd18dfca13b325ffac6471d);\n",
       "        \n",
       "    \n",
       "            marker_fac85a56f5a1dad552f1e29939713596.bindTooltip(\n",
       "                `&lt;div&gt;\n",
       "                     10歳代\n",
       "                 &lt;/div&gt;`,\n",
       "                {&quot;sticky&quot;: true}\n",
       "            );\n",
       "        \n",
       "    \n",
       "            var marker_abddbdb7efeb9100f40057e945d1d2aa = L.marker(\n",
       "                [35.864445, 139.986511],\n",
       "                {}\n",
       "            ).addTo(marker_cluster_4c2e71695cd18dfca13b325ffac6471d);\n",
       "        \n",
       "    \n",
       "            marker_abddbdb7efeb9100f40057e945d1d2aa.bindTooltip(\n",
       "                `&lt;div&gt;\n",
       "                     10歳代\n",
       "                 &lt;/div&gt;`,\n",
       "                {&quot;sticky&quot;: true}\n",
       "            );\n",
       "        \n",
       "    \n",
       "            var marker_94b24f059bf45f87f5e4845e8984cffe = L.marker(\n",
       "                [35.864445, 139.986511],\n",
       "                {}\n",
       "            ).addTo(marker_cluster_4c2e71695cd18dfca13b325ffac6471d);\n",
       "        \n",
       "    \n",
       "            marker_94b24f059bf45f87f5e4845e8984cffe.bindTooltip(\n",
       "                `&lt;div&gt;\n",
       "                     10歳代\n",
       "                 &lt;/div&gt;`,\n",
       "                {&quot;sticky&quot;: true}\n",
       "            );\n",
       "        \n",
       "    \n",
       "            var marker_b10e6b0eab3c97c1a9aef4105ca9bd82 = L.marker(\n",
       "                [35.864445, 139.986511],\n",
       "                {}\n",
       "            ).addTo(marker_cluster_4c2e71695cd18dfca13b325ffac6471d);\n",
       "        \n",
       "    \n",
       "            marker_b10e6b0eab3c97c1a9aef4105ca9bd82.bindTooltip(\n",
       "                `&lt;div&gt;\n",
       "                     20歳代\n",
       "                 &lt;/div&gt;`,\n",
       "                {&quot;sticky&quot;: true}\n",
       "            );\n",
       "        \n",
       "    \n",
       "            var marker_713d454fa5a980b28b42af7458f91c9b = L.marker(\n",
       "                [35.861809, 139.97142],\n",
       "                {}\n",
       "            ).addTo(marker_cluster_4c2e71695cd18dfca13b325ffac6471d);\n",
       "        \n",
       "    \n",
       "            marker_713d454fa5a980b28b42af7458f91c9b.bindTooltip(\n",
       "                `&lt;div&gt;\n",
       "                     40歳代\n",
       "                 &lt;/div&gt;`,\n",
       "                {&quot;sticky&quot;: true}\n",
       "            );\n",
       "        \n",
       "    \n",
       "            var marker_e260f58bebe539ff95c31bac9327fdaf = L.marker(\n",
       "                [35.861809, 139.97142],\n",
       "                {}\n",
       "            ).addTo(marker_cluster_4c2e71695cd18dfca13b325ffac6471d);\n",
       "        \n",
       "    \n",
       "            marker_e260f58bebe539ff95c31bac9327fdaf.bindTooltip(\n",
       "                `&lt;div&gt;\n",
       "                     30歳代\n",
       "                 &lt;/div&gt;`,\n",
       "                {&quot;sticky&quot;: true}\n",
       "            );\n",
       "        \n",
       "    \n",
       "            var marker_3f74ae5032a999dc772103d1fd8a1dfe = L.marker(\n",
       "                [35.861809, 139.97142],\n",
       "                {}\n",
       "            ).addTo(marker_cluster_4c2e71695cd18dfca13b325ffac6471d);\n",
       "        \n",
       "    \n",
       "            marker_3f74ae5032a999dc772103d1fd8a1dfe.bindTooltip(\n",
       "                `&lt;div&gt;\n",
       "                     20歳代\n",
       "                 &lt;/div&gt;`,\n",
       "                {&quot;sticky&quot;: true}\n",
       "            );\n",
       "        \n",
       "    \n",
       "            var marker_7d49a6b8f8d146bb4a72e835c98e4441 = L.marker(\n",
       "                [35.861809, 139.97142],\n",
       "                {}\n",
       "            ).addTo(marker_cluster_4c2e71695cd18dfca13b325ffac6471d);\n",
       "        \n",
       "    \n",
       "            marker_7d49a6b8f8d146bb4a72e835c98e4441.bindTooltip(\n",
       "                `&lt;div&gt;\n",
       "                     30歳代\n",
       "                 &lt;/div&gt;`,\n",
       "                {&quot;sticky&quot;: true}\n",
       "            );\n",
       "        \n",
       "    \n",
       "            var marker_e3b9d264841ac19c1158e6b2ee915975 = L.marker(\n",
       "                [35.861809, 139.97142],\n",
       "                {}\n",
       "            ).addTo(marker_cluster_4c2e71695cd18dfca13b325ffac6471d);\n",
       "        \n",
       "    \n",
       "            marker_e3b9d264841ac19c1158e6b2ee915975.bindTooltip(\n",
       "                `&lt;div&gt;\n",
       "                     40歳代\n",
       "                 &lt;/div&gt;`,\n",
       "                {&quot;sticky&quot;: true}\n",
       "            );\n",
       "        \n",
       "    \n",
       "            var marker_d8248128c93c677ca59c240a73cd533c = L.marker(\n",
       "                [35.861809, 139.97142],\n",
       "                {}\n",
       "            ).addTo(marker_cluster_4c2e71695cd18dfca13b325ffac6471d);\n",
       "        \n",
       "    \n",
       "            marker_d8248128c93c677ca59c240a73cd533c.bindTooltip(\n",
       "                `&lt;div&gt;\n",
       "                     60-64歳\n",
       "                 &lt;/div&gt;`,\n",
       "                {&quot;sticky&quot;: true}\n",
       "            );\n",
       "        \n",
       "    \n",
       "            var marker_b1aa7d68c62138dc25a671a7f483fc9e = L.marker(\n",
       "                [35.861809, 139.97142],\n",
       "                {}\n",
       "            ).addTo(marker_cluster_4c2e71695cd18dfca13b325ffac6471d);\n",
       "        \n",
       "    \n",
       "            marker_b1aa7d68c62138dc25a671a7f483fc9e.bindTooltip(\n",
       "                `&lt;div&gt;\n",
       "                     10歳代\n",
       "                 &lt;/div&gt;`,\n",
       "                {&quot;sticky&quot;: true}\n",
       "            );\n",
       "        \n",
       "    \n",
       "            var marker_3540933f6aa56a661827726ce1687e0a = L.marker(\n",
       "                [35.861809, 139.97142],\n",
       "                {}\n",
       "            ).addTo(marker_cluster_4c2e71695cd18dfca13b325ffac6471d);\n",
       "        \n",
       "    \n",
       "            marker_3540933f6aa56a661827726ce1687e0a.bindTooltip(\n",
       "                `&lt;div&gt;\n",
       "                     20歳代\n",
       "                 &lt;/div&gt;`,\n",
       "                {&quot;sticky&quot;: true}\n",
       "            );\n",
       "        \n",
       "    \n",
       "            var marker_827b0635d982f04d6030b1e58ac860d6 = L.marker(\n",
       "                [35.861809, 139.97142],\n",
       "                {}\n",
       "            ).addTo(marker_cluster_4c2e71695cd18dfca13b325ffac6471d);\n",
       "        \n",
       "    \n",
       "            marker_827b0635d982f04d6030b1e58ac860d6.bindTooltip(\n",
       "                `&lt;div&gt;\n",
       "                     20歳代\n",
       "                 &lt;/div&gt;`,\n",
       "                {&quot;sticky&quot;: true}\n",
       "            );\n",
       "        \n",
       "    \n",
       "            var marker_ac85500036e26e7f955c00726d9aeb40 = L.marker(\n",
       "                [35.861809, 139.97142],\n",
       "                {}\n",
       "            ).addTo(marker_cluster_4c2e71695cd18dfca13b325ffac6471d);\n",
       "        \n",
       "    \n",
       "            marker_ac85500036e26e7f955c00726d9aeb40.bindTooltip(\n",
       "                `&lt;div&gt;\n",
       "                     30歳代\n",
       "                 &lt;/div&gt;`,\n",
       "                {&quot;sticky&quot;: true}\n",
       "            );\n",
       "        \n",
       "    \n",
       "            var marker_5b9cb56dfc163044b8dcbb31b028818c = L.marker(\n",
       "                [35.861809, 139.97142],\n",
       "                {}\n",
       "            ).addTo(marker_cluster_4c2e71695cd18dfca13b325ffac6471d);\n",
       "        \n",
       "    \n",
       "            marker_5b9cb56dfc163044b8dcbb31b028818c.bindTooltip(\n",
       "                `&lt;div&gt;\n",
       "                     20歳代\n",
       "                 &lt;/div&gt;`,\n",
       "                {&quot;sticky&quot;: true}\n",
       "            );\n",
       "        \n",
       "    \n",
       "            var marker_88ed02e2b98d90f962bac7360dcf090b = L.marker(\n",
       "                [35.861809, 139.97142],\n",
       "                {}\n",
       "            ).addTo(marker_cluster_4c2e71695cd18dfca13b325ffac6471d);\n",
       "        \n",
       "    \n",
       "            marker_88ed02e2b98d90f962bac7360dcf090b.bindTooltip(\n",
       "                `&lt;div&gt;\n",
       "                     70歳以上\n",
       "                 &lt;/div&gt;`,\n",
       "                {&quot;sticky&quot;: true}\n",
       "            );\n",
       "        \n",
       "    \n",
       "            var marker_c3358c2df40499e8c5c0374517560480 = L.marker(\n",
       "                [35.861694, 139.973999],\n",
       "                {}\n",
       "            ).addTo(marker_cluster_4c2e71695cd18dfca13b325ffac6471d);\n",
       "        \n",
       "    \n",
       "            marker_c3358c2df40499e8c5c0374517560480.bindTooltip(\n",
       "                `&lt;div&gt;\n",
       "                     70歳以上\n",
       "                 &lt;/div&gt;`,\n",
       "                {&quot;sticky&quot;: true}\n",
       "            );\n",
       "        \n",
       "    \n",
       "            var marker_062ea44e414578505824bb5cc9eb2962 = L.marker(\n",
       "                [35.861694, 139.973999],\n",
       "                {}\n",
       "            ).addTo(marker_cluster_4c2e71695cd18dfca13b325ffac6471d);\n",
       "        \n",
       "    \n",
       "            marker_062ea44e414578505824bb5cc9eb2962.bindTooltip(\n",
       "                `&lt;div&gt;\n",
       "                     20歳代\n",
       "                 &lt;/div&gt;`,\n",
       "                {&quot;sticky&quot;: true}\n",
       "            );\n",
       "        \n",
       "    \n",
       "            var marker_4b252c4cd8f366d36757d274db9b0fc6 = L.marker(\n",
       "                [35.861694, 139.973999],\n",
       "                {}\n",
       "            ).addTo(marker_cluster_4c2e71695cd18dfca13b325ffac6471d);\n",
       "        \n",
       "    \n",
       "            marker_4b252c4cd8f366d36757d274db9b0fc6.bindTooltip(\n",
       "                `&lt;div&gt;\n",
       "                     20歳代\n",
       "                 &lt;/div&gt;`,\n",
       "                {&quot;sticky&quot;: true}\n",
       "            );\n",
       "        \n",
       "    \n",
       "            var marker_fed802a547dba8ff7404663133f29cb0 = L.marker(\n",
       "                [35.861694, 139.973999],\n",
       "                {}\n",
       "            ).addTo(marker_cluster_4c2e71695cd18dfca13b325ffac6471d);\n",
       "        \n",
       "    \n",
       "            marker_fed802a547dba8ff7404663133f29cb0.bindTooltip(\n",
       "                `&lt;div&gt;\n",
       "                     30歳代\n",
       "                 &lt;/div&gt;`,\n",
       "                {&quot;sticky&quot;: true}\n",
       "            );\n",
       "        \n",
       "    \n",
       "            var marker_aad32cbb87f3742a5f93100259af3bcc = L.marker(\n",
       "                [35.861694, 139.973999],\n",
       "                {}\n",
       "            ).addTo(marker_cluster_4c2e71695cd18dfca13b325ffac6471d);\n",
       "        \n",
       "    \n",
       "            marker_aad32cbb87f3742a5f93100259af3bcc.bindTooltip(\n",
       "                `&lt;div&gt;\n",
       "                     30歳代\n",
       "                 &lt;/div&gt;`,\n",
       "                {&quot;sticky&quot;: true}\n",
       "            );\n",
       "        \n",
       "    \n",
       "            var marker_ebed110cbd14d4386588493d039c9cd1 = L.marker(\n",
       "                [35.861694, 139.973999],\n",
       "                {}\n",
       "            ).addTo(marker_cluster_4c2e71695cd18dfca13b325ffac6471d);\n",
       "        \n",
       "    \n",
       "            marker_ebed110cbd14d4386588493d039c9cd1.bindTooltip(\n",
       "                `&lt;div&gt;\n",
       "                     20歳代\n",
       "                 &lt;/div&gt;`,\n",
       "                {&quot;sticky&quot;: true}\n",
       "            );\n",
       "        \n",
       "    \n",
       "            var marker_fe8d20ee5cc07a022bdff171a13b827e = L.marker(\n",
       "                [35.860302, 139.975159],\n",
       "                {}\n",
       "            ).addTo(marker_cluster_4c2e71695cd18dfca13b325ffac6471d);\n",
       "        \n",
       "    \n",
       "            marker_fe8d20ee5cc07a022bdff171a13b827e.bindTooltip(\n",
       "                `&lt;div&gt;\n",
       "                     70歳以上\n",
       "                 &lt;/div&gt;`,\n",
       "                {&quot;sticky&quot;: true}\n",
       "            );\n",
       "        \n",
       "    \n",
       "            var marker_8b4306a6eadb5c7f0b0c3d74f2c9f834 = L.marker(\n",
       "                [35.860302, 139.975159],\n",
       "                {}\n",
       "            ).addTo(marker_cluster_4c2e71695cd18dfca13b325ffac6471d);\n",
       "        \n",
       "    \n",
       "            marker_8b4306a6eadb5c7f0b0c3d74f2c9f834.bindTooltip(\n",
       "                `&lt;div&gt;\n",
       "                     20歳代\n",
       "                 &lt;/div&gt;`,\n",
       "                {&quot;sticky&quot;: true}\n",
       "            );\n",
       "        \n",
       "    \n",
       "            var marker_1ebb128fd601b46f8e95ab919f7df6b7 = L.marker(\n",
       "                [35.860302, 139.975159],\n",
       "                {}\n",
       "            ).addTo(marker_cluster_4c2e71695cd18dfca13b325ffac6471d);\n",
       "        \n",
       "    \n",
       "            marker_1ebb128fd601b46f8e95ab919f7df6b7.bindTooltip(\n",
       "                `&lt;div&gt;\n",
       "                     10歳代\n",
       "                 &lt;/div&gt;`,\n",
       "                {&quot;sticky&quot;: true}\n",
       "            );\n",
       "        \n",
       "    \n",
       "            var marker_e6059efa542a0dc36fc1f6e81773803d = L.marker(\n",
       "                [35.860302, 139.975159],\n",
       "                {}\n",
       "            ).addTo(marker_cluster_4c2e71695cd18dfca13b325ffac6471d);\n",
       "        \n",
       "    \n",
       "            marker_e6059efa542a0dc36fc1f6e81773803d.bindTooltip(\n",
       "                `&lt;div&gt;\n",
       "                     20歳代\n",
       "                 &lt;/div&gt;`,\n",
       "                {&quot;sticky&quot;: true}\n",
       "            );\n",
       "        \n",
       "    \n",
       "            var marker_bfd4ca7659cf75cf334a610eafdbfcd3 = L.marker(\n",
       "                [35.860302, 139.975159],\n",
       "                {}\n",
       "            ).addTo(marker_cluster_4c2e71695cd18dfca13b325ffac6471d);\n",
       "        \n",
       "    \n",
       "            marker_bfd4ca7659cf75cf334a610eafdbfcd3.bindTooltip(\n",
       "                `&lt;div&gt;\n",
       "                     30歳代\n",
       "                 &lt;/div&gt;`,\n",
       "                {&quot;sticky&quot;: true}\n",
       "            );\n",
       "        \n",
       "    \n",
       "            var marker_be8541c2c05b6e5c5f5671922a7bc002 = L.marker(\n",
       "                [35.860302, 139.975159],\n",
       "                {}\n",
       "            ).addTo(marker_cluster_4c2e71695cd18dfca13b325ffac6471d);\n",
       "        \n",
       "    \n",
       "            marker_be8541c2c05b6e5c5f5671922a7bc002.bindTooltip(\n",
       "                `&lt;div&gt;\n",
       "                     20歳代\n",
       "                 &lt;/div&gt;`,\n",
       "                {&quot;sticky&quot;: true}\n",
       "            );\n",
       "        \n",
       "    \n",
       "            var marker_f9c202fa00cccd074cb948d447b0157f = L.marker(\n",
       "                [35.860302, 139.975159],\n",
       "                {}\n",
       "            ).addTo(marker_cluster_4c2e71695cd18dfca13b325ffac6471d);\n",
       "        \n",
       "    \n",
       "            marker_f9c202fa00cccd074cb948d447b0157f.bindTooltip(\n",
       "                `&lt;div&gt;\n",
       "                     20歳代\n",
       "                 &lt;/div&gt;`,\n",
       "                {&quot;sticky&quot;: true}\n",
       "            );\n",
       "        \n",
       "    \n",
       "            var marker_ff9578949304a309d408aeafd819a54f = L.marker(\n",
       "                [35.860302, 139.975159],\n",
       "                {}\n",
       "            ).addTo(marker_cluster_4c2e71695cd18dfca13b325ffac6471d);\n",
       "        \n",
       "    \n",
       "            marker_ff9578949304a309d408aeafd819a54f.bindTooltip(\n",
       "                `&lt;div&gt;\n",
       "                     60-64歳\n",
       "                 &lt;/div&gt;`,\n",
       "                {&quot;sticky&quot;: true}\n",
       "            );\n",
       "        \n",
       "    \n",
       "            var marker_6882f79ca253af3d73ef2a6adcf0f2f3 = L.marker(\n",
       "                [35.863529, 139.974228],\n",
       "                {}\n",
       "            ).addTo(marker_cluster_4c2e71695cd18dfca13b325ffac6471d);\n",
       "        \n",
       "    \n",
       "            marker_6882f79ca253af3d73ef2a6adcf0f2f3.bindTooltip(\n",
       "                `&lt;div&gt;\n",
       "                     20歳代\n",
       "                 &lt;/div&gt;`,\n",
       "                {&quot;sticky&quot;: true}\n",
       "            );\n",
       "        \n",
       "    \n",
       "            var marker_37929560e501ecd4d8623cf1d78c2b11 = L.marker(\n",
       "                [35.863529, 139.974228],\n",
       "                {}\n",
       "            ).addTo(marker_cluster_4c2e71695cd18dfca13b325ffac6471d);\n",
       "        \n",
       "    \n",
       "            marker_37929560e501ecd4d8623cf1d78c2b11.bindTooltip(\n",
       "                `&lt;div&gt;\n",
       "                     10歳代\n",
       "                 &lt;/div&gt;`,\n",
       "                {&quot;sticky&quot;: true}\n",
       "            );\n",
       "        \n",
       "    \n",
       "            var marker_a84b4b82a6a5adf7eca8a73e8e05a7be = L.marker(\n",
       "                [35.863529, 139.974228],\n",
       "                {}\n",
       "            ).addTo(marker_cluster_4c2e71695cd18dfca13b325ffac6471d);\n",
       "        \n",
       "    \n",
       "            marker_a84b4b82a6a5adf7eca8a73e8e05a7be.bindTooltip(\n",
       "                `&lt;div&gt;\n",
       "                     10歳代\n",
       "                 &lt;/div&gt;`,\n",
       "                {&quot;sticky&quot;: true}\n",
       "            );\n",
       "        \n",
       "    \n",
       "            var marker_16023fda6b2d7064d2e2ab493d645e8f = L.marker(\n",
       "                [35.863529, 139.974228],\n",
       "                {}\n",
       "            ).addTo(marker_cluster_4c2e71695cd18dfca13b325ffac6471d);\n",
       "        \n",
       "    \n",
       "            marker_16023fda6b2d7064d2e2ab493d645e8f.bindTooltip(\n",
       "                `&lt;div&gt;\n",
       "                     50歳代\n",
       "                 &lt;/div&gt;`,\n",
       "                {&quot;sticky&quot;: true}\n",
       "            );\n",
       "        \n",
       "    \n",
       "            var marker_f9f6d71f5186f1886b77bd0893b8fd7e = L.marker(\n",
       "                [35.863529, 139.974228],\n",
       "                {}\n",
       "            ).addTo(marker_cluster_4c2e71695cd18dfca13b325ffac6471d);\n",
       "        \n",
       "    \n",
       "            marker_f9f6d71f5186f1886b77bd0893b8fd7e.bindTooltip(\n",
       "                `&lt;div&gt;\n",
       "                     10歳代\n",
       "                 &lt;/div&gt;`,\n",
       "                {&quot;sticky&quot;: true}\n",
       "            );\n",
       "        \n",
       "    \n",
       "            var marker_86d818caf7d35a85d5cd17da6a692a9f = L.marker(\n",
       "                [35.866447, 139.97612],\n",
       "                {}\n",
       "            ).addTo(marker_cluster_4c2e71695cd18dfca13b325ffac6471d);\n",
       "        \n",
       "    \n",
       "            marker_86d818caf7d35a85d5cd17da6a692a9f.bindTooltip(\n",
       "                `&lt;div&gt;\n",
       "                     10歳代\n",
       "                 &lt;/div&gt;`,\n",
       "                {&quot;sticky&quot;: true}\n",
       "            );\n",
       "        \n",
       "    \n",
       "            var marker_a9d723fa7e3f1ba66c013d42388fd98e = L.marker(\n",
       "                [35.866447, 139.97612],\n",
       "                {}\n",
       "            ).addTo(marker_cluster_4c2e71695cd18dfca13b325ffac6471d);\n",
       "        \n",
       "    \n",
       "            marker_a9d723fa7e3f1ba66c013d42388fd98e.bindTooltip(\n",
       "                `&lt;div&gt;\n",
       "                     10歳代\n",
       "                 &lt;/div&gt;`,\n",
       "                {&quot;sticky&quot;: true}\n",
       "            );\n",
       "        \n",
       "    \n",
       "            var marker_4fcee87c541b41f3fbc71dff581d7df0 = L.marker(\n",
       "                [35.866447, 139.97612],\n",
       "                {}\n",
       "            ).addTo(marker_cluster_4c2e71695cd18dfca13b325ffac6471d);\n",
       "        \n",
       "    \n",
       "            marker_4fcee87c541b41f3fbc71dff581d7df0.bindTooltip(\n",
       "                `&lt;div&gt;\n",
       "                     10歳代\n",
       "                 &lt;/div&gt;`,\n",
       "                {&quot;sticky&quot;: true}\n",
       "            );\n",
       "        \n",
       "    \n",
       "            var marker_d710ed498ea70e11602144c6d3312f2d = L.marker(\n",
       "                [35.866447, 139.97612],\n",
       "                {}\n",
       "            ).addTo(marker_cluster_4c2e71695cd18dfca13b325ffac6471d);\n",
       "        \n",
       "    \n",
       "            marker_d710ed498ea70e11602144c6d3312f2d.bindTooltip(\n",
       "                `&lt;div&gt;\n",
       "                     10歳代\n",
       "                 &lt;/div&gt;`,\n",
       "                {&quot;sticky&quot;: true}\n",
       "            );\n",
       "        \n",
       "    \n",
       "            var marker_0164888cdc418eeb455b95c401ae6f7f = L.marker(\n",
       "                [35.866447, 139.97612],\n",
       "                {}\n",
       "            ).addTo(marker_cluster_4c2e71695cd18dfca13b325ffac6471d);\n",
       "        \n",
       "    \n",
       "            marker_0164888cdc418eeb455b95c401ae6f7f.bindTooltip(\n",
       "                `&lt;div&gt;\n",
       "                     20歳代\n",
       "                 &lt;/div&gt;`,\n",
       "                {&quot;sticky&quot;: true}\n",
       "            );\n",
       "        \n",
       "    \n",
       "            var marker_287ecd4180493cfd98fc085026926a55 = L.marker(\n",
       "                [35.866447, 139.97612],\n",
       "                {}\n",
       "            ).addTo(marker_cluster_4c2e71695cd18dfca13b325ffac6471d);\n",
       "        \n",
       "    \n",
       "            marker_287ecd4180493cfd98fc085026926a55.bindTooltip(\n",
       "                `&lt;div&gt;\n",
       "                     20歳代\n",
       "                 &lt;/div&gt;`,\n",
       "                {&quot;sticky&quot;: true}\n",
       "            );\n",
       "        \n",
       "    \n",
       "            var marker_7d1b80a597276ac2b271bd39aca97e42 = L.marker(\n",
       "                [35.866447, 139.97612],\n",
       "                {}\n",
       "            ).addTo(marker_cluster_4c2e71695cd18dfca13b325ffac6471d);\n",
       "        \n",
       "    \n",
       "            marker_7d1b80a597276ac2b271bd39aca97e42.bindTooltip(\n",
       "                `&lt;div&gt;\n",
       "                     20歳代\n",
       "                 &lt;/div&gt;`,\n",
       "                {&quot;sticky&quot;: true}\n",
       "            );\n",
       "        \n",
       "    \n",
       "            var marker_627b1703faca694330f0ea62ba54045b = L.marker(\n",
       "                [35.866447, 139.97612],\n",
       "                {}\n",
       "            ).addTo(marker_cluster_4c2e71695cd18dfca13b325ffac6471d);\n",
       "        \n",
       "    \n",
       "            marker_627b1703faca694330f0ea62ba54045b.bindTooltip(\n",
       "                `&lt;div&gt;\n",
       "                     10歳代\n",
       "                 &lt;/div&gt;`,\n",
       "                {&quot;sticky&quot;: true}\n",
       "            );\n",
       "        \n",
       "    \n",
       "            var marker_5964e171208046852bc479ba67b0a3d3 = L.marker(\n",
       "                [35.866447, 139.97612],\n",
       "                {}\n",
       "            ).addTo(marker_cluster_4c2e71695cd18dfca13b325ffac6471d);\n",
       "        \n",
       "    \n",
       "            marker_5964e171208046852bc479ba67b0a3d3.bindTooltip(\n",
       "                `&lt;div&gt;\n",
       "                     20歳代\n",
       "                 &lt;/div&gt;`,\n",
       "                {&quot;sticky&quot;: true}\n",
       "            );\n",
       "        \n",
       "    \n",
       "            var marker_cc25717fecdad6fe485d94b2625ff6b3 = L.marker(\n",
       "                [35.866447, 139.97612],\n",
       "                {}\n",
       "            ).addTo(marker_cluster_4c2e71695cd18dfca13b325ffac6471d);\n",
       "        \n",
       "    \n",
       "            marker_cc25717fecdad6fe485d94b2625ff6b3.bindTooltip(\n",
       "                `&lt;div&gt;\n",
       "                     10歳代\n",
       "                 &lt;/div&gt;`,\n",
       "                {&quot;sticky&quot;: true}\n",
       "            );\n",
       "        \n",
       "    \n",
       "            var marker_95c573ece9fe84c794fdcbcb370ea5f4 = L.marker(\n",
       "                [35.864346, 139.977219],\n",
       "                {}\n",
       "            ).addTo(marker_cluster_4c2e71695cd18dfca13b325ffac6471d);\n",
       "        \n",
       "    \n",
       "            marker_95c573ece9fe84c794fdcbcb370ea5f4.bindTooltip(\n",
       "                `&lt;div&gt;\n",
       "                     40歳代\n",
       "                 &lt;/div&gt;`,\n",
       "                {&quot;sticky&quot;: true}\n",
       "            );\n",
       "        \n",
       "    \n",
       "            var marker_41aaa78795aa2ea1e7846af57b1b0226 = L.marker(\n",
       "                [35.864346, 139.977219],\n",
       "                {}\n",
       "            ).addTo(marker_cluster_4c2e71695cd18dfca13b325ffac6471d);\n",
       "        \n",
       "    \n",
       "            marker_41aaa78795aa2ea1e7846af57b1b0226.bindTooltip(\n",
       "                `&lt;div&gt;\n",
       "                     20歳代\n",
       "                 &lt;/div&gt;`,\n",
       "                {&quot;sticky&quot;: true}\n",
       "            );\n",
       "        \n",
       "    \n",
       "            var marker_1760c6d955592bf4f975f48e6d37aa5c = L.marker(\n",
       "                [35.864346, 139.977219],\n",
       "                {}\n",
       "            ).addTo(marker_cluster_4c2e71695cd18dfca13b325ffac6471d);\n",
       "        \n",
       "    \n",
       "            marker_1760c6d955592bf4f975f48e6d37aa5c.bindTooltip(\n",
       "                `&lt;div&gt;\n",
       "                     40歳代\n",
       "                 &lt;/div&gt;`,\n",
       "                {&quot;sticky&quot;: true}\n",
       "            );\n",
       "        \n",
       "    \n",
       "            var marker_dac8ab8c4c51531ef456bae9da3fc4eb = L.marker(\n",
       "                [35.864346, 139.977219],\n",
       "                {}\n",
       "            ).addTo(marker_cluster_4c2e71695cd18dfca13b325ffac6471d);\n",
       "        \n",
       "    \n",
       "            marker_dac8ab8c4c51531ef456bae9da3fc4eb.bindTooltip(\n",
       "                `&lt;div&gt;\n",
       "                     30歳代\n",
       "                 &lt;/div&gt;`,\n",
       "                {&quot;sticky&quot;: true}\n",
       "            );\n",
       "        \n",
       "    \n",
       "            var marker_16d922e1c884c52934250e161f1bb1a7 = L.marker(\n",
       "                [35.862926, 139.97995],\n",
       "                {}\n",
       "            ).addTo(marker_cluster_4c2e71695cd18dfca13b325ffac6471d);\n",
       "        \n",
       "    \n",
       "            marker_16d922e1c884c52934250e161f1bb1a7.bindTooltip(\n",
       "                `&lt;div&gt;\n",
       "                     20歳代\n",
       "                 &lt;/div&gt;`,\n",
       "                {&quot;sticky&quot;: true}\n",
       "            );\n",
       "        \n",
       "    \n",
       "            var marker_ba8d0ec03a8f13a14a55b9018e3bbe85 = L.marker(\n",
       "                [35.860554, 139.981522],\n",
       "                {}\n",
       "            ).addTo(marker_cluster_4c2e71695cd18dfca13b325ffac6471d);\n",
       "        \n",
       "    \n",
       "            marker_ba8d0ec03a8f13a14a55b9018e3bbe85.bindTooltip(\n",
       "                `&lt;div&gt;\n",
       "                     20歳代\n",
       "                 &lt;/div&gt;`,\n",
       "                {&quot;sticky&quot;: true}\n",
       "            );\n",
       "        \n",
       "    \n",
       "            var marker_7f67d92d6439f8794ccdcc233c122535 = L.marker(\n",
       "                [35.860554, 139.981522],\n",
       "                {}\n",
       "            ).addTo(marker_cluster_4c2e71695cd18dfca13b325ffac6471d);\n",
       "        \n",
       "    \n",
       "            marker_7f67d92d6439f8794ccdcc233c122535.bindTooltip(\n",
       "                `&lt;div&gt;\n",
       "                     30歳代\n",
       "                 &lt;/div&gt;`,\n",
       "                {&quot;sticky&quot;: true}\n",
       "            );\n",
       "        \n",
       "    \n",
       "            var marker_db2f95abd05e8c53f9b3811d1ca3e901 = L.marker(\n",
       "                [35.862904, 139.970398],\n",
       "                {}\n",
       "            ).addTo(marker_cluster_4c2e71695cd18dfca13b325ffac6471d);\n",
       "        \n",
       "    \n",
       "            marker_db2f95abd05e8c53f9b3811d1ca3e901.bindTooltip(\n",
       "                `&lt;div&gt;\n",
       "                     20歳代\n",
       "                 &lt;/div&gt;`,\n",
       "                {&quot;sticky&quot;: true}\n",
       "            );\n",
       "        \n",
       "    \n",
       "            var marker_53f44231e172d463639c7f1a8bbd1974 = L.marker(\n",
       "                [35.857903, 139.972931],\n",
       "                {}\n",
       "            ).addTo(marker_cluster_4c2e71695cd18dfca13b325ffac6471d);\n",
       "        \n",
       "    \n",
       "            marker_53f44231e172d463639c7f1a8bbd1974.bindTooltip(\n",
       "                `&lt;div&gt;\n",
       "                     10歳代\n",
       "                 &lt;/div&gt;`,\n",
       "                {&quot;sticky&quot;: true}\n",
       "            );\n",
       "        \n",
       "    \n",
       "            var marker_d3c90c35fb64710e0279080358560ed9 = L.marker(\n",
       "                [35.855583, 139.972137],\n",
       "                {}\n",
       "            ).addTo(marker_cluster_4c2e71695cd18dfca13b325ffac6471d);\n",
       "        \n",
       "    \n",
       "            marker_d3c90c35fb64710e0279080358560ed9.bindTooltip(\n",
       "                `&lt;div&gt;\n",
       "                     20歳代\n",
       "                 &lt;/div&gt;`,\n",
       "                {&quot;sticky&quot;: true}\n",
       "            );\n",
       "        \n",
       "    \n",
       "            var marker_8420041b10fbe47d1133297036e1c408 = L.marker(\n",
       "                [35.855583, 139.972137],\n",
       "                {}\n",
       "            ).addTo(marker_cluster_4c2e71695cd18dfca13b325ffac6471d);\n",
       "        \n",
       "    \n",
       "            marker_8420041b10fbe47d1133297036e1c408.bindTooltip(\n",
       "                `&lt;div&gt;\n",
       "                     10歳代\n",
       "                 &lt;/div&gt;`,\n",
       "                {&quot;sticky&quot;: true}\n",
       "            );\n",
       "        \n",
       "    \n",
       "            var marker_9bce76c37bf8d1700811e45b5a1216df = L.marker(\n",
       "                [35.855583, 139.972137],\n",
       "                {}\n",
       "            ).addTo(marker_cluster_4c2e71695cd18dfca13b325ffac6471d);\n",
       "        \n",
       "    \n",
       "            marker_9bce76c37bf8d1700811e45b5a1216df.bindTooltip(\n",
       "                `&lt;div&gt;\n",
       "                     20歳代\n",
       "                 &lt;/div&gt;`,\n",
       "                {&quot;sticky&quot;: true}\n",
       "            );\n",
       "        \n",
       "    \n",
       "            var marker_ef378936bef13296f9a1b03beffddb01 = L.marker(\n",
       "                [35.855583, 139.972137],\n",
       "                {}\n",
       "            ).addTo(marker_cluster_4c2e71695cd18dfca13b325ffac6471d);\n",
       "        \n",
       "    \n",
       "            marker_ef378936bef13296f9a1b03beffddb01.bindTooltip(\n",
       "                `&lt;div&gt;\n",
       "                     30歳代\n",
       "                 &lt;/div&gt;`,\n",
       "                {&quot;sticky&quot;: true}\n",
       "            );\n",
       "        \n",
       "    \n",
       "            var marker_fdd6f3e9ecc147c7a60b8f04a2637cad = L.marker(\n",
       "                [35.859303, 139.970566],\n",
       "                {}\n",
       "            ).addTo(marker_cluster_4c2e71695cd18dfca13b325ffac6471d);\n",
       "        \n",
       "    \n",
       "            marker_fdd6f3e9ecc147c7a60b8f04a2637cad.bindTooltip(\n",
       "                `&lt;div&gt;\n",
       "                     60-64歳\n",
       "                 &lt;/div&gt;`,\n",
       "                {&quot;sticky&quot;: true}\n",
       "            );\n",
       "        \n",
       "    \n",
       "            var marker_747956dcc9eb95805ca830fdedb7730c = L.marker(\n",
       "                [35.859303, 139.970566],\n",
       "                {}\n",
       "            ).addTo(marker_cluster_4c2e71695cd18dfca13b325ffac6471d);\n",
       "        \n",
       "    \n",
       "            marker_747956dcc9eb95805ca830fdedb7730c.bindTooltip(\n",
       "                `&lt;div&gt;\n",
       "                     30歳代\n",
       "                 &lt;/div&gt;`,\n",
       "                {&quot;sticky&quot;: true}\n",
       "            );\n",
       "        \n",
       "    \n",
       "            var marker_16d5eee3218e49cdfb9823130def2b84 = L.marker(\n",
       "                [35.859303, 139.970566],\n",
       "                {}\n",
       "            ).addTo(marker_cluster_4c2e71695cd18dfca13b325ffac6471d);\n",
       "        \n",
       "    \n",
       "            marker_16d5eee3218e49cdfb9823130def2b84.bindTooltip(\n",
       "                `&lt;div&gt;\n",
       "                     20歳代\n",
       "                 &lt;/div&gt;`,\n",
       "                {&quot;sticky&quot;: true}\n",
       "            );\n",
       "        \n",
       "    \n",
       "            var marker_97ffbe8897b814084bbac6119bbb8d8a = L.marker(\n",
       "                [35.859303, 139.970566],\n",
       "                {}\n",
       "            ).addTo(marker_cluster_4c2e71695cd18dfca13b325ffac6471d);\n",
       "        \n",
       "    \n",
       "            marker_97ffbe8897b814084bbac6119bbb8d8a.bindTooltip(\n",
       "                `&lt;div&gt;\n",
       "                     50歳代\n",
       "                 &lt;/div&gt;`,\n",
       "                {&quot;sticky&quot;: true}\n",
       "            );\n",
       "        \n",
       "    \n",
       "            var marker_a2e48aa51148fd57df7ed7f603aa9b34 = L.marker(\n",
       "                [35.859303, 139.970566],\n",
       "                {}\n",
       "            ).addTo(marker_cluster_4c2e71695cd18dfca13b325ffac6471d);\n",
       "        \n",
       "    \n",
       "            marker_a2e48aa51148fd57df7ed7f603aa9b34.bindTooltip(\n",
       "                `&lt;div&gt;\n",
       "                     30歳代\n",
       "                 &lt;/div&gt;`,\n",
       "                {&quot;sticky&quot;: true}\n",
       "            );\n",
       "        \n",
       "    \n",
       "            var marker_9cb195678d06627eee84ca689fdcc491 = L.marker(\n",
       "                [35.859303, 139.970566],\n",
       "                {}\n",
       "            ).addTo(marker_cluster_4c2e71695cd18dfca13b325ffac6471d);\n",
       "        \n",
       "    \n",
       "            marker_9cb195678d06627eee84ca689fdcc491.bindTooltip(\n",
       "                `&lt;div&gt;\n",
       "                     10歳代\n",
       "                 &lt;/div&gt;`,\n",
       "                {&quot;sticky&quot;: true}\n",
       "            );\n",
       "        \n",
       "    \n",
       "            var marker_c8becb5fc4341b307553b0735ca9e188 = L.marker(\n",
       "                [35.859303, 139.970566],\n",
       "                {}\n",
       "            ).addTo(marker_cluster_4c2e71695cd18dfca13b325ffac6471d);\n",
       "        \n",
       "    \n",
       "            marker_c8becb5fc4341b307553b0735ca9e188.bindTooltip(\n",
       "                `&lt;div&gt;\n",
       "                     30歳代\n",
       "                 &lt;/div&gt;`,\n",
       "                {&quot;sticky&quot;: true}\n",
       "            );\n",
       "        \n",
       "    \n",
       "            var marker_314d9fdbbfd5bc0c48e065b4910fb215 = L.marker(\n",
       "                [35.859303, 139.970566],\n",
       "                {}\n",
       "            ).addTo(marker_cluster_4c2e71695cd18dfca13b325ffac6471d);\n",
       "        \n",
       "    \n",
       "            marker_314d9fdbbfd5bc0c48e065b4910fb215.bindTooltip(\n",
       "                `&lt;div&gt;\n",
       "                     10歳代\n",
       "                 &lt;/div&gt;`,\n",
       "                {&quot;sticky&quot;: true}\n",
       "            );\n",
       "        \n",
       "    \n",
       "            var marker_c7ae9172d74f33dcc77b35d3efc53226 = L.marker(\n",
       "                [35.859303, 139.970566],\n",
       "                {}\n",
       "            ).addTo(marker_cluster_4c2e71695cd18dfca13b325ffac6471d);\n",
       "        \n",
       "    \n",
       "            marker_c7ae9172d74f33dcc77b35d3efc53226.bindTooltip(\n",
       "                `&lt;div&gt;\n",
       "                     30歳代\n",
       "                 &lt;/div&gt;`,\n",
       "                {&quot;sticky&quot;: true}\n",
       "            );\n",
       "        \n",
       "    \n",
       "            var marker_7b25688600eb871bfe114910b7def2bc = L.marker(\n",
       "                [35.853264, 139.96521],\n",
       "                {}\n",
       "            ).addTo(marker_cluster_4c2e71695cd18dfca13b325ffac6471d);\n",
       "        \n",
       "    \n",
       "            marker_7b25688600eb871bfe114910b7def2bc.bindTooltip(\n",
       "                `&lt;div&gt;\n",
       "                     40歳代\n",
       "                 &lt;/div&gt;`,\n",
       "                {&quot;sticky&quot;: true}\n",
       "            );\n",
       "        \n",
       "    \n",
       "            var marker_c59729dc2b6be9a5a44ac9ab11c28a43 = L.marker(\n",
       "                [35.853264, 139.96521],\n",
       "                {}\n",
       "            ).addTo(marker_cluster_4c2e71695cd18dfca13b325ffac6471d);\n",
       "        \n",
       "    \n",
       "            marker_c59729dc2b6be9a5a44ac9ab11c28a43.bindTooltip(\n",
       "                `&lt;div&gt;\n",
       "                     40歳代\n",
       "                 &lt;/div&gt;`,\n",
       "                {&quot;sticky&quot;: true}\n",
       "            );\n",
       "        \n",
       "    \n",
       "            var marker_1b69d6996cc0ae901e3ba20c04517ee5 = L.marker(\n",
       "                [35.876255, 139.992081],\n",
       "                {}\n",
       "            ).addTo(marker_cluster_4c2e71695cd18dfca13b325ffac6471d);\n",
       "        \n",
       "    \n",
       "            marker_1b69d6996cc0ae901e3ba20c04517ee5.bindTooltip(\n",
       "                `&lt;div&gt;\n",
       "                     20歳代\n",
       "                 &lt;/div&gt;`,\n",
       "                {&quot;sticky&quot;: true}\n",
       "            );\n",
       "        \n",
       "    \n",
       "            var marker_788bd057d21849511e7637d9f04e9ec3 = L.marker(\n",
       "                [35.84705, 140.034134],\n",
       "                {}\n",
       "            ).addTo(marker_cluster_4c2e71695cd18dfca13b325ffac6471d);\n",
       "        \n",
       "    \n",
       "            marker_788bd057d21849511e7637d9f04e9ec3.bindTooltip(\n",
       "                `&lt;div&gt;\n",
       "                     10歳代\n",
       "                 &lt;/div&gt;`,\n",
       "                {&quot;sticky&quot;: true}\n",
       "            );\n",
       "        \n",
       "    \n",
       "            var marker_ab03698f3dee388c25e2d119f1f6587f = L.marker(\n",
       "                [35.858639, 139.983749],\n",
       "                {}\n",
       "            ).addTo(marker_cluster_4c2e71695cd18dfca13b325ffac6471d);\n",
       "        \n",
       "    \n",
       "            marker_ab03698f3dee388c25e2d119f1f6587f.bindTooltip(\n",
       "                `&lt;div&gt;\n",
       "                     20歳代\n",
       "                 &lt;/div&gt;`,\n",
       "                {&quot;sticky&quot;: true}\n",
       "            );\n",
       "        \n",
       "    \n",
       "            var marker_490c64796105b363505b4117f9adddaa = L.marker(\n",
       "                [35.844578, 139.968948],\n",
       "                {}\n",
       "            ).addTo(marker_cluster_4c2e71695cd18dfca13b325ffac6471d);\n",
       "        \n",
       "    \n",
       "            marker_490c64796105b363505b4117f9adddaa.bindTooltip(\n",
       "                `&lt;div&gt;\n",
       "                     30歳代\n",
       "                 &lt;/div&gt;`,\n",
       "                {&quot;sticky&quot;: true}\n",
       "            );\n",
       "        \n",
       "    \n",
       "            var marker_1d54c3aefbba30f796e3330860cbda6d = L.marker(\n",
       "                [35.864445, 139.986511],\n",
       "                {}\n",
       "            ).addTo(marker_cluster_4c2e71695cd18dfca13b325ffac6471d);\n",
       "        \n",
       "    \n",
       "            marker_1d54c3aefbba30f796e3330860cbda6d.bindTooltip(\n",
       "                `&lt;div&gt;\n",
       "                     30歳代\n",
       "                 &lt;/div&gt;`,\n",
       "                {&quot;sticky&quot;: true}\n",
       "            );\n",
       "        \n",
       "    \n",
       "            var marker_4692e0a0645d8f7ef2cce84587b86301 = L.marker(\n",
       "                [35.864445, 139.986511],\n",
       "                {}\n",
       "            ).addTo(marker_cluster_4c2e71695cd18dfca13b325ffac6471d);\n",
       "        \n",
       "    \n",
       "            marker_4692e0a0645d8f7ef2cce84587b86301.bindTooltip(\n",
       "                `&lt;div&gt;\n",
       "                     50歳代\n",
       "                 &lt;/div&gt;`,\n",
       "                {&quot;sticky&quot;: true}\n",
       "            );\n",
       "        \n",
       "    \n",
       "            var marker_f10a503d659f5f34f5145742f9f05bbd = L.marker(\n",
       "                [35.864445, 139.986511],\n",
       "                {}\n",
       "            ).addTo(marker_cluster_4c2e71695cd18dfca13b325ffac6471d);\n",
       "        \n",
       "    \n",
       "            marker_f10a503d659f5f34f5145742f9f05bbd.bindTooltip(\n",
       "                `&lt;div&gt;\n",
       "                     30歳代\n",
       "                 &lt;/div&gt;`,\n",
       "                {&quot;sticky&quot;: true}\n",
       "            );\n",
       "        \n",
       "    \n",
       "            var marker_2242388fdf77fe875b43c2273b594cfc = L.marker(\n",
       "                [35.864445, 139.986511],\n",
       "                {}\n",
       "            ).addTo(marker_cluster_4c2e71695cd18dfca13b325ffac6471d);\n",
       "        \n",
       "    \n",
       "            marker_2242388fdf77fe875b43c2273b594cfc.bindTooltip(\n",
       "                `&lt;div&gt;\n",
       "                     30歳代\n",
       "                 &lt;/div&gt;`,\n",
       "                {&quot;sticky&quot;: true}\n",
       "            );\n",
       "        \n",
       "    \n",
       "            var marker_12e4423e60325bb637a66849d9620ac4 = L.marker(\n",
       "                [35.860302, 139.975159],\n",
       "                {}\n",
       "            ).addTo(marker_cluster_4c2e71695cd18dfca13b325ffac6471d);\n",
       "        \n",
       "    \n",
       "            marker_12e4423e60325bb637a66849d9620ac4.bindTooltip(\n",
       "                `&lt;div&gt;\n",
       "                     50歳代\n",
       "                 &lt;/div&gt;`,\n",
       "                {&quot;sticky&quot;: true}\n",
       "            );\n",
       "        \n",
       "    \n",
       "            var marker_084606c4dca22e341bb2118a86774f16 = L.marker(\n",
       "                [35.850071, 139.983734],\n",
       "                {}\n",
       "            ).addTo(marker_cluster_4c2e71695cd18dfca13b325ffac6471d);\n",
       "        \n",
       "    \n",
       "            marker_084606c4dca22e341bb2118a86774f16.bindTooltip(\n",
       "                `&lt;div&gt;\n",
       "                     20歳代\n",
       "                 &lt;/div&gt;`,\n",
       "                {&quot;sticky&quot;: true}\n",
       "            );\n",
       "        \n",
       "    \n",
       "            var marker_0ad151ff4d17c3f37856e7a160f7e376 = L.marker(\n",
       "                [35.850071, 139.983734],\n",
       "                {}\n",
       "            ).addTo(marker_cluster_4c2e71695cd18dfca13b325ffac6471d);\n",
       "        \n",
       "    \n",
       "            marker_0ad151ff4d17c3f37856e7a160f7e376.bindTooltip(\n",
       "                `&lt;div&gt;\n",
       "                     20歳代\n",
       "                 &lt;/div&gt;`,\n",
       "                {&quot;sticky&quot;: true}\n",
       "            );\n",
       "        \n",
       "    \n",
       "            var marker_48a83850c92d238e8e53d81a576a1a27 = L.marker(\n",
       "                [35.856525, 139.976288],\n",
       "                {}\n",
       "            ).addTo(marker_cluster_4c2e71695cd18dfca13b325ffac6471d);\n",
       "        \n",
       "    \n",
       "            marker_48a83850c92d238e8e53d81a576a1a27.bindTooltip(\n",
       "                `&lt;div&gt;\n",
       "                     20歳代\n",
       "                 &lt;/div&gt;`,\n",
       "                {&quot;sticky&quot;: true}\n",
       "            );\n",
       "        \n",
       "    \n",
       "            var marker_56afe79b95b2c5721abb20b7de8e07d5 = L.marker(\n",
       "                [35.853741, 139.975143],\n",
       "                {}\n",
       "            ).addTo(marker_cluster_4c2e71695cd18dfca13b325ffac6471d);\n",
       "        \n",
       "    \n",
       "            marker_56afe79b95b2c5721abb20b7de8e07d5.bindTooltip(\n",
       "                `&lt;div&gt;\n",
       "                     30歳代\n",
       "                 &lt;/div&gt;`,\n",
       "                {&quot;sticky&quot;: true}\n",
       "            );\n",
       "        \n",
       "    \n",
       "            var marker_36a75602f1fe0602eb4eb3f84ab479af = L.marker(\n",
       "                [35.853741, 139.975143],\n",
       "                {}\n",
       "            ).addTo(marker_cluster_4c2e71695cd18dfca13b325ffac6471d);\n",
       "        \n",
       "    \n",
       "            marker_36a75602f1fe0602eb4eb3f84ab479af.bindTooltip(\n",
       "                `&lt;div&gt;\n",
       "                     20歳代\n",
       "                 &lt;/div&gt;`,\n",
       "                {&quot;sticky&quot;: true}\n",
       "            );\n",
       "        \n",
       "    \n",
       "            var marker_b6d44985905aa2fca3fc70959301bc6b = L.marker(\n",
       "                [35.853741, 139.975143],\n",
       "                {}\n",
       "            ).addTo(marker_cluster_4c2e71695cd18dfca13b325ffac6471d);\n",
       "        \n",
       "    \n",
       "            marker_b6d44985905aa2fca3fc70959301bc6b.bindTooltip(\n",
       "                `&lt;div&gt;\n",
       "                     10歳代\n",
       "                 &lt;/div&gt;`,\n",
       "                {&quot;sticky&quot;: true}\n",
       "            );\n",
       "        \n",
       "    \n",
       "            var marker_054b3a1f4f465164a8f8edf123e742a8 = L.marker(\n",
       "                [35.853451, 139.977646],\n",
       "                {}\n",
       "            ).addTo(marker_cluster_4c2e71695cd18dfca13b325ffac6471d);\n",
       "        \n",
       "    \n",
       "            marker_054b3a1f4f465164a8f8edf123e742a8.bindTooltip(\n",
       "                `&lt;div&gt;\n",
       "                     20歳代\n",
       "                 &lt;/div&gt;`,\n",
       "                {&quot;sticky&quot;: true}\n",
       "            );\n",
       "        \n",
       "    \n",
       "            var marker_5de47b22a10e74de8021666183d37c26 = L.marker(\n",
       "                [35.83136, 139.96756],\n",
       "                {}\n",
       "            ).addTo(marker_cluster_4c2e71695cd18dfca13b325ffac6471d);\n",
       "        \n",
       "    \n",
       "            marker_5de47b22a10e74de8021666183d37c26.bindTooltip(\n",
       "                `&lt;div&gt;\n",
       "                     10歳代\n",
       "                 &lt;/div&gt;`,\n",
       "                {&quot;sticky&quot;: true}\n",
       "            );\n",
       "        \n",
       "    \n",
       "            var marker_a23125799b6c174930107ba12a319da8 = L.marker(\n",
       "                [35.856003, 139.993591],\n",
       "                {}\n",
       "            ).addTo(marker_cluster_4c2e71695cd18dfca13b325ffac6471d);\n",
       "        \n",
       "    \n",
       "            marker_a23125799b6c174930107ba12a319da8.bindTooltip(\n",
       "                `&lt;div&gt;\n",
       "                     10歳代\n",
       "                 &lt;/div&gt;`,\n",
       "                {&quot;sticky&quot;: true}\n",
       "            );\n",
       "        \n",
       "    \n",
       "            var marker_48ab6502bb523e729d272d902c46d170 = L.marker(\n",
       "                [35.856003, 139.993591],\n",
       "                {}\n",
       "            ).addTo(marker_cluster_4c2e71695cd18dfca13b325ffac6471d);\n",
       "        \n",
       "    \n",
       "            marker_48ab6502bb523e729d272d902c46d170.bindTooltip(\n",
       "                `&lt;div&gt;\n",
       "                     10歳代\n",
       "                 &lt;/div&gt;`,\n",
       "                {&quot;sticky&quot;: true}\n",
       "            );\n",
       "        \n",
       "    \n",
       "            var marker_59858190b52c59f0baa25d0b3babb291 = L.marker(\n",
       "                [35.856003, 139.993591],\n",
       "                {}\n",
       "            ).addTo(marker_cluster_4c2e71695cd18dfca13b325ffac6471d);\n",
       "        \n",
       "    \n",
       "            marker_59858190b52c59f0baa25d0b3babb291.bindTooltip(\n",
       "                `&lt;div&gt;\n",
       "                     法人・団体、被害者なし\n",
       "                 &lt;/div&gt;`,\n",
       "                {&quot;sticky&quot;: true}\n",
       "            );\n",
       "        \n",
       "    \n",
       "            var marker_2f3a78de434c1ae794443de75641ed3d = L.marker(\n",
       "                [35.856003, 139.993591],\n",
       "                {}\n",
       "            ).addTo(marker_cluster_4c2e71695cd18dfca13b325ffac6471d);\n",
       "        \n",
       "    \n",
       "            marker_2f3a78de434c1ae794443de75641ed3d.bindTooltip(\n",
       "                `&lt;div&gt;\n",
       "                     40歳代\n",
       "                 &lt;/div&gt;`,\n",
       "                {&quot;sticky&quot;: true}\n",
       "            );\n",
       "        \n",
       "    \n",
       "            var marker_ca2170f1705cccbe1e76ee9c2231a121 = L.marker(\n",
       "                [35.891659, 139.953995],\n",
       "                {}\n",
       "            ).addTo(marker_cluster_4c2e71695cd18dfca13b325ffac6471d);\n",
       "        \n",
       "    \n",
       "            marker_ca2170f1705cccbe1e76ee9c2231a121.bindTooltip(\n",
       "                `&lt;div&gt;\n",
       "                     70歳以上\n",
       "                 &lt;/div&gt;`,\n",
       "                {&quot;sticky&quot;: true}\n",
       "            );\n",
       "        \n",
       "    \n",
       "            var marker_1a68c1503203c9efed7d6756f787e457 = L.marker(\n",
       "                [35.85392, 139.971054],\n",
       "                {}\n",
       "            ).addTo(marker_cluster_4c2e71695cd18dfca13b325ffac6471d);\n",
       "        \n",
       "    \n",
       "            marker_1a68c1503203c9efed7d6756f787e457.bindTooltip(\n",
       "                `&lt;div&gt;\n",
       "                     10歳代\n",
       "                 &lt;/div&gt;`,\n",
       "                {&quot;sticky&quot;: true}\n",
       "            );\n",
       "        \n",
       "    \n",
       "            var marker_bc8885b52902df08b06f32276b06455a = L.marker(\n",
       "                [35.85392, 139.971054],\n",
       "                {}\n",
       "            ).addTo(marker_cluster_4c2e71695cd18dfca13b325ffac6471d);\n",
       "        \n",
       "    \n",
       "            marker_bc8885b52902df08b06f32276b06455a.bindTooltip(\n",
       "                `&lt;div&gt;\n",
       "                     50歳代\n",
       "                 &lt;/div&gt;`,\n",
       "                {&quot;sticky&quot;: true}\n",
       "            );\n",
       "        \n",
       "    \n",
       "            var marker_ca53036e94e1b2eefb982a6596f96fa0 = L.marker(\n",
       "                [35.85392, 139.971054],\n",
       "                {}\n",
       "            ).addTo(marker_cluster_4c2e71695cd18dfca13b325ffac6471d);\n",
       "        \n",
       "    \n",
       "            marker_ca53036e94e1b2eefb982a6596f96fa0.bindTooltip(\n",
       "                `&lt;div&gt;\n",
       "                     40歳代\n",
       "                 &lt;/div&gt;`,\n",
       "                {&quot;sticky&quot;: true}\n",
       "            );\n",
       "        \n",
       "    \n",
       "            var marker_200bf74a9aaa829ebffd4c1c50eb6c01 = L.marker(\n",
       "                [35.85392, 139.971054],\n",
       "                {}\n",
       "            ).addTo(marker_cluster_4c2e71695cd18dfca13b325ffac6471d);\n",
       "        \n",
       "    \n",
       "            marker_200bf74a9aaa829ebffd4c1c50eb6c01.bindTooltip(\n",
       "                `&lt;div&gt;\n",
       "                     30歳代\n",
       "                 &lt;/div&gt;`,\n",
       "                {&quot;sticky&quot;: true}\n",
       "            );\n",
       "        \n",
       "    \n",
       "            var marker_55a694ef7e166ea54a111025a7769664 = L.marker(\n",
       "                [35.851498, 139.987534],\n",
       "                {}\n",
       "            ).addTo(marker_cluster_4c2e71695cd18dfca13b325ffac6471d);\n",
       "        \n",
       "    \n",
       "            marker_55a694ef7e166ea54a111025a7769664.bindTooltip(\n",
       "                `&lt;div&gt;\n",
       "                     20歳代\n",
       "                 &lt;/div&gt;`,\n",
       "                {&quot;sticky&quot;: true}\n",
       "            );\n",
       "        \n",
       "    \n",
       "            var marker_13ea368423e35903dd16dbc0c1e3cc8e = L.marker(\n",
       "                [35.849293, 139.987366],\n",
       "                {}\n",
       "            ).addTo(marker_cluster_4c2e71695cd18dfca13b325ffac6471d);\n",
       "        \n",
       "    \n",
       "            marker_13ea368423e35903dd16dbc0c1e3cc8e.bindTooltip(\n",
       "                `&lt;div&gt;\n",
       "                     10歳代\n",
       "                 &lt;/div&gt;`,\n",
       "                {&quot;sticky&quot;: true}\n",
       "            );\n",
       "        \n",
       "    \n",
       "            var marker_3b77113796fed102a550ea8accfeb18f = L.marker(\n",
       "                [35.915867, 139.952377],\n",
       "                {}\n",
       "            ).addTo(marker_cluster_4c2e71695cd18dfca13b325ffac6471d);\n",
       "        \n",
       "    \n",
       "            marker_3b77113796fed102a550ea8accfeb18f.bindTooltip(\n",
       "                `&lt;div&gt;\n",
       "                     20歳代\n",
       "                 &lt;/div&gt;`,\n",
       "                {&quot;sticky&quot;: true}\n",
       "            );\n",
       "        \n",
       "    \n",
       "            var marker_0d7e6fc86265cd8bd0fd0770cc6b4f38 = L.marker(\n",
       "                [35.923737, 139.939484],\n",
       "                {}\n",
       "            ).addTo(marker_cluster_4c2e71695cd18dfca13b325ffac6471d);\n",
       "        \n",
       "    \n",
       "            marker_0d7e6fc86265cd8bd0fd0770cc6b4f38.bindTooltip(\n",
       "                `&lt;div&gt;\n",
       "                     10歳代\n",
       "                 &lt;/div&gt;`,\n",
       "                {&quot;sticky&quot;: true}\n",
       "            );\n",
       "        \n",
       "    \n",
       "            var marker_3dbaac2272c2c8fb601f6bc7f814b8b7 = L.marker(\n",
       "                [35.923737, 139.939484],\n",
       "                {}\n",
       "            ).addTo(marker_cluster_4c2e71695cd18dfca13b325ffac6471d);\n",
       "        \n",
       "    \n",
       "            marker_3dbaac2272c2c8fb601f6bc7f814b8b7.bindTooltip(\n",
       "                `&lt;div&gt;\n",
       "                     10歳代\n",
       "                 &lt;/div&gt;`,\n",
       "                {&quot;sticky&quot;: true}\n",
       "            );\n",
       "        \n",
       "    \n",
       "            var marker_63b319aa16699eca97efd9e915da52c7 = L.marker(\n",
       "                [35.911968, 139.961746],\n",
       "                {}\n",
       "            ).addTo(marker_cluster_4c2e71695cd18dfca13b325ffac6471d);\n",
       "        \n",
       "    \n",
       "            marker_63b319aa16699eca97efd9e915da52c7.bindTooltip(\n",
       "                `&lt;div&gt;\n",
       "                     10歳代\n",
       "                 &lt;/div&gt;`,\n",
       "                {&quot;sticky&quot;: true}\n",
       "            );\n",
       "        \n",
       "    \n",
       "            var marker_4378156aec57f51f7b1d462a80031aaa = L.marker(\n",
       "                [35.911968, 139.961746],\n",
       "                {}\n",
       "            ).addTo(marker_cluster_4c2e71695cd18dfca13b325ffac6471d);\n",
       "        \n",
       "    \n",
       "            marker_4378156aec57f51f7b1d462a80031aaa.bindTooltip(\n",
       "                `&lt;div&gt;\n",
       "                     10歳代\n",
       "                 &lt;/div&gt;`,\n",
       "                {&quot;sticky&quot;: true}\n",
       "            );\n",
       "        \n",
       "    \n",
       "            var marker_0a7d139889c0cdfddce204ce2ce90df6 = L.marker(\n",
       "                [35.911968, 139.961746],\n",
       "                {}\n",
       "            ).addTo(marker_cluster_4c2e71695cd18dfca13b325ffac6471d);\n",
       "        \n",
       "    \n",
       "            marker_0a7d139889c0cdfddce204ce2ce90df6.bindTooltip(\n",
       "                `&lt;div&gt;\n",
       "                     30歳代\n",
       "                 &lt;/div&gt;`,\n",
       "                {&quot;sticky&quot;: true}\n",
       "            );\n",
       "        \n",
       "    \n",
       "            var marker_2aea385ce3f6cf6c6b0f97361c623428 = L.marker(\n",
       "                [35.911968, 139.961746],\n",
       "                {}\n",
       "            ).addTo(marker_cluster_4c2e71695cd18dfca13b325ffac6471d);\n",
       "        \n",
       "    \n",
       "            marker_2aea385ce3f6cf6c6b0f97361c623428.bindTooltip(\n",
       "                `&lt;div&gt;\n",
       "                     20歳代\n",
       "                 &lt;/div&gt;`,\n",
       "                {&quot;sticky&quot;: true}\n",
       "            );\n",
       "        \n",
       "    \n",
       "            var marker_016c3484169e8014c9c7151240bd8136 = L.marker(\n",
       "                [35.911968, 139.961746],\n",
       "                {}\n",
       "            ).addTo(marker_cluster_4c2e71695cd18dfca13b325ffac6471d);\n",
       "        \n",
       "    \n",
       "            marker_016c3484169e8014c9c7151240bd8136.bindTooltip(\n",
       "                `&lt;div&gt;\n",
       "                     20歳代\n",
       "                 &lt;/div&gt;`,\n",
       "                {&quot;sticky&quot;: true}\n",
       "            );\n",
       "        \n",
       "    \n",
       "            var marker_b724226db8959cca28d558c3d7217b92 = L.marker(\n",
       "                [35.911968, 139.961746],\n",
       "                {}\n",
       "            ).addTo(marker_cluster_4c2e71695cd18dfca13b325ffac6471d);\n",
       "        \n",
       "    \n",
       "            marker_b724226db8959cca28d558c3d7217b92.bindTooltip(\n",
       "                `&lt;div&gt;\n",
       "                     40歳代\n",
       "                 &lt;/div&gt;`,\n",
       "                {&quot;sticky&quot;: true}\n",
       "            );\n",
       "        \n",
       "    \n",
       "            var marker_2f58c8dea77844f728d45cadbb432bbe = L.marker(\n",
       "                [35.911968, 139.961746],\n",
       "                {}\n",
       "            ).addTo(marker_cluster_4c2e71695cd18dfca13b325ffac6471d);\n",
       "        \n",
       "    \n",
       "            marker_2f58c8dea77844f728d45cadbb432bbe.bindTooltip(\n",
       "                `&lt;div&gt;\n",
       "                     法人・団体、被害者なし\n",
       "                 &lt;/div&gt;`,\n",
       "                {&quot;sticky&quot;: true}\n",
       "            );\n",
       "        \n",
       "    \n",
       "            var marker_a433421a937887740d960983e882e47d = L.marker(\n",
       "                [35.911968, 139.961746],\n",
       "                {}\n",
       "            ).addTo(marker_cluster_4c2e71695cd18dfca13b325ffac6471d);\n",
       "        \n",
       "    \n",
       "            marker_a433421a937887740d960983e882e47d.bindTooltip(\n",
       "                `&lt;div&gt;\n",
       "                     60-64歳\n",
       "                 &lt;/div&gt;`,\n",
       "                {&quot;sticky&quot;: true}\n",
       "            );\n",
       "        \n",
       "    \n",
       "            var marker_f9970e9f82e33c053fdd93f8238ba436 = L.marker(\n",
       "                [35.916023, 139.956726],\n",
       "                {}\n",
       "            ).addTo(marker_cluster_4c2e71695cd18dfca13b325ffac6471d);\n",
       "        \n",
       "    \n",
       "            marker_f9970e9f82e33c053fdd93f8238ba436.bindTooltip(\n",
       "                `&lt;div&gt;\n",
       "                     10歳代\n",
       "                 &lt;/div&gt;`,\n",
       "                {&quot;sticky&quot;: true}\n",
       "            );\n",
       "        \n",
       "    \n",
       "            var marker_aa6dc6525928e6874f52f54a163ba372 = L.marker(\n",
       "                [35.916023, 139.956726],\n",
       "                {}\n",
       "            ).addTo(marker_cluster_4c2e71695cd18dfca13b325ffac6471d);\n",
       "        \n",
       "    \n",
       "            marker_aa6dc6525928e6874f52f54a163ba372.bindTooltip(\n",
       "                `&lt;div&gt;\n",
       "                     10歳代\n",
       "                 &lt;/div&gt;`,\n",
       "                {&quot;sticky&quot;: true}\n",
       "            );\n",
       "        \n",
       "    \n",
       "            var marker_33d2b380e633a4d0b1d2fdd9edef121f = L.marker(\n",
       "                [35.916023, 139.956726],\n",
       "                {}\n",
       "            ).addTo(marker_cluster_4c2e71695cd18dfca13b325ffac6471d);\n",
       "        \n",
       "    \n",
       "            marker_33d2b380e633a4d0b1d2fdd9edef121f.bindTooltip(\n",
       "                `&lt;div&gt;\n",
       "                     10歳代\n",
       "                 &lt;/div&gt;`,\n",
       "                {&quot;sticky&quot;: true}\n",
       "            );\n",
       "        \n",
       "    \n",
       "            var marker_dab73a35f3caa326a8975fe44fe99b2f = L.marker(\n",
       "                [35.915054, 139.959076],\n",
       "                {}\n",
       "            ).addTo(marker_cluster_4c2e71695cd18dfca13b325ffac6471d);\n",
       "        \n",
       "    \n",
       "            marker_dab73a35f3caa326a8975fe44fe99b2f.bindTooltip(\n",
       "                `&lt;div&gt;\n",
       "                     10歳代\n",
       "                 &lt;/div&gt;`,\n",
       "                {&quot;sticky&quot;: true}\n",
       "            );\n",
       "        \n",
       "    \n",
       "            var marker_536fe79e460297b258afcc3f504fdba7 = L.marker(\n",
       "                [35.915054, 139.959076],\n",
       "                {}\n",
       "            ).addTo(marker_cluster_4c2e71695cd18dfca13b325ffac6471d);\n",
       "        \n",
       "    \n",
       "            marker_536fe79e460297b258afcc3f504fdba7.bindTooltip(\n",
       "                `&lt;div&gt;\n",
       "                     10歳代\n",
       "                 &lt;/div&gt;`,\n",
       "                {&quot;sticky&quot;: true}\n",
       "            );\n",
       "        \n",
       "    \n",
       "            var marker_ee776df7a7f1cd8f2e7e35b92c591751 = L.marker(\n",
       "                [35.915054, 139.959076],\n",
       "                {}\n",
       "            ).addTo(marker_cluster_4c2e71695cd18dfca13b325ffac6471d);\n",
       "        \n",
       "    \n",
       "            marker_ee776df7a7f1cd8f2e7e35b92c591751.bindTooltip(\n",
       "                `&lt;div&gt;\n",
       "                     10歳代\n",
       "                 &lt;/div&gt;`,\n",
       "                {&quot;sticky&quot;: true}\n",
       "            );\n",
       "        \n",
       "    \n",
       "            var marker_b2268a0e23b02dac32a1df7c7644779a = L.marker(\n",
       "                [35.915054, 139.959076],\n",
       "                {}\n",
       "            ).addTo(marker_cluster_4c2e71695cd18dfca13b325ffac6471d);\n",
       "        \n",
       "    \n",
       "            marker_b2268a0e23b02dac32a1df7c7644779a.bindTooltip(\n",
       "                `&lt;div&gt;\n",
       "                     10歳代\n",
       "                 &lt;/div&gt;`,\n",
       "                {&quot;sticky&quot;: true}\n",
       "            );\n",
       "        \n",
       "    \n",
       "            var marker_816b586d081dc6adb6ba7f2f02126857 = L.marker(\n",
       "                [35.896736, 139.974243],\n",
       "                {}\n",
       "            ).addTo(marker_cluster_4c2e71695cd18dfca13b325ffac6471d);\n",
       "        \n",
       "    \n",
       "            marker_816b586d081dc6adb6ba7f2f02126857.bindTooltip(\n",
       "                `&lt;div&gt;\n",
       "                     40歳代\n",
       "                 &lt;/div&gt;`,\n",
       "                {&quot;sticky&quot;: true}\n",
       "            );\n",
       "        \n",
       "    \n",
       "            var marker_91f414d4294e9c4cd33711a6a55e8cf1 = L.marker(\n",
       "                [35.896736, 139.974243],\n",
       "                {}\n",
       "            ).addTo(marker_cluster_4c2e71695cd18dfca13b325ffac6471d);\n",
       "        \n",
       "    \n",
       "            marker_91f414d4294e9c4cd33711a6a55e8cf1.bindTooltip(\n",
       "                `&lt;div&gt;\n",
       "                     20歳代\n",
       "                 &lt;/div&gt;`,\n",
       "                {&quot;sticky&quot;: true}\n",
       "            );\n",
       "        \n",
       "    \n",
       "            var marker_c6114f68100cdb87d65e1f18e5f58a45 = L.marker(\n",
       "                [35.896736, 139.974243],\n",
       "                {}\n",
       "            ).addTo(marker_cluster_4c2e71695cd18dfca13b325ffac6471d);\n",
       "        \n",
       "    \n",
       "            marker_c6114f68100cdb87d65e1f18e5f58a45.bindTooltip(\n",
       "                `&lt;div&gt;\n",
       "                     40歳代\n",
       "                 &lt;/div&gt;`,\n",
       "                {&quot;sticky&quot;: true}\n",
       "            );\n",
       "        \n",
       "    \n",
       "            var marker_44f608bd26b43b387037e4fa07daf43b = L.marker(\n",
       "                [35.896736, 139.974243],\n",
       "                {}\n",
       "            ).addTo(marker_cluster_4c2e71695cd18dfca13b325ffac6471d);\n",
       "        \n",
       "    \n",
       "            marker_44f608bd26b43b387037e4fa07daf43b.bindTooltip(\n",
       "                `&lt;div&gt;\n",
       "                     60-64歳\n",
       "                 &lt;/div&gt;`,\n",
       "                {&quot;sticky&quot;: true}\n",
       "            );\n",
       "        \n",
       "    \n",
       "            var marker_c8d38d6a47c84914a3844d9e62f14898 = L.marker(\n",
       "                [35.868122, 139.943359],\n",
       "                {}\n",
       "            ).addTo(marker_cluster_4c2e71695cd18dfca13b325ffac6471d);\n",
       "        \n",
       "    \n",
       "            marker_c8d38d6a47c84914a3844d9e62f14898.bindTooltip(\n",
       "                `&lt;div&gt;\n",
       "                     60-64歳\n",
       "                 &lt;/div&gt;`,\n",
       "                {&quot;sticky&quot;: true}\n",
       "            );\n",
       "        \n",
       "    \n",
       "            var marker_884a1ad13d6e517e9c4890314a5589ef = L.marker(\n",
       "                [35.859928, 139.949814],\n",
       "                {}\n",
       "            ).addTo(marker_cluster_4c2e71695cd18dfca13b325ffac6471d);\n",
       "        \n",
       "    \n",
       "            marker_884a1ad13d6e517e9c4890314a5589ef.bindTooltip(\n",
       "                `&lt;div&gt;\n",
       "                     20歳代\n",
       "                 &lt;/div&gt;`,\n",
       "                {&quot;sticky&quot;: true}\n",
       "            );\n",
       "        \n",
       "    \n",
       "            var marker_7f18b0d7b42de7cf4ff7e9fe921eb44f = L.marker(\n",
       "                [35.859928, 139.949814],\n",
       "                {}\n",
       "            ).addTo(marker_cluster_4c2e71695cd18dfca13b325ffac6471d);\n",
       "        \n",
       "    \n",
       "            marker_7f18b0d7b42de7cf4ff7e9fe921eb44f.bindTooltip(\n",
       "                `&lt;div&gt;\n",
       "                     20歳代\n",
       "                 &lt;/div&gt;`,\n",
       "                {&quot;sticky&quot;: true}\n",
       "            );\n",
       "        \n",
       "    \n",
       "            var marker_65e3ead849ee71e6d75e80d76264c053 = L.marker(\n",
       "                [35.859928, 139.949814],\n",
       "                {}\n",
       "            ).addTo(marker_cluster_4c2e71695cd18dfca13b325ffac6471d);\n",
       "        \n",
       "    \n",
       "            marker_65e3ead849ee71e6d75e80d76264c053.bindTooltip(\n",
       "                `&lt;div&gt;\n",
       "                     40歳代\n",
       "                 &lt;/div&gt;`,\n",
       "                {&quot;sticky&quot;: true}\n",
       "            );\n",
       "        \n",
       "    \n",
       "            var marker_911cb0d411c40f290bb8226026450f50 = L.marker(\n",
       "                [35.859928, 139.949814],\n",
       "                {}\n",
       "            ).addTo(marker_cluster_4c2e71695cd18dfca13b325ffac6471d);\n",
       "        \n",
       "    \n",
       "            marker_911cb0d411c40f290bb8226026450f50.bindTooltip(\n",
       "                `&lt;div&gt;\n",
       "                     10歳代\n",
       "                 &lt;/div&gt;`,\n",
       "                {&quot;sticky&quot;: true}\n",
       "            );\n",
       "        \n",
       "    \n",
       "            var marker_d43e1bf1efc1c20f3630cf0801f3eb77 = L.marker(\n",
       "                [35.859928, 139.949814],\n",
       "                {}\n",
       "            ).addTo(marker_cluster_4c2e71695cd18dfca13b325ffac6471d);\n",
       "        \n",
       "    \n",
       "            marker_d43e1bf1efc1c20f3630cf0801f3eb77.bindTooltip(\n",
       "                `&lt;div&gt;\n",
       "                     20歳代\n",
       "                 &lt;/div&gt;`,\n",
       "                {&quot;sticky&quot;: true}\n",
       "            );\n",
       "        \n",
       "    \n",
       "            var marker_4b1cd4f0cbbdbcb27f846e761e3474d7 = L.marker(\n",
       "                [35.859928, 139.949814],\n",
       "                {}\n",
       "            ).addTo(marker_cluster_4c2e71695cd18dfca13b325ffac6471d);\n",
       "        \n",
       "    \n",
       "            marker_4b1cd4f0cbbdbcb27f846e761e3474d7.bindTooltip(\n",
       "                `&lt;div&gt;\n",
       "                     30歳代\n",
       "                 &lt;/div&gt;`,\n",
       "                {&quot;sticky&quot;: true}\n",
       "            );\n",
       "        \n",
       "    \n",
       "            var marker_bf4bb0b62155ef69048b82c182a9f654 = L.marker(\n",
       "                [35.859928, 139.949814],\n",
       "                {}\n",
       "            ).addTo(marker_cluster_4c2e71695cd18dfca13b325ffac6471d);\n",
       "        \n",
       "    \n",
       "            marker_bf4bb0b62155ef69048b82c182a9f654.bindTooltip(\n",
       "                `&lt;div&gt;\n",
       "                     20歳代\n",
       "                 &lt;/div&gt;`,\n",
       "                {&quot;sticky&quot;: true}\n",
       "            );\n",
       "        \n",
       "    \n",
       "            var marker_cb4f9afae9b05506cb4fcdf6a7058045 = L.marker(\n",
       "                [35.859928, 139.949814],\n",
       "                {}\n",
       "            ).addTo(marker_cluster_4c2e71695cd18dfca13b325ffac6471d);\n",
       "        \n",
       "    \n",
       "            marker_cb4f9afae9b05506cb4fcdf6a7058045.bindTooltip(\n",
       "                `&lt;div&gt;\n",
       "                     10歳代\n",
       "                 &lt;/div&gt;`,\n",
       "                {&quot;sticky&quot;: true}\n",
       "            );\n",
       "        \n",
       "    \n",
       "            var marker_0f0746d9e93425904fee8a1b70c6c96b = L.marker(\n",
       "                [35.854702, 139.957123],\n",
       "                {}\n",
       "            ).addTo(marker_cluster_4c2e71695cd18dfca13b325ffac6471d);\n",
       "        \n",
       "    \n",
       "            marker_0f0746d9e93425904fee8a1b70c6c96b.bindTooltip(\n",
       "                `&lt;div&gt;\n",
       "                     20歳代\n",
       "                 &lt;/div&gt;`,\n",
       "                {&quot;sticky&quot;: true}\n",
       "            );\n",
       "        \n",
       "    \n",
       "            var marker_a10658c308294c8c01d1467a2f38c62f = L.marker(\n",
       "                [35.804619, 139.996078],\n",
       "                {}\n",
       "            ).addTo(marker_cluster_4c2e71695cd18dfca13b325ffac6471d);\n",
       "        \n",
       "    \n",
       "            marker_a10658c308294c8c01d1467a2f38c62f.bindTooltip(\n",
       "                `&lt;div&gt;\n",
       "                     10歳代\n",
       "                 &lt;/div&gt;`,\n",
       "                {&quot;sticky&quot;: true}\n",
       "            );\n",
       "        \n",
       "    \n",
       "            var marker_bd8f4e3c53f579034daba5cc5c65d9f0 = L.marker(\n",
       "                [35.802979, 139.991287],\n",
       "                {}\n",
       "            ).addTo(marker_cluster_4c2e71695cd18dfca13b325ffac6471d);\n",
       "        \n",
       "    \n",
       "            marker_bd8f4e3c53f579034daba5cc5c65d9f0.bindTooltip(\n",
       "                `&lt;div&gt;\n",
       "                     10歳代\n",
       "                 &lt;/div&gt;`,\n",
       "                {&quot;sticky&quot;: true}\n",
       "            );\n",
       "        \n",
       "    \n",
       "            var marker_3900b9ef45e42761df798cd1822f558f = L.marker(\n",
       "                [35.805519, 139.993011],\n",
       "                {}\n",
       "            ).addTo(marker_cluster_4c2e71695cd18dfca13b325ffac6471d);\n",
       "        \n",
       "    \n",
       "            marker_3900b9ef45e42761df798cd1822f558f.bindTooltip(\n",
       "                `&lt;div&gt;\n",
       "                     10歳代\n",
       "                 &lt;/div&gt;`,\n",
       "                {&quot;sticky&quot;: true}\n",
       "            );\n",
       "        \n",
       "    \n",
       "            var marker_880c61ab0e23749dc7b8d9e85f31d4c6 = L.marker(\n",
       "                [35.801025, 139.980179],\n",
       "                {}\n",
       "            ).addTo(marker_cluster_4c2e71695cd18dfca13b325ffac6471d);\n",
       "        \n",
       "    \n",
       "            marker_880c61ab0e23749dc7b8d9e85f31d4c6.bindTooltip(\n",
       "                `&lt;div&gt;\n",
       "                     10歳代\n",
       "                 &lt;/div&gt;`,\n",
       "                {&quot;sticky&quot;: true}\n",
       "            );\n",
       "        \n",
       "    \n",
       "            var marker_c8ce9c3d8e7b0fa22c9b8122eef5a903 = L.marker(\n",
       "                [35.80201, 139.977814],\n",
       "                {}\n",
       "            ).addTo(marker_cluster_4c2e71695cd18dfca13b325ffac6471d);\n",
       "        \n",
       "    \n",
       "            marker_c8ce9c3d8e7b0fa22c9b8122eef5a903.bindTooltip(\n",
       "                `&lt;div&gt;\n",
       "                     50歳代\n",
       "                 &lt;/div&gt;`,\n",
       "                {&quot;sticky&quot;: true}\n",
       "            );\n",
       "        \n",
       "    \n",
       "            var marker_1bcfc565dc9e56645ac8db6e579e5e0b = L.marker(\n",
       "                [35.80201, 139.977814],\n",
       "                {}\n",
       "            ).addTo(marker_cluster_4c2e71695cd18dfca13b325ffac6471d);\n",
       "        \n",
       "    \n",
       "            marker_1bcfc565dc9e56645ac8db6e579e5e0b.bindTooltip(\n",
       "                `&lt;div&gt;\n",
       "                     30歳代\n",
       "                 &lt;/div&gt;`,\n",
       "                {&quot;sticky&quot;: true}\n",
       "            );\n",
       "        \n",
       "    \n",
       "            var marker_10435bcc646b86985caf3b64cd647ea7 = L.marker(\n",
       "                [35.8078, 139.99794],\n",
       "                {}\n",
       "            ).addTo(marker_cluster_4c2e71695cd18dfca13b325ffac6471d);\n",
       "        \n",
       "    \n",
       "            marker_10435bcc646b86985caf3b64cd647ea7.bindTooltip(\n",
       "                `&lt;div&gt;\n",
       "                     20歳代\n",
       "                 &lt;/div&gt;`,\n",
       "                {&quot;sticky&quot;: true}\n",
       "            );\n",
       "        \n",
       "    \n",
       "            var marker_52d57d76250319061efd6c04e94ca23d = L.marker(\n",
       "                [35.8078, 139.99794],\n",
       "                {}\n",
       "            ).addTo(marker_cluster_4c2e71695cd18dfca13b325ffac6471d);\n",
       "        \n",
       "    \n",
       "            marker_52d57d76250319061efd6c04e94ca23d.bindTooltip(\n",
       "                `&lt;div&gt;\n",
       "                     10歳代\n",
       "                 &lt;/div&gt;`,\n",
       "                {&quot;sticky&quot;: true}\n",
       "            );\n",
       "        \n",
       "    \n",
       "            var marker_bead1ec2c993aef4d381ea29f6bb2aff = L.marker(\n",
       "                [35.8078, 139.99794],\n",
       "                {}\n",
       "            ).addTo(marker_cluster_4c2e71695cd18dfca13b325ffac6471d);\n",
       "        \n",
       "    \n",
       "            marker_bead1ec2c993aef4d381ea29f6bb2aff.bindTooltip(\n",
       "                `&lt;div&gt;\n",
       "                     30歳代\n",
       "                 &lt;/div&gt;`,\n",
       "                {&quot;sticky&quot;: true}\n",
       "            );\n",
       "        \n",
       "    \n",
       "            var marker_b2dc6da13d5ae38ca2a398c4abac4e92 = L.marker(\n",
       "                [35.8078, 139.99794],\n",
       "                {}\n",
       "            ).addTo(marker_cluster_4c2e71695cd18dfca13b325ffac6471d);\n",
       "        \n",
       "    \n",
       "            marker_b2dc6da13d5ae38ca2a398c4abac4e92.bindTooltip(\n",
       "                `&lt;div&gt;\n",
       "                     10歳代\n",
       "                 &lt;/div&gt;`,\n",
       "                {&quot;sticky&quot;: true}\n",
       "            );\n",
       "        \n",
       "    \n",
       "            var marker_5792affcab4a5ef0b587cf670677d882 = L.marker(\n",
       "                [35.8078, 139.99794],\n",
       "                {}\n",
       "            ).addTo(marker_cluster_4c2e71695cd18dfca13b325ffac6471d);\n",
       "        \n",
       "    \n",
       "            marker_5792affcab4a5ef0b587cf670677d882.bindTooltip(\n",
       "                `&lt;div&gt;\n",
       "                     10歳代\n",
       "                 &lt;/div&gt;`,\n",
       "                {&quot;sticky&quot;: true}\n",
       "            );\n",
       "        \n",
       "    \n",
       "            var marker_17ff86c418d52cf129ecd6bcf3b0c143 = L.marker(\n",
       "                [35.8078, 139.99794],\n",
       "                {}\n",
       "            ).addTo(marker_cluster_4c2e71695cd18dfca13b325ffac6471d);\n",
       "        \n",
       "    \n",
       "            marker_17ff86c418d52cf129ecd6bcf3b0c143.bindTooltip(\n",
       "                `&lt;div&gt;\n",
       "                     10歳代\n",
       "                 &lt;/div&gt;`,\n",
       "                {&quot;sticky&quot;: true}\n",
       "            );\n",
       "        \n",
       "    \n",
       "            var marker_04b75d2d7423b03824bf739a71b53d84 = L.marker(\n",
       "                [35.8078, 139.99794],\n",
       "                {}\n",
       "            ).addTo(marker_cluster_4c2e71695cd18dfca13b325ffac6471d);\n",
       "        \n",
       "    \n",
       "            marker_04b75d2d7423b03824bf739a71b53d84.bindTooltip(\n",
       "                `&lt;div&gt;\n",
       "                     10歳代\n",
       "                 &lt;/div&gt;`,\n",
       "                {&quot;sticky&quot;: true}\n",
       "            );\n",
       "        \n",
       "    \n",
       "            var marker_9a8b033f599aa20421ee7d0d663b849d = L.marker(\n",
       "                [35.8078, 139.99794],\n",
       "                {}\n",
       "            ).addTo(marker_cluster_4c2e71695cd18dfca13b325ffac6471d);\n",
       "        \n",
       "    \n",
       "            marker_9a8b033f599aa20421ee7d0d663b849d.bindTooltip(\n",
       "                `&lt;div&gt;\n",
       "                     10歳代\n",
       "                 &lt;/div&gt;`,\n",
       "                {&quot;sticky&quot;: true}\n",
       "            );\n",
       "        \n",
       "    \n",
       "            var marker_eed811d328a179971bd5dfd28da47f34 = L.marker(\n",
       "                [35.8078, 139.99794],\n",
       "                {}\n",
       "            ).addTo(marker_cluster_4c2e71695cd18dfca13b325ffac6471d);\n",
       "        \n",
       "    \n",
       "            marker_eed811d328a179971bd5dfd28da47f34.bindTooltip(\n",
       "                `&lt;div&gt;\n",
       "                     70歳以上\n",
       "                 &lt;/div&gt;`,\n",
       "                {&quot;sticky&quot;: true}\n",
       "            );\n",
       "        \n",
       "    \n",
       "            var marker_a3d926b3916fec1b90a6dde3b82b14e3 = L.marker(\n",
       "                [35.8078, 139.99794],\n",
       "                {}\n",
       "            ).addTo(marker_cluster_4c2e71695cd18dfca13b325ffac6471d);\n",
       "        \n",
       "    \n",
       "            marker_a3d926b3916fec1b90a6dde3b82b14e3.bindTooltip(\n",
       "                `&lt;div&gt;\n",
       "                     20歳代\n",
       "                 &lt;/div&gt;`,\n",
       "                {&quot;sticky&quot;: true}\n",
       "            );\n",
       "        \n",
       "    \n",
       "            var marker_0b014cfcf34c2d73465783837a1ddc2d = L.marker(\n",
       "                [35.8078, 139.99794],\n",
       "                {}\n",
       "            ).addTo(marker_cluster_4c2e71695cd18dfca13b325ffac6471d);\n",
       "        \n",
       "    \n",
       "            marker_0b014cfcf34c2d73465783837a1ddc2d.bindTooltip(\n",
       "                `&lt;div&gt;\n",
       "                     10歳代\n",
       "                 &lt;/div&gt;`,\n",
       "                {&quot;sticky&quot;: true}\n",
       "            );\n",
       "        \n",
       "    \n",
       "            var marker_64a491c7984a2f0b828678ca7e5d1da4 = L.marker(\n",
       "                [35.8078, 139.99794],\n",
       "                {}\n",
       "            ).addTo(marker_cluster_4c2e71695cd18dfca13b325ffac6471d);\n",
       "        \n",
       "    \n",
       "            marker_64a491c7984a2f0b828678ca7e5d1da4.bindTooltip(\n",
       "                `&lt;div&gt;\n",
       "                     20歳代\n",
       "                 &lt;/div&gt;`,\n",
       "                {&quot;sticky&quot;: true}\n",
       "            );\n",
       "        \n",
       "    \n",
       "            var marker_bfbcbf10aced97941b7ed7f062330061 = L.marker(\n",
       "                [35.8078, 139.99794],\n",
       "                {}\n",
       "            ).addTo(marker_cluster_4c2e71695cd18dfca13b325ffac6471d);\n",
       "        \n",
       "    \n",
       "            marker_bfbcbf10aced97941b7ed7f062330061.bindTooltip(\n",
       "                `&lt;div&gt;\n",
       "                     40歳代\n",
       "                 &lt;/div&gt;`,\n",
       "                {&quot;sticky&quot;: true}\n",
       "            );\n",
       "        \n",
       "    \n",
       "            var marker_adbdf2fc05f3331cd9bc80b1e21fbe9f = L.marker(\n",
       "                [35.8078, 139.99794],\n",
       "                {}\n",
       "            ).addTo(marker_cluster_4c2e71695cd18dfca13b325ffac6471d);\n",
       "        \n",
       "    \n",
       "            marker_adbdf2fc05f3331cd9bc80b1e21fbe9f.bindTooltip(\n",
       "                `&lt;div&gt;\n",
       "                     10歳代\n",
       "                 &lt;/div&gt;`,\n",
       "                {&quot;sticky&quot;: true}\n",
       "            );\n",
       "        \n",
       "    \n",
       "            var marker_25fd501268a66694cdb8ea27cd51e6ae = L.marker(\n",
       "                [35.8078, 139.99794],\n",
       "                {}\n",
       "            ).addTo(marker_cluster_4c2e71695cd18dfca13b325ffac6471d);\n",
       "        \n",
       "    \n",
       "            marker_25fd501268a66694cdb8ea27cd51e6ae.bindTooltip(\n",
       "                `&lt;div&gt;\n",
       "                     10歳代\n",
       "                 &lt;/div&gt;`,\n",
       "                {&quot;sticky&quot;: true}\n",
       "            );\n",
       "        \n",
       "    \n",
       "            var marker_b59b9002c917d560a308726e070ee9e0 = L.marker(\n",
       "                [35.8078, 139.99794],\n",
       "                {}\n",
       "            ).addTo(marker_cluster_4c2e71695cd18dfca13b325ffac6471d);\n",
       "        \n",
       "    \n",
       "            marker_b59b9002c917d560a308726e070ee9e0.bindTooltip(\n",
       "                `&lt;div&gt;\n",
       "                     10歳代\n",
       "                 &lt;/div&gt;`,\n",
       "                {&quot;sticky&quot;: true}\n",
       "            );\n",
       "        \n",
       "    \n",
       "            var marker_de89a2a8af3f9a5476cc71c5c12eb85b = L.marker(\n",
       "                [35.809856, 139.996445],\n",
       "                {}\n",
       "            ).addTo(marker_cluster_4c2e71695cd18dfca13b325ffac6471d);\n",
       "        \n",
       "    \n",
       "            marker_de89a2a8af3f9a5476cc71c5c12eb85b.bindTooltip(\n",
       "                `&lt;div&gt;\n",
       "                     30歳代\n",
       "                 &lt;/div&gt;`,\n",
       "                {&quot;sticky&quot;: true}\n",
       "            );\n",
       "        \n",
       "    \n",
       "            var marker_205299c59d0cb8725fabd42d3cf45ff1 = L.marker(\n",
       "                [35.877697, 139.949219],\n",
       "                {}\n",
       "            ).addTo(marker_cluster_4c2e71695cd18dfca13b325ffac6471d);\n",
       "        \n",
       "    \n",
       "            marker_205299c59d0cb8725fabd42d3cf45ff1.bindTooltip(\n",
       "                `&lt;div&gt;\n",
       "                     40歳代\n",
       "                 &lt;/div&gt;`,\n",
       "                {&quot;sticky&quot;: true}\n",
       "            );\n",
       "        \n",
       "    \n",
       "                marker_cluster_4c2e71695cd18dfca13b325ffac6471d.addTo(map_398cab0c74bdf28dd36edf38a69aae7a);\n",
       "&lt;/script&gt;\n",
       "&lt;/html&gt;\" style=\"position:absolute;width:100%;height:100%;left:0;top:0;border:none !important;\" allowfullscreen webkitallowfullscreen mozallowfullscreen></iframe></div></div>"
      ],
      "text/plain": [
       "<folium.folium.Map at 0x2476759d090>"
      ]
     },
     "execution_count": 55,
     "metadata": {},
     "output_type": "execute_result"
    }
   ],
   "source": [
    "# make the map\n",
    "m = folium.Map(location=[center_lat,center_lon], \n",
    "               zoom_start=12)\n",
    "\n",
    "# マーカーがメチャクチャ多い場合はclusterで処理！\n",
    "marker_cluster = plugins.MarkerCluster().add_to(m)\n",
    " \n",
    "# kashiwaのデータフレームをループしてマーカーを作る\n",
    "for index, row in kashiwa.iterrows():\n",
    "    latlon = [row['lat'],row['lon']]\n",
    "    folium.Marker(latlon, \n",
    "                  tooltip=row['被害者の年齢'],\n",
    "                ).add_to(marker_cluster) # mapにではなくmarker_clusterに足す\n",
    "\n",
    "# show the map\n",
    "m"
   ]
  },
  {
   "cell_type": "markdown",
   "metadata": {},
   "source": [
    "## Heatmap\n",
    "\n",
    "Foliumのエキストラ機能としてヒートマップが作れる！では、やって見よう。\n",
    "\n",
    "まずはデータをヒートマップが必要とする形式を作る。"
   ]
  },
  {
   "cell_type": "code",
   "execution_count": null,
   "metadata": {},
   "outputs": [
    {
     "data": {
      "text/plain": [
       "[[35.841019, 139.956406],\n",
       " [35.841019, 139.956406],\n",
       " [35.841019, 139.956406],\n",
       " [35.841019, 139.956406],\n",
       " [35.841019, 139.956406],\n",
       " [35.81815, 139.957825],\n",
       " [35.818859, 139.965973],\n",
       " [35.820488, 139.960007],\n",
       " [35.824585, 139.961349],\n",
       " [35.824585, 139.961349],\n",
       " [35.815441, 139.982468],\n",
       " [35.83292, 139.946884],\n",
       " [35.82056, 139.95401],\n",
       " [35.833195, 139.957794],\n",
       " [35.833195, 139.957794],\n",
       " [35.829479, 139.957809],\n",
       " [35.833984, 139.960556],\n",
       " [35.833984, 139.960556],\n",
       " [35.833984, 139.960556],\n",
       " [35.864445, 139.986511],\n",
       " [35.864445, 139.986511],\n",
       " [35.864445, 139.986511],\n",
       " [35.870007, 139.983795],\n",
       " [35.875332, 139.983582],\n",
       " [35.872643, 139.989914],\n",
       " [35.872643, 139.989914],\n",
       " [35.872643, 139.989914],\n",
       " [35.872192, 139.987793],\n",
       " [35.872192, 139.987793],\n",
       " [35.870586, 139.986893],\n",
       " [35.870586, 139.986893],\n",
       " [35.868679, 139.990295],\n",
       " [35.887501, 139.985229],\n",
       " [35.887501, 139.985229],\n",
       " [35.88113, 139.98645],\n",
       " [35.88113, 139.98645],\n",
       " [35.88113, 139.98645],\n",
       " [35.88113, 139.98645],\n",
       " [35.88113, 139.98645],\n",
       " [35.88113, 139.98645],\n",
       " [35.88113, 139.98645],\n",
       " [35.88113, 139.98645],\n",
       " [35.88113, 139.98645],\n",
       " [35.88113, 139.98645],\n",
       " [35.88113, 139.98645],\n",
       " [35.88113, 139.98645],\n",
       " [35.88113, 139.98645],\n",
       " [35.88113, 139.98645],\n",
       " [35.88113, 139.98645],\n",
       " [35.88113, 139.98645],\n",
       " [35.88113, 139.98645],\n",
       " [35.88113, 139.98645],\n",
       " [35.88113, 139.98645],\n",
       " [35.88113, 139.98645],\n",
       " [35.832733, 139.970932],\n",
       " [35.815441, 139.982468],\n",
       " [35.815441, 139.982468],\n",
       " [35.815441, 139.982468],\n",
       " [35.815441, 139.982468],\n",
       " [35.815441, 139.982468],\n",
       " [35.815441, 139.982468],\n",
       " [35.815441, 139.982468],\n",
       " [35.815441, 139.982468],\n",
       " [35.822018, 139.983444],\n",
       " [35.822018, 139.983444],\n",
       " [35.822018, 139.983444],\n",
       " [35.824383, 139.979614],\n",
       " [35.824383, 139.979614],\n",
       " [35.824383, 139.979614],\n",
       " [35.824383, 139.979614],\n",
       " [35.824383, 139.979614],\n",
       " [35.824383, 139.979614],\n",
       " [35.816387, 139.974075],\n",
       " [35.816387, 139.974075],\n",
       " [35.816387, 139.974075],\n",
       " [35.818909, 139.971741],\n",
       " [35.817165, 139.96759],\n",
       " [35.814602, 139.97052],\n",
       " [35.814602, 139.97052],\n",
       " [35.814602, 139.97052],\n",
       " [35.814602, 139.97052],\n",
       " [35.814602, 139.97052],\n",
       " [35.813236, 139.966034],\n",
       " [35.809929, 139.966537],\n",
       " [35.811157, 139.963562],\n",
       " [35.810768, 139.959],\n",
       " [35.827206, 139.976883],\n",
       " [35.827206, 139.976883],\n",
       " [35.822952, 139.98671],\n",
       " [35.822952, 139.98671],\n",
       " [35.822952, 139.98671],\n",
       " [35.807571, 139.970367],\n",
       " [35.813534, 139.957855],\n",
       " [35.813534, 139.957855],\n",
       " [35.812092, 139.972183],\n",
       " [35.809525, 139.970627],\n",
       " [35.809525, 139.970627],\n",
       " [35.809525, 139.970627],\n",
       " [35.850155, 140.00441],\n",
       " [35.824383, 139.979614],\n",
       " [35.85088, 139.955795],\n",
       " [35.859928, 139.949814],\n",
       " [35.859928, 139.949814],\n",
       " [35.859928, 139.949814],\n",
       " [35.859928, 139.949814],\n",
       " [35.859928, 139.949814],\n",
       " [35.859928, 139.949814],\n",
       " [35.859928, 139.949814],\n",
       " [35.859928, 139.949814],\n",
       " [35.845783, 139.953476],\n",
       " [35.845783, 139.953476],\n",
       " [35.845783, 139.953476],\n",
       " [35.845783, 139.953476],\n",
       " [35.845783, 139.953476],\n",
       " [35.845783, 139.953476],\n",
       " [35.845783, 139.953476],\n",
       " [35.847271, 139.955032],\n",
       " [35.847271, 139.955032],\n",
       " [35.847271, 139.955032],\n",
       " [35.847271, 139.955032],\n",
       " [35.851013, 139.960251],\n",
       " [35.851013, 139.960251],\n",
       " [35.851013, 139.960251],\n",
       " [35.844471, 139.954956],\n",
       " [35.844471, 139.954956],\n",
       " [35.844471, 139.954956],\n",
       " [35.844471, 139.954956],\n",
       " [35.844471, 139.954956],\n",
       " [35.844471, 139.954956],\n",
       " [35.844471, 139.954956],\n",
       " [35.844471, 139.954956],\n",
       " [35.844471, 139.954956],\n",
       " [35.844471, 139.954956],\n",
       " [35.844471, 139.954956],\n",
       " [35.844471, 139.954956],\n",
       " [35.844471, 139.954956],\n",
       " [35.844471, 139.954956],\n",
       " [35.844471, 139.954956],\n",
       " [35.830082, 139.97319],\n",
       " [35.830082, 139.97319],\n",
       " [35.830082, 139.97319],\n",
       " [35.830082, 139.97319],\n",
       " [35.824383, 139.979614],\n",
       " [35.832466, 139.974945],\n",
       " [35.831703, 139.978226],\n",
       " [35.835472, 139.983551],\n",
       " [35.829124, 139.986633],\n",
       " [35.824703, 139.974731],\n",
       " [35.824703, 139.974731],\n",
       " [35.821732, 139.973206],\n",
       " [35.821732, 139.973206],\n",
       " [35.850155, 140.00441],\n",
       " [35.850155, 140.00441],\n",
       " [35.835773, 140.012802],\n",
       " [35.835773, 140.012802],\n",
       " [35.833759, 140.011703],\n",
       " [35.833759, 140.011703],\n",
       " [35.833759, 140.011703],\n",
       " [35.833759, 140.011703],\n",
       " [35.833759, 140.011703],\n",
       " [35.833759, 140.011703],\n",
       " [35.833759, 140.011703],\n",
       " [35.833759, 140.011703],\n",
       " [35.833759, 140.011703],\n",
       " [35.833759, 140.011703],\n",
       " [35.833759, 140.011703],\n",
       " [35.84325, 140.003662],\n",
       " [35.841068, 139.999237],\n",
       " [35.841068, 139.999237],\n",
       " [35.841068, 139.999237],\n",
       " [35.840942, 139.995621],\n",
       " [35.840942, 139.995621],\n",
       " [35.837143, 140.002502],\n",
       " [35.837143, 140.002502],\n",
       " [35.837143, 140.002502],\n",
       " [35.837143, 140.002502],\n",
       " [35.848038, 140.016342],\n",
       " [35.834927, 139.996063],\n",
       " [35.846394, 140.026993],\n",
       " [35.891518, 139.992828],\n",
       " [35.835949, 139.968262],\n",
       " [35.83136, 139.96756],\n",
       " [35.84692, 139.967072],\n",
       " [35.838268, 139.963547],\n",
       " [35.838268, 139.963547],\n",
       " [35.838268, 139.963547],\n",
       " [35.842236, 139.965775],\n",
       " [35.840786, 139.966721],\n",
       " [35.840786, 139.966721],\n",
       " [35.843285, 139.981064],\n",
       " [35.845604, 139.976089],\n",
       " [35.839211, 139.968597],\n",
       " [35.841667, 139.972061],\n",
       " [35.867088, 139.963196],\n",
       " [35.867088, 139.963196],\n",
       " [35.867088, 139.963196],\n",
       " [35.867088, 139.963196],\n",
       " [35.867088, 139.963196],\n",
       " [35.864574, 139.962662],\n",
       " [35.864574, 139.962662],\n",
       " [35.865929, 139.971985],\n",
       " [35.868034, 139.974197],\n",
       " [35.868034, 139.974197],\n",
       " [35.869129, 139.971756],\n",
       " [35.869129, 139.971756],\n",
       " [35.866798, 139.968948],\n",
       " [35.866798, 139.968948],\n",
       " [35.866798, 139.968948],\n",
       " [35.869289, 139.967926],\n",
       " [35.861916, 139.968491],\n",
       " [35.861916, 139.968491],\n",
       " [35.861916, 139.968491],\n",
       " [35.861916, 139.968491],\n",
       " [35.861916, 139.968491],\n",
       " [35.861916, 139.968491],\n",
       " [35.861916, 139.968491],\n",
       " [35.861916, 139.968491],\n",
       " [35.861916, 139.968491],\n",
       " [35.858974, 139.962036],\n",
       " [35.858974, 139.962036],\n",
       " [35.858974, 139.962036],\n",
       " [35.858974, 139.962036],\n",
       " [35.858974, 139.962036],\n",
       " [35.85675, 139.962128],\n",
       " [35.857044, 139.958267],\n",
       " [35.857044, 139.958267],\n",
       " [35.868122, 139.943359],\n",
       " [35.862904, 139.970398],\n",
       " [35.862904, 139.970398],\n",
       " [35.862904, 139.970398],\n",
       " [35.862904, 139.970398],\n",
       " [35.862904, 139.970398],\n",
       " [35.862904, 139.970398],\n",
       " [35.862904, 139.970398],\n",
       " [35.862904, 139.970398],\n",
       " [35.862904, 139.970398],\n",
       " [35.862904, 139.970398],\n",
       " [35.854397, 139.962891],\n",
       " [35.854397, 139.962891],\n",
       " [35.854397, 139.962891],\n",
       " [35.854397, 139.962891],\n",
       " [35.854397, 139.962891],\n",
       " [35.854397, 139.962891],\n",
       " [35.866894, 139.957932],\n",
       " [35.866894, 139.957932],\n",
       " [35.866894, 139.957932],\n",
       " [35.866894, 139.957932],\n",
       " [35.862438, 139.959137],\n",
       " [35.863903, 139.956039],\n",
       " [35.863903, 139.956039],\n",
       " [35.869198, 139.957932],\n",
       " [35.882629, 139.959305],\n",
       " [35.882629, 139.959305],\n",
       " [35.88113, 139.98645],\n",
       " [35.879082, 139.975952],\n",
       " [35.879082, 139.975952],\n",
       " [35.879082, 139.975952],\n",
       " [35.879082, 139.975952],\n",
       " [35.879082, 139.975952],\n",
       " [35.879082, 139.975952],\n",
       " [35.879082, 139.975952],\n",
       " [35.879082, 139.975952],\n",
       " [35.886456, 139.980759],\n",
       " [35.886456, 139.980759],\n",
       " [35.886009, 139.970963],\n",
       " [35.886009, 139.970963],\n",
       " [35.889114, 139.971802],\n",
       " [35.889114, 139.971802],\n",
       " [35.889114, 139.971802],\n",
       " [35.889473, 139.966446],\n",
       " [35.889473, 139.966446],\n",
       " [35.891541, 139.968033],\n",
       " [35.880825, 139.967804],\n",
       " [35.880825, 139.967804],\n",
       " [35.880825, 139.967804],\n",
       " [35.880825, 139.967804],\n",
       " [35.88258, 139.969193],\n",
       " [35.88258, 139.969193],\n",
       " [35.88258, 139.969193],\n",
       " [35.88258, 139.969193],\n",
       " [35.88258, 139.969193],\n",
       " [35.88258, 139.969193],\n",
       " [35.88258, 139.969193],\n",
       " [35.902401, 139.950058],\n",
       " [35.902401, 139.950058],\n",
       " [35.891659, 139.953995],\n",
       " [35.891659, 139.953995],\n",
       " [35.891659, 139.953995],\n",
       " [35.891659, 139.953995],\n",
       " [35.891659, 139.953995],\n",
       " [35.891659, 139.953995],\n",
       " [35.891659, 139.953995],\n",
       " [35.891659, 139.953995],\n",
       " [35.891659, 139.953995],\n",
       " [35.891659, 139.953995],\n",
       " [35.891659, 139.953995],\n",
       " [35.891659, 139.953995],\n",
       " [35.891659, 139.953995],\n",
       " [35.891659, 139.953995],\n",
       " [35.891659, 139.953995],\n",
       " [35.891659, 139.953995],\n",
       " [35.891659, 139.953995],\n",
       " [35.891659, 139.953995],\n",
       " [35.891659, 139.953995],\n",
       " [35.891659, 139.953995],\n",
       " [35.891659, 139.953995],\n",
       " [35.891659, 139.953995],\n",
       " [35.896427, 139.937088],\n",
       " [35.896942, 139.944931],\n",
       " [35.857388, 139.97847],\n",
       " [35.859604, 139.977722],\n",
       " [35.859604, 139.977722],\n",
       " [35.856449, 139.967957],\n",
       " [35.856449, 139.967957],\n",
       " [35.856449, 139.967957],\n",
       " [35.856449, 139.967957],\n",
       " [35.864445, 139.986511],\n",
       " [35.864445, 139.986511],\n",
       " [35.864445, 139.986511],\n",
       " [35.864445, 139.986511],\n",
       " [35.864445, 139.986511],\n",
       " [35.864445, 139.986511],\n",
       " [35.861809, 139.97142],\n",
       " [35.861809, 139.97142],\n",
       " [35.861809, 139.97142],\n",
       " [35.861809, 139.97142],\n",
       " [35.861809, 139.97142],\n",
       " [35.861809, 139.97142],\n",
       " [35.861809, 139.97142],\n",
       " [35.861809, 139.97142],\n",
       " [35.861809, 139.97142],\n",
       " [35.861809, 139.97142],\n",
       " [35.861809, 139.97142],\n",
       " [35.861809, 139.97142],\n",
       " [35.861694, 139.973999],\n",
       " [35.861694, 139.973999],\n",
       " [35.861694, 139.973999],\n",
       " [35.861694, 139.973999],\n",
       " [35.861694, 139.973999],\n",
       " [35.861694, 139.973999],\n",
       " [35.860302, 139.975159],\n",
       " [35.860302, 139.975159],\n",
       " [35.860302, 139.975159],\n",
       " [35.860302, 139.975159],\n",
       " [35.860302, 139.975159],\n",
       " [35.860302, 139.975159],\n",
       " [35.860302, 139.975159],\n",
       " [35.860302, 139.975159],\n",
       " [35.863529, 139.974228],\n",
       " [35.863529, 139.974228],\n",
       " [35.863529, 139.974228],\n",
       " [35.863529, 139.974228],\n",
       " [35.863529, 139.974228],\n",
       " [35.866447, 139.97612],\n",
       " [35.866447, 139.97612],\n",
       " [35.866447, 139.97612],\n",
       " [35.866447, 139.97612],\n",
       " [35.866447, 139.97612],\n",
       " [35.866447, 139.97612],\n",
       " [35.866447, 139.97612],\n",
       " [35.866447, 139.97612],\n",
       " [35.866447, 139.97612],\n",
       " [35.866447, 139.97612],\n",
       " [35.864346, 139.977219],\n",
       " [35.864346, 139.977219],\n",
       " [35.864346, 139.977219],\n",
       " [35.864346, 139.977219],\n",
       " [35.862926, 139.97995],\n",
       " [35.860554, 139.981522],\n",
       " [35.860554, 139.981522],\n",
       " [35.862904, 139.970398],\n",
       " [35.857903, 139.972931],\n",
       " [35.855583, 139.972137],\n",
       " [35.855583, 139.972137],\n",
       " [35.855583, 139.972137],\n",
       " [35.855583, 139.972137],\n",
       " [35.859303, 139.970566],\n",
       " [35.859303, 139.970566],\n",
       " [35.859303, 139.970566],\n",
       " [35.859303, 139.970566],\n",
       " [35.859303, 139.970566],\n",
       " [35.859303, 139.970566],\n",
       " [35.859303, 139.970566],\n",
       " [35.859303, 139.970566],\n",
       " [35.859303, 139.970566],\n",
       " [35.853264, 139.96521],\n",
       " [35.853264, 139.96521],\n",
       " [35.876255, 139.992081],\n",
       " [35.84705, 140.034134],\n",
       " [35.858639, 139.983749],\n",
       " [35.844578, 139.968948],\n",
       " [35.864445, 139.986511],\n",
       " [35.864445, 139.986511],\n",
       " [35.864445, 139.986511],\n",
       " [35.864445, 139.986511],\n",
       " [35.860302, 139.975159],\n",
       " [35.850071, 139.983734],\n",
       " [35.850071, 139.983734],\n",
       " [35.856525, 139.976288],\n",
       " [35.853741, 139.975143],\n",
       " [35.853741, 139.975143],\n",
       " [35.853741, 139.975143],\n",
       " [35.853451, 139.977646],\n",
       " [35.83136, 139.96756],\n",
       " [35.856003, 139.993591],\n",
       " [35.856003, 139.993591],\n",
       " [35.856003, 139.993591],\n",
       " [35.856003, 139.993591],\n",
       " [35.891659, 139.953995],\n",
       " [35.85392, 139.971054],\n",
       " [35.85392, 139.971054],\n",
       " [35.85392, 139.971054],\n",
       " [35.85392, 139.971054],\n",
       " [35.851498, 139.987534],\n",
       " [35.849293, 139.987366],\n",
       " [35.915867, 139.952377],\n",
       " [35.923737, 139.939484],\n",
       " [35.923737, 139.939484],\n",
       " [35.911968, 139.961746],\n",
       " [35.911968, 139.961746],\n",
       " [35.911968, 139.961746],\n",
       " [35.911968, 139.961746],\n",
       " [35.911968, 139.961746],\n",
       " [35.911968, 139.961746],\n",
       " [35.911968, 139.961746],\n",
       " [35.911968, 139.961746],\n",
       " [35.916023, 139.956726],\n",
       " [35.916023, 139.956726],\n",
       " [35.916023, 139.956726],\n",
       " [35.915054, 139.959076],\n",
       " [35.915054, 139.959076],\n",
       " [35.915054, 139.959076],\n",
       " [35.915054, 139.959076],\n",
       " [35.896736, 139.974243],\n",
       " [35.896736, 139.974243],\n",
       " [35.896736, 139.974243],\n",
       " [35.896736, 139.974243],\n",
       " [35.868122, 139.943359],\n",
       " [35.859928, 139.949814],\n",
       " [35.859928, 139.949814],\n",
       " [35.859928, 139.949814],\n",
       " [35.859928, 139.949814],\n",
       " [35.859928, 139.949814],\n",
       " [35.859928, 139.949814],\n",
       " [35.859928, 139.949814],\n",
       " [35.859928, 139.949814],\n",
       " [35.854702, 139.957123],\n",
       " [35.804619, 139.996078],\n",
       " [35.802979, 139.991287],\n",
       " [35.805519, 139.993011],\n",
       " [35.801025, 139.980179],\n",
       " [35.80201, 139.977814],\n",
       " [35.80201, 139.977814],\n",
       " [35.8078, 139.99794],\n",
       " [35.8078, 139.99794],\n",
       " [35.8078, 139.99794],\n",
       " [35.8078, 139.99794],\n",
       " [35.8078, 139.99794],\n",
       " [35.8078, 139.99794],\n",
       " [35.8078, 139.99794],\n",
       " [35.8078, 139.99794],\n",
       " [35.8078, 139.99794],\n",
       " [35.8078, 139.99794],\n",
       " [35.8078, 139.99794],\n",
       " [35.8078, 139.99794],\n",
       " [35.8078, 139.99794],\n",
       " [35.8078, 139.99794],\n",
       " [35.8078, 139.99794],\n",
       " [35.8078, 139.99794],\n",
       " [35.809856, 139.996445],\n",
       " [35.877697, 139.949219]]"
      ]
     },
     "execution_count": 56,
     "metadata": {},
     "output_type": "execute_result"
    }
   ],
   "source": [
    "# make a list of lat/lon's\n",
    "heatmap_lat_lon = kashiwa[['lat','lon']].values.tolist()\n",
    "\n",
    "# view the list\n",
    "heatmap_lat_lon"
   ]
  },
  {
   "cell_type": "code",
   "execution_count": null,
   "metadata": {},
   "outputs": [
    {
     "data": {
      "text/html": [
       "<div style=\"width:100%;\"><div style=\"position:relative;width:100%;height:0;padding-bottom:60%;\"><span style=\"color:#565656\">Make this Notebook Trusted to load map: File -> Trust Notebook</span><iframe srcdoc=\"&lt;!DOCTYPE html&gt;\n",
       "&lt;html&gt;\n",
       "&lt;head&gt;\n",
       "    \n",
       "    &lt;meta http-equiv=&quot;content-type&quot; content=&quot;text/html; charset=UTF-8&quot; /&gt;\n",
       "    \n",
       "        &lt;script&gt;\n",
       "            L_NO_TOUCH = false;\n",
       "            L_DISABLE_3D = false;\n",
       "        &lt;/script&gt;\n",
       "    \n",
       "    &lt;style&gt;html, body {width: 100%;height: 100%;margin: 0;padding: 0;}&lt;/style&gt;\n",
       "    &lt;style&gt;#map {position:absolute;top:0;bottom:0;right:0;left:0;}&lt;/style&gt;\n",
       "    &lt;script src=&quot;https://cdn.jsdelivr.net/npm/leaflet@1.9.3/dist/leaflet.js&quot;&gt;&lt;/script&gt;\n",
       "    &lt;script src=&quot;https://code.jquery.com/jquery-3.7.1.min.js&quot;&gt;&lt;/script&gt;\n",
       "    &lt;script src=&quot;https://cdn.jsdelivr.net/npm/bootstrap@5.2.2/dist/js/bootstrap.bundle.min.js&quot;&gt;&lt;/script&gt;\n",
       "    &lt;script src=&quot;https://cdnjs.cloudflare.com/ajax/libs/Leaflet.awesome-markers/2.0.2/leaflet.awesome-markers.js&quot;&gt;&lt;/script&gt;\n",
       "    &lt;link rel=&quot;stylesheet&quot; href=&quot;https://cdn.jsdelivr.net/npm/leaflet@1.9.3/dist/leaflet.css&quot;/&gt;\n",
       "    &lt;link rel=&quot;stylesheet&quot; href=&quot;https://cdn.jsdelivr.net/npm/bootstrap@5.2.2/dist/css/bootstrap.min.css&quot;/&gt;\n",
       "    &lt;link rel=&quot;stylesheet&quot; href=&quot;https://netdna.bootstrapcdn.com/bootstrap/3.0.0/css/bootstrap.min.css&quot;/&gt;\n",
       "    &lt;link rel=&quot;stylesheet&quot; href=&quot;https://cdn.jsdelivr.net/npm/@fortawesome/fontawesome-free@6.2.0/css/all.min.css&quot;/&gt;\n",
       "    &lt;link rel=&quot;stylesheet&quot; href=&quot;https://cdnjs.cloudflare.com/ajax/libs/Leaflet.awesome-markers/2.0.2/leaflet.awesome-markers.css&quot;/&gt;\n",
       "    &lt;link rel=&quot;stylesheet&quot; href=&quot;https://cdn.jsdelivr.net/gh/python-visualization/folium/folium/templates/leaflet.awesome.rotate.min.css&quot;/&gt;\n",
       "    \n",
       "            &lt;meta name=&quot;viewport&quot; content=&quot;width=device-width,\n",
       "                initial-scale=1.0, maximum-scale=1.0, user-scalable=no&quot; /&gt;\n",
       "            &lt;style&gt;\n",
       "                #map_526ad3ae6fda77f4b4616709561b7271 {\n",
       "                    position: relative;\n",
       "                    width: 100.0%;\n",
       "                    height: 100.0%;\n",
       "                    left: 0.0%;\n",
       "                    top: 0.0%;\n",
       "                }\n",
       "                .leaflet-container { font-size: 1rem; }\n",
       "            &lt;/style&gt;\n",
       "        \n",
       "    &lt;script src=&quot;https://cdn.jsdelivr.net/gh/python-visualization/folium@main/folium/templates/leaflet_heat.min.js&quot;&gt;&lt;/script&gt;\n",
       "    &lt;script src=&quot;https://cdnjs.cloudflare.com/ajax/libs/leaflet.markercluster/1.1.0/leaflet.markercluster.js&quot;&gt;&lt;/script&gt;\n",
       "    &lt;link rel=&quot;stylesheet&quot; href=&quot;https://cdnjs.cloudflare.com/ajax/libs/leaflet.markercluster/1.1.0/MarkerCluster.css&quot;/&gt;\n",
       "    &lt;link rel=&quot;stylesheet&quot; href=&quot;https://cdnjs.cloudflare.com/ajax/libs/leaflet.markercluster/1.1.0/MarkerCluster.Default.css&quot;/&gt;\n",
       "&lt;/head&gt;\n",
       "&lt;body&gt;\n",
       "    \n",
       "    \n",
       "            &lt;div class=&quot;folium-map&quot; id=&quot;map_526ad3ae6fda77f4b4616709561b7271&quot; &gt;&lt;/div&gt;\n",
       "        \n",
       "&lt;/body&gt;\n",
       "&lt;script&gt;\n",
       "    \n",
       "    \n",
       "            var map_526ad3ae6fda77f4b4616709561b7271 = L.map(\n",
       "                &quot;map_526ad3ae6fda77f4b4616709561b7271&quot;,\n",
       "                {\n",
       "                    center: [35.8561031762208, 139.9728003906582],\n",
       "                    crs: L.CRS.EPSG3857,\n",
       "                    zoom: 12,\n",
       "                    zoomControl: true,\n",
       "                    preferCanvas: false,\n",
       "                }\n",
       "            );\n",
       "\n",
       "            \n",
       "\n",
       "        \n",
       "    \n",
       "            var tile_layer_743cb14ced6e295589dd9733ae2cccbd = L.tileLayer(\n",
       "                &quot;https://cartodb-basemaps-{s}.global.ssl.fastly.net/dark_all/{z}/{x}/{y}.png&quot;,\n",
       "                {&quot;attribution&quot;: &quot;\\u0026copy; \\u003ca target=\\&quot;_blank\\&quot; href=\\&quot;http://www.openstreetmap.org/copyright\\&quot;\\u003eOpenStreetMap\\u003c/a\\u003e contributors \\u0026copy; \\u003ca target=\\&quot;_blank\\&quot; href=\\&quot;http://cartodb.com/attributions\\&quot;\\u003eCartoDB\\u003c/a\\u003e, CartoDB \\u003ca target=\\&quot;_blank\\&quot; href =\\&quot;http://cartodb.com/attributions\\&quot;\\u003eattributions\\u003c/a\\u003e&quot;, &quot;detectRetina&quot;: false, &quot;maxNativeZoom&quot;: 18, &quot;maxZoom&quot;: 18, &quot;minZoom&quot;: 0, &quot;noWrap&quot;: false, &quot;opacity&quot;: 1, &quot;subdomains&quot;: &quot;abc&quot;, &quot;tms&quot;: false}\n",
       "            );\n",
       "        \n",
       "    \n",
       "                tile_layer_743cb14ced6e295589dd9733ae2cccbd.addTo(map_526ad3ae6fda77f4b4616709561b7271);\n",
       "    \n",
       "            var heat_map_f3fcf318071f9912fa0aeaa44e9fcae2 = L.heatLayer(\n",
       "                [[35.841019, 139.956406], [35.841019, 139.956406], [35.841019, 139.956406], [35.841019, 139.956406], [35.841019, 139.956406], [35.81815, 139.957825], [35.818859, 139.965973], [35.820488, 139.960007], [35.824585, 139.961349], [35.824585, 139.961349], [35.815441, 139.982468], [35.83292, 139.946884], [35.82056, 139.95401], [35.833195, 139.957794], [35.833195, 139.957794], [35.829479, 139.957809], [35.833984, 139.960556], [35.833984, 139.960556], [35.833984, 139.960556], [35.864445, 139.986511], [35.864445, 139.986511], [35.864445, 139.986511], [35.870007, 139.983795], [35.875332, 139.983582], [35.872643, 139.989914], [35.872643, 139.989914], [35.872643, 139.989914], [35.872192, 139.987793], [35.872192, 139.987793], [35.870586, 139.986893], [35.870586, 139.986893], [35.868679, 139.990295], [35.887501, 139.985229], [35.887501, 139.985229], [35.88113, 139.98645], [35.88113, 139.98645], [35.88113, 139.98645], [35.88113, 139.98645], [35.88113, 139.98645], [35.88113, 139.98645], [35.88113, 139.98645], [35.88113, 139.98645], [35.88113, 139.98645], [35.88113, 139.98645], [35.88113, 139.98645], [35.88113, 139.98645], [35.88113, 139.98645], [35.88113, 139.98645], [35.88113, 139.98645], [35.88113, 139.98645], [35.88113, 139.98645], [35.88113, 139.98645], [35.88113, 139.98645], [35.88113, 139.98645], [35.832733, 139.970932], [35.815441, 139.982468], [35.815441, 139.982468], [35.815441, 139.982468], [35.815441, 139.982468], [35.815441, 139.982468], [35.815441, 139.982468], [35.815441, 139.982468], [35.815441, 139.982468], [35.822018, 139.983444], [35.822018, 139.983444], [35.822018, 139.983444], [35.824383, 139.979614], [35.824383, 139.979614], [35.824383, 139.979614], [35.824383, 139.979614], [35.824383, 139.979614], [35.824383, 139.979614], [35.816387, 139.974075], [35.816387, 139.974075], [35.816387, 139.974075], [35.818909, 139.971741], [35.817165, 139.96759], [35.814602, 139.97052], [35.814602, 139.97052], [35.814602, 139.97052], [35.814602, 139.97052], [35.814602, 139.97052], [35.813236, 139.966034], [35.809929, 139.966537], [35.811157, 139.963562], [35.810768, 139.959], [35.827206, 139.976883], [35.827206, 139.976883], [35.822952, 139.98671], [35.822952, 139.98671], [35.822952, 139.98671], [35.807571, 139.970367], [35.813534, 139.957855], [35.813534, 139.957855], [35.812092, 139.972183], [35.809525, 139.970627], [35.809525, 139.970627], [35.809525, 139.970627], [35.850155, 140.00441], [35.824383, 139.979614], [35.85088, 139.955795], [35.859928, 139.949814], [35.859928, 139.949814], [35.859928, 139.949814], [35.859928, 139.949814], [35.859928, 139.949814], [35.859928, 139.949814], [35.859928, 139.949814], [35.859928, 139.949814], [35.845783, 139.953476], [35.845783, 139.953476], [35.845783, 139.953476], [35.845783, 139.953476], [35.845783, 139.953476], [35.845783, 139.953476], [35.845783, 139.953476], [35.847271, 139.955032], [35.847271, 139.955032], [35.847271, 139.955032], [35.847271, 139.955032], [35.851013, 139.960251], [35.851013, 139.960251], [35.851013, 139.960251], [35.844471, 139.954956], [35.844471, 139.954956], [35.844471, 139.954956], [35.844471, 139.954956], [35.844471, 139.954956], [35.844471, 139.954956], [35.844471, 139.954956], [35.844471, 139.954956], [35.844471, 139.954956], [35.844471, 139.954956], [35.844471, 139.954956], [35.844471, 139.954956], [35.844471, 139.954956], [35.844471, 139.954956], [35.844471, 139.954956], [35.830082, 139.97319], [35.830082, 139.97319], [35.830082, 139.97319], [35.830082, 139.97319], [35.824383, 139.979614], [35.832466, 139.974945], [35.831703, 139.978226], [35.835472, 139.983551], [35.829124, 139.986633], [35.824703, 139.974731], [35.824703, 139.974731], [35.821732, 139.973206], [35.821732, 139.973206], [35.850155, 140.00441], [35.850155, 140.00441], [35.835773, 140.012802], [35.835773, 140.012802], [35.833759, 140.011703], [35.833759, 140.011703], [35.833759, 140.011703], [35.833759, 140.011703], [35.833759, 140.011703], [35.833759, 140.011703], [35.833759, 140.011703], [35.833759, 140.011703], [35.833759, 140.011703], [35.833759, 140.011703], [35.833759, 140.011703], [35.84325, 140.003662], [35.841068, 139.999237], [35.841068, 139.999237], [35.841068, 139.999237], [35.840942, 139.995621], [35.840942, 139.995621], [35.837143, 140.002502], [35.837143, 140.002502], [35.837143, 140.002502], [35.837143, 140.002502], [35.848038, 140.016342], [35.834927, 139.996063], [35.846394, 140.026993], [35.891518, 139.992828], [35.835949, 139.968262], [35.83136, 139.96756], [35.84692, 139.967072], [35.838268, 139.963547], [35.838268, 139.963547], [35.838268, 139.963547], [35.842236, 139.965775], [35.840786, 139.966721], [35.840786, 139.966721], [35.843285, 139.981064], [35.845604, 139.976089], [35.839211, 139.968597], [35.841667, 139.972061], [35.867088, 139.963196], [35.867088, 139.963196], [35.867088, 139.963196], [35.867088, 139.963196], [35.867088, 139.963196], [35.864574, 139.962662], [35.864574, 139.962662], [35.865929, 139.971985], [35.868034, 139.974197], [35.868034, 139.974197], [35.869129, 139.971756], [35.869129, 139.971756], [35.866798, 139.968948], [35.866798, 139.968948], [35.866798, 139.968948], [35.869289, 139.967926], [35.861916, 139.968491], [35.861916, 139.968491], [35.861916, 139.968491], [35.861916, 139.968491], [35.861916, 139.968491], [35.861916, 139.968491], [35.861916, 139.968491], [35.861916, 139.968491], [35.861916, 139.968491], [35.858974, 139.962036], [35.858974, 139.962036], [35.858974, 139.962036], [35.858974, 139.962036], [35.858974, 139.962036], [35.85675, 139.962128], [35.857044, 139.958267], [35.857044, 139.958267], [35.868122, 139.943359], [35.862904, 139.970398], [35.862904, 139.970398], [35.862904, 139.970398], [35.862904, 139.970398], [35.862904, 139.970398], [35.862904, 139.970398], [35.862904, 139.970398], [35.862904, 139.970398], [35.862904, 139.970398], [35.862904, 139.970398], [35.854397, 139.962891], [35.854397, 139.962891], [35.854397, 139.962891], [35.854397, 139.962891], [35.854397, 139.962891], [35.854397, 139.962891], [35.866894, 139.957932], [35.866894, 139.957932], [35.866894, 139.957932], [35.866894, 139.957932], [35.862438, 139.959137], [35.863903, 139.956039], [35.863903, 139.956039], [35.869198, 139.957932], [35.882629, 139.959305], [35.882629, 139.959305], [35.88113, 139.98645], [35.879082, 139.975952], [35.879082, 139.975952], [35.879082, 139.975952], [35.879082, 139.975952], [35.879082, 139.975952], [35.879082, 139.975952], [35.879082, 139.975952], [35.879082, 139.975952], [35.886456, 139.980759], [35.886456, 139.980759], [35.886009, 139.970963], [35.886009, 139.970963], [35.889114, 139.971802], [35.889114, 139.971802], [35.889114, 139.971802], [35.889473, 139.966446], [35.889473, 139.966446], [35.891541, 139.968033], [35.880825, 139.967804], [35.880825, 139.967804], [35.880825, 139.967804], [35.880825, 139.967804], [35.88258, 139.969193], [35.88258, 139.969193], [35.88258, 139.969193], [35.88258, 139.969193], [35.88258, 139.969193], [35.88258, 139.969193], [35.88258, 139.969193], [35.902401, 139.950058], [35.902401, 139.950058], [35.891659, 139.953995], [35.891659, 139.953995], [35.891659, 139.953995], [35.891659, 139.953995], [35.891659, 139.953995], [35.891659, 139.953995], [35.891659, 139.953995], [35.891659, 139.953995], [35.891659, 139.953995], [35.891659, 139.953995], [35.891659, 139.953995], [35.891659, 139.953995], [35.891659, 139.953995], [35.891659, 139.953995], [35.891659, 139.953995], [35.891659, 139.953995], [35.891659, 139.953995], [35.891659, 139.953995], [35.891659, 139.953995], [35.891659, 139.953995], [35.891659, 139.953995], [35.891659, 139.953995], [35.896427, 139.937088], [35.896942, 139.944931], [35.857388, 139.97847], [35.859604, 139.977722], [35.859604, 139.977722], [35.856449, 139.967957], [35.856449, 139.967957], [35.856449, 139.967957], [35.856449, 139.967957], [35.864445, 139.986511], [35.864445, 139.986511], [35.864445, 139.986511], [35.864445, 139.986511], [35.864445, 139.986511], [35.864445, 139.986511], [35.861809, 139.97142], [35.861809, 139.97142], [35.861809, 139.97142], [35.861809, 139.97142], [35.861809, 139.97142], [35.861809, 139.97142], [35.861809, 139.97142], [35.861809, 139.97142], [35.861809, 139.97142], [35.861809, 139.97142], [35.861809, 139.97142], [35.861809, 139.97142], [35.861694, 139.973999], [35.861694, 139.973999], [35.861694, 139.973999], [35.861694, 139.973999], [35.861694, 139.973999], [35.861694, 139.973999], [35.860302, 139.975159], [35.860302, 139.975159], [35.860302, 139.975159], [35.860302, 139.975159], [35.860302, 139.975159], [35.860302, 139.975159], [35.860302, 139.975159], [35.860302, 139.975159], [35.863529, 139.974228], [35.863529, 139.974228], [35.863529, 139.974228], [35.863529, 139.974228], [35.863529, 139.974228], [35.866447, 139.97612], [35.866447, 139.97612], [35.866447, 139.97612], [35.866447, 139.97612], [35.866447, 139.97612], [35.866447, 139.97612], [35.866447, 139.97612], [35.866447, 139.97612], [35.866447, 139.97612], [35.866447, 139.97612], [35.864346, 139.977219], [35.864346, 139.977219], [35.864346, 139.977219], [35.864346, 139.977219], [35.862926, 139.97995], [35.860554, 139.981522], [35.860554, 139.981522], [35.862904, 139.970398], [35.857903, 139.972931], [35.855583, 139.972137], [35.855583, 139.972137], [35.855583, 139.972137], [35.855583, 139.972137], [35.859303, 139.970566], [35.859303, 139.970566], [35.859303, 139.970566], [35.859303, 139.970566], [35.859303, 139.970566], [35.859303, 139.970566], [35.859303, 139.970566], [35.859303, 139.970566], [35.859303, 139.970566], [35.853264, 139.96521], [35.853264, 139.96521], [35.876255, 139.992081], [35.84705, 140.034134], [35.858639, 139.983749], [35.844578, 139.968948], [35.864445, 139.986511], [35.864445, 139.986511], [35.864445, 139.986511], [35.864445, 139.986511], [35.860302, 139.975159], [35.850071, 139.983734], [35.850071, 139.983734], [35.856525, 139.976288], [35.853741, 139.975143], [35.853741, 139.975143], [35.853741, 139.975143], [35.853451, 139.977646], [35.83136, 139.96756], [35.856003, 139.993591], [35.856003, 139.993591], [35.856003, 139.993591], [35.856003, 139.993591], [35.891659, 139.953995], [35.85392, 139.971054], [35.85392, 139.971054], [35.85392, 139.971054], [35.85392, 139.971054], [35.851498, 139.987534], [35.849293, 139.987366], [35.915867, 139.952377], [35.923737, 139.939484], [35.923737, 139.939484], [35.911968, 139.961746], [35.911968, 139.961746], [35.911968, 139.961746], [35.911968, 139.961746], [35.911968, 139.961746], [35.911968, 139.961746], [35.911968, 139.961746], [35.911968, 139.961746], [35.916023, 139.956726], [35.916023, 139.956726], [35.916023, 139.956726], [35.915054, 139.959076], [35.915054, 139.959076], [35.915054, 139.959076], [35.915054, 139.959076], [35.896736, 139.974243], [35.896736, 139.974243], [35.896736, 139.974243], [35.896736, 139.974243], [35.868122, 139.943359], [35.859928, 139.949814], [35.859928, 139.949814], [35.859928, 139.949814], [35.859928, 139.949814], [35.859928, 139.949814], [35.859928, 139.949814], [35.859928, 139.949814], [35.859928, 139.949814], [35.854702, 139.957123], [35.804619, 139.996078], [35.802979, 139.991287], [35.805519, 139.993011], [35.801025, 139.980179], [35.80201, 139.977814], [35.80201, 139.977814], [35.8078, 139.99794], [35.8078, 139.99794], [35.8078, 139.99794], [35.8078, 139.99794], [35.8078, 139.99794], [35.8078, 139.99794], [35.8078, 139.99794], [35.8078, 139.99794], [35.8078, 139.99794], [35.8078, 139.99794], [35.8078, 139.99794], [35.8078, 139.99794], [35.8078, 139.99794], [35.8078, 139.99794], [35.8078, 139.99794], [35.8078, 139.99794], [35.809856, 139.996445], [35.877697, 139.949219]],\n",
       "                {&quot;blur&quot;: 15, &quot;maxZoom&quot;: 18, &quot;minOpacity&quot;: 0.5, &quot;radius&quot;: 15}\n",
       "            );\n",
       "        \n",
       "    \n",
       "                heat_map_f3fcf318071f9912fa0aeaa44e9fcae2.addTo(map_526ad3ae6fda77f4b4616709561b7271);\n",
       "    \n",
       "            var marker_cluster_ca9729af56ef1211549dec8c3e4969a9 = L.markerClusterGroup(\n",
       "                {}\n",
       "            );\n",
       "        \n",
       "    \n",
       "            var marker_c4ac2afa97d67f399eb6eeac363a27de = L.marker(\n",
       "                [35.841019, 139.956406],\n",
       "                {}\n",
       "            ).addTo(marker_cluster_ca9729af56ef1211549dec8c3e4969a9);\n",
       "        \n",
       "    \n",
       "            marker_c4ac2afa97d67f399eb6eeac363a27de.bindTooltip(\n",
       "                `&lt;div&gt;\n",
       "                     30歳代\n",
       "                 &lt;/div&gt;`,\n",
       "                {&quot;sticky&quot;: true}\n",
       "            );\n",
       "        \n",
       "    \n",
       "            var marker_b0fac9bcf971735e150e996c06e8721f = L.marker(\n",
       "                [35.841019, 139.956406],\n",
       "                {}\n",
       "            ).addTo(marker_cluster_ca9729af56ef1211549dec8c3e4969a9);\n",
       "        \n",
       "    \n",
       "            marker_b0fac9bcf971735e150e996c06e8721f.bindTooltip(\n",
       "                `&lt;div&gt;\n",
       "                     60-64歳\n",
       "                 &lt;/div&gt;`,\n",
       "                {&quot;sticky&quot;: true}\n",
       "            );\n",
       "        \n",
       "    \n",
       "            var marker_ecfaac44dd911bcf6855a57678a9e40e = L.marker(\n",
       "                [35.841019, 139.956406],\n",
       "                {}\n",
       "            ).addTo(marker_cluster_ca9729af56ef1211549dec8c3e4969a9);\n",
       "        \n",
       "    \n",
       "            marker_ecfaac44dd911bcf6855a57678a9e40e.bindTooltip(\n",
       "                `&lt;div&gt;\n",
       "                     20歳代\n",
       "                 &lt;/div&gt;`,\n",
       "                {&quot;sticky&quot;: true}\n",
       "            );\n",
       "        \n",
       "    \n",
       "            var marker_f4a833b7544d334274e3c29a461f169e = L.marker(\n",
       "                [35.841019, 139.956406],\n",
       "                {}\n",
       "            ).addTo(marker_cluster_ca9729af56ef1211549dec8c3e4969a9);\n",
       "        \n",
       "    \n",
       "            marker_f4a833b7544d334274e3c29a461f169e.bindTooltip(\n",
       "                `&lt;div&gt;\n",
       "                     10歳代\n",
       "                 &lt;/div&gt;`,\n",
       "                {&quot;sticky&quot;: true}\n",
       "            );\n",
       "        \n",
       "    \n",
       "            var marker_edb73b33ba4636264b4704226bb1c7b1 = L.marker(\n",
       "                [35.841019, 139.956406],\n",
       "                {}\n",
       "            ).addTo(marker_cluster_ca9729af56ef1211549dec8c3e4969a9);\n",
       "        \n",
       "    \n",
       "            marker_edb73b33ba4636264b4704226bb1c7b1.bindTooltip(\n",
       "                `&lt;div&gt;\n",
       "                     10歳未満\n",
       "                 &lt;/div&gt;`,\n",
       "                {&quot;sticky&quot;: true}\n",
       "            );\n",
       "        \n",
       "    \n",
       "            var marker_ee32a30c90895cede1abad9cfa879abf = L.marker(\n",
       "                [35.81815, 139.957825],\n",
       "                {}\n",
       "            ).addTo(marker_cluster_ca9729af56ef1211549dec8c3e4969a9);\n",
       "        \n",
       "    \n",
       "            marker_ee32a30c90895cede1abad9cfa879abf.bindTooltip(\n",
       "                `&lt;div&gt;\n",
       "                     40歳代\n",
       "                 &lt;/div&gt;`,\n",
       "                {&quot;sticky&quot;: true}\n",
       "            );\n",
       "        \n",
       "    \n",
       "            var marker_f1d69172f6225fd7a0f7b74eaac6e7e4 = L.marker(\n",
       "                [35.818859, 139.965973],\n",
       "                {}\n",
       "            ).addTo(marker_cluster_ca9729af56ef1211549dec8c3e4969a9);\n",
       "        \n",
       "    \n",
       "            marker_f1d69172f6225fd7a0f7b74eaac6e7e4.bindTooltip(\n",
       "                `&lt;div&gt;\n",
       "                     10歳代\n",
       "                 &lt;/div&gt;`,\n",
       "                {&quot;sticky&quot;: true}\n",
       "            );\n",
       "        \n",
       "    \n",
       "            var marker_8819fc7a83b068483b7ae92c5bda70bf = L.marker(\n",
       "                [35.820488, 139.960007],\n",
       "                {}\n",
       "            ).addTo(marker_cluster_ca9729af56ef1211549dec8c3e4969a9);\n",
       "        \n",
       "    \n",
       "            marker_8819fc7a83b068483b7ae92c5bda70bf.bindTooltip(\n",
       "                `&lt;div&gt;\n",
       "                     70歳以上\n",
       "                 &lt;/div&gt;`,\n",
       "                {&quot;sticky&quot;: true}\n",
       "            );\n",
       "        \n",
       "    \n",
       "            var marker_9f5dd1f8c9c32ce819fe3812c2156d86 = L.marker(\n",
       "                [35.824585, 139.961349],\n",
       "                {}\n",
       "            ).addTo(marker_cluster_ca9729af56ef1211549dec8c3e4969a9);\n",
       "        \n",
       "    \n",
       "            marker_9f5dd1f8c9c32ce819fe3812c2156d86.bindTooltip(\n",
       "                `&lt;div&gt;\n",
       "                     30歳代\n",
       "                 &lt;/div&gt;`,\n",
       "                {&quot;sticky&quot;: true}\n",
       "            );\n",
       "        \n",
       "    \n",
       "            var marker_01e0202f1ac86cf91e2846f4983d8b05 = L.marker(\n",
       "                [35.824585, 139.961349],\n",
       "                {}\n",
       "            ).addTo(marker_cluster_ca9729af56ef1211549dec8c3e4969a9);\n",
       "        \n",
       "    \n",
       "            marker_01e0202f1ac86cf91e2846f4983d8b05.bindTooltip(\n",
       "                `&lt;div&gt;\n",
       "                     10歳未満\n",
       "                 &lt;/div&gt;`,\n",
       "                {&quot;sticky&quot;: true}\n",
       "            );\n",
       "        \n",
       "    \n",
       "            var marker_fc099614d5e36b447212239e4febe2e6 = L.marker(\n",
       "                [35.815441, 139.982468],\n",
       "                {}\n",
       "            ).addTo(marker_cluster_ca9729af56ef1211549dec8c3e4969a9);\n",
       "        \n",
       "    \n",
       "            marker_fc099614d5e36b447212239e4febe2e6.bindTooltip(\n",
       "                `&lt;div&gt;\n",
       "                     10歳代\n",
       "                 &lt;/div&gt;`,\n",
       "                {&quot;sticky&quot;: true}\n",
       "            );\n",
       "        \n",
       "    \n",
       "            var marker_f3fb68d7db6d895c6912737e83b82b33 = L.marker(\n",
       "                [35.83292, 139.946884],\n",
       "                {}\n",
       "            ).addTo(marker_cluster_ca9729af56ef1211549dec8c3e4969a9);\n",
       "        \n",
       "    \n",
       "            marker_f3fb68d7db6d895c6912737e83b82b33.bindTooltip(\n",
       "                `&lt;div&gt;\n",
       "                     10歳代\n",
       "                 &lt;/div&gt;`,\n",
       "                {&quot;sticky&quot;: true}\n",
       "            );\n",
       "        \n",
       "    \n",
       "            var marker_547aa60c35119f1373de915bb29a0417 = L.marker(\n",
       "                [35.82056, 139.95401],\n",
       "                {}\n",
       "            ).addTo(marker_cluster_ca9729af56ef1211549dec8c3e4969a9);\n",
       "        \n",
       "    \n",
       "            marker_547aa60c35119f1373de915bb29a0417.bindTooltip(\n",
       "                `&lt;div&gt;\n",
       "                     10歳代\n",
       "                 &lt;/div&gt;`,\n",
       "                {&quot;sticky&quot;: true}\n",
       "            );\n",
       "        \n",
       "    \n",
       "            var marker_21020fa89e76362ea48d1e8e15206920 = L.marker(\n",
       "                [35.833195, 139.957794],\n",
       "                {}\n",
       "            ).addTo(marker_cluster_ca9729af56ef1211549dec8c3e4969a9);\n",
       "        \n",
       "    \n",
       "            marker_21020fa89e76362ea48d1e8e15206920.bindTooltip(\n",
       "                `&lt;div&gt;\n",
       "                     30歳代\n",
       "                 &lt;/div&gt;`,\n",
       "                {&quot;sticky&quot;: true}\n",
       "            );\n",
       "        \n",
       "    \n",
       "            var marker_53ef41678618081e0c69621f76a8af4d = L.marker(\n",
       "                [35.833195, 139.957794],\n",
       "                {}\n",
       "            ).addTo(marker_cluster_ca9729af56ef1211549dec8c3e4969a9);\n",
       "        \n",
       "    \n",
       "            marker_53ef41678618081e0c69621f76a8af4d.bindTooltip(\n",
       "                `&lt;div&gt;\n",
       "                     30歳代\n",
       "                 &lt;/div&gt;`,\n",
       "                {&quot;sticky&quot;: true}\n",
       "            );\n",
       "        \n",
       "    \n",
       "            var marker_ec72b9f4d898b34bd5eda9d1cb98d1ce = L.marker(\n",
       "                [35.829479, 139.957809],\n",
       "                {}\n",
       "            ).addTo(marker_cluster_ca9729af56ef1211549dec8c3e4969a9);\n",
       "        \n",
       "    \n",
       "            marker_ec72b9f4d898b34bd5eda9d1cb98d1ce.bindTooltip(\n",
       "                `&lt;div&gt;\n",
       "                     10歳代\n",
       "                 &lt;/div&gt;`,\n",
       "                {&quot;sticky&quot;: true}\n",
       "            );\n",
       "        \n",
       "    \n",
       "            var marker_096cf018d403d75e84cc5583a8d4cecf = L.marker(\n",
       "                [35.833984, 139.960556],\n",
       "                {}\n",
       "            ).addTo(marker_cluster_ca9729af56ef1211549dec8c3e4969a9);\n",
       "        \n",
       "    \n",
       "            marker_096cf018d403d75e84cc5583a8d4cecf.bindTooltip(\n",
       "                `&lt;div&gt;\n",
       "                     10歳代\n",
       "                 &lt;/div&gt;`,\n",
       "                {&quot;sticky&quot;: true}\n",
       "            );\n",
       "        \n",
       "    \n",
       "            var marker_838efe27e7aa42a01e29835632a629b3 = L.marker(\n",
       "                [35.833984, 139.960556],\n",
       "                {}\n",
       "            ).addTo(marker_cluster_ca9729af56ef1211549dec8c3e4969a9);\n",
       "        \n",
       "    \n",
       "            marker_838efe27e7aa42a01e29835632a629b3.bindTooltip(\n",
       "                `&lt;div&gt;\n",
       "                     10歳未満\n",
       "                 &lt;/div&gt;`,\n",
       "                {&quot;sticky&quot;: true}\n",
       "            );\n",
       "        \n",
       "    \n",
       "            var marker_b270a4f82c2bd3d8e5e7aa0453ec55d7 = L.marker(\n",
       "                [35.833984, 139.960556],\n",
       "                {}\n",
       "            ).addTo(marker_cluster_ca9729af56ef1211549dec8c3e4969a9);\n",
       "        \n",
       "    \n",
       "            marker_b270a4f82c2bd3d8e5e7aa0453ec55d7.bindTooltip(\n",
       "                `&lt;div&gt;\n",
       "                     10歳代\n",
       "                 &lt;/div&gt;`,\n",
       "                {&quot;sticky&quot;: true}\n",
       "            );\n",
       "        \n",
       "    \n",
       "            var marker_4b7c3f2a3f2965d675f4c56e6b06b1c8 = L.marker(\n",
       "                [35.864445, 139.986511],\n",
       "                {}\n",
       "            ).addTo(marker_cluster_ca9729af56ef1211549dec8c3e4969a9);\n",
       "        \n",
       "    \n",
       "            marker_4b7c3f2a3f2965d675f4c56e6b06b1c8.bindTooltip(\n",
       "                `&lt;div&gt;\n",
       "                     50歳代\n",
       "                 &lt;/div&gt;`,\n",
       "                {&quot;sticky&quot;: true}\n",
       "            );\n",
       "        \n",
       "    \n",
       "            var marker_dc7e5cb927837bdcc2f1cf552bc4fe6b = L.marker(\n",
       "                [35.864445, 139.986511],\n",
       "                {}\n",
       "            ).addTo(marker_cluster_ca9729af56ef1211549dec8c3e4969a9);\n",
       "        \n",
       "    \n",
       "            marker_dc7e5cb927837bdcc2f1cf552bc4fe6b.bindTooltip(\n",
       "                `&lt;div&gt;\n",
       "                     30歳代\n",
       "                 &lt;/div&gt;`,\n",
       "                {&quot;sticky&quot;: true}\n",
       "            );\n",
       "        \n",
       "    \n",
       "            var marker_5d8f1528fbf833cee09b822f45c024ff = L.marker(\n",
       "                [35.864445, 139.986511],\n",
       "                {}\n",
       "            ).addTo(marker_cluster_ca9729af56ef1211549dec8c3e4969a9);\n",
       "        \n",
       "    \n",
       "            marker_5d8f1528fbf833cee09b822f45c024ff.bindTooltip(\n",
       "                `&lt;div&gt;\n",
       "                     40歳代\n",
       "                 &lt;/div&gt;`,\n",
       "                {&quot;sticky&quot;: true}\n",
       "            );\n",
       "        \n",
       "    \n",
       "            var marker_826e51d98fbe4ca9f4b9c59dc36a3369 = L.marker(\n",
       "                [35.870007, 139.983795],\n",
       "                {}\n",
       "            ).addTo(marker_cluster_ca9729af56ef1211549dec8c3e4969a9);\n",
       "        \n",
       "    \n",
       "            marker_826e51d98fbe4ca9f4b9c59dc36a3369.bindTooltip(\n",
       "                `&lt;div&gt;\n",
       "                     65-69歳\n",
       "                 &lt;/div&gt;`,\n",
       "                {&quot;sticky&quot;: true}\n",
       "            );\n",
       "        \n",
       "    \n",
       "            var marker_1d8fa883377b658b80ee61acbb60f917 = L.marker(\n",
       "                [35.875332, 139.983582],\n",
       "                {}\n",
       "            ).addTo(marker_cluster_ca9729af56ef1211549dec8c3e4969a9);\n",
       "        \n",
       "    \n",
       "            marker_1d8fa883377b658b80ee61acbb60f917.bindTooltip(\n",
       "                `&lt;div&gt;\n",
       "                     20歳代\n",
       "                 &lt;/div&gt;`,\n",
       "                {&quot;sticky&quot;: true}\n",
       "            );\n",
       "        \n",
       "    \n",
       "            var marker_c2918f4dae2bcac658f0910ccaf9d331 = L.marker(\n",
       "                [35.872643, 139.989914],\n",
       "                {}\n",
       "            ).addTo(marker_cluster_ca9729af56ef1211549dec8c3e4969a9);\n",
       "        \n",
       "    \n",
       "            marker_c2918f4dae2bcac658f0910ccaf9d331.bindTooltip(\n",
       "                `&lt;div&gt;\n",
       "                     60-64歳\n",
       "                 &lt;/div&gt;`,\n",
       "                {&quot;sticky&quot;: true}\n",
       "            );\n",
       "        \n",
       "    \n",
       "            var marker_d7b584f31da76e7796323fca1b2cfc0f = L.marker(\n",
       "                [35.872643, 139.989914],\n",
       "                {}\n",
       "            ).addTo(marker_cluster_ca9729af56ef1211549dec8c3e4969a9);\n",
       "        \n",
       "    \n",
       "            marker_d7b584f31da76e7796323fca1b2cfc0f.bindTooltip(\n",
       "                `&lt;div&gt;\n",
       "                     20歳代\n",
       "                 &lt;/div&gt;`,\n",
       "                {&quot;sticky&quot;: true}\n",
       "            );\n",
       "        \n",
       "    \n",
       "            var marker_d9ff3f715b65c8433e1a161c48cdf307 = L.marker(\n",
       "                [35.872643, 139.989914],\n",
       "                {}\n",
       "            ).addTo(marker_cluster_ca9729af56ef1211549dec8c3e4969a9);\n",
       "        \n",
       "    \n",
       "            marker_d9ff3f715b65c8433e1a161c48cdf307.bindTooltip(\n",
       "                `&lt;div&gt;\n",
       "                     30歳代\n",
       "                 &lt;/div&gt;`,\n",
       "                {&quot;sticky&quot;: true}\n",
       "            );\n",
       "        \n",
       "    \n",
       "            var marker_84518447de10f872ae7ad4e05063d556 = L.marker(\n",
       "                [35.872192, 139.987793],\n",
       "                {}\n",
       "            ).addTo(marker_cluster_ca9729af56ef1211549dec8c3e4969a9);\n",
       "        \n",
       "    \n",
       "            marker_84518447de10f872ae7ad4e05063d556.bindTooltip(\n",
       "                `&lt;div&gt;\n",
       "                     10歳代\n",
       "                 &lt;/div&gt;`,\n",
       "                {&quot;sticky&quot;: true}\n",
       "            );\n",
       "        \n",
       "    \n",
       "            var marker_d3ca770b8b1fe36feaa7815b45bc7949 = L.marker(\n",
       "                [35.872192, 139.987793],\n",
       "                {}\n",
       "            ).addTo(marker_cluster_ca9729af56ef1211549dec8c3e4969a9);\n",
       "        \n",
       "    \n",
       "            marker_d3ca770b8b1fe36feaa7815b45bc7949.bindTooltip(\n",
       "                `&lt;div&gt;\n",
       "                     40歳代\n",
       "                 &lt;/div&gt;`,\n",
       "                {&quot;sticky&quot;: true}\n",
       "            );\n",
       "        \n",
       "    \n",
       "            var marker_6c6e747d75362392d56c62691512d63e = L.marker(\n",
       "                [35.870586, 139.986893],\n",
       "                {}\n",
       "            ).addTo(marker_cluster_ca9729af56ef1211549dec8c3e4969a9);\n",
       "        \n",
       "    \n",
       "            marker_6c6e747d75362392d56c62691512d63e.bindTooltip(\n",
       "                `&lt;div&gt;\n",
       "                     20歳代\n",
       "                 &lt;/div&gt;`,\n",
       "                {&quot;sticky&quot;: true}\n",
       "            );\n",
       "        \n",
       "    \n",
       "            var marker_d28bb1ce83fd830b39a181e1b33ad8a4 = L.marker(\n",
       "                [35.870586, 139.986893],\n",
       "                {}\n",
       "            ).addTo(marker_cluster_ca9729af56ef1211549dec8c3e4969a9);\n",
       "        \n",
       "    \n",
       "            marker_d28bb1ce83fd830b39a181e1b33ad8a4.bindTooltip(\n",
       "                `&lt;div&gt;\n",
       "                     20歳代\n",
       "                 &lt;/div&gt;`,\n",
       "                {&quot;sticky&quot;: true}\n",
       "            );\n",
       "        \n",
       "    \n",
       "            var marker_f11a62a0173f1668a1a25f1478a63f4c = L.marker(\n",
       "                [35.868679, 139.990295],\n",
       "                {}\n",
       "            ).addTo(marker_cluster_ca9729af56ef1211549dec8c3e4969a9);\n",
       "        \n",
       "    \n",
       "            marker_f11a62a0173f1668a1a25f1478a63f4c.bindTooltip(\n",
       "                `&lt;div&gt;\n",
       "                     30歳代\n",
       "                 &lt;/div&gt;`,\n",
       "                {&quot;sticky&quot;: true}\n",
       "            );\n",
       "        \n",
       "    \n",
       "            var marker_90efe886e25fd7535c128f1f5115c435 = L.marker(\n",
       "                [35.887501, 139.985229],\n",
       "                {}\n",
       "            ).addTo(marker_cluster_ca9729af56ef1211549dec8c3e4969a9);\n",
       "        \n",
       "    \n",
       "            marker_90efe886e25fd7535c128f1f5115c435.bindTooltip(\n",
       "                `&lt;div&gt;\n",
       "                     10歳未満\n",
       "                 &lt;/div&gt;`,\n",
       "                {&quot;sticky&quot;: true}\n",
       "            );\n",
       "        \n",
       "    \n",
       "            var marker_1db3fb92afad85bd6c8ee949b3110612 = L.marker(\n",
       "                [35.887501, 139.985229],\n",
       "                {}\n",
       "            ).addTo(marker_cluster_ca9729af56ef1211549dec8c3e4969a9);\n",
       "        \n",
       "    \n",
       "            marker_1db3fb92afad85bd6c8ee949b3110612.bindTooltip(\n",
       "                `&lt;div&gt;\n",
       "                     10歳代\n",
       "                 &lt;/div&gt;`,\n",
       "                {&quot;sticky&quot;: true}\n",
       "            );\n",
       "        \n",
       "    \n",
       "            var marker_cd74de3e7c68ba492f969457c7e86eab = L.marker(\n",
       "                [35.88113, 139.98645],\n",
       "                {}\n",
       "            ).addTo(marker_cluster_ca9729af56ef1211549dec8c3e4969a9);\n",
       "        \n",
       "    \n",
       "            marker_cd74de3e7c68ba492f969457c7e86eab.bindTooltip(\n",
       "                `&lt;div&gt;\n",
       "                     20歳代\n",
       "                 &lt;/div&gt;`,\n",
       "                {&quot;sticky&quot;: true}\n",
       "            );\n",
       "        \n",
       "    \n",
       "            var marker_25a0a584e557a4418d25b1d9abd3af49 = L.marker(\n",
       "                [35.88113, 139.98645],\n",
       "                {}\n",
       "            ).addTo(marker_cluster_ca9729af56ef1211549dec8c3e4969a9);\n",
       "        \n",
       "    \n",
       "            marker_25a0a584e557a4418d25b1d9abd3af49.bindTooltip(\n",
       "                `&lt;div&gt;\n",
       "                     50歳代\n",
       "                 &lt;/div&gt;`,\n",
       "                {&quot;sticky&quot;: true}\n",
       "            );\n",
       "        \n",
       "    \n",
       "            var marker_07054d3f9590005d7148647383ca9597 = L.marker(\n",
       "                [35.88113, 139.98645],\n",
       "                {}\n",
       "            ).addTo(marker_cluster_ca9729af56ef1211549dec8c3e4969a9);\n",
       "        \n",
       "    \n",
       "            marker_07054d3f9590005d7148647383ca9597.bindTooltip(\n",
       "                `&lt;div&gt;\n",
       "                     40歳代\n",
       "                 &lt;/div&gt;`,\n",
       "                {&quot;sticky&quot;: true}\n",
       "            );\n",
       "        \n",
       "    \n",
       "            var marker_dd3b35ef919200db8faacd3276b5f676 = L.marker(\n",
       "                [35.88113, 139.98645],\n",
       "                {}\n",
       "            ).addTo(marker_cluster_ca9729af56ef1211549dec8c3e4969a9);\n",
       "        \n",
       "    \n",
       "            marker_dd3b35ef919200db8faacd3276b5f676.bindTooltip(\n",
       "                `&lt;div&gt;\n",
       "                     40歳代\n",
       "                 &lt;/div&gt;`,\n",
       "                {&quot;sticky&quot;: true}\n",
       "            );\n",
       "        \n",
       "    \n",
       "            var marker_1916dbe1076a6c33bed061111a5bd86e = L.marker(\n",
       "                [35.88113, 139.98645],\n",
       "                {}\n",
       "            ).addTo(marker_cluster_ca9729af56ef1211549dec8c3e4969a9);\n",
       "        \n",
       "    \n",
       "            marker_1916dbe1076a6c33bed061111a5bd86e.bindTooltip(\n",
       "                `&lt;div&gt;\n",
       "                     60-64歳\n",
       "                 &lt;/div&gt;`,\n",
       "                {&quot;sticky&quot;: true}\n",
       "            );\n",
       "        \n",
       "    \n",
       "            var marker_e7221eed8d8ba36cf1d9c3dea17e3120 = L.marker(\n",
       "                [35.88113, 139.98645],\n",
       "                {}\n",
       "            ).addTo(marker_cluster_ca9729af56ef1211549dec8c3e4969a9);\n",
       "        \n",
       "    \n",
       "            marker_e7221eed8d8ba36cf1d9c3dea17e3120.bindTooltip(\n",
       "                `&lt;div&gt;\n",
       "                     10歳代\n",
       "                 &lt;/div&gt;`,\n",
       "                {&quot;sticky&quot;: true}\n",
       "            );\n",
       "        \n",
       "    \n",
       "            var marker_ec73698e37fcd31736b0d183121333b2 = L.marker(\n",
       "                [35.88113, 139.98645],\n",
       "                {}\n",
       "            ).addTo(marker_cluster_ca9729af56ef1211549dec8c3e4969a9);\n",
       "        \n",
       "    \n",
       "            marker_ec73698e37fcd31736b0d183121333b2.bindTooltip(\n",
       "                `&lt;div&gt;\n",
       "                     10歳代\n",
       "                 &lt;/div&gt;`,\n",
       "                {&quot;sticky&quot;: true}\n",
       "            );\n",
       "        \n",
       "    \n",
       "            var marker_309a57873c93fe2789db5f10080d6814 = L.marker(\n",
       "                [35.88113, 139.98645],\n",
       "                {}\n",
       "            ).addTo(marker_cluster_ca9729af56ef1211549dec8c3e4969a9);\n",
       "        \n",
       "    \n",
       "            marker_309a57873c93fe2789db5f10080d6814.bindTooltip(\n",
       "                `&lt;div&gt;\n",
       "                     10歳代\n",
       "                 &lt;/div&gt;`,\n",
       "                {&quot;sticky&quot;: true}\n",
       "            );\n",
       "        \n",
       "    \n",
       "            var marker_1ef9dd1cdb5a3994df0b2c4d43f5795e = L.marker(\n",
       "                [35.88113, 139.98645],\n",
       "                {}\n",
       "            ).addTo(marker_cluster_ca9729af56ef1211549dec8c3e4969a9);\n",
       "        \n",
       "    \n",
       "            marker_1ef9dd1cdb5a3994df0b2c4d43f5795e.bindTooltip(\n",
       "                `&lt;div&gt;\n",
       "                     40歳代\n",
       "                 &lt;/div&gt;`,\n",
       "                {&quot;sticky&quot;: true}\n",
       "            );\n",
       "        \n",
       "    \n",
       "            var marker_7ff139811c6c71dd05f4ce7bc7ba0f72 = L.marker(\n",
       "                [35.88113, 139.98645],\n",
       "                {}\n",
       "            ).addTo(marker_cluster_ca9729af56ef1211549dec8c3e4969a9);\n",
       "        \n",
       "    \n",
       "            marker_7ff139811c6c71dd05f4ce7bc7ba0f72.bindTooltip(\n",
       "                `&lt;div&gt;\n",
       "                     20歳代\n",
       "                 &lt;/div&gt;`,\n",
       "                {&quot;sticky&quot;: true}\n",
       "            );\n",
       "        \n",
       "    \n",
       "            var marker_66af973ed47d3f4d9998e6b6ee5cebdf = L.marker(\n",
       "                [35.88113, 139.98645],\n",
       "                {}\n",
       "            ).addTo(marker_cluster_ca9729af56ef1211549dec8c3e4969a9);\n",
       "        \n",
       "    \n",
       "            marker_66af973ed47d3f4d9998e6b6ee5cebdf.bindTooltip(\n",
       "                `&lt;div&gt;\n",
       "                     10歳未満\n",
       "                 &lt;/div&gt;`,\n",
       "                {&quot;sticky&quot;: true}\n",
       "            );\n",
       "        \n",
       "    \n",
       "            var marker_4d2d614fca28076942d80c8c06e132f5 = L.marker(\n",
       "                [35.88113, 139.98645],\n",
       "                {}\n",
       "            ).addTo(marker_cluster_ca9729af56ef1211549dec8c3e4969a9);\n",
       "        \n",
       "    \n",
       "            marker_4d2d614fca28076942d80c8c06e132f5.bindTooltip(\n",
       "                `&lt;div&gt;\n",
       "                     40歳代\n",
       "                 &lt;/div&gt;`,\n",
       "                {&quot;sticky&quot;: true}\n",
       "            );\n",
       "        \n",
       "    \n",
       "            var marker_6b65cf6852edb5ac825d11c9a3a1bdf3 = L.marker(\n",
       "                [35.88113, 139.98645],\n",
       "                {}\n",
       "            ).addTo(marker_cluster_ca9729af56ef1211549dec8c3e4969a9);\n",
       "        \n",
       "    \n",
       "            marker_6b65cf6852edb5ac825d11c9a3a1bdf3.bindTooltip(\n",
       "                `&lt;div&gt;\n",
       "                     10歳代\n",
       "                 &lt;/div&gt;`,\n",
       "                {&quot;sticky&quot;: true}\n",
       "            );\n",
       "        \n",
       "    \n",
       "            var marker_1bfb6b9fc481503a9984be66872a25a5 = L.marker(\n",
       "                [35.88113, 139.98645],\n",
       "                {}\n",
       "            ).addTo(marker_cluster_ca9729af56ef1211549dec8c3e4969a9);\n",
       "        \n",
       "    \n",
       "            marker_1bfb6b9fc481503a9984be66872a25a5.bindTooltip(\n",
       "                `&lt;div&gt;\n",
       "                     20歳代\n",
       "                 &lt;/div&gt;`,\n",
       "                {&quot;sticky&quot;: true}\n",
       "            );\n",
       "        \n",
       "    \n",
       "            var marker_40d722c586a81d3416855a411a5381fa = L.marker(\n",
       "                [35.88113, 139.98645],\n",
       "                {}\n",
       "            ).addTo(marker_cluster_ca9729af56ef1211549dec8c3e4969a9);\n",
       "        \n",
       "    \n",
       "            marker_40d722c586a81d3416855a411a5381fa.bindTooltip(\n",
       "                `&lt;div&gt;\n",
       "                     10歳代\n",
       "                 &lt;/div&gt;`,\n",
       "                {&quot;sticky&quot;: true}\n",
       "            );\n",
       "        \n",
       "    \n",
       "            var marker_8201454efca38154977bb4638ee180df = L.marker(\n",
       "                [35.88113, 139.98645],\n",
       "                {}\n",
       "            ).addTo(marker_cluster_ca9729af56ef1211549dec8c3e4969a9);\n",
       "        \n",
       "    \n",
       "            marker_8201454efca38154977bb4638ee180df.bindTooltip(\n",
       "                `&lt;div&gt;\n",
       "                     20歳代\n",
       "                 &lt;/div&gt;`,\n",
       "                {&quot;sticky&quot;: true}\n",
       "            );\n",
       "        \n",
       "    \n",
       "            var marker_7b78befcdce15b9904bc5195672ef137 = L.marker(\n",
       "                [35.88113, 139.98645],\n",
       "                {}\n",
       "            ).addTo(marker_cluster_ca9729af56ef1211549dec8c3e4969a9);\n",
       "        \n",
       "    \n",
       "            marker_7b78befcdce15b9904bc5195672ef137.bindTooltip(\n",
       "                `&lt;div&gt;\n",
       "                     20歳代\n",
       "                 &lt;/div&gt;`,\n",
       "                {&quot;sticky&quot;: true}\n",
       "            );\n",
       "        \n",
       "    \n",
       "            var marker_c51da203f1ff7f0579602ea120da1bda = L.marker(\n",
       "                [35.88113, 139.98645],\n",
       "                {}\n",
       "            ).addTo(marker_cluster_ca9729af56ef1211549dec8c3e4969a9);\n",
       "        \n",
       "    \n",
       "            marker_c51da203f1ff7f0579602ea120da1bda.bindTooltip(\n",
       "                `&lt;div&gt;\n",
       "                     20歳代\n",
       "                 &lt;/div&gt;`,\n",
       "                {&quot;sticky&quot;: true}\n",
       "            );\n",
       "        \n",
       "    \n",
       "            var marker_9122a8f5eff04d40575090c5910a6d76 = L.marker(\n",
       "                [35.88113, 139.98645],\n",
       "                {}\n",
       "            ).addTo(marker_cluster_ca9729af56ef1211549dec8c3e4969a9);\n",
       "        \n",
       "    \n",
       "            marker_9122a8f5eff04d40575090c5910a6d76.bindTooltip(\n",
       "                `&lt;div&gt;\n",
       "                     20歳代\n",
       "                 &lt;/div&gt;`,\n",
       "                {&quot;sticky&quot;: true}\n",
       "            );\n",
       "        \n",
       "    \n",
       "            var marker_df0e84692d89e357163505376bdff2d8 = L.marker(\n",
       "                [35.88113, 139.98645],\n",
       "                {}\n",
       "            ).addTo(marker_cluster_ca9729af56ef1211549dec8c3e4969a9);\n",
       "        \n",
       "    \n",
       "            marker_df0e84692d89e357163505376bdff2d8.bindTooltip(\n",
       "                `&lt;div&gt;\n",
       "                     20歳代\n",
       "                 &lt;/div&gt;`,\n",
       "                {&quot;sticky&quot;: true}\n",
       "            );\n",
       "        \n",
       "    \n",
       "            var marker_9e1a6741890f9f6758d482a4c7c29ecc = L.marker(\n",
       "                [35.832733, 139.970932],\n",
       "                {}\n",
       "            ).addTo(marker_cluster_ca9729af56ef1211549dec8c3e4969a9);\n",
       "        \n",
       "    \n",
       "            marker_9e1a6741890f9f6758d482a4c7c29ecc.bindTooltip(\n",
       "                `&lt;div&gt;\n",
       "                     20歳代\n",
       "                 &lt;/div&gt;`,\n",
       "                {&quot;sticky&quot;: true}\n",
       "            );\n",
       "        \n",
       "    \n",
       "            var marker_f60639c1ca4bb510f7fec45abd82d2dc = L.marker(\n",
       "                [35.815441, 139.982468],\n",
       "                {}\n",
       "            ).addTo(marker_cluster_ca9729af56ef1211549dec8c3e4969a9);\n",
       "        \n",
       "    \n",
       "            marker_f60639c1ca4bb510f7fec45abd82d2dc.bindTooltip(\n",
       "                `&lt;div&gt;\n",
       "                     10歳代\n",
       "                 &lt;/div&gt;`,\n",
       "                {&quot;sticky&quot;: true}\n",
       "            );\n",
       "        \n",
       "    \n",
       "            var marker_e33f613f6c9d0684daf2ce8f09cb7786 = L.marker(\n",
       "                [35.815441, 139.982468],\n",
       "                {}\n",
       "            ).addTo(marker_cluster_ca9729af56ef1211549dec8c3e4969a9);\n",
       "        \n",
       "    \n",
       "            marker_e33f613f6c9d0684daf2ce8f09cb7786.bindTooltip(\n",
       "                `&lt;div&gt;\n",
       "                     10歳代\n",
       "                 &lt;/div&gt;`,\n",
       "                {&quot;sticky&quot;: true}\n",
       "            );\n",
       "        \n",
       "    \n",
       "            var marker_1e903857a7b6b6b23dee2ec686efa9d0 = L.marker(\n",
       "                [35.815441, 139.982468],\n",
       "                {}\n",
       "            ).addTo(marker_cluster_ca9729af56ef1211549dec8c3e4969a9);\n",
       "        \n",
       "    \n",
       "            marker_1e903857a7b6b6b23dee2ec686efa9d0.bindTooltip(\n",
       "                `&lt;div&gt;\n",
       "                     10歳代\n",
       "                 &lt;/div&gt;`,\n",
       "                {&quot;sticky&quot;: true}\n",
       "            );\n",
       "        \n",
       "    \n",
       "            var marker_196d3d49026bd42e125184bd37729812 = L.marker(\n",
       "                [35.815441, 139.982468],\n",
       "                {}\n",
       "            ).addTo(marker_cluster_ca9729af56ef1211549dec8c3e4969a9);\n",
       "        \n",
       "    \n",
       "            marker_196d3d49026bd42e125184bd37729812.bindTooltip(\n",
       "                `&lt;div&gt;\n",
       "                     10歳代\n",
       "                 &lt;/div&gt;`,\n",
       "                {&quot;sticky&quot;: true}\n",
       "            );\n",
       "        \n",
       "    \n",
       "            var marker_faa7a359f92c42db158475884d2e2c84 = L.marker(\n",
       "                [35.815441, 139.982468],\n",
       "                {}\n",
       "            ).addTo(marker_cluster_ca9729af56ef1211549dec8c3e4969a9);\n",
       "        \n",
       "    \n",
       "            marker_faa7a359f92c42db158475884d2e2c84.bindTooltip(\n",
       "                `&lt;div&gt;\n",
       "                     20歳代\n",
       "                 &lt;/div&gt;`,\n",
       "                {&quot;sticky&quot;: true}\n",
       "            );\n",
       "        \n",
       "    \n",
       "            var marker_41cb179b53cec67bb3d87291b10bb4c3 = L.marker(\n",
       "                [35.815441, 139.982468],\n",
       "                {}\n",
       "            ).addTo(marker_cluster_ca9729af56ef1211549dec8c3e4969a9);\n",
       "        \n",
       "    \n",
       "            marker_41cb179b53cec67bb3d87291b10bb4c3.bindTooltip(\n",
       "                `&lt;div&gt;\n",
       "                     20歳代\n",
       "                 &lt;/div&gt;`,\n",
       "                {&quot;sticky&quot;: true}\n",
       "            );\n",
       "        \n",
       "    \n",
       "            var marker_2dbc9feb1908d1b514c85890b546a06b = L.marker(\n",
       "                [35.815441, 139.982468],\n",
       "                {}\n",
       "            ).addTo(marker_cluster_ca9729af56ef1211549dec8c3e4969a9);\n",
       "        \n",
       "    \n",
       "            marker_2dbc9feb1908d1b514c85890b546a06b.bindTooltip(\n",
       "                `&lt;div&gt;\n",
       "                     70歳以上\n",
       "                 &lt;/div&gt;`,\n",
       "                {&quot;sticky&quot;: true}\n",
       "            );\n",
       "        \n",
       "    \n",
       "            var marker_c7cff9220a8933d61a0ba1eca32dc622 = L.marker(\n",
       "                [35.815441, 139.982468],\n",
       "                {}\n",
       "            ).addTo(marker_cluster_ca9729af56ef1211549dec8c3e4969a9);\n",
       "        \n",
       "    \n",
       "            marker_c7cff9220a8933d61a0ba1eca32dc622.bindTooltip(\n",
       "                `&lt;div&gt;\n",
       "                     20歳代\n",
       "                 &lt;/div&gt;`,\n",
       "                {&quot;sticky&quot;: true}\n",
       "            );\n",
       "        \n",
       "    \n",
       "            var marker_b6eb732f746c0a254c3fbc3200470ac9 = L.marker(\n",
       "                [35.822018, 139.983444],\n",
       "                {}\n",
       "            ).addTo(marker_cluster_ca9729af56ef1211549dec8c3e4969a9);\n",
       "        \n",
       "    \n",
       "            marker_b6eb732f746c0a254c3fbc3200470ac9.bindTooltip(\n",
       "                `&lt;div&gt;\n",
       "                     10歳代\n",
       "                 &lt;/div&gt;`,\n",
       "                {&quot;sticky&quot;: true}\n",
       "            );\n",
       "        \n",
       "    \n",
       "            var marker_88863a4c21af8e697a566424594257be = L.marker(\n",
       "                [35.822018, 139.983444],\n",
       "                {}\n",
       "            ).addTo(marker_cluster_ca9729af56ef1211549dec8c3e4969a9);\n",
       "        \n",
       "    \n",
       "            marker_88863a4c21af8e697a566424594257be.bindTooltip(\n",
       "                `&lt;div&gt;\n",
       "                     10歳代\n",
       "                 &lt;/div&gt;`,\n",
       "                {&quot;sticky&quot;: true}\n",
       "            );\n",
       "        \n",
       "    \n",
       "            var marker_6afd037e5721e6ec98fd030d2830cf45 = L.marker(\n",
       "                [35.822018, 139.983444],\n",
       "                {}\n",
       "            ).addTo(marker_cluster_ca9729af56ef1211549dec8c3e4969a9);\n",
       "        \n",
       "    \n",
       "            marker_6afd037e5721e6ec98fd030d2830cf45.bindTooltip(\n",
       "                `&lt;div&gt;\n",
       "                     20歳代\n",
       "                 &lt;/div&gt;`,\n",
       "                {&quot;sticky&quot;: true}\n",
       "            );\n",
       "        \n",
       "    \n",
       "            var marker_84273107e35eda39987ffb189bcd3162 = L.marker(\n",
       "                [35.824383, 139.979614],\n",
       "                {}\n",
       "            ).addTo(marker_cluster_ca9729af56ef1211549dec8c3e4969a9);\n",
       "        \n",
       "    \n",
       "            marker_84273107e35eda39987ffb189bcd3162.bindTooltip(\n",
       "                `&lt;div&gt;\n",
       "                     10歳代\n",
       "                 &lt;/div&gt;`,\n",
       "                {&quot;sticky&quot;: true}\n",
       "            );\n",
       "        \n",
       "    \n",
       "            var marker_8cf08ba554ec2909d07d727893af1e69 = L.marker(\n",
       "                [35.824383, 139.979614],\n",
       "                {}\n",
       "            ).addTo(marker_cluster_ca9729af56ef1211549dec8c3e4969a9);\n",
       "        \n",
       "    \n",
       "            marker_8cf08ba554ec2909d07d727893af1e69.bindTooltip(\n",
       "                `&lt;div&gt;\n",
       "                     10歳代\n",
       "                 &lt;/div&gt;`,\n",
       "                {&quot;sticky&quot;: true}\n",
       "            );\n",
       "        \n",
       "    \n",
       "            var marker_b1b2dc81e07e6df403fe94be126c4b10 = L.marker(\n",
       "                [35.824383, 139.979614],\n",
       "                {}\n",
       "            ).addTo(marker_cluster_ca9729af56ef1211549dec8c3e4969a9);\n",
       "        \n",
       "    \n",
       "            marker_b1b2dc81e07e6df403fe94be126c4b10.bindTooltip(\n",
       "                `&lt;div&gt;\n",
       "                     10歳代\n",
       "                 &lt;/div&gt;`,\n",
       "                {&quot;sticky&quot;: true}\n",
       "            );\n",
       "        \n",
       "    \n",
       "            var marker_b759ddf9cff3edc6aeaca46193bfcf39 = L.marker(\n",
       "                [35.824383, 139.979614],\n",
       "                {}\n",
       "            ).addTo(marker_cluster_ca9729af56ef1211549dec8c3e4969a9);\n",
       "        \n",
       "    \n",
       "            marker_b759ddf9cff3edc6aeaca46193bfcf39.bindTooltip(\n",
       "                `&lt;div&gt;\n",
       "                     20歳代\n",
       "                 &lt;/div&gt;`,\n",
       "                {&quot;sticky&quot;: true}\n",
       "            );\n",
       "        \n",
       "    \n",
       "            var marker_e1000c0552eafa8358e5f031424e4931 = L.marker(\n",
       "                [35.824383, 139.979614],\n",
       "                {}\n",
       "            ).addTo(marker_cluster_ca9729af56ef1211549dec8c3e4969a9);\n",
       "        \n",
       "    \n",
       "            marker_e1000c0552eafa8358e5f031424e4931.bindTooltip(\n",
       "                `&lt;div&gt;\n",
       "                     30歳代\n",
       "                 &lt;/div&gt;`,\n",
       "                {&quot;sticky&quot;: true}\n",
       "            );\n",
       "        \n",
       "    \n",
       "            var marker_51da17d79e2de6135c2861ec5a5d18e0 = L.marker(\n",
       "                [35.824383, 139.979614],\n",
       "                {}\n",
       "            ).addTo(marker_cluster_ca9729af56ef1211549dec8c3e4969a9);\n",
       "        \n",
       "    \n",
       "            marker_51da17d79e2de6135c2861ec5a5d18e0.bindTooltip(\n",
       "                `&lt;div&gt;\n",
       "                     10歳代\n",
       "                 &lt;/div&gt;`,\n",
       "                {&quot;sticky&quot;: true}\n",
       "            );\n",
       "        \n",
       "    \n",
       "            var marker_06be3558dc0394c08d91d39dc71ae06c = L.marker(\n",
       "                [35.816387, 139.974075],\n",
       "                {}\n",
       "            ).addTo(marker_cluster_ca9729af56ef1211549dec8c3e4969a9);\n",
       "        \n",
       "    \n",
       "            marker_06be3558dc0394c08d91d39dc71ae06c.bindTooltip(\n",
       "                `&lt;div&gt;\n",
       "                     10歳代\n",
       "                 &lt;/div&gt;`,\n",
       "                {&quot;sticky&quot;: true}\n",
       "            );\n",
       "        \n",
       "    \n",
       "            var marker_8758ab8290b50a3d1aa441779e3c630a = L.marker(\n",
       "                [35.816387, 139.974075],\n",
       "                {}\n",
       "            ).addTo(marker_cluster_ca9729af56ef1211549dec8c3e4969a9);\n",
       "        \n",
       "    \n",
       "            marker_8758ab8290b50a3d1aa441779e3c630a.bindTooltip(\n",
       "                `&lt;div&gt;\n",
       "                     10歳代\n",
       "                 &lt;/div&gt;`,\n",
       "                {&quot;sticky&quot;: true}\n",
       "            );\n",
       "        \n",
       "    \n",
       "            var marker_780f40aa70b75fe5215298fa257d55b0 = L.marker(\n",
       "                [35.816387, 139.974075],\n",
       "                {}\n",
       "            ).addTo(marker_cluster_ca9729af56ef1211549dec8c3e4969a9);\n",
       "        \n",
       "    \n",
       "            marker_780f40aa70b75fe5215298fa257d55b0.bindTooltip(\n",
       "                `&lt;div&gt;\n",
       "                     10歳代\n",
       "                 &lt;/div&gt;`,\n",
       "                {&quot;sticky&quot;: true}\n",
       "            );\n",
       "        \n",
       "    \n",
       "            var marker_ed585135c1504e1ac5da6abc10ef54c0 = L.marker(\n",
       "                [35.818909, 139.971741],\n",
       "                {}\n",
       "            ).addTo(marker_cluster_ca9729af56ef1211549dec8c3e4969a9);\n",
       "        \n",
       "    \n",
       "            marker_ed585135c1504e1ac5da6abc10ef54c0.bindTooltip(\n",
       "                `&lt;div&gt;\n",
       "                     40歳代\n",
       "                 &lt;/div&gt;`,\n",
       "                {&quot;sticky&quot;: true}\n",
       "            );\n",
       "        \n",
       "    \n",
       "            var marker_df16d0b76a69fc978398b7fc6c321a23 = L.marker(\n",
       "                [35.817165, 139.96759],\n",
       "                {}\n",
       "            ).addTo(marker_cluster_ca9729af56ef1211549dec8c3e4969a9);\n",
       "        \n",
       "    \n",
       "            marker_df16d0b76a69fc978398b7fc6c321a23.bindTooltip(\n",
       "                `&lt;div&gt;\n",
       "                     10歳代\n",
       "                 &lt;/div&gt;`,\n",
       "                {&quot;sticky&quot;: true}\n",
       "            );\n",
       "        \n",
       "    \n",
       "            var marker_87ba84a69a2b150082714705d6b6b53d = L.marker(\n",
       "                [35.814602, 139.97052],\n",
       "                {}\n",
       "            ).addTo(marker_cluster_ca9729af56ef1211549dec8c3e4969a9);\n",
       "        \n",
       "    \n",
       "            marker_87ba84a69a2b150082714705d6b6b53d.bindTooltip(\n",
       "                `&lt;div&gt;\n",
       "                     70歳以上\n",
       "                 &lt;/div&gt;`,\n",
       "                {&quot;sticky&quot;: true}\n",
       "            );\n",
       "        \n",
       "    \n",
       "            var marker_692cc3e20d48dd862cc783b1f3452ecb = L.marker(\n",
       "                [35.814602, 139.97052],\n",
       "                {}\n",
       "            ).addTo(marker_cluster_ca9729af56ef1211549dec8c3e4969a9);\n",
       "        \n",
       "    \n",
       "            marker_692cc3e20d48dd862cc783b1f3452ecb.bindTooltip(\n",
       "                `&lt;div&gt;\n",
       "                     50歳代\n",
       "                 &lt;/div&gt;`,\n",
       "                {&quot;sticky&quot;: true}\n",
       "            );\n",
       "        \n",
       "    \n",
       "            var marker_98fcb8eb705e0998c559319d1df6b7cb = L.marker(\n",
       "                [35.814602, 139.97052],\n",
       "                {}\n",
       "            ).addTo(marker_cluster_ca9729af56ef1211549dec8c3e4969a9);\n",
       "        \n",
       "    \n",
       "            marker_98fcb8eb705e0998c559319d1df6b7cb.bindTooltip(\n",
       "                `&lt;div&gt;\n",
       "                     30歳代\n",
       "                 &lt;/div&gt;`,\n",
       "                {&quot;sticky&quot;: true}\n",
       "            );\n",
       "        \n",
       "    \n",
       "            var marker_bb2e9255e168d5b151cdb8293cdf6253 = L.marker(\n",
       "                [35.814602, 139.97052],\n",
       "                {}\n",
       "            ).addTo(marker_cluster_ca9729af56ef1211549dec8c3e4969a9);\n",
       "        \n",
       "    \n",
       "            marker_bb2e9255e168d5b151cdb8293cdf6253.bindTooltip(\n",
       "                `&lt;div&gt;\n",
       "                     10歳代\n",
       "                 &lt;/div&gt;`,\n",
       "                {&quot;sticky&quot;: true}\n",
       "            );\n",
       "        \n",
       "    \n",
       "            var marker_5cdcc30d1e4ec2ab0fcca5f71b04ff9d = L.marker(\n",
       "                [35.814602, 139.97052],\n",
       "                {}\n",
       "            ).addTo(marker_cluster_ca9729af56ef1211549dec8c3e4969a9);\n",
       "        \n",
       "    \n",
       "            marker_5cdcc30d1e4ec2ab0fcca5f71b04ff9d.bindTooltip(\n",
       "                `&lt;div&gt;\n",
       "                     20歳代\n",
       "                 &lt;/div&gt;`,\n",
       "                {&quot;sticky&quot;: true}\n",
       "            );\n",
       "        \n",
       "    \n",
       "            var marker_acf51bc6ec4a2bbf28478f2b16bac616 = L.marker(\n",
       "                [35.813236, 139.966034],\n",
       "                {}\n",
       "            ).addTo(marker_cluster_ca9729af56ef1211549dec8c3e4969a9);\n",
       "        \n",
       "    \n",
       "            marker_acf51bc6ec4a2bbf28478f2b16bac616.bindTooltip(\n",
       "                `&lt;div&gt;\n",
       "                     10歳代\n",
       "                 &lt;/div&gt;`,\n",
       "                {&quot;sticky&quot;: true}\n",
       "            );\n",
       "        \n",
       "    \n",
       "            var marker_9fab9f2e4dbf6177467233d2c8bb76a2 = L.marker(\n",
       "                [35.809929, 139.966537],\n",
       "                {}\n",
       "            ).addTo(marker_cluster_ca9729af56ef1211549dec8c3e4969a9);\n",
       "        \n",
       "    \n",
       "            marker_9fab9f2e4dbf6177467233d2c8bb76a2.bindTooltip(\n",
       "                `&lt;div&gt;\n",
       "                     70歳以上\n",
       "                 &lt;/div&gt;`,\n",
       "                {&quot;sticky&quot;: true}\n",
       "            );\n",
       "        \n",
       "    \n",
       "            var marker_0f66cbf983b426ce4c33640e3b111609 = L.marker(\n",
       "                [35.811157, 139.963562],\n",
       "                {}\n",
       "            ).addTo(marker_cluster_ca9729af56ef1211549dec8c3e4969a9);\n",
       "        \n",
       "    \n",
       "            marker_0f66cbf983b426ce4c33640e3b111609.bindTooltip(\n",
       "                `&lt;div&gt;\n",
       "                     40歳代\n",
       "                 &lt;/div&gt;`,\n",
       "                {&quot;sticky&quot;: true}\n",
       "            );\n",
       "        \n",
       "    \n",
       "            var marker_365b3afd2335fcd033f9d2c1cc050e2e = L.marker(\n",
       "                [35.810768, 139.959],\n",
       "                {}\n",
       "            ).addTo(marker_cluster_ca9729af56ef1211549dec8c3e4969a9);\n",
       "        \n",
       "    \n",
       "            marker_365b3afd2335fcd033f9d2c1cc050e2e.bindTooltip(\n",
       "                `&lt;div&gt;\n",
       "                     10歳代\n",
       "                 &lt;/div&gt;`,\n",
       "                {&quot;sticky&quot;: true}\n",
       "            );\n",
       "        \n",
       "    \n",
       "            var marker_8c627418ccbe8cd8fb7510262f5a8960 = L.marker(\n",
       "                [35.827206, 139.976883],\n",
       "                {}\n",
       "            ).addTo(marker_cluster_ca9729af56ef1211549dec8c3e4969a9);\n",
       "        \n",
       "    \n",
       "            marker_8c627418ccbe8cd8fb7510262f5a8960.bindTooltip(\n",
       "                `&lt;div&gt;\n",
       "                     30歳代\n",
       "                 &lt;/div&gt;`,\n",
       "                {&quot;sticky&quot;: true}\n",
       "            );\n",
       "        \n",
       "    \n",
       "            var marker_b68fef5b05cf15f2b9c89b1e12f9402d = L.marker(\n",
       "                [35.827206, 139.976883],\n",
       "                {}\n",
       "            ).addTo(marker_cluster_ca9729af56ef1211549dec8c3e4969a9);\n",
       "        \n",
       "    \n",
       "            marker_b68fef5b05cf15f2b9c89b1e12f9402d.bindTooltip(\n",
       "                `&lt;div&gt;\n",
       "                     50歳代\n",
       "                 &lt;/div&gt;`,\n",
       "                {&quot;sticky&quot;: true}\n",
       "            );\n",
       "        \n",
       "    \n",
       "            var marker_5af1048415f234635c880276e1239d62 = L.marker(\n",
       "                [35.822952, 139.98671],\n",
       "                {}\n",
       "            ).addTo(marker_cluster_ca9729af56ef1211549dec8c3e4969a9);\n",
       "        \n",
       "    \n",
       "            marker_5af1048415f234635c880276e1239d62.bindTooltip(\n",
       "                `&lt;div&gt;\n",
       "                     10歳代\n",
       "                 &lt;/div&gt;`,\n",
       "                {&quot;sticky&quot;: true}\n",
       "            );\n",
       "        \n",
       "    \n",
       "            var marker_139cfe3e26d46825dc5e729784e3a824 = L.marker(\n",
       "                [35.822952, 139.98671],\n",
       "                {}\n",
       "            ).addTo(marker_cluster_ca9729af56ef1211549dec8c3e4969a9);\n",
       "        \n",
       "    \n",
       "            marker_139cfe3e26d46825dc5e729784e3a824.bindTooltip(\n",
       "                `&lt;div&gt;\n",
       "                     10歳代\n",
       "                 &lt;/div&gt;`,\n",
       "                {&quot;sticky&quot;: true}\n",
       "            );\n",
       "        \n",
       "    \n",
       "            var marker_0b0effb277fcba7b0158b76b83d52e65 = L.marker(\n",
       "                [35.822952, 139.98671],\n",
       "                {}\n",
       "            ).addTo(marker_cluster_ca9729af56ef1211549dec8c3e4969a9);\n",
       "        \n",
       "    \n",
       "            marker_0b0effb277fcba7b0158b76b83d52e65.bindTooltip(\n",
       "                `&lt;div&gt;\n",
       "                     10歳代\n",
       "                 &lt;/div&gt;`,\n",
       "                {&quot;sticky&quot;: true}\n",
       "            );\n",
       "        \n",
       "    \n",
       "            var marker_32d15862c500ac290c2bb4f577b4e9af = L.marker(\n",
       "                [35.807571, 139.970367],\n",
       "                {}\n",
       "            ).addTo(marker_cluster_ca9729af56ef1211549dec8c3e4969a9);\n",
       "        \n",
       "    \n",
       "            marker_32d15862c500ac290c2bb4f577b4e9af.bindTooltip(\n",
       "                `&lt;div&gt;\n",
       "                     10歳未満\n",
       "                 &lt;/div&gt;`,\n",
       "                {&quot;sticky&quot;: true}\n",
       "            );\n",
       "        \n",
       "    \n",
       "            var marker_7380dc3de06e9bacb5c92d5fe13ca459 = L.marker(\n",
       "                [35.813534, 139.957855],\n",
       "                {}\n",
       "            ).addTo(marker_cluster_ca9729af56ef1211549dec8c3e4969a9);\n",
       "        \n",
       "    \n",
       "            marker_7380dc3de06e9bacb5c92d5fe13ca459.bindTooltip(\n",
       "                `&lt;div&gt;\n",
       "                     10歳代\n",
       "                 &lt;/div&gt;`,\n",
       "                {&quot;sticky&quot;: true}\n",
       "            );\n",
       "        \n",
       "    \n",
       "            var marker_78f92571969047c9157bcbbaa1e17cb6 = L.marker(\n",
       "                [35.813534, 139.957855],\n",
       "                {}\n",
       "            ).addTo(marker_cluster_ca9729af56ef1211549dec8c3e4969a9);\n",
       "        \n",
       "    \n",
       "            marker_78f92571969047c9157bcbbaa1e17cb6.bindTooltip(\n",
       "                `&lt;div&gt;\n",
       "                     10歳代\n",
       "                 &lt;/div&gt;`,\n",
       "                {&quot;sticky&quot;: true}\n",
       "            );\n",
       "        \n",
       "    \n",
       "            var marker_1b41e9fc76e694ba365c0a3afb1a4b3b = L.marker(\n",
       "                [35.812092, 139.972183],\n",
       "                {}\n",
       "            ).addTo(marker_cluster_ca9729af56ef1211549dec8c3e4969a9);\n",
       "        \n",
       "    \n",
       "            marker_1b41e9fc76e694ba365c0a3afb1a4b3b.bindTooltip(\n",
       "                `&lt;div&gt;\n",
       "                     70歳以上\n",
       "                 &lt;/div&gt;`,\n",
       "                {&quot;sticky&quot;: true}\n",
       "            );\n",
       "        \n",
       "    \n",
       "            var marker_c353aa811206fbe21bcec4ee1814d410 = L.marker(\n",
       "                [35.809525, 139.970627],\n",
       "                {}\n",
       "            ).addTo(marker_cluster_ca9729af56ef1211549dec8c3e4969a9);\n",
       "        \n",
       "    \n",
       "            marker_c353aa811206fbe21bcec4ee1814d410.bindTooltip(\n",
       "                `&lt;div&gt;\n",
       "                     10歳代\n",
       "                 &lt;/div&gt;`,\n",
       "                {&quot;sticky&quot;: true}\n",
       "            );\n",
       "        \n",
       "    \n",
       "            var marker_0387c6cace2be1f7eb8d49760758e059 = L.marker(\n",
       "                [35.809525, 139.970627],\n",
       "                {}\n",
       "            ).addTo(marker_cluster_ca9729af56ef1211549dec8c3e4969a9);\n",
       "        \n",
       "    \n",
       "            marker_0387c6cace2be1f7eb8d49760758e059.bindTooltip(\n",
       "                `&lt;div&gt;\n",
       "                     10歳未満\n",
       "                 &lt;/div&gt;`,\n",
       "                {&quot;sticky&quot;: true}\n",
       "            );\n",
       "        \n",
       "    \n",
       "            var marker_a34098f3c28ee68e69b32ceadd490980 = L.marker(\n",
       "                [35.809525, 139.970627],\n",
       "                {}\n",
       "            ).addTo(marker_cluster_ca9729af56ef1211549dec8c3e4969a9);\n",
       "        \n",
       "    \n",
       "            marker_a34098f3c28ee68e69b32ceadd490980.bindTooltip(\n",
       "                `&lt;div&gt;\n",
       "                     20歳代\n",
       "                 &lt;/div&gt;`,\n",
       "                {&quot;sticky&quot;: true}\n",
       "            );\n",
       "        \n",
       "    \n",
       "            var marker_f527d3d2e4b3731684b9b6fd6eab3b6f = L.marker(\n",
       "                [35.850155, 140.00441],\n",
       "                {}\n",
       "            ).addTo(marker_cluster_ca9729af56ef1211549dec8c3e4969a9);\n",
       "        \n",
       "    \n",
       "            marker_f527d3d2e4b3731684b9b6fd6eab3b6f.bindTooltip(\n",
       "                `&lt;div&gt;\n",
       "                     10歳代\n",
       "                 &lt;/div&gt;`,\n",
       "                {&quot;sticky&quot;: true}\n",
       "            );\n",
       "        \n",
       "    \n",
       "            var marker_5283d33078ef08c609fed8284e24c8a7 = L.marker(\n",
       "                [35.824383, 139.979614],\n",
       "                {}\n",
       "            ).addTo(marker_cluster_ca9729af56ef1211549dec8c3e4969a9);\n",
       "        \n",
       "    \n",
       "            marker_5283d33078ef08c609fed8284e24c8a7.bindTooltip(\n",
       "                `&lt;div&gt;\n",
       "                     10歳代\n",
       "                 &lt;/div&gt;`,\n",
       "                {&quot;sticky&quot;: true}\n",
       "            );\n",
       "        \n",
       "    \n",
       "            var marker_6cedc02cc93c2bfa71e6eed821a22294 = L.marker(\n",
       "                [35.85088, 139.955795],\n",
       "                {}\n",
       "            ).addTo(marker_cluster_ca9729af56ef1211549dec8c3e4969a9);\n",
       "        \n",
       "    \n",
       "            marker_6cedc02cc93c2bfa71e6eed821a22294.bindTooltip(\n",
       "                `&lt;div&gt;\n",
       "                     10歳代\n",
       "                 &lt;/div&gt;`,\n",
       "                {&quot;sticky&quot;: true}\n",
       "            );\n",
       "        \n",
       "    \n",
       "            var marker_a43739e5a3601ec07d04bfe5b857a508 = L.marker(\n",
       "                [35.859928, 139.949814],\n",
       "                {}\n",
       "            ).addTo(marker_cluster_ca9729af56ef1211549dec8c3e4969a9);\n",
       "        \n",
       "    \n",
       "            marker_a43739e5a3601ec07d04bfe5b857a508.bindTooltip(\n",
       "                `&lt;div&gt;\n",
       "                     10歳代\n",
       "                 &lt;/div&gt;`,\n",
       "                {&quot;sticky&quot;: true}\n",
       "            );\n",
       "        \n",
       "    \n",
       "            var marker_6bc1161e14e2b79020726baaebf2bccc = L.marker(\n",
       "                [35.859928, 139.949814],\n",
       "                {}\n",
       "            ).addTo(marker_cluster_ca9729af56ef1211549dec8c3e4969a9);\n",
       "        \n",
       "    \n",
       "            marker_6bc1161e14e2b79020726baaebf2bccc.bindTooltip(\n",
       "                `&lt;div&gt;\n",
       "                     30歳代\n",
       "                 &lt;/div&gt;`,\n",
       "                {&quot;sticky&quot;: true}\n",
       "            );\n",
       "        \n",
       "    \n",
       "            var marker_344a433cb005d3a034cc3b011ad11dfe = L.marker(\n",
       "                [35.859928, 139.949814],\n",
       "                {}\n",
       "            ).addTo(marker_cluster_ca9729af56ef1211549dec8c3e4969a9);\n",
       "        \n",
       "    \n",
       "            marker_344a433cb005d3a034cc3b011ad11dfe.bindTooltip(\n",
       "                `&lt;div&gt;\n",
       "                     30歳代\n",
       "                 &lt;/div&gt;`,\n",
       "                {&quot;sticky&quot;: true}\n",
       "            );\n",
       "        \n",
       "    \n",
       "            var marker_e85db42188a8bb0fbada97964dc35aeb = L.marker(\n",
       "                [35.859928, 139.949814],\n",
       "                {}\n",
       "            ).addTo(marker_cluster_ca9729af56ef1211549dec8c3e4969a9);\n",
       "        \n",
       "    \n",
       "            marker_e85db42188a8bb0fbada97964dc35aeb.bindTooltip(\n",
       "                `&lt;div&gt;\n",
       "                     30歳代\n",
       "                 &lt;/div&gt;`,\n",
       "                {&quot;sticky&quot;: true}\n",
       "            );\n",
       "        \n",
       "    \n",
       "            var marker_3da5300b96dd8ad8f9ecdc01a9168507 = L.marker(\n",
       "                [35.859928, 139.949814],\n",
       "                {}\n",
       "            ).addTo(marker_cluster_ca9729af56ef1211549dec8c3e4969a9);\n",
       "        \n",
       "    \n",
       "            marker_3da5300b96dd8ad8f9ecdc01a9168507.bindTooltip(\n",
       "                `&lt;div&gt;\n",
       "                     30歳代\n",
       "                 &lt;/div&gt;`,\n",
       "                {&quot;sticky&quot;: true}\n",
       "            );\n",
       "        \n",
       "    \n",
       "            var marker_d10d23a689d0a211daef0c6d4971a0e3 = L.marker(\n",
       "                [35.859928, 139.949814],\n",
       "                {}\n",
       "            ).addTo(marker_cluster_ca9729af56ef1211549dec8c3e4969a9);\n",
       "        \n",
       "    \n",
       "            marker_d10d23a689d0a211daef0c6d4971a0e3.bindTooltip(\n",
       "                `&lt;div&gt;\n",
       "                     10歳代\n",
       "                 &lt;/div&gt;`,\n",
       "                {&quot;sticky&quot;: true}\n",
       "            );\n",
       "        \n",
       "    \n",
       "            var marker_13bbb1eb0706cf370e7c4d0dc2933666 = L.marker(\n",
       "                [35.859928, 139.949814],\n",
       "                {}\n",
       "            ).addTo(marker_cluster_ca9729af56ef1211549dec8c3e4969a9);\n",
       "        \n",
       "    \n",
       "            marker_13bbb1eb0706cf370e7c4d0dc2933666.bindTooltip(\n",
       "                `&lt;div&gt;\n",
       "                     20歳代\n",
       "                 &lt;/div&gt;`,\n",
       "                {&quot;sticky&quot;: true}\n",
       "            );\n",
       "        \n",
       "    \n",
       "            var marker_27e1839aca9734ecd953d392834a2d16 = L.marker(\n",
       "                [35.859928, 139.949814],\n",
       "                {}\n",
       "            ).addTo(marker_cluster_ca9729af56ef1211549dec8c3e4969a9);\n",
       "        \n",
       "    \n",
       "            marker_27e1839aca9734ecd953d392834a2d16.bindTooltip(\n",
       "                `&lt;div&gt;\n",
       "                     10歳代\n",
       "                 &lt;/div&gt;`,\n",
       "                {&quot;sticky&quot;: true}\n",
       "            );\n",
       "        \n",
       "    \n",
       "            var marker_b0ecb2334008f957d7d2e43df5e2f02c = L.marker(\n",
       "                [35.845783, 139.953476],\n",
       "                {}\n",
       "            ).addTo(marker_cluster_ca9729af56ef1211549dec8c3e4969a9);\n",
       "        \n",
       "    \n",
       "            marker_b0ecb2334008f957d7d2e43df5e2f02c.bindTooltip(\n",
       "                `&lt;div&gt;\n",
       "                     30歳代\n",
       "                 &lt;/div&gt;`,\n",
       "                {&quot;sticky&quot;: true}\n",
       "            );\n",
       "        \n",
       "    \n",
       "            var marker_e74c00da1e4cea9a61c913fac13fa1f8 = L.marker(\n",
       "                [35.845783, 139.953476],\n",
       "                {}\n",
       "            ).addTo(marker_cluster_ca9729af56ef1211549dec8c3e4969a9);\n",
       "        \n",
       "    \n",
       "            marker_e74c00da1e4cea9a61c913fac13fa1f8.bindTooltip(\n",
       "                `&lt;div&gt;\n",
       "                     10歳代\n",
       "                 &lt;/div&gt;`,\n",
       "                {&quot;sticky&quot;: true}\n",
       "            );\n",
       "        \n",
       "    \n",
       "            var marker_09c94912c6750414c0d1ce01eaffd46c = L.marker(\n",
       "                [35.845783, 139.953476],\n",
       "                {}\n",
       "            ).addTo(marker_cluster_ca9729af56ef1211549dec8c3e4969a9);\n",
       "        \n",
       "    \n",
       "            marker_09c94912c6750414c0d1ce01eaffd46c.bindTooltip(\n",
       "                `&lt;div&gt;\n",
       "                     20歳代\n",
       "                 &lt;/div&gt;`,\n",
       "                {&quot;sticky&quot;: true}\n",
       "            );\n",
       "        \n",
       "    \n",
       "            var marker_f24c9c607c62af9e6d8dc579104b6f63 = L.marker(\n",
       "                [35.845783, 139.953476],\n",
       "                {}\n",
       "            ).addTo(marker_cluster_ca9729af56ef1211549dec8c3e4969a9);\n",
       "        \n",
       "    \n",
       "            marker_f24c9c607c62af9e6d8dc579104b6f63.bindTooltip(\n",
       "                `&lt;div&gt;\n",
       "                     10歳代\n",
       "                 &lt;/div&gt;`,\n",
       "                {&quot;sticky&quot;: true}\n",
       "            );\n",
       "        \n",
       "    \n",
       "            var marker_6b0a1483964ed92748a5ccae4dbfa455 = L.marker(\n",
       "                [35.845783, 139.953476],\n",
       "                {}\n",
       "            ).addTo(marker_cluster_ca9729af56ef1211549dec8c3e4969a9);\n",
       "        \n",
       "    \n",
       "            marker_6b0a1483964ed92748a5ccae4dbfa455.bindTooltip(\n",
       "                `&lt;div&gt;\n",
       "                     30歳代\n",
       "                 &lt;/div&gt;`,\n",
       "                {&quot;sticky&quot;: true}\n",
       "            );\n",
       "        \n",
       "    \n",
       "            var marker_24ed2a2939faaa4d8fe2745f0746f473 = L.marker(\n",
       "                [35.845783, 139.953476],\n",
       "                {}\n",
       "            ).addTo(marker_cluster_ca9729af56ef1211549dec8c3e4969a9);\n",
       "        \n",
       "    \n",
       "            marker_24ed2a2939faaa4d8fe2745f0746f473.bindTooltip(\n",
       "                `&lt;div&gt;\n",
       "                     50歳代\n",
       "                 &lt;/div&gt;`,\n",
       "                {&quot;sticky&quot;: true}\n",
       "            );\n",
       "        \n",
       "    \n",
       "            var marker_5b066dac429942f23c54fda80ad6684b = L.marker(\n",
       "                [35.845783, 139.953476],\n",
       "                {}\n",
       "            ).addTo(marker_cluster_ca9729af56ef1211549dec8c3e4969a9);\n",
       "        \n",
       "    \n",
       "            marker_5b066dac429942f23c54fda80ad6684b.bindTooltip(\n",
       "                `&lt;div&gt;\n",
       "                     20歳代\n",
       "                 &lt;/div&gt;`,\n",
       "                {&quot;sticky&quot;: true}\n",
       "            );\n",
       "        \n",
       "    \n",
       "            var marker_055dba2db93a4971976dea27c865f162 = L.marker(\n",
       "                [35.847271, 139.955032],\n",
       "                {}\n",
       "            ).addTo(marker_cluster_ca9729af56ef1211549dec8c3e4969a9);\n",
       "        \n",
       "    \n",
       "            marker_055dba2db93a4971976dea27c865f162.bindTooltip(\n",
       "                `&lt;div&gt;\n",
       "                     20歳代\n",
       "                 &lt;/div&gt;`,\n",
       "                {&quot;sticky&quot;: true}\n",
       "            );\n",
       "        \n",
       "    \n",
       "            var marker_1cc8ab57ec878a57b88b0f819307dfba = L.marker(\n",
       "                [35.847271, 139.955032],\n",
       "                {}\n",
       "            ).addTo(marker_cluster_ca9729af56ef1211549dec8c3e4969a9);\n",
       "        \n",
       "    \n",
       "            marker_1cc8ab57ec878a57b88b0f819307dfba.bindTooltip(\n",
       "                `&lt;div&gt;\n",
       "                     10歳代\n",
       "                 &lt;/div&gt;`,\n",
       "                {&quot;sticky&quot;: true}\n",
       "            );\n",
       "        \n",
       "    \n",
       "            var marker_a719c3d66e7164e64ca71e4c59dbfec0 = L.marker(\n",
       "                [35.847271, 139.955032],\n",
       "                {}\n",
       "            ).addTo(marker_cluster_ca9729af56ef1211549dec8c3e4969a9);\n",
       "        \n",
       "    \n",
       "            marker_a719c3d66e7164e64ca71e4c59dbfec0.bindTooltip(\n",
       "                `&lt;div&gt;\n",
       "                     10歳代\n",
       "                 &lt;/div&gt;`,\n",
       "                {&quot;sticky&quot;: true}\n",
       "            );\n",
       "        \n",
       "    \n",
       "            var marker_4f9c1654bcfa532d997222751618623e = L.marker(\n",
       "                [35.847271, 139.955032],\n",
       "                {}\n",
       "            ).addTo(marker_cluster_ca9729af56ef1211549dec8c3e4969a9);\n",
       "        \n",
       "    \n",
       "            marker_4f9c1654bcfa532d997222751618623e.bindTooltip(\n",
       "                `&lt;div&gt;\n",
       "                     10歳代\n",
       "                 &lt;/div&gt;`,\n",
       "                {&quot;sticky&quot;: true}\n",
       "            );\n",
       "        \n",
       "    \n",
       "            var marker_7cdf15c616aac7a06fd91dc38b6a12b7 = L.marker(\n",
       "                [35.851013, 139.960251],\n",
       "                {}\n",
       "            ).addTo(marker_cluster_ca9729af56ef1211549dec8c3e4969a9);\n",
       "        \n",
       "    \n",
       "            marker_7cdf15c616aac7a06fd91dc38b6a12b7.bindTooltip(\n",
       "                `&lt;div&gt;\n",
       "                     10歳代\n",
       "                 &lt;/div&gt;`,\n",
       "                {&quot;sticky&quot;: true}\n",
       "            );\n",
       "        \n",
       "    \n",
       "            var marker_7c318e278828de8acefcc2697c632c96 = L.marker(\n",
       "                [35.851013, 139.960251],\n",
       "                {}\n",
       "            ).addTo(marker_cluster_ca9729af56ef1211549dec8c3e4969a9);\n",
       "        \n",
       "    \n",
       "            marker_7c318e278828de8acefcc2697c632c96.bindTooltip(\n",
       "                `&lt;div&gt;\n",
       "                     10歳代\n",
       "                 &lt;/div&gt;`,\n",
       "                {&quot;sticky&quot;: true}\n",
       "            );\n",
       "        \n",
       "    \n",
       "            var marker_217ba2e17a9cab37bcb4c238be2699e8 = L.marker(\n",
       "                [35.851013, 139.960251],\n",
       "                {}\n",
       "            ).addTo(marker_cluster_ca9729af56ef1211549dec8c3e4969a9);\n",
       "        \n",
       "    \n",
       "            marker_217ba2e17a9cab37bcb4c238be2699e8.bindTooltip(\n",
       "                `&lt;div&gt;\n",
       "                     20歳代\n",
       "                 &lt;/div&gt;`,\n",
       "                {&quot;sticky&quot;: true}\n",
       "            );\n",
       "        \n",
       "    \n",
       "            var marker_ce20322b6357d775cdd56c9893398799 = L.marker(\n",
       "                [35.844471, 139.954956],\n",
       "                {}\n",
       "            ).addTo(marker_cluster_ca9729af56ef1211549dec8c3e4969a9);\n",
       "        \n",
       "    \n",
       "            marker_ce20322b6357d775cdd56c9893398799.bindTooltip(\n",
       "                `&lt;div&gt;\n",
       "                     20歳代\n",
       "                 &lt;/div&gt;`,\n",
       "                {&quot;sticky&quot;: true}\n",
       "            );\n",
       "        \n",
       "    \n",
       "            var marker_8f6d8d7d2f9a34415379ad076165d187 = L.marker(\n",
       "                [35.844471, 139.954956],\n",
       "                {}\n",
       "            ).addTo(marker_cluster_ca9729af56ef1211549dec8c3e4969a9);\n",
       "        \n",
       "    \n",
       "            marker_8f6d8d7d2f9a34415379ad076165d187.bindTooltip(\n",
       "                `&lt;div&gt;\n",
       "                     10歳代\n",
       "                 &lt;/div&gt;`,\n",
       "                {&quot;sticky&quot;: true}\n",
       "            );\n",
       "        \n",
       "    \n",
       "            var marker_3f266001cf71d6bdd6550001031350b2 = L.marker(\n",
       "                [35.844471, 139.954956],\n",
       "                {}\n",
       "            ).addTo(marker_cluster_ca9729af56ef1211549dec8c3e4969a9);\n",
       "        \n",
       "    \n",
       "            marker_3f266001cf71d6bdd6550001031350b2.bindTooltip(\n",
       "                `&lt;div&gt;\n",
       "                     10歳代\n",
       "                 &lt;/div&gt;`,\n",
       "                {&quot;sticky&quot;: true}\n",
       "            );\n",
       "        \n",
       "    \n",
       "            var marker_31ebd64c671e01302de92f30b507929c = L.marker(\n",
       "                [35.844471, 139.954956],\n",
       "                {}\n",
       "            ).addTo(marker_cluster_ca9729af56ef1211549dec8c3e4969a9);\n",
       "        \n",
       "    \n",
       "            marker_31ebd64c671e01302de92f30b507929c.bindTooltip(\n",
       "                `&lt;div&gt;\n",
       "                     10歳代\n",
       "                 &lt;/div&gt;`,\n",
       "                {&quot;sticky&quot;: true}\n",
       "            );\n",
       "        \n",
       "    \n",
       "            var marker_85c76c3b054410952f58db2a5626f7aa = L.marker(\n",
       "                [35.844471, 139.954956],\n",
       "                {}\n",
       "            ).addTo(marker_cluster_ca9729af56ef1211549dec8c3e4969a9);\n",
       "        \n",
       "    \n",
       "            marker_85c76c3b054410952f58db2a5626f7aa.bindTooltip(\n",
       "                `&lt;div&gt;\n",
       "                     10歳代\n",
       "                 &lt;/div&gt;`,\n",
       "                {&quot;sticky&quot;: true}\n",
       "            );\n",
       "        \n",
       "    \n",
       "            var marker_c9b8ecd166ec243b4ad14dc52397c8bc = L.marker(\n",
       "                [35.844471, 139.954956],\n",
       "                {}\n",
       "            ).addTo(marker_cluster_ca9729af56ef1211549dec8c3e4969a9);\n",
       "        \n",
       "    \n",
       "            marker_c9b8ecd166ec243b4ad14dc52397c8bc.bindTooltip(\n",
       "                `&lt;div&gt;\n",
       "                     10歳代\n",
       "                 &lt;/div&gt;`,\n",
       "                {&quot;sticky&quot;: true}\n",
       "            );\n",
       "        \n",
       "    \n",
       "            var marker_29b52842cb1c7953475f5adb86faa466 = L.marker(\n",
       "                [35.844471, 139.954956],\n",
       "                {}\n",
       "            ).addTo(marker_cluster_ca9729af56ef1211549dec8c3e4969a9);\n",
       "        \n",
       "    \n",
       "            marker_29b52842cb1c7953475f5adb86faa466.bindTooltip(\n",
       "                `&lt;div&gt;\n",
       "                     30歳代\n",
       "                 &lt;/div&gt;`,\n",
       "                {&quot;sticky&quot;: true}\n",
       "            );\n",
       "        \n",
       "    \n",
       "            var marker_b69a96eee0204f8ad98eb05e0b81466e = L.marker(\n",
       "                [35.844471, 139.954956],\n",
       "                {}\n",
       "            ).addTo(marker_cluster_ca9729af56ef1211549dec8c3e4969a9);\n",
       "        \n",
       "    \n",
       "            marker_b69a96eee0204f8ad98eb05e0b81466e.bindTooltip(\n",
       "                `&lt;div&gt;\n",
       "                     20歳代\n",
       "                 &lt;/div&gt;`,\n",
       "                {&quot;sticky&quot;: true}\n",
       "            );\n",
       "        \n",
       "    \n",
       "            var marker_3a47af5ff2bc984efc6689939c84b7e2 = L.marker(\n",
       "                [35.844471, 139.954956],\n",
       "                {}\n",
       "            ).addTo(marker_cluster_ca9729af56ef1211549dec8c3e4969a9);\n",
       "        \n",
       "    \n",
       "            marker_3a47af5ff2bc984efc6689939c84b7e2.bindTooltip(\n",
       "                `&lt;div&gt;\n",
       "                     10歳代\n",
       "                 &lt;/div&gt;`,\n",
       "                {&quot;sticky&quot;: true}\n",
       "            );\n",
       "        \n",
       "    \n",
       "            var marker_3491e26f331973f602108ad82ffce938 = L.marker(\n",
       "                [35.844471, 139.954956],\n",
       "                {}\n",
       "            ).addTo(marker_cluster_ca9729af56ef1211549dec8c3e4969a9);\n",
       "        \n",
       "    \n",
       "            marker_3491e26f331973f602108ad82ffce938.bindTooltip(\n",
       "                `&lt;div&gt;\n",
       "                     10歳代\n",
       "                 &lt;/div&gt;`,\n",
       "                {&quot;sticky&quot;: true}\n",
       "            );\n",
       "        \n",
       "    \n",
       "            var marker_5b9adc1373a5ed90262ad244cefa7280 = L.marker(\n",
       "                [35.844471, 139.954956],\n",
       "                {}\n",
       "            ).addTo(marker_cluster_ca9729af56ef1211549dec8c3e4969a9);\n",
       "        \n",
       "    \n",
       "            marker_5b9adc1373a5ed90262ad244cefa7280.bindTooltip(\n",
       "                `&lt;div&gt;\n",
       "                     10歳代\n",
       "                 &lt;/div&gt;`,\n",
       "                {&quot;sticky&quot;: true}\n",
       "            );\n",
       "        \n",
       "    \n",
       "            var marker_026b3ec44509319b312983a5dfa78453 = L.marker(\n",
       "                [35.844471, 139.954956],\n",
       "                {}\n",
       "            ).addTo(marker_cluster_ca9729af56ef1211549dec8c3e4969a9);\n",
       "        \n",
       "    \n",
       "            marker_026b3ec44509319b312983a5dfa78453.bindTooltip(\n",
       "                `&lt;div&gt;\n",
       "                     20歳代\n",
       "                 &lt;/div&gt;`,\n",
       "                {&quot;sticky&quot;: true}\n",
       "            );\n",
       "        \n",
       "    \n",
       "            var marker_b65283b8bd621561632c8e658a794967 = L.marker(\n",
       "                [35.844471, 139.954956],\n",
       "                {}\n",
       "            ).addTo(marker_cluster_ca9729af56ef1211549dec8c3e4969a9);\n",
       "        \n",
       "    \n",
       "            marker_b65283b8bd621561632c8e658a794967.bindTooltip(\n",
       "                `&lt;div&gt;\n",
       "                     20歳代\n",
       "                 &lt;/div&gt;`,\n",
       "                {&quot;sticky&quot;: true}\n",
       "            );\n",
       "        \n",
       "    \n",
       "            var marker_c86be861439105917965444b66e6e507 = L.marker(\n",
       "                [35.844471, 139.954956],\n",
       "                {}\n",
       "            ).addTo(marker_cluster_ca9729af56ef1211549dec8c3e4969a9);\n",
       "        \n",
       "    \n",
       "            marker_c86be861439105917965444b66e6e507.bindTooltip(\n",
       "                `&lt;div&gt;\n",
       "                     40歳代\n",
       "                 &lt;/div&gt;`,\n",
       "                {&quot;sticky&quot;: true}\n",
       "            );\n",
       "        \n",
       "    \n",
       "            var marker_3a070e3da1a9c94d980e670bb0650f9d = L.marker(\n",
       "                [35.844471, 139.954956],\n",
       "                {}\n",
       "            ).addTo(marker_cluster_ca9729af56ef1211549dec8c3e4969a9);\n",
       "        \n",
       "    \n",
       "            marker_3a070e3da1a9c94d980e670bb0650f9d.bindTooltip(\n",
       "                `&lt;div&gt;\n",
       "                     30歳代\n",
       "                 &lt;/div&gt;`,\n",
       "                {&quot;sticky&quot;: true}\n",
       "            );\n",
       "        \n",
       "    \n",
       "            var marker_64ba5ed02ad9f074a09326187963f8b3 = L.marker(\n",
       "                [35.830082, 139.97319],\n",
       "                {}\n",
       "            ).addTo(marker_cluster_ca9729af56ef1211549dec8c3e4969a9);\n",
       "        \n",
       "    \n",
       "            marker_64ba5ed02ad9f074a09326187963f8b3.bindTooltip(\n",
       "                `&lt;div&gt;\n",
       "                     10歳代\n",
       "                 &lt;/div&gt;`,\n",
       "                {&quot;sticky&quot;: true}\n",
       "            );\n",
       "        \n",
       "    \n",
       "            var marker_2bf0c596be5500076f93c473a38c5f4b = L.marker(\n",
       "                [35.830082, 139.97319],\n",
       "                {}\n",
       "            ).addTo(marker_cluster_ca9729af56ef1211549dec8c3e4969a9);\n",
       "        \n",
       "    \n",
       "            marker_2bf0c596be5500076f93c473a38c5f4b.bindTooltip(\n",
       "                `&lt;div&gt;\n",
       "                     10歳代\n",
       "                 &lt;/div&gt;`,\n",
       "                {&quot;sticky&quot;: true}\n",
       "            );\n",
       "        \n",
       "    \n",
       "            var marker_7ffd0fa5c0410b67aecbc77f04112755 = L.marker(\n",
       "                [35.830082, 139.97319],\n",
       "                {}\n",
       "            ).addTo(marker_cluster_ca9729af56ef1211549dec8c3e4969a9);\n",
       "        \n",
       "    \n",
       "            marker_7ffd0fa5c0410b67aecbc77f04112755.bindTooltip(\n",
       "                `&lt;div&gt;\n",
       "                     70歳以上\n",
       "                 &lt;/div&gt;`,\n",
       "                {&quot;sticky&quot;: true}\n",
       "            );\n",
       "        \n",
       "    \n",
       "            var marker_119ad597f5d73329081e3f0f0804514d = L.marker(\n",
       "                [35.830082, 139.97319],\n",
       "                {}\n",
       "            ).addTo(marker_cluster_ca9729af56ef1211549dec8c3e4969a9);\n",
       "        \n",
       "    \n",
       "            marker_119ad597f5d73329081e3f0f0804514d.bindTooltip(\n",
       "                `&lt;div&gt;\n",
       "                     20歳代\n",
       "                 &lt;/div&gt;`,\n",
       "                {&quot;sticky&quot;: true}\n",
       "            );\n",
       "        \n",
       "    \n",
       "            var marker_3e6ec98c06e968e6d5366c8d88b8295d = L.marker(\n",
       "                [35.824383, 139.979614],\n",
       "                {}\n",
       "            ).addTo(marker_cluster_ca9729af56ef1211549dec8c3e4969a9);\n",
       "        \n",
       "    \n",
       "            marker_3e6ec98c06e968e6d5366c8d88b8295d.bindTooltip(\n",
       "                `&lt;div&gt;\n",
       "                     10歳未満\n",
       "                 &lt;/div&gt;`,\n",
       "                {&quot;sticky&quot;: true}\n",
       "            );\n",
       "        \n",
       "    \n",
       "            var marker_a81dceb9f623ecaaa11601f753513d33 = L.marker(\n",
       "                [35.832466, 139.974945],\n",
       "                {}\n",
       "            ).addTo(marker_cluster_ca9729af56ef1211549dec8c3e4969a9);\n",
       "        \n",
       "    \n",
       "            marker_a81dceb9f623ecaaa11601f753513d33.bindTooltip(\n",
       "                `&lt;div&gt;\n",
       "                     30歳代\n",
       "                 &lt;/div&gt;`,\n",
       "                {&quot;sticky&quot;: true}\n",
       "            );\n",
       "        \n",
       "    \n",
       "            var marker_83642e282d17517599d227e149639ee6 = L.marker(\n",
       "                [35.831703, 139.978226],\n",
       "                {}\n",
       "            ).addTo(marker_cluster_ca9729af56ef1211549dec8c3e4969a9);\n",
       "        \n",
       "    \n",
       "            marker_83642e282d17517599d227e149639ee6.bindTooltip(\n",
       "                `&lt;div&gt;\n",
       "                     10歳代\n",
       "                 &lt;/div&gt;`,\n",
       "                {&quot;sticky&quot;: true}\n",
       "            );\n",
       "        \n",
       "    \n",
       "            var marker_b440d3b1df7cb1f50268d4a34bb44a90 = L.marker(\n",
       "                [35.835472, 139.983551],\n",
       "                {}\n",
       "            ).addTo(marker_cluster_ca9729af56ef1211549dec8c3e4969a9);\n",
       "        \n",
       "    \n",
       "            marker_b440d3b1df7cb1f50268d4a34bb44a90.bindTooltip(\n",
       "                `&lt;div&gt;\n",
       "                     30歳代\n",
       "                 &lt;/div&gt;`,\n",
       "                {&quot;sticky&quot;: true}\n",
       "            );\n",
       "        \n",
       "    \n",
       "            var marker_b80408195c91bbf3965ca13b700fc847 = L.marker(\n",
       "                [35.829124, 139.986633],\n",
       "                {}\n",
       "            ).addTo(marker_cluster_ca9729af56ef1211549dec8c3e4969a9);\n",
       "        \n",
       "    \n",
       "            marker_b80408195c91bbf3965ca13b700fc847.bindTooltip(\n",
       "                `&lt;div&gt;\n",
       "                     10歳代\n",
       "                 &lt;/div&gt;`,\n",
       "                {&quot;sticky&quot;: true}\n",
       "            );\n",
       "        \n",
       "    \n",
       "            var marker_cad86fbcf8184260f56129e939621f66 = L.marker(\n",
       "                [35.824703, 139.974731],\n",
       "                {}\n",
       "            ).addTo(marker_cluster_ca9729af56ef1211549dec8c3e4969a9);\n",
       "        \n",
       "    \n",
       "            marker_cad86fbcf8184260f56129e939621f66.bindTooltip(\n",
       "                `&lt;div&gt;\n",
       "                     60-64歳\n",
       "                 &lt;/div&gt;`,\n",
       "                {&quot;sticky&quot;: true}\n",
       "            );\n",
       "        \n",
       "    \n",
       "            var marker_ce6e4af586569cdf84fba2c649ac7388 = L.marker(\n",
       "                [35.824703, 139.974731],\n",
       "                {}\n",
       "            ).addTo(marker_cluster_ca9729af56ef1211549dec8c3e4969a9);\n",
       "        \n",
       "    \n",
       "            marker_ce6e4af586569cdf84fba2c649ac7388.bindTooltip(\n",
       "                `&lt;div&gt;\n",
       "                     20歳代\n",
       "                 &lt;/div&gt;`,\n",
       "                {&quot;sticky&quot;: true}\n",
       "            );\n",
       "        \n",
       "    \n",
       "            var marker_3398eabbe0a6099f66327669ee6f682d = L.marker(\n",
       "                [35.821732, 139.973206],\n",
       "                {}\n",
       "            ).addTo(marker_cluster_ca9729af56ef1211549dec8c3e4969a9);\n",
       "        \n",
       "    \n",
       "            marker_3398eabbe0a6099f66327669ee6f682d.bindTooltip(\n",
       "                `&lt;div&gt;\n",
       "                     10歳代\n",
       "                 &lt;/div&gt;`,\n",
       "                {&quot;sticky&quot;: true}\n",
       "            );\n",
       "        \n",
       "    \n",
       "            var marker_770895018cd08b059d8cc3c45199dfd4 = L.marker(\n",
       "                [35.821732, 139.973206],\n",
       "                {}\n",
       "            ).addTo(marker_cluster_ca9729af56ef1211549dec8c3e4969a9);\n",
       "        \n",
       "    \n",
       "            marker_770895018cd08b059d8cc3c45199dfd4.bindTooltip(\n",
       "                `&lt;div&gt;\n",
       "                     10歳代\n",
       "                 &lt;/div&gt;`,\n",
       "                {&quot;sticky&quot;: true}\n",
       "            );\n",
       "        \n",
       "    \n",
       "            var marker_97472663845cda864bc6c465a7327a1a = L.marker(\n",
       "                [35.850155, 140.00441],\n",
       "                {}\n",
       "            ).addTo(marker_cluster_ca9729af56ef1211549dec8c3e4969a9);\n",
       "        \n",
       "    \n",
       "            marker_97472663845cda864bc6c465a7327a1a.bindTooltip(\n",
       "                `&lt;div&gt;\n",
       "                     10歳代\n",
       "                 &lt;/div&gt;`,\n",
       "                {&quot;sticky&quot;: true}\n",
       "            );\n",
       "        \n",
       "    \n",
       "            var marker_c879e685b4c3fa9715342f5359cf531a = L.marker(\n",
       "                [35.850155, 140.00441],\n",
       "                {}\n",
       "            ).addTo(marker_cluster_ca9729af56ef1211549dec8c3e4969a9);\n",
       "        \n",
       "    \n",
       "            marker_c879e685b4c3fa9715342f5359cf531a.bindTooltip(\n",
       "                `&lt;div&gt;\n",
       "                     30歳代\n",
       "                 &lt;/div&gt;`,\n",
       "                {&quot;sticky&quot;: true}\n",
       "            );\n",
       "        \n",
       "    \n",
       "            var marker_14662dfc03a3baf93731d139f8ff72ce = L.marker(\n",
       "                [35.835773, 140.012802],\n",
       "                {}\n",
       "            ).addTo(marker_cluster_ca9729af56ef1211549dec8c3e4969a9);\n",
       "        \n",
       "    \n",
       "            marker_14662dfc03a3baf93731d139f8ff72ce.bindTooltip(\n",
       "                `&lt;div&gt;\n",
       "                     10歳代\n",
       "                 &lt;/div&gt;`,\n",
       "                {&quot;sticky&quot;: true}\n",
       "            );\n",
       "        \n",
       "    \n",
       "            var marker_db245c6e24d6ec0f49f712e297f036bb = L.marker(\n",
       "                [35.835773, 140.012802],\n",
       "                {}\n",
       "            ).addTo(marker_cluster_ca9729af56ef1211549dec8c3e4969a9);\n",
       "        \n",
       "    \n",
       "            marker_db245c6e24d6ec0f49f712e297f036bb.bindTooltip(\n",
       "                `&lt;div&gt;\n",
       "                     20歳代\n",
       "                 &lt;/div&gt;`,\n",
       "                {&quot;sticky&quot;: true}\n",
       "            );\n",
       "        \n",
       "    \n",
       "            var marker_cf4ae5aa32c1846837163ff0a30c46fd = L.marker(\n",
       "                [35.833759, 140.011703],\n",
       "                {}\n",
       "            ).addTo(marker_cluster_ca9729af56ef1211549dec8c3e4969a9);\n",
       "        \n",
       "    \n",
       "            marker_cf4ae5aa32c1846837163ff0a30c46fd.bindTooltip(\n",
       "                `&lt;div&gt;\n",
       "                     10歳代\n",
       "                 &lt;/div&gt;`,\n",
       "                {&quot;sticky&quot;: true}\n",
       "            );\n",
       "        \n",
       "    \n",
       "            var marker_94d3c9dfcbefede706d5f6bd4812eca9 = L.marker(\n",
       "                [35.833759, 140.011703],\n",
       "                {}\n",
       "            ).addTo(marker_cluster_ca9729af56ef1211549dec8c3e4969a9);\n",
       "        \n",
       "    \n",
       "            marker_94d3c9dfcbefede706d5f6bd4812eca9.bindTooltip(\n",
       "                `&lt;div&gt;\n",
       "                     10歳代\n",
       "                 &lt;/div&gt;`,\n",
       "                {&quot;sticky&quot;: true}\n",
       "            );\n",
       "        \n",
       "    \n",
       "            var marker_1f6b888458950a6edde9e891fa9b1bcb = L.marker(\n",
       "                [35.833759, 140.011703],\n",
       "                {}\n",
       "            ).addTo(marker_cluster_ca9729af56ef1211549dec8c3e4969a9);\n",
       "        \n",
       "    \n",
       "            marker_1f6b888458950a6edde9e891fa9b1bcb.bindTooltip(\n",
       "                `&lt;div&gt;\n",
       "                     20歳代\n",
       "                 &lt;/div&gt;`,\n",
       "                {&quot;sticky&quot;: true}\n",
       "            );\n",
       "        \n",
       "    \n",
       "            var marker_c8ea7682bbd4e0a2c0c47f2696fe2b6b = L.marker(\n",
       "                [35.833759, 140.011703],\n",
       "                {}\n",
       "            ).addTo(marker_cluster_ca9729af56ef1211549dec8c3e4969a9);\n",
       "        \n",
       "    \n",
       "            marker_c8ea7682bbd4e0a2c0c47f2696fe2b6b.bindTooltip(\n",
       "                `&lt;div&gt;\n",
       "                     20歳代\n",
       "                 &lt;/div&gt;`,\n",
       "                {&quot;sticky&quot;: true}\n",
       "            );\n",
       "        \n",
       "    \n",
       "            var marker_c0b9f7878211ae22fd53d03f8fb78e50 = L.marker(\n",
       "                [35.833759, 140.011703],\n",
       "                {}\n",
       "            ).addTo(marker_cluster_ca9729af56ef1211549dec8c3e4969a9);\n",
       "        \n",
       "    \n",
       "            marker_c0b9f7878211ae22fd53d03f8fb78e50.bindTooltip(\n",
       "                `&lt;div&gt;\n",
       "                     10歳代\n",
       "                 &lt;/div&gt;`,\n",
       "                {&quot;sticky&quot;: true}\n",
       "            );\n",
       "        \n",
       "    \n",
       "            var marker_62468dab278ef2441d49a6cc26695669 = L.marker(\n",
       "                [35.833759, 140.011703],\n",
       "                {}\n",
       "            ).addTo(marker_cluster_ca9729af56ef1211549dec8c3e4969a9);\n",
       "        \n",
       "    \n",
       "            marker_62468dab278ef2441d49a6cc26695669.bindTooltip(\n",
       "                `&lt;div&gt;\n",
       "                     10歳代\n",
       "                 &lt;/div&gt;`,\n",
       "                {&quot;sticky&quot;: true}\n",
       "            );\n",
       "        \n",
       "    \n",
       "            var marker_0ec9d3201f1c0a6b483e89cbd4150788 = L.marker(\n",
       "                [35.833759, 140.011703],\n",
       "                {}\n",
       "            ).addTo(marker_cluster_ca9729af56ef1211549dec8c3e4969a9);\n",
       "        \n",
       "    \n",
       "            marker_0ec9d3201f1c0a6b483e89cbd4150788.bindTooltip(\n",
       "                `&lt;div&gt;\n",
       "                     10歳代\n",
       "                 &lt;/div&gt;`,\n",
       "                {&quot;sticky&quot;: true}\n",
       "            );\n",
       "        \n",
       "    \n",
       "            var marker_738f29e4ee3cc21adfb0714bb6793d86 = L.marker(\n",
       "                [35.833759, 140.011703],\n",
       "                {}\n",
       "            ).addTo(marker_cluster_ca9729af56ef1211549dec8c3e4969a9);\n",
       "        \n",
       "    \n",
       "            marker_738f29e4ee3cc21adfb0714bb6793d86.bindTooltip(\n",
       "                `&lt;div&gt;\n",
       "                     10歳代\n",
       "                 &lt;/div&gt;`,\n",
       "                {&quot;sticky&quot;: true}\n",
       "            );\n",
       "        \n",
       "    \n",
       "            var marker_247acae588429ae43812b86c3d9b130a = L.marker(\n",
       "                [35.833759, 140.011703],\n",
       "                {}\n",
       "            ).addTo(marker_cluster_ca9729af56ef1211549dec8c3e4969a9);\n",
       "        \n",
       "    \n",
       "            marker_247acae588429ae43812b86c3d9b130a.bindTooltip(\n",
       "                `&lt;div&gt;\n",
       "                     10歳代\n",
       "                 &lt;/div&gt;`,\n",
       "                {&quot;sticky&quot;: true}\n",
       "            );\n",
       "        \n",
       "    \n",
       "            var marker_b88f7885fb7763006e71a85224d0671f = L.marker(\n",
       "                [35.833759, 140.011703],\n",
       "                {}\n",
       "            ).addTo(marker_cluster_ca9729af56ef1211549dec8c3e4969a9);\n",
       "        \n",
       "    \n",
       "            marker_b88f7885fb7763006e71a85224d0671f.bindTooltip(\n",
       "                `&lt;div&gt;\n",
       "                     10歳代\n",
       "                 &lt;/div&gt;`,\n",
       "                {&quot;sticky&quot;: true}\n",
       "            );\n",
       "        \n",
       "    \n",
       "            var marker_a008a451c38ba5b97303824b9ce8d523 = L.marker(\n",
       "                [35.833759, 140.011703],\n",
       "                {}\n",
       "            ).addTo(marker_cluster_ca9729af56ef1211549dec8c3e4969a9);\n",
       "        \n",
       "    \n",
       "            marker_a008a451c38ba5b97303824b9ce8d523.bindTooltip(\n",
       "                `&lt;div&gt;\n",
       "                     10歳代\n",
       "                 &lt;/div&gt;`,\n",
       "                {&quot;sticky&quot;: true}\n",
       "            );\n",
       "        \n",
       "    \n",
       "            var marker_c952dae9d9afeb35342c25dd1560663d = L.marker(\n",
       "                [35.84325, 140.003662],\n",
       "                {}\n",
       "            ).addTo(marker_cluster_ca9729af56ef1211549dec8c3e4969a9);\n",
       "        \n",
       "    \n",
       "            marker_c952dae9d9afeb35342c25dd1560663d.bindTooltip(\n",
       "                `&lt;div&gt;\n",
       "                     法人・団体、被害者なし\n",
       "                 &lt;/div&gt;`,\n",
       "                {&quot;sticky&quot;: true}\n",
       "            );\n",
       "        \n",
       "    \n",
       "            var marker_b26040da879e1ae7038370906d0762ae = L.marker(\n",
       "                [35.841068, 139.999237],\n",
       "                {}\n",
       "            ).addTo(marker_cluster_ca9729af56ef1211549dec8c3e4969a9);\n",
       "        \n",
       "    \n",
       "            marker_b26040da879e1ae7038370906d0762ae.bindTooltip(\n",
       "                `&lt;div&gt;\n",
       "                     40歳代\n",
       "                 &lt;/div&gt;`,\n",
       "                {&quot;sticky&quot;: true}\n",
       "            );\n",
       "        \n",
       "    \n",
       "            var marker_5a2535c3f77b77abc8e38f7e0d3fb183 = L.marker(\n",
       "                [35.841068, 139.999237],\n",
       "                {}\n",
       "            ).addTo(marker_cluster_ca9729af56ef1211549dec8c3e4969a9);\n",
       "        \n",
       "    \n",
       "            marker_5a2535c3f77b77abc8e38f7e0d3fb183.bindTooltip(\n",
       "                `&lt;div&gt;\n",
       "                     10歳代\n",
       "                 &lt;/div&gt;`,\n",
       "                {&quot;sticky&quot;: true}\n",
       "            );\n",
       "        \n",
       "    \n",
       "            var marker_e14ad00562e55e1fcb1ebd3687f869a6 = L.marker(\n",
       "                [35.841068, 139.999237],\n",
       "                {}\n",
       "            ).addTo(marker_cluster_ca9729af56ef1211549dec8c3e4969a9);\n",
       "        \n",
       "    \n",
       "            marker_e14ad00562e55e1fcb1ebd3687f869a6.bindTooltip(\n",
       "                `&lt;div&gt;\n",
       "                     10歳代\n",
       "                 &lt;/div&gt;`,\n",
       "                {&quot;sticky&quot;: true}\n",
       "            );\n",
       "        \n",
       "    \n",
       "            var marker_30b834b3a160ee43a2f7cfbcde5bfe3d = L.marker(\n",
       "                [35.840942, 139.995621],\n",
       "                {}\n",
       "            ).addTo(marker_cluster_ca9729af56ef1211549dec8c3e4969a9);\n",
       "        \n",
       "    \n",
       "            marker_30b834b3a160ee43a2f7cfbcde5bfe3d.bindTooltip(\n",
       "                `&lt;div&gt;\n",
       "                     10歳代\n",
       "                 &lt;/div&gt;`,\n",
       "                {&quot;sticky&quot;: true}\n",
       "            );\n",
       "        \n",
       "    \n",
       "            var marker_4705cbfe83c5b6ccffc6bd0e8f2548dd = L.marker(\n",
       "                [35.840942, 139.995621],\n",
       "                {}\n",
       "            ).addTo(marker_cluster_ca9729af56ef1211549dec8c3e4969a9);\n",
       "        \n",
       "    \n",
       "            marker_4705cbfe83c5b6ccffc6bd0e8f2548dd.bindTooltip(\n",
       "                `&lt;div&gt;\n",
       "                     10歳代\n",
       "                 &lt;/div&gt;`,\n",
       "                {&quot;sticky&quot;: true}\n",
       "            );\n",
       "        \n",
       "    \n",
       "            var marker_079daa1afaa78e9ea64426037b98d229 = L.marker(\n",
       "                [35.837143, 140.002502],\n",
       "                {}\n",
       "            ).addTo(marker_cluster_ca9729af56ef1211549dec8c3e4969a9);\n",
       "        \n",
       "    \n",
       "            marker_079daa1afaa78e9ea64426037b98d229.bindTooltip(\n",
       "                `&lt;div&gt;\n",
       "                     50歳代\n",
       "                 &lt;/div&gt;`,\n",
       "                {&quot;sticky&quot;: true}\n",
       "            );\n",
       "        \n",
       "    \n",
       "            var marker_9cc551c9d1a59dcf7ee196ef8bc4269f = L.marker(\n",
       "                [35.837143, 140.002502],\n",
       "                {}\n",
       "            ).addTo(marker_cluster_ca9729af56ef1211549dec8c3e4969a9);\n",
       "        \n",
       "    \n",
       "            marker_9cc551c9d1a59dcf7ee196ef8bc4269f.bindTooltip(\n",
       "                `&lt;div&gt;\n",
       "                     20歳代\n",
       "                 &lt;/div&gt;`,\n",
       "                {&quot;sticky&quot;: true}\n",
       "            );\n",
       "        \n",
       "    \n",
       "            var marker_36e6a8bee224817068a4ee9a9b771ade = L.marker(\n",
       "                [35.837143, 140.002502],\n",
       "                {}\n",
       "            ).addTo(marker_cluster_ca9729af56ef1211549dec8c3e4969a9);\n",
       "        \n",
       "    \n",
       "            marker_36e6a8bee224817068a4ee9a9b771ade.bindTooltip(\n",
       "                `&lt;div&gt;\n",
       "                     10歳代\n",
       "                 &lt;/div&gt;`,\n",
       "                {&quot;sticky&quot;: true}\n",
       "            );\n",
       "        \n",
       "    \n",
       "            var marker_96116da7d16ce2808f33fd5ea72da277 = L.marker(\n",
       "                [35.837143, 140.002502],\n",
       "                {}\n",
       "            ).addTo(marker_cluster_ca9729af56ef1211549dec8c3e4969a9);\n",
       "        \n",
       "    \n",
       "            marker_96116da7d16ce2808f33fd5ea72da277.bindTooltip(\n",
       "                `&lt;div&gt;\n",
       "                     20歳代\n",
       "                 &lt;/div&gt;`,\n",
       "                {&quot;sticky&quot;: true}\n",
       "            );\n",
       "        \n",
       "    \n",
       "            var marker_6e54c6acb935d0dd220b7379bee462b6 = L.marker(\n",
       "                [35.848038, 140.016342],\n",
       "                {}\n",
       "            ).addTo(marker_cluster_ca9729af56ef1211549dec8c3e4969a9);\n",
       "        \n",
       "    \n",
       "            marker_6e54c6acb935d0dd220b7379bee462b6.bindTooltip(\n",
       "                `&lt;div&gt;\n",
       "                     40歳代\n",
       "                 &lt;/div&gt;`,\n",
       "                {&quot;sticky&quot;: true}\n",
       "            );\n",
       "        \n",
       "    \n",
       "            var marker_98401c2b8ff3517bc4f46ca8fd942baf = L.marker(\n",
       "                [35.834927, 139.996063],\n",
       "                {}\n",
       "            ).addTo(marker_cluster_ca9729af56ef1211549dec8c3e4969a9);\n",
       "        \n",
       "    \n",
       "            marker_98401c2b8ff3517bc4f46ca8fd942baf.bindTooltip(\n",
       "                `&lt;div&gt;\n",
       "                     10歳代\n",
       "                 &lt;/div&gt;`,\n",
       "                {&quot;sticky&quot;: true}\n",
       "            );\n",
       "        \n",
       "    \n",
       "            var marker_82b93324c5913cc3fe2877d1ee1f7653 = L.marker(\n",
       "                [35.846394, 140.026993],\n",
       "                {}\n",
       "            ).addTo(marker_cluster_ca9729af56ef1211549dec8c3e4969a9);\n",
       "        \n",
       "    \n",
       "            marker_82b93324c5913cc3fe2877d1ee1f7653.bindTooltip(\n",
       "                `&lt;div&gt;\n",
       "                     10歳代\n",
       "                 &lt;/div&gt;`,\n",
       "                {&quot;sticky&quot;: true}\n",
       "            );\n",
       "        \n",
       "    \n",
       "            var marker_d90df662761ddc88aade73951feb387a = L.marker(\n",
       "                [35.891518, 139.992828],\n",
       "                {}\n",
       "            ).addTo(marker_cluster_ca9729af56ef1211549dec8c3e4969a9);\n",
       "        \n",
       "    \n",
       "            marker_d90df662761ddc88aade73951feb387a.bindTooltip(\n",
       "                `&lt;div&gt;\n",
       "                     30歳代\n",
       "                 &lt;/div&gt;`,\n",
       "                {&quot;sticky&quot;: true}\n",
       "            );\n",
       "        \n",
       "    \n",
       "            var marker_7996e77c622ed2929cffeb77069a3639 = L.marker(\n",
       "                [35.835949, 139.968262],\n",
       "                {}\n",
       "            ).addTo(marker_cluster_ca9729af56ef1211549dec8c3e4969a9);\n",
       "        \n",
       "    \n",
       "            marker_7996e77c622ed2929cffeb77069a3639.bindTooltip(\n",
       "                `&lt;div&gt;\n",
       "                     10歳代\n",
       "                 &lt;/div&gt;`,\n",
       "                {&quot;sticky&quot;: true}\n",
       "            );\n",
       "        \n",
       "    \n",
       "            var marker_c3dcb66b6493aa98b028d4739a8127ad = L.marker(\n",
       "                [35.83136, 139.96756],\n",
       "                {}\n",
       "            ).addTo(marker_cluster_ca9729af56ef1211549dec8c3e4969a9);\n",
       "        \n",
       "    \n",
       "            marker_c3dcb66b6493aa98b028d4739a8127ad.bindTooltip(\n",
       "                `&lt;div&gt;\n",
       "                     20歳代\n",
       "                 &lt;/div&gt;`,\n",
       "                {&quot;sticky&quot;: true}\n",
       "            );\n",
       "        \n",
       "    \n",
       "            var marker_89a9214c94d31a92f2f1db7bb5df1593 = L.marker(\n",
       "                [35.84692, 139.967072],\n",
       "                {}\n",
       "            ).addTo(marker_cluster_ca9729af56ef1211549dec8c3e4969a9);\n",
       "        \n",
       "    \n",
       "            marker_89a9214c94d31a92f2f1db7bb5df1593.bindTooltip(\n",
       "                `&lt;div&gt;\n",
       "                     30歳代\n",
       "                 &lt;/div&gt;`,\n",
       "                {&quot;sticky&quot;: true}\n",
       "            );\n",
       "        \n",
       "    \n",
       "            var marker_d2781b2c684b660ada8f1086d178591f = L.marker(\n",
       "                [35.838268, 139.963547],\n",
       "                {}\n",
       "            ).addTo(marker_cluster_ca9729af56ef1211549dec8c3e4969a9);\n",
       "        \n",
       "    \n",
       "            marker_d2781b2c684b660ada8f1086d178591f.bindTooltip(\n",
       "                `&lt;div&gt;\n",
       "                     10歳未満\n",
       "                 &lt;/div&gt;`,\n",
       "                {&quot;sticky&quot;: true}\n",
       "            );\n",
       "        \n",
       "    \n",
       "            var marker_e58b4777f9f2c8f414eb7aa7c3c0da60 = L.marker(\n",
       "                [35.838268, 139.963547],\n",
       "                {}\n",
       "            ).addTo(marker_cluster_ca9729af56ef1211549dec8c3e4969a9);\n",
       "        \n",
       "    \n",
       "            marker_e58b4777f9f2c8f414eb7aa7c3c0da60.bindTooltip(\n",
       "                `&lt;div&gt;\n",
       "                     40歳代\n",
       "                 &lt;/div&gt;`,\n",
       "                {&quot;sticky&quot;: true}\n",
       "            );\n",
       "        \n",
       "    \n",
       "            var marker_474486eeaeea1e6122a5acdd851b4b53 = L.marker(\n",
       "                [35.838268, 139.963547],\n",
       "                {}\n",
       "            ).addTo(marker_cluster_ca9729af56ef1211549dec8c3e4969a9);\n",
       "        \n",
       "    \n",
       "            marker_474486eeaeea1e6122a5acdd851b4b53.bindTooltip(\n",
       "                `&lt;div&gt;\n",
       "                     10歳未満\n",
       "                 &lt;/div&gt;`,\n",
       "                {&quot;sticky&quot;: true}\n",
       "            );\n",
       "        \n",
       "    \n",
       "            var marker_301b44712ee54a632e6328a18cbe6e7e = L.marker(\n",
       "                [35.842236, 139.965775],\n",
       "                {}\n",
       "            ).addTo(marker_cluster_ca9729af56ef1211549dec8c3e4969a9);\n",
       "        \n",
       "    \n",
       "            marker_301b44712ee54a632e6328a18cbe6e7e.bindTooltip(\n",
       "                `&lt;div&gt;\n",
       "                     70歳以上\n",
       "                 &lt;/div&gt;`,\n",
       "                {&quot;sticky&quot;: true}\n",
       "            );\n",
       "        \n",
       "    \n",
       "            var marker_926834ad80271cf98eebdfed918656d8 = L.marker(\n",
       "                [35.840786, 139.966721],\n",
       "                {}\n",
       "            ).addTo(marker_cluster_ca9729af56ef1211549dec8c3e4969a9);\n",
       "        \n",
       "    \n",
       "            marker_926834ad80271cf98eebdfed918656d8.bindTooltip(\n",
       "                `&lt;div&gt;\n",
       "                     40歳代\n",
       "                 &lt;/div&gt;`,\n",
       "                {&quot;sticky&quot;: true}\n",
       "            );\n",
       "        \n",
       "    \n",
       "            var marker_70538327a8384b6d7a497e979e2b5eb7 = L.marker(\n",
       "                [35.840786, 139.966721],\n",
       "                {}\n",
       "            ).addTo(marker_cluster_ca9729af56ef1211549dec8c3e4969a9);\n",
       "        \n",
       "    \n",
       "            marker_70538327a8384b6d7a497e979e2b5eb7.bindTooltip(\n",
       "                `&lt;div&gt;\n",
       "                     40歳代\n",
       "                 &lt;/div&gt;`,\n",
       "                {&quot;sticky&quot;: true}\n",
       "            );\n",
       "        \n",
       "    \n",
       "            var marker_5881c34dd8c13de01194dee4eb1a943c = L.marker(\n",
       "                [35.843285, 139.981064],\n",
       "                {}\n",
       "            ).addTo(marker_cluster_ca9729af56ef1211549dec8c3e4969a9);\n",
       "        \n",
       "    \n",
       "            marker_5881c34dd8c13de01194dee4eb1a943c.bindTooltip(\n",
       "                `&lt;div&gt;\n",
       "                     20歳代\n",
       "                 &lt;/div&gt;`,\n",
       "                {&quot;sticky&quot;: true}\n",
       "            );\n",
       "        \n",
       "    \n",
       "            var marker_d16957f75c08f35251d7ddb26efb4b16 = L.marker(\n",
       "                [35.845604, 139.976089],\n",
       "                {}\n",
       "            ).addTo(marker_cluster_ca9729af56ef1211549dec8c3e4969a9);\n",
       "        \n",
       "    \n",
       "            marker_d16957f75c08f35251d7ddb26efb4b16.bindTooltip(\n",
       "                `&lt;div&gt;\n",
       "                     20歳代\n",
       "                 &lt;/div&gt;`,\n",
       "                {&quot;sticky&quot;: true}\n",
       "            );\n",
       "        \n",
       "    \n",
       "            var marker_ddca8f81268e71e2c51350f03a468d48 = L.marker(\n",
       "                [35.839211, 139.968597],\n",
       "                {}\n",
       "            ).addTo(marker_cluster_ca9729af56ef1211549dec8c3e4969a9);\n",
       "        \n",
       "    \n",
       "            marker_ddca8f81268e71e2c51350f03a468d48.bindTooltip(\n",
       "                `&lt;div&gt;\n",
       "                     30歳代\n",
       "                 &lt;/div&gt;`,\n",
       "                {&quot;sticky&quot;: true}\n",
       "            );\n",
       "        \n",
       "    \n",
       "            var marker_6d71f1902eca2bb072231e879228e43e = L.marker(\n",
       "                [35.841667, 139.972061],\n",
       "                {}\n",
       "            ).addTo(marker_cluster_ca9729af56ef1211549dec8c3e4969a9);\n",
       "        \n",
       "    \n",
       "            marker_6d71f1902eca2bb072231e879228e43e.bindTooltip(\n",
       "                `&lt;div&gt;\n",
       "                     20歳代\n",
       "                 &lt;/div&gt;`,\n",
       "                {&quot;sticky&quot;: true}\n",
       "            );\n",
       "        \n",
       "    \n",
       "            var marker_6a97df18372a45c2c0ba5cb0aecb9112 = L.marker(\n",
       "                [35.867088, 139.963196],\n",
       "                {}\n",
       "            ).addTo(marker_cluster_ca9729af56ef1211549dec8c3e4969a9);\n",
       "        \n",
       "    \n",
       "            marker_6a97df18372a45c2c0ba5cb0aecb9112.bindTooltip(\n",
       "                `&lt;div&gt;\n",
       "                     10歳代\n",
       "                 &lt;/div&gt;`,\n",
       "                {&quot;sticky&quot;: true}\n",
       "            );\n",
       "        \n",
       "    \n",
       "            var marker_0821ad7f36696d759df39455c9396e5b = L.marker(\n",
       "                [35.867088, 139.963196],\n",
       "                {}\n",
       "            ).addTo(marker_cluster_ca9729af56ef1211549dec8c3e4969a9);\n",
       "        \n",
       "    \n",
       "            marker_0821ad7f36696d759df39455c9396e5b.bindTooltip(\n",
       "                `&lt;div&gt;\n",
       "                     10歳代\n",
       "                 &lt;/div&gt;`,\n",
       "                {&quot;sticky&quot;: true}\n",
       "            );\n",
       "        \n",
       "    \n",
       "            var marker_1ee5b96ac2393e3806a7d07764ab3f42 = L.marker(\n",
       "                [35.867088, 139.963196],\n",
       "                {}\n",
       "            ).addTo(marker_cluster_ca9729af56ef1211549dec8c3e4969a9);\n",
       "        \n",
       "    \n",
       "            marker_1ee5b96ac2393e3806a7d07764ab3f42.bindTooltip(\n",
       "                `&lt;div&gt;\n",
       "                     10歳代\n",
       "                 &lt;/div&gt;`,\n",
       "                {&quot;sticky&quot;: true}\n",
       "            );\n",
       "        \n",
       "    \n",
       "            var marker_4a5147d3aef865f5b437a295a2d395f9 = L.marker(\n",
       "                [35.867088, 139.963196],\n",
       "                {}\n",
       "            ).addTo(marker_cluster_ca9729af56ef1211549dec8c3e4969a9);\n",
       "        \n",
       "    \n",
       "            marker_4a5147d3aef865f5b437a295a2d395f9.bindTooltip(\n",
       "                `&lt;div&gt;\n",
       "                     10歳代\n",
       "                 &lt;/div&gt;`,\n",
       "                {&quot;sticky&quot;: true}\n",
       "            );\n",
       "        \n",
       "    \n",
       "            var marker_c0a9314c807bcff06754c4c34ff03942 = L.marker(\n",
       "                [35.867088, 139.963196],\n",
       "                {}\n",
       "            ).addTo(marker_cluster_ca9729af56ef1211549dec8c3e4969a9);\n",
       "        \n",
       "    \n",
       "            marker_c0a9314c807bcff06754c4c34ff03942.bindTooltip(\n",
       "                `&lt;div&gt;\n",
       "                     10歳代\n",
       "                 &lt;/div&gt;`,\n",
       "                {&quot;sticky&quot;: true}\n",
       "            );\n",
       "        \n",
       "    \n",
       "            var marker_85721ab70d274e028652ad732d1db6bb = L.marker(\n",
       "                [35.864574, 139.962662],\n",
       "                {}\n",
       "            ).addTo(marker_cluster_ca9729af56ef1211549dec8c3e4969a9);\n",
       "        \n",
       "    \n",
       "            marker_85721ab70d274e028652ad732d1db6bb.bindTooltip(\n",
       "                `&lt;div&gt;\n",
       "                     20歳代\n",
       "                 &lt;/div&gt;`,\n",
       "                {&quot;sticky&quot;: true}\n",
       "            );\n",
       "        \n",
       "    \n",
       "            var marker_a1ff7cb330c8dacc7bd69d2c14b20731 = L.marker(\n",
       "                [35.864574, 139.962662],\n",
       "                {}\n",
       "            ).addTo(marker_cluster_ca9729af56ef1211549dec8c3e4969a9);\n",
       "        \n",
       "    \n",
       "            marker_a1ff7cb330c8dacc7bd69d2c14b20731.bindTooltip(\n",
       "                `&lt;div&gt;\n",
       "                     20歳代\n",
       "                 &lt;/div&gt;`,\n",
       "                {&quot;sticky&quot;: true}\n",
       "            );\n",
       "        \n",
       "    \n",
       "            var marker_87d682efb612365d4bd2adf195cb0254 = L.marker(\n",
       "                [35.865929, 139.971985],\n",
       "                {}\n",
       "            ).addTo(marker_cluster_ca9729af56ef1211549dec8c3e4969a9);\n",
       "        \n",
       "    \n",
       "            marker_87d682efb612365d4bd2adf195cb0254.bindTooltip(\n",
       "                `&lt;div&gt;\n",
       "                     65-69歳\n",
       "                 &lt;/div&gt;`,\n",
       "                {&quot;sticky&quot;: true}\n",
       "            );\n",
       "        \n",
       "    \n",
       "            var marker_9b15eeb435a7f0416048a4d04e2c92c6 = L.marker(\n",
       "                [35.868034, 139.974197],\n",
       "                {}\n",
       "            ).addTo(marker_cluster_ca9729af56ef1211549dec8c3e4969a9);\n",
       "        \n",
       "    \n",
       "            marker_9b15eeb435a7f0416048a4d04e2c92c6.bindTooltip(\n",
       "                `&lt;div&gt;\n",
       "                     30歳代\n",
       "                 &lt;/div&gt;`,\n",
       "                {&quot;sticky&quot;: true}\n",
       "            );\n",
       "        \n",
       "    \n",
       "            var marker_0bcffb41188133b8c96078ba80493c93 = L.marker(\n",
       "                [35.868034, 139.974197],\n",
       "                {}\n",
       "            ).addTo(marker_cluster_ca9729af56ef1211549dec8c3e4969a9);\n",
       "        \n",
       "    \n",
       "            marker_0bcffb41188133b8c96078ba80493c93.bindTooltip(\n",
       "                `&lt;div&gt;\n",
       "                     20歳代\n",
       "                 &lt;/div&gt;`,\n",
       "                {&quot;sticky&quot;: true}\n",
       "            );\n",
       "        \n",
       "    \n",
       "            var marker_71340e84dde15a29acb615d9d2dc515a = L.marker(\n",
       "                [35.869129, 139.971756],\n",
       "                {}\n",
       "            ).addTo(marker_cluster_ca9729af56ef1211549dec8c3e4969a9);\n",
       "        \n",
       "    \n",
       "            marker_71340e84dde15a29acb615d9d2dc515a.bindTooltip(\n",
       "                `&lt;div&gt;\n",
       "                     20歳代\n",
       "                 &lt;/div&gt;`,\n",
       "                {&quot;sticky&quot;: true}\n",
       "            );\n",
       "        \n",
       "    \n",
       "            var marker_6bb47f79f9d0c23a36e878ffdf8601af = L.marker(\n",
       "                [35.869129, 139.971756],\n",
       "                {}\n",
       "            ).addTo(marker_cluster_ca9729af56ef1211549dec8c3e4969a9);\n",
       "        \n",
       "    \n",
       "            marker_6bb47f79f9d0c23a36e878ffdf8601af.bindTooltip(\n",
       "                `&lt;div&gt;\n",
       "                     30歳代\n",
       "                 &lt;/div&gt;`,\n",
       "                {&quot;sticky&quot;: true}\n",
       "            );\n",
       "        \n",
       "    \n",
       "            var marker_35b2766a62bb3b17d9863286e1de7bef = L.marker(\n",
       "                [35.866798, 139.968948],\n",
       "                {}\n",
       "            ).addTo(marker_cluster_ca9729af56ef1211549dec8c3e4969a9);\n",
       "        \n",
       "    \n",
       "            marker_35b2766a62bb3b17d9863286e1de7bef.bindTooltip(\n",
       "                `&lt;div&gt;\n",
       "                     20歳代\n",
       "                 &lt;/div&gt;`,\n",
       "                {&quot;sticky&quot;: true}\n",
       "            );\n",
       "        \n",
       "    \n",
       "            var marker_f94b96583d54496ee9705f0677d3e271 = L.marker(\n",
       "                [35.866798, 139.968948],\n",
       "                {}\n",
       "            ).addTo(marker_cluster_ca9729af56ef1211549dec8c3e4969a9);\n",
       "        \n",
       "    \n",
       "            marker_f94b96583d54496ee9705f0677d3e271.bindTooltip(\n",
       "                `&lt;div&gt;\n",
       "                     20歳代\n",
       "                 &lt;/div&gt;`,\n",
       "                {&quot;sticky&quot;: true}\n",
       "            );\n",
       "        \n",
       "    \n",
       "            var marker_97fc4a4c6fb1be6677724887471a59d1 = L.marker(\n",
       "                [35.866798, 139.968948],\n",
       "                {}\n",
       "            ).addTo(marker_cluster_ca9729af56ef1211549dec8c3e4969a9);\n",
       "        \n",
       "    \n",
       "            marker_97fc4a4c6fb1be6677724887471a59d1.bindTooltip(\n",
       "                `&lt;div&gt;\n",
       "                     30歳代\n",
       "                 &lt;/div&gt;`,\n",
       "                {&quot;sticky&quot;: true}\n",
       "            );\n",
       "        \n",
       "    \n",
       "            var marker_2026021eb4a8cbdc819d4adb01969dbc = L.marker(\n",
       "                [35.869289, 139.967926],\n",
       "                {}\n",
       "            ).addTo(marker_cluster_ca9729af56ef1211549dec8c3e4969a9);\n",
       "        \n",
       "    \n",
       "            marker_2026021eb4a8cbdc819d4adb01969dbc.bindTooltip(\n",
       "                `&lt;div&gt;\n",
       "                     50歳代\n",
       "                 &lt;/div&gt;`,\n",
       "                {&quot;sticky&quot;: true}\n",
       "            );\n",
       "        \n",
       "    \n",
       "            var marker_a99d65e5490ae23f277d300fc88000f8 = L.marker(\n",
       "                [35.861916, 139.968491],\n",
       "                {}\n",
       "            ).addTo(marker_cluster_ca9729af56ef1211549dec8c3e4969a9);\n",
       "        \n",
       "    \n",
       "            marker_a99d65e5490ae23f277d300fc88000f8.bindTooltip(\n",
       "                `&lt;div&gt;\n",
       "                     50歳代\n",
       "                 &lt;/div&gt;`,\n",
       "                {&quot;sticky&quot;: true}\n",
       "            );\n",
       "        \n",
       "    \n",
       "            var marker_cc8ef793dd6293221c5175567e57bb53 = L.marker(\n",
       "                [35.861916, 139.968491],\n",
       "                {}\n",
       "            ).addTo(marker_cluster_ca9729af56ef1211549dec8c3e4969a9);\n",
       "        \n",
       "    \n",
       "            marker_cc8ef793dd6293221c5175567e57bb53.bindTooltip(\n",
       "                `&lt;div&gt;\n",
       "                     20歳代\n",
       "                 &lt;/div&gt;`,\n",
       "                {&quot;sticky&quot;: true}\n",
       "            );\n",
       "        \n",
       "    \n",
       "            var marker_778654dcc5e6916138dadcfcdffd2a6f = L.marker(\n",
       "                [35.861916, 139.968491],\n",
       "                {}\n",
       "            ).addTo(marker_cluster_ca9729af56ef1211549dec8c3e4969a9);\n",
       "        \n",
       "    \n",
       "            marker_778654dcc5e6916138dadcfcdffd2a6f.bindTooltip(\n",
       "                `&lt;div&gt;\n",
       "                     10歳代\n",
       "                 &lt;/div&gt;`,\n",
       "                {&quot;sticky&quot;: true}\n",
       "            );\n",
       "        \n",
       "    \n",
       "            var marker_a6dc191b26b9c87a29540c5359f5db3e = L.marker(\n",
       "                [35.861916, 139.968491],\n",
       "                {}\n",
       "            ).addTo(marker_cluster_ca9729af56ef1211549dec8c3e4969a9);\n",
       "        \n",
       "    \n",
       "            marker_a6dc191b26b9c87a29540c5359f5db3e.bindTooltip(\n",
       "                `&lt;div&gt;\n",
       "                     30歳代\n",
       "                 &lt;/div&gt;`,\n",
       "                {&quot;sticky&quot;: true}\n",
       "            );\n",
       "        \n",
       "    \n",
       "            var marker_fb44e6fcace2b2ae339c555ae13b1fb9 = L.marker(\n",
       "                [35.861916, 139.968491],\n",
       "                {}\n",
       "            ).addTo(marker_cluster_ca9729af56ef1211549dec8c3e4969a9);\n",
       "        \n",
       "    \n",
       "            marker_fb44e6fcace2b2ae339c555ae13b1fb9.bindTooltip(\n",
       "                `&lt;div&gt;\n",
       "                     20歳代\n",
       "                 &lt;/div&gt;`,\n",
       "                {&quot;sticky&quot;: true}\n",
       "            );\n",
       "        \n",
       "    \n",
       "            var marker_941082f90f9377f6c159cb06dbf8cbc6 = L.marker(\n",
       "                [35.861916, 139.968491],\n",
       "                {}\n",
       "            ).addTo(marker_cluster_ca9729af56ef1211549dec8c3e4969a9);\n",
       "        \n",
       "    \n",
       "            marker_941082f90f9377f6c159cb06dbf8cbc6.bindTooltip(\n",
       "                `&lt;div&gt;\n",
       "                     30歳代\n",
       "                 &lt;/div&gt;`,\n",
       "                {&quot;sticky&quot;: true}\n",
       "            );\n",
       "        \n",
       "    \n",
       "            var marker_749a1704ce7c11349c1ba61bb02b03ae = L.marker(\n",
       "                [35.861916, 139.968491],\n",
       "                {}\n",
       "            ).addTo(marker_cluster_ca9729af56ef1211549dec8c3e4969a9);\n",
       "        \n",
       "    \n",
       "            marker_749a1704ce7c11349c1ba61bb02b03ae.bindTooltip(\n",
       "                `&lt;div&gt;\n",
       "                     50歳代\n",
       "                 &lt;/div&gt;`,\n",
       "                {&quot;sticky&quot;: true}\n",
       "            );\n",
       "        \n",
       "    \n",
       "            var marker_7f5d9d8db7af834d8188f65243c9574c = L.marker(\n",
       "                [35.861916, 139.968491],\n",
       "                {}\n",
       "            ).addTo(marker_cluster_ca9729af56ef1211549dec8c3e4969a9);\n",
       "        \n",
       "    \n",
       "            marker_7f5d9d8db7af834d8188f65243c9574c.bindTooltip(\n",
       "                `&lt;div&gt;\n",
       "                     30歳代\n",
       "                 &lt;/div&gt;`,\n",
       "                {&quot;sticky&quot;: true}\n",
       "            );\n",
       "        \n",
       "    \n",
       "            var marker_8a9d58daf66be6a415c15b06388eef26 = L.marker(\n",
       "                [35.861916, 139.968491],\n",
       "                {}\n",
       "            ).addTo(marker_cluster_ca9729af56ef1211549dec8c3e4969a9);\n",
       "        \n",
       "    \n",
       "            marker_8a9d58daf66be6a415c15b06388eef26.bindTooltip(\n",
       "                `&lt;div&gt;\n",
       "                     10歳代\n",
       "                 &lt;/div&gt;`,\n",
       "                {&quot;sticky&quot;: true}\n",
       "            );\n",
       "        \n",
       "    \n",
       "            var marker_9e79172beed2f8f097a34f82b9532004 = L.marker(\n",
       "                [35.858974, 139.962036],\n",
       "                {}\n",
       "            ).addTo(marker_cluster_ca9729af56ef1211549dec8c3e4969a9);\n",
       "        \n",
       "    \n",
       "            marker_9e79172beed2f8f097a34f82b9532004.bindTooltip(\n",
       "                `&lt;div&gt;\n",
       "                     10歳代\n",
       "                 &lt;/div&gt;`,\n",
       "                {&quot;sticky&quot;: true}\n",
       "            );\n",
       "        \n",
       "    \n",
       "            var marker_a766d1379d102a94b33b3dd855d68d6e = L.marker(\n",
       "                [35.858974, 139.962036],\n",
       "                {}\n",
       "            ).addTo(marker_cluster_ca9729af56ef1211549dec8c3e4969a9);\n",
       "        \n",
       "    \n",
       "            marker_a766d1379d102a94b33b3dd855d68d6e.bindTooltip(\n",
       "                `&lt;div&gt;\n",
       "                     20歳代\n",
       "                 &lt;/div&gt;`,\n",
       "                {&quot;sticky&quot;: true}\n",
       "            );\n",
       "        \n",
       "    \n",
       "            var marker_ebc5992274ff39898770b59ab9369f98 = L.marker(\n",
       "                [35.858974, 139.962036],\n",
       "                {}\n",
       "            ).addTo(marker_cluster_ca9729af56ef1211549dec8c3e4969a9);\n",
       "        \n",
       "    \n",
       "            marker_ebc5992274ff39898770b59ab9369f98.bindTooltip(\n",
       "                `&lt;div&gt;\n",
       "                     30歳代\n",
       "                 &lt;/div&gt;`,\n",
       "                {&quot;sticky&quot;: true}\n",
       "            );\n",
       "        \n",
       "    \n",
       "            var marker_e5fa1858e926a3ab04ce82663a7f4ec7 = L.marker(\n",
       "                [35.858974, 139.962036],\n",
       "                {}\n",
       "            ).addTo(marker_cluster_ca9729af56ef1211549dec8c3e4969a9);\n",
       "        \n",
       "    \n",
       "            marker_e5fa1858e926a3ab04ce82663a7f4ec7.bindTooltip(\n",
       "                `&lt;div&gt;\n",
       "                     20歳代\n",
       "                 &lt;/div&gt;`,\n",
       "                {&quot;sticky&quot;: true}\n",
       "            );\n",
       "        \n",
       "    \n",
       "            var marker_477745d00df08132704d552c990672aa = L.marker(\n",
       "                [35.858974, 139.962036],\n",
       "                {}\n",
       "            ).addTo(marker_cluster_ca9729af56ef1211549dec8c3e4969a9);\n",
       "        \n",
       "    \n",
       "            marker_477745d00df08132704d552c990672aa.bindTooltip(\n",
       "                `&lt;div&gt;\n",
       "                     20歳代\n",
       "                 &lt;/div&gt;`,\n",
       "                {&quot;sticky&quot;: true}\n",
       "            );\n",
       "        \n",
       "    \n",
       "            var marker_b08e49c1ce53d9ac38e99f6738b3d49e = L.marker(\n",
       "                [35.85675, 139.962128],\n",
       "                {}\n",
       "            ).addTo(marker_cluster_ca9729af56ef1211549dec8c3e4969a9);\n",
       "        \n",
       "    \n",
       "            marker_b08e49c1ce53d9ac38e99f6738b3d49e.bindTooltip(\n",
       "                `&lt;div&gt;\n",
       "                     30歳代\n",
       "                 &lt;/div&gt;`,\n",
       "                {&quot;sticky&quot;: true}\n",
       "            );\n",
       "        \n",
       "    \n",
       "            var marker_129bf915dbcc93977874dedf6bd81ba7 = L.marker(\n",
       "                [35.857044, 139.958267],\n",
       "                {}\n",
       "            ).addTo(marker_cluster_ca9729af56ef1211549dec8c3e4969a9);\n",
       "        \n",
       "    \n",
       "            marker_129bf915dbcc93977874dedf6bd81ba7.bindTooltip(\n",
       "                `&lt;div&gt;\n",
       "                     70歳以上\n",
       "                 &lt;/div&gt;`,\n",
       "                {&quot;sticky&quot;: true}\n",
       "            );\n",
       "        \n",
       "    \n",
       "            var marker_5bf1bc3da1c788f012f2e7b1b1fc1623 = L.marker(\n",
       "                [35.857044, 139.958267],\n",
       "                {}\n",
       "            ).addTo(marker_cluster_ca9729af56ef1211549dec8c3e4969a9);\n",
       "        \n",
       "    \n",
       "            marker_5bf1bc3da1c788f012f2e7b1b1fc1623.bindTooltip(\n",
       "                `&lt;div&gt;\n",
       "                     10歳代\n",
       "                 &lt;/div&gt;`,\n",
       "                {&quot;sticky&quot;: true}\n",
       "            );\n",
       "        \n",
       "    \n",
       "            var marker_2a29762db2ebf2404b4d9e2d1447222c = L.marker(\n",
       "                [35.868122, 139.943359],\n",
       "                {}\n",
       "            ).addTo(marker_cluster_ca9729af56ef1211549dec8c3e4969a9);\n",
       "        \n",
       "    \n",
       "            marker_2a29762db2ebf2404b4d9e2d1447222c.bindTooltip(\n",
       "                `&lt;div&gt;\n",
       "                     10歳代\n",
       "                 &lt;/div&gt;`,\n",
       "                {&quot;sticky&quot;: true}\n",
       "            );\n",
       "        \n",
       "    \n",
       "            var marker_9c816d5aa71f717b6b00b1e172eedaac = L.marker(\n",
       "                [35.862904, 139.970398],\n",
       "                {}\n",
       "            ).addTo(marker_cluster_ca9729af56ef1211549dec8c3e4969a9);\n",
       "        \n",
       "    \n",
       "            marker_9c816d5aa71f717b6b00b1e172eedaac.bindTooltip(\n",
       "                `&lt;div&gt;\n",
       "                     40歳代\n",
       "                 &lt;/div&gt;`,\n",
       "                {&quot;sticky&quot;: true}\n",
       "            );\n",
       "        \n",
       "    \n",
       "            var marker_d112d9e1fd7f23f0656229e8b12c1573 = L.marker(\n",
       "                [35.862904, 139.970398],\n",
       "                {}\n",
       "            ).addTo(marker_cluster_ca9729af56ef1211549dec8c3e4969a9);\n",
       "        \n",
       "    \n",
       "            marker_d112d9e1fd7f23f0656229e8b12c1573.bindTooltip(\n",
       "                `&lt;div&gt;\n",
       "                     10歳代\n",
       "                 &lt;/div&gt;`,\n",
       "                {&quot;sticky&quot;: true}\n",
       "            );\n",
       "        \n",
       "    \n",
       "            var marker_47864e62200ae4df3c2e4c2c09c96de5 = L.marker(\n",
       "                [35.862904, 139.970398],\n",
       "                {}\n",
       "            ).addTo(marker_cluster_ca9729af56ef1211549dec8c3e4969a9);\n",
       "        \n",
       "    \n",
       "            marker_47864e62200ae4df3c2e4c2c09c96de5.bindTooltip(\n",
       "                `&lt;div&gt;\n",
       "                     40歳代\n",
       "                 &lt;/div&gt;`,\n",
       "                {&quot;sticky&quot;: true}\n",
       "            );\n",
       "        \n",
       "    \n",
       "            var marker_861403707e64ff0efc1d7de7f2231ff7 = L.marker(\n",
       "                [35.862904, 139.970398],\n",
       "                {}\n",
       "            ).addTo(marker_cluster_ca9729af56ef1211549dec8c3e4969a9);\n",
       "        \n",
       "    \n",
       "            marker_861403707e64ff0efc1d7de7f2231ff7.bindTooltip(\n",
       "                `&lt;div&gt;\n",
       "                     10歳代\n",
       "                 &lt;/div&gt;`,\n",
       "                {&quot;sticky&quot;: true}\n",
       "            );\n",
       "        \n",
       "    \n",
       "            var marker_6f4c9a9ee0743dec19c129a4e384cc0d = L.marker(\n",
       "                [35.862904, 139.970398],\n",
       "                {}\n",
       "            ).addTo(marker_cluster_ca9729af56ef1211549dec8c3e4969a9);\n",
       "        \n",
       "    \n",
       "            marker_6f4c9a9ee0743dec19c129a4e384cc0d.bindTooltip(\n",
       "                `&lt;div&gt;\n",
       "                     20歳代\n",
       "                 &lt;/div&gt;`,\n",
       "                {&quot;sticky&quot;: true}\n",
       "            );\n",
       "        \n",
       "    \n",
       "            var marker_901571ba22703224a175dae1336bb0a5 = L.marker(\n",
       "                [35.862904, 139.970398],\n",
       "                {}\n",
       "            ).addTo(marker_cluster_ca9729af56ef1211549dec8c3e4969a9);\n",
       "        \n",
       "    \n",
       "            marker_901571ba22703224a175dae1336bb0a5.bindTooltip(\n",
       "                `&lt;div&gt;\n",
       "                     65-69歳\n",
       "                 &lt;/div&gt;`,\n",
       "                {&quot;sticky&quot;: true}\n",
       "            );\n",
       "        \n",
       "    \n",
       "            var marker_3beb1536b7a76a28b20c80ae735ca372 = L.marker(\n",
       "                [35.862904, 139.970398],\n",
       "                {}\n",
       "            ).addTo(marker_cluster_ca9729af56ef1211549dec8c3e4969a9);\n",
       "        \n",
       "    \n",
       "            marker_3beb1536b7a76a28b20c80ae735ca372.bindTooltip(\n",
       "                `&lt;div&gt;\n",
       "                     10歳未満\n",
       "                 &lt;/div&gt;`,\n",
       "                {&quot;sticky&quot;: true}\n",
       "            );\n",
       "        \n",
       "    \n",
       "            var marker_91b7357e2573537959e6e1619cd511af = L.marker(\n",
       "                [35.862904, 139.970398],\n",
       "                {}\n",
       "            ).addTo(marker_cluster_ca9729af56ef1211549dec8c3e4969a9);\n",
       "        \n",
       "    \n",
       "            marker_91b7357e2573537959e6e1619cd511af.bindTooltip(\n",
       "                `&lt;div&gt;\n",
       "                     10歳代\n",
       "                 &lt;/div&gt;`,\n",
       "                {&quot;sticky&quot;: true}\n",
       "            );\n",
       "        \n",
       "    \n",
       "            var marker_6278fcfad85458188ac8eded43ccf423 = L.marker(\n",
       "                [35.862904, 139.970398],\n",
       "                {}\n",
       "            ).addTo(marker_cluster_ca9729af56ef1211549dec8c3e4969a9);\n",
       "        \n",
       "    \n",
       "            marker_6278fcfad85458188ac8eded43ccf423.bindTooltip(\n",
       "                `&lt;div&gt;\n",
       "                     20歳代\n",
       "                 &lt;/div&gt;`,\n",
       "                {&quot;sticky&quot;: true}\n",
       "            );\n",
       "        \n",
       "    \n",
       "            var marker_0ef9356227072a03213df5dd57fda25e = L.marker(\n",
       "                [35.862904, 139.970398],\n",
       "                {}\n",
       "            ).addTo(marker_cluster_ca9729af56ef1211549dec8c3e4969a9);\n",
       "        \n",
       "    \n",
       "            marker_0ef9356227072a03213df5dd57fda25e.bindTooltip(\n",
       "                `&lt;div&gt;\n",
       "                     20歳代\n",
       "                 &lt;/div&gt;`,\n",
       "                {&quot;sticky&quot;: true}\n",
       "            );\n",
       "        \n",
       "    \n",
       "            var marker_3d851ea140b2de36ae4195c659a042e8 = L.marker(\n",
       "                [35.854397, 139.962891],\n",
       "                {}\n",
       "            ).addTo(marker_cluster_ca9729af56ef1211549dec8c3e4969a9);\n",
       "        \n",
       "    \n",
       "            marker_3d851ea140b2de36ae4195c659a042e8.bindTooltip(\n",
       "                `&lt;div&gt;\n",
       "                     20歳代\n",
       "                 &lt;/div&gt;`,\n",
       "                {&quot;sticky&quot;: true}\n",
       "            );\n",
       "        \n",
       "    \n",
       "            var marker_08ac934dd75561da1d818143192d82da = L.marker(\n",
       "                [35.854397, 139.962891],\n",
       "                {}\n",
       "            ).addTo(marker_cluster_ca9729af56ef1211549dec8c3e4969a9);\n",
       "        \n",
       "    \n",
       "            marker_08ac934dd75561da1d818143192d82da.bindTooltip(\n",
       "                `&lt;div&gt;\n",
       "                     10歳代\n",
       "                 &lt;/div&gt;`,\n",
       "                {&quot;sticky&quot;: true}\n",
       "            );\n",
       "        \n",
       "    \n",
       "            var marker_f794563b2d7576b0fb0558dfaaa86dee = L.marker(\n",
       "                [35.854397, 139.962891],\n",
       "                {}\n",
       "            ).addTo(marker_cluster_ca9729af56ef1211549dec8c3e4969a9);\n",
       "        \n",
       "    \n",
       "            marker_f794563b2d7576b0fb0558dfaaa86dee.bindTooltip(\n",
       "                `&lt;div&gt;\n",
       "                     20歳代\n",
       "                 &lt;/div&gt;`,\n",
       "                {&quot;sticky&quot;: true}\n",
       "            );\n",
       "        \n",
       "    \n",
       "            var marker_93eac705bddfc6db77b022c9118f9cf1 = L.marker(\n",
       "                [35.854397, 139.962891],\n",
       "                {}\n",
       "            ).addTo(marker_cluster_ca9729af56ef1211549dec8c3e4969a9);\n",
       "        \n",
       "    \n",
       "            marker_93eac705bddfc6db77b022c9118f9cf1.bindTooltip(\n",
       "                `&lt;div&gt;\n",
       "                     20歳代\n",
       "                 &lt;/div&gt;`,\n",
       "                {&quot;sticky&quot;: true}\n",
       "            );\n",
       "        \n",
       "    \n",
       "            var marker_9a898fb780ae700f588aeb684ed47510 = L.marker(\n",
       "                [35.854397, 139.962891],\n",
       "                {}\n",
       "            ).addTo(marker_cluster_ca9729af56ef1211549dec8c3e4969a9);\n",
       "        \n",
       "    \n",
       "            marker_9a898fb780ae700f588aeb684ed47510.bindTooltip(\n",
       "                `&lt;div&gt;\n",
       "                     20歳代\n",
       "                 &lt;/div&gt;`,\n",
       "                {&quot;sticky&quot;: true}\n",
       "            );\n",
       "        \n",
       "    \n",
       "            var marker_4097a6b6c9f562633f24f19b0b7042ef = L.marker(\n",
       "                [35.854397, 139.962891],\n",
       "                {}\n",
       "            ).addTo(marker_cluster_ca9729af56ef1211549dec8c3e4969a9);\n",
       "        \n",
       "    \n",
       "            marker_4097a6b6c9f562633f24f19b0b7042ef.bindTooltip(\n",
       "                `&lt;div&gt;\n",
       "                     20歳代\n",
       "                 &lt;/div&gt;`,\n",
       "                {&quot;sticky&quot;: true}\n",
       "            );\n",
       "        \n",
       "    \n",
       "            var marker_b5120d4b3cfec68f91189c8ab8c02138 = L.marker(\n",
       "                [35.866894, 139.957932],\n",
       "                {}\n",
       "            ).addTo(marker_cluster_ca9729af56ef1211549dec8c3e4969a9);\n",
       "        \n",
       "    \n",
       "            marker_b5120d4b3cfec68f91189c8ab8c02138.bindTooltip(\n",
       "                `&lt;div&gt;\n",
       "                     10歳代\n",
       "                 &lt;/div&gt;`,\n",
       "                {&quot;sticky&quot;: true}\n",
       "            );\n",
       "        \n",
       "    \n",
       "            var marker_1e6ba1ba83c86f49bcf3bc1b065bf1b0 = L.marker(\n",
       "                [35.866894, 139.957932],\n",
       "                {}\n",
       "            ).addTo(marker_cluster_ca9729af56ef1211549dec8c3e4969a9);\n",
       "        \n",
       "    \n",
       "            marker_1e6ba1ba83c86f49bcf3bc1b065bf1b0.bindTooltip(\n",
       "                `&lt;div&gt;\n",
       "                     40歳代\n",
       "                 &lt;/div&gt;`,\n",
       "                {&quot;sticky&quot;: true}\n",
       "            );\n",
       "        \n",
       "    \n",
       "            var marker_115edd1e2d8e5174cc5a2be356dbc79f = L.marker(\n",
       "                [35.866894, 139.957932],\n",
       "                {}\n",
       "            ).addTo(marker_cluster_ca9729af56ef1211549dec8c3e4969a9);\n",
       "        \n",
       "    \n",
       "            marker_115edd1e2d8e5174cc5a2be356dbc79f.bindTooltip(\n",
       "                `&lt;div&gt;\n",
       "                     20歳代\n",
       "                 &lt;/div&gt;`,\n",
       "                {&quot;sticky&quot;: true}\n",
       "            );\n",
       "        \n",
       "    \n",
       "            var marker_666271a1b3b86ba8ce598a5378b9a25a = L.marker(\n",
       "                [35.866894, 139.957932],\n",
       "                {}\n",
       "            ).addTo(marker_cluster_ca9729af56ef1211549dec8c3e4969a9);\n",
       "        \n",
       "    \n",
       "            marker_666271a1b3b86ba8ce598a5378b9a25a.bindTooltip(\n",
       "                `&lt;div&gt;\n",
       "                     40歳代\n",
       "                 &lt;/div&gt;`,\n",
       "                {&quot;sticky&quot;: true}\n",
       "            );\n",
       "        \n",
       "    \n",
       "            var marker_1958fa075eddcfda4e8279d6088d699c = L.marker(\n",
       "                [35.862438, 139.959137],\n",
       "                {}\n",
       "            ).addTo(marker_cluster_ca9729af56ef1211549dec8c3e4969a9);\n",
       "        \n",
       "    \n",
       "            marker_1958fa075eddcfda4e8279d6088d699c.bindTooltip(\n",
       "                `&lt;div&gt;\n",
       "                     70歳以上\n",
       "                 &lt;/div&gt;`,\n",
       "                {&quot;sticky&quot;: true}\n",
       "            );\n",
       "        \n",
       "    \n",
       "            var marker_699b44d56f947e260d31750f49945c6f = L.marker(\n",
       "                [35.863903, 139.956039],\n",
       "                {}\n",
       "            ).addTo(marker_cluster_ca9729af56ef1211549dec8c3e4969a9);\n",
       "        \n",
       "    \n",
       "            marker_699b44d56f947e260d31750f49945c6f.bindTooltip(\n",
       "                `&lt;div&gt;\n",
       "                     40歳代\n",
       "                 &lt;/div&gt;`,\n",
       "                {&quot;sticky&quot;: true}\n",
       "            );\n",
       "        \n",
       "    \n",
       "            var marker_94f0bfb70e811012e5aae872494a79eb = L.marker(\n",
       "                [35.863903, 139.956039],\n",
       "                {}\n",
       "            ).addTo(marker_cluster_ca9729af56ef1211549dec8c3e4969a9);\n",
       "        \n",
       "    \n",
       "            marker_94f0bfb70e811012e5aae872494a79eb.bindTooltip(\n",
       "                `&lt;div&gt;\n",
       "                     10歳代\n",
       "                 &lt;/div&gt;`,\n",
       "                {&quot;sticky&quot;: true}\n",
       "            );\n",
       "        \n",
       "    \n",
       "            var marker_a8bf38d5635d439aa5ff3ceed9ad56ba = L.marker(\n",
       "                [35.869198, 139.957932],\n",
       "                {}\n",
       "            ).addTo(marker_cluster_ca9729af56ef1211549dec8c3e4969a9);\n",
       "        \n",
       "    \n",
       "            marker_a8bf38d5635d439aa5ff3ceed9ad56ba.bindTooltip(\n",
       "                `&lt;div&gt;\n",
       "                     10歳代\n",
       "                 &lt;/div&gt;`,\n",
       "                {&quot;sticky&quot;: true}\n",
       "            );\n",
       "        \n",
       "    \n",
       "            var marker_bf606d3e7c49236c2da02769f5eb9f05 = L.marker(\n",
       "                [35.882629, 139.959305],\n",
       "                {}\n",
       "            ).addTo(marker_cluster_ca9729af56ef1211549dec8c3e4969a9);\n",
       "        \n",
       "    \n",
       "            marker_bf606d3e7c49236c2da02769f5eb9f05.bindTooltip(\n",
       "                `&lt;div&gt;\n",
       "                     70歳以上\n",
       "                 &lt;/div&gt;`,\n",
       "                {&quot;sticky&quot;: true}\n",
       "            );\n",
       "        \n",
       "    \n",
       "            var marker_d40923f99118c7fc3172da94786dc4e1 = L.marker(\n",
       "                [35.882629, 139.959305],\n",
       "                {}\n",
       "            ).addTo(marker_cluster_ca9729af56ef1211549dec8c3e4969a9);\n",
       "        \n",
       "    \n",
       "            marker_d40923f99118c7fc3172da94786dc4e1.bindTooltip(\n",
       "                `&lt;div&gt;\n",
       "                     10歳代\n",
       "                 &lt;/div&gt;`,\n",
       "                {&quot;sticky&quot;: true}\n",
       "            );\n",
       "        \n",
       "    \n",
       "            var marker_dead318ed7cd07a9cb6bf662ae4e127b = L.marker(\n",
       "                [35.88113, 139.98645],\n",
       "                {}\n",
       "            ).addTo(marker_cluster_ca9729af56ef1211549dec8c3e4969a9);\n",
       "        \n",
       "    \n",
       "            marker_dead318ed7cd07a9cb6bf662ae4e127b.bindTooltip(\n",
       "                `&lt;div&gt;\n",
       "                     20歳代\n",
       "                 &lt;/div&gt;`,\n",
       "                {&quot;sticky&quot;: true}\n",
       "            );\n",
       "        \n",
       "    \n",
       "            var marker_efcdb7c1bd49dc1c00a66aa8abb7759d = L.marker(\n",
       "                [35.879082, 139.975952],\n",
       "                {}\n",
       "            ).addTo(marker_cluster_ca9729af56ef1211549dec8c3e4969a9);\n",
       "        \n",
       "    \n",
       "            marker_efcdb7c1bd49dc1c00a66aa8abb7759d.bindTooltip(\n",
       "                `&lt;div&gt;\n",
       "                     20歳代\n",
       "                 &lt;/div&gt;`,\n",
       "                {&quot;sticky&quot;: true}\n",
       "            );\n",
       "        \n",
       "    \n",
       "            var marker_0d0bcabd03b30ceea4d4e9b321dfcf66 = L.marker(\n",
       "                [35.879082, 139.975952],\n",
       "                {}\n",
       "            ).addTo(marker_cluster_ca9729af56ef1211549dec8c3e4969a9);\n",
       "        \n",
       "    \n",
       "            marker_0d0bcabd03b30ceea4d4e9b321dfcf66.bindTooltip(\n",
       "                `&lt;div&gt;\n",
       "                     10歳代\n",
       "                 &lt;/div&gt;`,\n",
       "                {&quot;sticky&quot;: true}\n",
       "            );\n",
       "        \n",
       "    \n",
       "            var marker_bdd178b54ee0f2df81e345af86c20708 = L.marker(\n",
       "                [35.879082, 139.975952],\n",
       "                {}\n",
       "            ).addTo(marker_cluster_ca9729af56ef1211549dec8c3e4969a9);\n",
       "        \n",
       "    \n",
       "            marker_bdd178b54ee0f2df81e345af86c20708.bindTooltip(\n",
       "                `&lt;div&gt;\n",
       "                     20歳代\n",
       "                 &lt;/div&gt;`,\n",
       "                {&quot;sticky&quot;: true}\n",
       "            );\n",
       "        \n",
       "    \n",
       "            var marker_f39b6a7805fce968f7d599453f07b947 = L.marker(\n",
       "                [35.879082, 139.975952],\n",
       "                {}\n",
       "            ).addTo(marker_cluster_ca9729af56ef1211549dec8c3e4969a9);\n",
       "        \n",
       "    \n",
       "            marker_f39b6a7805fce968f7d599453f07b947.bindTooltip(\n",
       "                `&lt;div&gt;\n",
       "                     20歳代\n",
       "                 &lt;/div&gt;`,\n",
       "                {&quot;sticky&quot;: true}\n",
       "            );\n",
       "        \n",
       "    \n",
       "            var marker_a026676e4f2eb092a8da190317245add = L.marker(\n",
       "                [35.879082, 139.975952],\n",
       "                {}\n",
       "            ).addTo(marker_cluster_ca9729af56ef1211549dec8c3e4969a9);\n",
       "        \n",
       "    \n",
       "            marker_a026676e4f2eb092a8da190317245add.bindTooltip(\n",
       "                `&lt;div&gt;\n",
       "                     40歳代\n",
       "                 &lt;/div&gt;`,\n",
       "                {&quot;sticky&quot;: true}\n",
       "            );\n",
       "        \n",
       "    \n",
       "            var marker_7883137a87d440601d2201ef4762c909 = L.marker(\n",
       "                [35.879082, 139.975952],\n",
       "                {}\n",
       "            ).addTo(marker_cluster_ca9729af56ef1211549dec8c3e4969a9);\n",
       "        \n",
       "    \n",
       "            marker_7883137a87d440601d2201ef4762c909.bindTooltip(\n",
       "                `&lt;div&gt;\n",
       "                     10歳代\n",
       "                 &lt;/div&gt;`,\n",
       "                {&quot;sticky&quot;: true}\n",
       "            );\n",
       "        \n",
       "    \n",
       "            var marker_8cab8132d4a0fedc92b9a9e796488e86 = L.marker(\n",
       "                [35.879082, 139.975952],\n",
       "                {}\n",
       "            ).addTo(marker_cluster_ca9729af56ef1211549dec8c3e4969a9);\n",
       "        \n",
       "    \n",
       "            marker_8cab8132d4a0fedc92b9a9e796488e86.bindTooltip(\n",
       "                `&lt;div&gt;\n",
       "                     30歳代\n",
       "                 &lt;/div&gt;`,\n",
       "                {&quot;sticky&quot;: true}\n",
       "            );\n",
       "        \n",
       "    \n",
       "            var marker_f2e46856549cdab705bf392926703a37 = L.marker(\n",
       "                [35.879082, 139.975952],\n",
       "                {}\n",
       "            ).addTo(marker_cluster_ca9729af56ef1211549dec8c3e4969a9);\n",
       "        \n",
       "    \n",
       "            marker_f2e46856549cdab705bf392926703a37.bindTooltip(\n",
       "                `&lt;div&gt;\n",
       "                     30歳代\n",
       "                 &lt;/div&gt;`,\n",
       "                {&quot;sticky&quot;: true}\n",
       "            );\n",
       "        \n",
       "    \n",
       "            var marker_09bbe2eb73f9ec8505674c6c89f1a6cb = L.marker(\n",
       "                [35.886456, 139.980759],\n",
       "                {}\n",
       "            ).addTo(marker_cluster_ca9729af56ef1211549dec8c3e4969a9);\n",
       "        \n",
       "    \n",
       "            marker_09bbe2eb73f9ec8505674c6c89f1a6cb.bindTooltip(\n",
       "                `&lt;div&gt;\n",
       "                     20歳代\n",
       "                 &lt;/div&gt;`,\n",
       "                {&quot;sticky&quot;: true}\n",
       "            );\n",
       "        \n",
       "    \n",
       "            var marker_5f912db7040ec3a8a83bd49bedfdb2a2 = L.marker(\n",
       "                [35.886456, 139.980759],\n",
       "                {}\n",
       "            ).addTo(marker_cluster_ca9729af56ef1211549dec8c3e4969a9);\n",
       "        \n",
       "    \n",
       "            marker_5f912db7040ec3a8a83bd49bedfdb2a2.bindTooltip(\n",
       "                `&lt;div&gt;\n",
       "                     10歳代\n",
       "                 &lt;/div&gt;`,\n",
       "                {&quot;sticky&quot;: true}\n",
       "            );\n",
       "        \n",
       "    \n",
       "            var marker_cd1d873c5af27d857ab41ea76377635c = L.marker(\n",
       "                [35.886009, 139.970963],\n",
       "                {}\n",
       "            ).addTo(marker_cluster_ca9729af56ef1211549dec8c3e4969a9);\n",
       "        \n",
       "    \n",
       "            marker_cd1d873c5af27d857ab41ea76377635c.bindTooltip(\n",
       "                `&lt;div&gt;\n",
       "                     10歳未満\n",
       "                 &lt;/div&gt;`,\n",
       "                {&quot;sticky&quot;: true}\n",
       "            );\n",
       "        \n",
       "    \n",
       "            var marker_2cbe2403b367daeb56ebcbb41ce6d317 = L.marker(\n",
       "                [35.886009, 139.970963],\n",
       "                {}\n",
       "            ).addTo(marker_cluster_ca9729af56ef1211549dec8c3e4969a9);\n",
       "        \n",
       "    \n",
       "            marker_2cbe2403b367daeb56ebcbb41ce6d317.bindTooltip(\n",
       "                `&lt;div&gt;\n",
       "                     10歳代\n",
       "                 &lt;/div&gt;`,\n",
       "                {&quot;sticky&quot;: true}\n",
       "            );\n",
       "        \n",
       "    \n",
       "            var marker_4d02391fb03faa6c920c326f788bf245 = L.marker(\n",
       "                [35.889114, 139.971802],\n",
       "                {}\n",
       "            ).addTo(marker_cluster_ca9729af56ef1211549dec8c3e4969a9);\n",
       "        \n",
       "    \n",
       "            marker_4d02391fb03faa6c920c326f788bf245.bindTooltip(\n",
       "                `&lt;div&gt;\n",
       "                     70歳以上\n",
       "                 &lt;/div&gt;`,\n",
       "                {&quot;sticky&quot;: true}\n",
       "            );\n",
       "        \n",
       "    \n",
       "            var marker_d2d5fcd12c53f5fce680ef18725793ee = L.marker(\n",
       "                [35.889114, 139.971802],\n",
       "                {}\n",
       "            ).addTo(marker_cluster_ca9729af56ef1211549dec8c3e4969a9);\n",
       "        \n",
       "    \n",
       "            marker_d2d5fcd12c53f5fce680ef18725793ee.bindTooltip(\n",
       "                `&lt;div&gt;\n",
       "                     65-69歳\n",
       "                 &lt;/div&gt;`,\n",
       "                {&quot;sticky&quot;: true}\n",
       "            );\n",
       "        \n",
       "    \n",
       "            var marker_dfed5404a965fb90d78543c9b17a9f4c = L.marker(\n",
       "                [35.889114, 139.971802],\n",
       "                {}\n",
       "            ).addTo(marker_cluster_ca9729af56ef1211549dec8c3e4969a9);\n",
       "        \n",
       "    \n",
       "            marker_dfed5404a965fb90d78543c9b17a9f4c.bindTooltip(\n",
       "                `&lt;div&gt;\n",
       "                     70歳以上\n",
       "                 &lt;/div&gt;`,\n",
       "                {&quot;sticky&quot;: true}\n",
       "            );\n",
       "        \n",
       "    \n",
       "            var marker_d89ae788cb2b6cebee91e19ca01541c2 = L.marker(\n",
       "                [35.889473, 139.966446],\n",
       "                {}\n",
       "            ).addTo(marker_cluster_ca9729af56ef1211549dec8c3e4969a9);\n",
       "        \n",
       "    \n",
       "            marker_d89ae788cb2b6cebee91e19ca01541c2.bindTooltip(\n",
       "                `&lt;div&gt;\n",
       "                     40歳代\n",
       "                 &lt;/div&gt;`,\n",
       "                {&quot;sticky&quot;: true}\n",
       "            );\n",
       "        \n",
       "    \n",
       "            var marker_3a6ff6b1ef2b1ae8a9be81e864579265 = L.marker(\n",
       "                [35.889473, 139.966446],\n",
       "                {}\n",
       "            ).addTo(marker_cluster_ca9729af56ef1211549dec8c3e4969a9);\n",
       "        \n",
       "    \n",
       "            marker_3a6ff6b1ef2b1ae8a9be81e864579265.bindTooltip(\n",
       "                `&lt;div&gt;\n",
       "                     70歳以上\n",
       "                 &lt;/div&gt;`,\n",
       "                {&quot;sticky&quot;: true}\n",
       "            );\n",
       "        \n",
       "    \n",
       "            var marker_3c6035dcf86b216cbd9f9459a8dd25d8 = L.marker(\n",
       "                [35.891541, 139.968033],\n",
       "                {}\n",
       "            ).addTo(marker_cluster_ca9729af56ef1211549dec8c3e4969a9);\n",
       "        \n",
       "    \n",
       "            marker_3c6035dcf86b216cbd9f9459a8dd25d8.bindTooltip(\n",
       "                `&lt;div&gt;\n",
       "                     50歳代\n",
       "                 &lt;/div&gt;`,\n",
       "                {&quot;sticky&quot;: true}\n",
       "            );\n",
       "        \n",
       "    \n",
       "            var marker_bd49e9d24b1e95fc3372d612da8a6612 = L.marker(\n",
       "                [35.880825, 139.967804],\n",
       "                {}\n",
       "            ).addTo(marker_cluster_ca9729af56ef1211549dec8c3e4969a9);\n",
       "        \n",
       "    \n",
       "            marker_bd49e9d24b1e95fc3372d612da8a6612.bindTooltip(\n",
       "                `&lt;div&gt;\n",
       "                     40歳代\n",
       "                 &lt;/div&gt;`,\n",
       "                {&quot;sticky&quot;: true}\n",
       "            );\n",
       "        \n",
       "    \n",
       "            var marker_0098554f303b91ee9fb141634ed4f1bd = L.marker(\n",
       "                [35.880825, 139.967804],\n",
       "                {}\n",
       "            ).addTo(marker_cluster_ca9729af56ef1211549dec8c3e4969a9);\n",
       "        \n",
       "    \n",
       "            marker_0098554f303b91ee9fb141634ed4f1bd.bindTooltip(\n",
       "                `&lt;div&gt;\n",
       "                     20歳代\n",
       "                 &lt;/div&gt;`,\n",
       "                {&quot;sticky&quot;: true}\n",
       "            );\n",
       "        \n",
       "    \n",
       "            var marker_d4a4b7977889ebc2e38e306eff107194 = L.marker(\n",
       "                [35.880825, 139.967804],\n",
       "                {}\n",
       "            ).addTo(marker_cluster_ca9729af56ef1211549dec8c3e4969a9);\n",
       "        \n",
       "    \n",
       "            marker_d4a4b7977889ebc2e38e306eff107194.bindTooltip(\n",
       "                `&lt;div&gt;\n",
       "                     10歳代\n",
       "                 &lt;/div&gt;`,\n",
       "                {&quot;sticky&quot;: true}\n",
       "            );\n",
       "        \n",
       "    \n",
       "            var marker_5b8962d998c3aa81ff1cf1fa4d88e041 = L.marker(\n",
       "                [35.880825, 139.967804],\n",
       "                {}\n",
       "            ).addTo(marker_cluster_ca9729af56ef1211549dec8c3e4969a9);\n",
       "        \n",
       "    \n",
       "            marker_5b8962d998c3aa81ff1cf1fa4d88e041.bindTooltip(\n",
       "                `&lt;div&gt;\n",
       "                     10歳代\n",
       "                 &lt;/div&gt;`,\n",
       "                {&quot;sticky&quot;: true}\n",
       "            );\n",
       "        \n",
       "    \n",
       "            var marker_3502f1b904e33c0ccba6b15f0f6274c5 = L.marker(\n",
       "                [35.88258, 139.969193],\n",
       "                {}\n",
       "            ).addTo(marker_cluster_ca9729af56ef1211549dec8c3e4969a9);\n",
       "        \n",
       "    \n",
       "            marker_3502f1b904e33c0ccba6b15f0f6274c5.bindTooltip(\n",
       "                `&lt;div&gt;\n",
       "                     40歳代\n",
       "                 &lt;/div&gt;`,\n",
       "                {&quot;sticky&quot;: true}\n",
       "            );\n",
       "        \n",
       "    \n",
       "            var marker_464c8c53009911657007a406b5253742 = L.marker(\n",
       "                [35.88258, 139.969193],\n",
       "                {}\n",
       "            ).addTo(marker_cluster_ca9729af56ef1211549dec8c3e4969a9);\n",
       "        \n",
       "    \n",
       "            marker_464c8c53009911657007a406b5253742.bindTooltip(\n",
       "                `&lt;div&gt;\n",
       "                     10歳代\n",
       "                 &lt;/div&gt;`,\n",
       "                {&quot;sticky&quot;: true}\n",
       "            );\n",
       "        \n",
       "    \n",
       "            var marker_6adf8d1a791466b85fada433ed71f319 = L.marker(\n",
       "                [35.88258, 139.969193],\n",
       "                {}\n",
       "            ).addTo(marker_cluster_ca9729af56ef1211549dec8c3e4969a9);\n",
       "        \n",
       "    \n",
       "            marker_6adf8d1a791466b85fada433ed71f319.bindTooltip(\n",
       "                `&lt;div&gt;\n",
       "                     20歳代\n",
       "                 &lt;/div&gt;`,\n",
       "                {&quot;sticky&quot;: true}\n",
       "            );\n",
       "        \n",
       "    \n",
       "            var marker_2ffc13f0456dc9d27f1800dfa74d0f13 = L.marker(\n",
       "                [35.88258, 139.969193],\n",
       "                {}\n",
       "            ).addTo(marker_cluster_ca9729af56ef1211549dec8c3e4969a9);\n",
       "        \n",
       "    \n",
       "            marker_2ffc13f0456dc9d27f1800dfa74d0f13.bindTooltip(\n",
       "                `&lt;div&gt;\n",
       "                     10歳代\n",
       "                 &lt;/div&gt;`,\n",
       "                {&quot;sticky&quot;: true}\n",
       "            );\n",
       "        \n",
       "    \n",
       "            var marker_f595772eebb2eb6703f4c341eb625150 = L.marker(\n",
       "                [35.88258, 139.969193],\n",
       "                {}\n",
       "            ).addTo(marker_cluster_ca9729af56ef1211549dec8c3e4969a9);\n",
       "        \n",
       "    \n",
       "            marker_f595772eebb2eb6703f4c341eb625150.bindTooltip(\n",
       "                `&lt;div&gt;\n",
       "                     10歳代\n",
       "                 &lt;/div&gt;`,\n",
       "                {&quot;sticky&quot;: true}\n",
       "            );\n",
       "        \n",
       "    \n",
       "            var marker_1a2012d42e2497de8effe877e4d82876 = L.marker(\n",
       "                [35.88258, 139.969193],\n",
       "                {}\n",
       "            ).addTo(marker_cluster_ca9729af56ef1211549dec8c3e4969a9);\n",
       "        \n",
       "    \n",
       "            marker_1a2012d42e2497de8effe877e4d82876.bindTooltip(\n",
       "                `&lt;div&gt;\n",
       "                     30歳代\n",
       "                 &lt;/div&gt;`,\n",
       "                {&quot;sticky&quot;: true}\n",
       "            );\n",
       "        \n",
       "    \n",
       "            var marker_c415ae929808da1e6f1590ee2a18c040 = L.marker(\n",
       "                [35.88258, 139.969193],\n",
       "                {}\n",
       "            ).addTo(marker_cluster_ca9729af56ef1211549dec8c3e4969a9);\n",
       "        \n",
       "    \n",
       "            marker_c415ae929808da1e6f1590ee2a18c040.bindTooltip(\n",
       "                `&lt;div&gt;\n",
       "                     法人・団体、被害者なし\n",
       "                 &lt;/div&gt;`,\n",
       "                {&quot;sticky&quot;: true}\n",
       "            );\n",
       "        \n",
       "    \n",
       "            var marker_6d7ae44be1b2f2b160c5c7c7c6942fb0 = L.marker(\n",
       "                [35.902401, 139.950058],\n",
       "                {}\n",
       "            ).addTo(marker_cluster_ca9729af56ef1211549dec8c3e4969a9);\n",
       "        \n",
       "    \n",
       "            marker_6d7ae44be1b2f2b160c5c7c7c6942fb0.bindTooltip(\n",
       "                `&lt;div&gt;\n",
       "                     20歳代\n",
       "                 &lt;/div&gt;`,\n",
       "                {&quot;sticky&quot;: true}\n",
       "            );\n",
       "        \n",
       "    \n",
       "            var marker_dce36029f544d7383cee840b309b8f46 = L.marker(\n",
       "                [35.902401, 139.950058],\n",
       "                {}\n",
       "            ).addTo(marker_cluster_ca9729af56ef1211549dec8c3e4969a9);\n",
       "        \n",
       "    \n",
       "            marker_dce36029f544d7383cee840b309b8f46.bindTooltip(\n",
       "                `&lt;div&gt;\n",
       "                     30歳代\n",
       "                 &lt;/div&gt;`,\n",
       "                {&quot;sticky&quot;: true}\n",
       "            );\n",
       "        \n",
       "    \n",
       "            var marker_0aa28884b3f6a638d9ba90ceba96115d = L.marker(\n",
       "                [35.891659, 139.953995],\n",
       "                {}\n",
       "            ).addTo(marker_cluster_ca9729af56ef1211549dec8c3e4969a9);\n",
       "        \n",
       "    \n",
       "            marker_0aa28884b3f6a638d9ba90ceba96115d.bindTooltip(\n",
       "                `&lt;div&gt;\n",
       "                     10歳代\n",
       "                 &lt;/div&gt;`,\n",
       "                {&quot;sticky&quot;: true}\n",
       "            );\n",
       "        \n",
       "    \n",
       "            var marker_126236cf33293cfb09228a90cfa6a9c6 = L.marker(\n",
       "                [35.891659, 139.953995],\n",
       "                {}\n",
       "            ).addTo(marker_cluster_ca9729af56ef1211549dec8c3e4969a9);\n",
       "        \n",
       "    \n",
       "            marker_126236cf33293cfb09228a90cfa6a9c6.bindTooltip(\n",
       "                `&lt;div&gt;\n",
       "                     10歳代\n",
       "                 &lt;/div&gt;`,\n",
       "                {&quot;sticky&quot;: true}\n",
       "            );\n",
       "        \n",
       "    \n",
       "            var marker_543f8b5b6d4fe7e1a210737f9600ece5 = L.marker(\n",
       "                [35.891659, 139.953995],\n",
       "                {}\n",
       "            ).addTo(marker_cluster_ca9729af56ef1211549dec8c3e4969a9);\n",
       "        \n",
       "    \n",
       "            marker_543f8b5b6d4fe7e1a210737f9600ece5.bindTooltip(\n",
       "                `&lt;div&gt;\n",
       "                     10歳代\n",
       "                 &lt;/div&gt;`,\n",
       "                {&quot;sticky&quot;: true}\n",
       "            );\n",
       "        \n",
       "    \n",
       "            var marker_3db79f390922902730f11d920f90e439 = L.marker(\n",
       "                [35.891659, 139.953995],\n",
       "                {}\n",
       "            ).addTo(marker_cluster_ca9729af56ef1211549dec8c3e4969a9);\n",
       "        \n",
       "    \n",
       "            marker_3db79f390922902730f11d920f90e439.bindTooltip(\n",
       "                `&lt;div&gt;\n",
       "                     10歳代\n",
       "                 &lt;/div&gt;`,\n",
       "                {&quot;sticky&quot;: true}\n",
       "            );\n",
       "        \n",
       "    \n",
       "            var marker_c56c35a4b2312783abad63aaf60901b3 = L.marker(\n",
       "                [35.891659, 139.953995],\n",
       "                {}\n",
       "            ).addTo(marker_cluster_ca9729af56ef1211549dec8c3e4969a9);\n",
       "        \n",
       "    \n",
       "            marker_c56c35a4b2312783abad63aaf60901b3.bindTooltip(\n",
       "                `&lt;div&gt;\n",
       "                     20歳代\n",
       "                 &lt;/div&gt;`,\n",
       "                {&quot;sticky&quot;: true}\n",
       "            );\n",
       "        \n",
       "    \n",
       "            var marker_fee2d824849f865aed8c89620648f632 = L.marker(\n",
       "                [35.891659, 139.953995],\n",
       "                {}\n",
       "            ).addTo(marker_cluster_ca9729af56ef1211549dec8c3e4969a9);\n",
       "        \n",
       "    \n",
       "            marker_fee2d824849f865aed8c89620648f632.bindTooltip(\n",
       "                `&lt;div&gt;\n",
       "                     10歳代\n",
       "                 &lt;/div&gt;`,\n",
       "                {&quot;sticky&quot;: true}\n",
       "            );\n",
       "        \n",
       "    \n",
       "            var marker_550d89140b0ac7bf79b0919756fc2075 = L.marker(\n",
       "                [35.891659, 139.953995],\n",
       "                {}\n",
       "            ).addTo(marker_cluster_ca9729af56ef1211549dec8c3e4969a9);\n",
       "        \n",
       "    \n",
       "            marker_550d89140b0ac7bf79b0919756fc2075.bindTooltip(\n",
       "                `&lt;div&gt;\n",
       "                     20歳代\n",
       "                 &lt;/div&gt;`,\n",
       "                {&quot;sticky&quot;: true}\n",
       "            );\n",
       "        \n",
       "    \n",
       "            var marker_571f05f8b25315cff9a456a391c09d17 = L.marker(\n",
       "                [35.891659, 139.953995],\n",
       "                {}\n",
       "            ).addTo(marker_cluster_ca9729af56ef1211549dec8c3e4969a9);\n",
       "        \n",
       "    \n",
       "            marker_571f05f8b25315cff9a456a391c09d17.bindTooltip(\n",
       "                `&lt;div&gt;\n",
       "                     40歳代\n",
       "                 &lt;/div&gt;`,\n",
       "                {&quot;sticky&quot;: true}\n",
       "            );\n",
       "        \n",
       "    \n",
       "            var marker_6d734b708d776f32c50c1d68845de791 = L.marker(\n",
       "                [35.891659, 139.953995],\n",
       "                {}\n",
       "            ).addTo(marker_cluster_ca9729af56ef1211549dec8c3e4969a9);\n",
       "        \n",
       "    \n",
       "            marker_6d734b708d776f32c50c1d68845de791.bindTooltip(\n",
       "                `&lt;div&gt;\n",
       "                     10歳代\n",
       "                 &lt;/div&gt;`,\n",
       "                {&quot;sticky&quot;: true}\n",
       "            );\n",
       "        \n",
       "    \n",
       "            var marker_0ab63c8cc4f14b95c652efa12fb2b73e = L.marker(\n",
       "                [35.891659, 139.953995],\n",
       "                {}\n",
       "            ).addTo(marker_cluster_ca9729af56ef1211549dec8c3e4969a9);\n",
       "        \n",
       "    \n",
       "            marker_0ab63c8cc4f14b95c652efa12fb2b73e.bindTooltip(\n",
       "                `&lt;div&gt;\n",
       "                     10歳代\n",
       "                 &lt;/div&gt;`,\n",
       "                {&quot;sticky&quot;: true}\n",
       "            );\n",
       "        \n",
       "    \n",
       "            var marker_dcf58c05b1aabf498f8ffefa999f2fb6 = L.marker(\n",
       "                [35.891659, 139.953995],\n",
       "                {}\n",
       "            ).addTo(marker_cluster_ca9729af56ef1211549dec8c3e4969a9);\n",
       "        \n",
       "    \n",
       "            marker_dcf58c05b1aabf498f8ffefa999f2fb6.bindTooltip(\n",
       "                `&lt;div&gt;\n",
       "                     30歳代\n",
       "                 &lt;/div&gt;`,\n",
       "                {&quot;sticky&quot;: true}\n",
       "            );\n",
       "        \n",
       "    \n",
       "            var marker_c38bc7dc8df3d46efd14d02ad27c3af0 = L.marker(\n",
       "                [35.891659, 139.953995],\n",
       "                {}\n",
       "            ).addTo(marker_cluster_ca9729af56ef1211549dec8c3e4969a9);\n",
       "        \n",
       "    \n",
       "            marker_c38bc7dc8df3d46efd14d02ad27c3af0.bindTooltip(\n",
       "                `&lt;div&gt;\n",
       "                     20歳代\n",
       "                 &lt;/div&gt;`,\n",
       "                {&quot;sticky&quot;: true}\n",
       "            );\n",
       "        \n",
       "    \n",
       "            var marker_cb179bb1d51487130f8d53fe2ab68f75 = L.marker(\n",
       "                [35.891659, 139.953995],\n",
       "                {}\n",
       "            ).addTo(marker_cluster_ca9729af56ef1211549dec8c3e4969a9);\n",
       "        \n",
       "    \n",
       "            marker_cb179bb1d51487130f8d53fe2ab68f75.bindTooltip(\n",
       "                `&lt;div&gt;\n",
       "                     10歳代\n",
       "                 &lt;/div&gt;`,\n",
       "                {&quot;sticky&quot;: true}\n",
       "            );\n",
       "        \n",
       "    \n",
       "            var marker_c723e76664bfbdcd774d5a77534e8876 = L.marker(\n",
       "                [35.891659, 139.953995],\n",
       "                {}\n",
       "            ).addTo(marker_cluster_ca9729af56ef1211549dec8c3e4969a9);\n",
       "        \n",
       "    \n",
       "            marker_c723e76664bfbdcd774d5a77534e8876.bindTooltip(\n",
       "                `&lt;div&gt;\n",
       "                     20歳代\n",
       "                 &lt;/div&gt;`,\n",
       "                {&quot;sticky&quot;: true}\n",
       "            );\n",
       "        \n",
       "    \n",
       "            var marker_9ee971e6c250c7f961f81854646bd17a = L.marker(\n",
       "                [35.891659, 139.953995],\n",
       "                {}\n",
       "            ).addTo(marker_cluster_ca9729af56ef1211549dec8c3e4969a9);\n",
       "        \n",
       "    \n",
       "            marker_9ee971e6c250c7f961f81854646bd17a.bindTooltip(\n",
       "                `&lt;div&gt;\n",
       "                     40歳代\n",
       "                 &lt;/div&gt;`,\n",
       "                {&quot;sticky&quot;: true}\n",
       "            );\n",
       "        \n",
       "    \n",
       "            var marker_6b611f1887efd785d2bc5c607562847c = L.marker(\n",
       "                [35.891659, 139.953995],\n",
       "                {}\n",
       "            ).addTo(marker_cluster_ca9729af56ef1211549dec8c3e4969a9);\n",
       "        \n",
       "    \n",
       "            marker_6b611f1887efd785d2bc5c607562847c.bindTooltip(\n",
       "                `&lt;div&gt;\n",
       "                     10歳代\n",
       "                 &lt;/div&gt;`,\n",
       "                {&quot;sticky&quot;: true}\n",
       "            );\n",
       "        \n",
       "    \n",
       "            var marker_d4b501c78fb885b61c8142b799c17fb3 = L.marker(\n",
       "                [35.891659, 139.953995],\n",
       "                {}\n",
       "            ).addTo(marker_cluster_ca9729af56ef1211549dec8c3e4969a9);\n",
       "        \n",
       "    \n",
       "            marker_d4b501c78fb885b61c8142b799c17fb3.bindTooltip(\n",
       "                `&lt;div&gt;\n",
       "                     10歳代\n",
       "                 &lt;/div&gt;`,\n",
       "                {&quot;sticky&quot;: true}\n",
       "            );\n",
       "        \n",
       "    \n",
       "            var marker_789b55260cec34c6509625d641258af0 = L.marker(\n",
       "                [35.891659, 139.953995],\n",
       "                {}\n",
       "            ).addTo(marker_cluster_ca9729af56ef1211549dec8c3e4969a9);\n",
       "        \n",
       "    \n",
       "            marker_789b55260cec34c6509625d641258af0.bindTooltip(\n",
       "                `&lt;div&gt;\n",
       "                     40歳代\n",
       "                 &lt;/div&gt;`,\n",
       "                {&quot;sticky&quot;: true}\n",
       "            );\n",
       "        \n",
       "    \n",
       "            var marker_9575da4e4993eaa09308f0e727d6448c = L.marker(\n",
       "                [35.891659, 139.953995],\n",
       "                {}\n",
       "            ).addTo(marker_cluster_ca9729af56ef1211549dec8c3e4969a9);\n",
       "        \n",
       "    \n",
       "            marker_9575da4e4993eaa09308f0e727d6448c.bindTooltip(\n",
       "                `&lt;div&gt;\n",
       "                     20歳代\n",
       "                 &lt;/div&gt;`,\n",
       "                {&quot;sticky&quot;: true}\n",
       "            );\n",
       "        \n",
       "    \n",
       "            var marker_b1cd1f65024e399e9e83efae335900eb = L.marker(\n",
       "                [35.891659, 139.953995],\n",
       "                {}\n",
       "            ).addTo(marker_cluster_ca9729af56ef1211549dec8c3e4969a9);\n",
       "        \n",
       "    \n",
       "            marker_b1cd1f65024e399e9e83efae335900eb.bindTooltip(\n",
       "                `&lt;div&gt;\n",
       "                     10歳代\n",
       "                 &lt;/div&gt;`,\n",
       "                {&quot;sticky&quot;: true}\n",
       "            );\n",
       "        \n",
       "    \n",
       "            var marker_e18a770c856fbf98b9255c9a94464691 = L.marker(\n",
       "                [35.891659, 139.953995],\n",
       "                {}\n",
       "            ).addTo(marker_cluster_ca9729af56ef1211549dec8c3e4969a9);\n",
       "        \n",
       "    \n",
       "            marker_e18a770c856fbf98b9255c9a94464691.bindTooltip(\n",
       "                `&lt;div&gt;\n",
       "                     20歳代\n",
       "                 &lt;/div&gt;`,\n",
       "                {&quot;sticky&quot;: true}\n",
       "            );\n",
       "        \n",
       "    \n",
       "            var marker_fa196a8e0e1e52f91d95f70bd804e7a5 = L.marker(\n",
       "                [35.891659, 139.953995],\n",
       "                {}\n",
       "            ).addTo(marker_cluster_ca9729af56ef1211549dec8c3e4969a9);\n",
       "        \n",
       "    \n",
       "            marker_fa196a8e0e1e52f91d95f70bd804e7a5.bindTooltip(\n",
       "                `&lt;div&gt;\n",
       "                     20歳代\n",
       "                 &lt;/div&gt;`,\n",
       "                {&quot;sticky&quot;: true}\n",
       "            );\n",
       "        \n",
       "    \n",
       "            var marker_1b0284c49100ca11e259f2c5847d7ebb = L.marker(\n",
       "                [35.896427, 139.937088],\n",
       "                {}\n",
       "            ).addTo(marker_cluster_ca9729af56ef1211549dec8c3e4969a9);\n",
       "        \n",
       "    \n",
       "            marker_1b0284c49100ca11e259f2c5847d7ebb.bindTooltip(\n",
       "                `&lt;div&gt;\n",
       "                     30歳代\n",
       "                 &lt;/div&gt;`,\n",
       "                {&quot;sticky&quot;: true}\n",
       "            );\n",
       "        \n",
       "    \n",
       "            var marker_f7b262469462763956e909fb9fb90293 = L.marker(\n",
       "                [35.896942, 139.944931],\n",
       "                {}\n",
       "            ).addTo(marker_cluster_ca9729af56ef1211549dec8c3e4969a9);\n",
       "        \n",
       "    \n",
       "            marker_f7b262469462763956e909fb9fb90293.bindTooltip(\n",
       "                `&lt;div&gt;\n",
       "                     20歳代\n",
       "                 &lt;/div&gt;`,\n",
       "                {&quot;sticky&quot;: true}\n",
       "            );\n",
       "        \n",
       "    \n",
       "            var marker_16d75649094205b9e5b6a5eec0b3e8e7 = L.marker(\n",
       "                [35.857388, 139.97847],\n",
       "                {}\n",
       "            ).addTo(marker_cluster_ca9729af56ef1211549dec8c3e4969a9);\n",
       "        \n",
       "    \n",
       "            marker_16d75649094205b9e5b6a5eec0b3e8e7.bindTooltip(\n",
       "                `&lt;div&gt;\n",
       "                     20歳代\n",
       "                 &lt;/div&gt;`,\n",
       "                {&quot;sticky&quot;: true}\n",
       "            );\n",
       "        \n",
       "    \n",
       "            var marker_979df66664f2d60c1dd8dc910196c29e = L.marker(\n",
       "                [35.859604, 139.977722],\n",
       "                {}\n",
       "            ).addTo(marker_cluster_ca9729af56ef1211549dec8c3e4969a9);\n",
       "        \n",
       "    \n",
       "            marker_979df66664f2d60c1dd8dc910196c29e.bindTooltip(\n",
       "                `&lt;div&gt;\n",
       "                     30歳代\n",
       "                 &lt;/div&gt;`,\n",
       "                {&quot;sticky&quot;: true}\n",
       "            );\n",
       "        \n",
       "    \n",
       "            var marker_57da86fa92c53c91447f1972dc6bab48 = L.marker(\n",
       "                [35.859604, 139.977722],\n",
       "                {}\n",
       "            ).addTo(marker_cluster_ca9729af56ef1211549dec8c3e4969a9);\n",
       "        \n",
       "    \n",
       "            marker_57da86fa92c53c91447f1972dc6bab48.bindTooltip(\n",
       "                `&lt;div&gt;\n",
       "                     20歳代\n",
       "                 &lt;/div&gt;`,\n",
       "                {&quot;sticky&quot;: true}\n",
       "            );\n",
       "        \n",
       "    \n",
       "            var marker_a2979d8cbc2aa36f2683c045adf71cb8 = L.marker(\n",
       "                [35.856449, 139.967957],\n",
       "                {}\n",
       "            ).addTo(marker_cluster_ca9729af56ef1211549dec8c3e4969a9);\n",
       "        \n",
       "    \n",
       "            marker_a2979d8cbc2aa36f2683c045adf71cb8.bindTooltip(\n",
       "                `&lt;div&gt;\n",
       "                     10歳代\n",
       "                 &lt;/div&gt;`,\n",
       "                {&quot;sticky&quot;: true}\n",
       "            );\n",
       "        \n",
       "    \n",
       "            var marker_bf4825de048867d3ff7c801aceddb1e0 = L.marker(\n",
       "                [35.856449, 139.967957],\n",
       "                {}\n",
       "            ).addTo(marker_cluster_ca9729af56ef1211549dec8c3e4969a9);\n",
       "        \n",
       "    \n",
       "            marker_bf4825de048867d3ff7c801aceddb1e0.bindTooltip(\n",
       "                `&lt;div&gt;\n",
       "                     10歳代\n",
       "                 &lt;/div&gt;`,\n",
       "                {&quot;sticky&quot;: true}\n",
       "            );\n",
       "        \n",
       "    \n",
       "            var marker_780be664b09273ef436d48ae439a068b = L.marker(\n",
       "                [35.856449, 139.967957],\n",
       "                {}\n",
       "            ).addTo(marker_cluster_ca9729af56ef1211549dec8c3e4969a9);\n",
       "        \n",
       "    \n",
       "            marker_780be664b09273ef436d48ae439a068b.bindTooltip(\n",
       "                `&lt;div&gt;\n",
       "                     10歳代\n",
       "                 &lt;/div&gt;`,\n",
       "                {&quot;sticky&quot;: true}\n",
       "            );\n",
       "        \n",
       "    \n",
       "            var marker_5f57c98c753098d32185696b6b765ac8 = L.marker(\n",
       "                [35.856449, 139.967957],\n",
       "                {}\n",
       "            ).addTo(marker_cluster_ca9729af56ef1211549dec8c3e4969a9);\n",
       "        \n",
       "    \n",
       "            marker_5f57c98c753098d32185696b6b765ac8.bindTooltip(\n",
       "                `&lt;div&gt;\n",
       "                     10歳代\n",
       "                 &lt;/div&gt;`,\n",
       "                {&quot;sticky&quot;: true}\n",
       "            );\n",
       "        \n",
       "    \n",
       "            var marker_1a68db7df9624a9dff73affb6650bad6 = L.marker(\n",
       "                [35.864445, 139.986511],\n",
       "                {}\n",
       "            ).addTo(marker_cluster_ca9729af56ef1211549dec8c3e4969a9);\n",
       "        \n",
       "    \n",
       "            marker_1a68db7df9624a9dff73affb6650bad6.bindTooltip(\n",
       "                `&lt;div&gt;\n",
       "                     40歳代\n",
       "                 &lt;/div&gt;`,\n",
       "                {&quot;sticky&quot;: true}\n",
       "            );\n",
       "        \n",
       "    \n",
       "            var marker_e88719f497629eab3950536e8f88e39e = L.marker(\n",
       "                [35.864445, 139.986511],\n",
       "                {}\n",
       "            ).addTo(marker_cluster_ca9729af56ef1211549dec8c3e4969a9);\n",
       "        \n",
       "    \n",
       "            marker_e88719f497629eab3950536e8f88e39e.bindTooltip(\n",
       "                `&lt;div&gt;\n",
       "                     10歳代\n",
       "                 &lt;/div&gt;`,\n",
       "                {&quot;sticky&quot;: true}\n",
       "            );\n",
       "        \n",
       "    \n",
       "            var marker_1962401d9466b091985e7ce476f87322 = L.marker(\n",
       "                [35.864445, 139.986511],\n",
       "                {}\n",
       "            ).addTo(marker_cluster_ca9729af56ef1211549dec8c3e4969a9);\n",
       "        \n",
       "    \n",
       "            marker_1962401d9466b091985e7ce476f87322.bindTooltip(\n",
       "                `&lt;div&gt;\n",
       "                     10歳代\n",
       "                 &lt;/div&gt;`,\n",
       "                {&quot;sticky&quot;: true}\n",
       "            );\n",
       "        \n",
       "    \n",
       "            var marker_e6b2177cf82bdb007e7e3cb7e9fb899a = L.marker(\n",
       "                [35.864445, 139.986511],\n",
       "                {}\n",
       "            ).addTo(marker_cluster_ca9729af56ef1211549dec8c3e4969a9);\n",
       "        \n",
       "    \n",
       "            marker_e6b2177cf82bdb007e7e3cb7e9fb899a.bindTooltip(\n",
       "                `&lt;div&gt;\n",
       "                     10歳代\n",
       "                 &lt;/div&gt;`,\n",
       "                {&quot;sticky&quot;: true}\n",
       "            );\n",
       "        \n",
       "    \n",
       "            var marker_0369fef39e4112942710223774de6317 = L.marker(\n",
       "                [35.864445, 139.986511],\n",
       "                {}\n",
       "            ).addTo(marker_cluster_ca9729af56ef1211549dec8c3e4969a9);\n",
       "        \n",
       "    \n",
       "            marker_0369fef39e4112942710223774de6317.bindTooltip(\n",
       "                `&lt;div&gt;\n",
       "                     10歳代\n",
       "                 &lt;/div&gt;`,\n",
       "                {&quot;sticky&quot;: true}\n",
       "            );\n",
       "        \n",
       "    \n",
       "            var marker_5679ea0519f83d3d2213e0a26ce8a448 = L.marker(\n",
       "                [35.864445, 139.986511],\n",
       "                {}\n",
       "            ).addTo(marker_cluster_ca9729af56ef1211549dec8c3e4969a9);\n",
       "        \n",
       "    \n",
       "            marker_5679ea0519f83d3d2213e0a26ce8a448.bindTooltip(\n",
       "                `&lt;div&gt;\n",
       "                     20歳代\n",
       "                 &lt;/div&gt;`,\n",
       "                {&quot;sticky&quot;: true}\n",
       "            );\n",
       "        \n",
       "    \n",
       "            var marker_44ecd9ccc7cc8da4a8f363ea81340897 = L.marker(\n",
       "                [35.861809, 139.97142],\n",
       "                {}\n",
       "            ).addTo(marker_cluster_ca9729af56ef1211549dec8c3e4969a9);\n",
       "        \n",
       "    \n",
       "            marker_44ecd9ccc7cc8da4a8f363ea81340897.bindTooltip(\n",
       "                `&lt;div&gt;\n",
       "                     40歳代\n",
       "                 &lt;/div&gt;`,\n",
       "                {&quot;sticky&quot;: true}\n",
       "            );\n",
       "        \n",
       "    \n",
       "            var marker_fe2ae6cc54c0c3e73e7d6c3bfa91fd1f = L.marker(\n",
       "                [35.861809, 139.97142],\n",
       "                {}\n",
       "            ).addTo(marker_cluster_ca9729af56ef1211549dec8c3e4969a9);\n",
       "        \n",
       "    \n",
       "            marker_fe2ae6cc54c0c3e73e7d6c3bfa91fd1f.bindTooltip(\n",
       "                `&lt;div&gt;\n",
       "                     30歳代\n",
       "                 &lt;/div&gt;`,\n",
       "                {&quot;sticky&quot;: true}\n",
       "            );\n",
       "        \n",
       "    \n",
       "            var marker_fa8ce69801235875acc629b6fd13c1ec = L.marker(\n",
       "                [35.861809, 139.97142],\n",
       "                {}\n",
       "            ).addTo(marker_cluster_ca9729af56ef1211549dec8c3e4969a9);\n",
       "        \n",
       "    \n",
       "            marker_fa8ce69801235875acc629b6fd13c1ec.bindTooltip(\n",
       "                `&lt;div&gt;\n",
       "                     20歳代\n",
       "                 &lt;/div&gt;`,\n",
       "                {&quot;sticky&quot;: true}\n",
       "            );\n",
       "        \n",
       "    \n",
       "            var marker_cc24e65a49b663db3a29bf1b3d2058f4 = L.marker(\n",
       "                [35.861809, 139.97142],\n",
       "                {}\n",
       "            ).addTo(marker_cluster_ca9729af56ef1211549dec8c3e4969a9);\n",
       "        \n",
       "    \n",
       "            marker_cc24e65a49b663db3a29bf1b3d2058f4.bindTooltip(\n",
       "                `&lt;div&gt;\n",
       "                     30歳代\n",
       "                 &lt;/div&gt;`,\n",
       "                {&quot;sticky&quot;: true}\n",
       "            );\n",
       "        \n",
       "    \n",
       "            var marker_41e3148e5c4ddc8dbce2f2c2677d9142 = L.marker(\n",
       "                [35.861809, 139.97142],\n",
       "                {}\n",
       "            ).addTo(marker_cluster_ca9729af56ef1211549dec8c3e4969a9);\n",
       "        \n",
       "    \n",
       "            marker_41e3148e5c4ddc8dbce2f2c2677d9142.bindTooltip(\n",
       "                `&lt;div&gt;\n",
       "                     40歳代\n",
       "                 &lt;/div&gt;`,\n",
       "                {&quot;sticky&quot;: true}\n",
       "            );\n",
       "        \n",
       "    \n",
       "            var marker_59db163da865aa9af84efbf9e195e0e6 = L.marker(\n",
       "                [35.861809, 139.97142],\n",
       "                {}\n",
       "            ).addTo(marker_cluster_ca9729af56ef1211549dec8c3e4969a9);\n",
       "        \n",
       "    \n",
       "            marker_59db163da865aa9af84efbf9e195e0e6.bindTooltip(\n",
       "                `&lt;div&gt;\n",
       "                     60-64歳\n",
       "                 &lt;/div&gt;`,\n",
       "                {&quot;sticky&quot;: true}\n",
       "            );\n",
       "        \n",
       "    \n",
       "            var marker_1432ad60e5173d30dcc490bd5c529ace = L.marker(\n",
       "                [35.861809, 139.97142],\n",
       "                {}\n",
       "            ).addTo(marker_cluster_ca9729af56ef1211549dec8c3e4969a9);\n",
       "        \n",
       "    \n",
       "            marker_1432ad60e5173d30dcc490bd5c529ace.bindTooltip(\n",
       "                `&lt;div&gt;\n",
       "                     10歳代\n",
       "                 &lt;/div&gt;`,\n",
       "                {&quot;sticky&quot;: true}\n",
       "            );\n",
       "        \n",
       "    \n",
       "            var marker_aeb5e371277b80d109871b6fb7ad86be = L.marker(\n",
       "                [35.861809, 139.97142],\n",
       "                {}\n",
       "            ).addTo(marker_cluster_ca9729af56ef1211549dec8c3e4969a9);\n",
       "        \n",
       "    \n",
       "            marker_aeb5e371277b80d109871b6fb7ad86be.bindTooltip(\n",
       "                `&lt;div&gt;\n",
       "                     20歳代\n",
       "                 &lt;/div&gt;`,\n",
       "                {&quot;sticky&quot;: true}\n",
       "            );\n",
       "        \n",
       "    \n",
       "            var marker_19583915ee512f340ba498af45b23ab6 = L.marker(\n",
       "                [35.861809, 139.97142],\n",
       "                {}\n",
       "            ).addTo(marker_cluster_ca9729af56ef1211549dec8c3e4969a9);\n",
       "        \n",
       "    \n",
       "            marker_19583915ee512f340ba498af45b23ab6.bindTooltip(\n",
       "                `&lt;div&gt;\n",
       "                     20歳代\n",
       "                 &lt;/div&gt;`,\n",
       "                {&quot;sticky&quot;: true}\n",
       "            );\n",
       "        \n",
       "    \n",
       "            var marker_c6ab1dfc61e050a8886de832a9b492e6 = L.marker(\n",
       "                [35.861809, 139.97142],\n",
       "                {}\n",
       "            ).addTo(marker_cluster_ca9729af56ef1211549dec8c3e4969a9);\n",
       "        \n",
       "    \n",
       "            marker_c6ab1dfc61e050a8886de832a9b492e6.bindTooltip(\n",
       "                `&lt;div&gt;\n",
       "                     30歳代\n",
       "                 &lt;/div&gt;`,\n",
       "                {&quot;sticky&quot;: true}\n",
       "            );\n",
       "        \n",
       "    \n",
       "            var marker_91f1e6a1d0f5905f54dab9b010ddff7d = L.marker(\n",
       "                [35.861809, 139.97142],\n",
       "                {}\n",
       "            ).addTo(marker_cluster_ca9729af56ef1211549dec8c3e4969a9);\n",
       "        \n",
       "    \n",
       "            marker_91f1e6a1d0f5905f54dab9b010ddff7d.bindTooltip(\n",
       "                `&lt;div&gt;\n",
       "                     20歳代\n",
       "                 &lt;/div&gt;`,\n",
       "                {&quot;sticky&quot;: true}\n",
       "            );\n",
       "        \n",
       "    \n",
       "            var marker_705f69a0933098f5936da359b0ac041f = L.marker(\n",
       "                [35.861809, 139.97142],\n",
       "                {}\n",
       "            ).addTo(marker_cluster_ca9729af56ef1211549dec8c3e4969a9);\n",
       "        \n",
       "    \n",
       "            marker_705f69a0933098f5936da359b0ac041f.bindTooltip(\n",
       "                `&lt;div&gt;\n",
       "                     70歳以上\n",
       "                 &lt;/div&gt;`,\n",
       "                {&quot;sticky&quot;: true}\n",
       "            );\n",
       "        \n",
       "    \n",
       "            var marker_9ef383d4b53aab471482edd8f0cd7489 = L.marker(\n",
       "                [35.861694, 139.973999],\n",
       "                {}\n",
       "            ).addTo(marker_cluster_ca9729af56ef1211549dec8c3e4969a9);\n",
       "        \n",
       "    \n",
       "            marker_9ef383d4b53aab471482edd8f0cd7489.bindTooltip(\n",
       "                `&lt;div&gt;\n",
       "                     70歳以上\n",
       "                 &lt;/div&gt;`,\n",
       "                {&quot;sticky&quot;: true}\n",
       "            );\n",
       "        \n",
       "    \n",
       "            var marker_b0ea1d55b56b8113455d434590e79607 = L.marker(\n",
       "                [35.861694, 139.973999],\n",
       "                {}\n",
       "            ).addTo(marker_cluster_ca9729af56ef1211549dec8c3e4969a9);\n",
       "        \n",
       "    \n",
       "            marker_b0ea1d55b56b8113455d434590e79607.bindTooltip(\n",
       "                `&lt;div&gt;\n",
       "                     20歳代\n",
       "                 &lt;/div&gt;`,\n",
       "                {&quot;sticky&quot;: true}\n",
       "            );\n",
       "        \n",
       "    \n",
       "            var marker_621d190034a5995e94fa022778b6819c = L.marker(\n",
       "                [35.861694, 139.973999],\n",
       "                {}\n",
       "            ).addTo(marker_cluster_ca9729af56ef1211549dec8c3e4969a9);\n",
       "        \n",
       "    \n",
       "            marker_621d190034a5995e94fa022778b6819c.bindTooltip(\n",
       "                `&lt;div&gt;\n",
       "                     20歳代\n",
       "                 &lt;/div&gt;`,\n",
       "                {&quot;sticky&quot;: true}\n",
       "            );\n",
       "        \n",
       "    \n",
       "            var marker_a369264855dd896ab93a9565250c3087 = L.marker(\n",
       "                [35.861694, 139.973999],\n",
       "                {}\n",
       "            ).addTo(marker_cluster_ca9729af56ef1211549dec8c3e4969a9);\n",
       "        \n",
       "    \n",
       "            marker_a369264855dd896ab93a9565250c3087.bindTooltip(\n",
       "                `&lt;div&gt;\n",
       "                     30歳代\n",
       "                 &lt;/div&gt;`,\n",
       "                {&quot;sticky&quot;: true}\n",
       "            );\n",
       "        \n",
       "    \n",
       "            var marker_3f40aa1187778f4010d7217152777d74 = L.marker(\n",
       "                [35.861694, 139.973999],\n",
       "                {}\n",
       "            ).addTo(marker_cluster_ca9729af56ef1211549dec8c3e4969a9);\n",
       "        \n",
       "    \n",
       "            marker_3f40aa1187778f4010d7217152777d74.bindTooltip(\n",
       "                `&lt;div&gt;\n",
       "                     30歳代\n",
       "                 &lt;/div&gt;`,\n",
       "                {&quot;sticky&quot;: true}\n",
       "            );\n",
       "        \n",
       "    \n",
       "            var marker_37cd49aecad7ccb1c12e85378db03546 = L.marker(\n",
       "                [35.861694, 139.973999],\n",
       "                {}\n",
       "            ).addTo(marker_cluster_ca9729af56ef1211549dec8c3e4969a9);\n",
       "        \n",
       "    \n",
       "            marker_37cd49aecad7ccb1c12e85378db03546.bindTooltip(\n",
       "                `&lt;div&gt;\n",
       "                     20歳代\n",
       "                 &lt;/div&gt;`,\n",
       "                {&quot;sticky&quot;: true}\n",
       "            );\n",
       "        \n",
       "    \n",
       "            var marker_c086b076e297a5fe37fb1f1add3f42bc = L.marker(\n",
       "                [35.860302, 139.975159],\n",
       "                {}\n",
       "            ).addTo(marker_cluster_ca9729af56ef1211549dec8c3e4969a9);\n",
       "        \n",
       "    \n",
       "            marker_c086b076e297a5fe37fb1f1add3f42bc.bindTooltip(\n",
       "                `&lt;div&gt;\n",
       "                     70歳以上\n",
       "                 &lt;/div&gt;`,\n",
       "                {&quot;sticky&quot;: true}\n",
       "            );\n",
       "        \n",
       "    \n",
       "            var marker_c35d5cb5d286eb1bff1c41e782fd2ee4 = L.marker(\n",
       "                [35.860302, 139.975159],\n",
       "                {}\n",
       "            ).addTo(marker_cluster_ca9729af56ef1211549dec8c3e4969a9);\n",
       "        \n",
       "    \n",
       "            marker_c35d5cb5d286eb1bff1c41e782fd2ee4.bindTooltip(\n",
       "                `&lt;div&gt;\n",
       "                     20歳代\n",
       "                 &lt;/div&gt;`,\n",
       "                {&quot;sticky&quot;: true}\n",
       "            );\n",
       "        \n",
       "    \n",
       "            var marker_b7502ea2c79cf0b6cc5bba841dacb54b = L.marker(\n",
       "                [35.860302, 139.975159],\n",
       "                {}\n",
       "            ).addTo(marker_cluster_ca9729af56ef1211549dec8c3e4969a9);\n",
       "        \n",
       "    \n",
       "            marker_b7502ea2c79cf0b6cc5bba841dacb54b.bindTooltip(\n",
       "                `&lt;div&gt;\n",
       "                     10歳代\n",
       "                 &lt;/div&gt;`,\n",
       "                {&quot;sticky&quot;: true}\n",
       "            );\n",
       "        \n",
       "    \n",
       "            var marker_b3410a2d9d10fd34b6072d70ade08557 = L.marker(\n",
       "                [35.860302, 139.975159],\n",
       "                {}\n",
       "            ).addTo(marker_cluster_ca9729af56ef1211549dec8c3e4969a9);\n",
       "        \n",
       "    \n",
       "            marker_b3410a2d9d10fd34b6072d70ade08557.bindTooltip(\n",
       "                `&lt;div&gt;\n",
       "                     20歳代\n",
       "                 &lt;/div&gt;`,\n",
       "                {&quot;sticky&quot;: true}\n",
       "            );\n",
       "        \n",
       "    \n",
       "            var marker_8f80a212792c5154497c0ef15fdfcf1d = L.marker(\n",
       "                [35.860302, 139.975159],\n",
       "                {}\n",
       "            ).addTo(marker_cluster_ca9729af56ef1211549dec8c3e4969a9);\n",
       "        \n",
       "    \n",
       "            marker_8f80a212792c5154497c0ef15fdfcf1d.bindTooltip(\n",
       "                `&lt;div&gt;\n",
       "                     30歳代\n",
       "                 &lt;/div&gt;`,\n",
       "                {&quot;sticky&quot;: true}\n",
       "            );\n",
       "        \n",
       "    \n",
       "            var marker_b427faa2f5856d61ff3ec8163949508a = L.marker(\n",
       "                [35.860302, 139.975159],\n",
       "                {}\n",
       "            ).addTo(marker_cluster_ca9729af56ef1211549dec8c3e4969a9);\n",
       "        \n",
       "    \n",
       "            marker_b427faa2f5856d61ff3ec8163949508a.bindTooltip(\n",
       "                `&lt;div&gt;\n",
       "                     20歳代\n",
       "                 &lt;/div&gt;`,\n",
       "                {&quot;sticky&quot;: true}\n",
       "            );\n",
       "        \n",
       "    \n",
       "            var marker_bd89ff7f9e444a1d80048cad0f6f7931 = L.marker(\n",
       "                [35.860302, 139.975159],\n",
       "                {}\n",
       "            ).addTo(marker_cluster_ca9729af56ef1211549dec8c3e4969a9);\n",
       "        \n",
       "    \n",
       "            marker_bd89ff7f9e444a1d80048cad0f6f7931.bindTooltip(\n",
       "                `&lt;div&gt;\n",
       "                     20歳代\n",
       "                 &lt;/div&gt;`,\n",
       "                {&quot;sticky&quot;: true}\n",
       "            );\n",
       "        \n",
       "    \n",
       "            var marker_4dfd0f7771959c1cb1d3271e06524b57 = L.marker(\n",
       "                [35.860302, 139.975159],\n",
       "                {}\n",
       "            ).addTo(marker_cluster_ca9729af56ef1211549dec8c3e4969a9);\n",
       "        \n",
       "    \n",
       "            marker_4dfd0f7771959c1cb1d3271e06524b57.bindTooltip(\n",
       "                `&lt;div&gt;\n",
       "                     60-64歳\n",
       "                 &lt;/div&gt;`,\n",
       "                {&quot;sticky&quot;: true}\n",
       "            );\n",
       "        \n",
       "    \n",
       "            var marker_1ea5c606805282706bbd09e3293671a3 = L.marker(\n",
       "                [35.863529, 139.974228],\n",
       "                {}\n",
       "            ).addTo(marker_cluster_ca9729af56ef1211549dec8c3e4969a9);\n",
       "        \n",
       "    \n",
       "            marker_1ea5c606805282706bbd09e3293671a3.bindTooltip(\n",
       "                `&lt;div&gt;\n",
       "                     20歳代\n",
       "                 &lt;/div&gt;`,\n",
       "                {&quot;sticky&quot;: true}\n",
       "            );\n",
       "        \n",
       "    \n",
       "            var marker_84cd8cf5173cf4fb1a396d79ee5ab698 = L.marker(\n",
       "                [35.863529, 139.974228],\n",
       "                {}\n",
       "            ).addTo(marker_cluster_ca9729af56ef1211549dec8c3e4969a9);\n",
       "        \n",
       "    \n",
       "            marker_84cd8cf5173cf4fb1a396d79ee5ab698.bindTooltip(\n",
       "                `&lt;div&gt;\n",
       "                     10歳代\n",
       "                 &lt;/div&gt;`,\n",
       "                {&quot;sticky&quot;: true}\n",
       "            );\n",
       "        \n",
       "    \n",
       "            var marker_17603e33f75504c4502b7f00c8445a5c = L.marker(\n",
       "                [35.863529, 139.974228],\n",
       "                {}\n",
       "            ).addTo(marker_cluster_ca9729af56ef1211549dec8c3e4969a9);\n",
       "        \n",
       "    \n",
       "            marker_17603e33f75504c4502b7f00c8445a5c.bindTooltip(\n",
       "                `&lt;div&gt;\n",
       "                     10歳代\n",
       "                 &lt;/div&gt;`,\n",
       "                {&quot;sticky&quot;: true}\n",
       "            );\n",
       "        \n",
       "    \n",
       "            var marker_2d209381a3e8d448a6605a59ec8507f1 = L.marker(\n",
       "                [35.863529, 139.974228],\n",
       "                {}\n",
       "            ).addTo(marker_cluster_ca9729af56ef1211549dec8c3e4969a9);\n",
       "        \n",
       "    \n",
       "            marker_2d209381a3e8d448a6605a59ec8507f1.bindTooltip(\n",
       "                `&lt;div&gt;\n",
       "                     50歳代\n",
       "                 &lt;/div&gt;`,\n",
       "                {&quot;sticky&quot;: true}\n",
       "            );\n",
       "        \n",
       "    \n",
       "            var marker_6116e6e0b862f6114855d998d83e5623 = L.marker(\n",
       "                [35.863529, 139.974228],\n",
       "                {}\n",
       "            ).addTo(marker_cluster_ca9729af56ef1211549dec8c3e4969a9);\n",
       "        \n",
       "    \n",
       "            marker_6116e6e0b862f6114855d998d83e5623.bindTooltip(\n",
       "                `&lt;div&gt;\n",
       "                     10歳代\n",
       "                 &lt;/div&gt;`,\n",
       "                {&quot;sticky&quot;: true}\n",
       "            );\n",
       "        \n",
       "    \n",
       "            var marker_b98e73edec3db95bff81594ba7138493 = L.marker(\n",
       "                [35.866447, 139.97612],\n",
       "                {}\n",
       "            ).addTo(marker_cluster_ca9729af56ef1211549dec8c3e4969a9);\n",
       "        \n",
       "    \n",
       "            marker_b98e73edec3db95bff81594ba7138493.bindTooltip(\n",
       "                `&lt;div&gt;\n",
       "                     10歳代\n",
       "                 &lt;/div&gt;`,\n",
       "                {&quot;sticky&quot;: true}\n",
       "            );\n",
       "        \n",
       "    \n",
       "            var marker_cf311762e6fc0aac4d219148395f7b78 = L.marker(\n",
       "                [35.866447, 139.97612],\n",
       "                {}\n",
       "            ).addTo(marker_cluster_ca9729af56ef1211549dec8c3e4969a9);\n",
       "        \n",
       "    \n",
       "            marker_cf311762e6fc0aac4d219148395f7b78.bindTooltip(\n",
       "                `&lt;div&gt;\n",
       "                     10歳代\n",
       "                 &lt;/div&gt;`,\n",
       "                {&quot;sticky&quot;: true}\n",
       "            );\n",
       "        \n",
       "    \n",
       "            var marker_f440ee83d49ed4a898c479723acc4c67 = L.marker(\n",
       "                [35.866447, 139.97612],\n",
       "                {}\n",
       "            ).addTo(marker_cluster_ca9729af56ef1211549dec8c3e4969a9);\n",
       "        \n",
       "    \n",
       "            marker_f440ee83d49ed4a898c479723acc4c67.bindTooltip(\n",
       "                `&lt;div&gt;\n",
       "                     10歳代\n",
       "                 &lt;/div&gt;`,\n",
       "                {&quot;sticky&quot;: true}\n",
       "            );\n",
       "        \n",
       "    \n",
       "            var marker_be81ec6066acd466a6892ee84f8db31e = L.marker(\n",
       "                [35.866447, 139.97612],\n",
       "                {}\n",
       "            ).addTo(marker_cluster_ca9729af56ef1211549dec8c3e4969a9);\n",
       "        \n",
       "    \n",
       "            marker_be81ec6066acd466a6892ee84f8db31e.bindTooltip(\n",
       "                `&lt;div&gt;\n",
       "                     10歳代\n",
       "                 &lt;/div&gt;`,\n",
       "                {&quot;sticky&quot;: true}\n",
       "            );\n",
       "        \n",
       "    \n",
       "            var marker_08d64eb8ffd1d6e564a115a041588dba = L.marker(\n",
       "                [35.866447, 139.97612],\n",
       "                {}\n",
       "            ).addTo(marker_cluster_ca9729af56ef1211549dec8c3e4969a9);\n",
       "        \n",
       "    \n",
       "            marker_08d64eb8ffd1d6e564a115a041588dba.bindTooltip(\n",
       "                `&lt;div&gt;\n",
       "                     20歳代\n",
       "                 &lt;/div&gt;`,\n",
       "                {&quot;sticky&quot;: true}\n",
       "            );\n",
       "        \n",
       "    \n",
       "            var marker_5bf785a8b687dd2f72d683ffc6dba8e8 = L.marker(\n",
       "                [35.866447, 139.97612],\n",
       "                {}\n",
       "            ).addTo(marker_cluster_ca9729af56ef1211549dec8c3e4969a9);\n",
       "        \n",
       "    \n",
       "            marker_5bf785a8b687dd2f72d683ffc6dba8e8.bindTooltip(\n",
       "                `&lt;div&gt;\n",
       "                     20歳代\n",
       "                 &lt;/div&gt;`,\n",
       "                {&quot;sticky&quot;: true}\n",
       "            );\n",
       "        \n",
       "    \n",
       "            var marker_b731d011f57727bc6e6179be9c519124 = L.marker(\n",
       "                [35.866447, 139.97612],\n",
       "                {}\n",
       "            ).addTo(marker_cluster_ca9729af56ef1211549dec8c3e4969a9);\n",
       "        \n",
       "    \n",
       "            marker_b731d011f57727bc6e6179be9c519124.bindTooltip(\n",
       "                `&lt;div&gt;\n",
       "                     20歳代\n",
       "                 &lt;/div&gt;`,\n",
       "                {&quot;sticky&quot;: true}\n",
       "            );\n",
       "        \n",
       "    \n",
       "            var marker_8435c9624cc551a2d10b5031c6bd2624 = L.marker(\n",
       "                [35.866447, 139.97612],\n",
       "                {}\n",
       "            ).addTo(marker_cluster_ca9729af56ef1211549dec8c3e4969a9);\n",
       "        \n",
       "    \n",
       "            marker_8435c9624cc551a2d10b5031c6bd2624.bindTooltip(\n",
       "                `&lt;div&gt;\n",
       "                     10歳代\n",
       "                 &lt;/div&gt;`,\n",
       "                {&quot;sticky&quot;: true}\n",
       "            );\n",
       "        \n",
       "    \n",
       "            var marker_46e9189412691617b61196d3b0e3ee68 = L.marker(\n",
       "                [35.866447, 139.97612],\n",
       "                {}\n",
       "            ).addTo(marker_cluster_ca9729af56ef1211549dec8c3e4969a9);\n",
       "        \n",
       "    \n",
       "            marker_46e9189412691617b61196d3b0e3ee68.bindTooltip(\n",
       "                `&lt;div&gt;\n",
       "                     20歳代\n",
       "                 &lt;/div&gt;`,\n",
       "                {&quot;sticky&quot;: true}\n",
       "            );\n",
       "        \n",
       "    \n",
       "            var marker_8619e764fca55eb8b5e79e77b0b3ec29 = L.marker(\n",
       "                [35.866447, 139.97612],\n",
       "                {}\n",
       "            ).addTo(marker_cluster_ca9729af56ef1211549dec8c3e4969a9);\n",
       "        \n",
       "    \n",
       "            marker_8619e764fca55eb8b5e79e77b0b3ec29.bindTooltip(\n",
       "                `&lt;div&gt;\n",
       "                     10歳代\n",
       "                 &lt;/div&gt;`,\n",
       "                {&quot;sticky&quot;: true}\n",
       "            );\n",
       "        \n",
       "    \n",
       "            var marker_43db12cf248c02031a43481c23b65fbd = L.marker(\n",
       "                [35.864346, 139.977219],\n",
       "                {}\n",
       "            ).addTo(marker_cluster_ca9729af56ef1211549dec8c3e4969a9);\n",
       "        \n",
       "    \n",
       "            marker_43db12cf248c02031a43481c23b65fbd.bindTooltip(\n",
       "                `&lt;div&gt;\n",
       "                     40歳代\n",
       "                 &lt;/div&gt;`,\n",
       "                {&quot;sticky&quot;: true}\n",
       "            );\n",
       "        \n",
       "    \n",
       "            var marker_53cb89b3ccaf9de9a094e7143f8b2a8f = L.marker(\n",
       "                [35.864346, 139.977219],\n",
       "                {}\n",
       "            ).addTo(marker_cluster_ca9729af56ef1211549dec8c3e4969a9);\n",
       "        \n",
       "    \n",
       "            marker_53cb89b3ccaf9de9a094e7143f8b2a8f.bindTooltip(\n",
       "                `&lt;div&gt;\n",
       "                     20歳代\n",
       "                 &lt;/div&gt;`,\n",
       "                {&quot;sticky&quot;: true}\n",
       "            );\n",
       "        \n",
       "    \n",
       "            var marker_626282d4ddc60ea92036eb3824cb5749 = L.marker(\n",
       "                [35.864346, 139.977219],\n",
       "                {}\n",
       "            ).addTo(marker_cluster_ca9729af56ef1211549dec8c3e4969a9);\n",
       "        \n",
       "    \n",
       "            marker_626282d4ddc60ea92036eb3824cb5749.bindTooltip(\n",
       "                `&lt;div&gt;\n",
       "                     40歳代\n",
       "                 &lt;/div&gt;`,\n",
       "                {&quot;sticky&quot;: true}\n",
       "            );\n",
       "        \n",
       "    \n",
       "            var marker_2405fb603d1e4b4b0b552bb656a877a6 = L.marker(\n",
       "                [35.864346, 139.977219],\n",
       "                {}\n",
       "            ).addTo(marker_cluster_ca9729af56ef1211549dec8c3e4969a9);\n",
       "        \n",
       "    \n",
       "            marker_2405fb603d1e4b4b0b552bb656a877a6.bindTooltip(\n",
       "                `&lt;div&gt;\n",
       "                     30歳代\n",
       "                 &lt;/div&gt;`,\n",
       "                {&quot;sticky&quot;: true}\n",
       "            );\n",
       "        \n",
       "    \n",
       "            var marker_fa69243e9323f2738587ed99709cfe5b = L.marker(\n",
       "                [35.862926, 139.97995],\n",
       "                {}\n",
       "            ).addTo(marker_cluster_ca9729af56ef1211549dec8c3e4969a9);\n",
       "        \n",
       "    \n",
       "            marker_fa69243e9323f2738587ed99709cfe5b.bindTooltip(\n",
       "                `&lt;div&gt;\n",
       "                     20歳代\n",
       "                 &lt;/div&gt;`,\n",
       "                {&quot;sticky&quot;: true}\n",
       "            );\n",
       "        \n",
       "    \n",
       "            var marker_628db4e69f5be0c370313fd3b2bcdc18 = L.marker(\n",
       "                [35.860554, 139.981522],\n",
       "                {}\n",
       "            ).addTo(marker_cluster_ca9729af56ef1211549dec8c3e4969a9);\n",
       "        \n",
       "    \n",
       "            marker_628db4e69f5be0c370313fd3b2bcdc18.bindTooltip(\n",
       "                `&lt;div&gt;\n",
       "                     20歳代\n",
       "                 &lt;/div&gt;`,\n",
       "                {&quot;sticky&quot;: true}\n",
       "            );\n",
       "        \n",
       "    \n",
       "            var marker_e41ba4ab6ba8ebc3fe24b108e17856b6 = L.marker(\n",
       "                [35.860554, 139.981522],\n",
       "                {}\n",
       "            ).addTo(marker_cluster_ca9729af56ef1211549dec8c3e4969a9);\n",
       "        \n",
       "    \n",
       "            marker_e41ba4ab6ba8ebc3fe24b108e17856b6.bindTooltip(\n",
       "                `&lt;div&gt;\n",
       "                     30歳代\n",
       "                 &lt;/div&gt;`,\n",
       "                {&quot;sticky&quot;: true}\n",
       "            );\n",
       "        \n",
       "    \n",
       "            var marker_89f38555d74fc54426024c8e3920ee4c = L.marker(\n",
       "                [35.862904, 139.970398],\n",
       "                {}\n",
       "            ).addTo(marker_cluster_ca9729af56ef1211549dec8c3e4969a9);\n",
       "        \n",
       "    \n",
       "            marker_89f38555d74fc54426024c8e3920ee4c.bindTooltip(\n",
       "                `&lt;div&gt;\n",
       "                     20歳代\n",
       "                 &lt;/div&gt;`,\n",
       "                {&quot;sticky&quot;: true}\n",
       "            );\n",
       "        \n",
       "    \n",
       "            var marker_5702820e407c9e780a8f39788bb0560b = L.marker(\n",
       "                [35.857903, 139.972931],\n",
       "                {}\n",
       "            ).addTo(marker_cluster_ca9729af56ef1211549dec8c3e4969a9);\n",
       "        \n",
       "    \n",
       "            marker_5702820e407c9e780a8f39788bb0560b.bindTooltip(\n",
       "                `&lt;div&gt;\n",
       "                     10歳代\n",
       "                 &lt;/div&gt;`,\n",
       "                {&quot;sticky&quot;: true}\n",
       "            );\n",
       "        \n",
       "    \n",
       "            var marker_1959605224a4f5da56202d0b70096e29 = L.marker(\n",
       "                [35.855583, 139.972137],\n",
       "                {}\n",
       "            ).addTo(marker_cluster_ca9729af56ef1211549dec8c3e4969a9);\n",
       "        \n",
       "    \n",
       "            marker_1959605224a4f5da56202d0b70096e29.bindTooltip(\n",
       "                `&lt;div&gt;\n",
       "                     20歳代\n",
       "                 &lt;/div&gt;`,\n",
       "                {&quot;sticky&quot;: true}\n",
       "            );\n",
       "        \n",
       "    \n",
       "            var marker_bdfa06bd2e217bb03c23ce3666b4c4de = L.marker(\n",
       "                [35.855583, 139.972137],\n",
       "                {}\n",
       "            ).addTo(marker_cluster_ca9729af56ef1211549dec8c3e4969a9);\n",
       "        \n",
       "    \n",
       "            marker_bdfa06bd2e217bb03c23ce3666b4c4de.bindTooltip(\n",
       "                `&lt;div&gt;\n",
       "                     10歳代\n",
       "                 &lt;/div&gt;`,\n",
       "                {&quot;sticky&quot;: true}\n",
       "            );\n",
       "        \n",
       "    \n",
       "            var marker_b2bf4da168eadaa2be484712173d7c83 = L.marker(\n",
       "                [35.855583, 139.972137],\n",
       "                {}\n",
       "            ).addTo(marker_cluster_ca9729af56ef1211549dec8c3e4969a9);\n",
       "        \n",
       "    \n",
       "            marker_b2bf4da168eadaa2be484712173d7c83.bindTooltip(\n",
       "                `&lt;div&gt;\n",
       "                     20歳代\n",
       "                 &lt;/div&gt;`,\n",
       "                {&quot;sticky&quot;: true}\n",
       "            );\n",
       "        \n",
       "    \n",
       "            var marker_9da6c5f1f65e88b8a1e22fa32e25776f = L.marker(\n",
       "                [35.855583, 139.972137],\n",
       "                {}\n",
       "            ).addTo(marker_cluster_ca9729af56ef1211549dec8c3e4969a9);\n",
       "        \n",
       "    \n",
       "            marker_9da6c5f1f65e88b8a1e22fa32e25776f.bindTooltip(\n",
       "                `&lt;div&gt;\n",
       "                     30歳代\n",
       "                 &lt;/div&gt;`,\n",
       "                {&quot;sticky&quot;: true}\n",
       "            );\n",
       "        \n",
       "    \n",
       "            var marker_f23f2a5d5984f3e4c3559e8dfbb69c3b = L.marker(\n",
       "                [35.859303, 139.970566],\n",
       "                {}\n",
       "            ).addTo(marker_cluster_ca9729af56ef1211549dec8c3e4969a9);\n",
       "        \n",
       "    \n",
       "            marker_f23f2a5d5984f3e4c3559e8dfbb69c3b.bindTooltip(\n",
       "                `&lt;div&gt;\n",
       "                     60-64歳\n",
       "                 &lt;/div&gt;`,\n",
       "                {&quot;sticky&quot;: true}\n",
       "            );\n",
       "        \n",
       "    \n",
       "            var marker_f0e8531488c767b9796ccfb00aa748dd = L.marker(\n",
       "                [35.859303, 139.970566],\n",
       "                {}\n",
       "            ).addTo(marker_cluster_ca9729af56ef1211549dec8c3e4969a9);\n",
       "        \n",
       "    \n",
       "            marker_f0e8531488c767b9796ccfb00aa748dd.bindTooltip(\n",
       "                `&lt;div&gt;\n",
       "                     30歳代\n",
       "                 &lt;/div&gt;`,\n",
       "                {&quot;sticky&quot;: true}\n",
       "            );\n",
       "        \n",
       "    \n",
       "            var marker_a7d289f03336c0bd8ae0d694a3a5faac = L.marker(\n",
       "                [35.859303, 139.970566],\n",
       "                {}\n",
       "            ).addTo(marker_cluster_ca9729af56ef1211549dec8c3e4969a9);\n",
       "        \n",
       "    \n",
       "            marker_a7d289f03336c0bd8ae0d694a3a5faac.bindTooltip(\n",
       "                `&lt;div&gt;\n",
       "                     20歳代\n",
       "                 &lt;/div&gt;`,\n",
       "                {&quot;sticky&quot;: true}\n",
       "            );\n",
       "        \n",
       "    \n",
       "            var marker_e241610edac1fed98f5a04cbf4137a37 = L.marker(\n",
       "                [35.859303, 139.970566],\n",
       "                {}\n",
       "            ).addTo(marker_cluster_ca9729af56ef1211549dec8c3e4969a9);\n",
       "        \n",
       "    \n",
       "            marker_e241610edac1fed98f5a04cbf4137a37.bindTooltip(\n",
       "                `&lt;div&gt;\n",
       "                     50歳代\n",
       "                 &lt;/div&gt;`,\n",
       "                {&quot;sticky&quot;: true}\n",
       "            );\n",
       "        \n",
       "    \n",
       "            var marker_82e820402dfd242f76f1125dafef3378 = L.marker(\n",
       "                [35.859303, 139.970566],\n",
       "                {}\n",
       "            ).addTo(marker_cluster_ca9729af56ef1211549dec8c3e4969a9);\n",
       "        \n",
       "    \n",
       "            marker_82e820402dfd242f76f1125dafef3378.bindTooltip(\n",
       "                `&lt;div&gt;\n",
       "                     30歳代\n",
       "                 &lt;/div&gt;`,\n",
       "                {&quot;sticky&quot;: true}\n",
       "            );\n",
       "        \n",
       "    \n",
       "            var marker_9d43c505222946d0db73caa017736447 = L.marker(\n",
       "                [35.859303, 139.970566],\n",
       "                {}\n",
       "            ).addTo(marker_cluster_ca9729af56ef1211549dec8c3e4969a9);\n",
       "        \n",
       "    \n",
       "            marker_9d43c505222946d0db73caa017736447.bindTooltip(\n",
       "                `&lt;div&gt;\n",
       "                     10歳代\n",
       "                 &lt;/div&gt;`,\n",
       "                {&quot;sticky&quot;: true}\n",
       "            );\n",
       "        \n",
       "    \n",
       "            var marker_f0fc352b2e4daf479c75d296d58c2e0c = L.marker(\n",
       "                [35.859303, 139.970566],\n",
       "                {}\n",
       "            ).addTo(marker_cluster_ca9729af56ef1211549dec8c3e4969a9);\n",
       "        \n",
       "    \n",
       "            marker_f0fc352b2e4daf479c75d296d58c2e0c.bindTooltip(\n",
       "                `&lt;div&gt;\n",
       "                     30歳代\n",
       "                 &lt;/div&gt;`,\n",
       "                {&quot;sticky&quot;: true}\n",
       "            );\n",
       "        \n",
       "    \n",
       "            var marker_62caf2fdfdba6bbc1cd9089dffbd21fc = L.marker(\n",
       "                [35.859303, 139.970566],\n",
       "                {}\n",
       "            ).addTo(marker_cluster_ca9729af56ef1211549dec8c3e4969a9);\n",
       "        \n",
       "    \n",
       "            marker_62caf2fdfdba6bbc1cd9089dffbd21fc.bindTooltip(\n",
       "                `&lt;div&gt;\n",
       "                     10歳代\n",
       "                 &lt;/div&gt;`,\n",
       "                {&quot;sticky&quot;: true}\n",
       "            );\n",
       "        \n",
       "    \n",
       "            var marker_4c06693d6fbb646309c4242532861522 = L.marker(\n",
       "                [35.859303, 139.970566],\n",
       "                {}\n",
       "            ).addTo(marker_cluster_ca9729af56ef1211549dec8c3e4969a9);\n",
       "        \n",
       "    \n",
       "            marker_4c06693d6fbb646309c4242532861522.bindTooltip(\n",
       "                `&lt;div&gt;\n",
       "                     30歳代\n",
       "                 &lt;/div&gt;`,\n",
       "                {&quot;sticky&quot;: true}\n",
       "            );\n",
       "        \n",
       "    \n",
       "            var marker_05795e20bf806bfb9caaced14ae71840 = L.marker(\n",
       "                [35.853264, 139.96521],\n",
       "                {}\n",
       "            ).addTo(marker_cluster_ca9729af56ef1211549dec8c3e4969a9);\n",
       "        \n",
       "    \n",
       "            marker_05795e20bf806bfb9caaced14ae71840.bindTooltip(\n",
       "                `&lt;div&gt;\n",
       "                     40歳代\n",
       "                 &lt;/div&gt;`,\n",
       "                {&quot;sticky&quot;: true}\n",
       "            );\n",
       "        \n",
       "    \n",
       "            var marker_4b47cf68f365f3abccb3a5c8aaaf69bd = L.marker(\n",
       "                [35.853264, 139.96521],\n",
       "                {}\n",
       "            ).addTo(marker_cluster_ca9729af56ef1211549dec8c3e4969a9);\n",
       "        \n",
       "    \n",
       "            marker_4b47cf68f365f3abccb3a5c8aaaf69bd.bindTooltip(\n",
       "                `&lt;div&gt;\n",
       "                     40歳代\n",
       "                 &lt;/div&gt;`,\n",
       "                {&quot;sticky&quot;: true}\n",
       "            );\n",
       "        \n",
       "    \n",
       "            var marker_3aac1ad2011ad46c2bf5195840bb5aee = L.marker(\n",
       "                [35.876255, 139.992081],\n",
       "                {}\n",
       "            ).addTo(marker_cluster_ca9729af56ef1211549dec8c3e4969a9);\n",
       "        \n",
       "    \n",
       "            marker_3aac1ad2011ad46c2bf5195840bb5aee.bindTooltip(\n",
       "                `&lt;div&gt;\n",
       "                     20歳代\n",
       "                 &lt;/div&gt;`,\n",
       "                {&quot;sticky&quot;: true}\n",
       "            );\n",
       "        \n",
       "    \n",
       "            var marker_c8b36756e9ecf7d4a9a5a01ccf41f6d7 = L.marker(\n",
       "                [35.84705, 140.034134],\n",
       "                {}\n",
       "            ).addTo(marker_cluster_ca9729af56ef1211549dec8c3e4969a9);\n",
       "        \n",
       "    \n",
       "            marker_c8b36756e9ecf7d4a9a5a01ccf41f6d7.bindTooltip(\n",
       "                `&lt;div&gt;\n",
       "                     10歳代\n",
       "                 &lt;/div&gt;`,\n",
       "                {&quot;sticky&quot;: true}\n",
       "            );\n",
       "        \n",
       "    \n",
       "            var marker_8bdee61aedccdbf79c5f6a83b66ff35e = L.marker(\n",
       "                [35.858639, 139.983749],\n",
       "                {}\n",
       "            ).addTo(marker_cluster_ca9729af56ef1211549dec8c3e4969a9);\n",
       "        \n",
       "    \n",
       "            marker_8bdee61aedccdbf79c5f6a83b66ff35e.bindTooltip(\n",
       "                `&lt;div&gt;\n",
       "                     20歳代\n",
       "                 &lt;/div&gt;`,\n",
       "                {&quot;sticky&quot;: true}\n",
       "            );\n",
       "        \n",
       "    \n",
       "            var marker_df9ee1cb74448ca235fbfdbad7145171 = L.marker(\n",
       "                [35.844578, 139.968948],\n",
       "                {}\n",
       "            ).addTo(marker_cluster_ca9729af56ef1211549dec8c3e4969a9);\n",
       "        \n",
       "    \n",
       "            marker_df9ee1cb74448ca235fbfdbad7145171.bindTooltip(\n",
       "                `&lt;div&gt;\n",
       "                     30歳代\n",
       "                 &lt;/div&gt;`,\n",
       "                {&quot;sticky&quot;: true}\n",
       "            );\n",
       "        \n",
       "    \n",
       "            var marker_2a0b086f6347ade0591c5f073ee30c39 = L.marker(\n",
       "                [35.864445, 139.986511],\n",
       "                {}\n",
       "            ).addTo(marker_cluster_ca9729af56ef1211549dec8c3e4969a9);\n",
       "        \n",
       "    \n",
       "            marker_2a0b086f6347ade0591c5f073ee30c39.bindTooltip(\n",
       "                `&lt;div&gt;\n",
       "                     30歳代\n",
       "                 &lt;/div&gt;`,\n",
       "                {&quot;sticky&quot;: true}\n",
       "            );\n",
       "        \n",
       "    \n",
       "            var marker_c87e9b23b868d1b90b62bfacf9883096 = L.marker(\n",
       "                [35.864445, 139.986511],\n",
       "                {}\n",
       "            ).addTo(marker_cluster_ca9729af56ef1211549dec8c3e4969a9);\n",
       "        \n",
       "    \n",
       "            marker_c87e9b23b868d1b90b62bfacf9883096.bindTooltip(\n",
       "                `&lt;div&gt;\n",
       "                     50歳代\n",
       "                 &lt;/div&gt;`,\n",
       "                {&quot;sticky&quot;: true}\n",
       "            );\n",
       "        \n",
       "    \n",
       "            var marker_53ea9acd5ca4f14a6fdde43a7802393d = L.marker(\n",
       "                [35.864445, 139.986511],\n",
       "                {}\n",
       "            ).addTo(marker_cluster_ca9729af56ef1211549dec8c3e4969a9);\n",
       "        \n",
       "    \n",
       "            marker_53ea9acd5ca4f14a6fdde43a7802393d.bindTooltip(\n",
       "                `&lt;div&gt;\n",
       "                     30歳代\n",
       "                 &lt;/div&gt;`,\n",
       "                {&quot;sticky&quot;: true}\n",
       "            );\n",
       "        \n",
       "    \n",
       "            var marker_c09fcdbc9912cedf07a24805a32013dd = L.marker(\n",
       "                [35.864445, 139.986511],\n",
       "                {}\n",
       "            ).addTo(marker_cluster_ca9729af56ef1211549dec8c3e4969a9);\n",
       "        \n",
       "    \n",
       "            marker_c09fcdbc9912cedf07a24805a32013dd.bindTooltip(\n",
       "                `&lt;div&gt;\n",
       "                     30歳代\n",
       "                 &lt;/div&gt;`,\n",
       "                {&quot;sticky&quot;: true}\n",
       "            );\n",
       "        \n",
       "    \n",
       "            var marker_a8f592bdcf08f83b6acf749f053286f1 = L.marker(\n",
       "                [35.860302, 139.975159],\n",
       "                {}\n",
       "            ).addTo(marker_cluster_ca9729af56ef1211549dec8c3e4969a9);\n",
       "        \n",
       "    \n",
       "            marker_a8f592bdcf08f83b6acf749f053286f1.bindTooltip(\n",
       "                `&lt;div&gt;\n",
       "                     50歳代\n",
       "                 &lt;/div&gt;`,\n",
       "                {&quot;sticky&quot;: true}\n",
       "            );\n",
       "        \n",
       "    \n",
       "            var marker_043399d0bf1821e0b64a3e37d0698392 = L.marker(\n",
       "                [35.850071, 139.983734],\n",
       "                {}\n",
       "            ).addTo(marker_cluster_ca9729af56ef1211549dec8c3e4969a9);\n",
       "        \n",
       "    \n",
       "            marker_043399d0bf1821e0b64a3e37d0698392.bindTooltip(\n",
       "                `&lt;div&gt;\n",
       "                     20歳代\n",
       "                 &lt;/div&gt;`,\n",
       "                {&quot;sticky&quot;: true}\n",
       "            );\n",
       "        \n",
       "    \n",
       "            var marker_4c0582d9c6a66259b77666743d9d51b9 = L.marker(\n",
       "                [35.850071, 139.983734],\n",
       "                {}\n",
       "            ).addTo(marker_cluster_ca9729af56ef1211549dec8c3e4969a9);\n",
       "        \n",
       "    \n",
       "            marker_4c0582d9c6a66259b77666743d9d51b9.bindTooltip(\n",
       "                `&lt;div&gt;\n",
       "                     20歳代\n",
       "                 &lt;/div&gt;`,\n",
       "                {&quot;sticky&quot;: true}\n",
       "            );\n",
       "        \n",
       "    \n",
       "            var marker_4616d9af672f0c0468d41579ba5774a9 = L.marker(\n",
       "                [35.856525, 139.976288],\n",
       "                {}\n",
       "            ).addTo(marker_cluster_ca9729af56ef1211549dec8c3e4969a9);\n",
       "        \n",
       "    \n",
       "            marker_4616d9af672f0c0468d41579ba5774a9.bindTooltip(\n",
       "                `&lt;div&gt;\n",
       "                     20歳代\n",
       "                 &lt;/div&gt;`,\n",
       "                {&quot;sticky&quot;: true}\n",
       "            );\n",
       "        \n",
       "    \n",
       "            var marker_1a90bbdbd3c260880e3071ea0e4ac683 = L.marker(\n",
       "                [35.853741, 139.975143],\n",
       "                {}\n",
       "            ).addTo(marker_cluster_ca9729af56ef1211549dec8c3e4969a9);\n",
       "        \n",
       "    \n",
       "            marker_1a90bbdbd3c260880e3071ea0e4ac683.bindTooltip(\n",
       "                `&lt;div&gt;\n",
       "                     30歳代\n",
       "                 &lt;/div&gt;`,\n",
       "                {&quot;sticky&quot;: true}\n",
       "            );\n",
       "        \n",
       "    \n",
       "            var marker_faf10771bd3abc900f0e4f4e704b42ea = L.marker(\n",
       "                [35.853741, 139.975143],\n",
       "                {}\n",
       "            ).addTo(marker_cluster_ca9729af56ef1211549dec8c3e4969a9);\n",
       "        \n",
       "    \n",
       "            marker_faf10771bd3abc900f0e4f4e704b42ea.bindTooltip(\n",
       "                `&lt;div&gt;\n",
       "                     20歳代\n",
       "                 &lt;/div&gt;`,\n",
       "                {&quot;sticky&quot;: true}\n",
       "            );\n",
       "        \n",
       "    \n",
       "            var marker_0839de9adcf51d4df1f7ef52d051d8bd = L.marker(\n",
       "                [35.853741, 139.975143],\n",
       "                {}\n",
       "            ).addTo(marker_cluster_ca9729af56ef1211549dec8c3e4969a9);\n",
       "        \n",
       "    \n",
       "            marker_0839de9adcf51d4df1f7ef52d051d8bd.bindTooltip(\n",
       "                `&lt;div&gt;\n",
       "                     10歳代\n",
       "                 &lt;/div&gt;`,\n",
       "                {&quot;sticky&quot;: true}\n",
       "            );\n",
       "        \n",
       "    \n",
       "            var marker_82317e40a941b0e86132481c193a31b9 = L.marker(\n",
       "                [35.853451, 139.977646],\n",
       "                {}\n",
       "            ).addTo(marker_cluster_ca9729af56ef1211549dec8c3e4969a9);\n",
       "        \n",
       "    \n",
       "            marker_82317e40a941b0e86132481c193a31b9.bindTooltip(\n",
       "                `&lt;div&gt;\n",
       "                     20歳代\n",
       "                 &lt;/div&gt;`,\n",
       "                {&quot;sticky&quot;: true}\n",
       "            );\n",
       "        \n",
       "    \n",
       "            var marker_cfd3d25371d106cb84c75e421f302de0 = L.marker(\n",
       "                [35.83136, 139.96756],\n",
       "                {}\n",
       "            ).addTo(marker_cluster_ca9729af56ef1211549dec8c3e4969a9);\n",
       "        \n",
       "    \n",
       "            marker_cfd3d25371d106cb84c75e421f302de0.bindTooltip(\n",
       "                `&lt;div&gt;\n",
       "                     10歳代\n",
       "                 &lt;/div&gt;`,\n",
       "                {&quot;sticky&quot;: true}\n",
       "            );\n",
       "        \n",
       "    \n",
       "            var marker_7047bbe98026b48eeb4cff9c11e305a2 = L.marker(\n",
       "                [35.856003, 139.993591],\n",
       "                {}\n",
       "            ).addTo(marker_cluster_ca9729af56ef1211549dec8c3e4969a9);\n",
       "        \n",
       "    \n",
       "            marker_7047bbe98026b48eeb4cff9c11e305a2.bindTooltip(\n",
       "                `&lt;div&gt;\n",
       "                     10歳代\n",
       "                 &lt;/div&gt;`,\n",
       "                {&quot;sticky&quot;: true}\n",
       "            );\n",
       "        \n",
       "    \n",
       "            var marker_cee4954e67119ce131b2526e5a9bfb36 = L.marker(\n",
       "                [35.856003, 139.993591],\n",
       "                {}\n",
       "            ).addTo(marker_cluster_ca9729af56ef1211549dec8c3e4969a9);\n",
       "        \n",
       "    \n",
       "            marker_cee4954e67119ce131b2526e5a9bfb36.bindTooltip(\n",
       "                `&lt;div&gt;\n",
       "                     10歳代\n",
       "                 &lt;/div&gt;`,\n",
       "                {&quot;sticky&quot;: true}\n",
       "            );\n",
       "        \n",
       "    \n",
       "            var marker_f2a925f81190ba4ff57b97b7ee2d56db = L.marker(\n",
       "                [35.856003, 139.993591],\n",
       "                {}\n",
       "            ).addTo(marker_cluster_ca9729af56ef1211549dec8c3e4969a9);\n",
       "        \n",
       "    \n",
       "            marker_f2a925f81190ba4ff57b97b7ee2d56db.bindTooltip(\n",
       "                `&lt;div&gt;\n",
       "                     法人・団体、被害者なし\n",
       "                 &lt;/div&gt;`,\n",
       "                {&quot;sticky&quot;: true}\n",
       "            );\n",
       "        \n",
       "    \n",
       "            var marker_0e092aabb9adab216838317ab7258c4f = L.marker(\n",
       "                [35.856003, 139.993591],\n",
       "                {}\n",
       "            ).addTo(marker_cluster_ca9729af56ef1211549dec8c3e4969a9);\n",
       "        \n",
       "    \n",
       "            marker_0e092aabb9adab216838317ab7258c4f.bindTooltip(\n",
       "                `&lt;div&gt;\n",
       "                     40歳代\n",
       "                 &lt;/div&gt;`,\n",
       "                {&quot;sticky&quot;: true}\n",
       "            );\n",
       "        \n",
       "    \n",
       "            var marker_6b5010c6ff9e1f9f6321161cfb31d73f = L.marker(\n",
       "                [35.891659, 139.953995],\n",
       "                {}\n",
       "            ).addTo(marker_cluster_ca9729af56ef1211549dec8c3e4969a9);\n",
       "        \n",
       "    \n",
       "            marker_6b5010c6ff9e1f9f6321161cfb31d73f.bindTooltip(\n",
       "                `&lt;div&gt;\n",
       "                     70歳以上\n",
       "                 &lt;/div&gt;`,\n",
       "                {&quot;sticky&quot;: true}\n",
       "            );\n",
       "        \n",
       "    \n",
       "            var marker_ee67d983c6093d73aff2da518791c7f9 = L.marker(\n",
       "                [35.85392, 139.971054],\n",
       "                {}\n",
       "            ).addTo(marker_cluster_ca9729af56ef1211549dec8c3e4969a9);\n",
       "        \n",
       "    \n",
       "            marker_ee67d983c6093d73aff2da518791c7f9.bindTooltip(\n",
       "                `&lt;div&gt;\n",
       "                     10歳代\n",
       "                 &lt;/div&gt;`,\n",
       "                {&quot;sticky&quot;: true}\n",
       "            );\n",
       "        \n",
       "    \n",
       "            var marker_77bf84dee232d09197061d3e08273ef6 = L.marker(\n",
       "                [35.85392, 139.971054],\n",
       "                {}\n",
       "            ).addTo(marker_cluster_ca9729af56ef1211549dec8c3e4969a9);\n",
       "        \n",
       "    \n",
       "            marker_77bf84dee232d09197061d3e08273ef6.bindTooltip(\n",
       "                `&lt;div&gt;\n",
       "                     50歳代\n",
       "                 &lt;/div&gt;`,\n",
       "                {&quot;sticky&quot;: true}\n",
       "            );\n",
       "        \n",
       "    \n",
       "            var marker_692626f1e870169e349189d0b9e6774d = L.marker(\n",
       "                [35.85392, 139.971054],\n",
       "                {}\n",
       "            ).addTo(marker_cluster_ca9729af56ef1211549dec8c3e4969a9);\n",
       "        \n",
       "    \n",
       "            marker_692626f1e870169e349189d0b9e6774d.bindTooltip(\n",
       "                `&lt;div&gt;\n",
       "                     40歳代\n",
       "                 &lt;/div&gt;`,\n",
       "                {&quot;sticky&quot;: true}\n",
       "            );\n",
       "        \n",
       "    \n",
       "            var marker_5ad5a5d22485e8057f31b5b91ef127ee = L.marker(\n",
       "                [35.85392, 139.971054],\n",
       "                {}\n",
       "            ).addTo(marker_cluster_ca9729af56ef1211549dec8c3e4969a9);\n",
       "        \n",
       "    \n",
       "            marker_5ad5a5d22485e8057f31b5b91ef127ee.bindTooltip(\n",
       "                `&lt;div&gt;\n",
       "                     30歳代\n",
       "                 &lt;/div&gt;`,\n",
       "                {&quot;sticky&quot;: true}\n",
       "            );\n",
       "        \n",
       "    \n",
       "            var marker_0d4d76ab87b7fe2cb58140470626cb12 = L.marker(\n",
       "                [35.851498, 139.987534],\n",
       "                {}\n",
       "            ).addTo(marker_cluster_ca9729af56ef1211549dec8c3e4969a9);\n",
       "        \n",
       "    \n",
       "            marker_0d4d76ab87b7fe2cb58140470626cb12.bindTooltip(\n",
       "                `&lt;div&gt;\n",
       "                     20歳代\n",
       "                 &lt;/div&gt;`,\n",
       "                {&quot;sticky&quot;: true}\n",
       "            );\n",
       "        \n",
       "    \n",
       "            var marker_5ef688ee32397b8e6aee26ee42d5d7d2 = L.marker(\n",
       "                [35.849293, 139.987366],\n",
       "                {}\n",
       "            ).addTo(marker_cluster_ca9729af56ef1211549dec8c3e4969a9);\n",
       "        \n",
       "    \n",
       "            marker_5ef688ee32397b8e6aee26ee42d5d7d2.bindTooltip(\n",
       "                `&lt;div&gt;\n",
       "                     10歳代\n",
       "                 &lt;/div&gt;`,\n",
       "                {&quot;sticky&quot;: true}\n",
       "            );\n",
       "        \n",
       "    \n",
       "            var marker_c048c960f6fc259ea84a873d054c976d = L.marker(\n",
       "                [35.915867, 139.952377],\n",
       "                {}\n",
       "            ).addTo(marker_cluster_ca9729af56ef1211549dec8c3e4969a9);\n",
       "        \n",
       "    \n",
       "            marker_c048c960f6fc259ea84a873d054c976d.bindTooltip(\n",
       "                `&lt;div&gt;\n",
       "                     20歳代\n",
       "                 &lt;/div&gt;`,\n",
       "                {&quot;sticky&quot;: true}\n",
       "            );\n",
       "        \n",
       "    \n",
       "            var marker_70442b4c612abcc841fdf372f72fb019 = L.marker(\n",
       "                [35.923737, 139.939484],\n",
       "                {}\n",
       "            ).addTo(marker_cluster_ca9729af56ef1211549dec8c3e4969a9);\n",
       "        \n",
       "    \n",
       "            marker_70442b4c612abcc841fdf372f72fb019.bindTooltip(\n",
       "                `&lt;div&gt;\n",
       "                     10歳代\n",
       "                 &lt;/div&gt;`,\n",
       "                {&quot;sticky&quot;: true}\n",
       "            );\n",
       "        \n",
       "    \n",
       "            var marker_346786a206f29741d8121ce6761fc99b = L.marker(\n",
       "                [35.923737, 139.939484],\n",
       "                {}\n",
       "            ).addTo(marker_cluster_ca9729af56ef1211549dec8c3e4969a9);\n",
       "        \n",
       "    \n",
       "            marker_346786a206f29741d8121ce6761fc99b.bindTooltip(\n",
       "                `&lt;div&gt;\n",
       "                     10歳代\n",
       "                 &lt;/div&gt;`,\n",
       "                {&quot;sticky&quot;: true}\n",
       "            );\n",
       "        \n",
       "    \n",
       "            var marker_c7460cbd3ad0b9933338531cb79ae4c8 = L.marker(\n",
       "                [35.911968, 139.961746],\n",
       "                {}\n",
       "            ).addTo(marker_cluster_ca9729af56ef1211549dec8c3e4969a9);\n",
       "        \n",
       "    \n",
       "            marker_c7460cbd3ad0b9933338531cb79ae4c8.bindTooltip(\n",
       "                `&lt;div&gt;\n",
       "                     10歳代\n",
       "                 &lt;/div&gt;`,\n",
       "                {&quot;sticky&quot;: true}\n",
       "            );\n",
       "        \n",
       "    \n",
       "            var marker_eb64fe350384a37af6d78791d480f2ba = L.marker(\n",
       "                [35.911968, 139.961746],\n",
       "                {}\n",
       "            ).addTo(marker_cluster_ca9729af56ef1211549dec8c3e4969a9);\n",
       "        \n",
       "    \n",
       "            marker_eb64fe350384a37af6d78791d480f2ba.bindTooltip(\n",
       "                `&lt;div&gt;\n",
       "                     10歳代\n",
       "                 &lt;/div&gt;`,\n",
       "                {&quot;sticky&quot;: true}\n",
       "            );\n",
       "        \n",
       "    \n",
       "            var marker_9fe8b216f7baf8d30d847a8e4ab9289c = L.marker(\n",
       "                [35.911968, 139.961746],\n",
       "                {}\n",
       "            ).addTo(marker_cluster_ca9729af56ef1211549dec8c3e4969a9);\n",
       "        \n",
       "    \n",
       "            marker_9fe8b216f7baf8d30d847a8e4ab9289c.bindTooltip(\n",
       "                `&lt;div&gt;\n",
       "                     30歳代\n",
       "                 &lt;/div&gt;`,\n",
       "                {&quot;sticky&quot;: true}\n",
       "            );\n",
       "        \n",
       "    \n",
       "            var marker_10ed478e00a23ff2088f6be8890e4bff = L.marker(\n",
       "                [35.911968, 139.961746],\n",
       "                {}\n",
       "            ).addTo(marker_cluster_ca9729af56ef1211549dec8c3e4969a9);\n",
       "        \n",
       "    \n",
       "            marker_10ed478e00a23ff2088f6be8890e4bff.bindTooltip(\n",
       "                `&lt;div&gt;\n",
       "                     20歳代\n",
       "                 &lt;/div&gt;`,\n",
       "                {&quot;sticky&quot;: true}\n",
       "            );\n",
       "        \n",
       "    \n",
       "            var marker_be101aca6448e5b6470f7dacd5ef0098 = L.marker(\n",
       "                [35.911968, 139.961746],\n",
       "                {}\n",
       "            ).addTo(marker_cluster_ca9729af56ef1211549dec8c3e4969a9);\n",
       "        \n",
       "    \n",
       "            marker_be101aca6448e5b6470f7dacd5ef0098.bindTooltip(\n",
       "                `&lt;div&gt;\n",
       "                     20歳代\n",
       "                 &lt;/div&gt;`,\n",
       "                {&quot;sticky&quot;: true}\n",
       "            );\n",
       "        \n",
       "    \n",
       "            var marker_16dd21d34d74cc186ddac376cad79e29 = L.marker(\n",
       "                [35.911968, 139.961746],\n",
       "                {}\n",
       "            ).addTo(marker_cluster_ca9729af56ef1211549dec8c3e4969a9);\n",
       "        \n",
       "    \n",
       "            marker_16dd21d34d74cc186ddac376cad79e29.bindTooltip(\n",
       "                `&lt;div&gt;\n",
       "                     40歳代\n",
       "                 &lt;/div&gt;`,\n",
       "                {&quot;sticky&quot;: true}\n",
       "            );\n",
       "        \n",
       "    \n",
       "            var marker_886592f50744d412d4849b50f046a8e5 = L.marker(\n",
       "                [35.911968, 139.961746],\n",
       "                {}\n",
       "            ).addTo(marker_cluster_ca9729af56ef1211549dec8c3e4969a9);\n",
       "        \n",
       "    \n",
       "            marker_886592f50744d412d4849b50f046a8e5.bindTooltip(\n",
       "                `&lt;div&gt;\n",
       "                     法人・団体、被害者なし\n",
       "                 &lt;/div&gt;`,\n",
       "                {&quot;sticky&quot;: true}\n",
       "            );\n",
       "        \n",
       "    \n",
       "            var marker_9fcd19eab4bfe5919ccbf91f17397d20 = L.marker(\n",
       "                [35.911968, 139.961746],\n",
       "                {}\n",
       "            ).addTo(marker_cluster_ca9729af56ef1211549dec8c3e4969a9);\n",
       "        \n",
       "    \n",
       "            marker_9fcd19eab4bfe5919ccbf91f17397d20.bindTooltip(\n",
       "                `&lt;div&gt;\n",
       "                     60-64歳\n",
       "                 &lt;/div&gt;`,\n",
       "                {&quot;sticky&quot;: true}\n",
       "            );\n",
       "        \n",
       "    \n",
       "            var marker_0c1dfdeab9882c12685f53795374c288 = L.marker(\n",
       "                [35.916023, 139.956726],\n",
       "                {}\n",
       "            ).addTo(marker_cluster_ca9729af56ef1211549dec8c3e4969a9);\n",
       "        \n",
       "    \n",
       "            marker_0c1dfdeab9882c12685f53795374c288.bindTooltip(\n",
       "                `&lt;div&gt;\n",
       "                     10歳代\n",
       "                 &lt;/div&gt;`,\n",
       "                {&quot;sticky&quot;: true}\n",
       "            );\n",
       "        \n",
       "    \n",
       "            var marker_6f58905ca88c585c82f9a1d3ad031d5b = L.marker(\n",
       "                [35.916023, 139.956726],\n",
       "                {}\n",
       "            ).addTo(marker_cluster_ca9729af56ef1211549dec8c3e4969a9);\n",
       "        \n",
       "    \n",
       "            marker_6f58905ca88c585c82f9a1d3ad031d5b.bindTooltip(\n",
       "                `&lt;div&gt;\n",
       "                     10歳代\n",
       "                 &lt;/div&gt;`,\n",
       "                {&quot;sticky&quot;: true}\n",
       "            );\n",
       "        \n",
       "    \n",
       "            var marker_b3592562d45bd6cbbea9bc9011ae99fd = L.marker(\n",
       "                [35.916023, 139.956726],\n",
       "                {}\n",
       "            ).addTo(marker_cluster_ca9729af56ef1211549dec8c3e4969a9);\n",
       "        \n",
       "    \n",
       "            marker_b3592562d45bd6cbbea9bc9011ae99fd.bindTooltip(\n",
       "                `&lt;div&gt;\n",
       "                     10歳代\n",
       "                 &lt;/div&gt;`,\n",
       "                {&quot;sticky&quot;: true}\n",
       "            );\n",
       "        \n",
       "    \n",
       "            var marker_d2ea81e9bf4654164bd4228b53af2bca = L.marker(\n",
       "                [35.915054, 139.959076],\n",
       "                {}\n",
       "            ).addTo(marker_cluster_ca9729af56ef1211549dec8c3e4969a9);\n",
       "        \n",
       "    \n",
       "            marker_d2ea81e9bf4654164bd4228b53af2bca.bindTooltip(\n",
       "                `&lt;div&gt;\n",
       "                     10歳代\n",
       "                 &lt;/div&gt;`,\n",
       "                {&quot;sticky&quot;: true}\n",
       "            );\n",
       "        \n",
       "    \n",
       "            var marker_89b445f959864ccebdf63ad3d6a78e7b = L.marker(\n",
       "                [35.915054, 139.959076],\n",
       "                {}\n",
       "            ).addTo(marker_cluster_ca9729af56ef1211549dec8c3e4969a9);\n",
       "        \n",
       "    \n",
       "            marker_89b445f959864ccebdf63ad3d6a78e7b.bindTooltip(\n",
       "                `&lt;div&gt;\n",
       "                     10歳代\n",
       "                 &lt;/div&gt;`,\n",
       "                {&quot;sticky&quot;: true}\n",
       "            );\n",
       "        \n",
       "    \n",
       "            var marker_8e89c9b4a5620586637fc8374052f8dd = L.marker(\n",
       "                [35.915054, 139.959076],\n",
       "                {}\n",
       "            ).addTo(marker_cluster_ca9729af56ef1211549dec8c3e4969a9);\n",
       "        \n",
       "    \n",
       "            marker_8e89c9b4a5620586637fc8374052f8dd.bindTooltip(\n",
       "                `&lt;div&gt;\n",
       "                     10歳代\n",
       "                 &lt;/div&gt;`,\n",
       "                {&quot;sticky&quot;: true}\n",
       "            );\n",
       "        \n",
       "    \n",
       "            var marker_18e3e3e057fe2704d8b010499b66942a = L.marker(\n",
       "                [35.915054, 139.959076],\n",
       "                {}\n",
       "            ).addTo(marker_cluster_ca9729af56ef1211549dec8c3e4969a9);\n",
       "        \n",
       "    \n",
       "            marker_18e3e3e057fe2704d8b010499b66942a.bindTooltip(\n",
       "                `&lt;div&gt;\n",
       "                     10歳代\n",
       "                 &lt;/div&gt;`,\n",
       "                {&quot;sticky&quot;: true}\n",
       "            );\n",
       "        \n",
       "    \n",
       "            var marker_7b11b9d94e664a967f7012f26d4b260a = L.marker(\n",
       "                [35.896736, 139.974243],\n",
       "                {}\n",
       "            ).addTo(marker_cluster_ca9729af56ef1211549dec8c3e4969a9);\n",
       "        \n",
       "    \n",
       "            marker_7b11b9d94e664a967f7012f26d4b260a.bindTooltip(\n",
       "                `&lt;div&gt;\n",
       "                     40歳代\n",
       "                 &lt;/div&gt;`,\n",
       "                {&quot;sticky&quot;: true}\n",
       "            );\n",
       "        \n",
       "    \n",
       "            var marker_e7ea47f4cd88dcd1abfb0ef8a9b1c59e = L.marker(\n",
       "                [35.896736, 139.974243],\n",
       "                {}\n",
       "            ).addTo(marker_cluster_ca9729af56ef1211549dec8c3e4969a9);\n",
       "        \n",
       "    \n",
       "            marker_e7ea47f4cd88dcd1abfb0ef8a9b1c59e.bindTooltip(\n",
       "                `&lt;div&gt;\n",
       "                     20歳代\n",
       "                 &lt;/div&gt;`,\n",
       "                {&quot;sticky&quot;: true}\n",
       "            );\n",
       "        \n",
       "    \n",
       "            var marker_b9168aafeb42e1307971c9d653dd3e47 = L.marker(\n",
       "                [35.896736, 139.974243],\n",
       "                {}\n",
       "            ).addTo(marker_cluster_ca9729af56ef1211549dec8c3e4969a9);\n",
       "        \n",
       "    \n",
       "            marker_b9168aafeb42e1307971c9d653dd3e47.bindTooltip(\n",
       "                `&lt;div&gt;\n",
       "                     40歳代\n",
       "                 &lt;/div&gt;`,\n",
       "                {&quot;sticky&quot;: true}\n",
       "            );\n",
       "        \n",
       "    \n",
       "            var marker_2f56458e796c827a506e4aab38daff2a = L.marker(\n",
       "                [35.896736, 139.974243],\n",
       "                {}\n",
       "            ).addTo(marker_cluster_ca9729af56ef1211549dec8c3e4969a9);\n",
       "        \n",
       "    \n",
       "            marker_2f56458e796c827a506e4aab38daff2a.bindTooltip(\n",
       "                `&lt;div&gt;\n",
       "                     60-64歳\n",
       "                 &lt;/div&gt;`,\n",
       "                {&quot;sticky&quot;: true}\n",
       "            );\n",
       "        \n",
       "    \n",
       "            var marker_2cd056841833e1ab164e46c994921c6b = L.marker(\n",
       "                [35.868122, 139.943359],\n",
       "                {}\n",
       "            ).addTo(marker_cluster_ca9729af56ef1211549dec8c3e4969a9);\n",
       "        \n",
       "    \n",
       "            marker_2cd056841833e1ab164e46c994921c6b.bindTooltip(\n",
       "                `&lt;div&gt;\n",
       "                     60-64歳\n",
       "                 &lt;/div&gt;`,\n",
       "                {&quot;sticky&quot;: true}\n",
       "            );\n",
       "        \n",
       "    \n",
       "            var marker_b158e1bbd48fc617c506ea6db0d6667c = L.marker(\n",
       "                [35.859928, 139.949814],\n",
       "                {}\n",
       "            ).addTo(marker_cluster_ca9729af56ef1211549dec8c3e4969a9);\n",
       "        \n",
       "    \n",
       "            marker_b158e1bbd48fc617c506ea6db0d6667c.bindTooltip(\n",
       "                `&lt;div&gt;\n",
       "                     20歳代\n",
       "                 &lt;/div&gt;`,\n",
       "                {&quot;sticky&quot;: true}\n",
       "            );\n",
       "        \n",
       "    \n",
       "            var marker_e67b24753d2a52612a26263d843fc0e2 = L.marker(\n",
       "                [35.859928, 139.949814],\n",
       "                {}\n",
       "            ).addTo(marker_cluster_ca9729af56ef1211549dec8c3e4969a9);\n",
       "        \n",
       "    \n",
       "            marker_e67b24753d2a52612a26263d843fc0e2.bindTooltip(\n",
       "                `&lt;div&gt;\n",
       "                     20歳代\n",
       "                 &lt;/div&gt;`,\n",
       "                {&quot;sticky&quot;: true}\n",
       "            );\n",
       "        \n",
       "    \n",
       "            var marker_640d61bed6107f1b0d3a717f2ced3805 = L.marker(\n",
       "                [35.859928, 139.949814],\n",
       "                {}\n",
       "            ).addTo(marker_cluster_ca9729af56ef1211549dec8c3e4969a9);\n",
       "        \n",
       "    \n",
       "            marker_640d61bed6107f1b0d3a717f2ced3805.bindTooltip(\n",
       "                `&lt;div&gt;\n",
       "                     40歳代\n",
       "                 &lt;/div&gt;`,\n",
       "                {&quot;sticky&quot;: true}\n",
       "            );\n",
       "        \n",
       "    \n",
       "            var marker_9fa0323696c9e3f955bf723ae104e935 = L.marker(\n",
       "                [35.859928, 139.949814],\n",
       "                {}\n",
       "            ).addTo(marker_cluster_ca9729af56ef1211549dec8c3e4969a9);\n",
       "        \n",
       "    \n",
       "            marker_9fa0323696c9e3f955bf723ae104e935.bindTooltip(\n",
       "                `&lt;div&gt;\n",
       "                     10歳代\n",
       "                 &lt;/div&gt;`,\n",
       "                {&quot;sticky&quot;: true}\n",
       "            );\n",
       "        \n",
       "    \n",
       "            var marker_ad7640e9b110e5bc5d7a1b1fb133a2f1 = L.marker(\n",
       "                [35.859928, 139.949814],\n",
       "                {}\n",
       "            ).addTo(marker_cluster_ca9729af56ef1211549dec8c3e4969a9);\n",
       "        \n",
       "    \n",
       "            marker_ad7640e9b110e5bc5d7a1b1fb133a2f1.bindTooltip(\n",
       "                `&lt;div&gt;\n",
       "                     20歳代\n",
       "                 &lt;/div&gt;`,\n",
       "                {&quot;sticky&quot;: true}\n",
       "            );\n",
       "        \n",
       "    \n",
       "            var marker_3edfe72826d7bad2be26068ddfd25bad = L.marker(\n",
       "                [35.859928, 139.949814],\n",
       "                {}\n",
       "            ).addTo(marker_cluster_ca9729af56ef1211549dec8c3e4969a9);\n",
       "        \n",
       "    \n",
       "            marker_3edfe72826d7bad2be26068ddfd25bad.bindTooltip(\n",
       "                `&lt;div&gt;\n",
       "                     30歳代\n",
       "                 &lt;/div&gt;`,\n",
       "                {&quot;sticky&quot;: true}\n",
       "            );\n",
       "        \n",
       "    \n",
       "            var marker_ea176b5789cd2c074275727a35d6463f = L.marker(\n",
       "                [35.859928, 139.949814],\n",
       "                {}\n",
       "            ).addTo(marker_cluster_ca9729af56ef1211549dec8c3e4969a9);\n",
       "        \n",
       "    \n",
       "            marker_ea176b5789cd2c074275727a35d6463f.bindTooltip(\n",
       "                `&lt;div&gt;\n",
       "                     20歳代\n",
       "                 &lt;/div&gt;`,\n",
       "                {&quot;sticky&quot;: true}\n",
       "            );\n",
       "        \n",
       "    \n",
       "            var marker_c7304072beddd8e10637f413a426783f = L.marker(\n",
       "                [35.859928, 139.949814],\n",
       "                {}\n",
       "            ).addTo(marker_cluster_ca9729af56ef1211549dec8c3e4969a9);\n",
       "        \n",
       "    \n",
       "            marker_c7304072beddd8e10637f413a426783f.bindTooltip(\n",
       "                `&lt;div&gt;\n",
       "                     10歳代\n",
       "                 &lt;/div&gt;`,\n",
       "                {&quot;sticky&quot;: true}\n",
       "            );\n",
       "        \n",
       "    \n",
       "            var marker_06ad99481934e10e4b2a24a8ee2333db = L.marker(\n",
       "                [35.854702, 139.957123],\n",
       "                {}\n",
       "            ).addTo(marker_cluster_ca9729af56ef1211549dec8c3e4969a9);\n",
       "        \n",
       "    \n",
       "            marker_06ad99481934e10e4b2a24a8ee2333db.bindTooltip(\n",
       "                `&lt;div&gt;\n",
       "                     20歳代\n",
       "                 &lt;/div&gt;`,\n",
       "                {&quot;sticky&quot;: true}\n",
       "            );\n",
       "        \n",
       "    \n",
       "            var marker_48380648c1bf6935aa88dc42727b8fb5 = L.marker(\n",
       "                [35.804619, 139.996078],\n",
       "                {}\n",
       "            ).addTo(marker_cluster_ca9729af56ef1211549dec8c3e4969a9);\n",
       "        \n",
       "    \n",
       "            marker_48380648c1bf6935aa88dc42727b8fb5.bindTooltip(\n",
       "                `&lt;div&gt;\n",
       "                     10歳代\n",
       "                 &lt;/div&gt;`,\n",
       "                {&quot;sticky&quot;: true}\n",
       "            );\n",
       "        \n",
       "    \n",
       "            var marker_06cabb8dc4c6ca44aa5996fa020c7c0a = L.marker(\n",
       "                [35.802979, 139.991287],\n",
       "                {}\n",
       "            ).addTo(marker_cluster_ca9729af56ef1211549dec8c3e4969a9);\n",
       "        \n",
       "    \n",
       "            marker_06cabb8dc4c6ca44aa5996fa020c7c0a.bindTooltip(\n",
       "                `&lt;div&gt;\n",
       "                     10歳代\n",
       "                 &lt;/div&gt;`,\n",
       "                {&quot;sticky&quot;: true}\n",
       "            );\n",
       "        \n",
       "    \n",
       "            var marker_7cbb063841cd7f2780b5998120feef31 = L.marker(\n",
       "                [35.805519, 139.993011],\n",
       "                {}\n",
       "            ).addTo(marker_cluster_ca9729af56ef1211549dec8c3e4969a9);\n",
       "        \n",
       "    \n",
       "            marker_7cbb063841cd7f2780b5998120feef31.bindTooltip(\n",
       "                `&lt;div&gt;\n",
       "                     10歳代\n",
       "                 &lt;/div&gt;`,\n",
       "                {&quot;sticky&quot;: true}\n",
       "            );\n",
       "        \n",
       "    \n",
       "            var marker_9245db12ae3d2ee5a974a0ca5e12ad8b = L.marker(\n",
       "                [35.801025, 139.980179],\n",
       "                {}\n",
       "            ).addTo(marker_cluster_ca9729af56ef1211549dec8c3e4969a9);\n",
       "        \n",
       "    \n",
       "            marker_9245db12ae3d2ee5a974a0ca5e12ad8b.bindTooltip(\n",
       "                `&lt;div&gt;\n",
       "                     10歳代\n",
       "                 &lt;/div&gt;`,\n",
       "                {&quot;sticky&quot;: true}\n",
       "            );\n",
       "        \n",
       "    \n",
       "            var marker_6d604aaf272a1f123dc323c495d19e96 = L.marker(\n",
       "                [35.80201, 139.977814],\n",
       "                {}\n",
       "            ).addTo(marker_cluster_ca9729af56ef1211549dec8c3e4969a9);\n",
       "        \n",
       "    \n",
       "            marker_6d604aaf272a1f123dc323c495d19e96.bindTooltip(\n",
       "                `&lt;div&gt;\n",
       "                     50歳代\n",
       "                 &lt;/div&gt;`,\n",
       "                {&quot;sticky&quot;: true}\n",
       "            );\n",
       "        \n",
       "    \n",
       "            var marker_a3358275cd233bf298a6d854f315e315 = L.marker(\n",
       "                [35.80201, 139.977814],\n",
       "                {}\n",
       "            ).addTo(marker_cluster_ca9729af56ef1211549dec8c3e4969a9);\n",
       "        \n",
       "    \n",
       "            marker_a3358275cd233bf298a6d854f315e315.bindTooltip(\n",
       "                `&lt;div&gt;\n",
       "                     30歳代\n",
       "                 &lt;/div&gt;`,\n",
       "                {&quot;sticky&quot;: true}\n",
       "            );\n",
       "        \n",
       "    \n",
       "            var marker_2954b692ccace971a6dbd724d563380b = L.marker(\n",
       "                [35.8078, 139.99794],\n",
       "                {}\n",
       "            ).addTo(marker_cluster_ca9729af56ef1211549dec8c3e4969a9);\n",
       "        \n",
       "    \n",
       "            marker_2954b692ccace971a6dbd724d563380b.bindTooltip(\n",
       "                `&lt;div&gt;\n",
       "                     20歳代\n",
       "                 &lt;/div&gt;`,\n",
       "                {&quot;sticky&quot;: true}\n",
       "            );\n",
       "        \n",
       "    \n",
       "            var marker_5f508e216aff8640367b184d8c7dc67a = L.marker(\n",
       "                [35.8078, 139.99794],\n",
       "                {}\n",
       "            ).addTo(marker_cluster_ca9729af56ef1211549dec8c3e4969a9);\n",
       "        \n",
       "    \n",
       "            marker_5f508e216aff8640367b184d8c7dc67a.bindTooltip(\n",
       "                `&lt;div&gt;\n",
       "                     10歳代\n",
       "                 &lt;/div&gt;`,\n",
       "                {&quot;sticky&quot;: true}\n",
       "            );\n",
       "        \n",
       "    \n",
       "            var marker_e8c82c119ae05ffce80ae48a1d3464f4 = L.marker(\n",
       "                [35.8078, 139.99794],\n",
       "                {}\n",
       "            ).addTo(marker_cluster_ca9729af56ef1211549dec8c3e4969a9);\n",
       "        \n",
       "    \n",
       "            marker_e8c82c119ae05ffce80ae48a1d3464f4.bindTooltip(\n",
       "                `&lt;div&gt;\n",
       "                     30歳代\n",
       "                 &lt;/div&gt;`,\n",
       "                {&quot;sticky&quot;: true}\n",
       "            );\n",
       "        \n",
       "    \n",
       "            var marker_3401ca944f5ed0f9266d711cbd94468d = L.marker(\n",
       "                [35.8078, 139.99794],\n",
       "                {}\n",
       "            ).addTo(marker_cluster_ca9729af56ef1211549dec8c3e4969a9);\n",
       "        \n",
       "    \n",
       "            marker_3401ca944f5ed0f9266d711cbd94468d.bindTooltip(\n",
       "                `&lt;div&gt;\n",
       "                     10歳代\n",
       "                 &lt;/div&gt;`,\n",
       "                {&quot;sticky&quot;: true}\n",
       "            );\n",
       "        \n",
       "    \n",
       "            var marker_ec576393d70f2514a17d3395e4adca8d = L.marker(\n",
       "                [35.8078, 139.99794],\n",
       "                {}\n",
       "            ).addTo(marker_cluster_ca9729af56ef1211549dec8c3e4969a9);\n",
       "        \n",
       "    \n",
       "            marker_ec576393d70f2514a17d3395e4adca8d.bindTooltip(\n",
       "                `&lt;div&gt;\n",
       "                     10歳代\n",
       "                 &lt;/div&gt;`,\n",
       "                {&quot;sticky&quot;: true}\n",
       "            );\n",
       "        \n",
       "    \n",
       "            var marker_44eeed8168aa7555a8790bf3d23db6f5 = L.marker(\n",
       "                [35.8078, 139.99794],\n",
       "                {}\n",
       "            ).addTo(marker_cluster_ca9729af56ef1211549dec8c3e4969a9);\n",
       "        \n",
       "    \n",
       "            marker_44eeed8168aa7555a8790bf3d23db6f5.bindTooltip(\n",
       "                `&lt;div&gt;\n",
       "                     10歳代\n",
       "                 &lt;/div&gt;`,\n",
       "                {&quot;sticky&quot;: true}\n",
       "            );\n",
       "        \n",
       "    \n",
       "            var marker_c2bdfefae8448ad2d6916a7fa610fd8a = L.marker(\n",
       "                [35.8078, 139.99794],\n",
       "                {}\n",
       "            ).addTo(marker_cluster_ca9729af56ef1211549dec8c3e4969a9);\n",
       "        \n",
       "    \n",
       "            marker_c2bdfefae8448ad2d6916a7fa610fd8a.bindTooltip(\n",
       "                `&lt;div&gt;\n",
       "                     10歳代\n",
       "                 &lt;/div&gt;`,\n",
       "                {&quot;sticky&quot;: true}\n",
       "            );\n",
       "        \n",
       "    \n",
       "            var marker_a1f0b69f0d4510d752bddd500e6ef8bb = L.marker(\n",
       "                [35.8078, 139.99794],\n",
       "                {}\n",
       "            ).addTo(marker_cluster_ca9729af56ef1211549dec8c3e4969a9);\n",
       "        \n",
       "    \n",
       "            marker_a1f0b69f0d4510d752bddd500e6ef8bb.bindTooltip(\n",
       "                `&lt;div&gt;\n",
       "                     10歳代\n",
       "                 &lt;/div&gt;`,\n",
       "                {&quot;sticky&quot;: true}\n",
       "            );\n",
       "        \n",
       "    \n",
       "            var marker_a55f29226d1f7bd59e6d783625534b3a = L.marker(\n",
       "                [35.8078, 139.99794],\n",
       "                {}\n",
       "            ).addTo(marker_cluster_ca9729af56ef1211549dec8c3e4969a9);\n",
       "        \n",
       "    \n",
       "            marker_a55f29226d1f7bd59e6d783625534b3a.bindTooltip(\n",
       "                `&lt;div&gt;\n",
       "                     70歳以上\n",
       "                 &lt;/div&gt;`,\n",
       "                {&quot;sticky&quot;: true}\n",
       "            );\n",
       "        \n",
       "    \n",
       "            var marker_6578a8481f8705b308fe6a6db5af2443 = L.marker(\n",
       "                [35.8078, 139.99794],\n",
       "                {}\n",
       "            ).addTo(marker_cluster_ca9729af56ef1211549dec8c3e4969a9);\n",
       "        \n",
       "    \n",
       "            marker_6578a8481f8705b308fe6a6db5af2443.bindTooltip(\n",
       "                `&lt;div&gt;\n",
       "                     20歳代\n",
       "                 &lt;/div&gt;`,\n",
       "                {&quot;sticky&quot;: true}\n",
       "            );\n",
       "        \n",
       "    \n",
       "            var marker_3563a5ad67d4141da4da3abf4fe58755 = L.marker(\n",
       "                [35.8078, 139.99794],\n",
       "                {}\n",
       "            ).addTo(marker_cluster_ca9729af56ef1211549dec8c3e4969a9);\n",
       "        \n",
       "    \n",
       "            marker_3563a5ad67d4141da4da3abf4fe58755.bindTooltip(\n",
       "                `&lt;div&gt;\n",
       "                     10歳代\n",
       "                 &lt;/div&gt;`,\n",
       "                {&quot;sticky&quot;: true}\n",
       "            );\n",
       "        \n",
       "    \n",
       "            var marker_45cfaf86977c61eadf85c22e36a69854 = L.marker(\n",
       "                [35.8078, 139.99794],\n",
       "                {}\n",
       "            ).addTo(marker_cluster_ca9729af56ef1211549dec8c3e4969a9);\n",
       "        \n",
       "    \n",
       "            marker_45cfaf86977c61eadf85c22e36a69854.bindTooltip(\n",
       "                `&lt;div&gt;\n",
       "                     20歳代\n",
       "                 &lt;/div&gt;`,\n",
       "                {&quot;sticky&quot;: true}\n",
       "            );\n",
       "        \n",
       "    \n",
       "            var marker_f389cf8a0a33a0c009f8350a70e4b2a1 = L.marker(\n",
       "                [35.8078, 139.99794],\n",
       "                {}\n",
       "            ).addTo(marker_cluster_ca9729af56ef1211549dec8c3e4969a9);\n",
       "        \n",
       "    \n",
       "            marker_f389cf8a0a33a0c009f8350a70e4b2a1.bindTooltip(\n",
       "                `&lt;div&gt;\n",
       "                     40歳代\n",
       "                 &lt;/div&gt;`,\n",
       "                {&quot;sticky&quot;: true}\n",
       "            );\n",
       "        \n",
       "    \n",
       "            var marker_9c5711ea502c5f4a2ba7595710d74eca = L.marker(\n",
       "                [35.8078, 139.99794],\n",
       "                {}\n",
       "            ).addTo(marker_cluster_ca9729af56ef1211549dec8c3e4969a9);\n",
       "        \n",
       "    \n",
       "            marker_9c5711ea502c5f4a2ba7595710d74eca.bindTooltip(\n",
       "                `&lt;div&gt;\n",
       "                     10歳代\n",
       "                 &lt;/div&gt;`,\n",
       "                {&quot;sticky&quot;: true}\n",
       "            );\n",
       "        \n",
       "    \n",
       "            var marker_2994e36cab16dc090d0a5ffc191c38c0 = L.marker(\n",
       "                [35.8078, 139.99794],\n",
       "                {}\n",
       "            ).addTo(marker_cluster_ca9729af56ef1211549dec8c3e4969a9);\n",
       "        \n",
       "    \n",
       "            marker_2994e36cab16dc090d0a5ffc191c38c0.bindTooltip(\n",
       "                `&lt;div&gt;\n",
       "                     10歳代\n",
       "                 &lt;/div&gt;`,\n",
       "                {&quot;sticky&quot;: true}\n",
       "            );\n",
       "        \n",
       "    \n",
       "            var marker_7e7d3f8ba1b6da2c5d9b8a3a2161608b = L.marker(\n",
       "                [35.8078, 139.99794],\n",
       "                {}\n",
       "            ).addTo(marker_cluster_ca9729af56ef1211549dec8c3e4969a9);\n",
       "        \n",
       "    \n",
       "            marker_7e7d3f8ba1b6da2c5d9b8a3a2161608b.bindTooltip(\n",
       "                `&lt;div&gt;\n",
       "                     10歳代\n",
       "                 &lt;/div&gt;`,\n",
       "                {&quot;sticky&quot;: true}\n",
       "            );\n",
       "        \n",
       "    \n",
       "            var marker_647ffd13edd45ce18d327fb183b31a81 = L.marker(\n",
       "                [35.809856, 139.996445],\n",
       "                {}\n",
       "            ).addTo(marker_cluster_ca9729af56ef1211549dec8c3e4969a9);\n",
       "        \n",
       "    \n",
       "            marker_647ffd13edd45ce18d327fb183b31a81.bindTooltip(\n",
       "                `&lt;div&gt;\n",
       "                     30歳代\n",
       "                 &lt;/div&gt;`,\n",
       "                {&quot;sticky&quot;: true}\n",
       "            );\n",
       "        \n",
       "    \n",
       "            var marker_5d75a4cdd3de81d6874a46272baa49b1 = L.marker(\n",
       "                [35.877697, 139.949219],\n",
       "                {}\n",
       "            ).addTo(marker_cluster_ca9729af56ef1211549dec8c3e4969a9);\n",
       "        \n",
       "    \n",
       "            marker_5d75a4cdd3de81d6874a46272baa49b1.bindTooltip(\n",
       "                `&lt;div&gt;\n",
       "                     40歳代\n",
       "                 &lt;/div&gt;`,\n",
       "                {&quot;sticky&quot;: true}\n",
       "            );\n",
       "        \n",
       "    \n",
       "                marker_cluster_ca9729af56ef1211549dec8c3e4969a9.addTo(map_526ad3ae6fda77f4b4616709561b7271);\n",
       "&lt;/script&gt;\n",
       "&lt;/html&gt;\" style=\"position:absolute;width:100%;height:100%;left:0;top:0;border:none !important;\" allowfullscreen webkitallowfullscreen mozallowfullscreen></iframe></div></div>"
      ],
      "text/plain": [
       "<folium.folium.Map at 0x24767a1e890>"
      ]
     },
     "execution_count": 57,
     "metadata": {},
     "output_type": "execute_result"
    }
   ],
   "source": [
    "from folium.plugins import HeatMap\n",
    "\n",
    "# make the map\n",
    "m = folium.Map(location=[center_lat,center_lon], \n",
    "               zoom_start=12,\n",
    "               tiles='cartodbdark_matter')\n",
    "\n",
    "# add the heatmap\n",
    "HeatMap(\n",
    "    data = heatmap_lat_lon,\n",
    "    radius=15,    \n",
    ").add_to(m)\n",
    "\n",
    "# マーカーがメチャクチャ多い場合はclusterで処理！\n",
    "marker_cluster = plugins.MarkerCluster().add_to(m)\n",
    "\n",
    "# kashiwaのデータフレームをループしてマーカーを作る\n",
    "for index, row in kashiwa.iterrows():\n",
    "    latlon = [row['lat'],row['lon']]\n",
    "    folium.Marker(latlon, \n",
    "                  tooltip=row['被害者の年齢'],\n",
    "                ).add_to(marker_cluster) # mapにではなくmarker_clusterに足す\n",
    "\n",
    "# show the map\n",
    "m"
   ]
  },
  {
   "cell_type": "markdown",
   "metadata": {
    "slideshow": {
     "slide_type": "slide"
    }
   },
   "source": [
    "# EXTRA Time?\n",
    "\n",
    "時間が余った人は違う場所の犯罪マップ作りに挑戦。\n",
    "\n",
    "このサイトから都道府県を選び、データをダウンロード：\n",
    "\n",
    "https://www.npa.go.jp/toukei/seianki/hanzaiopendatalink.html\n",
    "\n",
    "注意！ジオコーティングは時間がかかるので、データを千件以下に絞ってからジオコーティングをするように。"
   ]
  }
 ],
 "metadata": {
  "celltoolbar": "Slideshow",
  "kernelspec": {
   "display_name": "Python 3 (ipykernel)",
   "language": "python",
   "name": "python3"
  },
  "language_info": {
   "codemirror_mode": {
    "name": "ipython",
    "version": 3
   },
   "file_extension": ".py",
   "mimetype": "text/x-python",
   "name": "python",
   "nbconvert_exporter": "python",
   "pygments_lexer": "ipython3",
   "version": "3.11.5"
  }
 },
 "nbformat": 4,
 "nbformat_minor": 2
}

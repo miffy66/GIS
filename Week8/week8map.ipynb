{
 "cells": [
  {
   "cell_type": "markdown",
   "metadata": {},
   "source": [
    "## 埼玉県三郷市周辺の自転車盗難データを使ってヒートマップを作る "
   ]
  },
  {
   "cell_type": "code",
   "execution_count": 16,
   "metadata": {},
   "outputs": [],
   "source": [
    "## for spatial analysis\n",
    "import geopandas as gpd\n",
    "\n",
    "## for data analysis\n",
    "import pandas as pd\n",
    "\n",
    "## for pretty charts\n",
    "import plotly.express as px\n",
    "\n",
    "# for plotly themes\n",
    "import plotly.io as pio\n",
    "\n",
    "## for URL requests\n",
    "import urllib.request\n",
    "import requests\n",
    "\n",
    "## for maps\n",
    "import folium\n",
    "from folium import plugins"
   ]
  },
  {
   "cell_type": "code",
   "execution_count": 17,
   "metadata": {},
   "outputs": [],
   "source": [
    "df=pd.read_csv('Misatobike2022new.csv') "
   ]
  },
  {
   "cell_type": "code",
   "execution_count": 18,
   "metadata": {},
   "outputs": [],
   "source": [
    "misato=df"
   ]
  },
  {
   "cell_type": "code",
   "execution_count": 19,
   "metadata": {},
   "outputs": [
    {
     "name": "stdout",
     "output_type": "stream",
     "text": [
      "<class 'pandas.core.frame.DataFrame'>\n",
      "RangeIndex: 126 entries, 0 to 125\n",
      "Data columns (total 15 columns):\n",
      " #   Column         Non-Null Count  Dtype \n",
      "---  ------         --------------  ----- \n",
      " 0   罪名             126 non-null    object\n",
      " 1   手口             126 non-null    object\n",
      " 2   管轄警察署（発生地）     126 non-null    object\n",
      " 3   管轄交番・駐在所（発生地）  126 non-null    object\n",
      " 4   市区町村コード（発生地）   126 non-null    int64 \n",
      " 5   都道府県（発生地）      126 non-null    object\n",
      " 6   市区町村（発生地）      126 non-null    object\n",
      " 7   町丁目（発生地）       126 non-null    object\n",
      " 8   発生年月日（始期）      126 non-null    object\n",
      " 9   発生時（始期）        126 non-null    object\n",
      " 10  発生場所           126 non-null    object\n",
      " 11  発生場所の詳細        126 non-null    object\n",
      " 12  被害者の年齢         126 non-null    object\n",
      " 13  被害者の職業         126 non-null    object\n",
      " 14  施錠関係           126 non-null    object\n",
      "dtypes: int64(1), object(14)\n",
      "memory usage: 14.9+ KB\n"
     ]
    }
   ],
   "source": [
    "df.info() "
   ]
  },
  {
   "cell_type": "code",
   "execution_count": 20,
   "metadata": {},
   "outputs": [
    {
     "data": {
      "text/html": [
       "<div>\n",
       "<style scoped>\n",
       "    .dataframe tbody tr th:only-of-type {\n",
       "        vertical-align: middle;\n",
       "    }\n",
       "\n",
       "    .dataframe tbody tr th {\n",
       "        vertical-align: top;\n",
       "    }\n",
       "\n",
       "    .dataframe thead th {\n",
       "        text-align: right;\n",
       "    }\n",
       "</style>\n",
       "<table border=\"1\" class=\"dataframe\">\n",
       "  <thead>\n",
       "    <tr style=\"text-align: right;\">\n",
       "      <th></th>\n",
       "      <th>罪名</th>\n",
       "      <th>手口</th>\n",
       "      <th>管轄警察署（発生地）</th>\n",
       "      <th>管轄交番・駐在所（発生地）</th>\n",
       "      <th>市区町村コード（発生地）</th>\n",
       "      <th>都道府県（発生地）</th>\n",
       "      <th>市区町村（発生地）</th>\n",
       "      <th>町丁目（発生地）</th>\n",
       "      <th>発生年月日（始期）</th>\n",
       "      <th>発生時（始期）</th>\n",
       "      <th>発生場所</th>\n",
       "      <th>発生場所の詳細</th>\n",
       "      <th>被害者の年齢</th>\n",
       "      <th>被害者の職業</th>\n",
       "      <th>施錠関係</th>\n",
       "    </tr>\n",
       "  </thead>\n",
       "  <tbody>\n",
       "    <tr>\n",
       "      <th>56</th>\n",
       "      <td>窃盗</td>\n",
       "      <td>自転車盗</td>\n",
       "      <td>吉川</td>\n",
       "      <td>三郷中央駅前交番</td>\n",
       "      <td>112372</td>\n",
       "      <td>埼玉県</td>\n",
       "      <td>三郷市</td>\n",
       "      <td>ピアラシティ１丁目</td>\n",
       "      <td>2022-09-04</td>\n",
       "      <td>17</td>\n",
       "      <td>その他</td>\n",
       "      <td>駐車（輪）場</td>\n",
       "      <td>10歳代</td>\n",
       "      <td>中学生</td>\n",
       "      <td>施錠せず</td>\n",
       "    </tr>\n",
       "    <tr>\n",
       "      <th>78</th>\n",
       "      <td>窃盗</td>\n",
       "      <td>自転車盗</td>\n",
       "      <td>吉川</td>\n",
       "      <td>三郷駅前交番</td>\n",
       "      <td>112372</td>\n",
       "      <td>埼玉県</td>\n",
       "      <td>三郷市</td>\n",
       "      <td>早稲田２丁目</td>\n",
       "      <td>2022-04-06</td>\n",
       "      <td>21</td>\n",
       "      <td>駐車（輪）場</td>\n",
       "      <td>駐車（輪）場</td>\n",
       "      <td>60-64歳</td>\n",
       "      <td>その他</td>\n",
       "      <td>施錠した</td>\n",
       "    </tr>\n",
       "    <tr>\n",
       "      <th>60</th>\n",
       "      <td>窃盗</td>\n",
       "      <td>自転車盗</td>\n",
       "      <td>吉川</td>\n",
       "      <td>三郷中央駅前交番</td>\n",
       "      <td>112372</td>\n",
       "      <td>埼玉県</td>\n",
       "      <td>三郷市</td>\n",
       "      <td>ピアラシティ１丁目</td>\n",
       "      <td>2022-11-14</td>\n",
       "      <td>10</td>\n",
       "      <td>その他</td>\n",
       "      <td>駐車（輪）場</td>\n",
       "      <td>10歳代</td>\n",
       "      <td>中学生</td>\n",
       "      <td>施錠した</td>\n",
       "    </tr>\n",
       "    <tr>\n",
       "      <th>92</th>\n",
       "      <td>窃盗</td>\n",
       "      <td>自転車盗</td>\n",
       "      <td>吉川</td>\n",
       "      <td>三郷駅前交番</td>\n",
       "      <td>112372</td>\n",
       "      <td>埼玉県</td>\n",
       "      <td>三郷市</td>\n",
       "      <td>早稲田４丁目</td>\n",
       "      <td>2022-07-15</td>\n",
       "      <td>10</td>\n",
       "      <td>４階建て以上共同住宅</td>\n",
       "      <td>駐車（輪）場</td>\n",
       "      <td>60-64歳</td>\n",
       "      <td>その他</td>\n",
       "      <td>施錠せず</td>\n",
       "    </tr>\n",
       "    <tr>\n",
       "      <th>11</th>\n",
       "      <td>窃盗</td>\n",
       "      <td>自転車盗</td>\n",
       "      <td>吉川</td>\n",
       "      <td>三郷中央駅前交番</td>\n",
       "      <td>112372</td>\n",
       "      <td>埼玉県</td>\n",
       "      <td>三郷市</td>\n",
       "      <td>花和田</td>\n",
       "      <td>2022-11-17</td>\n",
       "      <td>16</td>\n",
       "      <td>その他</td>\n",
       "      <td>駐車（輪）場</td>\n",
       "      <td>65-69歳</td>\n",
       "      <td>その他</td>\n",
       "      <td>施錠せず</td>\n",
       "    </tr>\n",
       "    <tr>\n",
       "      <th>28</th>\n",
       "      <td>窃盗</td>\n",
       "      <td>自転車盗</td>\n",
       "      <td>吉川</td>\n",
       "      <td>三郷中央駅前交番</td>\n",
       "      <td>112372</td>\n",
       "      <td>埼玉県</td>\n",
       "      <td>三郷市</td>\n",
       "      <td>中央１丁目</td>\n",
       "      <td>2022-04-30</td>\n",
       "      <td>7</td>\n",
       "      <td>駐車（輪）場</td>\n",
       "      <td>駐車（輪）場</td>\n",
       "      <td>20歳代</td>\n",
       "      <td>その他</td>\n",
       "      <td>施錠せず</td>\n",
       "    </tr>\n",
       "  </tbody>\n",
       "</table>\n",
       "</div>"
      ],
      "text/plain": [
       "    罪名    手口 管轄警察署（発生地） 管轄交番・駐在所（発生地）  市区町村コード（発生地） 都道府県（発生地） 市区町村（発生地）  \\\n",
       "56  窃盗  自転車盗         吉川      三郷中央駅前交番        112372       埼玉県       三郷市   \n",
       "78  窃盗  自転車盗         吉川        三郷駅前交番        112372       埼玉県       三郷市   \n",
       "60  窃盗  自転車盗         吉川      三郷中央駅前交番        112372       埼玉県       三郷市   \n",
       "92  窃盗  自転車盗         吉川        三郷駅前交番        112372       埼玉県       三郷市   \n",
       "11  窃盗  自転車盗         吉川      三郷中央駅前交番        112372       埼玉県       三郷市   \n",
       "28  窃盗  自転車盗         吉川      三郷中央駅前交番        112372       埼玉県       三郷市   \n",
       "\n",
       "     町丁目（発生地）   発生年月日（始期） 発生時（始期）        発生場所 発生場所の詳細  被害者の年齢 被害者の職業  施錠関係  \n",
       "56  ピアラシティ１丁目  2022-09-04      17         その他  駐車（輪）場    10歳代    中学生  施錠せず  \n",
       "78     早稲田２丁目  2022-04-06      21      駐車（輪）場  駐車（輪）場  60-64歳    その他  施錠した  \n",
       "60  ピアラシティ１丁目  2022-11-14      10         その他  駐車（輪）場    10歳代    中学生  施錠した  \n",
       "92     早稲田４丁目  2022-07-15      10  ４階建て以上共同住宅  駐車（輪）場  60-64歳    その他  施錠せず  \n",
       "11        花和田  2022-11-17      16         その他  駐車（輪）場  65-69歳    その他  施錠せず  \n",
       "28      中央１丁目  2022-04-30       7      駐車（輪）場  駐車（輪）場    20歳代    その他  施錠せず  "
      ]
     },
     "execution_count": 20,
     "metadata": {},
     "output_type": "execute_result"
    }
   ],
   "source": [
    "#データをチェック\n",
    "misato.sample(6)"
   ]
  },
  {
   "cell_type": "markdown",
   "metadata": {},
   "source": [
    "# value_countsでチャートを作ってみる　1日に何時くらいに盗難されるのか。"
   ]
  },
  {
   "cell_type": "code",
   "execution_count": 21,
   "metadata": {},
   "outputs": [
    {
     "data": {
      "text/html": [
       "<div>\n",
       "<style scoped>\n",
       "    .dataframe tbody tr th:only-of-type {\n",
       "        vertical-align: middle;\n",
       "    }\n",
       "\n",
       "    .dataframe tbody tr th {\n",
       "        vertical-align: top;\n",
       "    }\n",
       "\n",
       "    .dataframe thead th {\n",
       "        text-align: right;\n",
       "    }\n",
       "</style>\n",
       "<table border=\"1\" class=\"dataframe\">\n",
       "  <thead>\n",
       "    <tr style=\"text-align: right;\">\n",
       "      <th></th>\n",
       "      <th>発生時（始期）</th>\n",
       "      <th>count</th>\n",
       "    </tr>\n",
       "  </thead>\n",
       "  <tbody>\n",
       "    <tr>\n",
       "      <th>0</th>\n",
       "      <td>18</td>\n",
       "      <td>16</td>\n",
       "    </tr>\n",
       "    <tr>\n",
       "      <th>1</th>\n",
       "      <td>8</td>\n",
       "      <td>15</td>\n",
       "    </tr>\n",
       "    <tr>\n",
       "      <th>2</th>\n",
       "      <td>13</td>\n",
       "      <td>10</td>\n",
       "    </tr>\n",
       "    <tr>\n",
       "      <th>3</th>\n",
       "      <td>20</td>\n",
       "      <td>10</td>\n",
       "    </tr>\n",
       "    <tr>\n",
       "      <th>4</th>\n",
       "      <td>10</td>\n",
       "      <td>9</td>\n",
       "    </tr>\n",
       "    <tr>\n",
       "      <th>5</th>\n",
       "      <td>17</td>\n",
       "      <td>9</td>\n",
       "    </tr>\n",
       "    <tr>\n",
       "      <th>6</th>\n",
       "      <td>16</td>\n",
       "      <td>8</td>\n",
       "    </tr>\n",
       "    <tr>\n",
       "      <th>7</th>\n",
       "      <td>9</td>\n",
       "      <td>7</td>\n",
       "    </tr>\n",
       "    <tr>\n",
       "      <th>8</th>\n",
       "      <td>19</td>\n",
       "      <td>6</td>\n",
       "    </tr>\n",
       "    <tr>\n",
       "      <th>9</th>\n",
       "      <td>14</td>\n",
       "      <td>5</td>\n",
       "    </tr>\n",
       "    <tr>\n",
       "      <th>10</th>\n",
       "      <td>15</td>\n",
       "      <td>5</td>\n",
       "    </tr>\n",
       "    <tr>\n",
       "      <th>11</th>\n",
       "      <td>11</td>\n",
       "      <td>4</td>\n",
       "    </tr>\n",
       "    <tr>\n",
       "      <th>12</th>\n",
       "      <td>22</td>\n",
       "      <td>4</td>\n",
       "    </tr>\n",
       "    <tr>\n",
       "      <th>13</th>\n",
       "      <td>7</td>\n",
       "      <td>3</td>\n",
       "    </tr>\n",
       "    <tr>\n",
       "      <th>14</th>\n",
       "      <td>不明</td>\n",
       "      <td>3</td>\n",
       "    </tr>\n",
       "    <tr>\n",
       "      <th>15</th>\n",
       "      <td>12</td>\n",
       "      <td>3</td>\n",
       "    </tr>\n",
       "    <tr>\n",
       "      <th>16</th>\n",
       "      <td>21</td>\n",
       "      <td>3</td>\n",
       "    </tr>\n",
       "    <tr>\n",
       "      <th>17</th>\n",
       "      <td>0</td>\n",
       "      <td>2</td>\n",
       "    </tr>\n",
       "    <tr>\n",
       "      <th>18</th>\n",
       "      <td>6</td>\n",
       "      <td>1</td>\n",
       "    </tr>\n",
       "    <tr>\n",
       "      <th>19</th>\n",
       "      <td>5</td>\n",
       "      <td>1</td>\n",
       "    </tr>\n",
       "    <tr>\n",
       "      <th>20</th>\n",
       "      <td>3</td>\n",
       "      <td>1</td>\n",
       "    </tr>\n",
       "    <tr>\n",
       "      <th>21</th>\n",
       "      <td>23</td>\n",
       "      <td>1</td>\n",
       "    </tr>\n",
       "  </tbody>\n",
       "</table>\n",
       "</div>"
      ],
      "text/plain": [
       "   発生時（始期）  count\n",
       "0       18     16\n",
       "1        8     15\n",
       "2       13     10\n",
       "3       20     10\n",
       "4       10      9\n",
       "5       17      9\n",
       "6       16      8\n",
       "7        9      7\n",
       "8       19      6\n",
       "9       14      5\n",
       "10      15      5\n",
       "11      11      4\n",
       "12      22      4\n",
       "13       7      3\n",
       "14      不明      3\n",
       "15      12      3\n",
       "16      21      3\n",
       "17       0      2\n",
       "18       6      1\n",
       "19       5      1\n",
       "20       3      1\n",
       "21      23      1"
      ]
     },
     "execution_count": 21,
     "metadata": {},
     "output_type": "execute_result"
    }
   ],
   "source": [
    "# create a new variable with hourly counts\n",
    "time = misato['発生時（始期）'].value_counts().reset_index()\n",
    "\n",
    "time"
   ]
  },
  {
   "cell_type": "code",
   "execution_count": 22,
   "metadata": {},
   "outputs": [
    {
     "data": {
      "text/html": [
       "<div>\n",
       "<style scoped>\n",
       "    .dataframe tbody tr th:only-of-type {\n",
       "        vertical-align: middle;\n",
       "    }\n",
       "\n",
       "    .dataframe tbody tr th {\n",
       "        vertical-align: top;\n",
       "    }\n",
       "\n",
       "    .dataframe thead th {\n",
       "        text-align: right;\n",
       "    }\n",
       "</style>\n",
       "<table border=\"1\" class=\"dataframe\">\n",
       "  <thead>\n",
       "    <tr style=\"text-align: right;\">\n",
       "      <th></th>\n",
       "      <th>発生時（始期）</th>\n",
       "      <th>件数</th>\n",
       "    </tr>\n",
       "  </thead>\n",
       "  <tbody>\n",
       "    <tr>\n",
       "      <th>0</th>\n",
       "      <td>18</td>\n",
       "      <td>16</td>\n",
       "    </tr>\n",
       "    <tr>\n",
       "      <th>1</th>\n",
       "      <td>8</td>\n",
       "      <td>15</td>\n",
       "    </tr>\n",
       "    <tr>\n",
       "      <th>2</th>\n",
       "      <td>13</td>\n",
       "      <td>10</td>\n",
       "    </tr>\n",
       "    <tr>\n",
       "      <th>3</th>\n",
       "      <td>20</td>\n",
       "      <td>10</td>\n",
       "    </tr>\n",
       "    <tr>\n",
       "      <th>4</th>\n",
       "      <td>10</td>\n",
       "      <td>9</td>\n",
       "    </tr>\n",
       "    <tr>\n",
       "      <th>5</th>\n",
       "      <td>17</td>\n",
       "      <td>9</td>\n",
       "    </tr>\n",
       "    <tr>\n",
       "      <th>6</th>\n",
       "      <td>16</td>\n",
       "      <td>8</td>\n",
       "    </tr>\n",
       "    <tr>\n",
       "      <th>7</th>\n",
       "      <td>9</td>\n",
       "      <td>7</td>\n",
       "    </tr>\n",
       "    <tr>\n",
       "      <th>8</th>\n",
       "      <td>19</td>\n",
       "      <td>6</td>\n",
       "    </tr>\n",
       "    <tr>\n",
       "      <th>9</th>\n",
       "      <td>14</td>\n",
       "      <td>5</td>\n",
       "    </tr>\n",
       "    <tr>\n",
       "      <th>10</th>\n",
       "      <td>15</td>\n",
       "      <td>5</td>\n",
       "    </tr>\n",
       "    <tr>\n",
       "      <th>11</th>\n",
       "      <td>11</td>\n",
       "      <td>4</td>\n",
       "    </tr>\n",
       "    <tr>\n",
       "      <th>12</th>\n",
       "      <td>22</td>\n",
       "      <td>4</td>\n",
       "    </tr>\n",
       "    <tr>\n",
       "      <th>13</th>\n",
       "      <td>7</td>\n",
       "      <td>3</td>\n",
       "    </tr>\n",
       "    <tr>\n",
       "      <th>14</th>\n",
       "      <td>不明</td>\n",
       "      <td>3</td>\n",
       "    </tr>\n",
       "    <tr>\n",
       "      <th>15</th>\n",
       "      <td>12</td>\n",
       "      <td>3</td>\n",
       "    </tr>\n",
       "    <tr>\n",
       "      <th>16</th>\n",
       "      <td>21</td>\n",
       "      <td>3</td>\n",
       "    </tr>\n",
       "    <tr>\n",
       "      <th>17</th>\n",
       "      <td>0</td>\n",
       "      <td>2</td>\n",
       "    </tr>\n",
       "    <tr>\n",
       "      <th>18</th>\n",
       "      <td>6</td>\n",
       "      <td>1</td>\n",
       "    </tr>\n",
       "    <tr>\n",
       "      <th>19</th>\n",
       "      <td>5</td>\n",
       "      <td>1</td>\n",
       "    </tr>\n",
       "    <tr>\n",
       "      <th>20</th>\n",
       "      <td>3</td>\n",
       "      <td>1</td>\n",
       "    </tr>\n",
       "    <tr>\n",
       "      <th>21</th>\n",
       "      <td>23</td>\n",
       "      <td>1</td>\n",
       "    </tr>\n",
       "  </tbody>\n",
       "</table>\n",
       "</div>"
      ],
      "text/plain": [
       "   発生時（始期）  件数\n",
       "0       18  16\n",
       "1        8  15\n",
       "2       13  10\n",
       "3       20  10\n",
       "4       10   9\n",
       "5       17   9\n",
       "6       16   8\n",
       "7        9   7\n",
       "8       19   6\n",
       "9       14   5\n",
       "10      15   5\n",
       "11      11   4\n",
       "12      22   4\n",
       "13       7   3\n",
       "14      不明   3\n",
       "15      12   3\n",
       "16      21   3\n",
       "17       0   2\n",
       "18       6   1\n",
       "19       5   1\n",
       "20       3   1\n",
       "21      23   1"
      ]
     },
     "execution_count": 22,
     "metadata": {},
     "output_type": "execute_result"
    }
   ],
   "source": [
    "# fix headers\n",
    "time.columns = ['発生時（始期）','件数']\n",
    "time      "
   ]
  },
  {
   "cell_type": "markdown",
   "metadata": {},
   "source": [
    "#### データフレームをチャートで表す"
   ]
  },
  {
   "cell_type": "code",
   "execution_count": 23,
   "metadata": {},
   "outputs": [
    {
     "data": {
      "application/vnd.plotly.v1+json": {
       "config": {
        "plotlyServerURL": "https://plot.ly"
       },
       "data": [
        {
         "alignmentgroup": "True",
         "hovertemplate": "発生時（始期）=%{x}<br>件数=%{y}<extra></extra>",
         "legendgroup": "",
         "marker": {
          "color": "#636efa",
          "pattern": {
           "shape": ""
          }
         },
         "name": "",
         "offsetgroup": "",
         "orientation": "v",
         "showlegend": false,
         "textposition": "auto",
         "type": "bar",
         "x": [
          "18",
          "8",
          "13",
          "20",
          "10",
          "17",
          "16",
          "9",
          "19",
          "14",
          "15",
          "11",
          "22",
          "7",
          "不明",
          "12",
          "21",
          "0",
          "6",
          "5",
          "3",
          "23"
         ],
         "xaxis": "x",
         "y": [
          16,
          15,
          10,
          10,
          9,
          9,
          8,
          7,
          6,
          5,
          5,
          4,
          4,
          3,
          3,
          3,
          3,
          2,
          1,
          1,
          1,
          1
         ],
         "yaxis": "y"
        }
       ],
       "layout": {
        "barmode": "relative",
        "legend": {
         "tracegroupgap": 0
        },
        "margin": {
         "t": 60
        },
        "template": {
         "data": {
          "bar": [
           {
            "error_x": {
             "color": "#2a3f5f"
            },
            "error_y": {
             "color": "#2a3f5f"
            },
            "marker": {
             "line": {
              "color": "#E5ECF6",
              "width": 0.5
             },
             "pattern": {
              "fillmode": "overlay",
              "size": 10,
              "solidity": 0.2
             }
            },
            "type": "bar"
           }
          ],
          "barpolar": [
           {
            "marker": {
             "line": {
              "color": "#E5ECF6",
              "width": 0.5
             },
             "pattern": {
              "fillmode": "overlay",
              "size": 10,
              "solidity": 0.2
             }
            },
            "type": "barpolar"
           }
          ],
          "carpet": [
           {
            "aaxis": {
             "endlinecolor": "#2a3f5f",
             "gridcolor": "white",
             "linecolor": "white",
             "minorgridcolor": "white",
             "startlinecolor": "#2a3f5f"
            },
            "baxis": {
             "endlinecolor": "#2a3f5f",
             "gridcolor": "white",
             "linecolor": "white",
             "minorgridcolor": "white",
             "startlinecolor": "#2a3f5f"
            },
            "type": "carpet"
           }
          ],
          "choropleth": [
           {
            "colorbar": {
             "outlinewidth": 0,
             "ticks": ""
            },
            "type": "choropleth"
           }
          ],
          "contour": [
           {
            "colorbar": {
             "outlinewidth": 0,
             "ticks": ""
            },
            "colorscale": [
             [
              0,
              "#0d0887"
             ],
             [
              0.1111111111111111,
              "#46039f"
             ],
             [
              0.2222222222222222,
              "#7201a8"
             ],
             [
              0.3333333333333333,
              "#9c179e"
             ],
             [
              0.4444444444444444,
              "#bd3786"
             ],
             [
              0.5555555555555556,
              "#d8576b"
             ],
             [
              0.6666666666666666,
              "#ed7953"
             ],
             [
              0.7777777777777778,
              "#fb9f3a"
             ],
             [
              0.8888888888888888,
              "#fdca26"
             ],
             [
              1,
              "#f0f921"
             ]
            ],
            "type": "contour"
           }
          ],
          "contourcarpet": [
           {
            "colorbar": {
             "outlinewidth": 0,
             "ticks": ""
            },
            "type": "contourcarpet"
           }
          ],
          "heatmap": [
           {
            "colorbar": {
             "outlinewidth": 0,
             "ticks": ""
            },
            "colorscale": [
             [
              0,
              "#0d0887"
             ],
             [
              0.1111111111111111,
              "#46039f"
             ],
             [
              0.2222222222222222,
              "#7201a8"
             ],
             [
              0.3333333333333333,
              "#9c179e"
             ],
             [
              0.4444444444444444,
              "#bd3786"
             ],
             [
              0.5555555555555556,
              "#d8576b"
             ],
             [
              0.6666666666666666,
              "#ed7953"
             ],
             [
              0.7777777777777778,
              "#fb9f3a"
             ],
             [
              0.8888888888888888,
              "#fdca26"
             ],
             [
              1,
              "#f0f921"
             ]
            ],
            "type": "heatmap"
           }
          ],
          "heatmapgl": [
           {
            "colorbar": {
             "outlinewidth": 0,
             "ticks": ""
            },
            "colorscale": [
             [
              0,
              "#0d0887"
             ],
             [
              0.1111111111111111,
              "#46039f"
             ],
             [
              0.2222222222222222,
              "#7201a8"
             ],
             [
              0.3333333333333333,
              "#9c179e"
             ],
             [
              0.4444444444444444,
              "#bd3786"
             ],
             [
              0.5555555555555556,
              "#d8576b"
             ],
             [
              0.6666666666666666,
              "#ed7953"
             ],
             [
              0.7777777777777778,
              "#fb9f3a"
             ],
             [
              0.8888888888888888,
              "#fdca26"
             ],
             [
              1,
              "#f0f921"
             ]
            ],
            "type": "heatmapgl"
           }
          ],
          "histogram": [
           {
            "marker": {
             "pattern": {
              "fillmode": "overlay",
              "size": 10,
              "solidity": 0.2
             }
            },
            "type": "histogram"
           }
          ],
          "histogram2d": [
           {
            "colorbar": {
             "outlinewidth": 0,
             "ticks": ""
            },
            "colorscale": [
             [
              0,
              "#0d0887"
             ],
             [
              0.1111111111111111,
              "#46039f"
             ],
             [
              0.2222222222222222,
              "#7201a8"
             ],
             [
              0.3333333333333333,
              "#9c179e"
             ],
             [
              0.4444444444444444,
              "#bd3786"
             ],
             [
              0.5555555555555556,
              "#d8576b"
             ],
             [
              0.6666666666666666,
              "#ed7953"
             ],
             [
              0.7777777777777778,
              "#fb9f3a"
             ],
             [
              0.8888888888888888,
              "#fdca26"
             ],
             [
              1,
              "#f0f921"
             ]
            ],
            "type": "histogram2d"
           }
          ],
          "histogram2dcontour": [
           {
            "colorbar": {
             "outlinewidth": 0,
             "ticks": ""
            },
            "colorscale": [
             [
              0,
              "#0d0887"
             ],
             [
              0.1111111111111111,
              "#46039f"
             ],
             [
              0.2222222222222222,
              "#7201a8"
             ],
             [
              0.3333333333333333,
              "#9c179e"
             ],
             [
              0.4444444444444444,
              "#bd3786"
             ],
             [
              0.5555555555555556,
              "#d8576b"
             ],
             [
              0.6666666666666666,
              "#ed7953"
             ],
             [
              0.7777777777777778,
              "#fb9f3a"
             ],
             [
              0.8888888888888888,
              "#fdca26"
             ],
             [
              1,
              "#f0f921"
             ]
            ],
            "type": "histogram2dcontour"
           }
          ],
          "mesh3d": [
           {
            "colorbar": {
             "outlinewidth": 0,
             "ticks": ""
            },
            "type": "mesh3d"
           }
          ],
          "parcoords": [
           {
            "line": {
             "colorbar": {
              "outlinewidth": 0,
              "ticks": ""
             }
            },
            "type": "parcoords"
           }
          ],
          "pie": [
           {
            "automargin": true,
            "type": "pie"
           }
          ],
          "scatter": [
           {
            "fillpattern": {
             "fillmode": "overlay",
             "size": 10,
             "solidity": 0.2
            },
            "type": "scatter"
           }
          ],
          "scatter3d": [
           {
            "line": {
             "colorbar": {
              "outlinewidth": 0,
              "ticks": ""
             }
            },
            "marker": {
             "colorbar": {
              "outlinewidth": 0,
              "ticks": ""
             }
            },
            "type": "scatter3d"
           }
          ],
          "scattercarpet": [
           {
            "marker": {
             "colorbar": {
              "outlinewidth": 0,
              "ticks": ""
             }
            },
            "type": "scattercarpet"
           }
          ],
          "scattergeo": [
           {
            "marker": {
             "colorbar": {
              "outlinewidth": 0,
              "ticks": ""
             }
            },
            "type": "scattergeo"
           }
          ],
          "scattergl": [
           {
            "marker": {
             "colorbar": {
              "outlinewidth": 0,
              "ticks": ""
             }
            },
            "type": "scattergl"
           }
          ],
          "scattermapbox": [
           {
            "marker": {
             "colorbar": {
              "outlinewidth": 0,
              "ticks": ""
             }
            },
            "type": "scattermapbox"
           }
          ],
          "scatterpolar": [
           {
            "marker": {
             "colorbar": {
              "outlinewidth": 0,
              "ticks": ""
             }
            },
            "type": "scatterpolar"
           }
          ],
          "scatterpolargl": [
           {
            "marker": {
             "colorbar": {
              "outlinewidth": 0,
              "ticks": ""
             }
            },
            "type": "scatterpolargl"
           }
          ],
          "scatterternary": [
           {
            "marker": {
             "colorbar": {
              "outlinewidth": 0,
              "ticks": ""
             }
            },
            "type": "scatterternary"
           }
          ],
          "surface": [
           {
            "colorbar": {
             "outlinewidth": 0,
             "ticks": ""
            },
            "colorscale": [
             [
              0,
              "#0d0887"
             ],
             [
              0.1111111111111111,
              "#46039f"
             ],
             [
              0.2222222222222222,
              "#7201a8"
             ],
             [
              0.3333333333333333,
              "#9c179e"
             ],
             [
              0.4444444444444444,
              "#bd3786"
             ],
             [
              0.5555555555555556,
              "#d8576b"
             ],
             [
              0.6666666666666666,
              "#ed7953"
             ],
             [
              0.7777777777777778,
              "#fb9f3a"
             ],
             [
              0.8888888888888888,
              "#fdca26"
             ],
             [
              1,
              "#f0f921"
             ]
            ],
            "type": "surface"
           }
          ],
          "table": [
           {
            "cells": {
             "fill": {
              "color": "#EBF0F8"
             },
             "line": {
              "color": "white"
             }
            },
            "header": {
             "fill": {
              "color": "#C8D4E3"
             },
             "line": {
              "color": "white"
             }
            },
            "type": "table"
           }
          ]
         },
         "layout": {
          "annotationdefaults": {
           "arrowcolor": "#2a3f5f",
           "arrowhead": 0,
           "arrowwidth": 1
          },
          "autotypenumbers": "strict",
          "coloraxis": {
           "colorbar": {
            "outlinewidth": 0,
            "ticks": ""
           }
          },
          "colorscale": {
           "diverging": [
            [
             0,
             "#8e0152"
            ],
            [
             0.1,
             "#c51b7d"
            ],
            [
             0.2,
             "#de77ae"
            ],
            [
             0.3,
             "#f1b6da"
            ],
            [
             0.4,
             "#fde0ef"
            ],
            [
             0.5,
             "#f7f7f7"
            ],
            [
             0.6,
             "#e6f5d0"
            ],
            [
             0.7,
             "#b8e186"
            ],
            [
             0.8,
             "#7fbc41"
            ],
            [
             0.9,
             "#4d9221"
            ],
            [
             1,
             "#276419"
            ]
           ],
           "sequential": [
            [
             0,
             "#0d0887"
            ],
            [
             0.1111111111111111,
             "#46039f"
            ],
            [
             0.2222222222222222,
             "#7201a8"
            ],
            [
             0.3333333333333333,
             "#9c179e"
            ],
            [
             0.4444444444444444,
             "#bd3786"
            ],
            [
             0.5555555555555556,
             "#d8576b"
            ],
            [
             0.6666666666666666,
             "#ed7953"
            ],
            [
             0.7777777777777778,
             "#fb9f3a"
            ],
            [
             0.8888888888888888,
             "#fdca26"
            ],
            [
             1,
             "#f0f921"
            ]
           ],
           "sequentialminus": [
            [
             0,
             "#0d0887"
            ],
            [
             0.1111111111111111,
             "#46039f"
            ],
            [
             0.2222222222222222,
             "#7201a8"
            ],
            [
             0.3333333333333333,
             "#9c179e"
            ],
            [
             0.4444444444444444,
             "#bd3786"
            ],
            [
             0.5555555555555556,
             "#d8576b"
            ],
            [
             0.6666666666666666,
             "#ed7953"
            ],
            [
             0.7777777777777778,
             "#fb9f3a"
            ],
            [
             0.8888888888888888,
             "#fdca26"
            ],
            [
             1,
             "#f0f921"
            ]
           ]
          },
          "colorway": [
           "#636efa",
           "#EF553B",
           "#00cc96",
           "#ab63fa",
           "#FFA15A",
           "#19d3f3",
           "#FF6692",
           "#B6E880",
           "#FF97FF",
           "#FECB52"
          ],
          "font": {
           "color": "#2a3f5f"
          },
          "geo": {
           "bgcolor": "white",
           "lakecolor": "white",
           "landcolor": "#E5ECF6",
           "showlakes": true,
           "showland": true,
           "subunitcolor": "white"
          },
          "hoverlabel": {
           "align": "left"
          },
          "hovermode": "closest",
          "mapbox": {
           "style": "light"
          },
          "paper_bgcolor": "white",
          "plot_bgcolor": "#E5ECF6",
          "polar": {
           "angularaxis": {
            "gridcolor": "white",
            "linecolor": "white",
            "ticks": ""
           },
           "bgcolor": "#E5ECF6",
           "radialaxis": {
            "gridcolor": "white",
            "linecolor": "white",
            "ticks": ""
           }
          },
          "scene": {
           "xaxis": {
            "backgroundcolor": "#E5ECF6",
            "gridcolor": "white",
            "gridwidth": 2,
            "linecolor": "white",
            "showbackground": true,
            "ticks": "",
            "zerolinecolor": "white"
           },
           "yaxis": {
            "backgroundcolor": "#E5ECF6",
            "gridcolor": "white",
            "gridwidth": 2,
            "linecolor": "white",
            "showbackground": true,
            "ticks": "",
            "zerolinecolor": "white"
           },
           "zaxis": {
            "backgroundcolor": "#E5ECF6",
            "gridcolor": "white",
            "gridwidth": 2,
            "linecolor": "white",
            "showbackground": true,
            "ticks": "",
            "zerolinecolor": "white"
           }
          },
          "shapedefaults": {
           "line": {
            "color": "#2a3f5f"
           }
          },
          "ternary": {
           "aaxis": {
            "gridcolor": "white",
            "linecolor": "white",
            "ticks": ""
           },
           "baxis": {
            "gridcolor": "white",
            "linecolor": "white",
            "ticks": ""
           },
           "bgcolor": "#E5ECF6",
           "caxis": {
            "gridcolor": "white",
            "linecolor": "white",
            "ticks": ""
           }
          },
          "title": {
           "x": 0.05
          },
          "xaxis": {
           "automargin": true,
           "gridcolor": "white",
           "linecolor": "white",
           "ticks": "",
           "title": {
            "standoff": 15
           },
           "zerolinecolor": "white",
           "zerolinewidth": 2
          },
          "yaxis": {
           "automargin": true,
           "gridcolor": "white",
           "linecolor": "white",
           "ticks": "",
           "title": {
            "standoff": 15
           },
           "zerolinecolor": "white",
           "zerolinewidth": 2
          }
         }
        },
        "xaxis": {
         "anchor": "y",
         "domain": [
          0,
          1
         ],
         "title": {
          "text": "発生時（始期）"
         }
        },
        "yaxis": {
         "anchor": "x",
         "domain": [
          0,
          1
         ],
         "title": {
          "text": "件数"
         }
        }
       }
      }
     },
     "metadata": {},
     "output_type": "display_data"
    }
   ],
   "source": [
    "fig = px.bar(time,x='発生時（始期）',y='件数')\n",
    "fig.show()"
   ]
  },
  {
   "cell_type": "code",
   "execution_count": 24,
   "metadata": {},
   "outputs": [
    {
     "data": {
      "application/vnd.plotly.v1+json": {
       "config": {
        "plotlyServerURL": "https://plot.ly"
       },
       "data": [
        {
         "alignmentgroup": "True",
         "hovertemplate": "発生時（始期）=%{x}<br>件数=%{y}<extra></extra>",
         "legendgroup": "",
         "marker": {
          "color": "#636efa",
          "pattern": {
           "shape": ""
          }
         },
         "name": "",
         "offsetgroup": "",
         "orientation": "v",
         "showlegend": false,
         "textposition": "auto",
         "type": "bar",
         "x": [
          "18",
          "8",
          "13",
          "20",
          "10",
          "17",
          "16",
          "9",
          "19",
          "14",
          "15",
          "11",
          "22",
          "7",
          "不明",
          "12",
          "21",
          "0",
          "6",
          "5",
          "3",
          "23"
         ],
         "xaxis": "x",
         "y": [
          16,
          15,
          10,
          10,
          9,
          9,
          8,
          7,
          6,
          5,
          5,
          4,
          4,
          3,
          3,
          3,
          3,
          2,
          1,
          1,
          1,
          1
         ],
         "yaxis": "y"
        }
       ],
       "layout": {
        "barmode": "relative",
        "legend": {
         "tracegroupgap": 0
        },
        "margin": {
         "t": 60
        },
        "template": {
         "data": {
          "bar": [
           {
            "error_x": {
             "color": "#2a3f5f"
            },
            "error_y": {
             "color": "#2a3f5f"
            },
            "marker": {
             "line": {
              "color": "#E5ECF6",
              "width": 0.5
             },
             "pattern": {
              "fillmode": "overlay",
              "size": 10,
              "solidity": 0.2
             }
            },
            "type": "bar"
           }
          ],
          "barpolar": [
           {
            "marker": {
             "line": {
              "color": "#E5ECF6",
              "width": 0.5
             },
             "pattern": {
              "fillmode": "overlay",
              "size": 10,
              "solidity": 0.2
             }
            },
            "type": "barpolar"
           }
          ],
          "carpet": [
           {
            "aaxis": {
             "endlinecolor": "#2a3f5f",
             "gridcolor": "white",
             "linecolor": "white",
             "minorgridcolor": "white",
             "startlinecolor": "#2a3f5f"
            },
            "baxis": {
             "endlinecolor": "#2a3f5f",
             "gridcolor": "white",
             "linecolor": "white",
             "minorgridcolor": "white",
             "startlinecolor": "#2a3f5f"
            },
            "type": "carpet"
           }
          ],
          "choropleth": [
           {
            "colorbar": {
             "outlinewidth": 0,
             "ticks": ""
            },
            "type": "choropleth"
           }
          ],
          "contour": [
           {
            "colorbar": {
             "outlinewidth": 0,
             "ticks": ""
            },
            "colorscale": [
             [
              0,
              "#0d0887"
             ],
             [
              0.1111111111111111,
              "#46039f"
             ],
             [
              0.2222222222222222,
              "#7201a8"
             ],
             [
              0.3333333333333333,
              "#9c179e"
             ],
             [
              0.4444444444444444,
              "#bd3786"
             ],
             [
              0.5555555555555556,
              "#d8576b"
             ],
             [
              0.6666666666666666,
              "#ed7953"
             ],
             [
              0.7777777777777778,
              "#fb9f3a"
             ],
             [
              0.8888888888888888,
              "#fdca26"
             ],
             [
              1,
              "#f0f921"
             ]
            ],
            "type": "contour"
           }
          ],
          "contourcarpet": [
           {
            "colorbar": {
             "outlinewidth": 0,
             "ticks": ""
            },
            "type": "contourcarpet"
           }
          ],
          "heatmap": [
           {
            "colorbar": {
             "outlinewidth": 0,
             "ticks": ""
            },
            "colorscale": [
             [
              0,
              "#0d0887"
             ],
             [
              0.1111111111111111,
              "#46039f"
             ],
             [
              0.2222222222222222,
              "#7201a8"
             ],
             [
              0.3333333333333333,
              "#9c179e"
             ],
             [
              0.4444444444444444,
              "#bd3786"
             ],
             [
              0.5555555555555556,
              "#d8576b"
             ],
             [
              0.6666666666666666,
              "#ed7953"
             ],
             [
              0.7777777777777778,
              "#fb9f3a"
             ],
             [
              0.8888888888888888,
              "#fdca26"
             ],
             [
              1,
              "#f0f921"
             ]
            ],
            "type": "heatmap"
           }
          ],
          "heatmapgl": [
           {
            "colorbar": {
             "outlinewidth": 0,
             "ticks": ""
            },
            "colorscale": [
             [
              0,
              "#0d0887"
             ],
             [
              0.1111111111111111,
              "#46039f"
             ],
             [
              0.2222222222222222,
              "#7201a8"
             ],
             [
              0.3333333333333333,
              "#9c179e"
             ],
             [
              0.4444444444444444,
              "#bd3786"
             ],
             [
              0.5555555555555556,
              "#d8576b"
             ],
             [
              0.6666666666666666,
              "#ed7953"
             ],
             [
              0.7777777777777778,
              "#fb9f3a"
             ],
             [
              0.8888888888888888,
              "#fdca26"
             ],
             [
              1,
              "#f0f921"
             ]
            ],
            "type": "heatmapgl"
           }
          ],
          "histogram": [
           {
            "marker": {
             "pattern": {
              "fillmode": "overlay",
              "size": 10,
              "solidity": 0.2
             }
            },
            "type": "histogram"
           }
          ],
          "histogram2d": [
           {
            "colorbar": {
             "outlinewidth": 0,
             "ticks": ""
            },
            "colorscale": [
             [
              0,
              "#0d0887"
             ],
             [
              0.1111111111111111,
              "#46039f"
             ],
             [
              0.2222222222222222,
              "#7201a8"
             ],
             [
              0.3333333333333333,
              "#9c179e"
             ],
             [
              0.4444444444444444,
              "#bd3786"
             ],
             [
              0.5555555555555556,
              "#d8576b"
             ],
             [
              0.6666666666666666,
              "#ed7953"
             ],
             [
              0.7777777777777778,
              "#fb9f3a"
             ],
             [
              0.8888888888888888,
              "#fdca26"
             ],
             [
              1,
              "#f0f921"
             ]
            ],
            "type": "histogram2d"
           }
          ],
          "histogram2dcontour": [
           {
            "colorbar": {
             "outlinewidth": 0,
             "ticks": ""
            },
            "colorscale": [
             [
              0,
              "#0d0887"
             ],
             [
              0.1111111111111111,
              "#46039f"
             ],
             [
              0.2222222222222222,
              "#7201a8"
             ],
             [
              0.3333333333333333,
              "#9c179e"
             ],
             [
              0.4444444444444444,
              "#bd3786"
             ],
             [
              0.5555555555555556,
              "#d8576b"
             ],
             [
              0.6666666666666666,
              "#ed7953"
             ],
             [
              0.7777777777777778,
              "#fb9f3a"
             ],
             [
              0.8888888888888888,
              "#fdca26"
             ],
             [
              1,
              "#f0f921"
             ]
            ],
            "type": "histogram2dcontour"
           }
          ],
          "mesh3d": [
           {
            "colorbar": {
             "outlinewidth": 0,
             "ticks": ""
            },
            "type": "mesh3d"
           }
          ],
          "parcoords": [
           {
            "line": {
             "colorbar": {
              "outlinewidth": 0,
              "ticks": ""
             }
            },
            "type": "parcoords"
           }
          ],
          "pie": [
           {
            "automargin": true,
            "type": "pie"
           }
          ],
          "scatter": [
           {
            "fillpattern": {
             "fillmode": "overlay",
             "size": 10,
             "solidity": 0.2
            },
            "type": "scatter"
           }
          ],
          "scatter3d": [
           {
            "line": {
             "colorbar": {
              "outlinewidth": 0,
              "ticks": ""
             }
            },
            "marker": {
             "colorbar": {
              "outlinewidth": 0,
              "ticks": ""
             }
            },
            "type": "scatter3d"
           }
          ],
          "scattercarpet": [
           {
            "marker": {
             "colorbar": {
              "outlinewidth": 0,
              "ticks": ""
             }
            },
            "type": "scattercarpet"
           }
          ],
          "scattergeo": [
           {
            "marker": {
             "colorbar": {
              "outlinewidth": 0,
              "ticks": ""
             }
            },
            "type": "scattergeo"
           }
          ],
          "scattergl": [
           {
            "marker": {
             "colorbar": {
              "outlinewidth": 0,
              "ticks": ""
             }
            },
            "type": "scattergl"
           }
          ],
          "scattermapbox": [
           {
            "marker": {
             "colorbar": {
              "outlinewidth": 0,
              "ticks": ""
             }
            },
            "type": "scattermapbox"
           }
          ],
          "scatterpolar": [
           {
            "marker": {
             "colorbar": {
              "outlinewidth": 0,
              "ticks": ""
             }
            },
            "type": "scatterpolar"
           }
          ],
          "scatterpolargl": [
           {
            "marker": {
             "colorbar": {
              "outlinewidth": 0,
              "ticks": ""
             }
            },
            "type": "scatterpolargl"
           }
          ],
          "scatterternary": [
           {
            "marker": {
             "colorbar": {
              "outlinewidth": 0,
              "ticks": ""
             }
            },
            "type": "scatterternary"
           }
          ],
          "surface": [
           {
            "colorbar": {
             "outlinewidth": 0,
             "ticks": ""
            },
            "colorscale": [
             [
              0,
              "#0d0887"
             ],
             [
              0.1111111111111111,
              "#46039f"
             ],
             [
              0.2222222222222222,
              "#7201a8"
             ],
             [
              0.3333333333333333,
              "#9c179e"
             ],
             [
              0.4444444444444444,
              "#bd3786"
             ],
             [
              0.5555555555555556,
              "#d8576b"
             ],
             [
              0.6666666666666666,
              "#ed7953"
             ],
             [
              0.7777777777777778,
              "#fb9f3a"
             ],
             [
              0.8888888888888888,
              "#fdca26"
             ],
             [
              1,
              "#f0f921"
             ]
            ],
            "type": "surface"
           }
          ],
          "table": [
           {
            "cells": {
             "fill": {
              "color": "#EBF0F8"
             },
             "line": {
              "color": "white"
             }
            },
            "header": {
             "fill": {
              "color": "#C8D4E3"
             },
             "line": {
              "color": "white"
             }
            },
            "type": "table"
           }
          ]
         },
         "layout": {
          "annotationdefaults": {
           "arrowcolor": "#2a3f5f",
           "arrowhead": 0,
           "arrowwidth": 1
          },
          "autotypenumbers": "strict",
          "coloraxis": {
           "colorbar": {
            "outlinewidth": 0,
            "ticks": ""
           }
          },
          "colorscale": {
           "diverging": [
            [
             0,
             "#8e0152"
            ],
            [
             0.1,
             "#c51b7d"
            ],
            [
             0.2,
             "#de77ae"
            ],
            [
             0.3,
             "#f1b6da"
            ],
            [
             0.4,
             "#fde0ef"
            ],
            [
             0.5,
             "#f7f7f7"
            ],
            [
             0.6,
             "#e6f5d0"
            ],
            [
             0.7,
             "#b8e186"
            ],
            [
             0.8,
             "#7fbc41"
            ],
            [
             0.9,
             "#4d9221"
            ],
            [
             1,
             "#276419"
            ]
           ],
           "sequential": [
            [
             0,
             "#0d0887"
            ],
            [
             0.1111111111111111,
             "#46039f"
            ],
            [
             0.2222222222222222,
             "#7201a8"
            ],
            [
             0.3333333333333333,
             "#9c179e"
            ],
            [
             0.4444444444444444,
             "#bd3786"
            ],
            [
             0.5555555555555556,
             "#d8576b"
            ],
            [
             0.6666666666666666,
             "#ed7953"
            ],
            [
             0.7777777777777778,
             "#fb9f3a"
            ],
            [
             0.8888888888888888,
             "#fdca26"
            ],
            [
             1,
             "#f0f921"
            ]
           ],
           "sequentialminus": [
            [
             0,
             "#0d0887"
            ],
            [
             0.1111111111111111,
             "#46039f"
            ],
            [
             0.2222222222222222,
             "#7201a8"
            ],
            [
             0.3333333333333333,
             "#9c179e"
            ],
            [
             0.4444444444444444,
             "#bd3786"
            ],
            [
             0.5555555555555556,
             "#d8576b"
            ],
            [
             0.6666666666666666,
             "#ed7953"
            ],
            [
             0.7777777777777778,
             "#fb9f3a"
            ],
            [
             0.8888888888888888,
             "#fdca26"
            ],
            [
             1,
             "#f0f921"
            ]
           ]
          },
          "colorway": [
           "#636efa",
           "#EF553B",
           "#00cc96",
           "#ab63fa",
           "#FFA15A",
           "#19d3f3",
           "#FF6692",
           "#B6E880",
           "#FF97FF",
           "#FECB52"
          ],
          "font": {
           "color": "#2a3f5f"
          },
          "geo": {
           "bgcolor": "white",
           "lakecolor": "white",
           "landcolor": "#E5ECF6",
           "showlakes": true,
           "showland": true,
           "subunitcolor": "white"
          },
          "hoverlabel": {
           "align": "left"
          },
          "hovermode": "closest",
          "mapbox": {
           "style": "light"
          },
          "paper_bgcolor": "white",
          "plot_bgcolor": "#E5ECF6",
          "polar": {
           "angularaxis": {
            "gridcolor": "white",
            "linecolor": "white",
            "ticks": ""
           },
           "bgcolor": "#E5ECF6",
           "radialaxis": {
            "gridcolor": "white",
            "linecolor": "white",
            "ticks": ""
           }
          },
          "scene": {
           "xaxis": {
            "backgroundcolor": "#E5ECF6",
            "gridcolor": "white",
            "gridwidth": 2,
            "linecolor": "white",
            "showbackground": true,
            "ticks": "",
            "zerolinecolor": "white"
           },
           "yaxis": {
            "backgroundcolor": "#E5ECF6",
            "gridcolor": "white",
            "gridwidth": 2,
            "linecolor": "white",
            "showbackground": true,
            "ticks": "",
            "zerolinecolor": "white"
           },
           "zaxis": {
            "backgroundcolor": "#E5ECF6",
            "gridcolor": "white",
            "gridwidth": 2,
            "linecolor": "white",
            "showbackground": true,
            "ticks": "",
            "zerolinecolor": "white"
           }
          },
          "shapedefaults": {
           "line": {
            "color": "#2a3f5f"
           }
          },
          "ternary": {
           "aaxis": {
            "gridcolor": "white",
            "linecolor": "white",
            "ticks": ""
           },
           "baxis": {
            "gridcolor": "white",
            "linecolor": "white",
            "ticks": ""
           },
           "bgcolor": "#E5ECF6",
           "caxis": {
            "gridcolor": "white",
            "linecolor": "white",
            "ticks": ""
           }
          },
          "title": {
           "x": 0.05
          },
          "xaxis": {
           "automargin": true,
           "gridcolor": "white",
           "linecolor": "white",
           "ticks": "",
           "title": {
            "standoff": 15
           },
           "zerolinecolor": "white",
           "zerolinewidth": 2
          },
          "yaxis": {
           "automargin": true,
           "gridcolor": "white",
           "linecolor": "white",
           "ticks": "",
           "title": {
            "standoff": 15
           },
           "zerolinecolor": "white",
           "zerolinewidth": 2
          }
         }
        },
        "xaxis": {
         "anchor": "y",
         "categoryorder": "category ascending",
         "domain": [
          0,
          1
         ],
         "title": {
          "text": "発生時（始期）"
         }
        },
        "yaxis": {
         "anchor": "x",
         "domain": [
          0,
          1
         ],
         "title": {
          "text": "件数"
         }
        }
       }
      }
     },
     "metadata": {},
     "output_type": "display_data"
    }
   ],
   "source": [
    "fig = px.bar(time,\n",
    "            x='発生時（始期）',\n",
    "            y='件数'\n",
    "            )\n",
    "fig.update_xaxes(categoryorder='category ascending')\n",
    "fig.show()"
   ]
  },
  {
   "cell_type": "code",
   "execution_count": 25,
   "metadata": {},
   "outputs": [
    {
     "data": {
      "application/vnd.plotly.v1+json": {
       "config": {
        "plotlyServerURL": "https://plot.ly"
       },
       "data": [
        {
         "alignmentgroup": "True",
         "hovertemplate": "発生時（始期）=%{x}<br>件数=%{y}<extra></extra>",
         "legendgroup": "",
         "marker": {
          "color": "#636efa",
          "pattern": {
           "shape": ""
          }
         },
         "name": "",
         "offsetgroup": "",
         "orientation": "v",
         "showlegend": false,
         "textposition": "auto",
         "type": "bar",
         "x": [
          "18",
          "8",
          "13",
          "20",
          "10",
          "17",
          "16",
          "9",
          "19",
          "14",
          "15",
          "11",
          "22",
          "7",
          "不明",
          "12",
          "21",
          "0",
          "6",
          "5",
          "3",
          "23"
         ],
         "xaxis": "x",
         "y": [
          16,
          15,
          10,
          10,
          9,
          9,
          8,
          7,
          6,
          5,
          5,
          4,
          4,
          3,
          3,
          3,
          3,
          2,
          1,
          1,
          1,
          1
         ],
         "yaxis": "y"
        }
       ],
       "layout": {
        "barmode": "relative",
        "legend": {
         "tracegroupgap": 0
        },
        "margin": {
         "t": 60
        },
        "template": {
         "data": {
          "bar": [
           {
            "error_x": {
             "color": "#f2f5fa"
            },
            "error_y": {
             "color": "#f2f5fa"
            },
            "marker": {
             "line": {
              "color": "rgb(17,17,17)",
              "width": 0.5
             },
             "pattern": {
              "fillmode": "overlay",
              "size": 10,
              "solidity": 0.2
             }
            },
            "type": "bar"
           }
          ],
          "barpolar": [
           {
            "marker": {
             "line": {
              "color": "rgb(17,17,17)",
              "width": 0.5
             },
             "pattern": {
              "fillmode": "overlay",
              "size": 10,
              "solidity": 0.2
             }
            },
            "type": "barpolar"
           }
          ],
          "carpet": [
           {
            "aaxis": {
             "endlinecolor": "#A2B1C6",
             "gridcolor": "#506784",
             "linecolor": "#506784",
             "minorgridcolor": "#506784",
             "startlinecolor": "#A2B1C6"
            },
            "baxis": {
             "endlinecolor": "#A2B1C6",
             "gridcolor": "#506784",
             "linecolor": "#506784",
             "minorgridcolor": "#506784",
             "startlinecolor": "#A2B1C6"
            },
            "type": "carpet"
           }
          ],
          "choropleth": [
           {
            "colorbar": {
             "outlinewidth": 0,
             "ticks": ""
            },
            "type": "choropleth"
           }
          ],
          "contour": [
           {
            "colorbar": {
             "outlinewidth": 0,
             "ticks": ""
            },
            "colorscale": [
             [
              0,
              "#0d0887"
             ],
             [
              0.1111111111111111,
              "#46039f"
             ],
             [
              0.2222222222222222,
              "#7201a8"
             ],
             [
              0.3333333333333333,
              "#9c179e"
             ],
             [
              0.4444444444444444,
              "#bd3786"
             ],
             [
              0.5555555555555556,
              "#d8576b"
             ],
             [
              0.6666666666666666,
              "#ed7953"
             ],
             [
              0.7777777777777778,
              "#fb9f3a"
             ],
             [
              0.8888888888888888,
              "#fdca26"
             ],
             [
              1,
              "#f0f921"
             ]
            ],
            "type": "contour"
           }
          ],
          "contourcarpet": [
           {
            "colorbar": {
             "outlinewidth": 0,
             "ticks": ""
            },
            "type": "contourcarpet"
           }
          ],
          "heatmap": [
           {
            "colorbar": {
             "outlinewidth": 0,
             "ticks": ""
            },
            "colorscale": [
             [
              0,
              "#0d0887"
             ],
             [
              0.1111111111111111,
              "#46039f"
             ],
             [
              0.2222222222222222,
              "#7201a8"
             ],
             [
              0.3333333333333333,
              "#9c179e"
             ],
             [
              0.4444444444444444,
              "#bd3786"
             ],
             [
              0.5555555555555556,
              "#d8576b"
             ],
             [
              0.6666666666666666,
              "#ed7953"
             ],
             [
              0.7777777777777778,
              "#fb9f3a"
             ],
             [
              0.8888888888888888,
              "#fdca26"
             ],
             [
              1,
              "#f0f921"
             ]
            ],
            "type": "heatmap"
           }
          ],
          "heatmapgl": [
           {
            "colorbar": {
             "outlinewidth": 0,
             "ticks": ""
            },
            "colorscale": [
             [
              0,
              "#0d0887"
             ],
             [
              0.1111111111111111,
              "#46039f"
             ],
             [
              0.2222222222222222,
              "#7201a8"
             ],
             [
              0.3333333333333333,
              "#9c179e"
             ],
             [
              0.4444444444444444,
              "#bd3786"
             ],
             [
              0.5555555555555556,
              "#d8576b"
             ],
             [
              0.6666666666666666,
              "#ed7953"
             ],
             [
              0.7777777777777778,
              "#fb9f3a"
             ],
             [
              0.8888888888888888,
              "#fdca26"
             ],
             [
              1,
              "#f0f921"
             ]
            ],
            "type": "heatmapgl"
           }
          ],
          "histogram": [
           {
            "marker": {
             "pattern": {
              "fillmode": "overlay",
              "size": 10,
              "solidity": 0.2
             }
            },
            "type": "histogram"
           }
          ],
          "histogram2d": [
           {
            "colorbar": {
             "outlinewidth": 0,
             "ticks": ""
            },
            "colorscale": [
             [
              0,
              "#0d0887"
             ],
             [
              0.1111111111111111,
              "#46039f"
             ],
             [
              0.2222222222222222,
              "#7201a8"
             ],
             [
              0.3333333333333333,
              "#9c179e"
             ],
             [
              0.4444444444444444,
              "#bd3786"
             ],
             [
              0.5555555555555556,
              "#d8576b"
             ],
             [
              0.6666666666666666,
              "#ed7953"
             ],
             [
              0.7777777777777778,
              "#fb9f3a"
             ],
             [
              0.8888888888888888,
              "#fdca26"
             ],
             [
              1,
              "#f0f921"
             ]
            ],
            "type": "histogram2d"
           }
          ],
          "histogram2dcontour": [
           {
            "colorbar": {
             "outlinewidth": 0,
             "ticks": ""
            },
            "colorscale": [
             [
              0,
              "#0d0887"
             ],
             [
              0.1111111111111111,
              "#46039f"
             ],
             [
              0.2222222222222222,
              "#7201a8"
             ],
             [
              0.3333333333333333,
              "#9c179e"
             ],
             [
              0.4444444444444444,
              "#bd3786"
             ],
             [
              0.5555555555555556,
              "#d8576b"
             ],
             [
              0.6666666666666666,
              "#ed7953"
             ],
             [
              0.7777777777777778,
              "#fb9f3a"
             ],
             [
              0.8888888888888888,
              "#fdca26"
             ],
             [
              1,
              "#f0f921"
             ]
            ],
            "type": "histogram2dcontour"
           }
          ],
          "mesh3d": [
           {
            "colorbar": {
             "outlinewidth": 0,
             "ticks": ""
            },
            "type": "mesh3d"
           }
          ],
          "parcoords": [
           {
            "line": {
             "colorbar": {
              "outlinewidth": 0,
              "ticks": ""
             }
            },
            "type": "parcoords"
           }
          ],
          "pie": [
           {
            "automargin": true,
            "type": "pie"
           }
          ],
          "scatter": [
           {
            "marker": {
             "line": {
              "color": "#283442"
             }
            },
            "type": "scatter"
           }
          ],
          "scatter3d": [
           {
            "line": {
             "colorbar": {
              "outlinewidth": 0,
              "ticks": ""
             }
            },
            "marker": {
             "colorbar": {
              "outlinewidth": 0,
              "ticks": ""
             }
            },
            "type": "scatter3d"
           }
          ],
          "scattercarpet": [
           {
            "marker": {
             "colorbar": {
              "outlinewidth": 0,
              "ticks": ""
             }
            },
            "type": "scattercarpet"
           }
          ],
          "scattergeo": [
           {
            "marker": {
             "colorbar": {
              "outlinewidth": 0,
              "ticks": ""
             }
            },
            "type": "scattergeo"
           }
          ],
          "scattergl": [
           {
            "marker": {
             "line": {
              "color": "#283442"
             }
            },
            "type": "scattergl"
           }
          ],
          "scattermapbox": [
           {
            "marker": {
             "colorbar": {
              "outlinewidth": 0,
              "ticks": ""
             }
            },
            "type": "scattermapbox"
           }
          ],
          "scatterpolar": [
           {
            "marker": {
             "colorbar": {
              "outlinewidth": 0,
              "ticks": ""
             }
            },
            "type": "scatterpolar"
           }
          ],
          "scatterpolargl": [
           {
            "marker": {
             "colorbar": {
              "outlinewidth": 0,
              "ticks": ""
             }
            },
            "type": "scatterpolargl"
           }
          ],
          "scatterternary": [
           {
            "marker": {
             "colorbar": {
              "outlinewidth": 0,
              "ticks": ""
             }
            },
            "type": "scatterternary"
           }
          ],
          "surface": [
           {
            "colorbar": {
             "outlinewidth": 0,
             "ticks": ""
            },
            "colorscale": [
             [
              0,
              "#0d0887"
             ],
             [
              0.1111111111111111,
              "#46039f"
             ],
             [
              0.2222222222222222,
              "#7201a8"
             ],
             [
              0.3333333333333333,
              "#9c179e"
             ],
             [
              0.4444444444444444,
              "#bd3786"
             ],
             [
              0.5555555555555556,
              "#d8576b"
             ],
             [
              0.6666666666666666,
              "#ed7953"
             ],
             [
              0.7777777777777778,
              "#fb9f3a"
             ],
             [
              0.8888888888888888,
              "#fdca26"
             ],
             [
              1,
              "#f0f921"
             ]
            ],
            "type": "surface"
           }
          ],
          "table": [
           {
            "cells": {
             "fill": {
              "color": "#506784"
             },
             "line": {
              "color": "rgb(17,17,17)"
             }
            },
            "header": {
             "fill": {
              "color": "#2a3f5f"
             },
             "line": {
              "color": "rgb(17,17,17)"
             }
            },
            "type": "table"
           }
          ]
         },
         "layout": {
          "annotationdefaults": {
           "arrowcolor": "#f2f5fa",
           "arrowhead": 0,
           "arrowwidth": 1
          },
          "autotypenumbers": "strict",
          "coloraxis": {
           "colorbar": {
            "outlinewidth": 0,
            "ticks": ""
           }
          },
          "colorscale": {
           "diverging": [
            [
             0,
             "#8e0152"
            ],
            [
             0.1,
             "#c51b7d"
            ],
            [
             0.2,
             "#de77ae"
            ],
            [
             0.3,
             "#f1b6da"
            ],
            [
             0.4,
             "#fde0ef"
            ],
            [
             0.5,
             "#f7f7f7"
            ],
            [
             0.6,
             "#e6f5d0"
            ],
            [
             0.7,
             "#b8e186"
            ],
            [
             0.8,
             "#7fbc41"
            ],
            [
             0.9,
             "#4d9221"
            ],
            [
             1,
             "#276419"
            ]
           ],
           "sequential": [
            [
             0,
             "#0d0887"
            ],
            [
             0.1111111111111111,
             "#46039f"
            ],
            [
             0.2222222222222222,
             "#7201a8"
            ],
            [
             0.3333333333333333,
             "#9c179e"
            ],
            [
             0.4444444444444444,
             "#bd3786"
            ],
            [
             0.5555555555555556,
             "#d8576b"
            ],
            [
             0.6666666666666666,
             "#ed7953"
            ],
            [
             0.7777777777777778,
             "#fb9f3a"
            ],
            [
             0.8888888888888888,
             "#fdca26"
            ],
            [
             1,
             "#f0f921"
            ]
           ],
           "sequentialminus": [
            [
             0,
             "#0d0887"
            ],
            [
             0.1111111111111111,
             "#46039f"
            ],
            [
             0.2222222222222222,
             "#7201a8"
            ],
            [
             0.3333333333333333,
             "#9c179e"
            ],
            [
             0.4444444444444444,
             "#bd3786"
            ],
            [
             0.5555555555555556,
             "#d8576b"
            ],
            [
             0.6666666666666666,
             "#ed7953"
            ],
            [
             0.7777777777777778,
             "#fb9f3a"
            ],
            [
             0.8888888888888888,
             "#fdca26"
            ],
            [
             1,
             "#f0f921"
            ]
           ]
          },
          "colorway": [
           "#636efa",
           "#EF553B",
           "#00cc96",
           "#ab63fa",
           "#FFA15A",
           "#19d3f3",
           "#FF6692",
           "#B6E880",
           "#FF97FF",
           "#FECB52"
          ],
          "font": {
           "color": "#f2f5fa"
          },
          "geo": {
           "bgcolor": "rgb(17,17,17)",
           "lakecolor": "rgb(17,17,17)",
           "landcolor": "rgb(17,17,17)",
           "showlakes": true,
           "showland": true,
           "subunitcolor": "#506784"
          },
          "hoverlabel": {
           "align": "left"
          },
          "hovermode": "closest",
          "mapbox": {
           "style": "dark"
          },
          "paper_bgcolor": "rgb(17,17,17)",
          "plot_bgcolor": "rgb(17,17,17)",
          "polar": {
           "angularaxis": {
            "gridcolor": "#506784",
            "linecolor": "#506784",
            "ticks": ""
           },
           "bgcolor": "rgb(17,17,17)",
           "radialaxis": {
            "gridcolor": "#506784",
            "linecolor": "#506784",
            "ticks": ""
           }
          },
          "scene": {
           "xaxis": {
            "backgroundcolor": "rgb(17,17,17)",
            "gridcolor": "#506784",
            "gridwidth": 2,
            "linecolor": "#506784",
            "showbackground": true,
            "ticks": "",
            "zerolinecolor": "#C8D4E3"
           },
           "yaxis": {
            "backgroundcolor": "rgb(17,17,17)",
            "gridcolor": "#506784",
            "gridwidth": 2,
            "linecolor": "#506784",
            "showbackground": true,
            "ticks": "",
            "zerolinecolor": "#C8D4E3"
           },
           "zaxis": {
            "backgroundcolor": "rgb(17,17,17)",
            "gridcolor": "#506784",
            "gridwidth": 2,
            "linecolor": "#506784",
            "showbackground": true,
            "ticks": "",
            "zerolinecolor": "#C8D4E3"
           }
          },
          "shapedefaults": {
           "line": {
            "color": "#f2f5fa"
           }
          },
          "sliderdefaults": {
           "bgcolor": "#C8D4E3",
           "bordercolor": "rgb(17,17,17)",
           "borderwidth": 1,
           "tickwidth": 0
          },
          "ternary": {
           "aaxis": {
            "gridcolor": "#506784",
            "linecolor": "#506784",
            "ticks": ""
           },
           "baxis": {
            "gridcolor": "#506784",
            "linecolor": "#506784",
            "ticks": ""
           },
           "bgcolor": "rgb(17,17,17)",
           "caxis": {
            "gridcolor": "#506784",
            "linecolor": "#506784",
            "ticks": ""
           }
          },
          "title": {
           "x": 0.05
          },
          "updatemenudefaults": {
           "bgcolor": "#506784",
           "borderwidth": 0
          },
          "xaxis": {
           "automargin": true,
           "gridcolor": "#283442",
           "linecolor": "#506784",
           "ticks": "",
           "title": {
            "standoff": 15
           },
           "zerolinecolor": "#283442",
           "zerolinewidth": 2
          },
          "yaxis": {
           "automargin": true,
           "gridcolor": "#283442",
           "linecolor": "#506784",
           "ticks": "",
           "title": {
            "standoff": 15
           },
           "zerolinecolor": "#283442",
           "zerolinewidth": 2
          }
         }
        },
        "xaxis": {
         "anchor": "y",
         "categoryorder": "category ascending",
         "domain": [
          0,
          1
         ],
         "title": {
          "text": "発生時（始期）"
         }
        },
        "yaxis": {
         "anchor": "x",
         "domain": [
          0,
          1
         ],
         "title": {
          "text": "件数"
         }
        }
       }
      }
     },
     "metadata": {},
     "output_type": "display_data"
    }
   ],
   "source": [
    "fig = px.bar(time,\n",
    "            x='発生時（始期）',\n",
    "            y='件数',\n",
    "            template= 'plotly_dark'\n",
    "            )\n",
    "fig.update_xaxes(categoryorder='category ascending')\n",
    "fig.show()"
   ]
  },
  {
   "cell_type": "code",
   "execution_count": 26,
   "metadata": {},
   "outputs": [
    {
     "data": {
      "application/vnd.plotly.v1+json": {
       "config": {
        "plotlyServerURL": "https://plot.ly"
       },
       "data": [
        {
         "alignmentgroup": "True",
         "hovertemplate": "被害者の職業=中学生<br>発生時（始期）=%{x}<br>count=%{y}<extra></extra>",
         "legendgroup": "中学生",
         "marker": {
          "color": "rgb(76,114,176)",
          "line": {
           "width": 0
          },
          "pattern": {
           "shape": ""
          }
         },
         "name": "中学生",
         "offsetgroup": "中学生",
         "orientation": "v",
         "showlegend": true,
         "textposition": "auto",
         "type": "bar",
         "x": [
          "13",
          "17",
          "0",
          "16",
          "15",
          "17",
          "10",
          "18",
          "18",
          "18",
          "18",
          "14",
          "16",
          "22"
         ],
         "xaxis": "x",
         "y": [
          1,
          1,
          1,
          1,
          1,
          1,
          1,
          1,
          1,
          1,
          1,
          1,
          1,
          1
         ],
         "yaxis": "y"
        },
        {
         "alignmentgroup": "True",
         "hovertemplate": "被害者の職業=その他<br>発生時（始期）=%{x}<br>count=%{y}<extra></extra>",
         "legendgroup": "その他",
         "marker": {
          "color": "rgb(221,132,82)",
          "line": {
           "width": 0
          },
          "pattern": {
           "shape": ""
          }
         },
         "name": "その他",
         "offsetgroup": "その他",
         "orientation": "v",
         "showlegend": true,
         "textposition": "auto",
         "type": "bar",
         "x": [
          "不明",
          "19",
          "8",
          "19",
          "12",
          "不明",
          "8",
          "9",
          "16",
          "13",
          "8",
          "8",
          "20",
          "9",
          "不明",
          "20",
          "22",
          "8",
          "16",
          "9",
          "7",
          "18",
          "7",
          "7",
          "9",
          "19",
          "8",
          "18",
          "18",
          "13",
          "18",
          "11",
          "18",
          "20",
          "15",
          "10",
          "0",
          "10",
          "15",
          "18",
          "13",
          "10",
          "13",
          "22",
          "8",
          "20",
          "12",
          "17",
          "5",
          "17",
          "22",
          "21",
          "9",
          "17",
          "21",
          "19",
          "16",
          "20",
          "10",
          "11",
          "13",
          "3",
          "17",
          "8",
          "12",
          "13",
          "17",
          "8",
          "9",
          "14",
          "19",
          "8",
          "16",
          "20",
          "18",
          "20",
          "15",
          "20",
          "23",
          "14",
          "13"
         ],
         "xaxis": "x",
         "y": [
          1,
          1,
          1,
          1,
          1,
          1,
          1,
          1,
          1,
          1,
          1,
          1,
          1,
          1,
          1,
          1,
          1,
          1,
          1,
          1,
          1,
          1,
          1,
          1,
          1,
          1,
          1,
          1,
          1,
          1,
          1,
          1,
          1,
          1,
          1,
          1,
          1,
          1,
          1,
          1,
          1,
          1,
          1,
          1,
          1,
          1,
          1,
          1,
          1,
          1,
          1,
          1,
          1,
          1,
          1,
          1,
          1,
          1,
          1,
          1,
          1,
          1,
          1,
          1,
          1,
          1,
          1,
          1,
          1,
          1,
          1,
          1,
          1,
          1,
          1,
          1,
          1,
          1,
          1,
          1,
          1
         ],
         "yaxis": "y"
        },
        {
         "alignmentgroup": "True",
         "hovertemplate": "被害者の職業=高校生<br>発生時（始期）=%{x}<br>count=%{y}<extra></extra>",
         "legendgroup": "高校生",
         "marker": {
          "color": "rgb(85,168,104)",
          "line": {
           "width": 0
          },
          "pattern": {
           "shape": ""
          }
         },
         "name": "高校生",
         "offsetgroup": "高校生",
         "orientation": "v",
         "showlegend": true,
         "textposition": "auto",
         "type": "bar",
         "x": [
          "18",
          "8",
          "16",
          "8",
          "13",
          "18",
          "10",
          "14",
          "18",
          "8",
          "8",
          "11",
          "9",
          "11",
          "21",
          "18",
          "15",
          "10",
          "19"
         ],
         "xaxis": "x",
         "y": [
          1,
          1,
          1,
          1,
          1,
          1,
          1,
          1,
          1,
          1,
          1,
          1,
          1,
          1,
          1,
          1,
          1,
          1,
          1
         ],
         "yaxis": "y"
        },
        {
         "alignmentgroup": "True",
         "hovertemplate": "被害者の職業=大学生<br>発生時（始期）=%{x}<br>count=%{y}<extra></extra>",
         "legendgroup": "大学生",
         "marker": {
          "color": "rgb(196,78,82)",
          "line": {
           "width": 0
          },
          "pattern": {
           "shape": ""
          }
         },
         "name": "大学生",
         "offsetgroup": "大学生",
         "orientation": "v",
         "showlegend": true,
         "textposition": "auto",
         "type": "bar",
         "x": [
          "16",
          "17",
          "10",
          "6",
          "20",
          "10",
          "8",
          "13"
         ],
         "xaxis": "x",
         "y": [
          1,
          1,
          1,
          1,
          1,
          1,
          1,
          1
         ],
         "yaxis": "y"
        },
        {
         "alignmentgroup": "True",
         "hovertemplate": "被害者の職業=法人・団体、被害者なし<br>発生時（始期）=%{x}<br>count=%{y}<extra></extra>",
         "legendgroup": "法人・団体、被害者なし",
         "marker": {
          "color": "rgb(129,114,179)",
          "line": {
           "width": 0
          },
          "pattern": {
           "shape": ""
          }
         },
         "name": "法人・団体、被害者なし",
         "offsetgroup": "法人・団体、被害者なし",
         "orientation": "v",
         "showlegend": true,
         "textposition": "auto",
         "type": "bar",
         "x": [
          "20",
          "18"
         ],
         "xaxis": "x",
         "y": [
          1,
          1
         ],
         "yaxis": "y"
        },
        {
         "alignmentgroup": "True",
         "hovertemplate": "被害者の職業=小学生<br>発生時（始期）=%{x}<br>count=%{y}<extra></extra>",
         "legendgroup": "小学生",
         "marker": {
          "color": "rgb(147,120,96)",
          "line": {
           "width": 0
          },
          "pattern": {
           "shape": ""
          }
         },
         "name": "小学生",
         "offsetgroup": "小学生",
         "orientation": "v",
         "showlegend": true,
         "textposition": "auto",
         "type": "bar",
         "x": [
          "14",
          "17"
         ],
         "xaxis": "x",
         "y": [
          1,
          1
         ],
         "yaxis": "y"
        }
       ],
       "layout": {
        "barmode": "relative",
        "legend": {
         "title": {
          "text": "被害者の職業"
         },
         "tracegroupgap": 0
        },
        "margin": {
         "t": 60
        },
        "template": {
         "data": {
          "bar": [
           {
            "error_x": {
             "color": "rgb(36,36,36)"
            },
            "error_y": {
             "color": "rgb(36,36,36)"
            },
            "marker": {
             "line": {
              "color": "rgb(234,234,242)",
              "width": 0.5
             },
             "pattern": {
              "fillmode": "overlay",
              "size": 10,
              "solidity": 0.2
             }
            },
            "type": "bar"
           }
          ],
          "barpolar": [
           {
            "marker": {
             "line": {
              "color": "rgb(234,234,242)",
              "width": 0.5
             },
             "pattern": {
              "fillmode": "overlay",
              "size": 10,
              "solidity": 0.2
             }
            },
            "type": "barpolar"
           }
          ],
          "carpet": [
           {
            "aaxis": {
             "endlinecolor": "rgb(36,36,36)",
             "gridcolor": "white",
             "linecolor": "white",
             "minorgridcolor": "white",
             "startlinecolor": "rgb(36,36,36)"
            },
            "baxis": {
             "endlinecolor": "rgb(36,36,36)",
             "gridcolor": "white",
             "linecolor": "white",
             "minorgridcolor": "white",
             "startlinecolor": "rgb(36,36,36)"
            },
            "type": "carpet"
           }
          ],
          "choropleth": [
           {
            "colorbar": {
             "outlinewidth": 0,
             "tickcolor": "rgb(36,36,36)",
             "ticklen": 8,
             "ticks": "outside",
             "tickwidth": 2
            },
            "type": "choropleth"
           }
          ],
          "contour": [
           {
            "colorbar": {
             "outlinewidth": 0,
             "tickcolor": "rgb(36,36,36)",
             "ticklen": 8,
             "ticks": "outside",
             "tickwidth": 2
            },
            "colorscale": [
             [
              0,
              "rgb(2,4,25)"
             ],
             [
              0.06274509803921569,
              "rgb(24,15,41)"
             ],
             [
              0.12549019607843137,
              "rgb(47,23,57)"
             ],
             [
              0.18823529411764706,
              "rgb(71,28,72)"
             ],
             [
              0.25098039215686274,
              "rgb(97,30,82)"
             ],
             [
              0.3137254901960784,
              "rgb(123,30,89)"
             ],
             [
              0.3764705882352941,
              "rgb(150,27,91)"
             ],
             [
              0.4392156862745098,
              "rgb(177,22,88)"
             ],
             [
              0.5019607843137255,
              "rgb(203,26,79)"
             ],
             [
              0.5647058823529412,
              "rgb(223,47,67)"
             ],
             [
              0.6274509803921569,
              "rgb(236,76,61)"
             ],
             [
              0.6901960784313725,
              "rgb(242,107,73)"
             ],
             [
              0.7529411764705882,
              "rgb(244,135,95)"
             ],
             [
              0.8156862745098039,
              "rgb(245,162,122)"
             ],
             [
              0.8784313725490196,
              "rgb(246,188,153)"
             ],
             [
              0.9411764705882353,
              "rgb(247,212,187)"
             ],
             [
              1,
              "rgb(250,234,220)"
             ]
            ],
            "type": "contour"
           }
          ],
          "contourcarpet": [
           {
            "colorbar": {
             "outlinewidth": 0,
             "tickcolor": "rgb(36,36,36)",
             "ticklen": 8,
             "ticks": "outside",
             "tickwidth": 2
            },
            "type": "contourcarpet"
           }
          ],
          "heatmap": [
           {
            "colorbar": {
             "outlinewidth": 0,
             "tickcolor": "rgb(36,36,36)",
             "ticklen": 8,
             "ticks": "outside",
             "tickwidth": 2
            },
            "colorscale": [
             [
              0,
              "rgb(2,4,25)"
             ],
             [
              0.06274509803921569,
              "rgb(24,15,41)"
             ],
             [
              0.12549019607843137,
              "rgb(47,23,57)"
             ],
             [
              0.18823529411764706,
              "rgb(71,28,72)"
             ],
             [
              0.25098039215686274,
              "rgb(97,30,82)"
             ],
             [
              0.3137254901960784,
              "rgb(123,30,89)"
             ],
             [
              0.3764705882352941,
              "rgb(150,27,91)"
             ],
             [
              0.4392156862745098,
              "rgb(177,22,88)"
             ],
             [
              0.5019607843137255,
              "rgb(203,26,79)"
             ],
             [
              0.5647058823529412,
              "rgb(223,47,67)"
             ],
             [
              0.6274509803921569,
              "rgb(236,76,61)"
             ],
             [
              0.6901960784313725,
              "rgb(242,107,73)"
             ],
             [
              0.7529411764705882,
              "rgb(244,135,95)"
             ],
             [
              0.8156862745098039,
              "rgb(245,162,122)"
             ],
             [
              0.8784313725490196,
              "rgb(246,188,153)"
             ],
             [
              0.9411764705882353,
              "rgb(247,212,187)"
             ],
             [
              1,
              "rgb(250,234,220)"
             ]
            ],
            "type": "heatmap"
           }
          ],
          "heatmapgl": [
           {
            "colorbar": {
             "outlinewidth": 0,
             "tickcolor": "rgb(36,36,36)",
             "ticklen": 8,
             "ticks": "outside",
             "tickwidth": 2
            },
            "colorscale": [
             [
              0,
              "rgb(2,4,25)"
             ],
             [
              0.06274509803921569,
              "rgb(24,15,41)"
             ],
             [
              0.12549019607843137,
              "rgb(47,23,57)"
             ],
             [
              0.18823529411764706,
              "rgb(71,28,72)"
             ],
             [
              0.25098039215686274,
              "rgb(97,30,82)"
             ],
             [
              0.3137254901960784,
              "rgb(123,30,89)"
             ],
             [
              0.3764705882352941,
              "rgb(150,27,91)"
             ],
             [
              0.4392156862745098,
              "rgb(177,22,88)"
             ],
             [
              0.5019607843137255,
              "rgb(203,26,79)"
             ],
             [
              0.5647058823529412,
              "rgb(223,47,67)"
             ],
             [
              0.6274509803921569,
              "rgb(236,76,61)"
             ],
             [
              0.6901960784313725,
              "rgb(242,107,73)"
             ],
             [
              0.7529411764705882,
              "rgb(244,135,95)"
             ],
             [
              0.8156862745098039,
              "rgb(245,162,122)"
             ],
             [
              0.8784313725490196,
              "rgb(246,188,153)"
             ],
             [
              0.9411764705882353,
              "rgb(247,212,187)"
             ],
             [
              1,
              "rgb(250,234,220)"
             ]
            ],
            "type": "heatmapgl"
           }
          ],
          "histogram": [
           {
            "marker": {
             "pattern": {
              "fillmode": "overlay",
              "size": 10,
              "solidity": 0.2
             }
            },
            "type": "histogram"
           }
          ],
          "histogram2d": [
           {
            "colorbar": {
             "outlinewidth": 0,
             "tickcolor": "rgb(36,36,36)",
             "ticklen": 8,
             "ticks": "outside",
             "tickwidth": 2
            },
            "colorscale": [
             [
              0,
              "rgb(2,4,25)"
             ],
             [
              0.06274509803921569,
              "rgb(24,15,41)"
             ],
             [
              0.12549019607843137,
              "rgb(47,23,57)"
             ],
             [
              0.18823529411764706,
              "rgb(71,28,72)"
             ],
             [
              0.25098039215686274,
              "rgb(97,30,82)"
             ],
             [
              0.3137254901960784,
              "rgb(123,30,89)"
             ],
             [
              0.3764705882352941,
              "rgb(150,27,91)"
             ],
             [
              0.4392156862745098,
              "rgb(177,22,88)"
             ],
             [
              0.5019607843137255,
              "rgb(203,26,79)"
             ],
             [
              0.5647058823529412,
              "rgb(223,47,67)"
             ],
             [
              0.6274509803921569,
              "rgb(236,76,61)"
             ],
             [
              0.6901960784313725,
              "rgb(242,107,73)"
             ],
             [
              0.7529411764705882,
              "rgb(244,135,95)"
             ],
             [
              0.8156862745098039,
              "rgb(245,162,122)"
             ],
             [
              0.8784313725490196,
              "rgb(246,188,153)"
             ],
             [
              0.9411764705882353,
              "rgb(247,212,187)"
             ],
             [
              1,
              "rgb(250,234,220)"
             ]
            ],
            "type": "histogram2d"
           }
          ],
          "histogram2dcontour": [
           {
            "colorbar": {
             "outlinewidth": 0,
             "tickcolor": "rgb(36,36,36)",
             "ticklen": 8,
             "ticks": "outside",
             "tickwidth": 2
            },
            "colorscale": [
             [
              0,
              "rgb(2,4,25)"
             ],
             [
              0.06274509803921569,
              "rgb(24,15,41)"
             ],
             [
              0.12549019607843137,
              "rgb(47,23,57)"
             ],
             [
              0.18823529411764706,
              "rgb(71,28,72)"
             ],
             [
              0.25098039215686274,
              "rgb(97,30,82)"
             ],
             [
              0.3137254901960784,
              "rgb(123,30,89)"
             ],
             [
              0.3764705882352941,
              "rgb(150,27,91)"
             ],
             [
              0.4392156862745098,
              "rgb(177,22,88)"
             ],
             [
              0.5019607843137255,
              "rgb(203,26,79)"
             ],
             [
              0.5647058823529412,
              "rgb(223,47,67)"
             ],
             [
              0.6274509803921569,
              "rgb(236,76,61)"
             ],
             [
              0.6901960784313725,
              "rgb(242,107,73)"
             ],
             [
              0.7529411764705882,
              "rgb(244,135,95)"
             ],
             [
              0.8156862745098039,
              "rgb(245,162,122)"
             ],
             [
              0.8784313725490196,
              "rgb(246,188,153)"
             ],
             [
              0.9411764705882353,
              "rgb(247,212,187)"
             ],
             [
              1,
              "rgb(250,234,220)"
             ]
            ],
            "type": "histogram2dcontour"
           }
          ],
          "mesh3d": [
           {
            "colorbar": {
             "outlinewidth": 0,
             "tickcolor": "rgb(36,36,36)",
             "ticklen": 8,
             "ticks": "outside",
             "tickwidth": 2
            },
            "type": "mesh3d"
           }
          ],
          "parcoords": [
           {
            "line": {
             "colorbar": {
              "outlinewidth": 0,
              "tickcolor": "rgb(36,36,36)",
              "ticklen": 8,
              "ticks": "outside",
              "tickwidth": 2
             }
            },
            "type": "parcoords"
           }
          ],
          "pie": [
           {
            "automargin": true,
            "type": "pie"
           }
          ],
          "scatter": [
           {
            "fillpattern": {
             "fillmode": "overlay",
             "size": 10,
             "solidity": 0.2
            },
            "type": "scatter"
           }
          ],
          "scatter3d": [
           {
            "line": {
             "colorbar": {
              "outlinewidth": 0,
              "tickcolor": "rgb(36,36,36)",
              "ticklen": 8,
              "ticks": "outside",
              "tickwidth": 2
             }
            },
            "marker": {
             "colorbar": {
              "outlinewidth": 0,
              "tickcolor": "rgb(36,36,36)",
              "ticklen": 8,
              "ticks": "outside",
              "tickwidth": 2
             }
            },
            "type": "scatter3d"
           }
          ],
          "scattercarpet": [
           {
            "marker": {
             "colorbar": {
              "outlinewidth": 0,
              "tickcolor": "rgb(36,36,36)",
              "ticklen": 8,
              "ticks": "outside",
              "tickwidth": 2
             }
            },
            "type": "scattercarpet"
           }
          ],
          "scattergeo": [
           {
            "marker": {
             "colorbar": {
              "outlinewidth": 0,
              "tickcolor": "rgb(36,36,36)",
              "ticklen": 8,
              "ticks": "outside",
              "tickwidth": 2
             }
            },
            "type": "scattergeo"
           }
          ],
          "scattergl": [
           {
            "marker": {
             "colorbar": {
              "outlinewidth": 0,
              "tickcolor": "rgb(36,36,36)",
              "ticklen": 8,
              "ticks": "outside",
              "tickwidth": 2
             }
            },
            "type": "scattergl"
           }
          ],
          "scattermapbox": [
           {
            "marker": {
             "colorbar": {
              "outlinewidth": 0,
              "tickcolor": "rgb(36,36,36)",
              "ticklen": 8,
              "ticks": "outside",
              "tickwidth": 2
             }
            },
            "type": "scattermapbox"
           }
          ],
          "scatterpolar": [
           {
            "marker": {
             "colorbar": {
              "outlinewidth": 0,
              "tickcolor": "rgb(36,36,36)",
              "ticklen": 8,
              "ticks": "outside",
              "tickwidth": 2
             }
            },
            "type": "scatterpolar"
           }
          ],
          "scatterpolargl": [
           {
            "marker": {
             "colorbar": {
              "outlinewidth": 0,
              "tickcolor": "rgb(36,36,36)",
              "ticklen": 8,
              "ticks": "outside",
              "tickwidth": 2
             }
            },
            "type": "scatterpolargl"
           }
          ],
          "scatterternary": [
           {
            "marker": {
             "colorbar": {
              "outlinewidth": 0,
              "tickcolor": "rgb(36,36,36)",
              "ticklen": 8,
              "ticks": "outside",
              "tickwidth": 2
             }
            },
            "type": "scatterternary"
           }
          ],
          "surface": [
           {
            "colorbar": {
             "outlinewidth": 0,
             "tickcolor": "rgb(36,36,36)",
             "ticklen": 8,
             "ticks": "outside",
             "tickwidth": 2
            },
            "colorscale": [
             [
              0,
              "rgb(2,4,25)"
             ],
             [
              0.06274509803921569,
              "rgb(24,15,41)"
             ],
             [
              0.12549019607843137,
              "rgb(47,23,57)"
             ],
             [
              0.18823529411764706,
              "rgb(71,28,72)"
             ],
             [
              0.25098039215686274,
              "rgb(97,30,82)"
             ],
             [
              0.3137254901960784,
              "rgb(123,30,89)"
             ],
             [
              0.3764705882352941,
              "rgb(150,27,91)"
             ],
             [
              0.4392156862745098,
              "rgb(177,22,88)"
             ],
             [
              0.5019607843137255,
              "rgb(203,26,79)"
             ],
             [
              0.5647058823529412,
              "rgb(223,47,67)"
             ],
             [
              0.6274509803921569,
              "rgb(236,76,61)"
             ],
             [
              0.6901960784313725,
              "rgb(242,107,73)"
             ],
             [
              0.7529411764705882,
              "rgb(244,135,95)"
             ],
             [
              0.8156862745098039,
              "rgb(245,162,122)"
             ],
             [
              0.8784313725490196,
              "rgb(246,188,153)"
             ],
             [
              0.9411764705882353,
              "rgb(247,212,187)"
             ],
             [
              1,
              "rgb(250,234,220)"
             ]
            ],
            "type": "surface"
           }
          ],
          "table": [
           {
            "cells": {
             "fill": {
              "color": "rgb(231,231,240)"
             },
             "line": {
              "color": "white"
             }
            },
            "header": {
             "fill": {
              "color": "rgb(183,183,191)"
             },
             "line": {
              "color": "white"
             }
            },
            "type": "table"
           }
          ]
         },
         "layout": {
          "annotationdefaults": {
           "arrowcolor": "rgb(67,103,167)"
          },
          "autotypenumbers": "strict",
          "coloraxis": {
           "colorbar": {
            "outlinewidth": 0,
            "tickcolor": "rgb(36,36,36)",
            "ticklen": 8,
            "ticks": "outside",
            "tickwidth": 2
           }
          },
          "colorscale": {
           "sequential": [
            [
             0,
             "rgb(2,4,25)"
            ],
            [
             0.06274509803921569,
             "rgb(24,15,41)"
            ],
            [
             0.12549019607843137,
             "rgb(47,23,57)"
            ],
            [
             0.18823529411764706,
             "rgb(71,28,72)"
            ],
            [
             0.25098039215686274,
             "rgb(97,30,82)"
            ],
            [
             0.3137254901960784,
             "rgb(123,30,89)"
            ],
            [
             0.3764705882352941,
             "rgb(150,27,91)"
            ],
            [
             0.4392156862745098,
             "rgb(177,22,88)"
            ],
            [
             0.5019607843137255,
             "rgb(203,26,79)"
            ],
            [
             0.5647058823529412,
             "rgb(223,47,67)"
            ],
            [
             0.6274509803921569,
             "rgb(236,76,61)"
            ],
            [
             0.6901960784313725,
             "rgb(242,107,73)"
            ],
            [
             0.7529411764705882,
             "rgb(244,135,95)"
            ],
            [
             0.8156862745098039,
             "rgb(245,162,122)"
            ],
            [
             0.8784313725490196,
             "rgb(246,188,153)"
            ],
            [
             0.9411764705882353,
             "rgb(247,212,187)"
            ],
            [
             1,
             "rgb(250,234,220)"
            ]
           ],
           "sequentialminus": [
            [
             0,
             "rgb(2,4,25)"
            ],
            [
             0.06274509803921569,
             "rgb(24,15,41)"
            ],
            [
             0.12549019607843137,
             "rgb(47,23,57)"
            ],
            [
             0.18823529411764706,
             "rgb(71,28,72)"
            ],
            [
             0.25098039215686274,
             "rgb(97,30,82)"
            ],
            [
             0.3137254901960784,
             "rgb(123,30,89)"
            ],
            [
             0.3764705882352941,
             "rgb(150,27,91)"
            ],
            [
             0.4392156862745098,
             "rgb(177,22,88)"
            ],
            [
             0.5019607843137255,
             "rgb(203,26,79)"
            ],
            [
             0.5647058823529412,
             "rgb(223,47,67)"
            ],
            [
             0.6274509803921569,
             "rgb(236,76,61)"
            ],
            [
             0.6901960784313725,
             "rgb(242,107,73)"
            ],
            [
             0.7529411764705882,
             "rgb(244,135,95)"
            ],
            [
             0.8156862745098039,
             "rgb(245,162,122)"
            ],
            [
             0.8784313725490196,
             "rgb(246,188,153)"
            ],
            [
             0.9411764705882353,
             "rgb(247,212,187)"
            ],
            [
             1,
             "rgb(250,234,220)"
            ]
           ]
          },
          "colorway": [
           "rgb(76,114,176)",
           "rgb(221,132,82)",
           "rgb(85,168,104)",
           "rgb(196,78,82)",
           "rgb(129,114,179)",
           "rgb(147,120,96)",
           "rgb(218,139,195)",
           "rgb(140,140,140)",
           "rgb(204,185,116)",
           "rgb(100,181,205)"
          ],
          "font": {
           "color": "rgb(36,36,36)"
          },
          "geo": {
           "bgcolor": "white",
           "lakecolor": "white",
           "landcolor": "rgb(234,234,242)",
           "showlakes": true,
           "showland": true,
           "subunitcolor": "white"
          },
          "hoverlabel": {
           "align": "left"
          },
          "hovermode": "closest",
          "paper_bgcolor": "white",
          "plot_bgcolor": "rgb(234,234,242)",
          "polar": {
           "angularaxis": {
            "gridcolor": "white",
            "linecolor": "white",
            "showgrid": true,
            "ticks": ""
           },
           "bgcolor": "rgb(234,234,242)",
           "radialaxis": {
            "gridcolor": "white",
            "linecolor": "white",
            "showgrid": true,
            "ticks": ""
           }
          },
          "scene": {
           "xaxis": {
            "backgroundcolor": "rgb(234,234,242)",
            "gridcolor": "white",
            "gridwidth": 2,
            "linecolor": "white",
            "showbackground": true,
            "showgrid": true,
            "ticks": "",
            "zerolinecolor": "white"
           },
           "yaxis": {
            "backgroundcolor": "rgb(234,234,242)",
            "gridcolor": "white",
            "gridwidth": 2,
            "linecolor": "white",
            "showbackground": true,
            "showgrid": true,
            "ticks": "",
            "zerolinecolor": "white"
           },
           "zaxis": {
            "backgroundcolor": "rgb(234,234,242)",
            "gridcolor": "white",
            "gridwidth": 2,
            "linecolor": "white",
            "showbackground": true,
            "showgrid": true,
            "ticks": "",
            "zerolinecolor": "white"
           }
          },
          "shapedefaults": {
           "fillcolor": "rgb(67,103,167)",
           "line": {
            "width": 0
           },
           "opacity": 0.5
          },
          "ternary": {
           "aaxis": {
            "gridcolor": "white",
            "linecolor": "white",
            "showgrid": true,
            "ticks": ""
           },
           "baxis": {
            "gridcolor": "white",
            "linecolor": "white",
            "showgrid": true,
            "ticks": ""
           },
           "bgcolor": "rgb(234,234,242)",
           "caxis": {
            "gridcolor": "white",
            "linecolor": "white",
            "showgrid": true,
            "ticks": ""
           }
          },
          "xaxis": {
           "automargin": true,
           "gridcolor": "white",
           "linecolor": "white",
           "showgrid": true,
           "ticks": "",
           "title": {
            "standoff": 15
           },
           "zerolinecolor": "white"
          },
          "yaxis": {
           "automargin": true,
           "gridcolor": "white",
           "linecolor": "white",
           "showgrid": true,
           "ticks": "",
           "title": {
            "standoff": 15
           },
           "zerolinecolor": "white"
          }
         }
        },
        "xaxis": {
         "anchor": "y",
         "categoryorder": "category ascending",
         "domain": [
          0,
          1
         ],
         "title": {
          "text": "発生時（始期）"
         }
        },
        "yaxis": {
         "anchor": "x",
         "domain": [
          0,
          1
         ],
         "title": {
          "text": "count"
         }
        }
       }
      }
     },
     "metadata": {},
     "output_type": "display_data"
    }
   ],
   "source": [
    "fig = px.bar(misato,\n",
    "            x='発生時（始期）',\n",
    "            color='被害者の職業',\n",
    "            template='seaborn')\n",
    "fig.update_traces(\n",
    "    marker_line_width=0\n",
    ")\n",
    "fig.update_xaxes(categoryorder='category ascending')\n",
    "fig.show()"
   ]
  },
  {
   "cell_type": "code",
   "execution_count": 27,
   "metadata": {},
   "outputs": [
    {
     "data": {
      "application/vnd.plotly.v1+json": {
       "config": {
        "plotlyServerURL": "https://plot.ly"
       },
       "data": [
        {
         "alignmentgroup": "True",
         "hovertemplate": "被害者の職業=中学生<br>発生時（始期）=%{x}<br>count=%{y}<extra></extra>",
         "legendgroup": "中学生",
         "marker": {
          "color": "rgb(76,114,176)",
          "line": {
           "width": 0
          },
          "pattern": {
           "shape": ""
          }
         },
         "name": "中学生",
         "offsetgroup": "中学生",
         "orientation": "v",
         "showlegend": true,
         "textposition": "auto",
         "type": "bar",
         "x": [
          "13",
          "17",
          "0",
          "16",
          "15",
          "17",
          "10",
          "18",
          "18",
          "18",
          "18",
          "14",
          "16",
          "22"
         ],
         "xaxis": "x",
         "y": [
          1,
          1,
          1,
          1,
          1,
          1,
          1,
          1,
          1,
          1,
          1,
          1,
          1,
          1
         ],
         "yaxis": "y"
        },
        {
         "alignmentgroup": "True",
         "hovertemplate": "被害者の職業=その他<br>発生時（始期）=%{x}<br>count=%{y}<extra></extra>",
         "legendgroup": "その他",
         "marker": {
          "color": "rgb(221,132,82)",
          "line": {
           "width": 0
          },
          "pattern": {
           "shape": ""
          }
         },
         "name": "その他",
         "offsetgroup": "その他",
         "orientation": "v",
         "showlegend": true,
         "textposition": "auto",
         "type": "bar",
         "x": [
          "不明",
          "19",
          "8",
          "19",
          "12",
          "不明",
          "8",
          "9",
          "16",
          "13",
          "8",
          "8",
          "20",
          "9",
          "不明",
          "20",
          "22",
          "8",
          "16",
          "9",
          "7",
          "18",
          "7",
          "7",
          "9",
          "19",
          "8",
          "18",
          "18",
          "13",
          "18",
          "11",
          "18",
          "20",
          "15",
          "10",
          "0",
          "10",
          "15",
          "18",
          "13",
          "10",
          "13",
          "22",
          "8",
          "20",
          "12",
          "17",
          "5",
          "17",
          "22",
          "21",
          "9",
          "17",
          "21",
          "19",
          "16",
          "20",
          "10",
          "11",
          "13",
          "3",
          "17",
          "8",
          "12",
          "13",
          "17",
          "8",
          "9",
          "14",
          "19",
          "8",
          "16",
          "20",
          "18",
          "20",
          "15",
          "20",
          "23",
          "14",
          "13"
         ],
         "xaxis": "x",
         "y": [
          1,
          1,
          1,
          1,
          1,
          1,
          1,
          1,
          1,
          1,
          1,
          1,
          1,
          1,
          1,
          1,
          1,
          1,
          1,
          1,
          1,
          1,
          1,
          1,
          1,
          1,
          1,
          1,
          1,
          1,
          1,
          1,
          1,
          1,
          1,
          1,
          1,
          1,
          1,
          1,
          1,
          1,
          1,
          1,
          1,
          1,
          1,
          1,
          1,
          1,
          1,
          1,
          1,
          1,
          1,
          1,
          1,
          1,
          1,
          1,
          1,
          1,
          1,
          1,
          1,
          1,
          1,
          1,
          1,
          1,
          1,
          1,
          1,
          1,
          1,
          1,
          1,
          1,
          1,
          1,
          1
         ],
         "yaxis": "y"
        },
        {
         "alignmentgroup": "True",
         "hovertemplate": "被害者の職業=高校生<br>発生時（始期）=%{x}<br>count=%{y}<extra></extra>",
         "legendgroup": "高校生",
         "marker": {
          "color": "rgb(85,168,104)",
          "line": {
           "width": 0
          },
          "pattern": {
           "shape": ""
          }
         },
         "name": "高校生",
         "offsetgroup": "高校生",
         "orientation": "v",
         "showlegend": true,
         "textposition": "auto",
         "type": "bar",
         "x": [
          "18",
          "8",
          "16",
          "8",
          "13",
          "18",
          "10",
          "14",
          "18",
          "8",
          "8",
          "11",
          "9",
          "11",
          "21",
          "18",
          "15",
          "10",
          "19"
         ],
         "xaxis": "x",
         "y": [
          1,
          1,
          1,
          1,
          1,
          1,
          1,
          1,
          1,
          1,
          1,
          1,
          1,
          1,
          1,
          1,
          1,
          1,
          1
         ],
         "yaxis": "y"
        },
        {
         "alignmentgroup": "True",
         "hovertemplate": "被害者の職業=大学生<br>発生時（始期）=%{x}<br>count=%{y}<extra></extra>",
         "legendgroup": "大学生",
         "marker": {
          "color": "rgb(196,78,82)",
          "line": {
           "width": 0
          },
          "pattern": {
           "shape": ""
          }
         },
         "name": "大学生",
         "offsetgroup": "大学生",
         "orientation": "v",
         "showlegend": true,
         "textposition": "auto",
         "type": "bar",
         "x": [
          "16",
          "17",
          "10",
          "6",
          "20",
          "10",
          "8",
          "13"
         ],
         "xaxis": "x",
         "y": [
          1,
          1,
          1,
          1,
          1,
          1,
          1,
          1
         ],
         "yaxis": "y"
        },
        {
         "alignmentgroup": "True",
         "hovertemplate": "被害者の職業=法人・団体、被害者なし<br>発生時（始期）=%{x}<br>count=%{y}<extra></extra>",
         "legendgroup": "法人・団体、被害者なし",
         "marker": {
          "color": "rgb(129,114,179)",
          "line": {
           "width": 0
          },
          "pattern": {
           "shape": ""
          }
         },
         "name": "法人・団体、被害者なし",
         "offsetgroup": "法人・団体、被害者なし",
         "orientation": "v",
         "showlegend": true,
         "textposition": "auto",
         "type": "bar",
         "x": [
          "20",
          "18"
         ],
         "xaxis": "x",
         "y": [
          1,
          1
         ],
         "yaxis": "y"
        },
        {
         "alignmentgroup": "True",
         "hovertemplate": "被害者の職業=小学生<br>発生時（始期）=%{x}<br>count=%{y}<extra></extra>",
         "legendgroup": "小学生",
         "marker": {
          "color": "rgb(147,120,96)",
          "line": {
           "width": 0
          },
          "pattern": {
           "shape": ""
          }
         },
         "name": "小学生",
         "offsetgroup": "小学生",
         "orientation": "v",
         "showlegend": true,
         "textposition": "auto",
         "type": "bar",
         "x": [
          "14",
          "17"
         ],
         "xaxis": "x",
         "y": [
          1,
          1
         ],
         "yaxis": "y"
        }
       ],
       "layout": {
        "barmode": "group",
        "legend": {
         "title": {
          "text": "被害者の職業"
         },
         "tracegroupgap": 0
        },
        "margin": {
         "t": 60
        },
        "template": {
         "data": {
          "bar": [
           {
            "error_x": {
             "color": "rgb(36,36,36)"
            },
            "error_y": {
             "color": "rgb(36,36,36)"
            },
            "marker": {
             "line": {
              "color": "rgb(234,234,242)",
              "width": 0.5
             },
             "pattern": {
              "fillmode": "overlay",
              "size": 10,
              "solidity": 0.2
             }
            },
            "type": "bar"
           }
          ],
          "barpolar": [
           {
            "marker": {
             "line": {
              "color": "rgb(234,234,242)",
              "width": 0.5
             },
             "pattern": {
              "fillmode": "overlay",
              "size": 10,
              "solidity": 0.2
             }
            },
            "type": "barpolar"
           }
          ],
          "carpet": [
           {
            "aaxis": {
             "endlinecolor": "rgb(36,36,36)",
             "gridcolor": "white",
             "linecolor": "white",
             "minorgridcolor": "white",
             "startlinecolor": "rgb(36,36,36)"
            },
            "baxis": {
             "endlinecolor": "rgb(36,36,36)",
             "gridcolor": "white",
             "linecolor": "white",
             "minorgridcolor": "white",
             "startlinecolor": "rgb(36,36,36)"
            },
            "type": "carpet"
           }
          ],
          "choropleth": [
           {
            "colorbar": {
             "outlinewidth": 0,
             "tickcolor": "rgb(36,36,36)",
             "ticklen": 8,
             "ticks": "outside",
             "tickwidth": 2
            },
            "type": "choropleth"
           }
          ],
          "contour": [
           {
            "colorbar": {
             "outlinewidth": 0,
             "tickcolor": "rgb(36,36,36)",
             "ticklen": 8,
             "ticks": "outside",
             "tickwidth": 2
            },
            "colorscale": [
             [
              0,
              "rgb(2,4,25)"
             ],
             [
              0.06274509803921569,
              "rgb(24,15,41)"
             ],
             [
              0.12549019607843137,
              "rgb(47,23,57)"
             ],
             [
              0.18823529411764706,
              "rgb(71,28,72)"
             ],
             [
              0.25098039215686274,
              "rgb(97,30,82)"
             ],
             [
              0.3137254901960784,
              "rgb(123,30,89)"
             ],
             [
              0.3764705882352941,
              "rgb(150,27,91)"
             ],
             [
              0.4392156862745098,
              "rgb(177,22,88)"
             ],
             [
              0.5019607843137255,
              "rgb(203,26,79)"
             ],
             [
              0.5647058823529412,
              "rgb(223,47,67)"
             ],
             [
              0.6274509803921569,
              "rgb(236,76,61)"
             ],
             [
              0.6901960784313725,
              "rgb(242,107,73)"
             ],
             [
              0.7529411764705882,
              "rgb(244,135,95)"
             ],
             [
              0.8156862745098039,
              "rgb(245,162,122)"
             ],
             [
              0.8784313725490196,
              "rgb(246,188,153)"
             ],
             [
              0.9411764705882353,
              "rgb(247,212,187)"
             ],
             [
              1,
              "rgb(250,234,220)"
             ]
            ],
            "type": "contour"
           }
          ],
          "contourcarpet": [
           {
            "colorbar": {
             "outlinewidth": 0,
             "tickcolor": "rgb(36,36,36)",
             "ticklen": 8,
             "ticks": "outside",
             "tickwidth": 2
            },
            "type": "contourcarpet"
           }
          ],
          "heatmap": [
           {
            "colorbar": {
             "outlinewidth": 0,
             "tickcolor": "rgb(36,36,36)",
             "ticklen": 8,
             "ticks": "outside",
             "tickwidth": 2
            },
            "colorscale": [
             [
              0,
              "rgb(2,4,25)"
             ],
             [
              0.06274509803921569,
              "rgb(24,15,41)"
             ],
             [
              0.12549019607843137,
              "rgb(47,23,57)"
             ],
             [
              0.18823529411764706,
              "rgb(71,28,72)"
             ],
             [
              0.25098039215686274,
              "rgb(97,30,82)"
             ],
             [
              0.3137254901960784,
              "rgb(123,30,89)"
             ],
             [
              0.3764705882352941,
              "rgb(150,27,91)"
             ],
             [
              0.4392156862745098,
              "rgb(177,22,88)"
             ],
             [
              0.5019607843137255,
              "rgb(203,26,79)"
             ],
             [
              0.5647058823529412,
              "rgb(223,47,67)"
             ],
             [
              0.6274509803921569,
              "rgb(236,76,61)"
             ],
             [
              0.6901960784313725,
              "rgb(242,107,73)"
             ],
             [
              0.7529411764705882,
              "rgb(244,135,95)"
             ],
             [
              0.8156862745098039,
              "rgb(245,162,122)"
             ],
             [
              0.8784313725490196,
              "rgb(246,188,153)"
             ],
             [
              0.9411764705882353,
              "rgb(247,212,187)"
             ],
             [
              1,
              "rgb(250,234,220)"
             ]
            ],
            "type": "heatmap"
           }
          ],
          "heatmapgl": [
           {
            "colorbar": {
             "outlinewidth": 0,
             "tickcolor": "rgb(36,36,36)",
             "ticklen": 8,
             "ticks": "outside",
             "tickwidth": 2
            },
            "colorscale": [
             [
              0,
              "rgb(2,4,25)"
             ],
             [
              0.06274509803921569,
              "rgb(24,15,41)"
             ],
             [
              0.12549019607843137,
              "rgb(47,23,57)"
             ],
             [
              0.18823529411764706,
              "rgb(71,28,72)"
             ],
             [
              0.25098039215686274,
              "rgb(97,30,82)"
             ],
             [
              0.3137254901960784,
              "rgb(123,30,89)"
             ],
             [
              0.3764705882352941,
              "rgb(150,27,91)"
             ],
             [
              0.4392156862745098,
              "rgb(177,22,88)"
             ],
             [
              0.5019607843137255,
              "rgb(203,26,79)"
             ],
             [
              0.5647058823529412,
              "rgb(223,47,67)"
             ],
             [
              0.6274509803921569,
              "rgb(236,76,61)"
             ],
             [
              0.6901960784313725,
              "rgb(242,107,73)"
             ],
             [
              0.7529411764705882,
              "rgb(244,135,95)"
             ],
             [
              0.8156862745098039,
              "rgb(245,162,122)"
             ],
             [
              0.8784313725490196,
              "rgb(246,188,153)"
             ],
             [
              0.9411764705882353,
              "rgb(247,212,187)"
             ],
             [
              1,
              "rgb(250,234,220)"
             ]
            ],
            "type": "heatmapgl"
           }
          ],
          "histogram": [
           {
            "marker": {
             "pattern": {
              "fillmode": "overlay",
              "size": 10,
              "solidity": 0.2
             }
            },
            "type": "histogram"
           }
          ],
          "histogram2d": [
           {
            "colorbar": {
             "outlinewidth": 0,
             "tickcolor": "rgb(36,36,36)",
             "ticklen": 8,
             "ticks": "outside",
             "tickwidth": 2
            },
            "colorscale": [
             [
              0,
              "rgb(2,4,25)"
             ],
             [
              0.06274509803921569,
              "rgb(24,15,41)"
             ],
             [
              0.12549019607843137,
              "rgb(47,23,57)"
             ],
             [
              0.18823529411764706,
              "rgb(71,28,72)"
             ],
             [
              0.25098039215686274,
              "rgb(97,30,82)"
             ],
             [
              0.3137254901960784,
              "rgb(123,30,89)"
             ],
             [
              0.3764705882352941,
              "rgb(150,27,91)"
             ],
             [
              0.4392156862745098,
              "rgb(177,22,88)"
             ],
             [
              0.5019607843137255,
              "rgb(203,26,79)"
             ],
             [
              0.5647058823529412,
              "rgb(223,47,67)"
             ],
             [
              0.6274509803921569,
              "rgb(236,76,61)"
             ],
             [
              0.6901960784313725,
              "rgb(242,107,73)"
             ],
             [
              0.7529411764705882,
              "rgb(244,135,95)"
             ],
             [
              0.8156862745098039,
              "rgb(245,162,122)"
             ],
             [
              0.8784313725490196,
              "rgb(246,188,153)"
             ],
             [
              0.9411764705882353,
              "rgb(247,212,187)"
             ],
             [
              1,
              "rgb(250,234,220)"
             ]
            ],
            "type": "histogram2d"
           }
          ],
          "histogram2dcontour": [
           {
            "colorbar": {
             "outlinewidth": 0,
             "tickcolor": "rgb(36,36,36)",
             "ticklen": 8,
             "ticks": "outside",
             "tickwidth": 2
            },
            "colorscale": [
             [
              0,
              "rgb(2,4,25)"
             ],
             [
              0.06274509803921569,
              "rgb(24,15,41)"
             ],
             [
              0.12549019607843137,
              "rgb(47,23,57)"
             ],
             [
              0.18823529411764706,
              "rgb(71,28,72)"
             ],
             [
              0.25098039215686274,
              "rgb(97,30,82)"
             ],
             [
              0.3137254901960784,
              "rgb(123,30,89)"
             ],
             [
              0.3764705882352941,
              "rgb(150,27,91)"
             ],
             [
              0.4392156862745098,
              "rgb(177,22,88)"
             ],
             [
              0.5019607843137255,
              "rgb(203,26,79)"
             ],
             [
              0.5647058823529412,
              "rgb(223,47,67)"
             ],
             [
              0.6274509803921569,
              "rgb(236,76,61)"
             ],
             [
              0.6901960784313725,
              "rgb(242,107,73)"
             ],
             [
              0.7529411764705882,
              "rgb(244,135,95)"
             ],
             [
              0.8156862745098039,
              "rgb(245,162,122)"
             ],
             [
              0.8784313725490196,
              "rgb(246,188,153)"
             ],
             [
              0.9411764705882353,
              "rgb(247,212,187)"
             ],
             [
              1,
              "rgb(250,234,220)"
             ]
            ],
            "type": "histogram2dcontour"
           }
          ],
          "mesh3d": [
           {
            "colorbar": {
             "outlinewidth": 0,
             "tickcolor": "rgb(36,36,36)",
             "ticklen": 8,
             "ticks": "outside",
             "tickwidth": 2
            },
            "type": "mesh3d"
           }
          ],
          "parcoords": [
           {
            "line": {
             "colorbar": {
              "outlinewidth": 0,
              "tickcolor": "rgb(36,36,36)",
              "ticklen": 8,
              "ticks": "outside",
              "tickwidth": 2
             }
            },
            "type": "parcoords"
           }
          ],
          "pie": [
           {
            "automargin": true,
            "type": "pie"
           }
          ],
          "scatter": [
           {
            "fillpattern": {
             "fillmode": "overlay",
             "size": 10,
             "solidity": 0.2
            },
            "type": "scatter"
           }
          ],
          "scatter3d": [
           {
            "line": {
             "colorbar": {
              "outlinewidth": 0,
              "tickcolor": "rgb(36,36,36)",
              "ticklen": 8,
              "ticks": "outside",
              "tickwidth": 2
             }
            },
            "marker": {
             "colorbar": {
              "outlinewidth": 0,
              "tickcolor": "rgb(36,36,36)",
              "ticklen": 8,
              "ticks": "outside",
              "tickwidth": 2
             }
            },
            "type": "scatter3d"
           }
          ],
          "scattercarpet": [
           {
            "marker": {
             "colorbar": {
              "outlinewidth": 0,
              "tickcolor": "rgb(36,36,36)",
              "ticklen": 8,
              "ticks": "outside",
              "tickwidth": 2
             }
            },
            "type": "scattercarpet"
           }
          ],
          "scattergeo": [
           {
            "marker": {
             "colorbar": {
              "outlinewidth": 0,
              "tickcolor": "rgb(36,36,36)",
              "ticklen": 8,
              "ticks": "outside",
              "tickwidth": 2
             }
            },
            "type": "scattergeo"
           }
          ],
          "scattergl": [
           {
            "marker": {
             "colorbar": {
              "outlinewidth": 0,
              "tickcolor": "rgb(36,36,36)",
              "ticklen": 8,
              "ticks": "outside",
              "tickwidth": 2
             }
            },
            "type": "scattergl"
           }
          ],
          "scattermapbox": [
           {
            "marker": {
             "colorbar": {
              "outlinewidth": 0,
              "tickcolor": "rgb(36,36,36)",
              "ticklen": 8,
              "ticks": "outside",
              "tickwidth": 2
             }
            },
            "type": "scattermapbox"
           }
          ],
          "scatterpolar": [
           {
            "marker": {
             "colorbar": {
              "outlinewidth": 0,
              "tickcolor": "rgb(36,36,36)",
              "ticklen": 8,
              "ticks": "outside",
              "tickwidth": 2
             }
            },
            "type": "scatterpolar"
           }
          ],
          "scatterpolargl": [
           {
            "marker": {
             "colorbar": {
              "outlinewidth": 0,
              "tickcolor": "rgb(36,36,36)",
              "ticklen": 8,
              "ticks": "outside",
              "tickwidth": 2
             }
            },
            "type": "scatterpolargl"
           }
          ],
          "scatterternary": [
           {
            "marker": {
             "colorbar": {
              "outlinewidth": 0,
              "tickcolor": "rgb(36,36,36)",
              "ticklen": 8,
              "ticks": "outside",
              "tickwidth": 2
             }
            },
            "type": "scatterternary"
           }
          ],
          "surface": [
           {
            "colorbar": {
             "outlinewidth": 0,
             "tickcolor": "rgb(36,36,36)",
             "ticklen": 8,
             "ticks": "outside",
             "tickwidth": 2
            },
            "colorscale": [
             [
              0,
              "rgb(2,4,25)"
             ],
             [
              0.06274509803921569,
              "rgb(24,15,41)"
             ],
             [
              0.12549019607843137,
              "rgb(47,23,57)"
             ],
             [
              0.18823529411764706,
              "rgb(71,28,72)"
             ],
             [
              0.25098039215686274,
              "rgb(97,30,82)"
             ],
             [
              0.3137254901960784,
              "rgb(123,30,89)"
             ],
             [
              0.3764705882352941,
              "rgb(150,27,91)"
             ],
             [
              0.4392156862745098,
              "rgb(177,22,88)"
             ],
             [
              0.5019607843137255,
              "rgb(203,26,79)"
             ],
             [
              0.5647058823529412,
              "rgb(223,47,67)"
             ],
             [
              0.6274509803921569,
              "rgb(236,76,61)"
             ],
             [
              0.6901960784313725,
              "rgb(242,107,73)"
             ],
             [
              0.7529411764705882,
              "rgb(244,135,95)"
             ],
             [
              0.8156862745098039,
              "rgb(245,162,122)"
             ],
             [
              0.8784313725490196,
              "rgb(246,188,153)"
             ],
             [
              0.9411764705882353,
              "rgb(247,212,187)"
             ],
             [
              1,
              "rgb(250,234,220)"
             ]
            ],
            "type": "surface"
           }
          ],
          "table": [
           {
            "cells": {
             "fill": {
              "color": "rgb(231,231,240)"
             },
             "line": {
              "color": "white"
             }
            },
            "header": {
             "fill": {
              "color": "rgb(183,183,191)"
             },
             "line": {
              "color": "white"
             }
            },
            "type": "table"
           }
          ]
         },
         "layout": {
          "annotationdefaults": {
           "arrowcolor": "rgb(67,103,167)"
          },
          "autotypenumbers": "strict",
          "coloraxis": {
           "colorbar": {
            "outlinewidth": 0,
            "tickcolor": "rgb(36,36,36)",
            "ticklen": 8,
            "ticks": "outside",
            "tickwidth": 2
           }
          },
          "colorscale": {
           "sequential": [
            [
             0,
             "rgb(2,4,25)"
            ],
            [
             0.06274509803921569,
             "rgb(24,15,41)"
            ],
            [
             0.12549019607843137,
             "rgb(47,23,57)"
            ],
            [
             0.18823529411764706,
             "rgb(71,28,72)"
            ],
            [
             0.25098039215686274,
             "rgb(97,30,82)"
            ],
            [
             0.3137254901960784,
             "rgb(123,30,89)"
            ],
            [
             0.3764705882352941,
             "rgb(150,27,91)"
            ],
            [
             0.4392156862745098,
             "rgb(177,22,88)"
            ],
            [
             0.5019607843137255,
             "rgb(203,26,79)"
            ],
            [
             0.5647058823529412,
             "rgb(223,47,67)"
            ],
            [
             0.6274509803921569,
             "rgb(236,76,61)"
            ],
            [
             0.6901960784313725,
             "rgb(242,107,73)"
            ],
            [
             0.7529411764705882,
             "rgb(244,135,95)"
            ],
            [
             0.8156862745098039,
             "rgb(245,162,122)"
            ],
            [
             0.8784313725490196,
             "rgb(246,188,153)"
            ],
            [
             0.9411764705882353,
             "rgb(247,212,187)"
            ],
            [
             1,
             "rgb(250,234,220)"
            ]
           ],
           "sequentialminus": [
            [
             0,
             "rgb(2,4,25)"
            ],
            [
             0.06274509803921569,
             "rgb(24,15,41)"
            ],
            [
             0.12549019607843137,
             "rgb(47,23,57)"
            ],
            [
             0.18823529411764706,
             "rgb(71,28,72)"
            ],
            [
             0.25098039215686274,
             "rgb(97,30,82)"
            ],
            [
             0.3137254901960784,
             "rgb(123,30,89)"
            ],
            [
             0.3764705882352941,
             "rgb(150,27,91)"
            ],
            [
             0.4392156862745098,
             "rgb(177,22,88)"
            ],
            [
             0.5019607843137255,
             "rgb(203,26,79)"
            ],
            [
             0.5647058823529412,
             "rgb(223,47,67)"
            ],
            [
             0.6274509803921569,
             "rgb(236,76,61)"
            ],
            [
             0.6901960784313725,
             "rgb(242,107,73)"
            ],
            [
             0.7529411764705882,
             "rgb(244,135,95)"
            ],
            [
             0.8156862745098039,
             "rgb(245,162,122)"
            ],
            [
             0.8784313725490196,
             "rgb(246,188,153)"
            ],
            [
             0.9411764705882353,
             "rgb(247,212,187)"
            ],
            [
             1,
             "rgb(250,234,220)"
            ]
           ]
          },
          "colorway": [
           "rgb(76,114,176)",
           "rgb(221,132,82)",
           "rgb(85,168,104)",
           "rgb(196,78,82)",
           "rgb(129,114,179)",
           "rgb(147,120,96)",
           "rgb(218,139,195)",
           "rgb(140,140,140)",
           "rgb(204,185,116)",
           "rgb(100,181,205)"
          ],
          "font": {
           "color": "rgb(36,36,36)"
          },
          "geo": {
           "bgcolor": "white",
           "lakecolor": "white",
           "landcolor": "rgb(234,234,242)",
           "showlakes": true,
           "showland": true,
           "subunitcolor": "white"
          },
          "hoverlabel": {
           "align": "left"
          },
          "hovermode": "closest",
          "paper_bgcolor": "white",
          "plot_bgcolor": "rgb(234,234,242)",
          "polar": {
           "angularaxis": {
            "gridcolor": "white",
            "linecolor": "white",
            "showgrid": true,
            "ticks": ""
           },
           "bgcolor": "rgb(234,234,242)",
           "radialaxis": {
            "gridcolor": "white",
            "linecolor": "white",
            "showgrid": true,
            "ticks": ""
           }
          },
          "scene": {
           "xaxis": {
            "backgroundcolor": "rgb(234,234,242)",
            "gridcolor": "white",
            "gridwidth": 2,
            "linecolor": "white",
            "showbackground": true,
            "showgrid": true,
            "ticks": "",
            "zerolinecolor": "white"
           },
           "yaxis": {
            "backgroundcolor": "rgb(234,234,242)",
            "gridcolor": "white",
            "gridwidth": 2,
            "linecolor": "white",
            "showbackground": true,
            "showgrid": true,
            "ticks": "",
            "zerolinecolor": "white"
           },
           "zaxis": {
            "backgroundcolor": "rgb(234,234,242)",
            "gridcolor": "white",
            "gridwidth": 2,
            "linecolor": "white",
            "showbackground": true,
            "showgrid": true,
            "ticks": "",
            "zerolinecolor": "white"
           }
          },
          "shapedefaults": {
           "fillcolor": "rgb(67,103,167)",
           "line": {
            "width": 0
           },
           "opacity": 0.5
          },
          "ternary": {
           "aaxis": {
            "gridcolor": "white",
            "linecolor": "white",
            "showgrid": true,
            "ticks": ""
           },
           "baxis": {
            "gridcolor": "white",
            "linecolor": "white",
            "showgrid": true,
            "ticks": ""
           },
           "bgcolor": "rgb(234,234,242)",
           "caxis": {
            "gridcolor": "white",
            "linecolor": "white",
            "showgrid": true,
            "ticks": ""
           }
          },
          "xaxis": {
           "automargin": true,
           "gridcolor": "white",
           "linecolor": "white",
           "showgrid": true,
           "ticks": "",
           "title": {
            "standoff": 15
           },
           "zerolinecolor": "white"
          },
          "yaxis": {
           "automargin": true,
           "gridcolor": "white",
           "linecolor": "white",
           "showgrid": true,
           "ticks": "",
           "title": {
            "standoff": 15
           },
           "zerolinecolor": "white"
          }
         }
        },
        "xaxis": {
         "anchor": "y",
         "categoryorder": "category ascending",
         "domain": [
          0,
          1
         ],
         "title": {
          "text": "発生時（始期）"
         }
        },
        "yaxis": {
         "anchor": "x",
         "domain": [
          0,
          1
         ],
         "title": {
          "text": "count"
         }
        }
       }
      }
     },
     "metadata": {},
     "output_type": "display_data"
    }
   ],
   "source": [
    "fig = px.bar(misato,\n",
    "            x='発生時（始期）',\n",
    "            color='被害者の職業',\n",
    "            barmode='group', # group the categories,\n",
    "            template='seaborn'\n",
    "            )\n",
    "fig.update_traces(\n",
    "    marker_line_width=0\n",
    ")\n",
    "fig.update_xaxes(categoryorder='category ascending')\n",
    "fig.show()"
   ]
  },
  {
   "cell_type": "code",
   "execution_count": 28,
   "metadata": {},
   "outputs": [
    {
     "data": {
      "application/vnd.plotly.v1+json": {
       "config": {
        "plotlyServerURL": "https://plot.ly"
       },
       "data": [
        {
         "alignmentgroup": "True",
         "hovertemplate": "被害者の職業=中学生<br>発生時（始期）=%{x}<br>count=%{y}<extra></extra>",
         "legendgroup": "",
         "marker": {
          "color": "rgb(76,114,176)",
          "line": {
           "width": 0
          },
          "pattern": {
           "shape": ""
          }
         },
         "name": "",
         "offsetgroup": "",
         "orientation": "v",
         "showlegend": false,
         "textposition": "auto",
         "type": "bar",
         "x": [
          "13",
          "17",
          "0",
          "16",
          "15",
          "17",
          "10",
          "18",
          "18",
          "18",
          "18",
          "14",
          "16",
          "22"
         ],
         "xaxis": "x",
         "y": [
          1,
          1,
          1,
          1,
          1,
          1,
          1,
          1,
          1,
          1,
          1,
          1,
          1,
          1
         ],
         "yaxis": "y"
        },
        {
         "alignmentgroup": "True",
         "hovertemplate": "被害者の職業=その他<br>発生時（始期）=%{x}<br>count=%{y}<extra></extra>",
         "legendgroup": "",
         "marker": {
          "color": "rgb(76,114,176)",
          "line": {
           "width": 0
          },
          "pattern": {
           "shape": ""
          }
         },
         "name": "",
         "offsetgroup": "",
         "orientation": "v",
         "showlegend": false,
         "textposition": "auto",
         "type": "bar",
         "x": [
          "不明",
          "19",
          "8",
          "19",
          "12",
          "不明",
          "8",
          "9",
          "16",
          "13",
          "8",
          "8",
          "20",
          "9",
          "不明",
          "20",
          "22",
          "8",
          "16",
          "9",
          "7",
          "18",
          "7",
          "7",
          "9",
          "19",
          "8",
          "18",
          "18",
          "13",
          "18",
          "11",
          "18",
          "20",
          "15",
          "10",
          "0",
          "10",
          "15",
          "18",
          "13",
          "10",
          "13",
          "22",
          "8",
          "20",
          "12",
          "17",
          "5",
          "17",
          "22",
          "21",
          "9",
          "17",
          "21",
          "19",
          "16",
          "20",
          "10",
          "11",
          "13",
          "3",
          "17",
          "8",
          "12",
          "13",
          "17",
          "8",
          "9",
          "14",
          "19",
          "8",
          "16",
          "20",
          "18",
          "20",
          "15",
          "20",
          "23",
          "14",
          "13"
         ],
         "xaxis": "x2",
         "y": [
          1,
          1,
          1,
          1,
          1,
          1,
          1,
          1,
          1,
          1,
          1,
          1,
          1,
          1,
          1,
          1,
          1,
          1,
          1,
          1,
          1,
          1,
          1,
          1,
          1,
          1,
          1,
          1,
          1,
          1,
          1,
          1,
          1,
          1,
          1,
          1,
          1,
          1,
          1,
          1,
          1,
          1,
          1,
          1,
          1,
          1,
          1,
          1,
          1,
          1,
          1,
          1,
          1,
          1,
          1,
          1,
          1,
          1,
          1,
          1,
          1,
          1,
          1,
          1,
          1,
          1,
          1,
          1,
          1,
          1,
          1,
          1,
          1,
          1,
          1,
          1,
          1,
          1,
          1,
          1,
          1
         ],
         "yaxis": "y2"
        },
        {
         "alignmentgroup": "True",
         "hovertemplate": "被害者の職業=高校生<br>発生時（始期）=%{x}<br>count=%{y}<extra></extra>",
         "legendgroup": "",
         "marker": {
          "color": "rgb(76,114,176)",
          "line": {
           "width": 0
          },
          "pattern": {
           "shape": ""
          }
         },
         "name": "",
         "offsetgroup": "",
         "orientation": "v",
         "showlegend": false,
         "textposition": "auto",
         "type": "bar",
         "x": [
          "18",
          "8",
          "16",
          "8",
          "13",
          "18",
          "10",
          "14",
          "18",
          "8",
          "8",
          "11",
          "9",
          "11",
          "21",
          "18",
          "15",
          "10",
          "19"
         ],
         "xaxis": "x3",
         "y": [
          1,
          1,
          1,
          1,
          1,
          1,
          1,
          1,
          1,
          1,
          1,
          1,
          1,
          1,
          1,
          1,
          1,
          1,
          1
         ],
         "yaxis": "y3"
        },
        {
         "alignmentgroup": "True",
         "hovertemplate": "被害者の職業=大学生<br>発生時（始期）=%{x}<br>count=%{y}<extra></extra>",
         "legendgroup": "",
         "marker": {
          "color": "rgb(76,114,176)",
          "line": {
           "width": 0
          },
          "pattern": {
           "shape": ""
          }
         },
         "name": "",
         "offsetgroup": "",
         "orientation": "v",
         "showlegend": false,
         "textposition": "auto",
         "type": "bar",
         "x": [
          "16",
          "17",
          "10",
          "6",
          "20",
          "10",
          "8",
          "13"
         ],
         "xaxis": "x4",
         "y": [
          1,
          1,
          1,
          1,
          1,
          1,
          1,
          1
         ],
         "yaxis": "y4"
        },
        {
         "alignmentgroup": "True",
         "hovertemplate": "被害者の職業=法人・団体、被害者なし<br>発生時（始期）=%{x}<br>count=%{y}<extra></extra>",
         "legendgroup": "",
         "marker": {
          "color": "rgb(76,114,176)",
          "line": {
           "width": 0
          },
          "pattern": {
           "shape": ""
          }
         },
         "name": "",
         "offsetgroup": "",
         "orientation": "v",
         "showlegend": false,
         "textposition": "auto",
         "type": "bar",
         "x": [
          "20",
          "18"
         ],
         "xaxis": "x5",
         "y": [
          1,
          1
         ],
         "yaxis": "y5"
        },
        {
         "alignmentgroup": "True",
         "hovertemplate": "被害者の職業=小学生<br>発生時（始期）=%{x}<br>count=%{y}<extra></extra>",
         "legendgroup": "",
         "marker": {
          "color": "rgb(76,114,176)",
          "line": {
           "width": 0
          },
          "pattern": {
           "shape": ""
          }
         },
         "name": "",
         "offsetgroup": "",
         "orientation": "v",
         "showlegend": false,
         "textposition": "auto",
         "type": "bar",
         "x": [
          "14",
          "17"
         ],
         "xaxis": "x6",
         "y": [
          1,
          1
         ],
         "yaxis": "y6"
        }
       ],
       "layout": {
        "annotations": [
         {
          "font": {},
          "showarrow": false,
          "text": "被害者の職業=中学生",
          "x": 0.075,
          "xanchor": "center",
          "xref": "paper",
          "y": 1,
          "yanchor": "bottom",
          "yref": "paper"
         },
         {
          "font": {},
          "showarrow": false,
          "text": "被害者の職業=その他",
          "x": 0.24499999999999997,
          "xanchor": "center",
          "xref": "paper",
          "y": 1,
          "yanchor": "bottom",
          "yref": "paper"
         },
         {
          "font": {},
          "showarrow": false,
          "text": "被害者の職業=高校生",
          "x": 0.415,
          "xanchor": "center",
          "xref": "paper",
          "y": 1,
          "yanchor": "bottom",
          "yref": "paper"
         },
         {
          "font": {},
          "showarrow": false,
          "text": "被害者の職業=大学生",
          "x": 0.585,
          "xanchor": "center",
          "xref": "paper",
          "y": 1,
          "yanchor": "bottom",
          "yref": "paper"
         },
         {
          "font": {},
          "showarrow": false,
          "text": "被害者の職業=法人・団体、被害者なし",
          "x": 0.7549999999999999,
          "xanchor": "center",
          "xref": "paper",
          "y": 1,
          "yanchor": "bottom",
          "yref": "paper"
         },
         {
          "font": {},
          "showarrow": false,
          "text": "被害者の職業=小学生",
          "x": 0.925,
          "xanchor": "center",
          "xref": "paper",
          "y": 1,
          "yanchor": "bottom",
          "yref": "paper"
         }
        ],
        "barmode": "relative",
        "legend": {
         "tracegroupgap": 0
        },
        "margin": {
         "t": 60
        },
        "template": {
         "data": {
          "bar": [
           {
            "error_x": {
             "color": "rgb(36,36,36)"
            },
            "error_y": {
             "color": "rgb(36,36,36)"
            },
            "marker": {
             "line": {
              "color": "rgb(234,234,242)",
              "width": 0.5
             },
             "pattern": {
              "fillmode": "overlay",
              "size": 10,
              "solidity": 0.2
             }
            },
            "type": "bar"
           }
          ],
          "barpolar": [
           {
            "marker": {
             "line": {
              "color": "rgb(234,234,242)",
              "width": 0.5
             },
             "pattern": {
              "fillmode": "overlay",
              "size": 10,
              "solidity": 0.2
             }
            },
            "type": "barpolar"
           }
          ],
          "carpet": [
           {
            "aaxis": {
             "endlinecolor": "rgb(36,36,36)",
             "gridcolor": "white",
             "linecolor": "white",
             "minorgridcolor": "white",
             "startlinecolor": "rgb(36,36,36)"
            },
            "baxis": {
             "endlinecolor": "rgb(36,36,36)",
             "gridcolor": "white",
             "linecolor": "white",
             "minorgridcolor": "white",
             "startlinecolor": "rgb(36,36,36)"
            },
            "type": "carpet"
           }
          ],
          "choropleth": [
           {
            "colorbar": {
             "outlinewidth": 0,
             "tickcolor": "rgb(36,36,36)",
             "ticklen": 8,
             "ticks": "outside",
             "tickwidth": 2
            },
            "type": "choropleth"
           }
          ],
          "contour": [
           {
            "colorbar": {
             "outlinewidth": 0,
             "tickcolor": "rgb(36,36,36)",
             "ticklen": 8,
             "ticks": "outside",
             "tickwidth": 2
            },
            "colorscale": [
             [
              0,
              "rgb(2,4,25)"
             ],
             [
              0.06274509803921569,
              "rgb(24,15,41)"
             ],
             [
              0.12549019607843137,
              "rgb(47,23,57)"
             ],
             [
              0.18823529411764706,
              "rgb(71,28,72)"
             ],
             [
              0.25098039215686274,
              "rgb(97,30,82)"
             ],
             [
              0.3137254901960784,
              "rgb(123,30,89)"
             ],
             [
              0.3764705882352941,
              "rgb(150,27,91)"
             ],
             [
              0.4392156862745098,
              "rgb(177,22,88)"
             ],
             [
              0.5019607843137255,
              "rgb(203,26,79)"
             ],
             [
              0.5647058823529412,
              "rgb(223,47,67)"
             ],
             [
              0.6274509803921569,
              "rgb(236,76,61)"
             ],
             [
              0.6901960784313725,
              "rgb(242,107,73)"
             ],
             [
              0.7529411764705882,
              "rgb(244,135,95)"
             ],
             [
              0.8156862745098039,
              "rgb(245,162,122)"
             ],
             [
              0.8784313725490196,
              "rgb(246,188,153)"
             ],
             [
              0.9411764705882353,
              "rgb(247,212,187)"
             ],
             [
              1,
              "rgb(250,234,220)"
             ]
            ],
            "type": "contour"
           }
          ],
          "contourcarpet": [
           {
            "colorbar": {
             "outlinewidth": 0,
             "tickcolor": "rgb(36,36,36)",
             "ticklen": 8,
             "ticks": "outside",
             "tickwidth": 2
            },
            "type": "contourcarpet"
           }
          ],
          "heatmap": [
           {
            "colorbar": {
             "outlinewidth": 0,
             "tickcolor": "rgb(36,36,36)",
             "ticklen": 8,
             "ticks": "outside",
             "tickwidth": 2
            },
            "colorscale": [
             [
              0,
              "rgb(2,4,25)"
             ],
             [
              0.06274509803921569,
              "rgb(24,15,41)"
             ],
             [
              0.12549019607843137,
              "rgb(47,23,57)"
             ],
             [
              0.18823529411764706,
              "rgb(71,28,72)"
             ],
             [
              0.25098039215686274,
              "rgb(97,30,82)"
             ],
             [
              0.3137254901960784,
              "rgb(123,30,89)"
             ],
             [
              0.3764705882352941,
              "rgb(150,27,91)"
             ],
             [
              0.4392156862745098,
              "rgb(177,22,88)"
             ],
             [
              0.5019607843137255,
              "rgb(203,26,79)"
             ],
             [
              0.5647058823529412,
              "rgb(223,47,67)"
             ],
             [
              0.6274509803921569,
              "rgb(236,76,61)"
             ],
             [
              0.6901960784313725,
              "rgb(242,107,73)"
             ],
             [
              0.7529411764705882,
              "rgb(244,135,95)"
             ],
             [
              0.8156862745098039,
              "rgb(245,162,122)"
             ],
             [
              0.8784313725490196,
              "rgb(246,188,153)"
             ],
             [
              0.9411764705882353,
              "rgb(247,212,187)"
             ],
             [
              1,
              "rgb(250,234,220)"
             ]
            ],
            "type": "heatmap"
           }
          ],
          "heatmapgl": [
           {
            "colorbar": {
             "outlinewidth": 0,
             "tickcolor": "rgb(36,36,36)",
             "ticklen": 8,
             "ticks": "outside",
             "tickwidth": 2
            },
            "colorscale": [
             [
              0,
              "rgb(2,4,25)"
             ],
             [
              0.06274509803921569,
              "rgb(24,15,41)"
             ],
             [
              0.12549019607843137,
              "rgb(47,23,57)"
             ],
             [
              0.18823529411764706,
              "rgb(71,28,72)"
             ],
             [
              0.25098039215686274,
              "rgb(97,30,82)"
             ],
             [
              0.3137254901960784,
              "rgb(123,30,89)"
             ],
             [
              0.3764705882352941,
              "rgb(150,27,91)"
             ],
             [
              0.4392156862745098,
              "rgb(177,22,88)"
             ],
             [
              0.5019607843137255,
              "rgb(203,26,79)"
             ],
             [
              0.5647058823529412,
              "rgb(223,47,67)"
             ],
             [
              0.6274509803921569,
              "rgb(236,76,61)"
             ],
             [
              0.6901960784313725,
              "rgb(242,107,73)"
             ],
             [
              0.7529411764705882,
              "rgb(244,135,95)"
             ],
             [
              0.8156862745098039,
              "rgb(245,162,122)"
             ],
             [
              0.8784313725490196,
              "rgb(246,188,153)"
             ],
             [
              0.9411764705882353,
              "rgb(247,212,187)"
             ],
             [
              1,
              "rgb(250,234,220)"
             ]
            ],
            "type": "heatmapgl"
           }
          ],
          "histogram": [
           {
            "marker": {
             "pattern": {
              "fillmode": "overlay",
              "size": 10,
              "solidity": 0.2
             }
            },
            "type": "histogram"
           }
          ],
          "histogram2d": [
           {
            "colorbar": {
             "outlinewidth": 0,
             "tickcolor": "rgb(36,36,36)",
             "ticklen": 8,
             "ticks": "outside",
             "tickwidth": 2
            },
            "colorscale": [
             [
              0,
              "rgb(2,4,25)"
             ],
             [
              0.06274509803921569,
              "rgb(24,15,41)"
             ],
             [
              0.12549019607843137,
              "rgb(47,23,57)"
             ],
             [
              0.18823529411764706,
              "rgb(71,28,72)"
             ],
             [
              0.25098039215686274,
              "rgb(97,30,82)"
             ],
             [
              0.3137254901960784,
              "rgb(123,30,89)"
             ],
             [
              0.3764705882352941,
              "rgb(150,27,91)"
             ],
             [
              0.4392156862745098,
              "rgb(177,22,88)"
             ],
             [
              0.5019607843137255,
              "rgb(203,26,79)"
             ],
             [
              0.5647058823529412,
              "rgb(223,47,67)"
             ],
             [
              0.6274509803921569,
              "rgb(236,76,61)"
             ],
             [
              0.6901960784313725,
              "rgb(242,107,73)"
             ],
             [
              0.7529411764705882,
              "rgb(244,135,95)"
             ],
             [
              0.8156862745098039,
              "rgb(245,162,122)"
             ],
             [
              0.8784313725490196,
              "rgb(246,188,153)"
             ],
             [
              0.9411764705882353,
              "rgb(247,212,187)"
             ],
             [
              1,
              "rgb(250,234,220)"
             ]
            ],
            "type": "histogram2d"
           }
          ],
          "histogram2dcontour": [
           {
            "colorbar": {
             "outlinewidth": 0,
             "tickcolor": "rgb(36,36,36)",
             "ticklen": 8,
             "ticks": "outside",
             "tickwidth": 2
            },
            "colorscale": [
             [
              0,
              "rgb(2,4,25)"
             ],
             [
              0.06274509803921569,
              "rgb(24,15,41)"
             ],
             [
              0.12549019607843137,
              "rgb(47,23,57)"
             ],
             [
              0.18823529411764706,
              "rgb(71,28,72)"
             ],
             [
              0.25098039215686274,
              "rgb(97,30,82)"
             ],
             [
              0.3137254901960784,
              "rgb(123,30,89)"
             ],
             [
              0.3764705882352941,
              "rgb(150,27,91)"
             ],
             [
              0.4392156862745098,
              "rgb(177,22,88)"
             ],
             [
              0.5019607843137255,
              "rgb(203,26,79)"
             ],
             [
              0.5647058823529412,
              "rgb(223,47,67)"
             ],
             [
              0.6274509803921569,
              "rgb(236,76,61)"
             ],
             [
              0.6901960784313725,
              "rgb(242,107,73)"
             ],
             [
              0.7529411764705882,
              "rgb(244,135,95)"
             ],
             [
              0.8156862745098039,
              "rgb(245,162,122)"
             ],
             [
              0.8784313725490196,
              "rgb(246,188,153)"
             ],
             [
              0.9411764705882353,
              "rgb(247,212,187)"
             ],
             [
              1,
              "rgb(250,234,220)"
             ]
            ],
            "type": "histogram2dcontour"
           }
          ],
          "mesh3d": [
           {
            "colorbar": {
             "outlinewidth": 0,
             "tickcolor": "rgb(36,36,36)",
             "ticklen": 8,
             "ticks": "outside",
             "tickwidth": 2
            },
            "type": "mesh3d"
           }
          ],
          "parcoords": [
           {
            "line": {
             "colorbar": {
              "outlinewidth": 0,
              "tickcolor": "rgb(36,36,36)",
              "ticklen": 8,
              "ticks": "outside",
              "tickwidth": 2
             }
            },
            "type": "parcoords"
           }
          ],
          "pie": [
           {
            "automargin": true,
            "type": "pie"
           }
          ],
          "scatter": [
           {
            "fillpattern": {
             "fillmode": "overlay",
             "size": 10,
             "solidity": 0.2
            },
            "type": "scatter"
           }
          ],
          "scatter3d": [
           {
            "line": {
             "colorbar": {
              "outlinewidth": 0,
              "tickcolor": "rgb(36,36,36)",
              "ticklen": 8,
              "ticks": "outside",
              "tickwidth": 2
             }
            },
            "marker": {
             "colorbar": {
              "outlinewidth": 0,
              "tickcolor": "rgb(36,36,36)",
              "ticklen": 8,
              "ticks": "outside",
              "tickwidth": 2
             }
            },
            "type": "scatter3d"
           }
          ],
          "scattercarpet": [
           {
            "marker": {
             "colorbar": {
              "outlinewidth": 0,
              "tickcolor": "rgb(36,36,36)",
              "ticklen": 8,
              "ticks": "outside",
              "tickwidth": 2
             }
            },
            "type": "scattercarpet"
           }
          ],
          "scattergeo": [
           {
            "marker": {
             "colorbar": {
              "outlinewidth": 0,
              "tickcolor": "rgb(36,36,36)",
              "ticklen": 8,
              "ticks": "outside",
              "tickwidth": 2
             }
            },
            "type": "scattergeo"
           }
          ],
          "scattergl": [
           {
            "marker": {
             "colorbar": {
              "outlinewidth": 0,
              "tickcolor": "rgb(36,36,36)",
              "ticklen": 8,
              "ticks": "outside",
              "tickwidth": 2
             }
            },
            "type": "scattergl"
           }
          ],
          "scattermapbox": [
           {
            "marker": {
             "colorbar": {
              "outlinewidth": 0,
              "tickcolor": "rgb(36,36,36)",
              "ticklen": 8,
              "ticks": "outside",
              "tickwidth": 2
             }
            },
            "type": "scattermapbox"
           }
          ],
          "scatterpolar": [
           {
            "marker": {
             "colorbar": {
              "outlinewidth": 0,
              "tickcolor": "rgb(36,36,36)",
              "ticklen": 8,
              "ticks": "outside",
              "tickwidth": 2
             }
            },
            "type": "scatterpolar"
           }
          ],
          "scatterpolargl": [
           {
            "marker": {
             "colorbar": {
              "outlinewidth": 0,
              "tickcolor": "rgb(36,36,36)",
              "ticklen": 8,
              "ticks": "outside",
              "tickwidth": 2
             }
            },
            "type": "scatterpolargl"
           }
          ],
          "scatterternary": [
           {
            "marker": {
             "colorbar": {
              "outlinewidth": 0,
              "tickcolor": "rgb(36,36,36)",
              "ticklen": 8,
              "ticks": "outside",
              "tickwidth": 2
             }
            },
            "type": "scatterternary"
           }
          ],
          "surface": [
           {
            "colorbar": {
             "outlinewidth": 0,
             "tickcolor": "rgb(36,36,36)",
             "ticklen": 8,
             "ticks": "outside",
             "tickwidth": 2
            },
            "colorscale": [
             [
              0,
              "rgb(2,4,25)"
             ],
             [
              0.06274509803921569,
              "rgb(24,15,41)"
             ],
             [
              0.12549019607843137,
              "rgb(47,23,57)"
             ],
             [
              0.18823529411764706,
              "rgb(71,28,72)"
             ],
             [
              0.25098039215686274,
              "rgb(97,30,82)"
             ],
             [
              0.3137254901960784,
              "rgb(123,30,89)"
             ],
             [
              0.3764705882352941,
              "rgb(150,27,91)"
             ],
             [
              0.4392156862745098,
              "rgb(177,22,88)"
             ],
             [
              0.5019607843137255,
              "rgb(203,26,79)"
             ],
             [
              0.5647058823529412,
              "rgb(223,47,67)"
             ],
             [
              0.6274509803921569,
              "rgb(236,76,61)"
             ],
             [
              0.6901960784313725,
              "rgb(242,107,73)"
             ],
             [
              0.7529411764705882,
              "rgb(244,135,95)"
             ],
             [
              0.8156862745098039,
              "rgb(245,162,122)"
             ],
             [
              0.8784313725490196,
              "rgb(246,188,153)"
             ],
             [
              0.9411764705882353,
              "rgb(247,212,187)"
             ],
             [
              1,
              "rgb(250,234,220)"
             ]
            ],
            "type": "surface"
           }
          ],
          "table": [
           {
            "cells": {
             "fill": {
              "color": "rgb(231,231,240)"
             },
             "line": {
              "color": "white"
             }
            },
            "header": {
             "fill": {
              "color": "rgb(183,183,191)"
             },
             "line": {
              "color": "white"
             }
            },
            "type": "table"
           }
          ]
         },
         "layout": {
          "annotationdefaults": {
           "arrowcolor": "rgb(67,103,167)"
          },
          "autotypenumbers": "strict",
          "coloraxis": {
           "colorbar": {
            "outlinewidth": 0,
            "tickcolor": "rgb(36,36,36)",
            "ticklen": 8,
            "ticks": "outside",
            "tickwidth": 2
           }
          },
          "colorscale": {
           "sequential": [
            [
             0,
             "rgb(2,4,25)"
            ],
            [
             0.06274509803921569,
             "rgb(24,15,41)"
            ],
            [
             0.12549019607843137,
             "rgb(47,23,57)"
            ],
            [
             0.18823529411764706,
             "rgb(71,28,72)"
            ],
            [
             0.25098039215686274,
             "rgb(97,30,82)"
            ],
            [
             0.3137254901960784,
             "rgb(123,30,89)"
            ],
            [
             0.3764705882352941,
             "rgb(150,27,91)"
            ],
            [
             0.4392156862745098,
             "rgb(177,22,88)"
            ],
            [
             0.5019607843137255,
             "rgb(203,26,79)"
            ],
            [
             0.5647058823529412,
             "rgb(223,47,67)"
            ],
            [
             0.6274509803921569,
             "rgb(236,76,61)"
            ],
            [
             0.6901960784313725,
             "rgb(242,107,73)"
            ],
            [
             0.7529411764705882,
             "rgb(244,135,95)"
            ],
            [
             0.8156862745098039,
             "rgb(245,162,122)"
            ],
            [
             0.8784313725490196,
             "rgb(246,188,153)"
            ],
            [
             0.9411764705882353,
             "rgb(247,212,187)"
            ],
            [
             1,
             "rgb(250,234,220)"
            ]
           ],
           "sequentialminus": [
            [
             0,
             "rgb(2,4,25)"
            ],
            [
             0.06274509803921569,
             "rgb(24,15,41)"
            ],
            [
             0.12549019607843137,
             "rgb(47,23,57)"
            ],
            [
             0.18823529411764706,
             "rgb(71,28,72)"
            ],
            [
             0.25098039215686274,
             "rgb(97,30,82)"
            ],
            [
             0.3137254901960784,
             "rgb(123,30,89)"
            ],
            [
             0.3764705882352941,
             "rgb(150,27,91)"
            ],
            [
             0.4392156862745098,
             "rgb(177,22,88)"
            ],
            [
             0.5019607843137255,
             "rgb(203,26,79)"
            ],
            [
             0.5647058823529412,
             "rgb(223,47,67)"
            ],
            [
             0.6274509803921569,
             "rgb(236,76,61)"
            ],
            [
             0.6901960784313725,
             "rgb(242,107,73)"
            ],
            [
             0.7529411764705882,
             "rgb(244,135,95)"
            ],
            [
             0.8156862745098039,
             "rgb(245,162,122)"
            ],
            [
             0.8784313725490196,
             "rgb(246,188,153)"
            ],
            [
             0.9411764705882353,
             "rgb(247,212,187)"
            ],
            [
             1,
             "rgb(250,234,220)"
            ]
           ]
          },
          "colorway": [
           "rgb(76,114,176)",
           "rgb(221,132,82)",
           "rgb(85,168,104)",
           "rgb(196,78,82)",
           "rgb(129,114,179)",
           "rgb(147,120,96)",
           "rgb(218,139,195)",
           "rgb(140,140,140)",
           "rgb(204,185,116)",
           "rgb(100,181,205)"
          ],
          "font": {
           "color": "rgb(36,36,36)"
          },
          "geo": {
           "bgcolor": "white",
           "lakecolor": "white",
           "landcolor": "rgb(234,234,242)",
           "showlakes": true,
           "showland": true,
           "subunitcolor": "white"
          },
          "hoverlabel": {
           "align": "left"
          },
          "hovermode": "closest",
          "paper_bgcolor": "white",
          "plot_bgcolor": "rgb(234,234,242)",
          "polar": {
           "angularaxis": {
            "gridcolor": "white",
            "linecolor": "white",
            "showgrid": true,
            "ticks": ""
           },
           "bgcolor": "rgb(234,234,242)",
           "radialaxis": {
            "gridcolor": "white",
            "linecolor": "white",
            "showgrid": true,
            "ticks": ""
           }
          },
          "scene": {
           "xaxis": {
            "backgroundcolor": "rgb(234,234,242)",
            "gridcolor": "white",
            "gridwidth": 2,
            "linecolor": "white",
            "showbackground": true,
            "showgrid": true,
            "ticks": "",
            "zerolinecolor": "white"
           },
           "yaxis": {
            "backgroundcolor": "rgb(234,234,242)",
            "gridcolor": "white",
            "gridwidth": 2,
            "linecolor": "white",
            "showbackground": true,
            "showgrid": true,
            "ticks": "",
            "zerolinecolor": "white"
           },
           "zaxis": {
            "backgroundcolor": "rgb(234,234,242)",
            "gridcolor": "white",
            "gridwidth": 2,
            "linecolor": "white",
            "showbackground": true,
            "showgrid": true,
            "ticks": "",
            "zerolinecolor": "white"
           }
          },
          "shapedefaults": {
           "fillcolor": "rgb(67,103,167)",
           "line": {
            "width": 0
           },
           "opacity": 0.5
          },
          "ternary": {
           "aaxis": {
            "gridcolor": "white",
            "linecolor": "white",
            "showgrid": true,
            "ticks": ""
           },
           "baxis": {
            "gridcolor": "white",
            "linecolor": "white",
            "showgrid": true,
            "ticks": ""
           },
           "bgcolor": "rgb(234,234,242)",
           "caxis": {
            "gridcolor": "white",
            "linecolor": "white",
            "showgrid": true,
            "ticks": ""
           }
          },
          "xaxis": {
           "automargin": true,
           "gridcolor": "white",
           "linecolor": "white",
           "showgrid": true,
           "ticks": "",
           "title": {
            "standoff": 15
           },
           "zerolinecolor": "white"
          },
          "yaxis": {
           "automargin": true,
           "gridcolor": "white",
           "linecolor": "white",
           "showgrid": true,
           "ticks": "",
           "title": {
            "standoff": 15
           },
           "zerolinecolor": "white"
          }
         }
        },
        "xaxis": {
         "anchor": "y",
         "categoryorder": "category ascending",
         "domain": [
          0,
          0.15
         ],
         "title": {
          "text": "発生時（始期）"
         }
        },
        "xaxis2": {
         "anchor": "y2",
         "categoryorder": "category ascending",
         "domain": [
          0.16999999999999998,
          0.31999999999999995
         ],
         "matches": "x",
         "title": {
          "text": "発生時（始期）"
         }
        },
        "xaxis3": {
         "anchor": "y3",
         "categoryorder": "category ascending",
         "domain": [
          0.33999999999999997,
          0.49
         ],
         "matches": "x",
         "title": {
          "text": "発生時（始期）"
         }
        },
        "xaxis4": {
         "anchor": "y4",
         "categoryorder": "category ascending",
         "domain": [
          0.51,
          0.66
         ],
         "matches": "x",
         "title": {
          "text": "発生時（始期）"
         }
        },
        "xaxis5": {
         "anchor": "y5",
         "categoryorder": "category ascending",
         "domain": [
          0.6799999999999999,
          0.83
         ],
         "matches": "x",
         "title": {
          "text": "発生時（始期）"
         }
        },
        "xaxis6": {
         "anchor": "y6",
         "categoryorder": "category ascending",
         "domain": [
          0.85,
          1
         ],
         "matches": "x",
         "title": {
          "text": "発生時（始期）"
         }
        },
        "yaxis": {
         "anchor": "x",
         "domain": [
          0,
          1
         ],
         "title": {
          "text": "count"
         }
        },
        "yaxis2": {
         "anchor": "x2",
         "domain": [
          0,
          1
         ],
         "matches": "y",
         "showticklabels": false
        },
        "yaxis3": {
         "anchor": "x3",
         "domain": [
          0,
          1
         ],
         "matches": "y",
         "showticklabels": false
        },
        "yaxis4": {
         "anchor": "x4",
         "domain": [
          0,
          1
         ],
         "matches": "y",
         "showticklabels": false
        },
        "yaxis5": {
         "anchor": "x5",
         "domain": [
          0,
          1
         ],
         "matches": "y",
         "showticklabels": false
        },
        "yaxis6": {
         "anchor": "x6",
         "domain": [
          0,
          1
         ],
         "matches": "y",
         "showticklabels": false
        }
       }
      }
     },
     "metadata": {},
     "output_type": "display_data"
    }
   ],
   "source": [
    "fig = px.bar(misato,\n",
    "            x='発生時（始期）',\n",
    "            facet_col='被害者の職業',\n",
    "            template='seaborn')\n",
    "fig.update_traces(\n",
    "    marker_line_width=0\n",
    ")\n",
    "fig.update_xaxes(categoryorder='category ascending')\n",
    "fig.show()"
   ]
  },
  {
   "cell_type": "markdown",
   "metadata": {},
   "source": [
    "## これらのデータをジオコーディングする　"
   ]
  },
  {
   "cell_type": "code",
   "execution_count": 29,
   "metadata": {},
   "outputs": [],
   "source": [
    "# 関数を作成\n",
    "def geocode(address):\n",
    "\n",
    "    # ジオコーティングURL\n",
    "    url = \"https://msearch.gsi.go.jp/address-search/AddressSearch?q=\"\n",
    "\n",
    "    # try/exceptでエラーをキャッチ\n",
    "    # 成功の場合\n",
    "    try:\n",
    "        s_quote = urllib.parse.quote(address)\n",
    "        response = requests.get(url + s_quote)\n",
    "        if len(response.json())>0:\n",
    "            return response.json()[0][\"geometry\"][\"coordinates\"] \n",
    "        else:\n",
    "            return False\n",
    "        \n",
    "    # 失敗の場合\n",
    "    except:\n",
    "        return False"
   ]
  },
  {
   "cell_type": "code",
   "execution_count": 30,
   "metadata": {},
   "outputs": [
    {
     "data": {
      "text/plain": [
       "[139.872284, 35.830151]"
      ]
     },
     "execution_count": 30,
     "metadata": {},
     "output_type": "execute_result"
    }
   ],
   "source": [
    "geocode('三郷市')"
   ]
  },
  {
   "cell_type": "code",
   "execution_count": 31,
   "metadata": {},
   "outputs": [],
   "source": [
    "# 空の住所フィールドを作成\n",
    "misato['住所'] = ''"
   ]
  },
  {
   "cell_type": "code",
   "execution_count": 32,
   "metadata": {},
   "outputs": [],
   "source": [
    "# 空だがfloatとしてフィールドを作成\n",
    "misato['lat'] = pd.Series(dtype=float)\n",
    "misato['lon'] = pd.Series(dtype=float)"
   ]
  },
  {
   "cell_type": "code",
   "execution_count": 33,
   "metadata": {},
   "outputs": [],
   "source": [
    "# 住所フィールドを作成\n",
    "misato['住所'] = misato['都道府県（発生地）']+misato['市区町村（発生地）']+misato['町丁目（発生地）']"
   ]
  },
  {
   "cell_type": "code",
   "execution_count": 34,
   "metadata": {},
   "outputs": [
    {
     "data": {
      "text/html": [
       "<div>\n",
       "<style scoped>\n",
       "    .dataframe tbody tr th:only-of-type {\n",
       "        vertical-align: middle;\n",
       "    }\n",
       "\n",
       "    .dataframe tbody tr th {\n",
       "        vertical-align: top;\n",
       "    }\n",
       "\n",
       "    .dataframe thead th {\n",
       "        text-align: right;\n",
       "    }\n",
       "</style>\n",
       "<table border=\"1\" class=\"dataframe\">\n",
       "  <thead>\n",
       "    <tr style=\"text-align: right;\">\n",
       "      <th></th>\n",
       "      <th>罪名</th>\n",
       "      <th>手口</th>\n",
       "      <th>管轄警察署（発生地）</th>\n",
       "      <th>管轄交番・駐在所（発生地）</th>\n",
       "      <th>市区町村コード（発生地）</th>\n",
       "      <th>都道府県（発生地）</th>\n",
       "      <th>市区町村（発生地）</th>\n",
       "      <th>町丁目（発生地）</th>\n",
       "      <th>発生年月日（始期）</th>\n",
       "      <th>発生時（始期）</th>\n",
       "      <th>発生場所</th>\n",
       "      <th>発生場所の詳細</th>\n",
       "      <th>被害者の年齢</th>\n",
       "      <th>被害者の職業</th>\n",
       "      <th>施錠関係</th>\n",
       "      <th>住所</th>\n",
       "      <th>lat</th>\n",
       "      <th>lon</th>\n",
       "    </tr>\n",
       "  </thead>\n",
       "  <tbody>\n",
       "    <tr>\n",
       "      <th>86</th>\n",
       "      <td>窃盗</td>\n",
       "      <td>自転車盗</td>\n",
       "      <td>吉川</td>\n",
       "      <td>三郷駅前交番</td>\n",
       "      <td>112372</td>\n",
       "      <td>埼玉県</td>\n",
       "      <td>三郷市</td>\n",
       "      <td>早稲田２丁目</td>\n",
       "      <td>2022-12-26</td>\n",
       "      <td>21</td>\n",
       "      <td>駐車（輪）場</td>\n",
       "      <td>駐車（輪）場</td>\n",
       "      <td>20歳代</td>\n",
       "      <td>その他</td>\n",
       "      <td>施錠せず</td>\n",
       "      <td>埼玉県三郷市早稲田２丁目</td>\n",
       "      <td>NaN</td>\n",
       "      <td>NaN</td>\n",
       "    </tr>\n",
       "    <tr>\n",
       "      <th>23</th>\n",
       "      <td>窃盗</td>\n",
       "      <td>自転車盗</td>\n",
       "      <td>吉川</td>\n",
       "      <td>三郷中央駅前交番</td>\n",
       "      <td>112372</td>\n",
       "      <td>埼玉県</td>\n",
       "      <td>三郷市</td>\n",
       "      <td>谷口</td>\n",
       "      <td>2022-06-04</td>\n",
       "      <td>22</td>\n",
       "      <td>その他の住宅（３階建て以下共同住宅等）</td>\n",
       "      <td>駐車（輪）場</td>\n",
       "      <td>20歳代</td>\n",
       "      <td>その他</td>\n",
       "      <td>施錠せず</td>\n",
       "      <td>埼玉県三郷市谷口</td>\n",
       "      <td>NaN</td>\n",
       "      <td>NaN</td>\n",
       "    </tr>\n",
       "    <tr>\n",
       "      <th>92</th>\n",
       "      <td>窃盗</td>\n",
       "      <td>自転車盗</td>\n",
       "      <td>吉川</td>\n",
       "      <td>三郷駅前交番</td>\n",
       "      <td>112372</td>\n",
       "      <td>埼玉県</td>\n",
       "      <td>三郷市</td>\n",
       "      <td>早稲田４丁目</td>\n",
       "      <td>2022-07-15</td>\n",
       "      <td>10</td>\n",
       "      <td>４階建て以上共同住宅</td>\n",
       "      <td>駐車（輪）場</td>\n",
       "      <td>60-64歳</td>\n",
       "      <td>その他</td>\n",
       "      <td>施錠せず</td>\n",
       "      <td>埼玉県三郷市早稲田４丁目</td>\n",
       "      <td>NaN</td>\n",
       "      <td>NaN</td>\n",
       "    </tr>\n",
       "  </tbody>\n",
       "</table>\n",
       "</div>"
      ],
      "text/plain": [
       "    罪名    手口 管轄警察署（発生地） 管轄交番・駐在所（発生地）  市区町村コード（発生地） 都道府県（発生地） 市区町村（発生地）  \\\n",
       "86  窃盗  自転車盗         吉川        三郷駅前交番        112372       埼玉県       三郷市   \n",
       "23  窃盗  自転車盗         吉川      三郷中央駅前交番        112372       埼玉県       三郷市   \n",
       "92  窃盗  自転車盗         吉川        三郷駅前交番        112372       埼玉県       三郷市   \n",
       "\n",
       "   町丁目（発生地）   発生年月日（始期） 発生時（始期）                 発生場所 発生場所の詳細  被害者の年齢 被害者の職業  \\\n",
       "86   早稲田２丁目  2022-12-26      21               駐車（輪）場  駐車（輪）場    20歳代    その他   \n",
       "23       谷口  2022-06-04      22  その他の住宅（３階建て以下共同住宅等）  駐車（輪）場    20歳代    その他   \n",
       "92   早稲田４丁目  2022-07-15      10           ４階建て以上共同住宅  駐車（輪）場  60-64歳    その他   \n",
       "\n",
       "    施錠関係            住所  lat  lon  \n",
       "86  施錠せず  埼玉県三郷市早稲田２丁目  NaN  NaN  \n",
       "23  施錠せず      埼玉県三郷市谷口  NaN  NaN  \n",
       "92  施錠せず  埼玉県三郷市早稲田４丁目  NaN  NaN  "
      ]
     },
     "execution_count": 34,
     "metadata": {},
     "output_type": "execute_result"
    }
   ],
   "source": [
    "# random sampleで上手く行ったかどうかをチェック\n",
    "misato.sample(3)"
   ]
  },
  {
   "cell_type": "code",
   "execution_count": 35,
   "metadata": {},
   "outputs": [
    {
     "name": "stdout",
     "output_type": "stream",
     "text": [
      "埼玉県三郷市泉２丁目 139.860626 35.843063\n",
      "埼玉県三郷市泉２丁目 139.860626 35.843063\n",
      "埼玉県三郷市岩野木 139.886154 35.833054\n",
      "埼玉県三郷市幸房 139.879288 35.837543\n",
      "埼玉県三郷市新和４丁目 139.885666 35.811974\n",
      "埼玉県三郷市新和４丁目 139.885666 35.811974\n",
      "埼玉県三郷市新和４丁目 139.885666 35.811974\n",
      "埼玉県三郷市新和４丁目 139.885666 35.811974\n",
      "埼玉県三郷市花和田 139.86026 35.826832\n",
      "埼玉県三郷市花和田 139.86026 35.826832\n",
      "埼玉県三郷市花和田 139.86026 35.826832\n",
      "埼玉県三郷市花和田 139.86026 35.826832\n",
      "埼玉県三郷市花和田 139.86026 35.826832\n",
      "埼玉県三郷市花和田 139.86026 35.826832\n",
      "埼玉県三郷市彦江１丁目 139.85405 35.82724\n",
      "埼玉県三郷市彦江１丁目 139.85405 35.82724\n",
      "埼玉県三郷市彦江１丁目 139.85405 35.82724\n",
      "埼玉県三郷市彦江１丁目 139.85405 35.82724\n",
      "埼玉県三郷市彦江１丁目 139.85405 35.82724\n",
      "埼玉県三郷市彦野１丁目 139.848221 35.841343\n",
      "埼玉県三郷市彦野１丁目 139.848221 35.841343\n",
      "埼玉県三郷市谷口 139.870361 35.826015\n",
      "埼玉県三郷市谷口 139.870361 35.826015\n",
      "埼玉県三郷市谷口 139.870361 35.826015\n",
      "埼玉県三郷市中央１丁目 139.876038 35.822933\n",
      "埼玉県三郷市中央１丁目 139.876038 35.822933\n",
      "埼玉県三郷市中央１丁目 139.876038 35.822933\n",
      "埼玉県三郷市中央１丁目 139.876038 35.822933\n",
      "埼玉県三郷市中央１丁目 139.876038 35.822933\n",
      "埼玉県三郷市中央１丁目 139.876038 35.822933\n",
      "埼玉県三郷市中央１丁目 139.876038 35.822933\n",
      "埼玉県三郷市中央１丁目 139.876038 35.822933\n",
      "埼玉県三郷市中央１丁目 139.876038 35.822933\n",
      "埼玉県三郷市中央１丁目 139.876038 35.822933\n",
      "埼玉県三郷市中央１丁目 139.876038 35.822933\n",
      "埼玉県三郷市中央１丁目 139.876038 35.822933\n",
      "埼玉県三郷市中央１丁目 139.876038 35.822933\n",
      "埼玉県三郷市中央１丁目 139.876038 35.822933\n",
      "埼玉県三郷市中央１丁目 139.876038 35.822933\n",
      "埼玉県三郷市中央１丁目 139.876038 35.822933\n",
      "埼玉県三郷市中央１丁目 139.876038 35.822933\n",
      "埼玉県三郷市中央１丁目 139.876038 35.822933\n",
      "埼玉県三郷市中央２丁目 139.877319 35.819542\n",
      "埼玉県三郷市中央３丁目 139.878433 35.827572\n",
      "埼玉県三郷市中央３丁目 139.878433 35.827572\n",
      "埼玉県三郷市中央３丁目 139.878433 35.827572\n",
      "埼玉県三郷市中央３丁目 139.878433 35.827572\n",
      "埼玉県三郷市中央４丁目 139.87999 35.831985\n",
      "埼玉県三郷市中央４丁目 139.87999 35.831985\n",
      "埼玉県三郷市中央４丁目 139.87999 35.831985\n",
      "埼玉県三郷市ピアラシティ１丁目 139.855316 35.842663\n",
      "埼玉県三郷市ピアラシティ１丁目 139.855316 35.842663\n",
      "埼玉県三郷市ピアラシティ１丁目 139.855316 35.842663\n",
      "埼玉県三郷市ピアラシティ１丁目 139.855316 35.842663\n",
      "埼玉県三郷市ピアラシティ１丁目 139.855316 35.842663\n",
      "埼玉県三郷市ピアラシティ１丁目 139.855316 35.842663\n",
      "埼玉県三郷市ピアラシティ１丁目 139.855316 35.842663\n",
      "埼玉県三郷市ピアラシティ１丁目 139.855316 35.842663\n",
      "埼玉県三郷市ピアラシティ１丁目 139.855316 35.842663\n",
      "埼玉県三郷市ピアラシティ１丁目 139.855316 35.842663\n",
      "埼玉県三郷市ピアラシティ１丁目 139.855316 35.842663\n",
      "埼玉県三郷市ピアラシティ１丁目 139.855316 35.842663\n",
      "埼玉県三郷市ピアラシティ１丁目 139.855316 35.842663\n",
      "埼玉県三郷市ピアラシティ２丁目 139.854477 35.845345\n",
      "埼玉県三郷市後谷 139.883209 35.862373\n",
      "埼玉県三郷市仁蔵 139.877884 35.847366\n",
      "埼玉県三郷市彦成４丁目 139.865097 35.854965\n",
      "埼玉県三郷市茂田井 139.874802 35.839287\n",
      "埼玉県三郷市茂田井 139.874802 35.839287\n",
      "埼玉県三郷市茂田井 139.874802 35.839287\n",
      "埼玉県三郷市早稲田１丁目 139.88707 35.847256\n",
      "埼玉県三郷市早稲田１丁目 139.88707 35.847256\n",
      "埼玉県三郷市早稲田１丁目 139.88707 35.847256\n",
      "埼玉県三郷市早稲田１丁目 139.88707 35.847256\n",
      "埼玉県三郷市早稲田１丁目 139.88707 35.847256\n",
      "埼玉県三郷市早稲田１丁目 139.88707 35.847256\n",
      "埼玉県三郷市早稲田１丁目 139.88707 35.847256\n",
      "埼玉県三郷市早稲田２丁目 139.882874 35.848438\n",
      "埼玉県三郷市早稲田２丁目 139.882874 35.848438\n",
      "埼玉県三郷市早稲田２丁目 139.882874 35.848438\n",
      "埼玉県三郷市早稲田２丁目 139.882874 35.848438\n",
      "埼玉県三郷市早稲田２丁目 139.882874 35.848438\n",
      "埼玉県三郷市早稲田２丁目 139.882874 35.848438\n",
      "埼玉県三郷市早稲田２丁目 139.882874 35.848438\n",
      "埼玉県三郷市早稲田２丁目 139.882874 35.848438\n",
      "埼玉県三郷市早稲田２丁目 139.882874 35.848438\n",
      "埼玉県三郷市早稲田２丁目 139.882874 35.848438\n",
      "埼玉県三郷市早稲田３丁目 139.888443 35.851547\n",
      "埼玉県三郷市早稲田３丁目 139.888443 35.851547\n",
      "埼玉県三郷市早稲田３丁目 139.888443 35.851547\n",
      "埼玉県三郷市早稲田３丁目 139.888443 35.851547\n",
      "埼玉県三郷市早稲田４丁目 139.880951 35.852173\n",
      "埼玉県三郷市早稲田４丁目 139.880951 35.852173\n",
      "埼玉県三郷市早稲田４丁目 139.880951 35.852173\n",
      "埼玉県三郷市早稲田５丁目 139.881699 35.85474\n",
      "埼玉県三郷市早稲田６丁目 139.883575 35.857166\n",
      "埼玉県三郷市早稲田６丁目 139.883575 35.857166\n",
      "埼玉県三郷市早稲田６丁目 139.883575 35.857166\n",
      "埼玉県三郷市早稲田６丁目 139.883575 35.857166\n",
      "埼玉県三郷市早稲田６丁目 139.883575 35.857166\n",
      "埼玉県三郷市早稲田６丁目 139.883575 35.857166\n",
      "埼玉県三郷市早稲田６丁目 139.883575 35.857166\n",
      "埼玉県三郷市早稲田７丁目 139.892166 35.8563\n",
      "埼玉県三郷市早稲田７丁目 139.892166 35.8563\n",
      "埼玉県三郷市早稲田８丁目 139.885574 35.859474\n",
      "埼玉県三郷市早稲田８丁目 139.885574 35.859474\n",
      "埼玉県三郷市三郷１丁目 139.886047 35.841259\n",
      "埼玉県三郷市三郷１丁目 139.886047 35.841259\n",
      "埼玉県三郷市三郷１丁目 139.886047 35.841259\n",
      "埼玉県三郷市三郷１丁目 139.886047 35.841259\n",
      "埼玉県三郷市三郷１丁目 139.886047 35.841259\n",
      "埼玉県三郷市三郷１丁目 139.886047 35.841259\n",
      "埼玉県三郷市三郷１丁目 139.886047 35.841259\n",
      "埼玉県三郷市三郷１丁目 139.886047 35.841259\n",
      "埼玉県三郷市三郷１丁目 139.886047 35.841259\n",
      "埼玉県三郷市三郷１丁目 139.886047 35.841259\n",
      "埼玉県三郷市三郷１丁目 139.886047 35.841259\n",
      "埼玉県三郷市三郷２丁目 139.883957 35.843811\n",
      "埼玉県三郷市三郷２丁目 139.883957 35.843811\n",
      "埼玉県三郷市三郷２丁目 139.883957 35.843811\n",
      "埼玉県三郷市三郷２丁目 139.883957 35.843811\n",
      "埼玉県三郷市三郷２丁目 139.883957 35.843811\n",
      "埼玉県三郷市三郷３丁目 139.880676 35.846275\n",
      "埼玉県三郷市三郷３丁目 139.880676 35.846275\n",
      "埼玉県三郷市三郷３丁目 139.880676 35.846275\n",
      "埼玉県三郷市新三郷ららシティ１丁目 139.875519 35.851986\n"
     ]
    }
   ],
   "source": [
    "# kashiwaデータフレームをループ\n",
    "for i,row in misato.iterrows():\n",
    "\n",
    "    # ジオコーティング成功\n",
    "    if geocode(row['住所']) != False:\n",
    "        # 座標を変数に\n",
    "        lon = geocode(row['住所'])[0]\n",
    "        lat = geocode(row['住所'])[1]\n",
    "\n",
    "        # データフレームに値をインプット        \n",
    "        misato.loc[i,'lon'] = lon\n",
    "        misato.loc[i,'lat'] = lat\n",
    "\n",
    "        # 結果をprint\n",
    "        print(row['住所'],lon,lat)\n",
    "    \n",
    "    # ジオコーティング失敗\n",
    "    else:\n",
    "        print(row['住所'],'ジオコーティング失敗')\n",
    "        continue"
   ]
  },
  {
   "cell_type": "code",
   "execution_count": 36,
   "metadata": {},
   "outputs": [
    {
     "data": {
      "text/html": [
       "<div>\n",
       "<style scoped>\n",
       "    .dataframe tbody tr th:only-of-type {\n",
       "        vertical-align: middle;\n",
       "    }\n",
       "\n",
       "    .dataframe tbody tr th {\n",
       "        vertical-align: top;\n",
       "    }\n",
       "\n",
       "    .dataframe thead th {\n",
       "        text-align: right;\n",
       "    }\n",
       "</style>\n",
       "<table border=\"1\" class=\"dataframe\">\n",
       "  <thead>\n",
       "    <tr style=\"text-align: right;\">\n",
       "      <th></th>\n",
       "      <th>罪名</th>\n",
       "      <th>手口</th>\n",
       "      <th>管轄警察署（発生地）</th>\n",
       "      <th>管轄交番・駐在所（発生地）</th>\n",
       "      <th>市区町村コード（発生地）</th>\n",
       "      <th>都道府県（発生地）</th>\n",
       "      <th>市区町村（発生地）</th>\n",
       "      <th>町丁目（発生地）</th>\n",
       "      <th>発生年月日（始期）</th>\n",
       "      <th>発生時（始期）</th>\n",
       "      <th>発生場所</th>\n",
       "      <th>発生場所の詳細</th>\n",
       "      <th>被害者の年齢</th>\n",
       "      <th>被害者の職業</th>\n",
       "      <th>施錠関係</th>\n",
       "      <th>住所</th>\n",
       "      <th>lat</th>\n",
       "      <th>lon</th>\n",
       "    </tr>\n",
       "  </thead>\n",
       "  <tbody>\n",
       "    <tr>\n",
       "      <th>108</th>\n",
       "      <td>窃盗</td>\n",
       "      <td>自転車盗</td>\n",
       "      <td>吉川</td>\n",
       "      <td>三郷駅前交番</td>\n",
       "      <td>112372</td>\n",
       "      <td>埼玉県</td>\n",
       "      <td>三郷市</td>\n",
       "      <td>三郷１丁目</td>\n",
       "      <td>2022-01-31</td>\n",
       "      <td>14</td>\n",
       "      <td>駐車（輪）場</td>\n",
       "      <td>駐車（輪）場</td>\n",
       "      <td>40歳代</td>\n",
       "      <td>その他</td>\n",
       "      <td>施錠した</td>\n",
       "      <td>埼玉県三郷市三郷１丁目</td>\n",
       "      <td>35.841259</td>\n",
       "      <td>139.886047</td>\n",
       "    </tr>\n",
       "    <tr>\n",
       "      <th>8</th>\n",
       "      <td>窃盗</td>\n",
       "      <td>自転車盗</td>\n",
       "      <td>吉川</td>\n",
       "      <td>三郷中央駅前交番</td>\n",
       "      <td>112372</td>\n",
       "      <td>埼玉県</td>\n",
       "      <td>三郷市</td>\n",
       "      <td>花和田</td>\n",
       "      <td>2022-05-19</td>\n",
       "      <td>8</td>\n",
       "      <td>その他</td>\n",
       "      <td>駐車（輪）場</td>\n",
       "      <td>30歳代</td>\n",
       "      <td>その他</td>\n",
       "      <td>施錠せず</td>\n",
       "      <td>埼玉県三郷市花和田</td>\n",
       "      <td>35.826832</td>\n",
       "      <td>139.860260</td>\n",
       "    </tr>\n",
       "    <tr>\n",
       "      <th>84</th>\n",
       "      <td>窃盗</td>\n",
       "      <td>自転車盗</td>\n",
       "      <td>吉川</td>\n",
       "      <td>三郷駅前交番</td>\n",
       "      <td>112372</td>\n",
       "      <td>埼玉県</td>\n",
       "      <td>三郷市</td>\n",
       "      <td>早稲田２丁目</td>\n",
       "      <td>2022-09-04</td>\n",
       "      <td>17</td>\n",
       "      <td>一戸建住宅</td>\n",
       "      <td>駐車（輪）場</td>\n",
       "      <td>50歳代</td>\n",
       "      <td>その他</td>\n",
       "      <td>施錠せず</td>\n",
       "      <td>埼玉県三郷市早稲田２丁目</td>\n",
       "      <td>35.848438</td>\n",
       "      <td>139.882874</td>\n",
       "    </tr>\n",
       "    <tr>\n",
       "      <th>55</th>\n",
       "      <td>窃盗</td>\n",
       "      <td>自転車盗</td>\n",
       "      <td>吉川</td>\n",
       "      <td>三郷中央駅前交番</td>\n",
       "      <td>112372</td>\n",
       "      <td>埼玉県</td>\n",
       "      <td>三郷市</td>\n",
       "      <td>ピアラシティ１丁目</td>\n",
       "      <td>2022-08-28</td>\n",
       "      <td>18</td>\n",
       "      <td>その他</td>\n",
       "      <td>駐車（輪）場</td>\n",
       "      <td>20歳代</td>\n",
       "      <td>その他</td>\n",
       "      <td>施錠せず</td>\n",
       "      <td>埼玉県三郷市ピアラシティ１丁目</td>\n",
       "      <td>35.842663</td>\n",
       "      <td>139.855316</td>\n",
       "    </tr>\n",
       "    <tr>\n",
       "      <th>74</th>\n",
       "      <td>窃盗</td>\n",
       "      <td>自転車盗</td>\n",
       "      <td>吉川</td>\n",
       "      <td>三郷駅前交番</td>\n",
       "      <td>112372</td>\n",
       "      <td>埼玉県</td>\n",
       "      <td>三郷市</td>\n",
       "      <td>早稲田１丁目</td>\n",
       "      <td>2022-06-11</td>\n",
       "      <td>5</td>\n",
       "      <td>駐車（輪）場</td>\n",
       "      <td>駐車（輪）場</td>\n",
       "      <td>30歳代</td>\n",
       "      <td>その他</td>\n",
       "      <td>施錠せず</td>\n",
       "      <td>埼玉県三郷市早稲田１丁目</td>\n",
       "      <td>35.847256</td>\n",
       "      <td>139.887070</td>\n",
       "    </tr>\n",
       "  </tbody>\n",
       "</table>\n",
       "</div>"
      ],
      "text/plain": [
       "     罪名    手口 管轄警察署（発生地） 管轄交番・駐在所（発生地）  市区町村コード（発生地） 都道府県（発生地） 市区町村（発生地）  \\\n",
       "108  窃盗  自転車盗         吉川        三郷駅前交番        112372       埼玉県       三郷市   \n",
       "8    窃盗  自転車盗         吉川      三郷中央駅前交番        112372       埼玉県       三郷市   \n",
       "84   窃盗  自転車盗         吉川        三郷駅前交番        112372       埼玉県       三郷市   \n",
       "55   窃盗  自転車盗         吉川      三郷中央駅前交番        112372       埼玉県       三郷市   \n",
       "74   窃盗  自転車盗         吉川        三郷駅前交番        112372       埼玉県       三郷市   \n",
       "\n",
       "      町丁目（発生地）   発生年月日（始期） 発生時（始期）    発生場所 発生場所の詳細 被害者の年齢 被害者の職業  施錠関係  \\\n",
       "108      三郷１丁目  2022-01-31      14  駐車（輪）場  駐車（輪）場   40歳代    その他  施錠した   \n",
       "8          花和田  2022-05-19       8     その他  駐車（輪）場   30歳代    その他  施錠せず   \n",
       "84      早稲田２丁目  2022-09-04      17   一戸建住宅  駐車（輪）場   50歳代    その他  施錠せず   \n",
       "55   ピアラシティ１丁目  2022-08-28      18     その他  駐車（輪）場   20歳代    その他  施錠せず   \n",
       "74      早稲田１丁目  2022-06-11       5  駐車（輪）場  駐車（輪）場   30歳代    その他  施錠せず   \n",
       "\n",
       "                  住所        lat         lon  \n",
       "108      埼玉県三郷市三郷１丁目  35.841259  139.886047  \n",
       "8          埼玉県三郷市花和田  35.826832  139.860260  \n",
       "84      埼玉県三郷市早稲田２丁目  35.848438  139.882874  \n",
       "55   埼玉県三郷市ピアラシティ１丁目  35.842663  139.855316  \n",
       "74      埼玉県三郷市早稲田１丁目  35.847256  139.887070  "
      ]
     },
     "execution_count": 36,
     "metadata": {},
     "output_type": "execute_result"
    }
   ],
   "source": [
    "misato.sample(5)"
   ]
  },
  {
   "cell_type": "code",
   "execution_count": 37,
   "metadata": {},
   "outputs": [],
   "source": [
    "# 全データの中央座標\n",
    "center_lat = misato.lat.mean()\n",
    "center_lon = misato.lon.mean() "
   ]
  },
  {
   "cell_type": "code",
   "execution_count": 38,
   "metadata": {},
   "outputs": [
    {
     "data": {
      "text/html": [
       "<div style=\"width:100%;\"><div style=\"position:relative;width:100%;height:0;padding-bottom:60%;\"><span style=\"color:#565656\">Make this Notebook Trusted to load map: File -> Trust Notebook</span><iframe srcdoc=\"&lt;!DOCTYPE html&gt;\n",
       "&lt;html&gt;\n",
       "&lt;head&gt;\n",
       "    \n",
       "    &lt;meta http-equiv=&quot;content-type&quot; content=&quot;text/html; charset=UTF-8&quot; /&gt;\n",
       "    \n",
       "        &lt;script&gt;\n",
       "            L_NO_TOUCH = false;\n",
       "            L_DISABLE_3D = false;\n",
       "        &lt;/script&gt;\n",
       "    \n",
       "    &lt;style&gt;html, body {width: 100%;height: 100%;margin: 0;padding: 0;}&lt;/style&gt;\n",
       "    &lt;style&gt;#map {position:absolute;top:0;bottom:0;right:0;left:0;}&lt;/style&gt;\n",
       "    &lt;script src=&quot;https://cdn.jsdelivr.net/npm/leaflet@1.9.3/dist/leaflet.js&quot;&gt;&lt;/script&gt;\n",
       "    &lt;script src=&quot;https://code.jquery.com/jquery-3.7.1.min.js&quot;&gt;&lt;/script&gt;\n",
       "    &lt;script src=&quot;https://cdn.jsdelivr.net/npm/bootstrap@5.2.2/dist/js/bootstrap.bundle.min.js&quot;&gt;&lt;/script&gt;\n",
       "    &lt;script src=&quot;https://cdnjs.cloudflare.com/ajax/libs/Leaflet.awesome-markers/2.0.2/leaflet.awesome-markers.js&quot;&gt;&lt;/script&gt;\n",
       "    &lt;link rel=&quot;stylesheet&quot; href=&quot;https://cdn.jsdelivr.net/npm/leaflet@1.9.3/dist/leaflet.css&quot;/&gt;\n",
       "    &lt;link rel=&quot;stylesheet&quot; href=&quot;https://cdn.jsdelivr.net/npm/bootstrap@5.2.2/dist/css/bootstrap.min.css&quot;/&gt;\n",
       "    &lt;link rel=&quot;stylesheet&quot; href=&quot;https://netdna.bootstrapcdn.com/bootstrap/3.0.0/css/bootstrap.min.css&quot;/&gt;\n",
       "    &lt;link rel=&quot;stylesheet&quot; href=&quot;https://cdn.jsdelivr.net/npm/@fortawesome/fontawesome-free@6.2.0/css/all.min.css&quot;/&gt;\n",
       "    &lt;link rel=&quot;stylesheet&quot; href=&quot;https://cdnjs.cloudflare.com/ajax/libs/Leaflet.awesome-markers/2.0.2/leaflet.awesome-markers.css&quot;/&gt;\n",
       "    &lt;link rel=&quot;stylesheet&quot; href=&quot;https://cdn.jsdelivr.net/gh/python-visualization/folium/folium/templates/leaflet.awesome.rotate.min.css&quot;/&gt;\n",
       "    \n",
       "            &lt;meta name=&quot;viewport&quot; content=&quot;width=device-width,\n",
       "                initial-scale=1.0, maximum-scale=1.0, user-scalable=no&quot; /&gt;\n",
       "            &lt;style&gt;\n",
       "                #map_f6e038e54a6059b94e977e33b7abddcc {\n",
       "                    position: relative;\n",
       "                    width: 100.0%;\n",
       "                    height: 100.0%;\n",
       "                    left: 0.0%;\n",
       "                    top: 0.0%;\n",
       "                }\n",
       "                .leaflet-container { font-size: 1rem; }\n",
       "            &lt;/style&gt;\n",
       "        \n",
       "    &lt;script src=&quot;https://cdnjs.cloudflare.com/ajax/libs/leaflet.markercluster/1.1.0/leaflet.markercluster.js&quot;&gt;&lt;/script&gt;\n",
       "    &lt;link rel=&quot;stylesheet&quot; href=&quot;https://cdnjs.cloudflare.com/ajax/libs/leaflet.markercluster/1.1.0/MarkerCluster.css&quot;/&gt;\n",
       "    &lt;link rel=&quot;stylesheet&quot; href=&quot;https://cdnjs.cloudflare.com/ajax/libs/leaflet.markercluster/1.1.0/MarkerCluster.Default.css&quot;/&gt;\n",
       "&lt;/head&gt;\n",
       "&lt;body&gt;\n",
       "    \n",
       "    \n",
       "            &lt;div class=&quot;folium-map&quot; id=&quot;map_f6e038e54a6059b94e977e33b7abddcc&quot; &gt;&lt;/div&gt;\n",
       "        \n",
       "&lt;/body&gt;\n",
       "&lt;script&gt;\n",
       "    \n",
       "    \n",
       "            var map_f6e038e54a6059b94e977e33b7abddcc = L.map(\n",
       "                &quot;map_f6e038e54a6059b94e977e33b7abddcc&quot;,\n",
       "                {\n",
       "                    center: [35.83898169841268, 139.87566259523805],\n",
       "                    crs: L.CRS.EPSG3857,\n",
       "                    zoom: 12,\n",
       "                    zoomControl: true,\n",
       "                    preferCanvas: false,\n",
       "                }\n",
       "            );\n",
       "\n",
       "            \n",
       "\n",
       "        \n",
       "    \n",
       "            var tile_layer_910ab59c1d49d4f14b5d8049f616b3fd = L.tileLayer(\n",
       "                &quot;https://tile.openstreetmap.org/{z}/{x}/{y}.png&quot;,\n",
       "                {&quot;attribution&quot;: &quot;\\u0026copy; \\u003ca href=\\&quot;https://www.openstreetmap.org/copyright\\&quot;\\u003eOpenStreetMap\\u003c/a\\u003e contributors&quot;, &quot;detectRetina&quot;: false, &quot;maxNativeZoom&quot;: 19, &quot;maxZoom&quot;: 19, &quot;minZoom&quot;: 0, &quot;noWrap&quot;: false, &quot;opacity&quot;: 1, &quot;subdomains&quot;: &quot;abc&quot;, &quot;tms&quot;: false}\n",
       "            );\n",
       "        \n",
       "    \n",
       "            tile_layer_910ab59c1d49d4f14b5d8049f616b3fd.addTo(map_f6e038e54a6059b94e977e33b7abddcc);\n",
       "        \n",
       "    \n",
       "            var marker_cluster_1d91d9a3d34b0c488da3153fd5d46b03 = L.markerClusterGroup(\n",
       "                {}\n",
       "            );\n",
       "        \n",
       "    \n",
       "            var marker_ec5b564097d1d61da38c7aa56589d0c3 = L.marker(\n",
       "                [35.843063, 139.860626],\n",
       "                {}\n",
       "            ).addTo(marker_cluster_1d91d9a3d34b0c488da3153fd5d46b03);\n",
       "        \n",
       "    \n",
       "            marker_ec5b564097d1d61da38c7aa56589d0c3.bindTooltip(\n",
       "                `&lt;div&gt;\n",
       "                     10歳代\n",
       "                 &lt;/div&gt;`,\n",
       "                {&quot;sticky&quot;: true}\n",
       "            );\n",
       "        \n",
       "    \n",
       "            var marker_40e6a5d7ed9b0ab1a522f46d326bd2dc = L.marker(\n",
       "                [35.843063, 139.860626],\n",
       "                {}\n",
       "            ).addTo(marker_cluster_1d91d9a3d34b0c488da3153fd5d46b03);\n",
       "        \n",
       "    \n",
       "            marker_40e6a5d7ed9b0ab1a522f46d326bd2dc.bindTooltip(\n",
       "                `&lt;div&gt;\n",
       "                     50歳代\n",
       "                 &lt;/div&gt;`,\n",
       "                {&quot;sticky&quot;: true}\n",
       "            );\n",
       "        \n",
       "    \n",
       "            var marker_1c3180d70456b78c85c53250f9c755d7 = L.marker(\n",
       "                [35.833054, 139.886154],\n",
       "                {}\n",
       "            ).addTo(marker_cluster_1d91d9a3d34b0c488da3153fd5d46b03);\n",
       "        \n",
       "    \n",
       "            marker_1c3180d70456b78c85c53250f9c755d7.bindTooltip(\n",
       "                `&lt;div&gt;\n",
       "                     20歳代\n",
       "                 &lt;/div&gt;`,\n",
       "                {&quot;sticky&quot;: true}\n",
       "            );\n",
       "        \n",
       "    \n",
       "            var marker_141a95a1b081306433e56fa99cae40b2 = L.marker(\n",
       "                [35.837543, 139.879288],\n",
       "                {}\n",
       "            ).addTo(marker_cluster_1d91d9a3d34b0c488da3153fd5d46b03);\n",
       "        \n",
       "    \n",
       "            marker_141a95a1b081306433e56fa99cae40b2.bindTooltip(\n",
       "                `&lt;div&gt;\n",
       "                     10歳代\n",
       "                 &lt;/div&gt;`,\n",
       "                {&quot;sticky&quot;: true}\n",
       "            );\n",
       "        \n",
       "    \n",
       "            var marker_fe56ad774f7458a74fc3b51eb3d30582 = L.marker(\n",
       "                [35.811974, 139.885666],\n",
       "                {}\n",
       "            ).addTo(marker_cluster_1d91d9a3d34b0c488da3153fd5d46b03);\n",
       "        \n",
       "    \n",
       "            marker_fe56ad774f7458a74fc3b51eb3d30582.bindTooltip(\n",
       "                `&lt;div&gt;\n",
       "                     20歳代\n",
       "                 &lt;/div&gt;`,\n",
       "                {&quot;sticky&quot;: true}\n",
       "            );\n",
       "        \n",
       "    \n",
       "            var marker_417257eecf40ea610d06bd3be43a3b15 = L.marker(\n",
       "                [35.811974, 139.885666],\n",
       "                {}\n",
       "            ).addTo(marker_cluster_1d91d9a3d34b0c488da3153fd5d46b03);\n",
       "        \n",
       "    \n",
       "            marker_417257eecf40ea610d06bd3be43a3b15.bindTooltip(\n",
       "                `&lt;div&gt;\n",
       "                     30歳代\n",
       "                 &lt;/div&gt;`,\n",
       "                {&quot;sticky&quot;: true}\n",
       "            );\n",
       "        \n",
       "    \n",
       "            var marker_0ee3d3c617b4e17d4d304cda4b7d6f9c = L.marker(\n",
       "                [35.811974, 139.885666],\n",
       "                {}\n",
       "            ).addTo(marker_cluster_1d91d9a3d34b0c488da3153fd5d46b03);\n",
       "        \n",
       "    \n",
       "            marker_0ee3d3c617b4e17d4d304cda4b7d6f9c.bindTooltip(\n",
       "                `&lt;div&gt;\n",
       "                     30歳代\n",
       "                 &lt;/div&gt;`,\n",
       "                {&quot;sticky&quot;: true}\n",
       "            );\n",
       "        \n",
       "    \n",
       "            var marker_60c82de748bab95050b4f5da1dcaf6fb = L.marker(\n",
       "                [35.811974, 139.885666],\n",
       "                {}\n",
       "            ).addTo(marker_cluster_1d91d9a3d34b0c488da3153fd5d46b03);\n",
       "        \n",
       "    \n",
       "            marker_60c82de748bab95050b4f5da1dcaf6fb.bindTooltip(\n",
       "                `&lt;div&gt;\n",
       "                     40歳代\n",
       "                 &lt;/div&gt;`,\n",
       "                {&quot;sticky&quot;: true}\n",
       "            );\n",
       "        \n",
       "    \n",
       "            var marker_0f7c572ead4869a3ffbf6044cca0c694 = L.marker(\n",
       "                [35.826832, 139.86026],\n",
       "                {}\n",
       "            ).addTo(marker_cluster_1d91d9a3d34b0c488da3153fd5d46b03);\n",
       "        \n",
       "    \n",
       "            marker_0f7c572ead4869a3ffbf6044cca0c694.bindTooltip(\n",
       "                `&lt;div&gt;\n",
       "                     30歳代\n",
       "                 &lt;/div&gt;`,\n",
       "                {&quot;sticky&quot;: true}\n",
       "            );\n",
       "        \n",
       "    \n",
       "            var marker_b7f7e1fc717f1fab4e56dd7cec62afb2 = L.marker(\n",
       "                [35.826832, 139.86026],\n",
       "                {}\n",
       "            ).addTo(marker_cluster_1d91d9a3d34b0c488da3153fd5d46b03);\n",
       "        \n",
       "    \n",
       "            marker_b7f7e1fc717f1fab4e56dd7cec62afb2.bindTooltip(\n",
       "                `&lt;div&gt;\n",
       "                     50歳代\n",
       "                 &lt;/div&gt;`,\n",
       "                {&quot;sticky&quot;: true}\n",
       "            );\n",
       "        \n",
       "    \n",
       "            var marker_5bb41b0e87741d083d095045af761b47 = L.marker(\n",
       "                [35.826832, 139.86026],\n",
       "                {}\n",
       "            ).addTo(marker_cluster_1d91d9a3d34b0c488da3153fd5d46b03);\n",
       "        \n",
       "    \n",
       "            marker_5bb41b0e87741d083d095045af761b47.bindTooltip(\n",
       "                `&lt;div&gt;\n",
       "                     10歳代\n",
       "                 &lt;/div&gt;`,\n",
       "                {&quot;sticky&quot;: true}\n",
       "            );\n",
       "        \n",
       "    \n",
       "            var marker_0f92d73800b96b89bb96fd2de713977f = L.marker(\n",
       "                [35.826832, 139.86026],\n",
       "                {}\n",
       "            ).addTo(marker_cluster_1d91d9a3d34b0c488da3153fd5d46b03);\n",
       "        \n",
       "    \n",
       "            marker_0f92d73800b96b89bb96fd2de713977f.bindTooltip(\n",
       "                `&lt;div&gt;\n",
       "                     65-69歳\n",
       "                 &lt;/div&gt;`,\n",
       "                {&quot;sticky&quot;: true}\n",
       "            );\n",
       "        \n",
       "    \n",
       "            var marker_adc16af8513f33743f5adbe90ab9bd2e = L.marker(\n",
       "                [35.826832, 139.86026],\n",
       "                {}\n",
       "            ).addTo(marker_cluster_1d91d9a3d34b0c488da3153fd5d46b03);\n",
       "        \n",
       "    \n",
       "            marker_adc16af8513f33743f5adbe90ab9bd2e.bindTooltip(\n",
       "                `&lt;div&gt;\n",
       "                     30歳代\n",
       "                 &lt;/div&gt;`,\n",
       "                {&quot;sticky&quot;: true}\n",
       "            );\n",
       "        \n",
       "    \n",
       "            var marker_36caed466fa88be3d061187a64d90b45 = L.marker(\n",
       "                [35.826832, 139.86026],\n",
       "                {}\n",
       "            ).addTo(marker_cluster_1d91d9a3d34b0c488da3153fd5d46b03);\n",
       "        \n",
       "    \n",
       "            marker_36caed466fa88be3d061187a64d90b45.bindTooltip(\n",
       "                `&lt;div&gt;\n",
       "                     70歳以上\n",
       "                 &lt;/div&gt;`,\n",
       "                {&quot;sticky&quot;: true}\n",
       "            );\n",
       "        \n",
       "    \n",
       "            var marker_d1033a8c81449f4d6791f9cc019a05db = L.marker(\n",
       "                [35.82724, 139.85405],\n",
       "                {}\n",
       "            ).addTo(marker_cluster_1d91d9a3d34b0c488da3153fd5d46b03);\n",
       "        \n",
       "    \n",
       "            marker_d1033a8c81449f4d6791f9cc019a05db.bindTooltip(\n",
       "                `&lt;div&gt;\n",
       "                     10歳代\n",
       "                 &lt;/div&gt;`,\n",
       "                {&quot;sticky&quot;: true}\n",
       "            );\n",
       "        \n",
       "    \n",
       "            var marker_6b4429567ea938395307c622b7833c8d = L.marker(\n",
       "                [35.82724, 139.85405],\n",
       "                {}\n",
       "            ).addTo(marker_cluster_1d91d9a3d34b0c488da3153fd5d46b03);\n",
       "        \n",
       "    \n",
       "            marker_6b4429567ea938395307c622b7833c8d.bindTooltip(\n",
       "                `&lt;div&gt;\n",
       "                     10歳代\n",
       "                 &lt;/div&gt;`,\n",
       "                {&quot;sticky&quot;: true}\n",
       "            );\n",
       "        \n",
       "    \n",
       "            var marker_0354664e9b3cf69d685cb57dc40c10c1 = L.marker(\n",
       "                [35.82724, 139.85405],\n",
       "                {}\n",
       "            ).addTo(marker_cluster_1d91d9a3d34b0c488da3153fd5d46b03);\n",
       "        \n",
       "    \n",
       "            marker_0354664e9b3cf69d685cb57dc40c10c1.bindTooltip(\n",
       "                `&lt;div&gt;\n",
       "                     20歳代\n",
       "                 &lt;/div&gt;`,\n",
       "                {&quot;sticky&quot;: true}\n",
       "            );\n",
       "        \n",
       "    \n",
       "            var marker_2d4de11328679f57c0270d95362198c6 = L.marker(\n",
       "                [35.82724, 139.85405],\n",
       "                {}\n",
       "            ).addTo(marker_cluster_1d91d9a3d34b0c488da3153fd5d46b03);\n",
       "        \n",
       "    \n",
       "            marker_2d4de11328679f57c0270d95362198c6.bindTooltip(\n",
       "                `&lt;div&gt;\n",
       "                     40歳代\n",
       "                 &lt;/div&gt;`,\n",
       "                {&quot;sticky&quot;: true}\n",
       "            );\n",
       "        \n",
       "    \n",
       "            var marker_a780b41508505b20df6a52a083ecde2e = L.marker(\n",
       "                [35.82724, 139.85405],\n",
       "                {}\n",
       "            ).addTo(marker_cluster_1d91d9a3d34b0c488da3153fd5d46b03);\n",
       "        \n",
       "    \n",
       "            marker_a780b41508505b20df6a52a083ecde2e.bindTooltip(\n",
       "                `&lt;div&gt;\n",
       "                     20歳代\n",
       "                 &lt;/div&gt;`,\n",
       "                {&quot;sticky&quot;: true}\n",
       "            );\n",
       "        \n",
       "    \n",
       "            var marker_f7752bfc1121d6dc3827ae292f001fe8 = L.marker(\n",
       "                [35.841343, 139.848221],\n",
       "                {}\n",
       "            ).addTo(marker_cluster_1d91d9a3d34b0c488da3153fd5d46b03);\n",
       "        \n",
       "    \n",
       "            marker_f7752bfc1121d6dc3827ae292f001fe8.bindTooltip(\n",
       "                `&lt;div&gt;\n",
       "                     50歳代\n",
       "                 &lt;/div&gt;`,\n",
       "                {&quot;sticky&quot;: true}\n",
       "            );\n",
       "        \n",
       "    \n",
       "            var marker_ae43ab9d6ee3e39e7417274bcc2fab37 = L.marker(\n",
       "                [35.841343, 139.848221],\n",
       "                {}\n",
       "            ).addTo(marker_cluster_1d91d9a3d34b0c488da3153fd5d46b03);\n",
       "        \n",
       "    \n",
       "            marker_ae43ab9d6ee3e39e7417274bcc2fab37.bindTooltip(\n",
       "                `&lt;div&gt;\n",
       "                     40歳代\n",
       "                 &lt;/div&gt;`,\n",
       "                {&quot;sticky&quot;: true}\n",
       "            );\n",
       "        \n",
       "    \n",
       "            var marker_af78bd0d8efb4cc3c7fbf354258a94e6 = L.marker(\n",
       "                [35.826015, 139.870361],\n",
       "                {}\n",
       "            ).addTo(marker_cluster_1d91d9a3d34b0c488da3153fd5d46b03);\n",
       "        \n",
       "    \n",
       "            marker_af78bd0d8efb4cc3c7fbf354258a94e6.bindTooltip(\n",
       "                `&lt;div&gt;\n",
       "                     10歳代\n",
       "                 &lt;/div&gt;`,\n",
       "                {&quot;sticky&quot;: true}\n",
       "            );\n",
       "        \n",
       "    \n",
       "            var marker_1c549edf0a859da4479fc51a1a404e0f = L.marker(\n",
       "                [35.826015, 139.870361],\n",
       "                {}\n",
       "            ).addTo(marker_cluster_1d91d9a3d34b0c488da3153fd5d46b03);\n",
       "        \n",
       "    \n",
       "            marker_1c549edf0a859da4479fc51a1a404e0f.bindTooltip(\n",
       "                `&lt;div&gt;\n",
       "                     20歳代\n",
       "                 &lt;/div&gt;`,\n",
       "                {&quot;sticky&quot;: true}\n",
       "            );\n",
       "        \n",
       "    \n",
       "            var marker_109ae67663754946b2d25d5dccbe96cb = L.marker(\n",
       "                [35.826015, 139.870361],\n",
       "                {}\n",
       "            ).addTo(marker_cluster_1d91d9a3d34b0c488da3153fd5d46b03);\n",
       "        \n",
       "    \n",
       "            marker_109ae67663754946b2d25d5dccbe96cb.bindTooltip(\n",
       "                `&lt;div&gt;\n",
       "                     20歳代\n",
       "                 &lt;/div&gt;`,\n",
       "                {&quot;sticky&quot;: true}\n",
       "            );\n",
       "        \n",
       "    \n",
       "            var marker_18114ec00a1be835ca32b33837e63848 = L.marker(\n",
       "                [35.822933, 139.876038],\n",
       "                {}\n",
       "            ).addTo(marker_cluster_1d91d9a3d34b0c488da3153fd5d46b03);\n",
       "        \n",
       "    \n",
       "            marker_18114ec00a1be835ca32b33837e63848.bindTooltip(\n",
       "                `&lt;div&gt;\n",
       "                     30歳代\n",
       "                 &lt;/div&gt;`,\n",
       "                {&quot;sticky&quot;: true}\n",
       "            );\n",
       "        \n",
       "    \n",
       "            var marker_794902aadfa5d9e536ddc1a3076caddc = L.marker(\n",
       "                [35.822933, 139.876038],\n",
       "                {}\n",
       "            ).addTo(marker_cluster_1d91d9a3d34b0c488da3153fd5d46b03);\n",
       "        \n",
       "    \n",
       "            marker_794902aadfa5d9e536ddc1a3076caddc.bindTooltip(\n",
       "                `&lt;div&gt;\n",
       "                     10歳代\n",
       "                 &lt;/div&gt;`,\n",
       "                {&quot;sticky&quot;: true}\n",
       "            );\n",
       "        \n",
       "    \n",
       "            var marker_ac327520980191d2abbd9ab7cc660789 = L.marker(\n",
       "                [35.822933, 139.876038],\n",
       "                {}\n",
       "            ).addTo(marker_cluster_1d91d9a3d34b0c488da3153fd5d46b03);\n",
       "        \n",
       "    \n",
       "            marker_ac327520980191d2abbd9ab7cc660789.bindTooltip(\n",
       "                `&lt;div&gt;\n",
       "                     70歳以上\n",
       "                 &lt;/div&gt;`,\n",
       "                {&quot;sticky&quot;: true}\n",
       "            );\n",
       "        \n",
       "    \n",
       "            var marker_ec85cd80f985683c22a58af42ea6c0b6 = L.marker(\n",
       "                [35.822933, 139.876038],\n",
       "                {}\n",
       "            ).addTo(marker_cluster_1d91d9a3d34b0c488da3153fd5d46b03);\n",
       "        \n",
       "    \n",
       "            marker_ec85cd80f985683c22a58af42ea6c0b6.bindTooltip(\n",
       "                `&lt;div&gt;\n",
       "                     20歳代\n",
       "                 &lt;/div&gt;`,\n",
       "                {&quot;sticky&quot;: true}\n",
       "            );\n",
       "        \n",
       "    \n",
       "            var marker_9c787c8bbc55991a347919c2f3efc02a = L.marker(\n",
       "                [35.822933, 139.876038],\n",
       "                {}\n",
       "            ).addTo(marker_cluster_1d91d9a3d34b0c488da3153fd5d46b03);\n",
       "        \n",
       "    \n",
       "            marker_9c787c8bbc55991a347919c2f3efc02a.bindTooltip(\n",
       "                `&lt;div&gt;\n",
       "                     20歳代\n",
       "                 &lt;/div&gt;`,\n",
       "                {&quot;sticky&quot;: true}\n",
       "            );\n",
       "        \n",
       "    \n",
       "            var marker_7bca324dafcc88130dbaf2bff4ac8f71 = L.marker(\n",
       "                [35.822933, 139.876038],\n",
       "                {}\n",
       "            ).addTo(marker_cluster_1d91d9a3d34b0c488da3153fd5d46b03);\n",
       "        \n",
       "    \n",
       "            marker_7bca324dafcc88130dbaf2bff4ac8f71.bindTooltip(\n",
       "                `&lt;div&gt;\n",
       "                     40歳代\n",
       "                 &lt;/div&gt;`,\n",
       "                {&quot;sticky&quot;: true}\n",
       "            );\n",
       "        \n",
       "    \n",
       "            var marker_09c1a76e1116aa74df80845b230af587 = L.marker(\n",
       "                [35.822933, 139.876038],\n",
       "                {}\n",
       "            ).addTo(marker_cluster_1d91d9a3d34b0c488da3153fd5d46b03);\n",
       "        \n",
       "    \n",
       "            marker_09c1a76e1116aa74df80845b230af587.bindTooltip(\n",
       "                `&lt;div&gt;\n",
       "                     10歳代\n",
       "                 &lt;/div&gt;`,\n",
       "                {&quot;sticky&quot;: true}\n",
       "            );\n",
       "        \n",
       "    \n",
       "            var marker_9316521834351b3f350d1147a3531375 = L.marker(\n",
       "                [35.822933, 139.876038],\n",
       "                {}\n",
       "            ).addTo(marker_cluster_1d91d9a3d34b0c488da3153fd5d46b03);\n",
       "        \n",
       "    \n",
       "            marker_9316521834351b3f350d1147a3531375.bindTooltip(\n",
       "                `&lt;div&gt;\n",
       "                     20歳代\n",
       "                 &lt;/div&gt;`,\n",
       "                {&quot;sticky&quot;: true}\n",
       "            );\n",
       "        \n",
       "    \n",
       "            var marker_d04cea3405bdd9290183ee7b6613d1f4 = L.marker(\n",
       "                [35.822933, 139.876038],\n",
       "                {}\n",
       "            ).addTo(marker_cluster_1d91d9a3d34b0c488da3153fd5d46b03);\n",
       "        \n",
       "    \n",
       "            marker_d04cea3405bdd9290183ee7b6613d1f4.bindTooltip(\n",
       "                `&lt;div&gt;\n",
       "                     10歳代\n",
       "                 &lt;/div&gt;`,\n",
       "                {&quot;sticky&quot;: true}\n",
       "            );\n",
       "        \n",
       "    \n",
       "            var marker_fbffcaae6daf4126780984c0c83614ce = L.marker(\n",
       "                [35.822933, 139.876038],\n",
       "                {}\n",
       "            ).addTo(marker_cluster_1d91d9a3d34b0c488da3153fd5d46b03);\n",
       "        \n",
       "    \n",
       "            marker_fbffcaae6daf4126780984c0c83614ce.bindTooltip(\n",
       "                `&lt;div&gt;\n",
       "                     10歳代\n",
       "                 &lt;/div&gt;`,\n",
       "                {&quot;sticky&quot;: true}\n",
       "            );\n",
       "        \n",
       "    \n",
       "            var marker_e6fc1ebae4f21c22843807ea4b833622 = L.marker(\n",
       "                [35.822933, 139.876038],\n",
       "                {}\n",
       "            ).addTo(marker_cluster_1d91d9a3d34b0c488da3153fd5d46b03);\n",
       "        \n",
       "    \n",
       "            marker_e6fc1ebae4f21c22843807ea4b833622.bindTooltip(\n",
       "                `&lt;div&gt;\n",
       "                     20歳代\n",
       "                 &lt;/div&gt;`,\n",
       "                {&quot;sticky&quot;: true}\n",
       "            );\n",
       "        \n",
       "    \n",
       "            var marker_d4e9b6b12af846d5a03c4d9cdb5db8b8 = L.marker(\n",
       "                [35.822933, 139.876038],\n",
       "                {}\n",
       "            ).addTo(marker_cluster_1d91d9a3d34b0c488da3153fd5d46b03);\n",
       "        \n",
       "    \n",
       "            marker_d4e9b6b12af846d5a03c4d9cdb5db8b8.bindTooltip(\n",
       "                `&lt;div&gt;\n",
       "                     20歳代\n",
       "                 &lt;/div&gt;`,\n",
       "                {&quot;sticky&quot;: true}\n",
       "            );\n",
       "        \n",
       "    \n",
       "            var marker_e3d0564495afa8efa16bb0b50c0a0653 = L.marker(\n",
       "                [35.822933, 139.876038],\n",
       "                {}\n",
       "            ).addTo(marker_cluster_1d91d9a3d34b0c488da3153fd5d46b03);\n",
       "        \n",
       "    \n",
       "            marker_e3d0564495afa8efa16bb0b50c0a0653.bindTooltip(\n",
       "                `&lt;div&gt;\n",
       "                     法人・団体、被害者なし\n",
       "                 &lt;/div&gt;`,\n",
       "                {&quot;sticky&quot;: true}\n",
       "            );\n",
       "        \n",
       "    \n",
       "            var marker_b3c66a4fbbe30112c53722bc0b385bb3 = L.marker(\n",
       "                [35.822933, 139.876038],\n",
       "                {}\n",
       "            ).addTo(marker_cluster_1d91d9a3d34b0c488da3153fd5d46b03);\n",
       "        \n",
       "    \n",
       "            marker_b3c66a4fbbe30112c53722bc0b385bb3.bindTooltip(\n",
       "                `&lt;div&gt;\n",
       "                     20歳代\n",
       "                 &lt;/div&gt;`,\n",
       "                {&quot;sticky&quot;: true}\n",
       "            );\n",
       "        \n",
       "    \n",
       "            var marker_06ecc5fdb304b640c011b351bbab0e02 = L.marker(\n",
       "                [35.822933, 139.876038],\n",
       "                {}\n",
       "            ).addTo(marker_cluster_1d91d9a3d34b0c488da3153fd5d46b03);\n",
       "        \n",
       "    \n",
       "            marker_06ecc5fdb304b640c011b351bbab0e02.bindTooltip(\n",
       "                `&lt;div&gt;\n",
       "                     20歳代\n",
       "                 &lt;/div&gt;`,\n",
       "                {&quot;sticky&quot;: true}\n",
       "            );\n",
       "        \n",
       "    \n",
       "            var marker_182d870c0abdd56c14e42c96199216ee = L.marker(\n",
       "                [35.822933, 139.876038],\n",
       "                {}\n",
       "            ).addTo(marker_cluster_1d91d9a3d34b0c488da3153fd5d46b03);\n",
       "        \n",
       "    \n",
       "            marker_182d870c0abdd56c14e42c96199216ee.bindTooltip(\n",
       "                `&lt;div&gt;\n",
       "                     30歳代\n",
       "                 &lt;/div&gt;`,\n",
       "                {&quot;sticky&quot;: true}\n",
       "            );\n",
       "        \n",
       "    \n",
       "            var marker_33709a81fa440ff486cd3af52b90f455 = L.marker(\n",
       "                [35.822933, 139.876038],\n",
       "                {}\n",
       "            ).addTo(marker_cluster_1d91d9a3d34b0c488da3153fd5d46b03);\n",
       "        \n",
       "    \n",
       "            marker_33709a81fa440ff486cd3af52b90f455.bindTooltip(\n",
       "                `&lt;div&gt;\n",
       "                     50歳代\n",
       "                 &lt;/div&gt;`,\n",
       "                {&quot;sticky&quot;: true}\n",
       "            );\n",
       "        \n",
       "    \n",
       "            var marker_3052a4fc1426087d3c8a4924bfe9038c = L.marker(\n",
       "                [35.822933, 139.876038],\n",
       "                {}\n",
       "            ).addTo(marker_cluster_1d91d9a3d34b0c488da3153fd5d46b03);\n",
       "        \n",
       "    \n",
       "            marker_3052a4fc1426087d3c8a4924bfe9038c.bindTooltip(\n",
       "                `&lt;div&gt;\n",
       "                     10歳代\n",
       "                 &lt;/div&gt;`,\n",
       "                {&quot;sticky&quot;: true}\n",
       "            );\n",
       "        \n",
       "    \n",
       "            var marker_ceeee02c5337aa22fd72b7d4bccbdfdd = L.marker(\n",
       "                [35.819542, 139.877319],\n",
       "                {}\n",
       "            ).addTo(marker_cluster_1d91d9a3d34b0c488da3153fd5d46b03);\n",
       "        \n",
       "    \n",
       "            marker_ceeee02c5337aa22fd72b7d4bccbdfdd.bindTooltip(\n",
       "                `&lt;div&gt;\n",
       "                     20歳代\n",
       "                 &lt;/div&gt;`,\n",
       "                {&quot;sticky&quot;: true}\n",
       "            );\n",
       "        \n",
       "    \n",
       "            var marker_ccd45b87571156d092340fc2a3614009 = L.marker(\n",
       "                [35.827572, 139.878433],\n",
       "                {}\n",
       "            ).addTo(marker_cluster_1d91d9a3d34b0c488da3153fd5d46b03);\n",
       "        \n",
       "    \n",
       "            marker_ccd45b87571156d092340fc2a3614009.bindTooltip(\n",
       "                `&lt;div&gt;\n",
       "                     10歳代\n",
       "                 &lt;/div&gt;`,\n",
       "                {&quot;sticky&quot;: true}\n",
       "            );\n",
       "        \n",
       "    \n",
       "            var marker_8332170d06f1b266c33c2d5b116fc8d3 = L.marker(\n",
       "                [35.827572, 139.878433],\n",
       "                {}\n",
       "            ).addTo(marker_cluster_1d91d9a3d34b0c488da3153fd5d46b03);\n",
       "        \n",
       "    \n",
       "            marker_8332170d06f1b266c33c2d5b116fc8d3.bindTooltip(\n",
       "                `&lt;div&gt;\n",
       "                     30歳代\n",
       "                 &lt;/div&gt;`,\n",
       "                {&quot;sticky&quot;: true}\n",
       "            );\n",
       "        \n",
       "    \n",
       "            var marker_efbb3dff2bed892a10b356a84d8d6307 = L.marker(\n",
       "                [35.827572, 139.878433],\n",
       "                {}\n",
       "            ).addTo(marker_cluster_1d91d9a3d34b0c488da3153fd5d46b03);\n",
       "        \n",
       "    \n",
       "            marker_efbb3dff2bed892a10b356a84d8d6307.bindTooltip(\n",
       "                `&lt;div&gt;\n",
       "                     30歳代\n",
       "                 &lt;/div&gt;`,\n",
       "                {&quot;sticky&quot;: true}\n",
       "            );\n",
       "        \n",
       "    \n",
       "            var marker_2f618ded1895a187993fb7d4c6b3db87 = L.marker(\n",
       "                [35.827572, 139.878433],\n",
       "                {}\n",
       "            ).addTo(marker_cluster_1d91d9a3d34b0c488da3153fd5d46b03);\n",
       "        \n",
       "    \n",
       "            marker_2f618ded1895a187993fb7d4c6b3db87.bindTooltip(\n",
       "                `&lt;div&gt;\n",
       "                     20歳代\n",
       "                 &lt;/div&gt;`,\n",
       "                {&quot;sticky&quot;: true}\n",
       "            );\n",
       "        \n",
       "    \n",
       "            var marker_3d903a006953a74f683aaf8f9f40335f = L.marker(\n",
       "                [35.831985, 139.87999],\n",
       "                {}\n",
       "            ).addTo(marker_cluster_1d91d9a3d34b0c488da3153fd5d46b03);\n",
       "        \n",
       "    \n",
       "            marker_3d903a006953a74f683aaf8f9f40335f.bindTooltip(\n",
       "                `&lt;div&gt;\n",
       "                     30歳代\n",
       "                 &lt;/div&gt;`,\n",
       "                {&quot;sticky&quot;: true}\n",
       "            );\n",
       "        \n",
       "    \n",
       "            var marker_4d9992af91946f5d56dac4581861a892 = L.marker(\n",
       "                [35.831985, 139.87999],\n",
       "                {}\n",
       "            ).addTo(marker_cluster_1d91d9a3d34b0c488da3153fd5d46b03);\n",
       "        \n",
       "    \n",
       "            marker_4d9992af91946f5d56dac4581861a892.bindTooltip(\n",
       "                `&lt;div&gt;\n",
       "                     65-69歳\n",
       "                 &lt;/div&gt;`,\n",
       "                {&quot;sticky&quot;: true}\n",
       "            );\n",
       "        \n",
       "    \n",
       "            var marker_7bbbbe0502a1289cf318221740003ac0 = L.marker(\n",
       "                [35.831985, 139.87999],\n",
       "                {}\n",
       "            ).addTo(marker_cluster_1d91d9a3d34b0c488da3153fd5d46b03);\n",
       "        \n",
       "    \n",
       "            marker_7bbbbe0502a1289cf318221740003ac0.bindTooltip(\n",
       "                `&lt;div&gt;\n",
       "                     30歳代\n",
       "                 &lt;/div&gt;`,\n",
       "                {&quot;sticky&quot;: true}\n",
       "            );\n",
       "        \n",
       "    \n",
       "            var marker_5cfb8aec55c7bce50ff7d5e64fe80884 = L.marker(\n",
       "                [35.842663, 139.855316],\n",
       "                {}\n",
       "            ).addTo(marker_cluster_1d91d9a3d34b0c488da3153fd5d46b03);\n",
       "        \n",
       "    \n",
       "            marker_5cfb8aec55c7bce50ff7d5e64fe80884.bindTooltip(\n",
       "                `&lt;div&gt;\n",
       "                     40歳代\n",
       "                 &lt;/div&gt;`,\n",
       "                {&quot;sticky&quot;: true}\n",
       "            );\n",
       "        \n",
       "    \n",
       "            var marker_847cd5f7ff853ed74bd6a4ca756349a6 = L.marker(\n",
       "                [35.842663, 139.855316],\n",
       "                {}\n",
       "            ).addTo(marker_cluster_1d91d9a3d34b0c488da3153fd5d46b03);\n",
       "        \n",
       "    \n",
       "            marker_847cd5f7ff853ed74bd6a4ca756349a6.bindTooltip(\n",
       "                `&lt;div&gt;\n",
       "                     10歳代\n",
       "                 &lt;/div&gt;`,\n",
       "                {&quot;sticky&quot;: true}\n",
       "            );\n",
       "        \n",
       "    \n",
       "            var marker_ddc46f55aa73380414d165a9ef7dd895 = L.marker(\n",
       "                [35.842663, 139.855316],\n",
       "                {}\n",
       "            ).addTo(marker_cluster_1d91d9a3d34b0c488da3153fd5d46b03);\n",
       "        \n",
       "    \n",
       "            marker_ddc46f55aa73380414d165a9ef7dd895.bindTooltip(\n",
       "                `&lt;div&gt;\n",
       "                     70歳以上\n",
       "                 &lt;/div&gt;`,\n",
       "                {&quot;sticky&quot;: true}\n",
       "            );\n",
       "        \n",
       "    \n",
       "            var marker_412e1d49c452bc5d75ac30879a4e78c9 = L.marker(\n",
       "                [35.842663, 139.855316],\n",
       "                {}\n",
       "            ).addTo(marker_cluster_1d91d9a3d34b0c488da3153fd5d46b03);\n",
       "        \n",
       "    \n",
       "            marker_412e1d49c452bc5d75ac30879a4e78c9.bindTooltip(\n",
       "                `&lt;div&gt;\n",
       "                     30歳代\n",
       "                 &lt;/div&gt;`,\n",
       "                {&quot;sticky&quot;: true}\n",
       "            );\n",
       "        \n",
       "    \n",
       "            var marker_4e68e9cfebc60c8d89a587ec92b7f6cb = L.marker(\n",
       "                [35.842663, 139.855316],\n",
       "                {}\n",
       "            ).addTo(marker_cluster_1d91d9a3d34b0c488da3153fd5d46b03);\n",
       "        \n",
       "    \n",
       "            marker_4e68e9cfebc60c8d89a587ec92b7f6cb.bindTooltip(\n",
       "                `&lt;div&gt;\n",
       "                     30歳代\n",
       "                 &lt;/div&gt;`,\n",
       "                {&quot;sticky&quot;: true}\n",
       "            );\n",
       "        \n",
       "    \n",
       "            var marker_f5a065c28187820e120223587e0ef8d2 = L.marker(\n",
       "                [35.842663, 139.855316],\n",
       "                {}\n",
       "            ).addTo(marker_cluster_1d91d9a3d34b0c488da3153fd5d46b03);\n",
       "        \n",
       "    \n",
       "            marker_f5a065c28187820e120223587e0ef8d2.bindTooltip(\n",
       "                `&lt;div&gt;\n",
       "                     20歳代\n",
       "                 &lt;/div&gt;`,\n",
       "                {&quot;sticky&quot;: true}\n",
       "            );\n",
       "        \n",
       "    \n",
       "            var marker_c3a5db4e58f01626e14363c22595d98b = L.marker(\n",
       "                [35.842663, 139.855316],\n",
       "                {}\n",
       "            ).addTo(marker_cluster_1d91d9a3d34b0c488da3153fd5d46b03);\n",
       "        \n",
       "    \n",
       "            marker_c3a5db4e58f01626e14363c22595d98b.bindTooltip(\n",
       "                `&lt;div&gt;\n",
       "                     10歳代\n",
       "                 &lt;/div&gt;`,\n",
       "                {&quot;sticky&quot;: true}\n",
       "            );\n",
       "        \n",
       "    \n",
       "            var marker_3bf24b2207535bff8b4ce4bf8adb3b4c = L.marker(\n",
       "                [35.842663, 139.855316],\n",
       "                {}\n",
       "            ).addTo(marker_cluster_1d91d9a3d34b0c488da3153fd5d46b03);\n",
       "        \n",
       "    \n",
       "            marker_3bf24b2207535bff8b4ce4bf8adb3b4c.bindTooltip(\n",
       "                `&lt;div&gt;\n",
       "                     10歳代\n",
       "                 &lt;/div&gt;`,\n",
       "                {&quot;sticky&quot;: true}\n",
       "            );\n",
       "        \n",
       "    \n",
       "            var marker_974a122b0ddcef0c528c409c4514ae61 = L.marker(\n",
       "                [35.842663, 139.855316],\n",
       "                {}\n",
       "            ).addTo(marker_cluster_1d91d9a3d34b0c488da3153fd5d46b03);\n",
       "        \n",
       "    \n",
       "            marker_974a122b0ddcef0c528c409c4514ae61.bindTooltip(\n",
       "                `&lt;div&gt;\n",
       "                     10歳代\n",
       "                 &lt;/div&gt;`,\n",
       "                {&quot;sticky&quot;: true}\n",
       "            );\n",
       "        \n",
       "    \n",
       "            var marker_4f7f8295ffadca8e75f7a3888a3da0d4 = L.marker(\n",
       "                [35.842663, 139.855316],\n",
       "                {}\n",
       "            ).addTo(marker_cluster_1d91d9a3d34b0c488da3153fd5d46b03);\n",
       "        \n",
       "    \n",
       "            marker_4f7f8295ffadca8e75f7a3888a3da0d4.bindTooltip(\n",
       "                `&lt;div&gt;\n",
       "                     10歳代\n",
       "                 &lt;/div&gt;`,\n",
       "                {&quot;sticky&quot;: true}\n",
       "            );\n",
       "        \n",
       "    \n",
       "            var marker_8c3d0b18cd7935cc1ae84fe677333f04 = L.marker(\n",
       "                [35.842663, 139.855316],\n",
       "                {}\n",
       "            ).addTo(marker_cluster_1d91d9a3d34b0c488da3153fd5d46b03);\n",
       "        \n",
       "    \n",
       "            marker_8c3d0b18cd7935cc1ae84fe677333f04.bindTooltip(\n",
       "                `&lt;div&gt;\n",
       "                     10歳代\n",
       "                 &lt;/div&gt;`,\n",
       "                {&quot;sticky&quot;: true}\n",
       "            );\n",
       "        \n",
       "    \n",
       "            var marker_df5a21c7a1df311a3c0b4ccc8b7cefd9 = L.marker(\n",
       "                [35.842663, 139.855316],\n",
       "                {}\n",
       "            ).addTo(marker_cluster_1d91d9a3d34b0c488da3153fd5d46b03);\n",
       "        \n",
       "    \n",
       "            marker_df5a21c7a1df311a3c0b4ccc8b7cefd9.bindTooltip(\n",
       "                `&lt;div&gt;\n",
       "                     10歳代\n",
       "                 &lt;/div&gt;`,\n",
       "                {&quot;sticky&quot;: true}\n",
       "            );\n",
       "        \n",
       "    \n",
       "            var marker_0d25369f1e597a9eb0435c9c4f5249d4 = L.marker(\n",
       "                [35.842663, 139.855316],\n",
       "                {}\n",
       "            ).addTo(marker_cluster_1d91d9a3d34b0c488da3153fd5d46b03);\n",
       "        \n",
       "    \n",
       "            marker_0d25369f1e597a9eb0435c9c4f5249d4.bindTooltip(\n",
       "                `&lt;div&gt;\n",
       "                     20歳代\n",
       "                 &lt;/div&gt;`,\n",
       "                {&quot;sticky&quot;: true}\n",
       "            );\n",
       "        \n",
       "    \n",
       "            var marker_d1c2703b4942a8708ccbddf38bc32b92 = L.marker(\n",
       "                [35.845345, 139.854477],\n",
       "                {}\n",
       "            ).addTo(marker_cluster_1d91d9a3d34b0c488da3153fd5d46b03);\n",
       "        \n",
       "    \n",
       "            marker_d1c2703b4942a8708ccbddf38bc32b92.bindTooltip(\n",
       "                `&lt;div&gt;\n",
       "                     20歳代\n",
       "                 &lt;/div&gt;`,\n",
       "                {&quot;sticky&quot;: true}\n",
       "            );\n",
       "        \n",
       "    \n",
       "            var marker_7619ff67e179a7bb273769229dc61416 = L.marker(\n",
       "                [35.862373, 139.883209],\n",
       "                {}\n",
       "            ).addTo(marker_cluster_1d91d9a3d34b0c488da3153fd5d46b03);\n",
       "        \n",
       "    \n",
       "            marker_7619ff67e179a7bb273769229dc61416.bindTooltip(\n",
       "                `&lt;div&gt;\n",
       "                     法人・団体、被害者なし\n",
       "                 &lt;/div&gt;`,\n",
       "                {&quot;sticky&quot;: true}\n",
       "            );\n",
       "        \n",
       "    \n",
       "            var marker_cd4fb889a7c1ea4353bdbc902333c5c7 = L.marker(\n",
       "                [35.847366, 139.877884],\n",
       "                {}\n",
       "            ).addTo(marker_cluster_1d91d9a3d34b0c488da3153fd5d46b03);\n",
       "        \n",
       "    \n",
       "            marker_cd4fb889a7c1ea4353bdbc902333c5c7.bindTooltip(\n",
       "                `&lt;div&gt;\n",
       "                     20歳代\n",
       "                 &lt;/div&gt;`,\n",
       "                {&quot;sticky&quot;: true}\n",
       "            );\n",
       "        \n",
       "    \n",
       "            var marker_691f0583fd091018c77cebaab9ed7523 = L.marker(\n",
       "                [35.854965, 139.865097],\n",
       "                {}\n",
       "            ).addTo(marker_cluster_1d91d9a3d34b0c488da3153fd5d46b03);\n",
       "        \n",
       "    \n",
       "            marker_691f0583fd091018c77cebaab9ed7523.bindTooltip(\n",
       "                `&lt;div&gt;\n",
       "                     40歳代\n",
       "                 &lt;/div&gt;`,\n",
       "                {&quot;sticky&quot;: true}\n",
       "            );\n",
       "        \n",
       "    \n",
       "            var marker_3bd2a154ef9e967aead2004574667217 = L.marker(\n",
       "                [35.839287, 139.874802],\n",
       "                {}\n",
       "            ).addTo(marker_cluster_1d91d9a3d34b0c488da3153fd5d46b03);\n",
       "        \n",
       "    \n",
       "            marker_3bd2a154ef9e967aead2004574667217.bindTooltip(\n",
       "                `&lt;div&gt;\n",
       "                     10歳代\n",
       "                 &lt;/div&gt;`,\n",
       "                {&quot;sticky&quot;: true}\n",
       "            );\n",
       "        \n",
       "    \n",
       "            var marker_59b884a640d0e1c05cf4ce1673a63937 = L.marker(\n",
       "                [35.839287, 139.874802],\n",
       "                {}\n",
       "            ).addTo(marker_cluster_1d91d9a3d34b0c488da3153fd5d46b03);\n",
       "        \n",
       "    \n",
       "            marker_59b884a640d0e1c05cf4ce1673a63937.bindTooltip(\n",
       "                `&lt;div&gt;\n",
       "                     10歳代\n",
       "                 &lt;/div&gt;`,\n",
       "                {&quot;sticky&quot;: true}\n",
       "            );\n",
       "        \n",
       "    \n",
       "            var marker_f73324bcc83243e31ca602959e02a835 = L.marker(\n",
       "                [35.839287, 139.874802],\n",
       "                {}\n",
       "            ).addTo(marker_cluster_1d91d9a3d34b0c488da3153fd5d46b03);\n",
       "        \n",
       "    \n",
       "            marker_f73324bcc83243e31ca602959e02a835.bindTooltip(\n",
       "                `&lt;div&gt;\n",
       "                     10歳代\n",
       "                 &lt;/div&gt;`,\n",
       "                {&quot;sticky&quot;: true}\n",
       "            );\n",
       "        \n",
       "    \n",
       "            var marker_9621011ac7c6c458c492703606eb62dd = L.marker(\n",
       "                [35.847256, 139.88707],\n",
       "                {}\n",
       "            ).addTo(marker_cluster_1d91d9a3d34b0c488da3153fd5d46b03);\n",
       "        \n",
       "    \n",
       "            marker_9621011ac7c6c458c492703606eb62dd.bindTooltip(\n",
       "                `&lt;div&gt;\n",
       "                     50歳代\n",
       "                 &lt;/div&gt;`,\n",
       "                {&quot;sticky&quot;: true}\n",
       "            );\n",
       "        \n",
       "    \n",
       "            var marker_471db7b55c783b3c3e44b788fb2679e5 = L.marker(\n",
       "                [35.847256, 139.88707],\n",
       "                {}\n",
       "            ).addTo(marker_cluster_1d91d9a3d34b0c488da3153fd5d46b03);\n",
       "        \n",
       "    \n",
       "            marker_471db7b55c783b3c3e44b788fb2679e5.bindTooltip(\n",
       "                `&lt;div&gt;\n",
       "                     10歳代\n",
       "                 &lt;/div&gt;`,\n",
       "                {&quot;sticky&quot;: true}\n",
       "            );\n",
       "        \n",
       "    \n",
       "            var marker_dd83ce7916905b2ae71f3ce2167578bb = L.marker(\n",
       "                [35.847256, 139.88707],\n",
       "                {}\n",
       "            ).addTo(marker_cluster_1d91d9a3d34b0c488da3153fd5d46b03);\n",
       "        \n",
       "    \n",
       "            marker_dd83ce7916905b2ae71f3ce2167578bb.bindTooltip(\n",
       "                `&lt;div&gt;\n",
       "                     30歳代\n",
       "                 &lt;/div&gt;`,\n",
       "                {&quot;sticky&quot;: true}\n",
       "            );\n",
       "        \n",
       "    \n",
       "            var marker_882304a01aa904feb5dc3fb1352630f5 = L.marker(\n",
       "                [35.847256, 139.88707],\n",
       "                {}\n",
       "            ).addTo(marker_cluster_1d91d9a3d34b0c488da3153fd5d46b03);\n",
       "        \n",
       "    \n",
       "            marker_882304a01aa904feb5dc3fb1352630f5.bindTooltip(\n",
       "                `&lt;div&gt;\n",
       "                     60-64歳\n",
       "                 &lt;/div&gt;`,\n",
       "                {&quot;sticky&quot;: true}\n",
       "            );\n",
       "        \n",
       "    \n",
       "            var marker_97c2e11764f1a86c1144eaf7ba5e4372 = L.marker(\n",
       "                [35.847256, 139.88707],\n",
       "                {}\n",
       "            ).addTo(marker_cluster_1d91d9a3d34b0c488da3153fd5d46b03);\n",
       "        \n",
       "    \n",
       "            marker_97c2e11764f1a86c1144eaf7ba5e4372.bindTooltip(\n",
       "                `&lt;div&gt;\n",
       "                     30歳代\n",
       "                 &lt;/div&gt;`,\n",
       "                {&quot;sticky&quot;: true}\n",
       "            );\n",
       "        \n",
       "    \n",
       "            var marker_ffe1343106d5896d784358d7684e6c86 = L.marker(\n",
       "                [35.847256, 139.88707],\n",
       "                {}\n",
       "            ).addTo(marker_cluster_1d91d9a3d34b0c488da3153fd5d46b03);\n",
       "        \n",
       "    \n",
       "            marker_ffe1343106d5896d784358d7684e6c86.bindTooltip(\n",
       "                `&lt;div&gt;\n",
       "                     10歳代\n",
       "                 &lt;/div&gt;`,\n",
       "                {&quot;sticky&quot;: true}\n",
       "            );\n",
       "        \n",
       "    \n",
       "            var marker_1ee4850319c24adb8828007cb22fa99e = L.marker(\n",
       "                [35.847256, 139.88707],\n",
       "                {}\n",
       "            ).addTo(marker_cluster_1d91d9a3d34b0c488da3153fd5d46b03);\n",
       "        \n",
       "    \n",
       "            marker_1ee4850319c24adb8828007cb22fa99e.bindTooltip(\n",
       "                `&lt;div&gt;\n",
       "                     30歳代\n",
       "                 &lt;/div&gt;`,\n",
       "                {&quot;sticky&quot;: true}\n",
       "            );\n",
       "        \n",
       "    \n",
       "            var marker_9280f61648ff568ef44f856a709ec8c8 = L.marker(\n",
       "                [35.848438, 139.882874],\n",
       "                {}\n",
       "            ).addTo(marker_cluster_1d91d9a3d34b0c488da3153fd5d46b03);\n",
       "        \n",
       "    \n",
       "            marker_9280f61648ff568ef44f856a709ec8c8.bindTooltip(\n",
       "                `&lt;div&gt;\n",
       "                     10歳代\n",
       "                 &lt;/div&gt;`,\n",
       "                {&quot;sticky&quot;: true}\n",
       "            );\n",
       "        \n",
       "    \n",
       "            var marker_002dfd7cad9e3f613891813e3ecd04f2 = L.marker(\n",
       "                [35.848438, 139.882874],\n",
       "                {}\n",
       "            ).addTo(marker_cluster_1d91d9a3d34b0c488da3153fd5d46b03);\n",
       "        \n",
       "    \n",
       "            marker_002dfd7cad9e3f613891813e3ecd04f2.bindTooltip(\n",
       "                `&lt;div&gt;\n",
       "                     60-64歳\n",
       "                 &lt;/div&gt;`,\n",
       "                {&quot;sticky&quot;: true}\n",
       "            );\n",
       "        \n",
       "    \n",
       "            var marker_fb3f6e1933aaef5e693679c80ab953bb = L.marker(\n",
       "                [35.848438, 139.882874],\n",
       "                {}\n",
       "            ).addTo(marker_cluster_1d91d9a3d34b0c488da3153fd5d46b03);\n",
       "        \n",
       "    \n",
       "            marker_fb3f6e1933aaef5e693679c80ab953bb.bindTooltip(\n",
       "                `&lt;div&gt;\n",
       "                     20歳代\n",
       "                 &lt;/div&gt;`,\n",
       "                {&quot;sticky&quot;: true}\n",
       "            );\n",
       "        \n",
       "    \n",
       "            var marker_ca320250cfe36b12babb6aa464108a42 = L.marker(\n",
       "                [35.848438, 139.882874],\n",
       "                {}\n",
       "            ).addTo(marker_cluster_1d91d9a3d34b0c488da3153fd5d46b03);\n",
       "        \n",
       "    \n",
       "            marker_ca320250cfe36b12babb6aa464108a42.bindTooltip(\n",
       "                `&lt;div&gt;\n",
       "                     10歳代\n",
       "                 &lt;/div&gt;`,\n",
       "                {&quot;sticky&quot;: true}\n",
       "            );\n",
       "        \n",
       "    \n",
       "            var marker_fff863bdf68a55ff742a574bf5dbc053 = L.marker(\n",
       "                [35.848438, 139.882874],\n",
       "                {}\n",
       "            ).addTo(marker_cluster_1d91d9a3d34b0c488da3153fd5d46b03);\n",
       "        \n",
       "    \n",
       "            marker_fff863bdf68a55ff742a574bf5dbc053.bindTooltip(\n",
       "                `&lt;div&gt;\n",
       "                     10歳代\n",
       "                 &lt;/div&gt;`,\n",
       "                {&quot;sticky&quot;: true}\n",
       "            );\n",
       "        \n",
       "    \n",
       "            var marker_b3f175d2e49b8d9b5ff93b5a07f0f308 = L.marker(\n",
       "                [35.848438, 139.882874],\n",
       "                {}\n",
       "            ).addTo(marker_cluster_1d91d9a3d34b0c488da3153fd5d46b03);\n",
       "        \n",
       "    \n",
       "            marker_b3f175d2e49b8d9b5ff93b5a07f0f308.bindTooltip(\n",
       "                `&lt;div&gt;\n",
       "                     20歳代\n",
       "                 &lt;/div&gt;`,\n",
       "                {&quot;sticky&quot;: true}\n",
       "            );\n",
       "        \n",
       "    \n",
       "            var marker_75fbe9bdbf1b205b16fa2ce41bc3f5fb = L.marker(\n",
       "                [35.848438, 139.882874],\n",
       "                {}\n",
       "            ).addTo(marker_cluster_1d91d9a3d34b0c488da3153fd5d46b03);\n",
       "        \n",
       "    \n",
       "            marker_75fbe9bdbf1b205b16fa2ce41bc3f5fb.bindTooltip(\n",
       "                `&lt;div&gt;\n",
       "                     40歳代\n",
       "                 &lt;/div&gt;`,\n",
       "                {&quot;sticky&quot;: true}\n",
       "            );\n",
       "        \n",
       "    \n",
       "            var marker_d1808641946cb7d9630623ae428b729b = L.marker(\n",
       "                [35.848438, 139.882874],\n",
       "                {}\n",
       "            ).addTo(marker_cluster_1d91d9a3d34b0c488da3153fd5d46b03);\n",
       "        \n",
       "    \n",
       "            marker_d1808641946cb7d9630623ae428b729b.bindTooltip(\n",
       "                `&lt;div&gt;\n",
       "                     50歳代\n",
       "                 &lt;/div&gt;`,\n",
       "                {&quot;sticky&quot;: true}\n",
       "            );\n",
       "        \n",
       "    \n",
       "            var marker_3c65ef2450d024e42bde5c04bd490295 = L.marker(\n",
       "                [35.848438, 139.882874],\n",
       "                {}\n",
       "            ).addTo(marker_cluster_1d91d9a3d34b0c488da3153fd5d46b03);\n",
       "        \n",
       "    \n",
       "            marker_3c65ef2450d024e42bde5c04bd490295.bindTooltip(\n",
       "                `&lt;div&gt;\n",
       "                     10歳代\n",
       "                 &lt;/div&gt;`,\n",
       "                {&quot;sticky&quot;: true}\n",
       "            );\n",
       "        \n",
       "    \n",
       "            var marker_02c9e9d94bca3b7fa7ff6622b4084d71 = L.marker(\n",
       "                [35.848438, 139.882874],\n",
       "                {}\n",
       "            ).addTo(marker_cluster_1d91d9a3d34b0c488da3153fd5d46b03);\n",
       "        \n",
       "    \n",
       "            marker_02c9e9d94bca3b7fa7ff6622b4084d71.bindTooltip(\n",
       "                `&lt;div&gt;\n",
       "                     20歳代\n",
       "                 &lt;/div&gt;`,\n",
       "                {&quot;sticky&quot;: true}\n",
       "            );\n",
       "        \n",
       "    \n",
       "            var marker_8efbd57660090eab54675943003652fe = L.marker(\n",
       "                [35.851547, 139.888443],\n",
       "                {}\n",
       "            ).addTo(marker_cluster_1d91d9a3d34b0c488da3153fd5d46b03);\n",
       "        \n",
       "    \n",
       "            marker_8efbd57660090eab54675943003652fe.bindTooltip(\n",
       "                `&lt;div&gt;\n",
       "                     30歳代\n",
       "                 &lt;/div&gt;`,\n",
       "                {&quot;sticky&quot;: true}\n",
       "            );\n",
       "        \n",
       "    \n",
       "            var marker_23b688701a3e5c1b79c6fabbb5b27ede = L.marker(\n",
       "                [35.851547, 139.888443],\n",
       "                {}\n",
       "            ).addTo(marker_cluster_1d91d9a3d34b0c488da3153fd5d46b03);\n",
       "        \n",
       "    \n",
       "            marker_23b688701a3e5c1b79c6fabbb5b27ede.bindTooltip(\n",
       "                `&lt;div&gt;\n",
       "                     10歳代\n",
       "                 &lt;/div&gt;`,\n",
       "                {&quot;sticky&quot;: true}\n",
       "            );\n",
       "        \n",
       "    \n",
       "            var marker_19c3d8d7650e34662588aa81e10fe986 = L.marker(\n",
       "                [35.851547, 139.888443],\n",
       "                {}\n",
       "            ).addTo(marker_cluster_1d91d9a3d34b0c488da3153fd5d46b03);\n",
       "        \n",
       "    \n",
       "            marker_19c3d8d7650e34662588aa81e10fe986.bindTooltip(\n",
       "                `&lt;div&gt;\n",
       "                     10歳代\n",
       "                 &lt;/div&gt;`,\n",
       "                {&quot;sticky&quot;: true}\n",
       "            );\n",
       "        \n",
       "    \n",
       "            var marker_2bdcc861f655f31af70cc46d42374b76 = L.marker(\n",
       "                [35.851547, 139.888443],\n",
       "                {}\n",
       "            ).addTo(marker_cluster_1d91d9a3d34b0c488da3153fd5d46b03);\n",
       "        \n",
       "    \n",
       "            marker_2bdcc861f655f31af70cc46d42374b76.bindTooltip(\n",
       "                `&lt;div&gt;\n",
       "                     20歳代\n",
       "                 &lt;/div&gt;`,\n",
       "                {&quot;sticky&quot;: true}\n",
       "            );\n",
       "        \n",
       "    \n",
       "            var marker_83ad9003832b52b28da2a04f2b754f07 = L.marker(\n",
       "                [35.852173, 139.880951],\n",
       "                {}\n",
       "            ).addTo(marker_cluster_1d91d9a3d34b0c488da3153fd5d46b03);\n",
       "        \n",
       "    \n",
       "            marker_83ad9003832b52b28da2a04f2b754f07.bindTooltip(\n",
       "                `&lt;div&gt;\n",
       "                     20歳代\n",
       "                 &lt;/div&gt;`,\n",
       "                {&quot;sticky&quot;: true}\n",
       "            );\n",
       "        \n",
       "    \n",
       "            var marker_58a6dce9e54e3450acad1aedb89267aa = L.marker(\n",
       "                [35.852173, 139.880951],\n",
       "                {}\n",
       "            ).addTo(marker_cluster_1d91d9a3d34b0c488da3153fd5d46b03);\n",
       "        \n",
       "    \n",
       "            marker_58a6dce9e54e3450acad1aedb89267aa.bindTooltip(\n",
       "                `&lt;div&gt;\n",
       "                     60-64歳\n",
       "                 &lt;/div&gt;`,\n",
       "                {&quot;sticky&quot;: true}\n",
       "            );\n",
       "        \n",
       "    \n",
       "            var marker_56468fe89249b240f79e214bbd606736 = L.marker(\n",
       "                [35.852173, 139.880951],\n",
       "                {}\n",
       "            ).addTo(marker_cluster_1d91d9a3d34b0c488da3153fd5d46b03);\n",
       "        \n",
       "    \n",
       "            marker_56468fe89249b240f79e214bbd606736.bindTooltip(\n",
       "                `&lt;div&gt;\n",
       "                     70歳以上\n",
       "                 &lt;/div&gt;`,\n",
       "                {&quot;sticky&quot;: true}\n",
       "            );\n",
       "        \n",
       "    \n",
       "            var marker_ee99e918d167e188dcfe06a96177c23f = L.marker(\n",
       "                [35.85474, 139.881699],\n",
       "                {}\n",
       "            ).addTo(marker_cluster_1d91d9a3d34b0c488da3153fd5d46b03);\n",
       "        \n",
       "    \n",
       "            marker_ee99e918d167e188dcfe06a96177c23f.bindTooltip(\n",
       "                `&lt;div&gt;\n",
       "                     40歳代\n",
       "                 &lt;/div&gt;`,\n",
       "                {&quot;sticky&quot;: true}\n",
       "            );\n",
       "        \n",
       "    \n",
       "            var marker_18210cf38b8e345c3b0726de4e7a673f = L.marker(\n",
       "                [35.857166, 139.883575],\n",
       "                {}\n",
       "            ).addTo(marker_cluster_1d91d9a3d34b0c488da3153fd5d46b03);\n",
       "        \n",
       "    \n",
       "            marker_18210cf38b8e345c3b0726de4e7a673f.bindTooltip(\n",
       "                `&lt;div&gt;\n",
       "                     20歳代\n",
       "                 &lt;/div&gt;`,\n",
       "                {&quot;sticky&quot;: true}\n",
       "            );\n",
       "        \n",
       "    \n",
       "            var marker_d62d3e0239f97c87d0fd5c6419977edf = L.marker(\n",
       "                [35.857166, 139.883575],\n",
       "                {}\n",
       "            ).addTo(marker_cluster_1d91d9a3d34b0c488da3153fd5d46b03);\n",
       "        \n",
       "    \n",
       "            marker_d62d3e0239f97c87d0fd5c6419977edf.bindTooltip(\n",
       "                `&lt;div&gt;\n",
       "                     10歳未満\n",
       "                 &lt;/div&gt;`,\n",
       "                {&quot;sticky&quot;: true}\n",
       "            );\n",
       "        \n",
       "    \n",
       "            var marker_72cbb1c728445c0550a4c5078813e33f = L.marker(\n",
       "                [35.857166, 139.883575],\n",
       "                {}\n",
       "            ).addTo(marker_cluster_1d91d9a3d34b0c488da3153fd5d46b03);\n",
       "        \n",
       "    \n",
       "            marker_72cbb1c728445c0550a4c5078813e33f.bindTooltip(\n",
       "                `&lt;div&gt;\n",
       "                     40歳代\n",
       "                 &lt;/div&gt;`,\n",
       "                {&quot;sticky&quot;: true}\n",
       "            );\n",
       "        \n",
       "    \n",
       "            var marker_3e9d526609c912a61a00b25e3d95f805 = L.marker(\n",
       "                [35.857166, 139.883575],\n",
       "                {}\n",
       "            ).addTo(marker_cluster_1d91d9a3d34b0c488da3153fd5d46b03);\n",
       "        \n",
       "    \n",
       "            marker_3e9d526609c912a61a00b25e3d95f805.bindTooltip(\n",
       "                `&lt;div&gt;\n",
       "                     10歳代\n",
       "                 &lt;/div&gt;`,\n",
       "                {&quot;sticky&quot;: true}\n",
       "            );\n",
       "        \n",
       "    \n",
       "            var marker_591dd415d2be631ee340580ff794018e = L.marker(\n",
       "                [35.857166, 139.883575],\n",
       "                {}\n",
       "            ).addTo(marker_cluster_1d91d9a3d34b0c488da3153fd5d46b03);\n",
       "        \n",
       "    \n",
       "            marker_591dd415d2be631ee340580ff794018e.bindTooltip(\n",
       "                `&lt;div&gt;\n",
       "                     10歳代\n",
       "                 &lt;/div&gt;`,\n",
       "                {&quot;sticky&quot;: true}\n",
       "            );\n",
       "        \n",
       "    \n",
       "            var marker_d07972d62b96f84f9583336c6b6915f4 = L.marker(\n",
       "                [35.857166, 139.883575],\n",
       "                {}\n",
       "            ).addTo(marker_cluster_1d91d9a3d34b0c488da3153fd5d46b03);\n",
       "        \n",
       "    \n",
       "            marker_d07972d62b96f84f9583336c6b6915f4.bindTooltip(\n",
       "                `&lt;div&gt;\n",
       "                     40歳代\n",
       "                 &lt;/div&gt;`,\n",
       "                {&quot;sticky&quot;: true}\n",
       "            );\n",
       "        \n",
       "    \n",
       "            var marker_299ef5a343c9914b1ca1848c5a295605 = L.marker(\n",
       "                [35.857166, 139.883575],\n",
       "                {}\n",
       "            ).addTo(marker_cluster_1d91d9a3d34b0c488da3153fd5d46b03);\n",
       "        \n",
       "    \n",
       "            marker_299ef5a343c9914b1ca1848c5a295605.bindTooltip(\n",
       "                `&lt;div&gt;\n",
       "                     50歳代\n",
       "                 &lt;/div&gt;`,\n",
       "                {&quot;sticky&quot;: true}\n",
       "            );\n",
       "        \n",
       "    \n",
       "            var marker_f5657e6e23776cbdb9ede9b3c969a0e2 = L.marker(\n",
       "                [35.8563, 139.892166],\n",
       "                {}\n",
       "            ).addTo(marker_cluster_1d91d9a3d34b0c488da3153fd5d46b03);\n",
       "        \n",
       "    \n",
       "            marker_f5657e6e23776cbdb9ede9b3c969a0e2.bindTooltip(\n",
       "                `&lt;div&gt;\n",
       "                     10歳代\n",
       "                 &lt;/div&gt;`,\n",
       "                {&quot;sticky&quot;: true}\n",
       "            );\n",
       "        \n",
       "    \n",
       "            var marker_366e4d7bac553f2da5161c2c49bd97ab = L.marker(\n",
       "                [35.8563, 139.892166],\n",
       "                {}\n",
       "            ).addTo(marker_cluster_1d91d9a3d34b0c488da3153fd5d46b03);\n",
       "        \n",
       "    \n",
       "            marker_366e4d7bac553f2da5161c2c49bd97ab.bindTooltip(\n",
       "                `&lt;div&gt;\n",
       "                     10歳代\n",
       "                 &lt;/div&gt;`,\n",
       "                {&quot;sticky&quot;: true}\n",
       "            );\n",
       "        \n",
       "    \n",
       "            var marker_578de47209b81638d6341adc5505f4ad = L.marker(\n",
       "                [35.859474, 139.885574],\n",
       "                {}\n",
       "            ).addTo(marker_cluster_1d91d9a3d34b0c488da3153fd5d46b03);\n",
       "        \n",
       "    \n",
       "            marker_578de47209b81638d6341adc5505f4ad.bindTooltip(\n",
       "                `&lt;div&gt;\n",
       "                     70歳以上\n",
       "                 &lt;/div&gt;`,\n",
       "                {&quot;sticky&quot;: true}\n",
       "            );\n",
       "        \n",
       "    \n",
       "            var marker_4e2fe24f7b959f7d172585c90fc3f296 = L.marker(\n",
       "                [35.859474, 139.885574],\n",
       "                {}\n",
       "            ).addTo(marker_cluster_1d91d9a3d34b0c488da3153fd5d46b03);\n",
       "        \n",
       "    \n",
       "            marker_4e2fe24f7b959f7d172585c90fc3f296.bindTooltip(\n",
       "                `&lt;div&gt;\n",
       "                     40歳代\n",
       "                 &lt;/div&gt;`,\n",
       "                {&quot;sticky&quot;: true}\n",
       "            );\n",
       "        \n",
       "    \n",
       "            var marker_25752cb0d63cbcd7680bcb8b292cb4a3 = L.marker(\n",
       "                [35.841259, 139.886047],\n",
       "                {}\n",
       "            ).addTo(marker_cluster_1d91d9a3d34b0c488da3153fd5d46b03);\n",
       "        \n",
       "    \n",
       "            marker_25752cb0d63cbcd7680bcb8b292cb4a3.bindTooltip(\n",
       "                `&lt;div&gt;\n",
       "                     10歳代\n",
       "                 &lt;/div&gt;`,\n",
       "                {&quot;sticky&quot;: true}\n",
       "            );\n",
       "        \n",
       "    \n",
       "            var marker_2591c8ba024b43a67c7fedeb84b8da1c = L.marker(\n",
       "                [35.841259, 139.886047],\n",
       "                {}\n",
       "            ).addTo(marker_cluster_1d91d9a3d34b0c488da3153fd5d46b03);\n",
       "        \n",
       "    \n",
       "            marker_2591c8ba024b43a67c7fedeb84b8da1c.bindTooltip(\n",
       "                `&lt;div&gt;\n",
       "                     50歳代\n",
       "                 &lt;/div&gt;`,\n",
       "                {&quot;sticky&quot;: true}\n",
       "            );\n",
       "        \n",
       "    \n",
       "            var marker_a3660a9b6a3fdbd3bf2ee0927221a80f = L.marker(\n",
       "                [35.841259, 139.886047],\n",
       "                {}\n",
       "            ).addTo(marker_cluster_1d91d9a3d34b0c488da3153fd5d46b03);\n",
       "        \n",
       "    \n",
       "            marker_a3660a9b6a3fdbd3bf2ee0927221a80f.bindTooltip(\n",
       "                `&lt;div&gt;\n",
       "                     40歳代\n",
       "                 &lt;/div&gt;`,\n",
       "                {&quot;sticky&quot;: true}\n",
       "            );\n",
       "        \n",
       "    \n",
       "            var marker_3a64590d9f074acc8ff5275288996c16 = L.marker(\n",
       "                [35.841259, 139.886047],\n",
       "                {}\n",
       "            ).addTo(marker_cluster_1d91d9a3d34b0c488da3153fd5d46b03);\n",
       "        \n",
       "    \n",
       "            marker_3a64590d9f074acc8ff5275288996c16.bindTooltip(\n",
       "                `&lt;div&gt;\n",
       "                     10歳代\n",
       "                 &lt;/div&gt;`,\n",
       "                {&quot;sticky&quot;: true}\n",
       "            );\n",
       "        \n",
       "    \n",
       "            var marker_4b60517b2173209ca2645fce6cd81d48 = L.marker(\n",
       "                [35.841259, 139.886047],\n",
       "                {}\n",
       "            ).addTo(marker_cluster_1d91d9a3d34b0c488da3153fd5d46b03);\n",
       "        \n",
       "    \n",
       "            marker_4b60517b2173209ca2645fce6cd81d48.bindTooltip(\n",
       "                `&lt;div&gt;\n",
       "                     20歳代\n",
       "                 &lt;/div&gt;`,\n",
       "                {&quot;sticky&quot;: true}\n",
       "            );\n",
       "        \n",
       "    \n",
       "            var marker_9e0083c9c3fa1fcab063fcc524843f64 = L.marker(\n",
       "                [35.841259, 139.886047],\n",
       "                {}\n",
       "            ).addTo(marker_cluster_1d91d9a3d34b0c488da3153fd5d46b03);\n",
       "        \n",
       "    \n",
       "            marker_9e0083c9c3fa1fcab063fcc524843f64.bindTooltip(\n",
       "                `&lt;div&gt;\n",
       "                     10歳代\n",
       "                 &lt;/div&gt;`,\n",
       "                {&quot;sticky&quot;: true}\n",
       "            );\n",
       "        \n",
       "    \n",
       "            var marker_13ca355edea5767b4a346ee5f67246b6 = L.marker(\n",
       "                [35.841259, 139.886047],\n",
       "                {}\n",
       "            ).addTo(marker_cluster_1d91d9a3d34b0c488da3153fd5d46b03);\n",
       "        \n",
       "    \n",
       "            marker_13ca355edea5767b4a346ee5f67246b6.bindTooltip(\n",
       "                `&lt;div&gt;\n",
       "                     10歳代\n",
       "                 &lt;/div&gt;`,\n",
       "                {&quot;sticky&quot;: true}\n",
       "            );\n",
       "        \n",
       "    \n",
       "            var marker_6dfb441f2bc26be5c1907214f7e72760 = L.marker(\n",
       "                [35.841259, 139.886047],\n",
       "                {}\n",
       "            ).addTo(marker_cluster_1d91d9a3d34b0c488da3153fd5d46b03);\n",
       "        \n",
       "    \n",
       "            marker_6dfb441f2bc26be5c1907214f7e72760.bindTooltip(\n",
       "                `&lt;div&gt;\n",
       "                     10歳代\n",
       "                 &lt;/div&gt;`,\n",
       "                {&quot;sticky&quot;: true}\n",
       "            );\n",
       "        \n",
       "    \n",
       "            var marker_01b9bdb47838b55f279c27c104ca5a37 = L.marker(\n",
       "                [35.841259, 139.886047],\n",
       "                {}\n",
       "            ).addTo(marker_cluster_1d91d9a3d34b0c488da3153fd5d46b03);\n",
       "        \n",
       "    \n",
       "            marker_01b9bdb47838b55f279c27c104ca5a37.bindTooltip(\n",
       "                `&lt;div&gt;\n",
       "                     50歳代\n",
       "                 &lt;/div&gt;`,\n",
       "                {&quot;sticky&quot;: true}\n",
       "            );\n",
       "        \n",
       "    \n",
       "            var marker_e28838c8f5ad366adff562f9abc768fa = L.marker(\n",
       "                [35.841259, 139.886047],\n",
       "                {}\n",
       "            ).addTo(marker_cluster_1d91d9a3d34b0c488da3153fd5d46b03);\n",
       "        \n",
       "    \n",
       "            marker_e28838c8f5ad366adff562f9abc768fa.bindTooltip(\n",
       "                `&lt;div&gt;\n",
       "                     70歳以上\n",
       "                 &lt;/div&gt;`,\n",
       "                {&quot;sticky&quot;: true}\n",
       "            );\n",
       "        \n",
       "    \n",
       "            var marker_fd7c15d7fc3cfee30da9903b485b9902 = L.marker(\n",
       "                [35.841259, 139.886047],\n",
       "                {}\n",
       "            ).addTo(marker_cluster_1d91d9a3d34b0c488da3153fd5d46b03);\n",
       "        \n",
       "    \n",
       "            marker_fd7c15d7fc3cfee30da9903b485b9902.bindTooltip(\n",
       "                `&lt;div&gt;\n",
       "                     10歳代\n",
       "                 &lt;/div&gt;`,\n",
       "                {&quot;sticky&quot;: true}\n",
       "            );\n",
       "        \n",
       "    \n",
       "            var marker_72020d5c042afe00b406b7dc97139ce9 = L.marker(\n",
       "                [35.843811, 139.883957],\n",
       "                {}\n",
       "            ).addTo(marker_cluster_1d91d9a3d34b0c488da3153fd5d46b03);\n",
       "        \n",
       "    \n",
       "            marker_72020d5c042afe00b406b7dc97139ce9.bindTooltip(\n",
       "                `&lt;div&gt;\n",
       "                     10歳代\n",
       "                 &lt;/div&gt;`,\n",
       "                {&quot;sticky&quot;: true}\n",
       "            );\n",
       "        \n",
       "    \n",
       "            var marker_513947ef2f1c0b5a23ea01d2d628d19b = L.marker(\n",
       "                [35.843811, 139.883957],\n",
       "                {}\n",
       "            ).addTo(marker_cluster_1d91d9a3d34b0c488da3153fd5d46b03);\n",
       "        \n",
       "    \n",
       "            marker_513947ef2f1c0b5a23ea01d2d628d19b.bindTooltip(\n",
       "                `&lt;div&gt;\n",
       "                     20歳代\n",
       "                 &lt;/div&gt;`,\n",
       "                {&quot;sticky&quot;: true}\n",
       "            );\n",
       "        \n",
       "    \n",
       "            var marker_4cdb99e3ab60e25c1b56b191c0277ce0 = L.marker(\n",
       "                [35.843811, 139.883957],\n",
       "                {}\n",
       "            ).addTo(marker_cluster_1d91d9a3d34b0c488da3153fd5d46b03);\n",
       "        \n",
       "    \n",
       "            marker_4cdb99e3ab60e25c1b56b191c0277ce0.bindTooltip(\n",
       "                `&lt;div&gt;\n",
       "                     20歳代\n",
       "                 &lt;/div&gt;`,\n",
       "                {&quot;sticky&quot;: true}\n",
       "            );\n",
       "        \n",
       "    \n",
       "            var marker_086c9fca707e4087ba4acb3155e70e5b = L.marker(\n",
       "                [35.843811, 139.883957],\n",
       "                {}\n",
       "            ).addTo(marker_cluster_1d91d9a3d34b0c488da3153fd5d46b03);\n",
       "        \n",
       "    \n",
       "            marker_086c9fca707e4087ba4acb3155e70e5b.bindTooltip(\n",
       "                `&lt;div&gt;\n",
       "                     50歳代\n",
       "                 &lt;/div&gt;`,\n",
       "                {&quot;sticky&quot;: true}\n",
       "            );\n",
       "        \n",
       "    \n",
       "            var marker_dfff2ac2fa3b6eb0e1316a8f142410cc = L.marker(\n",
       "                [35.843811, 139.883957],\n",
       "                {}\n",
       "            ).addTo(marker_cluster_1d91d9a3d34b0c488da3153fd5d46b03);\n",
       "        \n",
       "    \n",
       "            marker_dfff2ac2fa3b6eb0e1316a8f142410cc.bindTooltip(\n",
       "                `&lt;div&gt;\n",
       "                     20歳代\n",
       "                 &lt;/div&gt;`,\n",
       "                {&quot;sticky&quot;: true}\n",
       "            );\n",
       "        \n",
       "    \n",
       "            var marker_4d0335cf8b8f6a5be338767783397365 = L.marker(\n",
       "                [35.846275, 139.880676],\n",
       "                {}\n",
       "            ).addTo(marker_cluster_1d91d9a3d34b0c488da3153fd5d46b03);\n",
       "        \n",
       "    \n",
       "            marker_4d0335cf8b8f6a5be338767783397365.bindTooltip(\n",
       "                `&lt;div&gt;\n",
       "                     40歳代\n",
       "                 &lt;/div&gt;`,\n",
       "                {&quot;sticky&quot;: true}\n",
       "            );\n",
       "        \n",
       "    \n",
       "            var marker_12a3279326a643584a68333489dcfd46 = L.marker(\n",
       "                [35.846275, 139.880676],\n",
       "                {}\n",
       "            ).addTo(marker_cluster_1d91d9a3d34b0c488da3153fd5d46b03);\n",
       "        \n",
       "    \n",
       "            marker_12a3279326a643584a68333489dcfd46.bindTooltip(\n",
       "                `&lt;div&gt;\n",
       "                     20歳代\n",
       "                 &lt;/div&gt;`,\n",
       "                {&quot;sticky&quot;: true}\n",
       "            );\n",
       "        \n",
       "    \n",
       "            var marker_49ddb3e51da12b13984e133e66ffb7b3 = L.marker(\n",
       "                [35.846275, 139.880676],\n",
       "                {}\n",
       "            ).addTo(marker_cluster_1d91d9a3d34b0c488da3153fd5d46b03);\n",
       "        \n",
       "    \n",
       "            marker_49ddb3e51da12b13984e133e66ffb7b3.bindTooltip(\n",
       "                `&lt;div&gt;\n",
       "                     30歳代\n",
       "                 &lt;/div&gt;`,\n",
       "                {&quot;sticky&quot;: true}\n",
       "            );\n",
       "        \n",
       "    \n",
       "            var marker_0f622acbe217fc772d28f5b848ece175 = L.marker(\n",
       "                [35.851986, 139.875519],\n",
       "                {}\n",
       "            ).addTo(marker_cluster_1d91d9a3d34b0c488da3153fd5d46b03);\n",
       "        \n",
       "    \n",
       "            marker_0f622acbe217fc772d28f5b848ece175.bindTooltip(\n",
       "                `&lt;div&gt;\n",
       "                     10歳代\n",
       "                 &lt;/div&gt;`,\n",
       "                {&quot;sticky&quot;: true}\n",
       "            );\n",
       "        \n",
       "    \n",
       "            marker_cluster_1d91d9a3d34b0c488da3153fd5d46b03.addTo(map_f6e038e54a6059b94e977e33b7abddcc);\n",
       "        \n",
       "&lt;/script&gt;\n",
       "&lt;/html&gt;\" style=\"position:absolute;width:100%;height:100%;left:0;top:0;border:none !important;\" allowfullscreen webkitallowfullscreen mozallowfullscreen></iframe></div></div>"
      ],
      "text/plain": [
       "<folium.folium.Map at 0x13570f8d0>"
      ]
     },
     "execution_count": 38,
     "metadata": {},
     "output_type": "execute_result"
    }
   ],
   "source": [
    "# make the map\n",
    "m = folium.Map(location=[center_lat,center_lon], \n",
    "               zoom_start=12)\n",
    "\n",
    "# マーカーがメチャクチャ多い場合はclusterで処理！\n",
    "marker_cluster = plugins.MarkerCluster().add_to(m)\n",
    " \n",
    "# kashiwaのデータフレームをループしてマーカーを作る\n",
    "for index, row in misato.iterrows():\n",
    "    latlon = [row['lat'],row['lon']]\n",
    "    folium.Marker(latlon, \n",
    "                  tooltip=row['被害者の年齢'],\n",
    "                ).add_to(marker_cluster) # mapにではなくmarker_clusterに足す\n",
    "\n",
    "# show the map\n",
    "m"
   ]
  },
  {
   "cell_type": "markdown",
   "metadata": {},
   "source": [
    "## Heat Map in Misato city area"
   ]
  },
  {
   "cell_type": "code",
   "execution_count": 39,
   "metadata": {},
   "outputs": [
    {
     "data": {
      "text/plain": [
       "[[35.843063, 139.860626],\n",
       " [35.843063, 139.860626],\n",
       " [35.833054, 139.886154],\n",
       " [35.837543, 139.879288],\n",
       " [35.811974, 139.885666],\n",
       " [35.811974, 139.885666],\n",
       " [35.811974, 139.885666],\n",
       " [35.811974, 139.885666],\n",
       " [35.826832, 139.86026],\n",
       " [35.826832, 139.86026],\n",
       " [35.826832, 139.86026],\n",
       " [35.826832, 139.86026],\n",
       " [35.826832, 139.86026],\n",
       " [35.826832, 139.86026],\n",
       " [35.82724, 139.85405],\n",
       " [35.82724, 139.85405],\n",
       " [35.82724, 139.85405],\n",
       " [35.82724, 139.85405],\n",
       " [35.82724, 139.85405],\n",
       " [35.841343, 139.848221],\n",
       " [35.841343, 139.848221],\n",
       " [35.826015, 139.870361],\n",
       " [35.826015, 139.870361],\n",
       " [35.826015, 139.870361],\n",
       " [35.822933, 139.876038],\n",
       " [35.822933, 139.876038],\n",
       " [35.822933, 139.876038],\n",
       " [35.822933, 139.876038],\n",
       " [35.822933, 139.876038],\n",
       " [35.822933, 139.876038],\n",
       " [35.822933, 139.876038],\n",
       " [35.822933, 139.876038],\n",
       " [35.822933, 139.876038],\n",
       " [35.822933, 139.876038],\n",
       " [35.822933, 139.876038],\n",
       " [35.822933, 139.876038],\n",
       " [35.822933, 139.876038],\n",
       " [35.822933, 139.876038],\n",
       " [35.822933, 139.876038],\n",
       " [35.822933, 139.876038],\n",
       " [35.822933, 139.876038],\n",
       " [35.822933, 139.876038],\n",
       " [35.819542, 139.877319],\n",
       " [35.827572, 139.878433],\n",
       " [35.827572, 139.878433],\n",
       " [35.827572, 139.878433],\n",
       " [35.827572, 139.878433],\n",
       " [35.831985, 139.87999],\n",
       " [35.831985, 139.87999],\n",
       " [35.831985, 139.87999],\n",
       " [35.842663, 139.855316],\n",
       " [35.842663, 139.855316],\n",
       " [35.842663, 139.855316],\n",
       " [35.842663, 139.855316],\n",
       " [35.842663, 139.855316],\n",
       " [35.842663, 139.855316],\n",
       " [35.842663, 139.855316],\n",
       " [35.842663, 139.855316],\n",
       " [35.842663, 139.855316],\n",
       " [35.842663, 139.855316],\n",
       " [35.842663, 139.855316],\n",
       " [35.842663, 139.855316],\n",
       " [35.842663, 139.855316],\n",
       " [35.845345, 139.854477],\n",
       " [35.862373, 139.883209],\n",
       " [35.847366, 139.877884],\n",
       " [35.854965, 139.865097],\n",
       " [35.839287, 139.874802],\n",
       " [35.839287, 139.874802],\n",
       " [35.839287, 139.874802],\n",
       " [35.847256, 139.88707],\n",
       " [35.847256, 139.88707],\n",
       " [35.847256, 139.88707],\n",
       " [35.847256, 139.88707],\n",
       " [35.847256, 139.88707],\n",
       " [35.847256, 139.88707],\n",
       " [35.847256, 139.88707],\n",
       " [35.848438, 139.882874],\n",
       " [35.848438, 139.882874],\n",
       " [35.848438, 139.882874],\n",
       " [35.848438, 139.882874],\n",
       " [35.848438, 139.882874],\n",
       " [35.848438, 139.882874],\n",
       " [35.848438, 139.882874],\n",
       " [35.848438, 139.882874],\n",
       " [35.848438, 139.882874],\n",
       " [35.848438, 139.882874],\n",
       " [35.851547, 139.888443],\n",
       " [35.851547, 139.888443],\n",
       " [35.851547, 139.888443],\n",
       " [35.851547, 139.888443],\n",
       " [35.852173, 139.880951],\n",
       " [35.852173, 139.880951],\n",
       " [35.852173, 139.880951],\n",
       " [35.85474, 139.881699],\n",
       " [35.857166, 139.883575],\n",
       " [35.857166, 139.883575],\n",
       " [35.857166, 139.883575],\n",
       " [35.857166, 139.883575],\n",
       " [35.857166, 139.883575],\n",
       " [35.857166, 139.883575],\n",
       " [35.857166, 139.883575],\n",
       " [35.8563, 139.892166],\n",
       " [35.8563, 139.892166],\n",
       " [35.859474, 139.885574],\n",
       " [35.859474, 139.885574],\n",
       " [35.841259, 139.886047],\n",
       " [35.841259, 139.886047],\n",
       " [35.841259, 139.886047],\n",
       " [35.841259, 139.886047],\n",
       " [35.841259, 139.886047],\n",
       " [35.841259, 139.886047],\n",
       " [35.841259, 139.886047],\n",
       " [35.841259, 139.886047],\n",
       " [35.841259, 139.886047],\n",
       " [35.841259, 139.886047],\n",
       " [35.841259, 139.886047],\n",
       " [35.843811, 139.883957],\n",
       " [35.843811, 139.883957],\n",
       " [35.843811, 139.883957],\n",
       " [35.843811, 139.883957],\n",
       " [35.843811, 139.883957],\n",
       " [35.846275, 139.880676],\n",
       " [35.846275, 139.880676],\n",
       " [35.846275, 139.880676],\n",
       " [35.851986, 139.875519]]"
      ]
     },
     "execution_count": 39,
     "metadata": {},
     "output_type": "execute_result"
    }
   ],
   "source": [
    "# make a list of lat/lon's\n",
    "heatmap_lat_lon = misato[['lat','lon']].values.tolist()\n",
    "\n",
    "# view the list\n",
    "heatmap_lat_lon"
   ]
  },
  {
   "cell_type": "code",
   "execution_count": 40,
   "metadata": {},
   "outputs": [
    {
     "data": {
      "text/html": [
       "<div style=\"width:100%;\"><div style=\"position:relative;width:100%;height:0;padding-bottom:60%;\"><span style=\"color:#565656\">Make this Notebook Trusted to load map: File -> Trust Notebook</span><iframe srcdoc=\"&lt;!DOCTYPE html&gt;\n",
       "&lt;html&gt;\n",
       "&lt;head&gt;\n",
       "    \n",
       "    &lt;meta http-equiv=&quot;content-type&quot; content=&quot;text/html; charset=UTF-8&quot; /&gt;\n",
       "    \n",
       "        &lt;script&gt;\n",
       "            L_NO_TOUCH = false;\n",
       "            L_DISABLE_3D = false;\n",
       "        &lt;/script&gt;\n",
       "    \n",
       "    &lt;style&gt;html, body {width: 100%;height: 100%;margin: 0;padding: 0;}&lt;/style&gt;\n",
       "    &lt;style&gt;#map {position:absolute;top:0;bottom:0;right:0;left:0;}&lt;/style&gt;\n",
       "    &lt;script src=&quot;https://cdn.jsdelivr.net/npm/leaflet@1.9.3/dist/leaflet.js&quot;&gt;&lt;/script&gt;\n",
       "    &lt;script src=&quot;https://code.jquery.com/jquery-3.7.1.min.js&quot;&gt;&lt;/script&gt;\n",
       "    &lt;script src=&quot;https://cdn.jsdelivr.net/npm/bootstrap@5.2.2/dist/js/bootstrap.bundle.min.js&quot;&gt;&lt;/script&gt;\n",
       "    &lt;script src=&quot;https://cdnjs.cloudflare.com/ajax/libs/Leaflet.awesome-markers/2.0.2/leaflet.awesome-markers.js&quot;&gt;&lt;/script&gt;\n",
       "    &lt;link rel=&quot;stylesheet&quot; href=&quot;https://cdn.jsdelivr.net/npm/leaflet@1.9.3/dist/leaflet.css&quot;/&gt;\n",
       "    &lt;link rel=&quot;stylesheet&quot; href=&quot;https://cdn.jsdelivr.net/npm/bootstrap@5.2.2/dist/css/bootstrap.min.css&quot;/&gt;\n",
       "    &lt;link rel=&quot;stylesheet&quot; href=&quot;https://netdna.bootstrapcdn.com/bootstrap/3.0.0/css/bootstrap.min.css&quot;/&gt;\n",
       "    &lt;link rel=&quot;stylesheet&quot; href=&quot;https://cdn.jsdelivr.net/npm/@fortawesome/fontawesome-free@6.2.0/css/all.min.css&quot;/&gt;\n",
       "    &lt;link rel=&quot;stylesheet&quot; href=&quot;https://cdnjs.cloudflare.com/ajax/libs/Leaflet.awesome-markers/2.0.2/leaflet.awesome-markers.css&quot;/&gt;\n",
       "    &lt;link rel=&quot;stylesheet&quot; href=&quot;https://cdn.jsdelivr.net/gh/python-visualization/folium/folium/templates/leaflet.awesome.rotate.min.css&quot;/&gt;\n",
       "    \n",
       "            &lt;meta name=&quot;viewport&quot; content=&quot;width=device-width,\n",
       "                initial-scale=1.0, maximum-scale=1.0, user-scalable=no&quot; /&gt;\n",
       "            &lt;style&gt;\n",
       "                #map_9fc3a721d8db8f637f58a34d972d268d {\n",
       "                    position: relative;\n",
       "                    width: 100.0%;\n",
       "                    height: 100.0%;\n",
       "                    left: 0.0%;\n",
       "                    top: 0.0%;\n",
       "                }\n",
       "                .leaflet-container { font-size: 1rem; }\n",
       "            &lt;/style&gt;\n",
       "        \n",
       "    &lt;script src=&quot;https://cdn.jsdelivr.net/gh/python-visualization/folium@main/folium/templates/leaflet_heat.min.js&quot;&gt;&lt;/script&gt;\n",
       "    &lt;script src=&quot;https://cdnjs.cloudflare.com/ajax/libs/leaflet.markercluster/1.1.0/leaflet.markercluster.js&quot;&gt;&lt;/script&gt;\n",
       "    &lt;link rel=&quot;stylesheet&quot; href=&quot;https://cdnjs.cloudflare.com/ajax/libs/leaflet.markercluster/1.1.0/MarkerCluster.css&quot;/&gt;\n",
       "    &lt;link rel=&quot;stylesheet&quot; href=&quot;https://cdnjs.cloudflare.com/ajax/libs/leaflet.markercluster/1.1.0/MarkerCluster.Default.css&quot;/&gt;\n",
       "&lt;/head&gt;\n",
       "&lt;body&gt;\n",
       "    \n",
       "    \n",
       "            &lt;div class=&quot;folium-map&quot; id=&quot;map_9fc3a721d8db8f637f58a34d972d268d&quot; &gt;&lt;/div&gt;\n",
       "        \n",
       "&lt;/body&gt;\n",
       "&lt;script&gt;\n",
       "    \n",
       "    \n",
       "            var map_9fc3a721d8db8f637f58a34d972d268d = L.map(\n",
       "                &quot;map_9fc3a721d8db8f637f58a34d972d268d&quot;,\n",
       "                {\n",
       "                    center: [35.83898169841268, 139.87566259523805],\n",
       "                    crs: L.CRS.EPSG3857,\n",
       "                    zoom: 12,\n",
       "                    zoomControl: true,\n",
       "                    preferCanvas: false,\n",
       "                }\n",
       "            );\n",
       "\n",
       "            \n",
       "\n",
       "        \n",
       "    \n",
       "            var tile_layer_68b6e395b03e9a23392b742dab0f5fac = L.tileLayer(\n",
       "                &quot;https://{s}.basemaps.cartocdn.com/dark_all/{z}/{x}/{y}{r}.png&quot;,\n",
       "                {&quot;attribution&quot;: &quot;\\u0026copy; \\u003ca href=\\&quot;https://www.openstreetmap.org/copyright\\&quot;\\u003eOpenStreetMap\\u003c/a\\u003e contributors \\u0026copy; \\u003ca href=\\&quot;https://carto.com/attributions\\&quot;\\u003eCARTO\\u003c/a\\u003e&quot;, &quot;detectRetina&quot;: false, &quot;maxNativeZoom&quot;: 20, &quot;maxZoom&quot;: 20, &quot;minZoom&quot;: 0, &quot;noWrap&quot;: false, &quot;opacity&quot;: 1, &quot;subdomains&quot;: &quot;abcd&quot;, &quot;tms&quot;: false}\n",
       "            );\n",
       "        \n",
       "    \n",
       "            tile_layer_68b6e395b03e9a23392b742dab0f5fac.addTo(map_9fc3a721d8db8f637f58a34d972d268d);\n",
       "        \n",
       "    \n",
       "            var heat_map_ff2f5218a435c4b3f073e56093506504 = L.heatLayer(\n",
       "                [[35.843063, 139.860626], [35.843063, 139.860626], [35.833054, 139.886154], [35.837543, 139.879288], [35.811974, 139.885666], [35.811974, 139.885666], [35.811974, 139.885666], [35.811974, 139.885666], [35.826832, 139.86026], [35.826832, 139.86026], [35.826832, 139.86026], [35.826832, 139.86026], [35.826832, 139.86026], [35.826832, 139.86026], [35.82724, 139.85405], [35.82724, 139.85405], [35.82724, 139.85405], [35.82724, 139.85405], [35.82724, 139.85405], [35.841343, 139.848221], [35.841343, 139.848221], [35.826015, 139.870361], [35.826015, 139.870361], [35.826015, 139.870361], [35.822933, 139.876038], [35.822933, 139.876038], [35.822933, 139.876038], [35.822933, 139.876038], [35.822933, 139.876038], [35.822933, 139.876038], [35.822933, 139.876038], [35.822933, 139.876038], [35.822933, 139.876038], [35.822933, 139.876038], [35.822933, 139.876038], [35.822933, 139.876038], [35.822933, 139.876038], [35.822933, 139.876038], [35.822933, 139.876038], [35.822933, 139.876038], [35.822933, 139.876038], [35.822933, 139.876038], [35.819542, 139.877319], [35.827572, 139.878433], [35.827572, 139.878433], [35.827572, 139.878433], [35.827572, 139.878433], [35.831985, 139.87999], [35.831985, 139.87999], [35.831985, 139.87999], [35.842663, 139.855316], [35.842663, 139.855316], [35.842663, 139.855316], [35.842663, 139.855316], [35.842663, 139.855316], [35.842663, 139.855316], [35.842663, 139.855316], [35.842663, 139.855316], [35.842663, 139.855316], [35.842663, 139.855316], [35.842663, 139.855316], [35.842663, 139.855316], [35.842663, 139.855316], [35.845345, 139.854477], [35.862373, 139.883209], [35.847366, 139.877884], [35.854965, 139.865097], [35.839287, 139.874802], [35.839287, 139.874802], [35.839287, 139.874802], [35.847256, 139.88707], [35.847256, 139.88707], [35.847256, 139.88707], [35.847256, 139.88707], [35.847256, 139.88707], [35.847256, 139.88707], [35.847256, 139.88707], [35.848438, 139.882874], [35.848438, 139.882874], [35.848438, 139.882874], [35.848438, 139.882874], [35.848438, 139.882874], [35.848438, 139.882874], [35.848438, 139.882874], [35.848438, 139.882874], [35.848438, 139.882874], [35.848438, 139.882874], [35.851547, 139.888443], [35.851547, 139.888443], [35.851547, 139.888443], [35.851547, 139.888443], [35.852173, 139.880951], [35.852173, 139.880951], [35.852173, 139.880951], [35.85474, 139.881699], [35.857166, 139.883575], [35.857166, 139.883575], [35.857166, 139.883575], [35.857166, 139.883575], [35.857166, 139.883575], [35.857166, 139.883575], [35.857166, 139.883575], [35.8563, 139.892166], [35.8563, 139.892166], [35.859474, 139.885574], [35.859474, 139.885574], [35.841259, 139.886047], [35.841259, 139.886047], [35.841259, 139.886047], [35.841259, 139.886047], [35.841259, 139.886047], [35.841259, 139.886047], [35.841259, 139.886047], [35.841259, 139.886047], [35.841259, 139.886047], [35.841259, 139.886047], [35.841259, 139.886047], [35.843811, 139.883957], [35.843811, 139.883957], [35.843811, 139.883957], [35.843811, 139.883957], [35.843811, 139.883957], [35.846275, 139.880676], [35.846275, 139.880676], [35.846275, 139.880676], [35.851986, 139.875519]],\n",
       "                {&quot;blur&quot;: 15, &quot;maxZoom&quot;: 18, &quot;minOpacity&quot;: 0.5, &quot;radius&quot;: 15}\n",
       "            );\n",
       "        \n",
       "    \n",
       "            heat_map_ff2f5218a435c4b3f073e56093506504.addTo(map_9fc3a721d8db8f637f58a34d972d268d);\n",
       "        \n",
       "    \n",
       "            var marker_cluster_dee2c8848353f375a5841c9d08b1898d = L.markerClusterGroup(\n",
       "                {}\n",
       "            );\n",
       "        \n",
       "    \n",
       "            var marker_53c3407970b766c0a468b9c16d08ecf3 = L.marker(\n",
       "                [35.843063, 139.860626],\n",
       "                {}\n",
       "            ).addTo(marker_cluster_dee2c8848353f375a5841c9d08b1898d);\n",
       "        \n",
       "    \n",
       "            marker_53c3407970b766c0a468b9c16d08ecf3.bindTooltip(\n",
       "                `&lt;div&gt;\n",
       "                     10歳代\n",
       "                 &lt;/div&gt;`,\n",
       "                {&quot;sticky&quot;: true}\n",
       "            );\n",
       "        \n",
       "    \n",
       "            var marker_eb10c2b3a08cf198e89d6a57cfaba0cc = L.marker(\n",
       "                [35.843063, 139.860626],\n",
       "                {}\n",
       "            ).addTo(marker_cluster_dee2c8848353f375a5841c9d08b1898d);\n",
       "        \n",
       "    \n",
       "            marker_eb10c2b3a08cf198e89d6a57cfaba0cc.bindTooltip(\n",
       "                `&lt;div&gt;\n",
       "                     50歳代\n",
       "                 &lt;/div&gt;`,\n",
       "                {&quot;sticky&quot;: true}\n",
       "            );\n",
       "        \n",
       "    \n",
       "            var marker_050b53d6ea0e5ecace72c54baf1bb587 = L.marker(\n",
       "                [35.833054, 139.886154],\n",
       "                {}\n",
       "            ).addTo(marker_cluster_dee2c8848353f375a5841c9d08b1898d);\n",
       "        \n",
       "    \n",
       "            marker_050b53d6ea0e5ecace72c54baf1bb587.bindTooltip(\n",
       "                `&lt;div&gt;\n",
       "                     20歳代\n",
       "                 &lt;/div&gt;`,\n",
       "                {&quot;sticky&quot;: true}\n",
       "            );\n",
       "        \n",
       "    \n",
       "            var marker_416f3386e02a204adc50b76eafad4ff4 = L.marker(\n",
       "                [35.837543, 139.879288],\n",
       "                {}\n",
       "            ).addTo(marker_cluster_dee2c8848353f375a5841c9d08b1898d);\n",
       "        \n",
       "    \n",
       "            marker_416f3386e02a204adc50b76eafad4ff4.bindTooltip(\n",
       "                `&lt;div&gt;\n",
       "                     10歳代\n",
       "                 &lt;/div&gt;`,\n",
       "                {&quot;sticky&quot;: true}\n",
       "            );\n",
       "        \n",
       "    \n",
       "            var marker_229a1518866894d11bbf447c53cc5883 = L.marker(\n",
       "                [35.811974, 139.885666],\n",
       "                {}\n",
       "            ).addTo(marker_cluster_dee2c8848353f375a5841c9d08b1898d);\n",
       "        \n",
       "    \n",
       "            marker_229a1518866894d11bbf447c53cc5883.bindTooltip(\n",
       "                `&lt;div&gt;\n",
       "                     20歳代\n",
       "                 &lt;/div&gt;`,\n",
       "                {&quot;sticky&quot;: true}\n",
       "            );\n",
       "        \n",
       "    \n",
       "            var marker_a31d06ccef9b13dbcf5578b54148244f = L.marker(\n",
       "                [35.811974, 139.885666],\n",
       "                {}\n",
       "            ).addTo(marker_cluster_dee2c8848353f375a5841c9d08b1898d);\n",
       "        \n",
       "    \n",
       "            marker_a31d06ccef9b13dbcf5578b54148244f.bindTooltip(\n",
       "                `&lt;div&gt;\n",
       "                     30歳代\n",
       "                 &lt;/div&gt;`,\n",
       "                {&quot;sticky&quot;: true}\n",
       "            );\n",
       "        \n",
       "    \n",
       "            var marker_d7615b64c08e1da20bbbfe429d0ab9a8 = L.marker(\n",
       "                [35.811974, 139.885666],\n",
       "                {}\n",
       "            ).addTo(marker_cluster_dee2c8848353f375a5841c9d08b1898d);\n",
       "        \n",
       "    \n",
       "            marker_d7615b64c08e1da20bbbfe429d0ab9a8.bindTooltip(\n",
       "                `&lt;div&gt;\n",
       "                     30歳代\n",
       "                 &lt;/div&gt;`,\n",
       "                {&quot;sticky&quot;: true}\n",
       "            );\n",
       "        \n",
       "    \n",
       "            var marker_4e823da0ed469a1aafc853f98543ff61 = L.marker(\n",
       "                [35.811974, 139.885666],\n",
       "                {}\n",
       "            ).addTo(marker_cluster_dee2c8848353f375a5841c9d08b1898d);\n",
       "        \n",
       "    \n",
       "            marker_4e823da0ed469a1aafc853f98543ff61.bindTooltip(\n",
       "                `&lt;div&gt;\n",
       "                     40歳代\n",
       "                 &lt;/div&gt;`,\n",
       "                {&quot;sticky&quot;: true}\n",
       "            );\n",
       "        \n",
       "    \n",
       "            var marker_1e6fc48268fc32fe11e6781ba3dbda10 = L.marker(\n",
       "                [35.826832, 139.86026],\n",
       "                {}\n",
       "            ).addTo(marker_cluster_dee2c8848353f375a5841c9d08b1898d);\n",
       "        \n",
       "    \n",
       "            marker_1e6fc48268fc32fe11e6781ba3dbda10.bindTooltip(\n",
       "                `&lt;div&gt;\n",
       "                     30歳代\n",
       "                 &lt;/div&gt;`,\n",
       "                {&quot;sticky&quot;: true}\n",
       "            );\n",
       "        \n",
       "    \n",
       "            var marker_41c1456177bd439a388b074f113873e3 = L.marker(\n",
       "                [35.826832, 139.86026],\n",
       "                {}\n",
       "            ).addTo(marker_cluster_dee2c8848353f375a5841c9d08b1898d);\n",
       "        \n",
       "    \n",
       "            marker_41c1456177bd439a388b074f113873e3.bindTooltip(\n",
       "                `&lt;div&gt;\n",
       "                     50歳代\n",
       "                 &lt;/div&gt;`,\n",
       "                {&quot;sticky&quot;: true}\n",
       "            );\n",
       "        \n",
       "    \n",
       "            var marker_957825feadf47bcb3ecd0b6332dfc77b = L.marker(\n",
       "                [35.826832, 139.86026],\n",
       "                {}\n",
       "            ).addTo(marker_cluster_dee2c8848353f375a5841c9d08b1898d);\n",
       "        \n",
       "    \n",
       "            marker_957825feadf47bcb3ecd0b6332dfc77b.bindTooltip(\n",
       "                `&lt;div&gt;\n",
       "                     10歳代\n",
       "                 &lt;/div&gt;`,\n",
       "                {&quot;sticky&quot;: true}\n",
       "            );\n",
       "        \n",
       "    \n",
       "            var marker_11ff89847226d653e5577b18d224815b = L.marker(\n",
       "                [35.826832, 139.86026],\n",
       "                {}\n",
       "            ).addTo(marker_cluster_dee2c8848353f375a5841c9d08b1898d);\n",
       "        \n",
       "    \n",
       "            marker_11ff89847226d653e5577b18d224815b.bindTooltip(\n",
       "                `&lt;div&gt;\n",
       "                     65-69歳\n",
       "                 &lt;/div&gt;`,\n",
       "                {&quot;sticky&quot;: true}\n",
       "            );\n",
       "        \n",
       "    \n",
       "            var marker_439e055f0a1c89f65c1eee955fdc8f81 = L.marker(\n",
       "                [35.826832, 139.86026],\n",
       "                {}\n",
       "            ).addTo(marker_cluster_dee2c8848353f375a5841c9d08b1898d);\n",
       "        \n",
       "    \n",
       "            marker_439e055f0a1c89f65c1eee955fdc8f81.bindTooltip(\n",
       "                `&lt;div&gt;\n",
       "                     30歳代\n",
       "                 &lt;/div&gt;`,\n",
       "                {&quot;sticky&quot;: true}\n",
       "            );\n",
       "        \n",
       "    \n",
       "            var marker_ca2707d4db95d0c1223dffb7b15ebebc = L.marker(\n",
       "                [35.826832, 139.86026],\n",
       "                {}\n",
       "            ).addTo(marker_cluster_dee2c8848353f375a5841c9d08b1898d);\n",
       "        \n",
       "    \n",
       "            marker_ca2707d4db95d0c1223dffb7b15ebebc.bindTooltip(\n",
       "                `&lt;div&gt;\n",
       "                     70歳以上\n",
       "                 &lt;/div&gt;`,\n",
       "                {&quot;sticky&quot;: true}\n",
       "            );\n",
       "        \n",
       "    \n",
       "            var marker_6f8d4644f53772b59ac230a4dd644d0a = L.marker(\n",
       "                [35.82724, 139.85405],\n",
       "                {}\n",
       "            ).addTo(marker_cluster_dee2c8848353f375a5841c9d08b1898d);\n",
       "        \n",
       "    \n",
       "            marker_6f8d4644f53772b59ac230a4dd644d0a.bindTooltip(\n",
       "                `&lt;div&gt;\n",
       "                     10歳代\n",
       "                 &lt;/div&gt;`,\n",
       "                {&quot;sticky&quot;: true}\n",
       "            );\n",
       "        \n",
       "    \n",
       "            var marker_9310e7896b74161f6aaa81ad13355e0f = L.marker(\n",
       "                [35.82724, 139.85405],\n",
       "                {}\n",
       "            ).addTo(marker_cluster_dee2c8848353f375a5841c9d08b1898d);\n",
       "        \n",
       "    \n",
       "            marker_9310e7896b74161f6aaa81ad13355e0f.bindTooltip(\n",
       "                `&lt;div&gt;\n",
       "                     10歳代\n",
       "                 &lt;/div&gt;`,\n",
       "                {&quot;sticky&quot;: true}\n",
       "            );\n",
       "        \n",
       "    \n",
       "            var marker_005609bf82b9acfad6b4f739f50b97f1 = L.marker(\n",
       "                [35.82724, 139.85405],\n",
       "                {}\n",
       "            ).addTo(marker_cluster_dee2c8848353f375a5841c9d08b1898d);\n",
       "        \n",
       "    \n",
       "            marker_005609bf82b9acfad6b4f739f50b97f1.bindTooltip(\n",
       "                `&lt;div&gt;\n",
       "                     20歳代\n",
       "                 &lt;/div&gt;`,\n",
       "                {&quot;sticky&quot;: true}\n",
       "            );\n",
       "        \n",
       "    \n",
       "            var marker_15bad0bce76ab80c9ceb8d7d5a779079 = L.marker(\n",
       "                [35.82724, 139.85405],\n",
       "                {}\n",
       "            ).addTo(marker_cluster_dee2c8848353f375a5841c9d08b1898d);\n",
       "        \n",
       "    \n",
       "            marker_15bad0bce76ab80c9ceb8d7d5a779079.bindTooltip(\n",
       "                `&lt;div&gt;\n",
       "                     40歳代\n",
       "                 &lt;/div&gt;`,\n",
       "                {&quot;sticky&quot;: true}\n",
       "            );\n",
       "        \n",
       "    \n",
       "            var marker_cdd028f1acf029988a7c5b2b21ed25d6 = L.marker(\n",
       "                [35.82724, 139.85405],\n",
       "                {}\n",
       "            ).addTo(marker_cluster_dee2c8848353f375a5841c9d08b1898d);\n",
       "        \n",
       "    \n",
       "            marker_cdd028f1acf029988a7c5b2b21ed25d6.bindTooltip(\n",
       "                `&lt;div&gt;\n",
       "                     20歳代\n",
       "                 &lt;/div&gt;`,\n",
       "                {&quot;sticky&quot;: true}\n",
       "            );\n",
       "        \n",
       "    \n",
       "            var marker_42bd899cd5b6e3b746e325d39cca4b36 = L.marker(\n",
       "                [35.841343, 139.848221],\n",
       "                {}\n",
       "            ).addTo(marker_cluster_dee2c8848353f375a5841c9d08b1898d);\n",
       "        \n",
       "    \n",
       "            marker_42bd899cd5b6e3b746e325d39cca4b36.bindTooltip(\n",
       "                `&lt;div&gt;\n",
       "                     50歳代\n",
       "                 &lt;/div&gt;`,\n",
       "                {&quot;sticky&quot;: true}\n",
       "            );\n",
       "        \n",
       "    \n",
       "            var marker_e9a51c761ec0d24001c1003da8b4a7da = L.marker(\n",
       "                [35.841343, 139.848221],\n",
       "                {}\n",
       "            ).addTo(marker_cluster_dee2c8848353f375a5841c9d08b1898d);\n",
       "        \n",
       "    \n",
       "            marker_e9a51c761ec0d24001c1003da8b4a7da.bindTooltip(\n",
       "                `&lt;div&gt;\n",
       "                     40歳代\n",
       "                 &lt;/div&gt;`,\n",
       "                {&quot;sticky&quot;: true}\n",
       "            );\n",
       "        \n",
       "    \n",
       "            var marker_391b0c2a3cda21d6a165dd3a88b14b34 = L.marker(\n",
       "                [35.826015, 139.870361],\n",
       "                {}\n",
       "            ).addTo(marker_cluster_dee2c8848353f375a5841c9d08b1898d);\n",
       "        \n",
       "    \n",
       "            marker_391b0c2a3cda21d6a165dd3a88b14b34.bindTooltip(\n",
       "                `&lt;div&gt;\n",
       "                     10歳代\n",
       "                 &lt;/div&gt;`,\n",
       "                {&quot;sticky&quot;: true}\n",
       "            );\n",
       "        \n",
       "    \n",
       "            var marker_f7fcce3f950ee6f6d0911cfe5d3ee76e = L.marker(\n",
       "                [35.826015, 139.870361],\n",
       "                {}\n",
       "            ).addTo(marker_cluster_dee2c8848353f375a5841c9d08b1898d);\n",
       "        \n",
       "    \n",
       "            marker_f7fcce3f950ee6f6d0911cfe5d3ee76e.bindTooltip(\n",
       "                `&lt;div&gt;\n",
       "                     20歳代\n",
       "                 &lt;/div&gt;`,\n",
       "                {&quot;sticky&quot;: true}\n",
       "            );\n",
       "        \n",
       "    \n",
       "            var marker_db7b7dccc05e57fff99930326ef636dd = L.marker(\n",
       "                [35.826015, 139.870361],\n",
       "                {}\n",
       "            ).addTo(marker_cluster_dee2c8848353f375a5841c9d08b1898d);\n",
       "        \n",
       "    \n",
       "            marker_db7b7dccc05e57fff99930326ef636dd.bindTooltip(\n",
       "                `&lt;div&gt;\n",
       "                     20歳代\n",
       "                 &lt;/div&gt;`,\n",
       "                {&quot;sticky&quot;: true}\n",
       "            );\n",
       "        \n",
       "    \n",
       "            var marker_847fb0e56f2ce172eb697285f289b9ea = L.marker(\n",
       "                [35.822933, 139.876038],\n",
       "                {}\n",
       "            ).addTo(marker_cluster_dee2c8848353f375a5841c9d08b1898d);\n",
       "        \n",
       "    \n",
       "            marker_847fb0e56f2ce172eb697285f289b9ea.bindTooltip(\n",
       "                `&lt;div&gt;\n",
       "                     30歳代\n",
       "                 &lt;/div&gt;`,\n",
       "                {&quot;sticky&quot;: true}\n",
       "            );\n",
       "        \n",
       "    \n",
       "            var marker_ab1c1724c3fd993467ac5ffd6190e727 = L.marker(\n",
       "                [35.822933, 139.876038],\n",
       "                {}\n",
       "            ).addTo(marker_cluster_dee2c8848353f375a5841c9d08b1898d);\n",
       "        \n",
       "    \n",
       "            marker_ab1c1724c3fd993467ac5ffd6190e727.bindTooltip(\n",
       "                `&lt;div&gt;\n",
       "                     10歳代\n",
       "                 &lt;/div&gt;`,\n",
       "                {&quot;sticky&quot;: true}\n",
       "            );\n",
       "        \n",
       "    \n",
       "            var marker_792107129fa029f01b06b11387f22691 = L.marker(\n",
       "                [35.822933, 139.876038],\n",
       "                {}\n",
       "            ).addTo(marker_cluster_dee2c8848353f375a5841c9d08b1898d);\n",
       "        \n",
       "    \n",
       "            marker_792107129fa029f01b06b11387f22691.bindTooltip(\n",
       "                `&lt;div&gt;\n",
       "                     70歳以上\n",
       "                 &lt;/div&gt;`,\n",
       "                {&quot;sticky&quot;: true}\n",
       "            );\n",
       "        \n",
       "    \n",
       "            var marker_f727f3d76f750ce21a8738705a46844b = L.marker(\n",
       "                [35.822933, 139.876038],\n",
       "                {}\n",
       "            ).addTo(marker_cluster_dee2c8848353f375a5841c9d08b1898d);\n",
       "        \n",
       "    \n",
       "            marker_f727f3d76f750ce21a8738705a46844b.bindTooltip(\n",
       "                `&lt;div&gt;\n",
       "                     20歳代\n",
       "                 &lt;/div&gt;`,\n",
       "                {&quot;sticky&quot;: true}\n",
       "            );\n",
       "        \n",
       "    \n",
       "            var marker_1db1f1981df9592bf8801f1111a94819 = L.marker(\n",
       "                [35.822933, 139.876038],\n",
       "                {}\n",
       "            ).addTo(marker_cluster_dee2c8848353f375a5841c9d08b1898d);\n",
       "        \n",
       "    \n",
       "            marker_1db1f1981df9592bf8801f1111a94819.bindTooltip(\n",
       "                `&lt;div&gt;\n",
       "                     20歳代\n",
       "                 &lt;/div&gt;`,\n",
       "                {&quot;sticky&quot;: true}\n",
       "            );\n",
       "        \n",
       "    \n",
       "            var marker_bdc3309c9ec9add07318212e316cf4fc = L.marker(\n",
       "                [35.822933, 139.876038],\n",
       "                {}\n",
       "            ).addTo(marker_cluster_dee2c8848353f375a5841c9d08b1898d);\n",
       "        \n",
       "    \n",
       "            marker_bdc3309c9ec9add07318212e316cf4fc.bindTooltip(\n",
       "                `&lt;div&gt;\n",
       "                     40歳代\n",
       "                 &lt;/div&gt;`,\n",
       "                {&quot;sticky&quot;: true}\n",
       "            );\n",
       "        \n",
       "    \n",
       "            var marker_c73cc06b14487716ce52abf52ebe4cff = L.marker(\n",
       "                [35.822933, 139.876038],\n",
       "                {}\n",
       "            ).addTo(marker_cluster_dee2c8848353f375a5841c9d08b1898d);\n",
       "        \n",
       "    \n",
       "            marker_c73cc06b14487716ce52abf52ebe4cff.bindTooltip(\n",
       "                `&lt;div&gt;\n",
       "                     10歳代\n",
       "                 &lt;/div&gt;`,\n",
       "                {&quot;sticky&quot;: true}\n",
       "            );\n",
       "        \n",
       "    \n",
       "            var marker_7a7fec59c8f6f13d5d6c5609f7b8917c = L.marker(\n",
       "                [35.822933, 139.876038],\n",
       "                {}\n",
       "            ).addTo(marker_cluster_dee2c8848353f375a5841c9d08b1898d);\n",
       "        \n",
       "    \n",
       "            marker_7a7fec59c8f6f13d5d6c5609f7b8917c.bindTooltip(\n",
       "                `&lt;div&gt;\n",
       "                     20歳代\n",
       "                 &lt;/div&gt;`,\n",
       "                {&quot;sticky&quot;: true}\n",
       "            );\n",
       "        \n",
       "    \n",
       "            var marker_599316391057574cfefe2d07123836b9 = L.marker(\n",
       "                [35.822933, 139.876038],\n",
       "                {}\n",
       "            ).addTo(marker_cluster_dee2c8848353f375a5841c9d08b1898d);\n",
       "        \n",
       "    \n",
       "            marker_599316391057574cfefe2d07123836b9.bindTooltip(\n",
       "                `&lt;div&gt;\n",
       "                     10歳代\n",
       "                 &lt;/div&gt;`,\n",
       "                {&quot;sticky&quot;: true}\n",
       "            );\n",
       "        \n",
       "    \n",
       "            var marker_c154199eba9622df186c2665d7e1d89e = L.marker(\n",
       "                [35.822933, 139.876038],\n",
       "                {}\n",
       "            ).addTo(marker_cluster_dee2c8848353f375a5841c9d08b1898d);\n",
       "        \n",
       "    \n",
       "            marker_c154199eba9622df186c2665d7e1d89e.bindTooltip(\n",
       "                `&lt;div&gt;\n",
       "                     10歳代\n",
       "                 &lt;/div&gt;`,\n",
       "                {&quot;sticky&quot;: true}\n",
       "            );\n",
       "        \n",
       "    \n",
       "            var marker_df35fafea856d74356a2e7e12ed444ea = L.marker(\n",
       "                [35.822933, 139.876038],\n",
       "                {}\n",
       "            ).addTo(marker_cluster_dee2c8848353f375a5841c9d08b1898d);\n",
       "        \n",
       "    \n",
       "            marker_df35fafea856d74356a2e7e12ed444ea.bindTooltip(\n",
       "                `&lt;div&gt;\n",
       "                     20歳代\n",
       "                 &lt;/div&gt;`,\n",
       "                {&quot;sticky&quot;: true}\n",
       "            );\n",
       "        \n",
       "    \n",
       "            var marker_76a063c88e4aa5c0bc166bd51f9db721 = L.marker(\n",
       "                [35.822933, 139.876038],\n",
       "                {}\n",
       "            ).addTo(marker_cluster_dee2c8848353f375a5841c9d08b1898d);\n",
       "        \n",
       "    \n",
       "            marker_76a063c88e4aa5c0bc166bd51f9db721.bindTooltip(\n",
       "                `&lt;div&gt;\n",
       "                     20歳代\n",
       "                 &lt;/div&gt;`,\n",
       "                {&quot;sticky&quot;: true}\n",
       "            );\n",
       "        \n",
       "    \n",
       "            var marker_b340efb3c6529617b80f5140f55f5611 = L.marker(\n",
       "                [35.822933, 139.876038],\n",
       "                {}\n",
       "            ).addTo(marker_cluster_dee2c8848353f375a5841c9d08b1898d);\n",
       "        \n",
       "    \n",
       "            marker_b340efb3c6529617b80f5140f55f5611.bindTooltip(\n",
       "                `&lt;div&gt;\n",
       "                     法人・団体、被害者なし\n",
       "                 &lt;/div&gt;`,\n",
       "                {&quot;sticky&quot;: true}\n",
       "            );\n",
       "        \n",
       "    \n",
       "            var marker_e52c17028911d1273f4819b23f29a04c = L.marker(\n",
       "                [35.822933, 139.876038],\n",
       "                {}\n",
       "            ).addTo(marker_cluster_dee2c8848353f375a5841c9d08b1898d);\n",
       "        \n",
       "    \n",
       "            marker_e52c17028911d1273f4819b23f29a04c.bindTooltip(\n",
       "                `&lt;div&gt;\n",
       "                     20歳代\n",
       "                 &lt;/div&gt;`,\n",
       "                {&quot;sticky&quot;: true}\n",
       "            );\n",
       "        \n",
       "    \n",
       "            var marker_9f0be4500905a83910e66b06e787b645 = L.marker(\n",
       "                [35.822933, 139.876038],\n",
       "                {}\n",
       "            ).addTo(marker_cluster_dee2c8848353f375a5841c9d08b1898d);\n",
       "        \n",
       "    \n",
       "            marker_9f0be4500905a83910e66b06e787b645.bindTooltip(\n",
       "                `&lt;div&gt;\n",
       "                     20歳代\n",
       "                 &lt;/div&gt;`,\n",
       "                {&quot;sticky&quot;: true}\n",
       "            );\n",
       "        \n",
       "    \n",
       "            var marker_1f486654da325008698d9514ae952a43 = L.marker(\n",
       "                [35.822933, 139.876038],\n",
       "                {}\n",
       "            ).addTo(marker_cluster_dee2c8848353f375a5841c9d08b1898d);\n",
       "        \n",
       "    \n",
       "            marker_1f486654da325008698d9514ae952a43.bindTooltip(\n",
       "                `&lt;div&gt;\n",
       "                     30歳代\n",
       "                 &lt;/div&gt;`,\n",
       "                {&quot;sticky&quot;: true}\n",
       "            );\n",
       "        \n",
       "    \n",
       "            var marker_62d7ba1e2fcbd0fcca75757f843241b8 = L.marker(\n",
       "                [35.822933, 139.876038],\n",
       "                {}\n",
       "            ).addTo(marker_cluster_dee2c8848353f375a5841c9d08b1898d);\n",
       "        \n",
       "    \n",
       "            marker_62d7ba1e2fcbd0fcca75757f843241b8.bindTooltip(\n",
       "                `&lt;div&gt;\n",
       "                     50歳代\n",
       "                 &lt;/div&gt;`,\n",
       "                {&quot;sticky&quot;: true}\n",
       "            );\n",
       "        \n",
       "    \n",
       "            var marker_813a50e0a3b04e620095557a68289655 = L.marker(\n",
       "                [35.822933, 139.876038],\n",
       "                {}\n",
       "            ).addTo(marker_cluster_dee2c8848353f375a5841c9d08b1898d);\n",
       "        \n",
       "    \n",
       "            marker_813a50e0a3b04e620095557a68289655.bindTooltip(\n",
       "                `&lt;div&gt;\n",
       "                     10歳代\n",
       "                 &lt;/div&gt;`,\n",
       "                {&quot;sticky&quot;: true}\n",
       "            );\n",
       "        \n",
       "    \n",
       "            var marker_04d0bfa6ba155468adfee86f3f0239e0 = L.marker(\n",
       "                [35.819542, 139.877319],\n",
       "                {}\n",
       "            ).addTo(marker_cluster_dee2c8848353f375a5841c9d08b1898d);\n",
       "        \n",
       "    \n",
       "            marker_04d0bfa6ba155468adfee86f3f0239e0.bindTooltip(\n",
       "                `&lt;div&gt;\n",
       "                     20歳代\n",
       "                 &lt;/div&gt;`,\n",
       "                {&quot;sticky&quot;: true}\n",
       "            );\n",
       "        \n",
       "    \n",
       "            var marker_08d883b158b6fe9826323cf268f5017f = L.marker(\n",
       "                [35.827572, 139.878433],\n",
       "                {}\n",
       "            ).addTo(marker_cluster_dee2c8848353f375a5841c9d08b1898d);\n",
       "        \n",
       "    \n",
       "            marker_08d883b158b6fe9826323cf268f5017f.bindTooltip(\n",
       "                `&lt;div&gt;\n",
       "                     10歳代\n",
       "                 &lt;/div&gt;`,\n",
       "                {&quot;sticky&quot;: true}\n",
       "            );\n",
       "        \n",
       "    \n",
       "            var marker_c6a1eb0b1ca12aa3bc51ba207545081a = L.marker(\n",
       "                [35.827572, 139.878433],\n",
       "                {}\n",
       "            ).addTo(marker_cluster_dee2c8848353f375a5841c9d08b1898d);\n",
       "        \n",
       "    \n",
       "            marker_c6a1eb0b1ca12aa3bc51ba207545081a.bindTooltip(\n",
       "                `&lt;div&gt;\n",
       "                     30歳代\n",
       "                 &lt;/div&gt;`,\n",
       "                {&quot;sticky&quot;: true}\n",
       "            );\n",
       "        \n",
       "    \n",
       "            var marker_b9e9777303f4612462c4e063b8470be5 = L.marker(\n",
       "                [35.827572, 139.878433],\n",
       "                {}\n",
       "            ).addTo(marker_cluster_dee2c8848353f375a5841c9d08b1898d);\n",
       "        \n",
       "    \n",
       "            marker_b9e9777303f4612462c4e063b8470be5.bindTooltip(\n",
       "                `&lt;div&gt;\n",
       "                     30歳代\n",
       "                 &lt;/div&gt;`,\n",
       "                {&quot;sticky&quot;: true}\n",
       "            );\n",
       "        \n",
       "    \n",
       "            var marker_60f8f9ae3b1731fb7a3545a2317b20c4 = L.marker(\n",
       "                [35.827572, 139.878433],\n",
       "                {}\n",
       "            ).addTo(marker_cluster_dee2c8848353f375a5841c9d08b1898d);\n",
       "        \n",
       "    \n",
       "            marker_60f8f9ae3b1731fb7a3545a2317b20c4.bindTooltip(\n",
       "                `&lt;div&gt;\n",
       "                     20歳代\n",
       "                 &lt;/div&gt;`,\n",
       "                {&quot;sticky&quot;: true}\n",
       "            );\n",
       "        \n",
       "    \n",
       "            var marker_f5f2ba7ac748e57192e7d3d46e3c561e = L.marker(\n",
       "                [35.831985, 139.87999],\n",
       "                {}\n",
       "            ).addTo(marker_cluster_dee2c8848353f375a5841c9d08b1898d);\n",
       "        \n",
       "    \n",
       "            marker_f5f2ba7ac748e57192e7d3d46e3c561e.bindTooltip(\n",
       "                `&lt;div&gt;\n",
       "                     30歳代\n",
       "                 &lt;/div&gt;`,\n",
       "                {&quot;sticky&quot;: true}\n",
       "            );\n",
       "        \n",
       "    \n",
       "            var marker_2450e9bd452f2002454383a19d4763e3 = L.marker(\n",
       "                [35.831985, 139.87999],\n",
       "                {}\n",
       "            ).addTo(marker_cluster_dee2c8848353f375a5841c9d08b1898d);\n",
       "        \n",
       "    \n",
       "            marker_2450e9bd452f2002454383a19d4763e3.bindTooltip(\n",
       "                `&lt;div&gt;\n",
       "                     65-69歳\n",
       "                 &lt;/div&gt;`,\n",
       "                {&quot;sticky&quot;: true}\n",
       "            );\n",
       "        \n",
       "    \n",
       "            var marker_608de410995e8ad4de4e7575542957ac = L.marker(\n",
       "                [35.831985, 139.87999],\n",
       "                {}\n",
       "            ).addTo(marker_cluster_dee2c8848353f375a5841c9d08b1898d);\n",
       "        \n",
       "    \n",
       "            marker_608de410995e8ad4de4e7575542957ac.bindTooltip(\n",
       "                `&lt;div&gt;\n",
       "                     30歳代\n",
       "                 &lt;/div&gt;`,\n",
       "                {&quot;sticky&quot;: true}\n",
       "            );\n",
       "        \n",
       "    \n",
       "            var marker_c9065dcdc17bb07e8116ec6e6461b7d3 = L.marker(\n",
       "                [35.842663, 139.855316],\n",
       "                {}\n",
       "            ).addTo(marker_cluster_dee2c8848353f375a5841c9d08b1898d);\n",
       "        \n",
       "    \n",
       "            marker_c9065dcdc17bb07e8116ec6e6461b7d3.bindTooltip(\n",
       "                `&lt;div&gt;\n",
       "                     40歳代\n",
       "                 &lt;/div&gt;`,\n",
       "                {&quot;sticky&quot;: true}\n",
       "            );\n",
       "        \n",
       "    \n",
       "            var marker_586b912b861ba17d3be60e9d185590f7 = L.marker(\n",
       "                [35.842663, 139.855316],\n",
       "                {}\n",
       "            ).addTo(marker_cluster_dee2c8848353f375a5841c9d08b1898d);\n",
       "        \n",
       "    \n",
       "            marker_586b912b861ba17d3be60e9d185590f7.bindTooltip(\n",
       "                `&lt;div&gt;\n",
       "                     10歳代\n",
       "                 &lt;/div&gt;`,\n",
       "                {&quot;sticky&quot;: true}\n",
       "            );\n",
       "        \n",
       "    \n",
       "            var marker_b825f8ea6ad31b2cb989e16bb751ba25 = L.marker(\n",
       "                [35.842663, 139.855316],\n",
       "                {}\n",
       "            ).addTo(marker_cluster_dee2c8848353f375a5841c9d08b1898d);\n",
       "        \n",
       "    \n",
       "            marker_b825f8ea6ad31b2cb989e16bb751ba25.bindTooltip(\n",
       "                `&lt;div&gt;\n",
       "                     70歳以上\n",
       "                 &lt;/div&gt;`,\n",
       "                {&quot;sticky&quot;: true}\n",
       "            );\n",
       "        \n",
       "    \n",
       "            var marker_610b27226c20cfaf6f12e53596935906 = L.marker(\n",
       "                [35.842663, 139.855316],\n",
       "                {}\n",
       "            ).addTo(marker_cluster_dee2c8848353f375a5841c9d08b1898d);\n",
       "        \n",
       "    \n",
       "            marker_610b27226c20cfaf6f12e53596935906.bindTooltip(\n",
       "                `&lt;div&gt;\n",
       "                     30歳代\n",
       "                 &lt;/div&gt;`,\n",
       "                {&quot;sticky&quot;: true}\n",
       "            );\n",
       "        \n",
       "    \n",
       "            var marker_0f159e774df85d07d9fb3ad18c87ba70 = L.marker(\n",
       "                [35.842663, 139.855316],\n",
       "                {}\n",
       "            ).addTo(marker_cluster_dee2c8848353f375a5841c9d08b1898d);\n",
       "        \n",
       "    \n",
       "            marker_0f159e774df85d07d9fb3ad18c87ba70.bindTooltip(\n",
       "                `&lt;div&gt;\n",
       "                     30歳代\n",
       "                 &lt;/div&gt;`,\n",
       "                {&quot;sticky&quot;: true}\n",
       "            );\n",
       "        \n",
       "    \n",
       "            var marker_4b0d953b6c5b3c4d9f4914648db1dc80 = L.marker(\n",
       "                [35.842663, 139.855316],\n",
       "                {}\n",
       "            ).addTo(marker_cluster_dee2c8848353f375a5841c9d08b1898d);\n",
       "        \n",
       "    \n",
       "            marker_4b0d953b6c5b3c4d9f4914648db1dc80.bindTooltip(\n",
       "                `&lt;div&gt;\n",
       "                     20歳代\n",
       "                 &lt;/div&gt;`,\n",
       "                {&quot;sticky&quot;: true}\n",
       "            );\n",
       "        \n",
       "    \n",
       "            var marker_e7176667c60ed4d01c3c3aae00992ed0 = L.marker(\n",
       "                [35.842663, 139.855316],\n",
       "                {}\n",
       "            ).addTo(marker_cluster_dee2c8848353f375a5841c9d08b1898d);\n",
       "        \n",
       "    \n",
       "            marker_e7176667c60ed4d01c3c3aae00992ed0.bindTooltip(\n",
       "                `&lt;div&gt;\n",
       "                     10歳代\n",
       "                 &lt;/div&gt;`,\n",
       "                {&quot;sticky&quot;: true}\n",
       "            );\n",
       "        \n",
       "    \n",
       "            var marker_4ed71028fad06053bf900b0a2f2922f6 = L.marker(\n",
       "                [35.842663, 139.855316],\n",
       "                {}\n",
       "            ).addTo(marker_cluster_dee2c8848353f375a5841c9d08b1898d);\n",
       "        \n",
       "    \n",
       "            marker_4ed71028fad06053bf900b0a2f2922f6.bindTooltip(\n",
       "                `&lt;div&gt;\n",
       "                     10歳代\n",
       "                 &lt;/div&gt;`,\n",
       "                {&quot;sticky&quot;: true}\n",
       "            );\n",
       "        \n",
       "    \n",
       "            var marker_dec393f3ce2733c447767e365c9c79c3 = L.marker(\n",
       "                [35.842663, 139.855316],\n",
       "                {}\n",
       "            ).addTo(marker_cluster_dee2c8848353f375a5841c9d08b1898d);\n",
       "        \n",
       "    \n",
       "            marker_dec393f3ce2733c447767e365c9c79c3.bindTooltip(\n",
       "                `&lt;div&gt;\n",
       "                     10歳代\n",
       "                 &lt;/div&gt;`,\n",
       "                {&quot;sticky&quot;: true}\n",
       "            );\n",
       "        \n",
       "    \n",
       "            var marker_f17bc3ec27d07276944d438ee53a3ecc = L.marker(\n",
       "                [35.842663, 139.855316],\n",
       "                {}\n",
       "            ).addTo(marker_cluster_dee2c8848353f375a5841c9d08b1898d);\n",
       "        \n",
       "    \n",
       "            marker_f17bc3ec27d07276944d438ee53a3ecc.bindTooltip(\n",
       "                `&lt;div&gt;\n",
       "                     10歳代\n",
       "                 &lt;/div&gt;`,\n",
       "                {&quot;sticky&quot;: true}\n",
       "            );\n",
       "        \n",
       "    \n",
       "            var marker_4d252788fb051b86a7dcedc643eca0a1 = L.marker(\n",
       "                [35.842663, 139.855316],\n",
       "                {}\n",
       "            ).addTo(marker_cluster_dee2c8848353f375a5841c9d08b1898d);\n",
       "        \n",
       "    \n",
       "            marker_4d252788fb051b86a7dcedc643eca0a1.bindTooltip(\n",
       "                `&lt;div&gt;\n",
       "                     10歳代\n",
       "                 &lt;/div&gt;`,\n",
       "                {&quot;sticky&quot;: true}\n",
       "            );\n",
       "        \n",
       "    \n",
       "            var marker_72d6b6a015f952f15bbb9011d6c687ea = L.marker(\n",
       "                [35.842663, 139.855316],\n",
       "                {}\n",
       "            ).addTo(marker_cluster_dee2c8848353f375a5841c9d08b1898d);\n",
       "        \n",
       "    \n",
       "            marker_72d6b6a015f952f15bbb9011d6c687ea.bindTooltip(\n",
       "                `&lt;div&gt;\n",
       "                     10歳代\n",
       "                 &lt;/div&gt;`,\n",
       "                {&quot;sticky&quot;: true}\n",
       "            );\n",
       "        \n",
       "    \n",
       "            var marker_4ea5095ef8ac9184b61ce311559e9cf7 = L.marker(\n",
       "                [35.842663, 139.855316],\n",
       "                {}\n",
       "            ).addTo(marker_cluster_dee2c8848353f375a5841c9d08b1898d);\n",
       "        \n",
       "    \n",
       "            marker_4ea5095ef8ac9184b61ce311559e9cf7.bindTooltip(\n",
       "                `&lt;div&gt;\n",
       "                     20歳代\n",
       "                 &lt;/div&gt;`,\n",
       "                {&quot;sticky&quot;: true}\n",
       "            );\n",
       "        \n",
       "    \n",
       "            var marker_ac7f54c514657f56011b85d9e1ee9ded = L.marker(\n",
       "                [35.845345, 139.854477],\n",
       "                {}\n",
       "            ).addTo(marker_cluster_dee2c8848353f375a5841c9d08b1898d);\n",
       "        \n",
       "    \n",
       "            marker_ac7f54c514657f56011b85d9e1ee9ded.bindTooltip(\n",
       "                `&lt;div&gt;\n",
       "                     20歳代\n",
       "                 &lt;/div&gt;`,\n",
       "                {&quot;sticky&quot;: true}\n",
       "            );\n",
       "        \n",
       "    \n",
       "            var marker_bfcf202cb7e9339eebd8d97079704b0c = L.marker(\n",
       "                [35.862373, 139.883209],\n",
       "                {}\n",
       "            ).addTo(marker_cluster_dee2c8848353f375a5841c9d08b1898d);\n",
       "        \n",
       "    \n",
       "            marker_bfcf202cb7e9339eebd8d97079704b0c.bindTooltip(\n",
       "                `&lt;div&gt;\n",
       "                     法人・団体、被害者なし\n",
       "                 &lt;/div&gt;`,\n",
       "                {&quot;sticky&quot;: true}\n",
       "            );\n",
       "        \n",
       "    \n",
       "            var marker_06a4b75006d4554bc0cd585d68ab15af = L.marker(\n",
       "                [35.847366, 139.877884],\n",
       "                {}\n",
       "            ).addTo(marker_cluster_dee2c8848353f375a5841c9d08b1898d);\n",
       "        \n",
       "    \n",
       "            marker_06a4b75006d4554bc0cd585d68ab15af.bindTooltip(\n",
       "                `&lt;div&gt;\n",
       "                     20歳代\n",
       "                 &lt;/div&gt;`,\n",
       "                {&quot;sticky&quot;: true}\n",
       "            );\n",
       "        \n",
       "    \n",
       "            var marker_24146fc867ac3aa195f3f5bc397a234d = L.marker(\n",
       "                [35.854965, 139.865097],\n",
       "                {}\n",
       "            ).addTo(marker_cluster_dee2c8848353f375a5841c9d08b1898d);\n",
       "        \n",
       "    \n",
       "            marker_24146fc867ac3aa195f3f5bc397a234d.bindTooltip(\n",
       "                `&lt;div&gt;\n",
       "                     40歳代\n",
       "                 &lt;/div&gt;`,\n",
       "                {&quot;sticky&quot;: true}\n",
       "            );\n",
       "        \n",
       "    \n",
       "            var marker_d7b69891f3c040b94b2cd101ae52fee6 = L.marker(\n",
       "                [35.839287, 139.874802],\n",
       "                {}\n",
       "            ).addTo(marker_cluster_dee2c8848353f375a5841c9d08b1898d);\n",
       "        \n",
       "    \n",
       "            marker_d7b69891f3c040b94b2cd101ae52fee6.bindTooltip(\n",
       "                `&lt;div&gt;\n",
       "                     10歳代\n",
       "                 &lt;/div&gt;`,\n",
       "                {&quot;sticky&quot;: true}\n",
       "            );\n",
       "        \n",
       "    \n",
       "            var marker_e44dfe8d6133d596fdfe60cd06bd614e = L.marker(\n",
       "                [35.839287, 139.874802],\n",
       "                {}\n",
       "            ).addTo(marker_cluster_dee2c8848353f375a5841c9d08b1898d);\n",
       "        \n",
       "    \n",
       "            marker_e44dfe8d6133d596fdfe60cd06bd614e.bindTooltip(\n",
       "                `&lt;div&gt;\n",
       "                     10歳代\n",
       "                 &lt;/div&gt;`,\n",
       "                {&quot;sticky&quot;: true}\n",
       "            );\n",
       "        \n",
       "    \n",
       "            var marker_a64098c65504f7dcea6858e5713182ed = L.marker(\n",
       "                [35.839287, 139.874802],\n",
       "                {}\n",
       "            ).addTo(marker_cluster_dee2c8848353f375a5841c9d08b1898d);\n",
       "        \n",
       "    \n",
       "            marker_a64098c65504f7dcea6858e5713182ed.bindTooltip(\n",
       "                `&lt;div&gt;\n",
       "                     10歳代\n",
       "                 &lt;/div&gt;`,\n",
       "                {&quot;sticky&quot;: true}\n",
       "            );\n",
       "        \n",
       "    \n",
       "            var marker_c5aea0c25c98a0377a25d592263b6e43 = L.marker(\n",
       "                [35.847256, 139.88707],\n",
       "                {}\n",
       "            ).addTo(marker_cluster_dee2c8848353f375a5841c9d08b1898d);\n",
       "        \n",
       "    \n",
       "            marker_c5aea0c25c98a0377a25d592263b6e43.bindTooltip(\n",
       "                `&lt;div&gt;\n",
       "                     50歳代\n",
       "                 &lt;/div&gt;`,\n",
       "                {&quot;sticky&quot;: true}\n",
       "            );\n",
       "        \n",
       "    \n",
       "            var marker_a3a033b6e2c8c5ac6c68014327b47050 = L.marker(\n",
       "                [35.847256, 139.88707],\n",
       "                {}\n",
       "            ).addTo(marker_cluster_dee2c8848353f375a5841c9d08b1898d);\n",
       "        \n",
       "    \n",
       "            marker_a3a033b6e2c8c5ac6c68014327b47050.bindTooltip(\n",
       "                `&lt;div&gt;\n",
       "                     10歳代\n",
       "                 &lt;/div&gt;`,\n",
       "                {&quot;sticky&quot;: true}\n",
       "            );\n",
       "        \n",
       "    \n",
       "            var marker_ee6579a681345c3a92d6e99fbd7cbdc4 = L.marker(\n",
       "                [35.847256, 139.88707],\n",
       "                {}\n",
       "            ).addTo(marker_cluster_dee2c8848353f375a5841c9d08b1898d);\n",
       "        \n",
       "    \n",
       "            marker_ee6579a681345c3a92d6e99fbd7cbdc4.bindTooltip(\n",
       "                `&lt;div&gt;\n",
       "                     30歳代\n",
       "                 &lt;/div&gt;`,\n",
       "                {&quot;sticky&quot;: true}\n",
       "            );\n",
       "        \n",
       "    \n",
       "            var marker_c5117099a74f781dbbddeda368f9c04c = L.marker(\n",
       "                [35.847256, 139.88707],\n",
       "                {}\n",
       "            ).addTo(marker_cluster_dee2c8848353f375a5841c9d08b1898d);\n",
       "        \n",
       "    \n",
       "            marker_c5117099a74f781dbbddeda368f9c04c.bindTooltip(\n",
       "                `&lt;div&gt;\n",
       "                     60-64歳\n",
       "                 &lt;/div&gt;`,\n",
       "                {&quot;sticky&quot;: true}\n",
       "            );\n",
       "        \n",
       "    \n",
       "            var marker_42821e040c30ccf36215efcc1eded5fc = L.marker(\n",
       "                [35.847256, 139.88707],\n",
       "                {}\n",
       "            ).addTo(marker_cluster_dee2c8848353f375a5841c9d08b1898d);\n",
       "        \n",
       "    \n",
       "            marker_42821e040c30ccf36215efcc1eded5fc.bindTooltip(\n",
       "                `&lt;div&gt;\n",
       "                     30歳代\n",
       "                 &lt;/div&gt;`,\n",
       "                {&quot;sticky&quot;: true}\n",
       "            );\n",
       "        \n",
       "    \n",
       "            var marker_9a7a4a93d2e42f7705e0e943866e2e56 = L.marker(\n",
       "                [35.847256, 139.88707],\n",
       "                {}\n",
       "            ).addTo(marker_cluster_dee2c8848353f375a5841c9d08b1898d);\n",
       "        \n",
       "    \n",
       "            marker_9a7a4a93d2e42f7705e0e943866e2e56.bindTooltip(\n",
       "                `&lt;div&gt;\n",
       "                     10歳代\n",
       "                 &lt;/div&gt;`,\n",
       "                {&quot;sticky&quot;: true}\n",
       "            );\n",
       "        \n",
       "    \n",
       "            var marker_eacbcaac01a241d0f72950fea4d5605b = L.marker(\n",
       "                [35.847256, 139.88707],\n",
       "                {}\n",
       "            ).addTo(marker_cluster_dee2c8848353f375a5841c9d08b1898d);\n",
       "        \n",
       "    \n",
       "            marker_eacbcaac01a241d0f72950fea4d5605b.bindTooltip(\n",
       "                `&lt;div&gt;\n",
       "                     30歳代\n",
       "                 &lt;/div&gt;`,\n",
       "                {&quot;sticky&quot;: true}\n",
       "            );\n",
       "        \n",
       "    \n",
       "            var marker_a0fa69b38c865939763e90b08dce248a = L.marker(\n",
       "                [35.848438, 139.882874],\n",
       "                {}\n",
       "            ).addTo(marker_cluster_dee2c8848353f375a5841c9d08b1898d);\n",
       "        \n",
       "    \n",
       "            marker_a0fa69b38c865939763e90b08dce248a.bindTooltip(\n",
       "                `&lt;div&gt;\n",
       "                     10歳代\n",
       "                 &lt;/div&gt;`,\n",
       "                {&quot;sticky&quot;: true}\n",
       "            );\n",
       "        \n",
       "    \n",
       "            var marker_4184056a79ae43d90f735711ba0eabe3 = L.marker(\n",
       "                [35.848438, 139.882874],\n",
       "                {}\n",
       "            ).addTo(marker_cluster_dee2c8848353f375a5841c9d08b1898d);\n",
       "        \n",
       "    \n",
       "            marker_4184056a79ae43d90f735711ba0eabe3.bindTooltip(\n",
       "                `&lt;div&gt;\n",
       "                     60-64歳\n",
       "                 &lt;/div&gt;`,\n",
       "                {&quot;sticky&quot;: true}\n",
       "            );\n",
       "        \n",
       "    \n",
       "            var marker_40484465643d3a1973cfd8878c81dfe5 = L.marker(\n",
       "                [35.848438, 139.882874],\n",
       "                {}\n",
       "            ).addTo(marker_cluster_dee2c8848353f375a5841c9d08b1898d);\n",
       "        \n",
       "    \n",
       "            marker_40484465643d3a1973cfd8878c81dfe5.bindTooltip(\n",
       "                `&lt;div&gt;\n",
       "                     20歳代\n",
       "                 &lt;/div&gt;`,\n",
       "                {&quot;sticky&quot;: true}\n",
       "            );\n",
       "        \n",
       "    \n",
       "            var marker_d6ece24a1bac2cd2a778a88c4d94ffaa = L.marker(\n",
       "                [35.848438, 139.882874],\n",
       "                {}\n",
       "            ).addTo(marker_cluster_dee2c8848353f375a5841c9d08b1898d);\n",
       "        \n",
       "    \n",
       "            marker_d6ece24a1bac2cd2a778a88c4d94ffaa.bindTooltip(\n",
       "                `&lt;div&gt;\n",
       "                     10歳代\n",
       "                 &lt;/div&gt;`,\n",
       "                {&quot;sticky&quot;: true}\n",
       "            );\n",
       "        \n",
       "    \n",
       "            var marker_509f45734b34b81e64a38c7bb45dc79c = L.marker(\n",
       "                [35.848438, 139.882874],\n",
       "                {}\n",
       "            ).addTo(marker_cluster_dee2c8848353f375a5841c9d08b1898d);\n",
       "        \n",
       "    \n",
       "            marker_509f45734b34b81e64a38c7bb45dc79c.bindTooltip(\n",
       "                `&lt;div&gt;\n",
       "                     10歳代\n",
       "                 &lt;/div&gt;`,\n",
       "                {&quot;sticky&quot;: true}\n",
       "            );\n",
       "        \n",
       "    \n",
       "            var marker_55225c02562d097f6635b48d8a75ddd2 = L.marker(\n",
       "                [35.848438, 139.882874],\n",
       "                {}\n",
       "            ).addTo(marker_cluster_dee2c8848353f375a5841c9d08b1898d);\n",
       "        \n",
       "    \n",
       "            marker_55225c02562d097f6635b48d8a75ddd2.bindTooltip(\n",
       "                `&lt;div&gt;\n",
       "                     20歳代\n",
       "                 &lt;/div&gt;`,\n",
       "                {&quot;sticky&quot;: true}\n",
       "            );\n",
       "        \n",
       "    \n",
       "            var marker_1c5164035922b0da146ffd31d59de754 = L.marker(\n",
       "                [35.848438, 139.882874],\n",
       "                {}\n",
       "            ).addTo(marker_cluster_dee2c8848353f375a5841c9d08b1898d);\n",
       "        \n",
       "    \n",
       "            marker_1c5164035922b0da146ffd31d59de754.bindTooltip(\n",
       "                `&lt;div&gt;\n",
       "                     40歳代\n",
       "                 &lt;/div&gt;`,\n",
       "                {&quot;sticky&quot;: true}\n",
       "            );\n",
       "        \n",
       "    \n",
       "            var marker_6c8333b639b6f77bff2b2df6c5959726 = L.marker(\n",
       "                [35.848438, 139.882874],\n",
       "                {}\n",
       "            ).addTo(marker_cluster_dee2c8848353f375a5841c9d08b1898d);\n",
       "        \n",
       "    \n",
       "            marker_6c8333b639b6f77bff2b2df6c5959726.bindTooltip(\n",
       "                `&lt;div&gt;\n",
       "                     50歳代\n",
       "                 &lt;/div&gt;`,\n",
       "                {&quot;sticky&quot;: true}\n",
       "            );\n",
       "        \n",
       "    \n",
       "            var marker_3f39ea074ed1d3175a0f267667db022f = L.marker(\n",
       "                [35.848438, 139.882874],\n",
       "                {}\n",
       "            ).addTo(marker_cluster_dee2c8848353f375a5841c9d08b1898d);\n",
       "        \n",
       "    \n",
       "            marker_3f39ea074ed1d3175a0f267667db022f.bindTooltip(\n",
       "                `&lt;div&gt;\n",
       "                     10歳代\n",
       "                 &lt;/div&gt;`,\n",
       "                {&quot;sticky&quot;: true}\n",
       "            );\n",
       "        \n",
       "    \n",
       "            var marker_b835506e6552e77f988d582daddfd6dc = L.marker(\n",
       "                [35.848438, 139.882874],\n",
       "                {}\n",
       "            ).addTo(marker_cluster_dee2c8848353f375a5841c9d08b1898d);\n",
       "        \n",
       "    \n",
       "            marker_b835506e6552e77f988d582daddfd6dc.bindTooltip(\n",
       "                `&lt;div&gt;\n",
       "                     20歳代\n",
       "                 &lt;/div&gt;`,\n",
       "                {&quot;sticky&quot;: true}\n",
       "            );\n",
       "        \n",
       "    \n",
       "            var marker_bb36ebcce09c3c022d313179179ea9ec = L.marker(\n",
       "                [35.851547, 139.888443],\n",
       "                {}\n",
       "            ).addTo(marker_cluster_dee2c8848353f375a5841c9d08b1898d);\n",
       "        \n",
       "    \n",
       "            marker_bb36ebcce09c3c022d313179179ea9ec.bindTooltip(\n",
       "                `&lt;div&gt;\n",
       "                     30歳代\n",
       "                 &lt;/div&gt;`,\n",
       "                {&quot;sticky&quot;: true}\n",
       "            );\n",
       "        \n",
       "    \n",
       "            var marker_1be8fa82b409bd5db8bc021eef50e676 = L.marker(\n",
       "                [35.851547, 139.888443],\n",
       "                {}\n",
       "            ).addTo(marker_cluster_dee2c8848353f375a5841c9d08b1898d);\n",
       "        \n",
       "    \n",
       "            marker_1be8fa82b409bd5db8bc021eef50e676.bindTooltip(\n",
       "                `&lt;div&gt;\n",
       "                     10歳代\n",
       "                 &lt;/div&gt;`,\n",
       "                {&quot;sticky&quot;: true}\n",
       "            );\n",
       "        \n",
       "    \n",
       "            var marker_e8f8c01fe2979af642f0914e55ed84bd = L.marker(\n",
       "                [35.851547, 139.888443],\n",
       "                {}\n",
       "            ).addTo(marker_cluster_dee2c8848353f375a5841c9d08b1898d);\n",
       "        \n",
       "    \n",
       "            marker_e8f8c01fe2979af642f0914e55ed84bd.bindTooltip(\n",
       "                `&lt;div&gt;\n",
       "                     10歳代\n",
       "                 &lt;/div&gt;`,\n",
       "                {&quot;sticky&quot;: true}\n",
       "            );\n",
       "        \n",
       "    \n",
       "            var marker_939df6d4cc7ebc833ac59b4e43ecf20b = L.marker(\n",
       "                [35.851547, 139.888443],\n",
       "                {}\n",
       "            ).addTo(marker_cluster_dee2c8848353f375a5841c9d08b1898d);\n",
       "        \n",
       "    \n",
       "            marker_939df6d4cc7ebc833ac59b4e43ecf20b.bindTooltip(\n",
       "                `&lt;div&gt;\n",
       "                     20歳代\n",
       "                 &lt;/div&gt;`,\n",
       "                {&quot;sticky&quot;: true}\n",
       "            );\n",
       "        \n",
       "    \n",
       "            var marker_8fd767089f1dfed40aeccfc3dd8b16f5 = L.marker(\n",
       "                [35.852173, 139.880951],\n",
       "                {}\n",
       "            ).addTo(marker_cluster_dee2c8848353f375a5841c9d08b1898d);\n",
       "        \n",
       "    \n",
       "            marker_8fd767089f1dfed40aeccfc3dd8b16f5.bindTooltip(\n",
       "                `&lt;div&gt;\n",
       "                     20歳代\n",
       "                 &lt;/div&gt;`,\n",
       "                {&quot;sticky&quot;: true}\n",
       "            );\n",
       "        \n",
       "    \n",
       "            var marker_02b153c724ed00c9f6bea75b68044e86 = L.marker(\n",
       "                [35.852173, 139.880951],\n",
       "                {}\n",
       "            ).addTo(marker_cluster_dee2c8848353f375a5841c9d08b1898d);\n",
       "        \n",
       "    \n",
       "            marker_02b153c724ed00c9f6bea75b68044e86.bindTooltip(\n",
       "                `&lt;div&gt;\n",
       "                     60-64歳\n",
       "                 &lt;/div&gt;`,\n",
       "                {&quot;sticky&quot;: true}\n",
       "            );\n",
       "        \n",
       "    \n",
       "            var marker_7319ede75e8198ff6a2cab8783c324fe = L.marker(\n",
       "                [35.852173, 139.880951],\n",
       "                {}\n",
       "            ).addTo(marker_cluster_dee2c8848353f375a5841c9d08b1898d);\n",
       "        \n",
       "    \n",
       "            marker_7319ede75e8198ff6a2cab8783c324fe.bindTooltip(\n",
       "                `&lt;div&gt;\n",
       "                     70歳以上\n",
       "                 &lt;/div&gt;`,\n",
       "                {&quot;sticky&quot;: true}\n",
       "            );\n",
       "        \n",
       "    \n",
       "            var marker_9e38570c72601769dc548b9aca6a5e87 = L.marker(\n",
       "                [35.85474, 139.881699],\n",
       "                {}\n",
       "            ).addTo(marker_cluster_dee2c8848353f375a5841c9d08b1898d);\n",
       "        \n",
       "    \n",
       "            marker_9e38570c72601769dc548b9aca6a5e87.bindTooltip(\n",
       "                `&lt;div&gt;\n",
       "                     40歳代\n",
       "                 &lt;/div&gt;`,\n",
       "                {&quot;sticky&quot;: true}\n",
       "            );\n",
       "        \n",
       "    \n",
       "            var marker_a997a2fd160fcea32c7a0564de8a1e00 = L.marker(\n",
       "                [35.857166, 139.883575],\n",
       "                {}\n",
       "            ).addTo(marker_cluster_dee2c8848353f375a5841c9d08b1898d);\n",
       "        \n",
       "    \n",
       "            marker_a997a2fd160fcea32c7a0564de8a1e00.bindTooltip(\n",
       "                `&lt;div&gt;\n",
       "                     20歳代\n",
       "                 &lt;/div&gt;`,\n",
       "                {&quot;sticky&quot;: true}\n",
       "            );\n",
       "        \n",
       "    \n",
       "            var marker_8fb688df03eafdf60621d1b39c3437dd = L.marker(\n",
       "                [35.857166, 139.883575],\n",
       "                {}\n",
       "            ).addTo(marker_cluster_dee2c8848353f375a5841c9d08b1898d);\n",
       "        \n",
       "    \n",
       "            marker_8fb688df03eafdf60621d1b39c3437dd.bindTooltip(\n",
       "                `&lt;div&gt;\n",
       "                     10歳未満\n",
       "                 &lt;/div&gt;`,\n",
       "                {&quot;sticky&quot;: true}\n",
       "            );\n",
       "        \n",
       "    \n",
       "            var marker_b20259c1b0cbc31bac1624693c7e3fc0 = L.marker(\n",
       "                [35.857166, 139.883575],\n",
       "                {}\n",
       "            ).addTo(marker_cluster_dee2c8848353f375a5841c9d08b1898d);\n",
       "        \n",
       "    \n",
       "            marker_b20259c1b0cbc31bac1624693c7e3fc0.bindTooltip(\n",
       "                `&lt;div&gt;\n",
       "                     40歳代\n",
       "                 &lt;/div&gt;`,\n",
       "                {&quot;sticky&quot;: true}\n",
       "            );\n",
       "        \n",
       "    \n",
       "            var marker_13bb1e9f94c1cd5fb05aa210d463a18d = L.marker(\n",
       "                [35.857166, 139.883575],\n",
       "                {}\n",
       "            ).addTo(marker_cluster_dee2c8848353f375a5841c9d08b1898d);\n",
       "        \n",
       "    \n",
       "            marker_13bb1e9f94c1cd5fb05aa210d463a18d.bindTooltip(\n",
       "                `&lt;div&gt;\n",
       "                     10歳代\n",
       "                 &lt;/div&gt;`,\n",
       "                {&quot;sticky&quot;: true}\n",
       "            );\n",
       "        \n",
       "    \n",
       "            var marker_5151f8de1523da5333caaf6684a0efaf = L.marker(\n",
       "                [35.857166, 139.883575],\n",
       "                {}\n",
       "            ).addTo(marker_cluster_dee2c8848353f375a5841c9d08b1898d);\n",
       "        \n",
       "    \n",
       "            marker_5151f8de1523da5333caaf6684a0efaf.bindTooltip(\n",
       "                `&lt;div&gt;\n",
       "                     10歳代\n",
       "                 &lt;/div&gt;`,\n",
       "                {&quot;sticky&quot;: true}\n",
       "            );\n",
       "        \n",
       "    \n",
       "            var marker_b7f0a89197653186130fdc094cbeb017 = L.marker(\n",
       "                [35.857166, 139.883575],\n",
       "                {}\n",
       "            ).addTo(marker_cluster_dee2c8848353f375a5841c9d08b1898d);\n",
       "        \n",
       "    \n",
       "            marker_b7f0a89197653186130fdc094cbeb017.bindTooltip(\n",
       "                `&lt;div&gt;\n",
       "                     40歳代\n",
       "                 &lt;/div&gt;`,\n",
       "                {&quot;sticky&quot;: true}\n",
       "            );\n",
       "        \n",
       "    \n",
       "            var marker_65b8cf2b963bc32943edc8e8770122ba = L.marker(\n",
       "                [35.857166, 139.883575],\n",
       "                {}\n",
       "            ).addTo(marker_cluster_dee2c8848353f375a5841c9d08b1898d);\n",
       "        \n",
       "    \n",
       "            marker_65b8cf2b963bc32943edc8e8770122ba.bindTooltip(\n",
       "                `&lt;div&gt;\n",
       "                     50歳代\n",
       "                 &lt;/div&gt;`,\n",
       "                {&quot;sticky&quot;: true}\n",
       "            );\n",
       "        \n",
       "    \n",
       "            var marker_c47d5af77b26cc90f6aff8939e490512 = L.marker(\n",
       "                [35.8563, 139.892166],\n",
       "                {}\n",
       "            ).addTo(marker_cluster_dee2c8848353f375a5841c9d08b1898d);\n",
       "        \n",
       "    \n",
       "            marker_c47d5af77b26cc90f6aff8939e490512.bindTooltip(\n",
       "                `&lt;div&gt;\n",
       "                     10歳代\n",
       "                 &lt;/div&gt;`,\n",
       "                {&quot;sticky&quot;: true}\n",
       "            );\n",
       "        \n",
       "    \n",
       "            var marker_89d33945194cfcc8d2cb8a05556185cb = L.marker(\n",
       "                [35.8563, 139.892166],\n",
       "                {}\n",
       "            ).addTo(marker_cluster_dee2c8848353f375a5841c9d08b1898d);\n",
       "        \n",
       "    \n",
       "            marker_89d33945194cfcc8d2cb8a05556185cb.bindTooltip(\n",
       "                `&lt;div&gt;\n",
       "                     10歳代\n",
       "                 &lt;/div&gt;`,\n",
       "                {&quot;sticky&quot;: true}\n",
       "            );\n",
       "        \n",
       "    \n",
       "            var marker_dbb998c87863bdd5ca639604cd648d54 = L.marker(\n",
       "                [35.859474, 139.885574],\n",
       "                {}\n",
       "            ).addTo(marker_cluster_dee2c8848353f375a5841c9d08b1898d);\n",
       "        \n",
       "    \n",
       "            marker_dbb998c87863bdd5ca639604cd648d54.bindTooltip(\n",
       "                `&lt;div&gt;\n",
       "                     70歳以上\n",
       "                 &lt;/div&gt;`,\n",
       "                {&quot;sticky&quot;: true}\n",
       "            );\n",
       "        \n",
       "    \n",
       "            var marker_0bb1eaa2f114ce8231938f7dff877a68 = L.marker(\n",
       "                [35.859474, 139.885574],\n",
       "                {}\n",
       "            ).addTo(marker_cluster_dee2c8848353f375a5841c9d08b1898d);\n",
       "        \n",
       "    \n",
       "            marker_0bb1eaa2f114ce8231938f7dff877a68.bindTooltip(\n",
       "                `&lt;div&gt;\n",
       "                     40歳代\n",
       "                 &lt;/div&gt;`,\n",
       "                {&quot;sticky&quot;: true}\n",
       "            );\n",
       "        \n",
       "    \n",
       "            var marker_0941a6b3c71a426e26f77e0add1c967c = L.marker(\n",
       "                [35.841259, 139.886047],\n",
       "                {}\n",
       "            ).addTo(marker_cluster_dee2c8848353f375a5841c9d08b1898d);\n",
       "        \n",
       "    \n",
       "            marker_0941a6b3c71a426e26f77e0add1c967c.bindTooltip(\n",
       "                `&lt;div&gt;\n",
       "                     10歳代\n",
       "                 &lt;/div&gt;`,\n",
       "                {&quot;sticky&quot;: true}\n",
       "            );\n",
       "        \n",
       "    \n",
       "            var marker_1ed9e31eb52f382433f5ab8ca1db1545 = L.marker(\n",
       "                [35.841259, 139.886047],\n",
       "                {}\n",
       "            ).addTo(marker_cluster_dee2c8848353f375a5841c9d08b1898d);\n",
       "        \n",
       "    \n",
       "            marker_1ed9e31eb52f382433f5ab8ca1db1545.bindTooltip(\n",
       "                `&lt;div&gt;\n",
       "                     50歳代\n",
       "                 &lt;/div&gt;`,\n",
       "                {&quot;sticky&quot;: true}\n",
       "            );\n",
       "        \n",
       "    \n",
       "            var marker_bef06ab3598f3c3ec9d5a5172d0ed331 = L.marker(\n",
       "                [35.841259, 139.886047],\n",
       "                {}\n",
       "            ).addTo(marker_cluster_dee2c8848353f375a5841c9d08b1898d);\n",
       "        \n",
       "    \n",
       "            marker_bef06ab3598f3c3ec9d5a5172d0ed331.bindTooltip(\n",
       "                `&lt;div&gt;\n",
       "                     40歳代\n",
       "                 &lt;/div&gt;`,\n",
       "                {&quot;sticky&quot;: true}\n",
       "            );\n",
       "        \n",
       "    \n",
       "            var marker_76e08c32998fcd42adac5801d9ff68ec = L.marker(\n",
       "                [35.841259, 139.886047],\n",
       "                {}\n",
       "            ).addTo(marker_cluster_dee2c8848353f375a5841c9d08b1898d);\n",
       "        \n",
       "    \n",
       "            marker_76e08c32998fcd42adac5801d9ff68ec.bindTooltip(\n",
       "                `&lt;div&gt;\n",
       "                     10歳代\n",
       "                 &lt;/div&gt;`,\n",
       "                {&quot;sticky&quot;: true}\n",
       "            );\n",
       "        \n",
       "    \n",
       "            var marker_92d4cdad8effd102a76ca496ead1089b = L.marker(\n",
       "                [35.841259, 139.886047],\n",
       "                {}\n",
       "            ).addTo(marker_cluster_dee2c8848353f375a5841c9d08b1898d);\n",
       "        \n",
       "    \n",
       "            marker_92d4cdad8effd102a76ca496ead1089b.bindTooltip(\n",
       "                `&lt;div&gt;\n",
       "                     20歳代\n",
       "                 &lt;/div&gt;`,\n",
       "                {&quot;sticky&quot;: true}\n",
       "            );\n",
       "        \n",
       "    \n",
       "            var marker_0af1fa38788a29d22174bbe398954901 = L.marker(\n",
       "                [35.841259, 139.886047],\n",
       "                {}\n",
       "            ).addTo(marker_cluster_dee2c8848353f375a5841c9d08b1898d);\n",
       "        \n",
       "    \n",
       "            marker_0af1fa38788a29d22174bbe398954901.bindTooltip(\n",
       "                `&lt;div&gt;\n",
       "                     10歳代\n",
       "                 &lt;/div&gt;`,\n",
       "                {&quot;sticky&quot;: true}\n",
       "            );\n",
       "        \n",
       "    \n",
       "            var marker_338304c12a459de58bbb776dd82efb59 = L.marker(\n",
       "                [35.841259, 139.886047],\n",
       "                {}\n",
       "            ).addTo(marker_cluster_dee2c8848353f375a5841c9d08b1898d);\n",
       "        \n",
       "    \n",
       "            marker_338304c12a459de58bbb776dd82efb59.bindTooltip(\n",
       "                `&lt;div&gt;\n",
       "                     10歳代\n",
       "                 &lt;/div&gt;`,\n",
       "                {&quot;sticky&quot;: true}\n",
       "            );\n",
       "        \n",
       "    \n",
       "            var marker_60e6454dbf3d2776a375aa67c86b5fd5 = L.marker(\n",
       "                [35.841259, 139.886047],\n",
       "                {}\n",
       "            ).addTo(marker_cluster_dee2c8848353f375a5841c9d08b1898d);\n",
       "        \n",
       "    \n",
       "            marker_60e6454dbf3d2776a375aa67c86b5fd5.bindTooltip(\n",
       "                `&lt;div&gt;\n",
       "                     10歳代\n",
       "                 &lt;/div&gt;`,\n",
       "                {&quot;sticky&quot;: true}\n",
       "            );\n",
       "        \n",
       "    \n",
       "            var marker_f215c56c3b19fa8c8221c3171093cb1c = L.marker(\n",
       "                [35.841259, 139.886047],\n",
       "                {}\n",
       "            ).addTo(marker_cluster_dee2c8848353f375a5841c9d08b1898d);\n",
       "        \n",
       "    \n",
       "            marker_f215c56c3b19fa8c8221c3171093cb1c.bindTooltip(\n",
       "                `&lt;div&gt;\n",
       "                     50歳代\n",
       "                 &lt;/div&gt;`,\n",
       "                {&quot;sticky&quot;: true}\n",
       "            );\n",
       "        \n",
       "    \n",
       "            var marker_b1305e494d8c84467abf703c7f103a31 = L.marker(\n",
       "                [35.841259, 139.886047],\n",
       "                {}\n",
       "            ).addTo(marker_cluster_dee2c8848353f375a5841c9d08b1898d);\n",
       "        \n",
       "    \n",
       "            marker_b1305e494d8c84467abf703c7f103a31.bindTooltip(\n",
       "                `&lt;div&gt;\n",
       "                     70歳以上\n",
       "                 &lt;/div&gt;`,\n",
       "                {&quot;sticky&quot;: true}\n",
       "            );\n",
       "        \n",
       "    \n",
       "            var marker_cd88116cf34aacba9f5aa7d78174db82 = L.marker(\n",
       "                [35.841259, 139.886047],\n",
       "                {}\n",
       "            ).addTo(marker_cluster_dee2c8848353f375a5841c9d08b1898d);\n",
       "        \n",
       "    \n",
       "            marker_cd88116cf34aacba9f5aa7d78174db82.bindTooltip(\n",
       "                `&lt;div&gt;\n",
       "                     10歳代\n",
       "                 &lt;/div&gt;`,\n",
       "                {&quot;sticky&quot;: true}\n",
       "            );\n",
       "        \n",
       "    \n",
       "            var marker_122c2b8f77b10f9ab421167a5302a607 = L.marker(\n",
       "                [35.843811, 139.883957],\n",
       "                {}\n",
       "            ).addTo(marker_cluster_dee2c8848353f375a5841c9d08b1898d);\n",
       "        \n",
       "    \n",
       "            marker_122c2b8f77b10f9ab421167a5302a607.bindTooltip(\n",
       "                `&lt;div&gt;\n",
       "                     10歳代\n",
       "                 &lt;/div&gt;`,\n",
       "                {&quot;sticky&quot;: true}\n",
       "            );\n",
       "        \n",
       "    \n",
       "            var marker_dad4778a8830e2503d6bdca488758943 = L.marker(\n",
       "                [35.843811, 139.883957],\n",
       "                {}\n",
       "            ).addTo(marker_cluster_dee2c8848353f375a5841c9d08b1898d);\n",
       "        \n",
       "    \n",
       "            marker_dad4778a8830e2503d6bdca488758943.bindTooltip(\n",
       "                `&lt;div&gt;\n",
       "                     20歳代\n",
       "                 &lt;/div&gt;`,\n",
       "                {&quot;sticky&quot;: true}\n",
       "            );\n",
       "        \n",
       "    \n",
       "            var marker_9a73babec19be8a20ce367137513083b = L.marker(\n",
       "                [35.843811, 139.883957],\n",
       "                {}\n",
       "            ).addTo(marker_cluster_dee2c8848353f375a5841c9d08b1898d);\n",
       "        \n",
       "    \n",
       "            marker_9a73babec19be8a20ce367137513083b.bindTooltip(\n",
       "                `&lt;div&gt;\n",
       "                     20歳代\n",
       "                 &lt;/div&gt;`,\n",
       "                {&quot;sticky&quot;: true}\n",
       "            );\n",
       "        \n",
       "    \n",
       "            var marker_8e4b80a3a0e864ac9bb008232c69119e = L.marker(\n",
       "                [35.843811, 139.883957],\n",
       "                {}\n",
       "            ).addTo(marker_cluster_dee2c8848353f375a5841c9d08b1898d);\n",
       "        \n",
       "    \n",
       "            marker_8e4b80a3a0e864ac9bb008232c69119e.bindTooltip(\n",
       "                `&lt;div&gt;\n",
       "                     50歳代\n",
       "                 &lt;/div&gt;`,\n",
       "                {&quot;sticky&quot;: true}\n",
       "            );\n",
       "        \n",
       "    \n",
       "            var marker_758471da309f0fbb8a10adf7c4c76e3b = L.marker(\n",
       "                [35.843811, 139.883957],\n",
       "                {}\n",
       "            ).addTo(marker_cluster_dee2c8848353f375a5841c9d08b1898d);\n",
       "        \n",
       "    \n",
       "            marker_758471da309f0fbb8a10adf7c4c76e3b.bindTooltip(\n",
       "                `&lt;div&gt;\n",
       "                     20歳代\n",
       "                 &lt;/div&gt;`,\n",
       "                {&quot;sticky&quot;: true}\n",
       "            );\n",
       "        \n",
       "    \n",
       "            var marker_bb3d2aa3779300316089c5b795b7b1dd = L.marker(\n",
       "                [35.846275, 139.880676],\n",
       "                {}\n",
       "            ).addTo(marker_cluster_dee2c8848353f375a5841c9d08b1898d);\n",
       "        \n",
       "    \n",
       "            marker_bb3d2aa3779300316089c5b795b7b1dd.bindTooltip(\n",
       "                `&lt;div&gt;\n",
       "                     40歳代\n",
       "                 &lt;/div&gt;`,\n",
       "                {&quot;sticky&quot;: true}\n",
       "            );\n",
       "        \n",
       "    \n",
       "            var marker_59e520b0684138a9fbcff3383edd294d = L.marker(\n",
       "                [35.846275, 139.880676],\n",
       "                {}\n",
       "            ).addTo(marker_cluster_dee2c8848353f375a5841c9d08b1898d);\n",
       "        \n",
       "    \n",
       "            marker_59e520b0684138a9fbcff3383edd294d.bindTooltip(\n",
       "                `&lt;div&gt;\n",
       "                     20歳代\n",
       "                 &lt;/div&gt;`,\n",
       "                {&quot;sticky&quot;: true}\n",
       "            );\n",
       "        \n",
       "    \n",
       "            var marker_b7f01876693f74707e335992932d85d8 = L.marker(\n",
       "                [35.846275, 139.880676],\n",
       "                {}\n",
       "            ).addTo(marker_cluster_dee2c8848353f375a5841c9d08b1898d);\n",
       "        \n",
       "    \n",
       "            marker_b7f01876693f74707e335992932d85d8.bindTooltip(\n",
       "                `&lt;div&gt;\n",
       "                     30歳代\n",
       "                 &lt;/div&gt;`,\n",
       "                {&quot;sticky&quot;: true}\n",
       "            );\n",
       "        \n",
       "    \n",
       "            var marker_a44e1f287da29ed8b378b8ac0f09e8c0 = L.marker(\n",
       "                [35.851986, 139.875519],\n",
       "                {}\n",
       "            ).addTo(marker_cluster_dee2c8848353f375a5841c9d08b1898d);\n",
       "        \n",
       "    \n",
       "            marker_a44e1f287da29ed8b378b8ac0f09e8c0.bindTooltip(\n",
       "                `&lt;div&gt;\n",
       "                     10歳代\n",
       "                 &lt;/div&gt;`,\n",
       "                {&quot;sticky&quot;: true}\n",
       "            );\n",
       "        \n",
       "    \n",
       "            marker_cluster_dee2c8848353f375a5841c9d08b1898d.addTo(map_9fc3a721d8db8f637f58a34d972d268d);\n",
       "        \n",
       "&lt;/script&gt;\n",
       "&lt;/html&gt;\" style=\"position:absolute;width:100%;height:100%;left:0;top:0;border:none !important;\" allowfullscreen webkitallowfullscreen mozallowfullscreen></iframe></div></div>"
      ],
      "text/plain": [
       "<folium.folium.Map at 0x1353a7410>"
      ]
     },
     "execution_count": 40,
     "metadata": {},
     "output_type": "execute_result"
    }
   ],
   "source": [
    "from folium.plugins import HeatMap\n",
    "\n",
    "# make the map\n",
    "m = folium.Map(location=[center_lat,center_lon], \n",
    "               zoom_start=12,\n",
    "               tiles='cartodbdark_matter')\n",
    "\n",
    "# add the heatmap\n",
    "HeatMap(\n",
    "    data = heatmap_lat_lon,\n",
    "    radius=15,    \n",
    ").add_to(m)\n",
    "\n",
    "# マーカーがメチャクチャ多い場合はclusterで処理！\n",
    "marker_cluster = plugins.MarkerCluster().add_to(m)\n",
    "\n",
    "# kashiwaのデータフレームをループしてマーカーを作る\n",
    "for index, row in misato.iterrows():\n",
    "    latlon = [row['lat'],row['lon']]\n",
    "    folium.Marker(latlon, \n",
    "                  tooltip=row['被害者の年齢'],\n",
    "                ).add_to(marker_cluster) # mapにではなくmarker_clusterに足す\n",
    "\n",
    "# show the map\n",
    "m"
   ]
  },
  {
   "cell_type": "markdown",
   "metadata": {},
   "source": [
    "### 気づいたこと　"
   ]
  },
  {
   "cell_type": "markdown",
   "metadata": {},
   "source": [
    "今回は自分が住んでいる三郷市がどのように自転車の盗難があるかデータを集め、ジオコーディングをした。\n",
    "駅には自転車を停める場所や店の前で自転車を停める人がいるので、自転車の盗難が最も多く起きているエリアだということがマップを通して分かった。\n",
    "そして、データでは学生は学校が終わった後の帰宅時間に盗難被害に遭いやすく、学生以外の社会人は夜や朝方が多いということが分かった。\n",
    "データだけでも、年齢や時間があれば、どういう人がどういう行動を起こしているのかが想像しやすいと感じた。　"
   ]
  },
  {
   "cell_type": "markdown",
   "metadata": {},
   "source": []
  }
 ],
 "metadata": {
  "kernelspec": {
   "display_name": "gis",
   "language": "python",
   "name": "python3"
  },
  "language_info": {
   "codemirror_mode": {
    "name": "ipython",
    "version": 3
   },
   "file_extension": ".py",
   "mimetype": "text/x-python",
   "name": "python",
   "nbconvert_exporter": "python",
   "pygments_lexer": "ipython3",
   "version": "3.11.5"
  }
 },
 "nbformat": 4,
 "nbformat_minor": 2
}

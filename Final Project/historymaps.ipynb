{
 "cells": [
  {
   "cell_type": "markdown",
   "metadata": {},
   "source": [
    "# Historical imagery gallery\n",
    "\n",
    "https://leafmap.org/notebooks/00_key_features/"
   ]
  },
  {
   "cell_type": "markdown",
   "metadata": {},
   "source": [
    "## leafmapのインストール\n",
    "\n",
    "### PC:\n",
    "\n",
    "Anaconda promptを開き次のコマンドを実行：\n",
    "\n",
    "`conda activate gis`\n",
    "\n",
    "`pip install leafmap`\n",
    "\n",
    "### MAC:\n",
    "\n",
    "Terminalを開いて次のコマンドを実行：\n",
    "\n",
    "`conda activate gis`\n",
    "\n",
    "`pip install leafmap`\n",
    "\n"
   ]
  },
  {
   "cell_type": "code",
   "execution_count": 1,
   "metadata": {},
   "outputs": [],
   "source": [
    "# leafmapをインポート\n",
    "import leafmap"
   ]
  },
  {
   "cell_type": "code",
   "execution_count": 6,
   "metadata": {},
   "outputs": [
    {
     "data": {
      "application/vnd.jupyter.widget-view+json": {
       "model_id": "6ea8ebbcf08146a6bed657af305fb21e",
       "version_major": 2,
       "version_minor": 0
      },
      "text/plain": [
       "GridspecLayout(children=(Output(layout=Layout(grid_area='widget001')), Output(layout=Layout(grid_area='widget0…"
      ]
     },
     "execution_count": 6,
     "metadata": {},
     "output_type": "execute_result"
    }
   ],
   "source": [
    "# 広島市の緯度経度を指定\n",
    "hiroshima = [34.3853, 132.4553]\n",
    "\n",
    "# ベースマップを指定\n",
    "layers = ['https://cyberjapandata.gsi.go.jp/xyz/ort_USA10/{z}/{x}/{y}.png',\n",
    "        'https://cyberjapandata.gsi.go.jp/xyz/ort_old10/{z}/{x}/{y}.png', \n",
    "        'https://cyberjapandata.gsi.go.jp/xyz/gazo2/{z}/{x}/{y}.jpg', \n",
    "        # 'https://cyberjapandata.gsi.go.jp/xyz/seamlessphoto/{z}/{x}/{y}.jpg',\n",
    "        'https://mt1.google.com/vt/lyrs=y&x={x}&y={y}&z={z}', # google satellite\n",
    "        'https://mapps.gsi.go.jp/maplibSearch.do?specificationId=882011/{z}/{x}/{y}.jpg']\n",
    "# ラベルを指定\n",
    "labels = ['1945','1961','1979','2023']\n",
    "\n",
    "# マップを作成\n",
    "m = leafmap.linked_maps(\n",
    "    rows=1, \n",
    "    cols=4, \n",
    "    height='400px', \n",
    "    layers=layers, \n",
    "    center=hiroshima, \n",
    "    zoom_control=False,\n",
    "    search_control=False,\n",
    "    scale_control=False,\n",
    "    attribution_control=False,\n",
    "    zoom=15,\n",
    "    labels=labels,)\n",
    "\n",
    "m"
   ]
  },
  {
   "cell_type": "code",
   "execution_count": null,
   "metadata": {},
   "outputs": [],
   "source": [
    "# make the map\n",
    "m = folium.Map(location=[center_lat,center_lon],\n",
    "               zoom_start=15,\n",
    "               attr = '国土地理院')\n",
    "\n",
    "# add basemaps\n",
    "folium.TileLayer(name='1945',tiles='https://cyberjapandata.gsi.go.jp/xyz/ort_USA10/{z}/{x}/{y}.png',attr='国土地理院').add_to(m)\n",
    "\n",
    "# df をループしてマーカーを作る\n",
    "for index, row in df.iterrows():\n",
    "    latlon = [row['latitude'],row['longitude']]\n",
    "    folium.Marker(latlon, \n",
    "                  tooltip=row['name'],\n",
    "                  icon=folium.Icon(color=row['color']\n",
    "                )).add_to(m)\n",
    "\n",
    "# show the map\n",
    "m"
   ]
  },
  {
   "cell_type": "code",
   "execution_count": 3,
   "metadata": {},
   "outputs": [
    {
     "data": {
      "application/vnd.jupyter.widget-view+json": {
       "model_id": "b6fc0661fe054f58a8a44f277e1c6137",
       "version_major": 2,
       "version_minor": 0
      },
      "text/plain": [
       "Map(center=[34.3853, 132.4553], controls=(ZoomControl(options=['position', 'zoom_in_text', 'zoom_in_title', 'z…"
      ]
     },
     "execution_count": 3,
     "metadata": {},
     "output_type": "execute_result"
    }
   ],
   "source": [
    "hiroshima = [34.3853, 132.4553]\n",
    "m = leafmap.split_map(\n",
    "    left_layer=\"https://cyberjapandata.gsi.go.jp/xyz/ort_USA10/{z}/{x}/{y}.png\",\n",
    "    right_layer=\"https://cyberjapandata.gsi.go.jp/xyz/seamlessphoto/{z}/{x}/{y}.jpg\",\n",
    "    left_label=\"1945\",\n",
    "    right_label=\"2016\",\n",
    "    left_position=\"bottom\",\n",
    "    center=hiroshima,\n",
    "    attribution_control=False,\n",
    "    zoom=16,\n",
    ")\n",
    "m"
   ]
  }
 ],
 "metadata": {
  "kernelspec": {
   "display_name": "geos",
   "language": "python",
   "name": "python3"
  },
  "language_info": {
   "codemirror_mode": {
    "name": "ipython",
    "version": 3
   },
   "file_extension": ".py",
   "mimetype": "text/x-python",
   "name": "python",
   "nbconvert_exporter": "python",
   "pygments_lexer": "ipython3",
   "version": "3.11.5"
  }
 },
 "nbformat": 4,
 "nbformat_minor": 2
}

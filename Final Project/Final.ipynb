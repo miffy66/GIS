{
 "cells": [
  {
   "cell_type": "markdown",
   "metadata": {},
   "source": [
    "# 復興 Map -広島原爆投下後の1945年から現在までどのように復興したのか**Leaf Map** 使って見てみよう-"
   ]
  },
  {
   "cell_type": "code",
   "execution_count": 1,
   "metadata": {},
   "outputs": [],
   "source": [
    "import leafmap"
   ]
  },
  {
   "cell_type": "code",
   "execution_count": 2,
   "metadata": {},
   "outputs": [],
   "source": [
    "# library import\n",
    "import pandas as pd\n",
    "import folium\n",
    "import matplotlib.pyplot as plt"
   ]
  },
  {
   "cell_type": "code",
   "execution_count": 3,
   "metadata": {},
   "outputs": [],
   "source": [
    "# import the csv file\n",
    "df = pd.read_csv('Hiroshimanewdata3.csv')"
   ]
  },
  {
   "cell_type": "code",
   "execution_count": 4,
   "metadata": {},
   "outputs": [
    {
     "data": {
      "text/html": [
       "<div>\n",
       "<style scoped>\n",
       "    .dataframe tbody tr th:only-of-type {\n",
       "        vertical-align: middle;\n",
       "    }\n",
       "\n",
       "    .dataframe tbody tr th {\n",
       "        vertical-align: top;\n",
       "    }\n",
       "\n",
       "    .dataframe thead th {\n",
       "        text-align: right;\n",
       "    }\n",
       "</style>\n",
       "<table border=\"1\" class=\"dataframe\">\n",
       "  <thead>\n",
       "    <tr style=\"text-align: right;\">\n",
       "      <th></th>\n",
       "      <th>name</th>\n",
       "      <th>latitude</th>\n",
       "      <th>longitude</th>\n",
       "      <th>color</th>\n",
       "    </tr>\n",
       "  </thead>\n",
       "  <tbody>\n",
       "    <tr>\n",
       "      <th>0</th>\n",
       "      <td>爆心地</td>\n",
       "      <td>34.395446</td>\n",
       "      <td>132.455053</td>\n",
       "      <td>red</td>\n",
       "    </tr>\n",
       "    <tr>\n",
       "      <th>1</th>\n",
       "      <td>基町（原爆スラム/応急住宅）</td>\n",
       "      <td>34.398822</td>\n",
       "      <td>132.455094</td>\n",
       "      <td>green</td>\n",
       "    </tr>\n",
       "    <tr>\n",
       "      <th>2</th>\n",
       "      <td>原爆スラム（応急住宅）</td>\n",
       "      <td>34.403618</td>\n",
       "      <td>132.455518</td>\n",
       "      <td>lightgreen</td>\n",
       "    </tr>\n",
       "    <tr>\n",
       "      <th>3</th>\n",
       "      <td>旧広島市民球場</td>\n",
       "      <td>34.397163</td>\n",
       "      <td>132.455283</td>\n",
       "      <td>lightgreen</td>\n",
       "    </tr>\n",
       "    <tr>\n",
       "      <th>4</th>\n",
       "      <td>広島城 天守閣</td>\n",
       "      <td>34.402852</td>\n",
       "      <td>132.459184</td>\n",
       "      <td>blue</td>\n",
       "    </tr>\n",
       "  </tbody>\n",
       "</table>\n",
       "</div>"
      ],
      "text/plain": [
       "             name   latitude   longitude       color\n",
       "0             爆心地  34.395446  132.455053         red\n",
       "1  基町（原爆スラム/応急住宅）  34.398822  132.455094       green\n",
       "2     原爆スラム（応急住宅）  34.403618  132.455518  lightgreen\n",
       "3         旧広島市民球場  34.397163  132.455283  lightgreen\n",
       "4         広島城 天守閣  34.402852  132.459184        blue"
      ]
     },
     "execution_count": 4,
     "metadata": {},
     "output_type": "execute_result"
    }
   ],
   "source": [
    "df "
   ]
  },
  {
   "cell_type": "code",
   "execution_count": 5,
   "metadata": {},
   "outputs": [
    {
     "data": {
      "text/plain": [
       "(5, 4)"
      ]
     },
     "execution_count": 5,
     "metadata": {},
     "output_type": "execute_result"
    }
   ],
   "source": [
    "# size of the data (rows, columns)\n",
    "df.shape"
   ]
  },
  {
   "cell_type": "code",
   "execution_count": 6,
   "metadata": {},
   "outputs": [
    {
     "name": "stdout",
     "output_type": "stream",
     "text": [
      "<class 'pandas.core.frame.DataFrame'>\n",
      "RangeIndex: 5 entries, 0 to 4\n",
      "Data columns (total 4 columns):\n",
      " #   Column     Non-Null Count  Dtype  \n",
      "---  ------     --------------  -----  \n",
      " 0   name       5 non-null      object \n",
      " 1   latitude   5 non-null      float64\n",
      " 2   longitude  5 non-null      float64\n",
      " 3   color      5 non-null      object \n",
      "dtypes: float64(2), object(2)\n",
      "memory usage: 292.0+ bytes\n"
     ]
    }
   ],
   "source": [
    "# information about the data\n",
    "df.info()"
   ]
  },
  {
   "cell_type": "code",
   "execution_count": 7,
   "metadata": {},
   "outputs": [
    {
     "data": {
      "text/plain": [
       "['name', 'latitude', 'longitude', 'color']"
      ]
     },
     "execution_count": 7,
     "metadata": {},
     "output_type": "execute_result"
    }
   ],
   "source": [
    "df.columns.to_list()"
   ]
  },
  {
   "cell_type": "code",
   "execution_count": 8,
   "metadata": {},
   "outputs": [
    {
     "data": {
      "text/html": [
       "<div>\n",
       "<style scoped>\n",
       "    .dataframe tbody tr th:only-of-type {\n",
       "        vertical-align: middle;\n",
       "    }\n",
       "\n",
       "    .dataframe tbody tr th {\n",
       "        vertical-align: top;\n",
       "    }\n",
       "\n",
       "    .dataframe thead th {\n",
       "        text-align: right;\n",
       "    }\n",
       "</style>\n",
       "<table border=\"1\" class=\"dataframe\">\n",
       "  <thead>\n",
       "    <tr style=\"text-align: right;\">\n",
       "      <th></th>\n",
       "      <th>name</th>\n",
       "      <th>latitude</th>\n",
       "      <th>longitude</th>\n",
       "    </tr>\n",
       "  </thead>\n",
       "  <tbody>\n",
       "    <tr>\n",
       "      <th>0</th>\n",
       "      <td>爆心地</td>\n",
       "      <td>34.395446</td>\n",
       "      <td>132.455053</td>\n",
       "    </tr>\n",
       "    <tr>\n",
       "      <th>1</th>\n",
       "      <td>基町（原爆スラム/応急住宅）</td>\n",
       "      <td>34.398822</td>\n",
       "      <td>132.455094</td>\n",
       "    </tr>\n",
       "    <tr>\n",
       "      <th>2</th>\n",
       "      <td>原爆スラム（応急住宅）</td>\n",
       "      <td>34.403618</td>\n",
       "      <td>132.455518</td>\n",
       "    </tr>\n",
       "    <tr>\n",
       "      <th>3</th>\n",
       "      <td>旧広島市民球場</td>\n",
       "      <td>34.397163</td>\n",
       "      <td>132.455283</td>\n",
       "    </tr>\n",
       "    <tr>\n",
       "      <th>4</th>\n",
       "      <td>広島城 天守閣</td>\n",
       "      <td>34.402852</td>\n",
       "      <td>132.459184</td>\n",
       "    </tr>\n",
       "  </tbody>\n",
       "</table>\n",
       "</div>"
      ],
      "text/plain": [
       "             name   latitude   longitude\n",
       "0             爆心地  34.395446  132.455053\n",
       "1  基町（原爆スラム/応急住宅）  34.398822  132.455094\n",
       "2     原爆スラム（応急住宅）  34.403618  132.455518\n",
       "3         旧広島市民球場  34.397163  132.455283\n",
       "4         広島城 天守閣  34.402852  132.459184"
      ]
     },
     "execution_count": 8,
     "metadata": {},
     "output_type": "execute_result"
    }
   ],
   "source": [
    "df[['name','latitude','longitude']]"
   ]
  },
  {
   "cell_type": "code",
   "execution_count": 9,
   "metadata": {},
   "outputs": [
    {
     "data": {
      "text/plain": [
       "0    132.455053\n",
       "1    132.455094\n",
       "2    132.455518\n",
       "3    132.455283\n",
       "4    132.459184\n",
       "Name: longitude, dtype: float64"
      ]
     },
     "execution_count": 9,
     "metadata": {},
     "output_type": "execute_result"
    }
   ],
   "source": [
    "df['longitude']"
   ]
  },
  {
   "cell_type": "code",
   "execution_count": 10,
   "metadata": {},
   "outputs": [
    {
     "data": {
      "text/plain": [
       "[34.39544552, 34.39882171, 34.40361827, 34.39716287, 34.40285186]"
      ]
     },
     "execution_count": 10,
     "metadata": {},
     "output_type": "execute_result"
    }
   ],
   "source": [
    "df['latitude'].to_list()"
   ]
  },
  {
   "cell_type": "code",
   "execution_count": 11,
   "metadata": {},
   "outputs": [
    {
     "data": {
      "text/plain": [
       "<Axes: >"
      ]
     },
     "execution_count": 11,
     "metadata": {},
     "output_type": "execute_result"
    },
    {
     "data": {
      "image/png": "[encoded data removed]",
      "text/plain": [
       "<Figure size 640x480 with 1 Axes>"
      ]
     },
     "metadata": {},
     "output_type": "display_data"
    }
   ],
   "source": [
    "# line chart\n",
    "df['latitude'].plot()"
   ]
  },
  {
   "cell_type": "code",
   "execution_count": 12,
   "metadata": {},
   "outputs": [
    {
     "data": {
      "text/plain": [
       "<Axes: >"
      ]
     },
     "execution_count": 12,
     "metadata": {},
     "output_type": "execute_result"
    },
    {
     "data": {
      "image/png": "[encoded data removed]",
      "text/plain": [
       "<Figure size 640x480 with 1 Axes>"
      ]
     },
     "metadata": {},
     "output_type": "display_data"
    }
   ],
   "source": [
    "# boxplot 箱ヒゲ図\n",
    "df['latitude'].plot.box(color='red')"
   ]
  },
  {
   "cell_type": "code",
   "execution_count": 13,
   "metadata": {},
   "outputs": [
    {
     "data": {
      "text/plain": [
       "<Axes: >"
      ]
     },
     "execution_count": 13,
     "metadata": {},
     "output_type": "execute_result"
    },
    {
     "data": {
      "image/png": "[encoded data removed]",
      "text/plain": [
       "<Figure size 640x480 with 1 Axes>"
      ]
     },
     "metadata": {},
     "output_type": "display_data"
    }
   ],
   "source": [
    "# bar graph\n",
    "df['latitude'].plot.bar(color='green')"
   ]
  },
  {
   "cell_type": "code",
   "execution_count": 14,
   "metadata": {},
   "outputs": [
    {
     "data": {
      "text/plain": [
       "<Axes: xlabel='longitude', ylabel='latitude'>"
      ]
     },
     "execution_count": 14,
     "metadata": {},
     "output_type": "execute_result"
    },
    {
     "data": {
      "image/png": "[encoded data removed]",
      "text/plain": [
       "<Figure size 640x480 with 1 Axes>"
      ]
     },
     "metadata": {},
     "output_type": "display_data"
    }
   ],
   "source": [
    "df.plot.scatter(x='longitude',y='latitude',c='color',s=60)"
   ]
  },
  {
   "cell_type": "code",
   "execution_count": 15,
   "metadata": {},
   "outputs": [
    {
     "data": {
      "text/plain": [
       "count     5.000000\n",
       "mean     34.399580\n",
       "std       0.003554\n",
       "min      34.395446\n",
       "25%      34.397163\n",
       "50%      34.398822\n",
       "75%      34.402852\n",
       "max      34.403618\n",
       "Name: latitude, dtype: float64"
      ]
     },
     "execution_count": 15,
     "metadata": {},
     "output_type": "execute_result"
    }
   ],
   "source": [
    "df['latitude'].describe()"
   ]
  },
  {
   "cell_type": "code",
   "execution_count": 16,
   "metadata": {},
   "outputs": [
    {
     "data": {
      "text/plain": [
       "count      5.000000\n",
       "mean     132.456026\n",
       "std        0.001775\n",
       "min      132.455053\n",
       "25%      132.455094\n",
       "50%      132.455283\n",
       "75%      132.455518\n",
       "max      132.459184\n",
       "Name: longitude, dtype: float64"
      ]
     },
     "execution_count": 16,
     "metadata": {},
     "output_type": "execute_result"
    }
   ],
   "source": [
    "df['longitude'].describe()"
   ]
  },
  {
   "cell_type": "code",
   "execution_count": 17,
   "metadata": {},
   "outputs": [
    {
     "data": {
      "text/plain": [
       "34.399580046000004"
      ]
     },
     "execution_count": 17,
     "metadata": {},
     "output_type": "execute_result"
    }
   ],
   "source": [
    "# mean 平均値\n",
    "df['latitude'].mean()"
   ]
  },
  {
   "cell_type": "code",
   "execution_count": 18,
   "metadata": {},
   "outputs": [
    {
     "data": {
      "text/plain": [
       "34.39882171"
      ]
     },
     "execution_count": 18,
     "metadata": {},
     "output_type": "execute_result"
    }
   ],
   "source": [
    "# median 中央値\n",
    "df['latitude'].median()"
   ]
  },
  {
   "cell_type": "code",
   "execution_count": 19,
   "metadata": {},
   "outputs": [
    {
     "name": "stdout",
     "output_type": "stream",
     "text": [
      "34.399580046000004 132.45602648\n"
     ]
    }
   ],
   "source": [
    "center_lat = df['latitude'].mean()\n",
    "center_lon = df['longitude'].mean()\n",
    "\n",
    "print(center_lat,center_lon)"
   ]
  },
  {
   "cell_type": "code",
   "execution_count": 20,
   "metadata": {},
   "outputs": [
    {
     "name": "stdout",
     "output_type": "stream",
     "text": [
      "爆心地 34.39544552\n",
      "基町（原爆スラム/応急住宅） 34.39882171\n",
      "原爆スラム（応急住宅） 34.40361827\n",
      "旧広島市民球場 34.39716287\n",
      "広島城 天守閣 34.40285186\n"
     ]
    }
   ],
   "source": [
    "for index, row in df.iterrows():\n",
    "    print(row['name'],row['latitude'])"
   ]
  },
  {
   "cell_type": "code",
   "execution_count": 21,
   "metadata": {},
   "outputs": [
    {
     "name": "stdout",
     "output_type": "stream",
     "text": [
      "爆心地 34.39544552 132.4550527\n",
      "基町（原爆スラム/応急住宅） 34.39882171 132.4550942\n",
      "原爆スラム（応急住宅） 34.40361827 132.4555176\n",
      "旧広島市民球場 34.39716287 132.4552834\n",
      "広島城 天守閣 34.40285186 132.4591845\n"
     ]
    }
   ],
   "source": [
    "for index, row in df.iterrows():\n",
    "    print(row['name'],row['latitude'],row['longitude'])"
   ]
  },
  {
   "cell_type": "markdown",
   "metadata": {},
   "source": [
    "### サークルマーカーを使って原爆が落ちた範囲を表したMap"
   ]
  },
  {
   "cell_type": "code",
   "execution_count": 29,
   "metadata": {},
   "outputs": [
    {
     "data": {
      "text/html": [
       "<div style=\"width:100%;\"><div style=\"position:relative;width:100%;height:0;padding-bottom:60%;\"><span style=\"color:#565656\">Make this Notebook Trusted to load map: File -> Trust Notebook</span><iframe srcdoc=\"&lt;!DOCTYPE html&gt;\n",
       "&lt;html&gt;\n",
       "&lt;head&gt;\n",
       "    \n",
       "    &lt;meta http-equiv=&quot;content-type&quot; content=&quot;text/html; charset=UTF-8&quot; /&gt;\n",
       "    \n",
       "        &lt;script&gt;\n",
       "            L_NO_TOUCH = false;\n",
       "            L_DISABLE_3D = false;\n",
       "        &lt;/script&gt;\n",
       "    \n",
       "    &lt;style&gt;html, body {width: 100%;height: 100%;margin: 0;padding: 0;}&lt;/style&gt;\n",
       "    &lt;style&gt;#map {position:absolute;top:0;bottom:0;right:0;left:0;}&lt;/style&gt;\n",
       "    &lt;script src=&quot;https://cdn.jsdelivr.net/npm/leaflet@1.9.3/dist/leaflet.js&quot;&gt;&lt;/script&gt;\n",
       "    &lt;script src=&quot;https://code.jquery.com/jquery-3.7.1.min.js&quot;&gt;&lt;/script&gt;\n",
       "    &lt;script src=&quot;https://cdn.jsdelivr.net/npm/bootstrap@5.2.2/dist/js/bootstrap.bundle.min.js&quot;&gt;&lt;/script&gt;\n",
       "    &lt;script src=&quot;https://cdnjs.cloudflare.com/ajax/libs/Leaflet.awesome-markers/2.0.2/leaflet.awesome-markers.js&quot;&gt;&lt;/script&gt;\n",
       "    &lt;link rel=&quot;stylesheet&quot; href=&quot;https://cdn.jsdelivr.net/npm/leaflet@1.9.3/dist/leaflet.css&quot;/&gt;\n",
       "    &lt;link rel=&quot;stylesheet&quot; href=&quot;https://cdn.jsdelivr.net/npm/bootstrap@5.2.2/dist/css/bootstrap.min.css&quot;/&gt;\n",
       "    &lt;link rel=&quot;stylesheet&quot; href=&quot;https://netdna.bootstrapcdn.com/bootstrap/3.0.0/css/bootstrap.min.css&quot;/&gt;\n",
       "    &lt;link rel=&quot;stylesheet&quot; href=&quot;https://cdn.jsdelivr.net/npm/@fortawesome/fontawesome-free@6.2.0/css/all.min.css&quot;/&gt;\n",
       "    &lt;link rel=&quot;stylesheet&quot; href=&quot;https://cdnjs.cloudflare.com/ajax/libs/Leaflet.awesome-markers/2.0.2/leaflet.awesome-markers.css&quot;/&gt;\n",
       "    &lt;link rel=&quot;stylesheet&quot; href=&quot;https://cdn.jsdelivr.net/gh/python-visualization/folium/folium/templates/leaflet.awesome.rotate.min.css&quot;/&gt;\n",
       "    \n",
       "            &lt;meta name=&quot;viewport&quot; content=&quot;width=device-width,\n",
       "                initial-scale=1.0, maximum-scale=1.0, user-scalable=no&quot; /&gt;\n",
       "            &lt;style&gt;\n",
       "                #map_cda7a5a08c49ec232a474f6efbafa2d4 {\n",
       "                    position: relative;\n",
       "                    width: 100.0%;\n",
       "                    height: 100.0%;\n",
       "                    left: 0.0%;\n",
       "                    top: 0.0%;\n",
       "                }\n",
       "                .leaflet-container { font-size: 1rem; }\n",
       "            &lt;/style&gt;\n",
       "        \n",
       "&lt;/head&gt;\n",
       "&lt;body&gt;\n",
       "    \n",
       "    \n",
       "            &lt;div class=&quot;folium-map&quot; id=&quot;map_cda7a5a08c49ec232a474f6efbafa2d4&quot; &gt;&lt;/div&gt;\n",
       "        \n",
       "&lt;/body&gt;\n",
       "&lt;script&gt;\n",
       "    \n",
       "    \n",
       "            var map_cda7a5a08c49ec232a474f6efbafa2d4 = L.map(\n",
       "                &quot;map_cda7a5a08c49ec232a474f6efbafa2d4&quot;,\n",
       "                {\n",
       "                    center: [34.399580046000004, 132.45602648],\n",
       "                    crs: L.CRS.EPSG3857,\n",
       "                    zoom: 15,\n",
       "                    zoomControl: true,\n",
       "                    preferCanvas: false,\n",
       "                }\n",
       "            );\n",
       "\n",
       "            \n",
       "\n",
       "        \n",
       "    \n",
       "            var tile_layer_0e77b443d78f1b2e2b10340ce1badbe0 = L.tileLayer(\n",
       "                &quot;https://tile.openstreetmap.org/{z}/{x}/{y}.png&quot;,\n",
       "                {&quot;attribution&quot;: &quot;\\u56fd\\u571f\\u5730\\u7406\\u9662&quot;, &quot;detectRetina&quot;: false, &quot;maxNativeZoom&quot;: 19, &quot;maxZoom&quot;: 19, &quot;minZoom&quot;: 0, &quot;noWrap&quot;: false, &quot;opacity&quot;: 1, &quot;subdomains&quot;: &quot;abc&quot;, &quot;tms&quot;: false}\n",
       "            );\n",
       "        \n",
       "    \n",
       "            tile_layer_0e77b443d78f1b2e2b10340ce1badbe0.addTo(map_cda7a5a08c49ec232a474f6efbafa2d4);\n",
       "        \n",
       "    \n",
       "            var tile_layer_12ab92fe9a47bc529b2721bfc703ec43 = L.tileLayer(\n",
       "                &quot;https://cyberjapandata.gsi.go.jp/xyz/ort_USA10/{z}/{x}/{y}.png&quot;,\n",
       "                {&quot;attribution&quot;: &quot;\\u56fd\\u571f\\u5730\\u7406\\u9662&quot;, &quot;detectRetina&quot;: false, &quot;maxNativeZoom&quot;: 18, &quot;maxZoom&quot;: 18, &quot;minZoom&quot;: 0, &quot;noWrap&quot;: false, &quot;opacity&quot;: 1, &quot;subdomains&quot;: &quot;abc&quot;, &quot;tms&quot;: false}\n",
       "            );\n",
       "        \n",
       "    \n",
       "            tile_layer_12ab92fe9a47bc529b2721bfc703ec43.addTo(map_cda7a5a08c49ec232a474f6efbafa2d4);\n",
       "        \n",
       "    \n",
       "            var marker_8f3bb2aaaa051b0ba85642cffcf26b2d = L.marker(\n",
       "                [34.39544552, 132.4550527],\n",
       "                {}\n",
       "            ).addTo(map_cda7a5a08c49ec232a474f6efbafa2d4);\n",
       "        \n",
       "    \n",
       "            var icon_a8664a5e964a0a951ca58633ffea3957 = L.AwesomeMarkers.icon(\n",
       "                {&quot;extraClasses&quot;: &quot;fa-rotate-0&quot;, &quot;icon&quot;: &quot;info-sign&quot;, &quot;iconColor&quot;: &quot;white&quot;, &quot;markerColor&quot;: &quot;red&quot;, &quot;prefix&quot;: &quot;glyphicon&quot;}\n",
       "            );\n",
       "            marker_8f3bb2aaaa051b0ba85642cffcf26b2d.setIcon(icon_a8664a5e964a0a951ca58633ffea3957);\n",
       "        \n",
       "    \n",
       "        var popup_29f4c2a04b42d8ac5d4ba7b1d3a5ca7a = L.popup({&quot;maxWidth&quot;: &quot;100%&quot;});\n",
       "\n",
       "        \n",
       "            \n",
       "                var html_c1e49121fd1955a2591f20aae20838d6 = $(`&lt;div id=&quot;html_c1e49121fd1955a2591f20aae20838d6&quot; style=&quot;width: 100.0%; height: 100.0%;&quot;&gt;&lt;div style=&quot;width:950px&quot;&gt;爆心地&lt;/div&gt;&lt;/div&gt;`)[0];\n",
       "                popup_29f4c2a04b42d8ac5d4ba7b1d3a5ca7a.setContent(html_c1e49121fd1955a2591f20aae20838d6);\n",
       "            \n",
       "        \n",
       "\n",
       "        marker_8f3bb2aaaa051b0ba85642cffcf26b2d.bindPopup(popup_29f4c2a04b42d8ac5d4ba7b1d3a5ca7a)\n",
       "        ;\n",
       "\n",
       "        \n",
       "    \n",
       "    \n",
       "            marker_8f3bb2aaaa051b0ba85642cffcf26b2d.bindTooltip(\n",
       "                `&lt;div&gt;\n",
       "                     爆心地\n",
       "                 &lt;/div&gt;`,\n",
       "                {&quot;sticky&quot;: true}\n",
       "            );\n",
       "        \n",
       "    \n",
       "            var marker_e6c261a6423afcc17a07d1521bf564d1 = L.marker(\n",
       "                [34.39882171, 132.4550942],\n",
       "                {}\n",
       "            ).addTo(map_cda7a5a08c49ec232a474f6efbafa2d4);\n",
       "        \n",
       "    \n",
       "            var icon_8c250256bb2af1621f9408ae1e3dc1ab = L.AwesomeMarkers.icon(\n",
       "                {&quot;extraClasses&quot;: &quot;fa-rotate-0&quot;, &quot;icon&quot;: &quot;info-sign&quot;, &quot;iconColor&quot;: &quot;white&quot;, &quot;markerColor&quot;: &quot;green&quot;, &quot;prefix&quot;: &quot;glyphicon&quot;}\n",
       "            );\n",
       "            marker_e6c261a6423afcc17a07d1521bf564d1.setIcon(icon_8c250256bb2af1621f9408ae1e3dc1ab);\n",
       "        \n",
       "    \n",
       "        var popup_9603767601692b066e7f2a308dbd5fc3 = L.popup({&quot;maxWidth&quot;: &quot;100%&quot;});\n",
       "\n",
       "        \n",
       "            \n",
       "                var html_35158afa1e4f0059f32e42ac3d735734 = $(`&lt;div id=&quot;html_35158afa1e4f0059f32e42ac3d735734&quot; style=&quot;width: 100.0%; height: 100.0%;&quot;&gt;&lt;div style=&quot;width:950px&quot;&gt;基町（原爆スラム/応急住宅）&lt;/div&gt;&lt;/div&gt;`)[0];\n",
       "                popup_9603767601692b066e7f2a308dbd5fc3.setContent(html_35158afa1e4f0059f32e42ac3d735734);\n",
       "            \n",
       "        \n",
       "\n",
       "        marker_e6c261a6423afcc17a07d1521bf564d1.bindPopup(popup_9603767601692b066e7f2a308dbd5fc3)\n",
       "        ;\n",
       "\n",
       "        \n",
       "    \n",
       "    \n",
       "            marker_e6c261a6423afcc17a07d1521bf564d1.bindTooltip(\n",
       "                `&lt;div&gt;\n",
       "                     基町（原爆スラム/応急住宅）\n",
       "                 &lt;/div&gt;`,\n",
       "                {&quot;sticky&quot;: true}\n",
       "            );\n",
       "        \n",
       "    \n",
       "            var marker_d72b1fab1c5c29dffd5d986980024a0c = L.marker(\n",
       "                [34.40361827, 132.4555176],\n",
       "                {}\n",
       "            ).addTo(map_cda7a5a08c49ec232a474f6efbafa2d4);\n",
       "        \n",
       "    \n",
       "            var icon_9c03fb6ebf82a9be0b5c04fcab7b5bb1 = L.AwesomeMarkers.icon(\n",
       "                {&quot;extraClasses&quot;: &quot;fa-rotate-0&quot;, &quot;icon&quot;: &quot;info-sign&quot;, &quot;iconColor&quot;: &quot;white&quot;, &quot;markerColor&quot;: &quot;lightgreen&quot;, &quot;prefix&quot;: &quot;glyphicon&quot;}\n",
       "            );\n",
       "            marker_d72b1fab1c5c29dffd5d986980024a0c.setIcon(icon_9c03fb6ebf82a9be0b5c04fcab7b5bb1);\n",
       "        \n",
       "    \n",
       "        var popup_4c06304e6df41011435dcb62899678ec = L.popup({&quot;maxWidth&quot;: &quot;100%&quot;});\n",
       "\n",
       "        \n",
       "            \n",
       "                var html_129ec2c7a63e3b1dee6ccc332ebcf979 = $(`&lt;div id=&quot;html_129ec2c7a63e3b1dee6ccc332ebcf979&quot; style=&quot;width: 100.0%; height: 100.0%;&quot;&gt;&lt;div style=&quot;width:950px&quot;&gt;原爆スラム（応急住宅）&lt;/div&gt;&lt;/div&gt;`)[0];\n",
       "                popup_4c06304e6df41011435dcb62899678ec.setContent(html_129ec2c7a63e3b1dee6ccc332ebcf979);\n",
       "            \n",
       "        \n",
       "\n",
       "        marker_d72b1fab1c5c29dffd5d986980024a0c.bindPopup(popup_4c06304e6df41011435dcb62899678ec)\n",
       "        ;\n",
       "\n",
       "        \n",
       "    \n",
       "    \n",
       "            marker_d72b1fab1c5c29dffd5d986980024a0c.bindTooltip(\n",
       "                `&lt;div&gt;\n",
       "                     原爆スラム（応急住宅）\n",
       "                 &lt;/div&gt;`,\n",
       "                {&quot;sticky&quot;: true}\n",
       "            );\n",
       "        \n",
       "    \n",
       "            var marker_eaae4b9025173992c24822e270d1cbc4 = L.marker(\n",
       "                [34.39716287, 132.4552834],\n",
       "                {}\n",
       "            ).addTo(map_cda7a5a08c49ec232a474f6efbafa2d4);\n",
       "        \n",
       "    \n",
       "            var icon_109b3d050ab3a617309326046c073f85 = L.AwesomeMarkers.icon(\n",
       "                {&quot;extraClasses&quot;: &quot;fa-rotate-0&quot;, &quot;icon&quot;: &quot;info-sign&quot;, &quot;iconColor&quot;: &quot;white&quot;, &quot;markerColor&quot;: &quot;lightgreen&quot;, &quot;prefix&quot;: &quot;glyphicon&quot;}\n",
       "            );\n",
       "            marker_eaae4b9025173992c24822e270d1cbc4.setIcon(icon_109b3d050ab3a617309326046c073f85);\n",
       "        \n",
       "    \n",
       "        var popup_76c44b8a84a4c1c411b7f8802bc5b2d7 = L.popup({&quot;maxWidth&quot;: &quot;100%&quot;});\n",
       "\n",
       "        \n",
       "            \n",
       "                var html_b4879ab9cad36cafde52bef8f6445408 = $(`&lt;div id=&quot;html_b4879ab9cad36cafde52bef8f6445408&quot; style=&quot;width: 100.0%; height: 100.0%;&quot;&gt;&lt;div style=&quot;width:950px&quot;&gt;旧広島市民球場&lt;/div&gt;&lt;/div&gt;`)[0];\n",
       "                popup_76c44b8a84a4c1c411b7f8802bc5b2d7.setContent(html_b4879ab9cad36cafde52bef8f6445408);\n",
       "            \n",
       "        \n",
       "\n",
       "        marker_eaae4b9025173992c24822e270d1cbc4.bindPopup(popup_76c44b8a84a4c1c411b7f8802bc5b2d7)\n",
       "        ;\n",
       "\n",
       "        \n",
       "    \n",
       "    \n",
       "            marker_eaae4b9025173992c24822e270d1cbc4.bindTooltip(\n",
       "                `&lt;div&gt;\n",
       "                     旧広島市民球場\n",
       "                 &lt;/div&gt;`,\n",
       "                {&quot;sticky&quot;: true}\n",
       "            );\n",
       "        \n",
       "    \n",
       "            var marker_2d82c97a4d67f148f7b5397deec10deb = L.marker(\n",
       "                [34.40285186, 132.4591845],\n",
       "                {}\n",
       "            ).addTo(map_cda7a5a08c49ec232a474f6efbafa2d4);\n",
       "        \n",
       "    \n",
       "            var icon_264e94820686df2416dacb725fa0a103 = L.AwesomeMarkers.icon(\n",
       "                {&quot;extraClasses&quot;: &quot;fa-rotate-0&quot;, &quot;icon&quot;: &quot;info-sign&quot;, &quot;iconColor&quot;: &quot;white&quot;, &quot;markerColor&quot;: &quot;blue&quot;, &quot;prefix&quot;: &quot;glyphicon&quot;}\n",
       "            );\n",
       "            marker_2d82c97a4d67f148f7b5397deec10deb.setIcon(icon_264e94820686df2416dacb725fa0a103);\n",
       "        \n",
       "    \n",
       "        var popup_62b08fcd0907b0f7980b11e711e4b134 = L.popup({&quot;maxWidth&quot;: &quot;100%&quot;});\n",
       "\n",
       "        \n",
       "            \n",
       "                var html_425196aa244b310618108022ebc46d36 = $(`&lt;div id=&quot;html_425196aa244b310618108022ebc46d36&quot; style=&quot;width: 100.0%; height: 100.0%;&quot;&gt;&lt;div style=&quot;width:950px&quot;&gt;広島城 天守閣&lt;/div&gt;&lt;/div&gt;`)[0];\n",
       "                popup_62b08fcd0907b0f7980b11e711e4b134.setContent(html_425196aa244b310618108022ebc46d36);\n",
       "            \n",
       "        \n",
       "\n",
       "        marker_2d82c97a4d67f148f7b5397deec10deb.bindPopup(popup_62b08fcd0907b0f7980b11e711e4b134)\n",
       "        ;\n",
       "\n",
       "        \n",
       "    \n",
       "    \n",
       "            marker_2d82c97a4d67f148f7b5397deec10deb.bindTooltip(\n",
       "                `&lt;div&gt;\n",
       "                     広島城 天守閣\n",
       "                 &lt;/div&gt;`,\n",
       "                {&quot;sticky&quot;: true}\n",
       "            );\n",
       "        \n",
       "    \n",
       "            var circle_6516194e5d46d1107c9bb3aeb64d9d67 = L.circle(\n",
       "                [34.39544552, 132.4550527],\n",
       "                {&quot;bubblingMouseEvents&quot;: true, &quot;color&quot;: &quot;#ff0000&quot;, &quot;dashArray&quot;: null, &quot;dashOffset&quot;: null, &quot;fill&quot;: true, &quot;fillColor&quot;: &quot;#0000ff&quot;, &quot;fillOpacity&quot;: 0.2, &quot;fillRule&quot;: &quot;evenodd&quot;, &quot;lineCap&quot;: &quot;round&quot;, &quot;lineJoin&quot;: &quot;round&quot;, &quot;opacity&quot;: 1.0, &quot;radius&quot;: 2000, &quot;stroke&quot;: true, &quot;weight&quot;: 3}\n",
       "            ).addTo(map_cda7a5a08c49ec232a474f6efbafa2d4);\n",
       "        \n",
       "&lt;/script&gt;\n",
       "&lt;/html&gt;\" style=\"position:absolute;width:100%;height:100%;left:0;top:0;border:none !important;\" allowfullscreen webkitallowfullscreen mozallowfullscreen></iframe></div></div>"
      ],
      "text/plain": [
       "<folium.folium.Map at 0x149c13510>"
      ]
     },
     "execution_count": 29,
     "metadata": {},
     "output_type": "execute_result"
    }
   ],
   "source": [
    "# make the map\n",
    "m = folium.Map(location=[center_lat,center_lon],\n",
    "               zoom_start=15,\n",
    "               attr = '国土地理院')\n",
    "\n",
    "# add basemaps\n",
    "folium.TileLayer(name='1945',tiles='https://cyberjapandata.gsi.go.jp/xyz/ort_USA10/{z}/{x}/{y}.png',attr='国土地理院').add_to(m)\n",
    "\n",
    "\n",
    "# df をループしてマーカーを作る\n",
    "for index, row in df.iterrows():\n",
    "    latlon = [row['latitude'],row['longitude']]\n",
    "    folium.Marker(latlon,\n",
    "                  popup='<div style=\"width:950px\">'+row['name']+'</div>',\n",
    "                  tooltip=row['name'],\n",
    "                  icon=folium.Icon(color=row['color']\n",
    "                )).add_to(m)\n",
    "    \n",
    "# サークルマーカープロット(外径色は赤，内径色は青)\n",
    "folium.Circle(\n",
    "    location=[34.39544552,132.4550527],\n",
    "    radius=2000,\n",
    "    color='#ff0000',\n",
    "    fill_color='#0000ff'\n",
    ").add_to(m)\n",
    "\n",
    "# show the map\n",
    "m"
   ]
  },
  {
   "cell_type": "markdown",
   "metadata": {},
   "source": [
    "# 復興場所\n",
    "## 1.**基町エリア（旧広島市民球場）**\n",
    "## 2.**広島城 天守閣** "
   ]
  },
  {
   "cell_type": "markdown",
   "metadata": {},
   "source": [
    "## 実際の原爆ドーム付近の写真"
   ]
  },
  {
   "cell_type": "markdown",
   "metadata": {},
   "source": [
    "![Alt text](IMG_1129b.png)"
   ]
  },
  {
   "cell_type": "markdown",
   "metadata": {},
   "source": []
  },
  {
   "cell_type": "markdown",
   "metadata": {},
   "source": [
    "# 1.基町エリア　旧広島市民球場"
   ]
  },
  {
   "cell_type": "markdown",
   "metadata": {},
   "source": [
    "## ここは基町（もとまち）という広島市中区の町の名前である。\n",
    "### 当時は軍が利用した場所だったたが、市民も利用可能な場所であり憩いの場でもあったという。\n",
    "### 基町は爆心地から１km以内に位置したため壊滅的な被害を受ける。\n",
    "\n",
    "\n",
    "\n"
   ]
  },
  {
   "cell_type": "markdown",
   "metadata": {},
   "source": [
    "## （旧）広島市民球場　（HIROSHIMA GATE PARK）  \n",
    "### まだ被爆後は荒地であった場所を1957年7月に広島市民球場が完成し、日本プロ野球・セントラル・リーグの広島東洋カープが本拠地として2009年3月31日まで用いた。2010年以降は旧広島市民球場の名称で主にアマチュア野球に使用されていたが、2010年9月1日に閉鎖され、2012年に解体された。現在はひろしまゲートパークとして生まれ変わっている。"
   ]
  },
  {
   "cell_type": "code",
   "execution_count": 23,
   "metadata": {},
   "outputs": [
    {
     "data": {
      "application/vnd.jupyter.widget-view+json": {
       "model_id": "2d427b50ddca4063ad4b10a594605013",
       "version_major": 2,
       "version_minor": 0
      },
      "text/plain": [
       "GridspecLayout(children=(Output(layout=Layout(grid_area='widget001')), Output(layout=Layout(grid_area='widget0…"
      ]
     },
     "execution_count": 23,
     "metadata": {},
     "output_type": "execute_result"
    }
   ],
   "source": [
    "# （旧）広島市民球場(HIROSHIMA GATE PARK)の緯度経度を指定\n",
    "hiroshima = [34.39719724,132.4549863]\n",
    "\n",
    "# ベースマップを指定\n",
    "layers = ['https://cyberjapandata.gsi.go.jp/xyz/ort_USA10/{z}/{x}/{y}.png',\n",
    "        'https://cyberjapandata.gsi.go.jp/xyz/ort_old10/{z}/{x}/{y}.png', \n",
    "        'https://cyberjapandata.gsi.go.jp/xyz/gazo4/{z}/{x}/{y}.jpg',\n",
    "        'https://mt1.google.com/vt/lyrs=y&x={x}&y={y}&z={z}']\n",
    "# ラベルを指定\n",
    "labels = ['1945','1961','1981','2024']\n",
    "\n",
    "# マップを作成\n",
    "m = leafmap.linked_maps(\n",
    "    rows=1, \n",
    "    cols=4, \n",
    "    height='400px', \n",
    "    layers=layers, \n",
    "    center=hiroshima, \n",
    "    zoom_control=False,\n",
    "    search_control=False,\n",
    "    scale_control=False,\n",
    "    attribution_control=False,\n",
    "    zoom=17,\n",
    "    labels=labels,)\n",
    "\n",
    "m"
   ]
  },
  {
   "cell_type": "markdown",
   "metadata": {},
   "source": [
    "## 当時の広島市民球場のようす  \n",
    "![Alt](広島市民球場..png)"
   ]
  },
  {
   "cell_type": "markdown",
   "metadata": {},
   "source": [
    "## 原爆ドームと市民球場  \n",
    "![Alt](市民球場原爆ドーム.png)"
   ]
  },
  {
   "cell_type": "markdown",
   "metadata": {},
   "source": [
    "## 旧市民球場からHIROSHIMA GATE PARKへ\n",
    "![Alt](広島ゲートパーク.png)"
   ]
  },
  {
   "cell_type": "markdown",
   "metadata": {},
   "source": [
    "# 2.広島城　天守閣\n",
    "### 爆心地から1km離れた広島城は原爆によって崩れ落ち石垣だけとなってしまった。\n",
    "### 復興が進む中、広島城再建の声が高まり、1958年の「広島復興大博覧会」に合わせて現在の広島城に復元された。"
   ]
  },
  {
   "cell_type": "code",
   "execution_count": 24,
   "metadata": {},
   "outputs": [
    {
     "data": {
      "application/vnd.jupyter.widget-view+json": {
       "model_id": "6c9ad51bd26649c0a85ed3071455cd96",
       "version_major": 2,
       "version_minor": 0
      },
      "text/plain": [
       "GridspecLayout(children=(Output(layout=Layout(grid_area='widget001')), Output(layout=Layout(grid_area='widget0…"
      ]
     },
     "execution_count": 24,
     "metadata": {},
     "output_type": "execute_result"
    }
   ],
   "source": [
    "# 広島城 天守閣の緯度経度を指定\n",
    "hiroshima = [34.40272253,132.4592946]\n",
    "\n",
    "# ベースマップを指定\n",
    "layers = ['https://cyberjapandata.gsi.go.jp/xyz/ort_USA10/{z}/{x}/{y}.png',\n",
    "        'https://cyberjapandata.gsi.go.jp/xyz/ort_old10/{z}/{x}/{y}.png', \n",
    "        'https://cyberjapandata.gsi.go.jp/xyz/gazo4/{z}/{x}/{y}.jpg',\n",
    "        'https://mt1.google.com/vt/lyrs=y&x={x}&y={y}&z={z}']\n",
    "# ラベルを指定\n",
    "labels = ['1945','1961','1981','2024']\n",
    "\n",
    "# マップを作成\n",
    "m = leafmap.linked_maps(\n",
    "    rows=1, \n",
    "    cols=4, \n",
    "    height='400px', \n",
    "    layers=layers, \n",
    "    center=hiroshima, \n",
    "    zoom_control=False,\n",
    "    search_control=False,\n",
    "    scale_control=False,\n",
    "    attribution_control=False,\n",
    "    zoom=17,\n",
    "    labels=labels,)\n",
    "\n",
    "m"
   ]
  },
  {
   "cell_type": "markdown",
   "metadata": {},
   "source": [
    "## 被爆後の広島城  \n",
    "![Alt](hirocastle.png)\n",
    "![Alt](hiroshimacas1945.png)"
   ]
  },
  {
   "cell_type": "markdown",
   "metadata": {},
   "source": [
    "## 1958年 広島城復興後 広島大復興展覧会\n",
    "![Alt](hiroshimacas1958.png)"
   ]
  },
  {
   "cell_type": "markdown",
   "metadata": {},
   "source": [
    "##   現在の広島城  \n",
    "![Alt](広島城.png)"
   ]
  },
  {
   "cell_type": "markdown",
   "metadata": {},
   "source": [
    "# 1945年と2024年"
   ]
  },
  {
   "cell_type": "code",
   "execution_count": 25,
   "metadata": {},
   "outputs": [
    {
     "data": {
      "application/vnd.jupyter.widget-view+json": {
       "model_id": "4d088cd25be14fd1a1a5d717d245e746",
       "version_major": 2,
       "version_minor": 0
      },
      "text/plain": [
       "Map(center=[34.39544552, 132.4550527], controls=(ZoomControl(options=['position', 'zoom_in_text', 'zoom_in_tit…"
      ]
     },
     "execution_count": 25,
     "metadata": {},
     "output_type": "execute_result"
    }
   ],
   "source": [
    "hiroshima=[34.39544552,132.4550527]\n",
    "m = leafmap.split_map(\n",
    "    left_layer=\"https://cyberjapandata.gsi.go.jp/xyz/ort_USA10/{z}/{x}/{y}.png\",\n",
    "    right_layer=\"https://mt1.google.com/vt/lyrs=y&x={x}&y={y}&z={z}\",\n",
    "    left_label=\"1945\",\n",
    "    right_label=\"2024\",\n",
    "    left_position=\"bottom\",\n",
    "    center=hiroshima, \n",
    "    attribution_control=False,\n",
    "    zoom=14.5,\n",
    ")\n",
    "\n",
    "#爆心地\n",
    "m.add_markers(\n",
    "    markers=[hiroshima, [34.39544552,132.4550527]],\n",
    "    shape='circle',\n",
    "    radius=20,\n",
    "    color='red',\n",
    "    fill_color='#ff0000',\n",
    "    fill_opacity=0.5,\n",
    ")\n",
    "\n",
    "#基町エリア\n",
    "m.add_markers(\n",
    "    markers=[hiroshima, [34.39882171,132.4550942]],\n",
    "    shape='circle',\n",
    "    radius=10,\n",
    "    color='green',\n",
    "    fill_color='#00ff00',\n",
    "    fill_opacity=0.5,\n",
    ")\n",
    "\n",
    "#原爆スラム（応急住宅）\n",
    "m.add_markers(\n",
    "    markers=[hiroshima, [34.40361827,132.4555176]],\n",
    "    shape='circle',\n",
    "    radius=10,\n",
    "    color='lightgreen',\n",
    "    fill_color='#ffff00',\n",
    "    fill_opacity=0.5,\n",
    ")\n",
    "\n",
    "#旧広島市民球場\n",
    "m.add_markers(\n",
    "    markers=[hiroshima, [34.39719724,132.4549863]],\n",
    "    shape='circle',\n",
    "    radius=10,\n",
    "    color='lightgreen',\n",
    "    fill_color='#ffff00',\n",
    "    fill_opacity=0.5,\n",
    ")\n",
    "\n",
    "#広島城 天守閣\n",
    "m.add_markers(\n",
    "    markers=[hiroshima, [34.40272253,132.4592946]],\n",
    "    shape='circle',\n",
    "    radius=10,\n",
    "    color='blue',\n",
    "    fill_color='#0000FF',\n",
    "    fill_opacity=0.5,\n",
    ")\n",
    "\n",
    "\n",
    "\n",
    "m"
   ]
  }
 ],
 "metadata": {
  "kernelspec": {
   "display_name": "gis",
   "language": "python",
   "name": "python3"
  },
  "language_info": {
   "codemirror_mode": {
    "name": "ipython",
    "version": 3
   },
   "file_extension": ".py",
   "mimetype": "text/x-python",
   "name": "python",
   "nbconvert_exporter": "python",
   "pygments_lexer": "ipython3",
   "version": "3.11.5"
  }
 },
 "nbformat": 4,
 "nbformat_minor": 2
}
